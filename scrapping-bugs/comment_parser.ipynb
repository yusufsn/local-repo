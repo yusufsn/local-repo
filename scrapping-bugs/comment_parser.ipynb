{
 "cells": [
  {
   "cell_type": "code",
   "execution_count": 1,
   "metadata": {
    "collapsed": true
   },
   "outputs": [],
   "source": [
    "import tokenize, io, os"
   ]
  },
  {
   "cell_type": "code",
   "execution_count": 11,
   "metadata": {
    "scrolled": true
   },
   "outputs": [
    {
     "data": {
      "text/plain": [
       "['# coding=utf-8',\n",
       " '# Requires Python 2.7, should be safe to use with jython.',\n",
       " '# Just to make sure not to break anything, in case py3.x is not supported.',\n",
       " '# TODO What to do if base directory could not be found?',\n",
       " '# Important directories of the JabRef repository',\n",
       " '# Important files',\n",
       " '# the main property file gets compared to itself, but that is OK',\n",
       " '# for missing_key in keys_missing:',\n",
       " '# Missing keys are added with main translation by default.',\n",
       " '# keys[missing_key] = main_keys_dict[missing_key]',\n",
       " '# Do not write empty keys',\n",
       " '# markdown parser',\n",
       " '# TODO add argument to pass a file name for the markdown file',\n",
       " '# status parser',\n",
       " '# update parser',\n",
       " '# print parser']"
      ]
     },
     "execution_count": 11,
     "metadata": {},
     "output_type": "execute_result"
    }
   ],
   "source": [
    "comm = []\n",
    "userhome = os.path.expanduser(\"~\")\n",
    "# c_source_file = userhome + '/different-diff/dataset/butterknife/deploy_website.sh'\n",
    "c_source_file = userhome + '/different-diff/dataset/jabref/scripts/syncLang.py'\n",
    "# c_source_file = userhome + '/different-diff/dataset/jabref/src/main/java/org/jabref/Globals.java'\n",
    "\n",
    "c_src = open(c_source_file).read()\n",
    "\n",
    "buf = io.StringIO(c_src)\n",
    "\n",
    "for line in tokenize.generate_tokens(buf.readline):\n",
    "    if line.type == tokenize.COMMENT:\n",
    "        comm.append(line.string)\n",
    "#         print(line.string)\n",
    "comm"
   ]
  },
  {
   "cell_type": "code",
   "execution_count": 12,
   "metadata": {
    "collapsed": true
   },
   "outputs": [],
   "source": [
    "userhome = os.path.expanduser(\"~\")\n",
    "# c_source_file = userhome + '/different-diff/dataset/jabref/scripts/syncLang.py'\n",
    "# c_source_file = userhome + '/different-diff/dataset/jabref/src/main/java/org/jabref/Globals.java'\n",
    "c_source_file = userhome + '/different-diff/dataset/butterknife/deploy_website.sh'\n",
    "\n",
    "c_src = open(c_source_file).read()\n",
    "\n",
    "def extract(code):\n",
    "    res = []\n",
    "    comment = None\n",
    "    stringio = io.StringIO(code)\n",
    "    # pass in stringio.readline to generate_tokens\n",
    "    for toktype, tokval, begin, end, line in tokenize.generate_tokens(stringio.readline):\n",
    "        if toktype != tokenize.COMMENT:\n",
    "            res.append((toktype, tokval))\n",
    "        else:\n",
    "            # wrap (toktype, tokval) tupple in list\n",
    "            print (tokenize.untokenize([(toktype, tokval)]))\n",
    "    return tokenize.untokenize(res)"
   ]
  },
  {
   "cell_type": "code",
   "execution_count": 13,
   "metadata": {},
   "outputs": [
    {
     "name": "stdout",
     "output_type": "stream",
     "text": [
      "#!/bin/bash\n",
      "# Delete any existing temporary website clone\n",
      "# Clone the current repo into temp folder\n",
      "# Move working directory into temp folder\n",
      "# Checkout and track the gh-pages branch\n",
      "# Delete everything\n",
      "# Copy website files from real repo\n",
      "# Download the latest javadoc\n",
      "# Stage all files in git and create a commit\n",
      "# Push the new files up to GitHub\n",
      "# Delete our temp folder\n"
     ]
    }
   ],
   "source": [
    "expr = extract(c_src)"
   ]
  },
  {
   "cell_type": "code",
   "execution_count": null,
<<<<<<< HEAD
   "metadata": {
    "collapsed": true
   },
=======
   "metadata": {},
>>>>>>> 466ccbc13355cb986b513cee7b65a24b7dcbe8df
   "outputs": [],
   "source": []
  },
  {
   "cell_type": "code",
   "execution_count": null,
   "metadata": {
    "collapsed": true
   },
   "outputs": [],
   "source": []
  }
 ],
 "metadata": {
  "kernelspec": {
   "display_name": "Python 3",
   "language": "python",
   "name": "python3"
  },
  "language_info": {
   "codemirror_mode": {
    "name": "ipython",
    "version": 3
   },
   "file_extension": ".py",
   "mimetype": "text/x-python",
   "name": "python",
   "nbconvert_exporter": "python",
   "pygments_lexer": "ipython3",
   "version": "3.6.3"
  }
 },
 "nbformat": 4,
 "nbformat_minor": 2
}
