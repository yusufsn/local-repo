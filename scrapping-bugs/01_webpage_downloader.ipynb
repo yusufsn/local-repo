{
 "cells": [
  {
   "cell_type": "code",
   "execution_count": 1,
   "metadata": {
    "collapsed": true
   },
   "outputs": [],
   "source": [
    "import urllib, sys, os"
   ]
  },
  {
   "cell_type": "code",
   "execution_count": 4,
   "metadata": {
    "collapsed": true
   },
   "outputs": [],
   "source": [
    "userhome = os.path.expanduser('~')\n",
    "main_dir = userhome + r'/scrapping-bugs/'\n",
    "bugidentifier = \"AMQ\""
   ]
  },
  {
   "cell_type": "code",
   "execution_count": 5,
   "metadata": {
    "collapsed": true
   },
   "outputs": [],
   "source": [
    "url = \"https://issues.apache.org/jira/browse/\" + bugidentifier + \"-\""
   ]
  },
  {
   "cell_type": "code",
   "execution_count": 6,
   "metadata": {},
   "outputs": [
    {
     "name": "stdout",
     "output_type": "stream",
     "text": [
      "Extracting web page on bug id: AMQ-4035\n",
      "Extraction is complete\n"
     ]
    }
   ],
   "source": [
    "errorpage = []\n",
    "for i in range(4031,4036):\n",
    "    sys.stdout.write(\"\\rExtracting web page on bug id: \" + bugidentifier + \"-%i\" %(i))\n",
    "    sys.stdout.flush()\n",
    "    \n",
    "    try:\n",
    "        response = urllib.request.urlopen(url + str(i))\n",
    "        mystr = response.read()\n",
    "        webcontent = mystr.decode(\"utf8\")\n",
    "        response.close()\n",
    "        \n",
    "        html_file = open(main_dir + \"webdata/webfile_page_\" + bugidentifier + \"-\" + str(i) + \n",
    "                         \".html\",\"w\")\n",
    "        html_file.write(webcontent)\n",
    "        html_file.close()\n",
    "    except:\n",
    "        errorpage.append(i)\n",
    "print (\"\\nExtraction is complete\")"
   ]
  },
  {
   "cell_type": "code",
   "execution_count": 7,
   "metadata": {},
   "outputs": [
    {
     "data": {
      "text/plain": [
       "[]"
      ]
     },
     "execution_count": 7,
     "metadata": {},
     "output_type": "execute_result"
    }
   ],
   "source": [
    "errorpage"
   ]
  },
  {
   "cell_type": "code",
   "execution_count": null,
   "metadata": {
    "collapsed": true
   },
   "outputs": [],
   "source": []
  }
 ],
 "metadata": {
  "kernelspec": {
   "display_name": "Python 3",
   "language": "python",
   "name": "python3"
  },
  "language_info": {
   "codemirror_mode": {
    "name": "ipython",
    "version": 3
   },
   "file_extension": ".py",
   "mimetype": "text/x-python",
   "name": "python",
   "nbconvert_exporter": "python",
   "pygments_lexer": "ipython3",
   "version": "3.6.3"
  }
 },
 "nbformat": 4,
 "nbformat_minor": 2
}
