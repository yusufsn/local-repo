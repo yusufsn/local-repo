{
 "cells": [
  {
   "cell_type": "markdown",
   "metadata": {},
   "source": [
    "# Import libraries"
   ]
  },
  {
   "cell_type": "code",
   "execution_count": 1,
   "metadata": {
    "collapsed": true
   },
   "outputs": [],
   "source": [
    "import os, glob, csv, sys, re\n",
    "from os import path\n",
    "import pandas as pd\n",
    "from bs4 import BeautifulSoup\n",
    "import tensorflow"
<<<<<<< HEAD
   ]
  },
  {
   "cell_type": "markdown",
   "metadata": {},
   "source": [
    "Set directory"
=======
>>>>>>> 466ccbc13355cb986b513cee7b65a24b7dcbe8df
   ]
  },
  {
   "cell_type": "code",
   "execution_count": 2,
   "metadata": {
    "collapsed": true
   },
   "outputs": [],
   "source": [
    "userhome = os.path.expanduser(\"~\")\n",
    "datasource = userhome + r\"/local-repo/scrapping-bugs/webdata/\"\n",
    "analyze_dir = userhome + r\"/local-repo/scrapping-bugs/analyze/\""
   ]
  },
  {
   "cell_type": "code",
   "execution_count": 3,
   "metadata": {},
   "outputs": [
    {
     "name": "stdout",
     "output_type": "stream",
     "text": [
      "Found 5 files\n"
     ]
    }
   ],
   "source": [
    "file_list = glob.iglob(datasource + \"*\")\n",
    "filenum = \";\".join(file_list).split(';')\n",
    "filenum.sort()\n",
    "print (\"Found \" + str(len(filenum)) + \" files\")"
   ]
  },
  {
   "cell_type": "code",
   "execution_count": 4,
   "metadata": {},
   "outputs": [
    {
     "data": {
      "text/plain": [
       "['/Users/YusufNugroho/local-repo/scrapping-bugs/webdata/webfile_page_AMQ-4031.html',\n",
       " '/Users/YusufNugroho/local-repo/scrapping-bugs/webdata/webfile_page_AMQ-4032.html',\n",
       " '/Users/YusufNugroho/local-repo/scrapping-bugs/webdata/webfile_page_AMQ-4033.html',\n",
       " '/Users/YusufNugroho/local-repo/scrapping-bugs/webdata/webfile_page_AMQ-4034.html',\n",
       " '/Users/YusufNugroho/local-repo/scrapping-bugs/webdata/webfile_page_AMQ-4035.html']"
      ]
     },
     "execution_count": 4,
     "metadata": {},
     "output_type": "execute_result"
    }
   ],
   "source": [
    "filenum"
   ]
  },
  {
   "cell_type": "code",
   "execution_count": 5,
   "metadata": {},
   "outputs": [
    {
     "name": "stdout",
     "output_type": "stream",
     "text": [
      "\n",
      "<!DOCTYPE html>\n",
      "<html lang=\"en\">\n",
      "<head>\n",
      "    \n",
      "\n",
      "\n",
      "\n",
      "\n",
      "\n",
      "\n",
      "<meta charset=\"utf-8\">\n",
      "<meta http-equiv=\"X-UA-Compatible\" content=\"IE=Edge\"/>\n",
      "<meta name=\"application-name\" content=\"JIRA\" data-name=\"jira\" data-version=\"7.6.3\"><meta name=\"ajs-viewissue-use-history-api\" content=\"false\">\n",
      "<meta name=\"ajs-jira-base-url\" content=\"https://issues.apache.org/jira\">\n",
      "<meta name=\"ajs-serverRenderedViewIssue\" content=\"true\">\n",
      "<meta name=\"ajs-dev-mode\" content=\"false\">\n",
      "<meta name=\"ajs-context-path\" content=\"/jira\">\n",
      "<meta name=\"ajs-version-number\" content=\"7.6.3\">\n",
      "<meta name=\"ajs-build-number\" content=\"76005\">\n",
      "<meta name=\"ajs-is-beta\" content=\"false\">\n",
      "<meta name=\"ajs-is-rc\" content=\"false\">\n",
      "<meta name=\"ajs-is-snapshot\" content=\"false\">\n",
      "<meta name=\"ajs-is-milestone\" content=\"false\">\n",
      "<meta name=\"ajs-remote-user\" content=\"\">\n",
      "<meta name=\"ajs-remote-user-fullname\" content=\"\">\n",
      "<meta name=\"ajs-user-locale\" content=\"en_UK\">\n",
      "<meta name=\"ajs-user-locale-group-separator\" content=\",\">\n",
      "<meta name=\"ajs-app-title\" content=\"ASF JIRA\">\n",
      "<meta name=\"ajs-keyboard-shortcuts-enabled\" content=\"true\">\n",
      "<meta name=\"ajs-keyboard-accesskey-modifier\" content=\"Alt\">\n",
      "<meta name=\"ajs-enabled-dark-features\" content=\"[&quot;com.atlassian.jira.agile.darkfeature.editable.detailsview&quot;,&quot;nps.survey.inline.dialog&quot;,&quot;com.atlassian.jira.agile.darkfeature.edit.closed.sprint.enabled&quot;,&quot;jira.plugin.devstatus.phasetwo&quot;,&quot;jira.frother.reporter.field&quot;,&quot;atlassian.rest.xsrf.legacy.enabled&quot;,&quot;jira.issue.status.lozenge&quot;,&quot;com.atlassian.jira.config.BIG_PIPE&quot;,&quot;com.atlassian.jira.projects.issuenavigator&quot;,&quot;com.atlassian.jira.config.PDL&quot;,&quot;jira.plugin.devstatus.phasetwo.enabled&quot;,&quot;atlassian.aui.raphael.disabled&quot;,&quot;app-switcher.new&quot;,&quot;frother.assignee.field&quot;,&quot;com.atlassian.jira.projects.ProjectCentricNavigation.Switch&quot;,&quot;sd.internal.base.off.thread.on.completion.events.enabled&quot;,&quot;jira.onboarding.cyoa&quot;,&quot;com.atlassian.jira.agile.darkfeature.kanplan.enabled&quot;,&quot;sd.slavalue.record.updated.date.enabled&quot;,&quot;com.atlassian.jira.config.ProjectConfig.MENU&quot;,&quot;com.atlassian.jira.projects.sidebar.DEFER_RESOURCES&quot;,&quot;com.atlassian.jira.agile.darkfeature.kanplan.epics.and.versions.enabled&quot;,&quot;com.atlassian.jira.agile.darkfeature.sprint.goal.enabled&quot;,&quot;jira.zdu.admin-updates-ui&quot;,&quot;jira.zdu.jmx-monitoring&quot;,&quot;sd.sla.improved.rendering.enabled&quot;,&quot;sd.canned.responses.enabled&quot;,&quot;sd.new.settings.sidebar.location.disabled&quot;,&quot;jira.zdu.cluster-upgrade-state&quot;,&quot;com.atlassian.jira.agile.darkfeature.splitissue&quot;,&quot;com.atlassian.jira.config.CoreFeatures.LICENSE_ROLES_ENABLED&quot;,&quot;com.atlassian.feedback.feedback-button-move-to-header-enable&quot;,&quot;jira.export.csv.enabled&quot;]\">\n",
      "<meta name=\"ajs-in-admin-mode\" content=\"false\">\n",
      "<meta name=\"ajs-is-sysadmin\" content=\"false\">\n",
      "<meta name=\"ajs-is-admin\" content=\"false\">\n",
      "<meta name=\"ajs-outgoing-mail-enabled\" content=\"true\">\n",
      "<meta name=\"ajs-date-relativize\" content=\"true\">\n",
      "<meta name=\"ajs-date-time\" content=\"HH:mm\">\n",
      "<meta name=\"ajs-date-day\" content=\"EEEE HH:mm\">\n",
      "<meta name=\"ajs-date-dmy\" content=\"dd/MMM/yy\">\n",
      "<meta name=\"ajs-date-complete\" content=\"dd/MMM/yy HH:mm\">\n",
      "<script type=\"text/javascript\">var AJS=AJS||{};AJS.debug=true;</script>\n",
      "\n",
      "\n",
      "    \n",
      "<meta id=\"atlassian-token\" name=\"atlassian-token\" content=\"A5KQ-2QAV-T4JA-FDED|5cee667fee1f2247197d97808f7f50feeed40a06|lout\">\n",
      "\n",
      "\n",
      "\n",
      "<link rel=\"shortcut icon\" href=\"/jira/s/3pgavk/76005/1c78b578e5c0e813799ab2baea47b6f7/_/favicon.ico\">\n",
      "\n",
      "\n",
      "    \n",
      "\n",
      "\n",
      "\n",
      "<!--[if IE]><![endif]-->\n",
      "<script type=\"text/javascript\">\n",
      "    (function() {\n",
      "        var contextPath = '/jira';\n",
      "        var eventBuffer = [];\n",
      "\n",
      "        function printDeprecatedMsg() {\n",
      "            if (console && console.warn) {\n",
      "                console.warn('DEPRECATED JS - contextPath global variable has been deprecated since 7.4.0. Use `wrm/context-path` module instead.');\n",
      "            }\n",
      "        }\n",
      "\n",
      "        function sendEvent(analytics, postfix) {\n",
      "            analytics.send({\n",
      "                name: 'js.globals.contextPath.' + postfix\n",
      "            });\n",
      "        }\n",
      "\n",
      "        function sendDeprecatedEvent(postfix) {\n",
      "            try {\n",
      "                var analytics = require('jira/analytics');\n",
      "                if (eventBuffer.length) {\n",
      "                    eventBuffer.forEach(function(value) {\n",
      "                        sendEvent(analytics, value);\n",
      "                    });\n",
      "                    eventBuffer = [];\n",
      "                }\n",
      "\n",
      "                if (postfix) {\n",
      "                    sendEvent(analytics, postfix);\n",
      "                }\n",
      "            } catch(ex) {\n",
      "                eventBuffer.push(postfix);\n",
      "                setTimeout(sendDeprecatedEvent, 1000);\n",
      "            }\n",
      "        }\n",
      "\n",
      "        Object.defineProperty(window, 'contextPath', {\n",
      "            get: function() {\n",
      "                printDeprecatedMsg();\n",
      "                sendDeprecatedEvent('get');\n",
      "                return contextPath;\n",
      "            },\n",
      "            set: function(value) {\n",
      "                printDeprecatedMsg();\n",
      "                sendDeprecatedEvent('set');\n",
      "                contextPath = value;\n",
      "            }\n",
      "        });\n",
      "    })();\n",
      "\n",
      "</script>\n",
      "<script>\n",
      "window.WRM=window.WRM||{};window.WRM._unparsedData=window.WRM._unparsedData||{};window.WRM._unparsedErrors=window.WRM._unparsedErrors||{};\n",
      "WRM._unparsedData[\"com.atlassian.plugins.atlassian-plugins-webresource-plugin:context-path.context-path\"]=\"\\\"/jira\\\"\";\n",
      "WRM._unparsedData[\"jira.webresources:feature-flags.feature-flag-data\"]=\"{\\\"enabled-feature-keys\\\":[\\\"com.atlassian.jira.agile.darkfeature.editable.detailsview\\\",\\\"nps.survey.inline.dialog\\\",\\\"com.atlassian.jira.agile.darkfeature.edit.closed.sprint.enabled\\\",\\\"jira.plugin.devstatus.phasetwo\\\",\\\"jira.frother.reporter.field\\\",\\\"atlassian.rest.xsrf.legacy.enabled\\\",\\\"jira.issue.status.lozenge\\\",\\\"com.atlassian.jira.config.BIG_PIPE\\\",\\\"com.atlassian.jira.projects.issuenavigator\\\",\\\"com.atlassian.jira.config.PDL\\\",\\\"jira.plugin.devstatus.phasetwo.enabled\\\",\\\"atlassian.aui.raphael.disabled\\\",\\\"app-switcher.new\\\",\\\"frother.assignee.field\\\",\\\"com.atlassian.jira.projects.ProjectCentricNavigation.Switch\\\",\\\"sd.internal.base.off.thread.on.completion.events.enabled\\\",\\\"jira.onboarding.cyoa\\\",\\\"com.atlassian.jira.agile.darkfeature.kanplan.enabled\\\",\\\"sd.slavalue.record.updated.date.enabled\\\",\\\"com.atlassian.jira.config.ProjectConfig.MENU\\\",\\\"com.atlassian.jira.projects.sidebar.DEFER_RESOURCES\\\",\\\"com.atlassian.jira.agile.darkfeature.kanplan.epics.and.versions.enabled\\\",\\\"com.atlassian.jira.agile.darkfeature.sprint.goal.enabled\\\",\\\"jira.zdu.admin-updates-ui\\\",\\\"jira.zdu.jmx-monitoring\\\",\\\"sd.sla.improved.rendering.enabled\\\",\\\"sd.canned.responses.enabled\\\",\\\"sd.new.settings.sidebar.location.disabled\\\",\\\"jira.zdu.cluster-upgrade-state\\\",\\\"com.atlassian.jira.agile.darkfeature.splitissue\\\",\\\"com.atlassian.jira.config.CoreFeatures.LICENSE_ROLES_ENABLED\\\",\\\"com.atlassian.feedback.feedback-button-move-to-header-enable\\\",\\\"jira.export.csv.enabled\\\"],\\\"feature-flag-states\\\":{\\\"com.atlassian.jira.agile.darkfeature.kanplan\\\":false,\\\"sd.internal.base.off.thread.on.completion.events\\\":false,\\\"jira.instrumentation.laas\\\":false,\\\"com.atlassian.jira.agile.darkfeature.edit.closed.sprint\\\":false,\\\"com.atlassian.jira.issuetable.draggable\\\":true,\\\"jira.create.linked.issue\\\":true,\\\"com.atlassian.jira.agile.darkfeature.sprint.goal\\\":false,\\\"jira.sal.host.connect.accessor.existing.transaction.will.create.transactions\\\":true,\\\"jira.jql.suggestrecentfields\\\":false,\\\"com.atlassian.jira.agile.darkfeature.kanplan.epics.and.versions\\\":false,\\\"jira.jql.smartautoselectfirst\\\":false,\\\"com.atlassian.jira.agile.darkfeature.optimistic.transitions\\\":true,\\\"com.atlassian.jira.issuetable.move.links.hidden\\\":true,\\\"jira.priorities.per.project\\\":true,\\\"com.atlassian.jira.upgrade.startup.fix.index\\\":true,\\\"jira.renderer.consider.variable.format\\\":true}}\";\n",
      "WRM._unparsedData[\"jira.webresources:default-comment-security-level.DefaultCommentSecurityLevelHelpLink\"]=\"{\\\"extraClasses\\\":\\\"default-comment-level-help\\\",\\\"title\\\":\\\"Commenting on an Issue\\\",\\\"url\\\":\\\"https://docs.atlassian.com/jira/jcore-docs-076/Editing+and+collaborating+on+issues#Editingandcollaboratingonissues-restrictacomment\\\",\\\"isLocal\\\":false}\";\n",
      "WRM._unparsedData[\"jira.webresources:dateFormatProvider.allFormats\"]=\"{\\\"dateFormats\\\":{\\\"meridiem\\\":[\\\"AM\\\",\\\"PM\\\"],\\\"eras\\\":[\\\"BC\\\",\\\"AD\\\"],\\\"months\\\":[\\\"January\\\",\\\"February\\\",\\\"March\\\",\\\"April\\\",\\\"May\\\",\\\"June\\\",\\\"July\\\",\\\"August\\\",\\\"September\\\",\\\"October\\\",\\\"November\\\",\\\"December\\\"],\\\"monthsShort\\\":[\\\"Jan\\\",\\\"Feb\\\",\\\"Mar\\\",\\\"Apr\\\",\\\"May\\\",\\\"Jun\\\",\\\"Jul\\\",\\\"Aug\\\",\\\"Sep\\\",\\\"Oct\\\",\\\"Nov\\\",\\\"Dec\\\"],\\\"weekdaysShort\\\":[\\\"Sun\\\",\\\"Mon\\\",\\\"Tue\\\",\\\"Wed\\\",\\\"Thu\\\",\\\"Fri\\\",\\\"Sat\\\"],\\\"weekdays\\\":[\\\"Sunday\\\",\\\"Monday\\\",\\\"Tuesday\\\",\\\"Wednesday\\\",\\\"Thursday\\\",\\\"Friday\\\",\\\"Saturday\\\"]},\\\"lookAndFeelFormats\\\":{\\\"relativize\\\":\\\"true\\\",\\\"time\\\":\\\"HH:mm\\\",\\\"day\\\":\\\"EEEE HH:mm\\\",\\\"dmy\\\":\\\"dd/MMM/yy\\\",\\\"complete\\\":\\\"dd/MMM/yy HH:mm\\\"}}\";\n",
      "WRM._unparsedData[\"com.atlassian.jira.jira-issue-nav-components:issueviewer.features\"]=\"{\\\"rteEnabled\\\":true}\";\n",
      "WRM._unparsedData[\"com.atlassian.jira.plugins.jira-dnd-attachment-plugin:dnd-issue-drop-zone.thumbnail-mime-types\"]=\"\\\"image/png,image/vnd.wap.wbmp,image/x-png,image/jpeg,image/bmp,image/gif\\\"\";\n",
      "WRM._unparsedData[\"com.atlassian.jira.plugins.jira-dnd-attachment-plugin:dnd-issue-drop-zone.upload-limit\"]=\"\\\"62914560\\\"\";\n",
      "WRM._unparsedData[\"com.atlassian.plugins.helptips.jira-help-tips:help-tip-manager.JiraHelpTipData\"]=\"{\\\"anonymous\\\":true}\";\n",
      "WRM._unparsedData[\"com.atlassian.jira.jira-view-issue-plugin:controller-subtasks.controller.subtasks.parameters\"]=\"{\\\"url\\\":\\\"/rest/api/2/issue/{issueId}/subtask/move\\\"}\";\n",
      "WRM._unparsedData[\"com.atlassian.analytics.analytics-client:policy-update-init.policy-update-data-provider\"]=\"false\";\n",
      "WRM._unparsedData[\"com.atlassian.analytics.analytics-client:programmatic-analytics-init.programmatic-analytics-data-provider\"]=\"false\";\n",
      "WRM._unparsedData[\"jira.webresources:avatar-picker.data\"]=\"{}\";\n",
      "WRM._unparsedData[\"com.atlassian.feedback.jira-feedback-plugin:button-resources-init.data\"]=\"{\\\"jira.feedback.plugin.issue.collector.core\\\":\\\"https://jira.atlassian.com/s/576e9ab86257d4f65f6ea5b6dd50de44-T/en_UK3ljiw5/71006/b6b48b2829824b869586ac216d119363/2.0.11/_/download/batch/com.atlassian.jira.collector.plugin.jira-issue-collector-plugin:issuecollector-embededjs/com.atlassian.jira.collector.plugin.jira-issue-collector-plugin:issuecollector-embededjs.js?locale=en-UK&collectorId=abbf546d\\\",\\\"jira.feedback.plugin.issue.collector.default\\\":\\\"https://jira.atlassian.com/s/576e9ab86257d4f65f6ea5b6dd50de44-T/en_UK3ljiw5/71006/b6b48b2829824b869586ac216d119363/2.0.11/_/download/batch/com.atlassian.jira.collector.plugin.jira-issue-collector-plugin:issuecollector-embededjs/com.atlassian.jira.collector.plugin.jira-issue-collector-plugin:issuecollector-embededjs.js?locale=en-UK&collectorId=abbf546d\\\",\\\"jira.feedback.plugin.issue.collector.service.desk\\\":\\\"https://jira.atlassian.com/s/576e9ab86257d4f65f6ea5b6dd50de44-T/en_UK3ljiw5/71006/b6b48b2829824b869586ac216d119363/2.0.11/_/download/batch/com.atlassian.jira.collector.plugin.jira-issue-collector-plugin:issuecollector/com.atlassian.jira.collector.plugin.jira-issue-collector-plugin:issuecollector.js?locale=en-UK&collectorId=a698db21\\\",\\\"jira.feedback.plugin.issue.collector.software\\\":\\\"https://jira.atlassian.com/s/576e9ab86257d4f65f6ea5b6dd50de44-T/en_UK3ljiw5/71006/b6b48b2829824b869586ac216d119363/2.0.11/_/download/batch/com.atlassian.jira.collector.plugin.jira-issue-collector-plugin:issuecollector-embededjs/com.atlassian.jira.collector.plugin.jira-issue-collector-plugin:issuecollector-embededjs.js?locale=en-UK&collectorId=abbf546d\\\",\\\"isHeaderFeedbackButtonEnabled\\\":true}\";\n",
      "WRM._unparsedData[\"com.atlassian.jira.jira-header-plugin:dismissedFlags.flags\"]=\"{\\\"dismissed\\\":[]}\";\n",
      "WRM._unparsedData[\"com.atlassian.jira.jira-header-plugin:newsletter-signup-tip-init.newsletterSignup\"]=\"{\\\"signupDescription\\\":\\\"Get updates, inspiration and best practices from the team behind JIRA.\\\",\\\"formUrl\\\":\\\"https://www.atlassian.com/apis/exact-target/{0}/subscribe?mailingListId=1401671\\\",\\\"signupTitle\\\":\\\"Sign up!\\\",\\\"signupId\\\":\\\"newsletter-signup-tip\\\",\\\"showNewsletterTip\\\":false}\";\n",
      "WRM._unparsedData[\"com.atlassian.jira.project-templates-plugin:project-templates-plugin-resources.ptAnalyticsData\"]=\"{\\\"instanceCreatedDate\\\":\\\"2011-01-31\\\"}\";\n",
      "WRM._unparsedData[\"com.atlassian.jira.plugins.jira-wiki-editor:wiki-editor-resources.help-data\"]=\"{\\\"showHelp\\\":true,\\\"editorDocumentationUrl\\\":[\\\"https://docs.atlassian.com/jira/jcore-docs-076/Visual+editing\\\"],\\\"editorDocumentationTitle\\\":[\\\"Show me documentation for the visual editor\\\"]}\";\n",
      "WRM._unparsedData[\"com.atlassian.jira.plugins.jira-wiki-editor:wiki-editor-resources.thumbnails-allowed\"]=\"false\";\n",
      "WRM._unparsedData[\"jira.webresources:user-message-flags.adminLockout\"]=\"{}\";\n",
      "WRM._unparsedData[\"jira.request.correlation-id\"]=\"\\\"8148a9895dfe46\\\"\";\n",
      "WRM._unparsedData[\"project-id\"]=\"12311210\";\n",
      "WRM._unparsedData[\"project-key\"]=\"\\\"AMQ\\\"\";\n",
      "WRM._unparsedData[\"project-name\"]=\"\\\"ActiveMQ\\\"\";\n",
      "WRM._unparsedData[\"project-type\"]=\"\\\"software\\\"\";\n",
      "WRM._unparsedData[\"com.atlassian.jira.jira-projects-issue-navigator:generic-filters\"]=\"[{\\\"id\\\":\\\"allissues\\\",\\\"jql\\\":\\\"project = \\\\\\\"{0}\\\\\\\" ORDER BY {1}\\\",\\\"defaultOrderby\\\":\\\"created DESC\\\",\\\"label\\\":\\\"All issues\\\",\\\"requiresUser\\\":false,\\\"supportsInlineIssueCreate\\\":true,\\\"fields\\\":[]},{\\\"id\\\":\\\"allopenissues\\\",\\\"jql\\\":\\\"project = \\\\\\\"{0}\\\\\\\" AND resolution = Unresolved ORDER BY {1}\\\",\\\"defaultOrderby\\\":\\\"priority DESC, updated DESC\\\",\\\"label\\\":\\\"Open issues\\\",\\\"requiresUser\\\":false,\\\"supportsInlineIssueCreate\\\":true,\\\"fields\\\":[\\\"resolution\\\"]},{\\\"id\\\":\\\"doneissues\\\",\\\"jql\\\":\\\"project = \\\\\\\"{0}\\\\\\\" AND statusCategory = Done ORDER BY {1}\\\",\\\"defaultOrderby\\\":\\\"updated DESC\\\",\\\"label\\\":\\\"Done issues\\\",\\\"requiresUser\\\":false,\\\"supportsInlineIssueCreate\\\":false,\\\"fields\\\":[\\\"status\\\"]},{\\\"id\\\":\\\"recentlyviewed\\\",\\\"jql\\\":\\\"project = \\\\\\\"{0}\\\\\\\" AND issuekey in issueHistory() ORDER BY {1}\\\",\\\"defaultOrderby\\\":\\\"lastViewed DESC\\\",\\\"label\\\":\\\"Viewed recently\\\",\\\"requiresUser\\\":false,\\\"supportsInlineIssueCreate\\\":true,\\\"fields\\\":[\\\"issuekey\\\"]},{\\\"id\\\":\\\"addedrecently\\\",\\\"jql\\\":\\\"project = \\\\\\\"{0}\\\\\\\" AND created \\u003e= -1w ORDER BY {1}\\\",\\\"defaultOrderby\\\":\\\"created DESC\\\",\\\"label\\\":\\\"Created recently\\\",\\\"requiresUser\\\":false,\\\"supportsInlineIssueCreate\\\":true,\\\"fields\\\":[\\\"created\\\"]},{\\\"id\\\":\\\"resolvedrecently\\\",\\\"jql\\\":\\\"project = \\\\\\\"{0}\\\\\\\" AND resolutiondate \\u003e= -1w ORDER BY {1}\\\",\\\"defaultOrderby\\\":\\\"updated DESC\\\",\\\"label\\\":\\\"Resolved recently\\\",\\\"requiresUser\\\":false,\\\"supportsInlineIssueCreate\\\":false,\\\"fields\\\":[\\\"resolutiondate\\\"]},{\\\"id\\\":\\\"updatedrecently\\\",\\\"jql\\\":\\\"project = \\\\\\\"{0}\\\\\\\" AND updated \\u003e= -1w ORDER BY {1}\\\",\\\"defaultOrderby\\\":\\\"updated DESC\\\",\\\"label\\\":\\\"Updated recently\\\",\\\"requiresUser\\\":false,\\\"supportsInlineIssueCreate\\\":true,\\\"fields\\\":[\\\"updated\\\"]}]\";\n",
      "WRM._unparsedData[\"com.atlassian.jira.jira-projects-issue-navigator:default-filter-priority\"]=\"[\\\"allopenissues\\\",\\\"allissues\\\"]\";\n",
      "WRM._unparsedData[\"com.atlassian.jira.jira-projects-issue-navigator:can-manage-filters\"]=\"false\";\n",
      "WRM._unparsedData[\"com.atlassian.jira.jira-projects-issue-navigator:project-filters\"]=\"[]\";\n",
      "WRM._unparsedData[\"com.atlassian.jira.jira-projects-issue-navigator:can-create-issues\"]=\"false\";\n",
      "WRM._unparsedData[\"projectId\"]=\"12311210\";\n",
      "WRM._unparsedData[\"projectKey\"]=\"\\\"AMQ\\\"\";\n",
      "WRM._unparsedData[\"projectType\"]=\"\\\"software\\\"\";\n",
      "WRM._unparsedData[\"com.atlassian.jira.jira-projects-issue-navigator:server-rendered\"]=\"true\";\n",
      "if(window.WRM._dataArrived)window.WRM._dataArrived();</script>\n",
      "<link type=\"text/css\" rel=\"stylesheet\" href=\"/jira/s/a8a4711bc3f2eb261d8c8fd9fbcbba8b-CDN/3pgavk/76005/1c78b578e5c0e813799ab2baea47b6f7/1fca1750044f2777c977e8d8cc023344/_/download/contextbatch/css/_super/batch.css\" data-wrm-key=\"_super\" data-wrm-batch-type=\"context\" media=\"all\">\n",
      "<link type=\"text/css\" rel=\"stylesheet\" href=\"/jira/s/74ac580603ca910fff0cfdf319e54add-CDN/3pgavk/76005/1c78b578e5c0e813799ab2baea47b6f7/fbf45109b31165e5b7740a9d72318cea/_/download/contextbatch/css/project.issue.navigator,jira.view.issue,jira.global,atl.general,jira.general,-_super/batch.css?agile_global_admin_condition=true&amp;hc-enabled=true&amp;is-server-instance=true&amp;jag=true&amp;jira.create.linked.issue=true&amp;nps-acknowledged=true&amp;richediton=true\" data-wrm-key=\"project.issue.navigator,jira.view.issue,jira.global,atl.general,jira.general,-_super\" data-wrm-batch-type=\"context\" media=\"all\">\n",
      "<link type=\"text/css\" rel=\"stylesheet\" href=\"/jira/s/611672383f6cab00ab202241ba6f9d68-T/3pgavk/76005/1c78b578e5c0e813799ab2baea47b6f7/7.6.3/_/download/batch/com.atlassian.feedback.jira-feedback-plugin:button-resources-init/com.atlassian.feedback.jira-feedback-plugin:button-resources-init.css\" data-wrm-key=\"com.atlassian.feedback.jira-feedback-plugin:button-resources-init\" data-wrm-batch-type=\"resource\" media=\"all\">\n",
      "<script type=\"text/javascript\" src=\"/jira/s/7afbd83e43cceb35c841777a86763002-CDN/3pgavk/76005/1c78b578e5c0e813799ab2baea47b6f7/1fca1750044f2777c977e8d8cc023344/_/download/contextbatch/js/_super/batch.js?locale=en-UK\" data-wrm-key=\"_super\" data-wrm-batch-type=\"context\" data-initially-rendered></script>\n",
      "<script type=\"text/javascript\" src=\"/jira/s/0dce96e0f0dedc17f71c708ffd08e08d-CDN/3pgavk/76005/1c78b578e5c0e813799ab2baea47b6f7/fbf45109b31165e5b7740a9d72318cea/_/download/contextbatch/js/project.issue.navigator,jira.view.issue,jira.global,atl.general,jira.general,-_super/batch.js?agile_global_admin_condition=true&amp;hc-enabled=true&amp;is-server-instance=true&amp;jag=true&amp;jira.create.linked.issue=true&amp;locale=en-UK&amp;nps-acknowledged=true&amp;richediton=true\" data-wrm-key=\"project.issue.navigator,jira.view.issue,jira.global,atl.general,jira.general,-_super\" data-wrm-batch-type=\"context\" data-initially-rendered></script>\n",
      "<script type=\"text/javascript\" src=\"/jira/s/39cd256323d294b2416bc51f69413b09-CDN/3pgavk/76005/1c78b578e5c0e813799ab2baea47b6f7/871d45c9f322a22cb3aa9b7948a69803/_/download/contextbatch/js/atl.global,-_super/batch.js?locale=en-UK\" data-wrm-key=\"atl.global,-_super\" data-wrm-batch-type=\"context\" data-initially-rendered></script>\n",
      "<script type=\"text/javascript\" src=\"/jira/s/d41d8cd98f00b204e9800998ecf8427e-CDN/3pgavk/76005/1c78b578e5c0e813799ab2baea47b6f7/1.0/_/download/batch/jira.webresources:calendar-en/jira.webresources:calendar-en.js\" data-wrm-key=\"jira.webresources:calendar-en\" data-wrm-batch-type=\"resource\" data-initially-rendered></script>\n",
      "<script type=\"text/javascript\" src=\"/jira/s/d41d8cd98f00b204e9800998ecf8427e-CDN/3pgavk/76005/1c78b578e5c0e813799ab2baea47b6f7/1.0/_/download/batch/jira.webresources:calendar-localisation-moment/jira.webresources:calendar-localisation-moment.js\" data-wrm-key=\"jira.webresources:calendar-localisation-moment\" data-wrm-batch-type=\"resource\" data-initially-rendered></script>\n",
      "<script type=\"text/javascript\" src=\"/jira/s/d41d8cd98f00b204e9800998ecf8427e-CDN/3pgavk/76005/1c78b578e5c0e813799ab2baea47b6f7/7.6.3/_/download/batch/com.atlassian.feedback.jira-feedback-plugin:button-resources/com.atlassian.feedback.jira-feedback-plugin:button-resources.js\" data-wrm-key=\"com.atlassian.feedback.jira-feedback-plugin:button-resources\" data-wrm-batch-type=\"resource\" data-initially-rendered></script>\n",
      "<link type=\"text/css\" rel=\"stylesheet\" href=\"/jira/s/95a4826c265852f4904f1e0e7300df68-CDN/3pgavk/76005/1c78b578e5c0e813799ab2baea47b6f7/e0de73613a1027de08f3da6a45e1d1a2/_/download/contextbatch/css/jira.global.look-and-feel,-_super/batch.css\" data-wrm-key=\"jira.global.look-and-feel,-_super\" data-wrm-batch-type=\"context\" media=\"all\">\n",
      "\n",
      "<script type=\"text/javascript\" src=\"/jira/rest/api/1.0/shortcuts/76005/243c4d392e0f8623310790e3a60454fe/shortcuts.js?context=issuenavigation&amp;context=issueaction\"></script>\n",
      "\n",
      "\n",
      "<script>\n",
      "window.WRM=window.WRM||{};window.WRM._unparsedData=window.WRM._unparsedData||{};window.WRM._unparsedErrors=window.WRM._unparsedErrors||{};\n",
      "WRM._unparsedData[\"com.atlassian.jira.jira-issue-nav-components:inline-edit-enabled\"]=\"true\";\n",
      "WRM._unparsedData[\"should-display-chaperone\"]=\"false\";\n",
      "if(window.WRM._dataArrived)window.WRM._dataArrived();</script>\n",
      "<link type=\"text/css\" rel=\"stylesheet\" href=\"/jira/s/15712b600e9aecf72ffd9fd3704a0c78-CDN/3pgavk/76005/1c78b578e5c0e813799ab2baea47b6f7/6b22a15c7b83f87a47b1757076f43542/_/download/contextbatch/css/com.atlassian.jira.projects.sidebar.init,-_super,-project.issue.navigator,-jira.view.issue/batch.css?jira.create.linked.issue=true&amp;richediton=true\" data-wrm-key=\"com.atlassian.jira.projects.sidebar.init,-_super,-project.issue.navigator,-jira.view.issue\" data-wrm-batch-type=\"context\" media=\"all\">\n",
      "<script type=\"text/javascript\" src=\"/jira/s/6579b6b8ba67abaa496e39b9242a18a4-CDN/3pgavk/76005/1c78b578e5c0e813799ab2baea47b6f7/6b22a15c7b83f87a47b1757076f43542/_/download/contextbatch/js/com.atlassian.jira.projects.sidebar.init,-_super,-project.issue.navigator,-jira.view.issue/batch.js?jira.create.linked.issue=true&amp;locale=en-UK&amp;richediton=true\" data-wrm-key=\"com.atlassian.jira.projects.sidebar.init,-_super,-project.issue.navigator,-jira.view.issue\" data-wrm-batch-type=\"context\" data-initially-rendered></script>\n",
      "<meta charset=\"utf-8\"><meta http-equiv=\"X-UA-Compatible\" content=\"IE=edge\">\n",
      "    \n",
      "\n",
      "\n",
      "\n",
      "\n",
      "\n",
      "\n",
      "<meta name=\"ajs-can-search-users\" content=\"false\">\n",
      "<meta name=\"ajs-can-edit-watchers\" content=\"false\">\n",
      "<meta name=\"ajs-default-avatar-url\" content=\"https://issues.apache.org/jira/secure/useravatar?size=xsmall&amp;avatarId=10453\">\n",
      "<meta name=\"ajs-issue-project-type\" content=\"software\">\n",
      "<meta name=\"ajs-issue-key\" content=\"AMQ-4033\">\n",
      "<meta name=\"ajs-server-view-issue-is-editable\" content=\"false\">\n",
      "\n",
      "<title>[AMQ-4033] AMQ Broker - Uses custom RMIServerSocketFactory class which cannot be unloaded due socket reuse - ASF JIRA</title>\n",
      "<link rel=\"search\" type=\"application/opensearchdescription+xml\" href=\"/jira/osd.jsp\" title=\"[AMQ-4033] AMQ Broker - Uses custom RMIServerSocketFactory class which cannot be unloaded due socket reuse - ASF JIRA\"/>\n",
      "\n",
      "\n",
      "</head>\n",
      "\n",
      "\n",
      "\n",
      "\n",
      "\n",
      "<body id=\"jira\" class=\"aui-layout aui-theme-default \" data-version=\"7.6.3\">\n",
      "<div id=\"page\">\n",
      "    <header id=\"header\" role=\"banner\">\n",
      "        \n",
      "\n",
      "\n",
      "\n",
      "\n",
      "\n",
      "\n",
      "<script>\n",
      "require([\"jquery\", \"jira/license-banner\"], function ($, licenseBanner) {\n",
      "    $(function () {\n",
      "        licenseBanner.showLicenseBanner(\"\");\n",
      "        licenseBanner.showLicenseFlag(\"\");\n",
      "    });\n",
      "});\n",
      "</script>\n",
      "\n",
      "\n",
      "\n",
      "        \n",
      "\n",
      "\n",
      "\n",
      "\n",
      "        \n",
      "\n",
      "\n",
      "<nav class=\"aui-header aui-dropdown2-trigger-group\" role=\"navigation\"><div class=\"aui-header-inner\"><div class=\"aui-header-before\"><a class=\" aui-dropdown2-trigger app-switcher-trigger\" aria-controls=\"app-switcher\" aria-haspopup=\"true\" role=\"button\" tabindex=\"0\" data-aui-trigger href=\"#app-switcher\"><span class=\"aui-icon aui-icon-small aui-iconfont-appswitcher\">Linked Applications</span></a><div id=\"app-switcher\" class=\"aui-dropdown2 aui-style-default\" role=\"menu\" aria-hidden=\"true\" data-is-switcher=\"true\" data-environment=\"{&quot;isUserAdmin&quot;:false,&quot;isAppSuggestionAvailable&quot;:false,&quot;isSiteAdminUser&quot;:false}\"><div role=\"application\"><div class=\"app-switcher-loading\">Loading&hellip;</div></div></div></div><div class=\"aui-header-primary\"><h1 id=\"logo\" class=\"aui-header-logo aui-header-logo-custom\"><a href=\"https://issues.apache.org/jira/secure/MyJiraHome.jspa\"><img src=\"/jira/s/3pgavk/76005/1c78b578e5c0e813799ab2baea47b6f7/_/jira-logo-scaled.png\" alt=\"ASF JIRA\" /></a></h1><ul class='aui-nav'><li><a href=\"/jira/secure/Dashboard.jspa\" class=\" aui-nav-link aui-dropdown2-trigger aui-dropdown2-ajax\" id=\"home_link\" aria-haspopup=\"true\" aria-controls=\"home_link-content\" title=\"View and manage your dashboards\" accesskey=\"d\">Dashboards</a><div class=\"aui-dropdown2 aui-style-default\" id=\"home_link-content\" data-aui-dropdown2-ajax-key=\"home_link\"></div></li><li><a href=\"/jira/browse/AMQ\" class=\" aui-nav-link aui-dropdown2-trigger aui-dropdown2-ajax\" id=\"browse_link\" aria-haspopup=\"true\" aria-controls=\"browse_link-content\" title=\"View recent projects and browse a list of projects\" accesskey=\"p\">Projects</a><div class=\"aui-dropdown2 aui-style-default\" id=\"browse_link-content\" data-aui-dropdown2-ajax-key=\"browse_link\"></div></li><li><a href=\"/jira/issues/\" class=\" aui-nav-link aui-dropdown2-trigger aui-dropdown2-ajax\" id=\"find_link\" aria-haspopup=\"true\" aria-controls=\"find_link-content\" title=\"Search for issues and view recent issues\" accesskey=\"i\">Issues</a><div class=\"aui-dropdown2 aui-style-default\" id=\"find_link-content\" data-aui-dropdown2-ajax-key=\"find_link\"></div></li>\n",
      "</ul></div><div class=\"aui-header-secondary\"><ul class='aui-nav'><li id=\"quicksearch-menu\">\n",
      "    <form action=\"/jira/secure/QuickSearch.jspa\" method=\"get\" id=\"quicksearch\" class=\"aui-quicksearch dont-default-focus ajs-dirty-warning-exempt\">\n",
      "        <input id=\"quickSearchInput\" class=\"search\" type=\"text\" title=\"Search\" placeholder=\"Search\" name=\"searchString\" accessKey=\"q\" />\n",
      "        <input type=\"submit\" class=\"hidden\" value=\"Search\">\n",
      "    </form>\n",
      "</li>\n",
      "<li><a class=\"jira-feedback-plugin\" role=\"button\" aria-haspopup=\"true\" id=\"jira-header-feedback-link\" href=\"#\"><span class=\"aui-icon aui-icon-small jira-feedback-plugin-icon\">Give feedback to Atlassian</span></a></li>\n",
      "\n",
      "\n",
      "\n",
      "    <li id=\"system-help-menu\">\n",
      "        <a class=\"aui-nav-link aui-dropdown2-trigger\" id=\"help_menu\" aria-haspopup=\"true\" aria-owns=\"system-help-menu-content\" href=\"https://docs.atlassian.com/jira/jcore-docs-076/\"  target=\"$textUtils.htmlEncode($rootHelpMenuItem.params.target)\"  title=\"Help\"><span class=\"aui-icon aui-icon-small aui-iconfont-help\">Help</span></a>\n",
      "        <div id=\"system-help-menu-content\" class=\"aui-dropdown2 aui-style-default\">\n",
      "                            <div class=\"aui-dropdown2-section\">\n",
      "                                                                <ul id=\"jira-help\" class=\"aui-list-truncate\">\n",
      "                                                            <li>\n",
      "                                    <a id=\"view_core_help\" class=\"aui-nav-link \" title=\"Go to the online documentation for JIRA Core\" href=\"https://docs.atlassian.com/jira/jcore-docs-076/\"  target=\"_blank\" >JIRA Core help</a>\n",
      "                                </li>\n",
      "                                                            <li>\n",
      "                                    <a id=\"keyshortscuthelp\" class=\"aui-nav-link \" title=\"Get more information about JIRA's Keyboard Shortcuts\" href=\"/jira/secure/ViewKeyboardShortcuts!default.jspa\"  target=\"_blank\" >Keyboard Shortcuts</a>\n",
      "                                </li>\n",
      "                                                            <li>\n",
      "                                    <a id=\"view_about\" class=\"aui-nav-link \" title=\"Get more information about JIRA\" href=\"/jira/secure/AboutPage.jspa\" >About JIRA</a>\n",
      "                                </li>\n",
      "                                                            <li>\n",
      "                                    <a id=\"view_credits\" class=\"aui-nav-link \" title=\"See who did what\" href=\"/jira/secure/JiraCreditsPage!default.jspa\"  target=\"_blank\" >JIRA Credits</a>\n",
      "                                </li>\n",
      "                                                    </ul>\n",
      "                                    </div>\n",
      "                    </div>\n",
      "    </li>\n",
      "\n",
      "\n",
      "\n",
      "\n",
      "\n",
      "\n",
      "\n",
      "\n",
      "\n",
      "<li id=\"user-options\">\n",
      "            <a class=\"aui-nav-link login-link\" href=\"/jira/login.jsp?os_destination=%2Fbrowse%2FAMQ-4033\">Log In</a>\n",
      "                <div id=\"user-options-content\" class=\"aui-dropdown2 aui-style-default\">\n",
      "                            <div class=\"aui-dropdown2-section\">\n",
      "                                                        </div>\n",
      "                    </div>\n",
      "    </li>\n",
      "</ul></div></div><!-- .aui-header-inner--></nav><!-- .aui-header -->\n",
      "    </header>\n",
      "    \n",
      "\n",
      "\n",
      "\n",
      "    <section id=\"content\" role=\"main\">\n",
      "<big-pipe data-id=\"sidebar-id\" unresolved></big-pipe><div class=\"aui-sidebar  sidebar-placeholder\" ><div class=\"aui-sidebar-wrapper\"><div class=\"aui-sidebar-body\"></div><div class=\"aui-sidebar-footer\"><a class=\"aui-button aui-button-subtle aui-sidebar-toggle aui-sidebar-footer-tipsy\" data-tooltip=\"Expand sidebar ( [ )\" href=\"#\"><span class=\"aui-icon aui-icon-small\"></span></a></div></div></div><script id=\"projects-sidebar-init\">\n",
      "    require(['jira/projects/sidebar/expansion-manager'], function(expansionManager) {\n",
      "        var scriptTag = document.getElementById('projects-sidebar-init');\n",
      "        var sidebar = AJS.sidebar('.aui-sidebar');\n",
      "        expansionManager(sidebar);\n",
      "        scriptTag.parentElement.removeChild(scriptTag);\n",
      "    });\n",
      "    </script><div class=\"aui-page-panel\"><div class=\"aui-page-panel-inner\"><div class=\"issue-navigator\"><div class=\"content\"><div class=\"issue-view\"><div class=\"navigation-tools\"><div class=\"pager-container\"></div></div><div class=\"issue-container\"><div id=\"issue-content\" class=\"issue-edit-form\"><header id=\"stalker\" class=\"issue-header js-stalker\"><div class=\"issue-header-content\"><header class=\"aui-page-header\"><div class=\"aui-page-header-inner\"><div class=\"aui-page-header-image\"><span id=\"12311210\" class=\"aui-avatar aui-avatar-large aui-avatar-project jira-system-avatar\"><span class=\"aui-avatar-inner\"><img id=\"project-avatar\" alt=\"Uploaded image for project: &#39;ActiveMQ&#39;\" src=\"https://issues.apache.org/jira/secure/projectavatar?pid=12311210&amp;avatarId=10011\" /></span></span></div><!-- .aui-page-header-image --><div class=\"aui-page-header-main\"><ol class=\"aui-nav aui-nav-breadcrumbs\"><li><a id=\"project-name-val\" href=\"/jira/browse/AMQ\">ActiveMQ</a></li><li><a class=\"issue-link\" data-issue-key=\"AMQ-4033\" href=\"/jira/browse/AMQ-4033\" id=\"key-val\" rel=\"12606761\">AMQ-4033</a></li></ol><h1 id=\"summary-val\">AMQ Broker - Uses custom RMIServerSocketFactory class which cannot be unloaded due socket reuse</h1></div><!-- .aui-page-header-main --><div class=\"aui-page-header-actions\"><div id=\"issue-header-pager\"></div></div><!-- .aui-page-header-actions --></div><!-- .aui-page-header-inner --></header><!-- .aui-page-header --><div class=\"command-bar\"><div class=\"ops-cont\"><div class=\"ops-menus aui-toolbar\"><div class=\"toolbar-split toolbar-split-left\"><ul id=\"opsbar-ops-login-lnk_container\" class=\"toolbar-group pluggable-ops\"><li class=\"toolbar-item\"><a id=\"ops-login-lnk\"title=\"Log In\"class=\"toolbar-trigger\" href=\"/jira/login.jsp?os_destination=%2Fbrowse%2FAMQ-4033\"><span class=\"trigger-label\">Log In</span></a></li></ul><ul id=\"opsbar-opsbar-operations\" class=\"toolbar-group pluggable-ops\"></ul><ul id=\"opsbar-opsbar-transitions\" class=\"toolbar-group pluggable-ops\"></ul><ul id=\"opsbar-opsbar-admin\" class=\"toolbar-group pluggable-ops\"></ul></div><div class=\"toolbar-split toolbar-split-right\"><ul id=\"opsbar-jira.issue.tools\" class=\"toolbar-group pluggable-ops\"><li class=\"toolbar-item\"><div><a href=\"#\"id=\"viewissue-export\"aria-owns=\"viewissue-export_drop\"aria-haspopup=\"true\"title=\"Export this issue in another format\"class=\"toolbar-trigger aui-button aui-style-default aui-dropdown2-trigger\"><span class=\"icon icon-default aui-icon aui-icon-small aui-iconfont-export\"></span> <span class=\"dropdown-text\">Export</span></a><div id=\"viewissue-export_drop\" class=\"aui-style-default aui-dropdown2\"><ul><li class=\"aui-list-item\"><a  href=\"/jira/si/jira.issueviews:issue-xml/AMQ-4033/AMQ-4033.xml\"id=\"jira.issueviews:issue-xml\"><span class=\"trigger-label\">XML</span></a></li><li class=\"aui-list-item\"><a  href=\"/jira/si/jira.issueviews:issue-word/AMQ-4033/AMQ-4033.doc\"id=\"jira.issueviews:issue-word\"><span class=\"trigger-label\">Word</span></a></li><li class=\"aui-list-item\"><a  href=\"/jira/si/jira.issueviews:issue-html/AMQ-4033/AMQ-4033.html\"id=\"jira.issueviews:issue-html\"><span class=\"trigger-label\">Printable</span></a></li><li class=\"aui-list-item\"><a  href=\"/jira/si/com.atlassian.jira.plugins.jira-importers-plugin:issue-json/AMQ-4033/AMQ-4033.json\"id=\"com.atlassian.jira.plugins.jira-importers-plugin:issue-json\"><span class=\"trigger-label\">JSON</span></a></li></ul></div></div></li></ul></div></div></div></div></div></header><div class=\"issue-body-content\"><div class=\"aui-group issue-body\"><div class=\"aui-item issue-main-column\"><div id=details-module class=\"module toggle-wrap\"><div id=\"details-module_heading\" class=\"mod-header\"><ul class=\"ops\"></ul><h2 class=\"toggle-title\">Details</h2></div><div class=\"mod-content\">\n",
      "\n",
      "\n",
      "\n",
      "\n",
      "\n",
      "\n",
      "\n",
      "\n",
      "\n",
      "\n",
      "<ul id=\"issuedetails\" class=\"property-list two-cols\">\n",
      "                \n",
      "<li class=\"item\">\n",
      "    <div class=\"wrap\">\n",
      "        <strong class=\"name\">Type:</strong>\n",
      "        <span id=\"type-val\" class=\"value\">\n",
      "                        <img  alt=\"\" height=\"16\" src=\"/jira/secure/viewavatar?size=xsmall&amp;avatarId=21133&amp;avatarType=issuetype\" title=\"Bug - A problem which impairs or prevents the functions of the product.\" width=\"16\" /> Bug\n",
      "        </span>\n",
      "    </div>\n",
      "</li>                    <li class=\"item item-right\">\n",
      "    <div class=\"wrap\">\n",
      "        <strong class=\"name\">Status:</strong>\n",
      "            <span id=\"status-val\" class=\"value\">\n",
      "                                <span class=\" jira-issue-status-lozenge aui-lozenge jira-issue-status-lozenge-blue-gray jira-issue-status-lozenge-new jira-issue-status-lozenge-max-width-medium\" data-tooltip=\"&lt;span class=&quot;jira-issue-status-tooltip-title&quot;&gt;Reopened&lt;/span&gt;&lt;br&gt;&lt;span class=&quot;jira-issue-status-tooltip-desc&quot;&gt;This issue was once resolved, but the resolution was deemed incorrect. From here issues are either marked assigned or resolved.&lt;/span&gt;\">Reopened</span>            </span>\n",
      "            </div>\n",
      "</li>    \n",
      "                        <li class=\"item new\">\n",
      "    <div class=\"wrap\">\n",
      "        <strong class=\"name\">Priority:</strong>\n",
      "        <span id=\"priority-val\" class=\"value\">\n",
      "                                        <img  alt=\"\" height=\"16\" src=\"/jira/images/icons/priorities/minor.svg\" title=\"Minor - Minor loss of function, or other problem where easy workaround is present.\" width=\"16\" />  Minor                     </span>\n",
      "    </div>\n",
      "</li>                                \n",
      "<li class=\"item item-right\">\n",
      "    <div class=\"wrap\">\n",
      "        <strong class=\"name\">Resolution:</strong>\n",
      "        <span id=\"resolution-val\" class=\"value unresolved\" >\n",
      "                            Unresolved\n",
      "                    </span>\n",
      "    </div>\n",
      "</li>                                \n",
      "\n",
      "<li class=\"item\">\n",
      "    <div class=\"wrap\">\n",
      "        <strong class=\"name\">Affects Version/s:</strong>\n",
      "        <span id=\"versions-val\" class=\"value\">\n",
      "                                        <span class=\"shorten\" id=\"versions-field\">\n",
      "                                            <span title=\"5.6.0 Next v5 maintenance release\">5.6.0</span>                                    </span>\n",
      "                    </span>\n",
      "    </div>\n",
      "</li>                                \n",
      "<li class=\"item item-right\">\n",
      "    <div class=\"wrap\">\n",
      "        <strong class=\"name\">Fix Version/s:</strong>\n",
      "        <span id=\"fixfor-val\" class=\"value\">\n",
      "                                        <span class=\"shorten\" id=\"fixVersions-field\">\n",
      "                                            <a href=\"/jira/issues/?jql=project+%3D+AMQ+AND+fixVersion+%3D+NEEDS_REVIEW\" title=\"NEEDS_REVIEW Issues that need to be reviewed - do we keep &#39;em or do we kick &#39;em? \">NEEDS_REVIEW</a>                                    </span>\n",
      "                    </span>\n",
      "    </div>\n",
      "</li>                                \n",
      "\n",
      "<li class=\"item\">\n",
      "    <div class=\"wrap\">\n",
      "        <strong class=\"name\">Component/s:</strong>\n",
      "        <span id=\"components-val\" class=\"value\">\n",
      "                                        <span class=\"shorten\" id=\"components-field\">\n",
      "                                            <a href=\"/jira/issues/?jql=project+%3D+AMQ+AND+component+%3D+Broker\" title=\"Broker \">Broker</a>,                                            <a href=\"/jira/issues/?jql=project+%3D+AMQ+AND+component+%3D+JMX\" title=\"JMX The JMX support in ActiveMQ\">JMX</a>                                    </span>\n",
      "                    </span>\n",
      "    </div>\n",
      "</li>                                    \n",
      "\n",
      "\n",
      "<li class=\"item full-width\">\n",
      "    <div class=\"wrap\" id=\"wrap-labels\">\n",
      "        <strong class=\"name\">Labels:</strong>\n",
      "                <div class=\"labels-wrap value\">\n",
      "            <span class=\"labels\" id=\"labels-12606761-value\">None</span>\n",
      "            </div>\n",
      "    </div>\n",
      "</li>            </ul>\n",
      "\n",
      "<div id=\"customfieldmodule\">\n",
      "    <div class=\"aui-tabs horizontal-tabs\" id=\"customfield-tabs\">\n",
      "                    <div id=\"customfield-panel-1\" class=\"tabs-pane active-pane\">\n",
      "                        <ul class=\"property-list\">\n",
      "                                                    <li id=\"rowForcustomfield_12310080\" class=\"item\">\n",
      "        <div class=\"wrap\">\n",
      "            <strong title=\"Regression\" class=\"name\">Regression:</strong>\n",
      "            <div id=\"customfield_12310080-val\" class=\"value type-multicheckboxes\" data-fieldtype=\"multicheckboxes\" data-fieldtypecompletekey=\"com.atlassian.jira.plugin.system.customfieldtypes:multicheckboxes\">\n",
      "                                    \n",
      "\n",
      "\n",
      "    <div class=\"shorten\" id=\"customfield_12310080-field\">\n",
      "        \t\t\t\t\t\t\t<span>Regression</span>\t\t\t            </div>\n",
      "\n",
      "                            </div>\n",
      "        </div>\n",
      "    </li>\n",
      "                                        </ul>\n",
      "        </div>\n",
      "        </div></div>\n",
      "</div></div><div id=descriptionmodule class=\"module toggle-wrap\"><div id=\"descriptionmodule_heading\" class=\"mod-header\"><ul class=\"ops\"></ul><h2 class=\"toggle-title\">Description</h2></div><div class=\"mod-content\"><div id=\"description-val\" class=\"field-ignore-highlight\">\n",
      "    <div class=\"user-content-block\">\n",
      "                    <p>When embedding ActiveMQ Broker in a container, such as Tomcat or others. And if you have JMX enabled on the broker, then a RMI registry is created to allow JMX/RMI over TCP.</p>\n",
      "\n",
      "<p>This uses a custom RMIServerSocketFactory that gets enlisted into the JDK RMI registry. But when you undeploy the AMQ broker, there is no API in the JDK to unregister your custom RMIServerSocketFactory class.</p>\n",
      "\n",
      "<p>And therefore the JDK (system class) has a strong reference to the custom RMIServerSocketFactory, which prevents the container classloader to fully unload all classes.</p>\n",
      "\n",
      "<p>Disabling JMX on the broker, allows to unload all the classes.</p>\n",
      "            </div>\n",
      "</div>\n",
      "</div></div><div id=dnd-metadata class=\"module toggle-wrap\"><div id=\"dnd-metadata_heading\" class=\"mod-header\"><ul class=\"ops\"></ul><h2 class=\"toggle-title\">Attachments</h2></div><div class=\"mod-content\"><div id=\"dnd-metadata-webpanel\" data-can-attach=\"false\" data-project-type=\"software\" data-upload-limit=\"62914560\" data-thumbnails-allowed=\"false\"></div></div></div><div id=attachmentmodule class=\"module toggle-wrap\"><div id=\"attachmentmodule_heading\" class=\"mod-header\"><ul class=\"ops\"><li class=\"drop\"><div class=\"aui-dd-parent\"><a href=\"#\" class=\"icon drop-menu js-default-dropdown\" title=\"Options\"><span>Options</span></a><div class=\"aui-dropdown-content aui-list\"><ul id=\"attachment-sorting-options\"class=\"aui-list-section aui-first\"><li class=\"aui-list-item\"><a id=\"attachment-sort-key-name\"href=\"/jira/browse/AMQ-4033?attachmentSortBy=fileName#attachmentmodule\"class=\"aui-list-checked aui-checked aui-list-item-link\"title=\"viewissue.subtasks.tab.show.all.name\"><span>Sort By Name</span></a></li><li class=\"aui-list-item\"><a id=\"attachment-sort-key-date\"href=\"/jira/browse/AMQ-4033?attachmentSortBy=dateTime#attachmentmodule\"class=\"aui-list-checked aui-list-item-link\"title=\"Sort By Date\"><span>Sort By Date</span></a></li></ul><ul id=\"attachment-sorting-order-options\"class=\"aui-list-section aui-last\"><li class=\"aui-list-item\"><a id=\"attachment-sort-direction-asc\"href=\"/jira/browse/AMQ-4033?attachmentOrder=asc#attachmentmodule\"class=\"aui-list-checked aui-checked aui-list-item-link\"title=\"Ascending\"><span>Ascending</span></a></li><li class=\"aui-list-item\"><a id=\"attachment-sort-direction-desc\"href=\"/jira/browse/AMQ-4033?attachmentOrder=desc#attachmentmodule\"class=\"aui-list-checked aui-list-item-link\"title=\"Descending\"><span>Descending</span></a></li></ul></div></div></li></ul><h2 class=\"toggle-title\">Attachments</h2></div><div class=\"mod-content\"><ol id=\"file_attachments\" class=\"item-attachments\" data-sort-key=\"fileName\" data-sort-order=\"asc\"><li class=\"attachment-content js-file-attachment\" data-attachment-id=\"12544451\"data-issue-id=\"12606761\"data-attachment-type=\"image\" data-attachment-thumbnail=\"false\"><div class=\"attachment-thumb\"><a href=\"/jira/secure/attachment/12544451/MMC.png\" draggable=\"true\" data-downloadurl=\"image/png:MMC.png:https://issues.apache.org/jira/secure/attachment/12544451/MMC.png\" file-preview-id=\"12544451\" file-preview-title=\"MMC.png\" file-preview-type=\"image\"><span class=\"aui-icon aui-icon-small attachment-icon aui-iconfont-image\" title=\"PNG File\"></span></a></div><dl><dt class=\"attachment-title\"><a href=\"/jira/secure/attachment/12544451/MMC.png\" title=\"Latest  10/Sep/12 11:15 - Claus Ibsen\" draggable=\"true\" data-downloadurl=\"image/png:MMC.png:https://issues.apache.org/jira/secure/attachment/12544451/MMC.png\" file-preview-id=\"12544451\" file-preview-title=\"MMC.png\" file-preview-type=\"image\">MMC.png</a></dt><dd class=\"attachment-delete\"><span class=\"icon\"></span></dd><dd class=\"attachment-date\"><time class=\"livestamp\" datetime=\"2012-09-10T11:15:22.770Z\">10/Sep/12 11:15</time></dd><dd class=\"attachment-size\">106 kB</dd><dd class=\"attachment-author\">Claus Ibsen</dd></dl></li></ol></div></div><div id=linkingmodule class=\"module toggle-wrap\"><div id=\"linkingmodule_heading\" class=\"mod-header\"><ul class=\"ops\"></ul><h2 class=\"toggle-title\">Issue Links</h2></div><div class=\"mod-content\">\n",
      "\n",
      "\n",
      "\n",
      "\n",
      "\n",
      "\n",
      "<div class=\"links-container\" data-default-link-icon=\"/jira/images/icons/generic_link_16.png\">\n",
      "                <dl class=\"links-list \">\n",
      "            <dt title=\"relates to\">relates to</dt>\n",
      "                            <dd id=\"internal-12518840_10030\"\n",
      "                                                                            >\n",
      "                    <div class=\"link-content\">\n",
      "                                                    \n",
      "\n",
      "\n",
      "\n",
      "<p>\n",
      "            <img src=\"/jira/secure/viewavatar?size=xsmall&amp;avatarId=21133&amp;avatarType=issuetype\" width=\"16\" height=\"16\" title=\"Bug - A problem which impairs or prevents the functions of the product.\" alt=\"Bug - A problem which impairs or prevents the functions of the product.\" />\n",
      "        <span title=\"AMQ-3451: Tomcat 6.0.32 complains that ActiveMQ 5.5 doesn&#39;t shutdown a thread\">\n",
      "        <a href=\"/jira/browse/AMQ-3451\" data-issue-key=\"AMQ-3451\" class=\"issue-link link-title resolution\">AMQ-3451</a>\n",
      "        <span class=\"link-summary\">Tomcat 6.0.32 complains that ActiveMQ 5.5 doesn&#39;t shutdown a thread</span>\n",
      "    </span>\n",
      "</p>\n",
      "<ul class=\"link-snapshot\">\n",
      "        <li class=\"priority\">        <img src=\"/jira/images/icons/priorities/major.svg\" width=\"16\" height=\"16\" title=\"Major - Major loss of function.\" alt=\"Major - Major loss of function.\" />\n",
      "    </li>\n",
      "                <li class=\"status\">\n",
      "                        <span class=\" jira-issue-status-lozenge aui-lozenge jira-issue-status-lozenge-green jira-issue-status-lozenge-done aui-lozenge-subtle jira-issue-status-lozenge-max-width-short\" data-tooltip=\"&lt;span class=&quot;jira-issue-status-tooltip-title&quot;&gt;Resolved&lt;/span&gt;&lt;br&gt;&lt;span class=&quot;jira-issue-status-tooltip-desc&quot;&gt;A resolution has been taken, and it is awaiting verification by reporter. From here issues are either reopened, or are closed.&lt;/span&gt;\">Resolved</span>\n",
      "                    </li>\n",
      "    </ul>\n",
      "                                            </div>\n",
      "                                    </dd>\n",
      "                    </dl>\n",
      "        </div>\n",
      "</div></div><div id=activitymodule class=\"module toggle-wrap\"><div id=\"activitymodule_heading\" class=\"mod-header\"><ul class=\"ops\"></ul><h2 class=\"toggle-title\">Activity</h2></div><div class=\"mod-content\">\n",
      "<big-pipe data-id=\"activity-panel-pipe-id\" style=\"height: 70px\">\n",
      "    <div></div>\n",
      "</big-pipe>\n",
      "</div></div></div><div id=\"viewissuesidebar\" class=\"aui-item issue-side-column\"><div id=peoplemodule class=\"module toggle-wrap\"><div id=\"peoplemodule_heading\" class=\"mod-header\"><ul class=\"ops\"></ul><h2 class=\"toggle-title\">People</h2></div><div class=\"mod-content\">\n",
      "\n",
      "\n",
      "\n",
      "\n",
      "\n",
      "<ul class=\"item-details\" id=\"peopledetails\">\n",
      "    <li class=\"people-details\">\n",
      "                                \n",
      "<dl>\n",
      "    <dt>Assignee:</dt>\n",
      "    <dd>\n",
      "        <span id=\"assignee-val\" class=\"view-issue-field\">\n",
      "\n",
      "    \n",
      "\n",
      "    <span class=\"aui-avatar aui-avatar-small\"><span class=\"aui-avatar-inner\"><img src=\"https://issues.apache.org/jira/secure/useravatar?size=small&amp;avatarId=10453\" /></span></span>\n",
      "    Unassigned\n",
      "</span>\n",
      "            </dd>\n",
      "</dl>                                            \n",
      "<dl>\n",
      "    <dt>Reporter:</dt>\n",
      "    <dd>\n",
      "        <span id=\"reporter-val\" class=\"view-issue-field\">\n",
      "\n",
      "            <span class=\"user-hover\" id=\"issue_summary_reporter_davsclaus\" rel=\"davsclaus\" data-user='{&quot;avatarUrl&quot;:&quot;https://issues.apache.org/jira/secure/useravatar?size=xsmall&amp;avatarId=10452&quot;,&quot;displayName&quot;:&quot;Claus Ibsen&quot;,&quot;emailAddress&quot;:&quot;claus.ibsen@gmail.com&quot;,&quot;username&quot;:&quot;davsclaus&quot;}'>\n",
      "            \n",
      "\n",
      "    <span class=\"aui-avatar aui-avatar-small\"><span class=\"aui-avatar-inner\"><img src=\"https://issues.apache.org/jira/secure/useravatar?size=small&amp;avatarId=10452\" alt=\"davsclaus\" /></span></span>\n",
      "            Claus Ibsen\n",
      "        </span>\n",
      "    </span>\n",
      "    </dd>\n",
      "</dl>                        </li>\n",
      "</ul>\n",
      "    <ul class=\"item-details\">\n",
      "        <li>\n",
      "                            <dl>\n",
      "        <dt>Votes:</dt>\n",
      "        <dd>\n",
      "                                <span id=\"vote-data\" class=\"aui-badge vote-state-off\">0</span>\n",
      "            \n",
      "                                                <span id=\"vote-label\" title=\"You have to be logged in to vote for an issue.\">Vote for this issue</span>\n",
      "                    </dd>\n",
      "    </dl>\n",
      "                                <dl>\n",
      "        <dt>Watchers:</dt>\n",
      "        <dd>\n",
      "                                \n",
      "                                    <span id=\"watcher-data\" class=\"aui-badge watch-state-off\">5</span>\n",
      "            \n",
      "                                        <span id=\"watch-label\" title=\"You have to be logged in to watch an issue.\">Start watching this issue</span>\n",
      "                    </dd>\n",
      "    </dl>\n",
      "            </li>\n",
      "    </ul>\n",
      "</div></div><div id=datesmodule class=\"module toggle-wrap\"><div id=\"datesmodule_heading\" class=\"mod-header\"><ul class=\"ops\"></ul><h2 class=\"toggle-title\">Dates</h2></div><div class=\"mod-content\">\n",
      "<ul class=\"item-details\">\n",
      "    <li>\n",
      "            <dl class=\"dates\">\n",
      "            <dt>Created:</dt>\n",
      "            <dd class=\"date user-tz\"  title=\"09/Sep/12 08:38\" >\n",
      "                <span data-name=\"Created\" id=\"created-val\"  data-fieldtype=\"datetime\"  >\n",
      "                                                                                                        <time class=\"livestamp\" datetime=\"2012-09-09T08:38:05+0000\">09/Sep/12 08:38</time>                                                                                         </span>\n",
      "            </dd>\n",
      "        </dl>\n",
      "            <dl class=\"dates\">\n",
      "            <dt>Updated:</dt>\n",
      "            <dd class=\"date user-tz\"  title=\"22/Aug/14 12:49\" >\n",
      "                <span data-name=\"Updated\" id=\"updated-val\"  data-fieldtype=\"datetime\"  >\n",
      "                                                                                                        <time class=\"livestamp\" datetime=\"2014-08-22T12:49:30+0000\">22/Aug/14 12:49</time>                                                                                         </span>\n",
      "            </dd>\n",
      "        </dl>\n",
      "        </li>\n",
      "</ul>\n",
      "</div></div></div></div></div></div></div></div></div></div></div><!-- .aui-page-panel-inner --></div><!-- .aui-page-panel --><div class=\"issue-navigator-init\"></div>\n",
      "    </section>\n",
      "    <footer id=\"footer\" role=\"contentinfo\">\n",
      "        \n",
      "\n",
      "<section class=\"footer-body\">\n",
      "<ul class=\"atlassian-footer\">\n",
      "    <li>\n",
      "        Atlassian JIRA <a class=\"seo-link\" rel=\"nofollow\" href=\"https://www.atlassian.com/software/jira\">Project Management Software</a>\n",
      "                                            <span id=\"footer-build-information\">(v7.6.3#76005-<span title='8a4e38d34af948780dbf52044e7aafb13a7cae58' data-commit-id='8a4e38d34af948780dbf52044e7aafb13a7cae58}'>sha1:8a4e38d</span>)</span>\n",
      "    </li>\n",
      "    <li>\n",
      "        <a id=\"about-link\" rel=\"nofollow\" href=\"/jira/secure/AboutPage.jspa/secure/AboutPage.jspa\">About JIRA</a>\n",
      "    </li>\n",
      "    <li>\n",
      "        <a id=\"footer-report-problem-link\" rel=\"nofollow\" href=\"/jira/secure/CreateIssue!default.jspa\">Report a problem</a>\n",
      "    </li>\n",
      "</ul>\n",
      "    <ul class=\"atlassian-footer\">\n",
      "        <li class=\"licensemessage\">\n",
      "                Powered by a free Atlassian <a rel='nofollow' href='http://www.atlassian.com/software/jira'>JIRA</a> open source license for Apache Software Foundation. Try JIRA - <a rel='nofollow' href='http://www.atlassian.com/software/jira'>bug tracking software</a> for <i>your</i> team.\n",
      "\n",
      "        </li>\n",
      "    </ul>\n",
      "\n",
      "    <div id=\"footer-logo\"><a rel=\"nofollow\" href=\"http://www.atlassian.com/\">Atlassian</a></div>\n",
      "</section>\n",
      "\n",
      "\n",
      "\n",
      "\n",
      "\n",
      "\n",
      "\n",
      "\n",
      "\n",
      "\n",
      "\n",
      "<fieldset class=\"hidden parameters\">\n",
      "    <input type=\"hidden\" title=\"loggedInUser\" value=\"\">\n",
      "    <input type=\"hidden\" title=\"ajaxTimeout\" value=\"The call to the JIRA server did not complete within the timeout period.  We are unsure of the result of this operation.\">\n",
      "    <input type=\"hidden\" title=\"JiraVersion\" value=\"7.6.3\" />\n",
      "    <input type=\"hidden\" title=\"ajaxUnauthorised\" value=\"You are not authorised to perform this operation. Please log in.\">\n",
      "    <input type=\"hidden\" title=\"baseURL\" value=\"https://issues.apache.org/jira\" />\n",
      "    <input type=\"hidden\" title=\"ajaxCommsError\" value=\"The JIRA server could not be contacted. This may be a temporary glitch or the server may be down. \">\n",
      "    <input type=\"hidden\" title=\"ajaxServerError\" value=\"The JIRA server was contacted but has returned an error response. We are unsure of the result of this operation.\">\n",
      "    <input type=\"hidden\" title=\"ajaxErrorCloseDialog\" value=\"Close this dialog and press refresh in your browser\">\n",
      "    <input type=\"hidden\" title=\"ajaxErrorDialogHeading\" value=\"Communications Breakdown\">\n",
      "\n",
      "    <input type=\"hidden\" title=\"dirtyMessage\" value=\"You have entered new data on this page. If you navigate away from this page without first saving your data, the changes will be lost.\">\n",
      "    <input type=\"hidden\" title=\"dirtyDialogMessage\" value=\"You have entered new data in this dialog. If you navigate away from this dialog without first saving your data, the changes will be lost. Click cancel to return to the dialog.\">\n",
      "    <input type=\"hidden\" title=\"keyType\" value=\"Type\">\n",
      "    <input type=\"hidden\" title=\"keyThen\" value=\"then\">\n",
      "    <input type=\"hidden\" title=\"dblClickToExpand\" value=\"Double click to expand\">\n",
      "    <input type=\"hidden\" title=\"actions\" value=\"Actions\">\n",
      "    <input type=\"hidden\" title=\"removeItem\" value=\"Remove\">\n",
      "    <input type=\"hidden\" title=\"workflow\" value=\"Workflow\">\n",
      "    <input type=\"hidden\" title=\"labelNew\" value=\"New Label\">\n",
      "    <input type=\"hidden\" title=\"issueActionsHint\" value=\"Begin typing for available operations or press down to see all\">\n",
      "    <input type=\"hidden\" title=\"closelink\" value=\"Close\">\n",
      "    <input type=\"hidden\" title=\"dotOperations\" value=\"Operations\">\n",
      "    <input type=\"hidden\" title=\"dotLoading\" value=\"Loading...\">\n",
      "    <input type=\"hidden\" title=\"frotherSuggestions\" value=\"Suggestions\">\n",
      "    <input type=\"hidden\" title=\"frotherNomatches\" value=\"No Matches\">\n",
      "    <input type=\"hidden\" title=\"multiselectVersionsError\" value=\"{0} is not a valid version.\">\n",
      "    <input type=\"hidden\" title=\"multiselectComponentsError\" value=\"{0} is not a valid component.\">\n",
      "    <input type=\"hidden\" title=\"multiselectGenericError\" value=\"The value {0} is invalid.\">\n",
      "</fieldset>\n",
      "\n",
      "    </footer>\n",
      "</div>\n",
      "\n",
      "\n",
      "<script type=\"text/javascript\" src=\"/jira/s/d41d8cd98f00b204e9800998ecf8427e-CDN/3pgavk/76005/1c78b578e5c0e813799ab2baea47b6f7/1.0/_/download/batch/jira.webresources:bigpipe-js/jira.webresources:bigpipe-js.js\" data-wrm-key=\"jira.webresources:bigpipe-js\" data-wrm-batch-type=\"resource\" data-initially-rendered></script>\n",
      "<script>\n",
      "window.WRM=window.WRM||{};window.WRM._unparsedData=window.WRM._unparsedData||{};window.WRM._unparsedErrors=window.WRM._unparsedErrors||{};\n",
      "WRM._unparsedData[\"activity-panel-pipe-id\"]=\"\\\"\\\\n\\\\n\\\\n\\\\n\\\\n\\\\n\\\\n\\\\n\\\\n\\\\n\\\\n    \\u003cdiv class=\\\\\\\"tabwrap tabs2\\\\\\\"\\u003e\\\\n\\\\n        \\u003cul id=\\\\\\\"issue-tabs\\\\\\\" class=\\\\\\\"tabs horizontal\\\\\\\"\\u003e\\\\n                                \\\\n            \\u003cli  data-id=\\\\\\\"all-tabpanel\\\\\\\" data-key=\\\\\\\"com.atlassian.jira.plugin.system.issuetabpanels:all-tabpanel\\\\\\\" data-label=\\\\\\\"All\\\\\\\" data-href=\\\\\\\"\\\\/jira\\\\/browse\\\\/AMQ-4033?page=com.atlassian.jira.plugin.system.issuetabpanels:all-tabpanel\\\\\\\"\\u003e\\\\n                            \\u003ca class=\\\\\\\"ajax-activity-content\\\\\\\" id=\\\\\\\"all-tabpanel\\\\\\\" href=\\\\\\\"\\\\/jira\\\\/browse\\\\/AMQ-4033?page=com.atlassian.jira.plugin.system.issuetabpanels:all-tabpanel\\\\\\\"\\u003e\\u003cstrong\\u003eAll\\u003c\\\\/strong\\u003e\\u003c\\\\/a\\u003e\\\\n                        \\u003c\\\\/li\\u003e\\\\n                                \\\\n            \\u003cli  class=\\\\\\\"active\\\\\\\" id=\\\\\\\"comment-tabpanel\\\\\\\"  data-id=\\\\\\\"comment-tabpanel\\\\\\\" data-key=\\\\\\\"com.atlassian.jira.plugin.system.issuetabpanels:comment-tabpanel\\\\\\\" data-label=\\\\\\\"Comments\\\\\\\" data-href=\\\\\\\"\\\\/jira\\\\/browse\\\\/AMQ-4033?page=com.atlassian.jira.plugin.system.issuetabpanels:comment-tabpanel\\\\\\\"\\u003e\\\\n                            \\u003cstrong tabindex=\\\\\\\"0\\\\\\\"\\u003eComments\\u003c\\\\/strong\\u003e\\\\n                        \\u003c\\\\/li\\u003e\\\\n                                \\\\n            \\u003cli  data-id=\\\\\\\"worklog-tabpanel\\\\\\\" data-key=\\\\\\\"com.atlassian.jira.plugin.system.issuetabpanels:worklog-tabpanel\\\\\\\" data-label=\\\\\\\"Work Log\\\\\\\" data-href=\\\\\\\"\\\\/jira\\\\/browse\\\\/AMQ-4033?page=com.atlassian.jira.plugin.system.issuetabpanels:worklog-tabpanel\\\\\\\"\\u003e\\\\n                            \\u003ca class=\\\\\\\"ajax-activity-content\\\\\\\" id=\\\\\\\"worklog-tabpanel\\\\\\\" href=\\\\\\\"\\\\/jira\\\\/browse\\\\/AMQ-4033?page=com.atlassian.jira.plugin.system.issuetabpanels:worklog-tabpanel\\\\\\\"\\u003e\\u003cstrong\\u003eWork Log\\u003c\\\\/strong\\u003e\\u003c\\\\/a\\u003e\\\\n                        \\u003c\\\\/li\\u003e\\\\n                                \\\\n            \\u003cli  data-id=\\\\\\\"changehistory-tabpanel\\\\\\\" data-key=\\\\\\\"com.atlassian.jira.plugin.system.issuetabpanels:changehistory-tabpanel\\\\\\\" data-label=\\\\\\\"History\\\\\\\" data-href=\\\\\\\"\\\\/jira\\\\/browse\\\\/AMQ-4033?page=com.atlassian.jira.plugin.system.issuetabpanels:changehistory-tabpanel\\\\\\\"\\u003e\\\\n                            \\u003ca class=\\\\\\\"ajax-activity-content\\\\\\\" id=\\\\\\\"changehistory-tabpanel\\\\\\\" href=\\\\\\\"\\\\/jira\\\\/browse\\\\/AMQ-4033?page=com.atlassian.jira.plugin.system.issuetabpanels:changehistory-tabpanel\\\\\\\"\\u003e\\u003cstrong\\u003eHistory\\u003c\\\\/strong\\u003e\\u003c\\\\/a\\u003e\\\\n                        \\u003c\\\\/li\\u003e\\\\n                                \\\\n            \\u003cli  data-id=\\\\\\\"activity-stream-issue-tab\\\\\\\" data-key=\\\\\\\"com.atlassian.streams.streams-jira-plugin:activity-stream-issue-tab\\\\\\\" data-label=\\\\\\\"Activity\\\\\\\" data-href=\\\\\\\"\\\\/jira\\\\/browse\\\\/AMQ-4033?page=com.atlassian.streams.streams-jira-plugin:activity-stream-issue-tab\\\\\\\"\\u003e\\\\n                            \\u003ca class=\\\\\\\"ajax-activity-content\\\\\\\" id=\\\\\\\"activity-stream-issue-tab\\\\\\\" href=\\\\\\\"\\\\/jira\\\\/browse\\\\/AMQ-4033?page=com.atlassian.streams.streams-jira-plugin:activity-stream-issue-tab\\\\\\\"\\u003e\\u003cstrong\\u003eActivity\\u003c\\\\/strong\\u003e\\u003c\\\\/a\\u003e\\\\n                        \\u003c\\\\/li\\u003e\\\\n                                \\\\n            \\u003cli  data-id=\\\\\\\"transitions-summary-tabpanel\\\\\\\" data-key=\\\\\\\"com.googlecode.jira-suite-utilities:transitions-summary-tabpanel\\\\\\\" data-label=\\\\\\\"Transitions\\\\\\\" data-href=\\\\\\\"\\\\/jira\\\\/browse\\\\/AMQ-4033?page=com.googlecode.jira-suite-utilities:transitions-summary-tabpanel\\\\\\\"\\u003e\\\\n                            \\u003ca class=\\\\\\\"ajax-activity-content\\\\\\\" id=\\\\\\\"transitions-summary-tabpanel\\\\\\\" href=\\\\\\\"\\\\/jira\\\\/browse\\\\/AMQ-4033?page=com.googlecode.jira-suite-utilities:transitions-summary-tabpanel\\\\\\\"\\u003e\\u003cstrong\\u003eTransitions\\u003c\\\\/strong\\u003e\\u003c\\\\/a\\u003e\\\\n                        \\u003c\\\\/li\\u003e\\\\n                \\u003c\\\\/ul\\u003e\\\\n\\\\n                    \\u003cdiv class=\\\\\\\"sortwrap\\\\\\\"\\u003e\\\\n                                    \\u003ca class=\\\\\\\"issue-activity-sort-link ajax-activity-content\\\\\\\" rel=\\\\\\\"nofollow\\\\\\\" data-tab-sort data-order=\\\\\\\"desc\\\\\\\" href=\\\\\\\"\\\\/jira\\\\/browse\\\\/AMQ-4033?actionOrder=desc\\\\\\\" title=\\\\\\\"Ascending order - Click to sort in descending order\\\\\\\"\\u003e\\\\n                        \\u003cspan class=\\\\\\\"aui-icon aui-icon-small aui-iconfont-up\\\\\\\"\\u003eAscending order - Click to sort in descending order\\u003c\\\\/span\\u003e\\\\n                    \\u003c\\\\/a\\u003e\\\\n                            \\u003c\\\\/div\\u003e\\\\n            \\u003c\\\\/div\\u003e\\\\n    \\u003cdiv class=\\\\\\\"issuePanelWrapper\\\\\\\"\\u003e\\\\n        \\u003cdiv class=\\\\\\\"issuePanelProgress\\\\\\\"\\u003e\\u003c\\\\/div\\u003e\\\\n        \\u003cdiv class=\\\\\\\"issuePanelContainer\\\\\\\" id=\\\\\\\"issue_actions_container\\\\\\\"\\u003e\\\\n                                    \\\\n\\\\n\\\\n\\u003cdiv id=\\\\\\\"comment-13451893\\\\\\\" class=\\\\\\\"issue-data-block activity-comment twixi-block  expanded\\\\\\\"\\u003e\\\\n    \\u003cdiv class=\\\\\\\"twixi-wrap verbose actionContainer\\\\\\\"\\u003e\\\\n        \\u003cdiv class=\\\\\\\"action-head\\\\\\\"\\u003e\\\\n            \\u003ca href=\\\\\\\"#\\\\\\\" title=\\\\\\\"Collapse comment\\\\\\\" class=\\\\\\\"twixi\\\\\\\"\\u003e\\u003cspan class=\\\\\\\"icon-default aui-icon aui-icon-small aui-iconfont-expanded\\\\\\\"\\u003e\\u003cspan\\u003eHide\\u003c\\\\/span\\u003e\\u003c\\\\/span\\u003e\\u003c\\\\/a\\u003e\\\\n            \\u003cdiv class=\\\\\\\"action-links\\\\\\\"\\u003e\\\\n                \\u003ca href=\\\\\\\"\\\\/jira\\\\/browse\\\\/AMQ-4033?focusedCommentId=13451893&page=com.atlassian.jira.plugin.system.issuetabpanels:comment-tabpanel#comment-13451893\\\\\\\"\\\\n                   title=\\\\\\\"Right click and copy link for a permanent link to this comment.\\\\\\\" class=\\\\\\\"activitymodule-link issue-comment-action\\\\\\\"\\u003e\\\\n                    \\u003cspan class=\\\\\\\"icon-default aui-icon aui-icon-small aui-iconfont-link\\\\\\\"\\u003ePermalink\\u003c\\\\/span\\u003e\\u003c\\\\/a\\u003e\\\\n                                            \\u003c\\\\/div\\u003e\\\\n            \\u003cdiv class=\\\\\\\"action-details\\\\\\\"\\u003e        \\\\n    \\\\n    \\\\n    \\\\n                \\\\n\\\\n    \\u003ca class=\\\\\\\"user-hover user-avatar\\\\\\\" rel=\\\\\\\"davsclaus\\\\\\\" id=\\\\\\\"commentauthor_13451893_verbose\\\\\\\" href=\\\\\\\"\\\\/jira\\\\/secure\\\\/ViewProfile.jspa?name=davsclaus\\\\\\\"\\u003e\\u003cspan class=\\\\\\\"aui-avatar aui-avatar-xsmall\\\\\\\"\\u003e\\u003cspan class=\\\\\\\"aui-avatar-inner\\\\\\\"\\u003e\\u003cimg src=\\\\\\\"https:\\\\/\\\\/issues.apache.org\\\\/jira\\\\/secure\\\\/useravatar?size=xsmall&amp;avatarId=10452\\\\\\\" alt=\\\\\\\"davsclaus\\\\\\\" \\\\/\\u003e\\u003c\\\\/span\\u003e\\u003c\\\\/span\\u003e Claus Ibsen\\u003c\\\\/a\\u003e\\\\n added a comment  - \\u003cspan class=\\'commentdate_13451893_verbose subText\\'\\u003e\\u003cspan class=\\'date user-tz\\' title=\\'10\\\\/Sep\\\\/12 11:16\\'\\u003e\\u003ctime class=\\'livestamp\\' datetime=\\'2012-09-10T11:16:25+0000\\'\\u003e10\\\\/Sep\\\\/12 11:16\\u003c\\\\/time\\u003e\\u003c\\\\/span\\u003e\\u003c\\\\/span\\u003e  \\u003c\\\\/div\\u003e\\\\n        \\u003c\\\\/div\\u003e\\\\n        \\u003cdiv class=\\\\\\\"action-body flooded\\\\\\\"\\u003e\\u003cp\\u003eThe class com.sun.rmi.transports.tcp.TCPEndpoint is having a strong reference to the org.apache.activemq.broker.jmx.ManagementContext$2 class, which is that factory class.  There is no API to unregister this factory class.\\u003c\\\\/p\\u003e \\u003c\\\\/div\\u003e\\\\n    \\u003c\\\\/div\\u003e\\\\n    \\u003cdiv class=\\\\\\\"twixi-wrap concise actionContainer\\\\\\\"\\u003e\\\\n        \\u003cdiv class=\\\\\\\"action-head\\\\\\\"\\u003e\\\\n            \\u003ca href=\\\\\\\"#\\\\\\\" title=\\\\\\\"Expand comment\\\\\\\" class=\\\\\\\"twixi\\\\\\\"\\u003e\\u003cspan class=\\\\\\\"icon-default aui-icon aui-icon-small aui-iconfont-collapsed\\\\\\\"\\u003e\\u003cspan\\u003eShow\\u003c\\\\/span\\u003e\\u003c\\\\/span\\u003e\\u003c\\\\/a\\u003e\\\\n            \\u003cdiv class=\\\\\\\"action-details flooded\\\\\\\"\\u003e\\\\n                        \\\\n    \\\\n    \\\\n    \\\\n                \\\\n\\\\n    \\u003ca class=\\\\\\\"user-hover user-avatar\\\\\\\" rel=\\\\\\\"davsclaus\\\\\\\" id=\\\\\\\"commentauthor_13451893_concise\\\\\\\" href=\\\\\\\"\\\\/jira\\\\/secure\\\\/ViewProfile.jspa?name=davsclaus\\\\\\\"\\u003e\\u003cspan class=\\\\\\\"aui-avatar aui-avatar-xsmall\\\\\\\"\\u003e\\u003cspan class=\\\\\\\"aui-avatar-inner\\\\\\\"\\u003e\\u003cimg src=\\\\\\\"https:\\\\/\\\\/issues.apache.org\\\\/jira\\\\/secure\\\\/useravatar?size=xsmall&amp;avatarId=10452\\\\\\\" alt=\\\\\\\"davsclaus\\\\\\\" \\\\/\\u003e\\u003c\\\\/span\\u003e\\u003c\\\\/span\\u003e Claus Ibsen\\u003c\\\\/a\\u003e\\\\n added a comment  - \\u003cspan class=\\'commentdate_13451893_concise subText\\'\\u003e\\u003cspan class=\\'date user-tz\\' title=\\'10\\\\/Sep\\\\/12 11:16\\'\\u003e\\u003ctime class=\\'livestamp\\' datetime=\\'2012-09-10T11:16:25+0000\\'\\u003e10\\\\/Sep\\\\/12 11:16\\u003c\\\\/time\\u003e\\u003c\\\\/span\\u003e\\u003c\\\\/span\\u003e                    The class com.sun.rmi.transports.tcp.TCPEndpoint is having a strong reference to the org.apache.activemq.broker.jmx.ManagementContext$2 class, which is that factory class.  There is no API to unregister this factory class.              \\u003c\\\\/div\\u003e\\\\n        \\u003c\\\\/div\\u003e\\\\n    \\u003c\\\\/div\\u003e\\\\n\\u003c\\\\/div\\u003e\\\\n                             \\\\n\\\\n\\\\n\\u003cdiv id=\\\\\\\"comment-13451896\\\\\\\" class=\\\\\\\"issue-data-block activity-comment twixi-block  expanded\\\\\\\"\\u003e\\\\n    \\u003cdiv class=\\\\\\\"twixi-wrap verbose actionContainer\\\\\\\"\\u003e\\\\n        \\u003cdiv class=\\\\\\\"action-head\\\\\\\"\\u003e\\\\n            \\u003ca href=\\\\\\\"#\\\\\\\" title=\\\\\\\"Collapse comment\\\\\\\" class=\\\\\\\"twixi\\\\\\\"\\u003e\\u003cspan class=\\\\\\\"icon-default aui-icon aui-icon-small aui-iconfont-expanded\\\\\\\"\\u003e\\u003cspan\\u003eHide\\u003c\\\\/span\\u003e\\u003c\\\\/span\\u003e\\u003c\\\\/a\\u003e\\\\n            \\u003cdiv class=\\\\\\\"action-links\\\\\\\"\\u003e\\\\n                \\u003ca href=\\\\\\\"\\\\/jira\\\\/browse\\\\/AMQ-4033?focusedCommentId=13451896&page=com.atlassian.jira.plugin.system.issuetabpanels:comment-tabpanel#comment-13451896\\\\\\\"\\\\n                   title=\\\\\\\"Right click and copy link for a permanent link to this comment.\\\\\\\" class=\\\\\\\"activitymodule-link issue-comment-action\\\\\\\"\\u003e\\\\n                    \\u003cspan class=\\\\\\\"icon-default aui-icon aui-icon-small aui-iconfont-link\\\\\\\"\\u003ePermalink\\u003c\\\\/span\\u003e\\u003c\\\\/a\\u003e\\\\n                                            \\u003c\\\\/div\\u003e\\\\n            \\u003cdiv class=\\\\\\\"action-details\\\\\\\"\\u003e        \\\\n    \\\\n    \\\\n    \\\\n                \\\\n\\\\n    \\u003ca class=\\\\\\\"user-hover user-avatar\\\\\\\" rel=\\\\\\\"davsclaus\\\\\\\" id=\\\\\\\"commentauthor_13451896_verbose\\\\\\\" href=\\\\\\\"\\\\/jira\\\\/secure\\\\/ViewProfile.jspa?name=davsclaus\\\\\\\"\\u003e\\u003cspan class=\\\\\\\"aui-avatar aui-avatar-xsmall\\\\\\\"\\u003e\\u003cspan class=\\\\\\\"aui-avatar-inner\\\\\\\"\\u003e\\u003cimg src=\\\\\\\"https:\\\\/\\\\/issues.apache.org\\\\/jira\\\\/secure\\\\/useravatar?size=xsmall&amp;avatarId=10452\\\\\\\" alt=\\\\\\\"davsclaus\\\\\\\" \\\\/\\u003e\\u003c\\\\/span\\u003e\\u003c\\\\/span\\u003e Claus Ibsen\\u003c\\\\/a\\u003e\\\\n added a comment  - \\u003cspan class=\\'commentdate_13451896_verbose subText\\'\\u003e\\u003cspan class=\\'date user-tz\\' title=\\'10\\\\/Sep\\\\/12 11:30\\'\\u003e\\u003ctime class=\\'livestamp\\' datetime=\\'2012-09-10T11:30:55+0000\\'\\u003e10\\\\/Sep\\\\/12 11:30\\u003c\\\\/time\\u003e\\u003c\\\\/span\\u003e\\u003c\\\\/span\\u003e  \\u003c\\\\/div\\u003e\\\\n        \\u003c\\\\/div\\u003e\\\\n        \\u003cdiv class=\\\\\\\"action-body flooded\\\\\\\"\\u003e\\u003cp\\u003eIf we remove the custom server socket factory, then there is no issues.\\u003c\\\\/p\\u003e\\\\n\\\\n\\u003cp\\u003eeg this code instead\\u003c\\\\/p\\u003e\\\\n\\u003cdiv class=\\\\\\\"code panel\\\\\\\" style=\\\\\\\"border-width: 1px;\\\\\\\"\\u003e\\u003cdiv class=\\\\\\\"codeContent panelContent\\\\\\\"\\u003e\\\\n\\u003cpre class=\\\\\\\"code-java\\\\\\\"\\u003e    registry = LocateRegistry.createRegistry(connectorPort);\\\\n\\u003c\\\\/pre\\u003e\\\\n\\u003c\\\\/div\\u003e\\u003c\\\\/div\\u003e \\u003c\\\\/div\\u003e\\\\n    \\u003c\\\\/div\\u003e\\\\n    \\u003cdiv class=\\\\\\\"twixi-wrap concise actionContainer\\\\\\\"\\u003e\\\\n        \\u003cdiv class=\\\\\\\"action-head\\\\\\\"\\u003e\\\\n            \\u003ca href=\\\\\\\"#\\\\\\\" title=\\\\\\\"Expand comment\\\\\\\" class=\\\\\\\"twixi\\\\\\\"\\u003e\\u003cspan class=\\\\\\\"icon-default aui-icon aui-icon-small aui-iconfont-collapsed\\\\\\\"\\u003e\\u003cspan\\u003eShow\\u003c\\\\/span\\u003e\\u003c\\\\/span\\u003e\\u003c\\\\/a\\u003e\\\\n            \\u003cdiv class=\\\\\\\"action-details flooded\\\\\\\"\\u003e\\\\n                        \\\\n    \\\\n    \\\\n    \\\\n                \\\\n\\\\n    \\u003ca class=\\\\\\\"user-hover user-avatar\\\\\\\" rel=\\\\\\\"davsclaus\\\\\\\" id=\\\\\\\"commentauthor_13451896_concise\\\\\\\" href=\\\\\\\"\\\\/jira\\\\/secure\\\\/ViewProfile.jspa?name=davsclaus\\\\\\\"\\u003e\\u003cspan class=\\\\\\\"aui-avatar aui-avatar-xsmall\\\\\\\"\\u003e\\u003cspan class=\\\\\\\"aui-avatar-inner\\\\\\\"\\u003e\\u003cimg src=\\\\\\\"https:\\\\/\\\\/issues.apache.org\\\\/jira\\\\/secure\\\\/useravatar?size=xsmall&amp;avatarId=10452\\\\\\\" alt=\\\\\\\"davsclaus\\\\\\\" \\\\/\\u003e\\u003c\\\\/span\\u003e\\u003c\\\\/span\\u003e Claus Ibsen\\u003c\\\\/a\\u003e\\\\n added a comment  - \\u003cspan class=\\'commentdate_13451896_concise subText\\'\\u003e\\u003cspan class=\\'date user-tz\\' title=\\'10\\\\/Sep\\\\/12 11:30\\'\\u003e\\u003ctime class=\\'livestamp\\' datetime=\\'2012-09-10T11:30:55+0000\\'\\u003e10\\\\/Sep\\\\/12 11:30\\u003c\\\\/time\\u003e\\u003c\\\\/span\\u003e\\u003c\\\\/span\\u003e                    If we remove the custom server socket factory, then there is no issues. \\\\n\\\\n eg this code instead \\\\n  \\\\n     registry = LocateRegistry.createRegistry(connectorPort);\\\\n \\\\n               \\u003c\\\\/div\\u003e\\\\n        \\u003c\\\\/div\\u003e\\\\n    \\u003c\\\\/div\\u003e\\\\n\\u003c\\\\/div\\u003e\\\\n                             \\\\n\\\\n\\\\n\\u003cdiv id=\\\\\\\"comment-13451899\\\\\\\" class=\\\\\\\"issue-data-block activity-comment twixi-block  expanded\\\\\\\"\\u003e\\\\n    \\u003cdiv class=\\\\\\\"twixi-wrap verbose actionContainer\\\\\\\"\\u003e\\\\n        \\u003cdiv class=\\\\\\\"action-head\\\\\\\"\\u003e\\\\n            \\u003ca href=\\\\\\\"#\\\\\\\" title=\\\\\\\"Collapse comment\\\\\\\" class=\\\\\\\"twixi\\\\\\\"\\u003e\\u003cspan class=\\\\\\\"icon-default aui-icon aui-icon-small aui-iconfont-expanded\\\\\\\"\\u003e\\u003cspan\\u003eHide\\u003c\\\\/span\\u003e\\u003c\\\\/span\\u003e\\u003c\\\\/a\\u003e\\\\n            \\u003cdiv class=\\\\\\\"action-links\\\\\\\"\\u003e\\\\n                \\u003ca href=\\\\\\\"\\\\/jira\\\\/browse\\\\/AMQ-4033?focusedCommentId=13451899&page=com.atlassian.jira.plugin.system.issuetabpanels:comment-tabpanel#comment-13451899\\\\\\\"\\\\n                   title=\\\\\\\"Right click and copy link for a permanent link to this comment.\\\\\\\" class=\\\\\\\"activitymodule-link issue-comment-action\\\\\\\"\\u003e\\\\n                    \\u003cspan class=\\\\\\\"icon-default aui-icon aui-icon-small aui-iconfont-link\\\\\\\"\\u003ePermalink\\u003c\\\\/span\\u003e\\u003c\\\\/a\\u003e\\\\n                                            \\u003c\\\\/div\\u003e\\\\n            \\u003cdiv class=\\\\\\\"action-details\\\\\\\"\\u003e        \\\\n    \\\\n    \\\\n    \\\\n                \\\\n\\\\n    \\u003ca class=\\\\\\\"user-hover user-avatar\\\\\\\" rel=\\\\\\\"davsclaus\\\\\\\" id=\\\\\\\"commentauthor_13451899_verbose\\\\\\\" href=\\\\\\\"\\\\/jira\\\\/secure\\\\/ViewProfile.jspa?name=davsclaus\\\\\\\"\\u003e\\u003cspan class=\\\\\\\"aui-avatar aui-avatar-xsmall\\\\\\\"\\u003e\\u003cspan class=\\\\\\\"aui-avatar-inner\\\\\\\"\\u003e\\u003cimg src=\\\\\\\"https:\\\\/\\\\/issues.apache.org\\\\/jira\\\\/secure\\\\/useravatar?size=xsmall&amp;avatarId=10452\\\\\\\" alt=\\\\\\\"davsclaus\\\\\\\" \\\\/\\u003e\\u003c\\\\/span\\u003e\\u003c\\\\/span\\u003e Claus Ibsen\\u003c\\\\/a\\u003e\\\\n added a comment  - \\u003cspan class=\\'commentdate_13451899_verbose subText\\'\\u003e\\u003cspan class=\\'date user-tz\\' title=\\'10\\\\/Sep\\\\/12 11:33\\'\\u003e\\u003ctime class=\\'livestamp\\' datetime=\\'2012-09-10T11:33:23+0000\\'\\u003e10\\\\/Sep\\\\/12 11:33\\u003c\\\\/time\\u003e\\u003c\\\\/span\\u003e\\u003c\\\\/span\\u003e  \\u003c\\\\/div\\u003e\\\\n        \\u003c\\\\/div\\u003e\\\\n        \\u003cdiv class=\\\\\\\"action-body flooded\\\\\\\"\\u003e\\u003cp\\u003eIts this commit which introduced the custom factory\\u003cbr\\\\/\\u003e\\\\n\\u003ca href=\\\\\\\"http:\\\\/\\\\/svn.apache.org\\\\/viewvc?view=revision&amp;revision=833376\\\\\\\" class=\\\\\\\"external-link\\\\\\\" rel=\\\\\\\"nofollow\\\\\\\"\\u003ehttp:\\\\/\\\\/svn.apache.org\\\\/viewvc?view=revision&amp;revision=833376\\u003c\\\\/a\\u003e\\u003c\\\\/p\\u003e \\u003c\\\\/div\\u003e\\\\n    \\u003c\\\\/div\\u003e\\\\n    \\u003cdiv class=\\\\\\\"twixi-wrap concise actionContainer\\\\\\\"\\u003e\\\\n        \\u003cdiv class=\\\\\\\"action-head\\\\\\\"\\u003e\\\\n            \\u003ca href=\\\\\\\"#\\\\\\\" title=\\\\\\\"Expand comment\\\\\\\" class=\\\\\\\"twixi\\\\\\\"\\u003e\\u003cspan class=\\\\\\\"icon-default aui-icon aui-icon-small aui-iconfont-collapsed\\\\\\\"\\u003e\\u003cspan\\u003eShow\\u003c\\\\/span\\u003e\\u003c\\\\/span\\u003e\\u003c\\\\/a\\u003e\\\\n            \\u003cdiv class=\\\\\\\"action-details flooded\\\\\\\"\\u003e\\\\n                        \\\\n    \\\\n    \\\\n    \\\\n                \\\\n\\\\n    \\u003ca class=\\\\\\\"user-hover user-avatar\\\\\\\" rel=\\\\\\\"davsclaus\\\\\\\" id=\\\\\\\"commentauthor_13451899_concise\\\\\\\" href=\\\\\\\"\\\\/jira\\\\/secure\\\\/ViewProfile.jspa?name=davsclaus\\\\\\\"\\u003e\\u003cspan class=\\\\\\\"aui-avatar aui-avatar-xsmall\\\\\\\"\\u003e\\u003cspan class=\\\\\\\"aui-avatar-inner\\\\\\\"\\u003e\\u003cimg src=\\\\\\\"https:\\\\/\\\\/issues.apache.org\\\\/jira\\\\/secure\\\\/useravatar?size=xsmall&amp;avatarId=10452\\\\\\\" alt=\\\\\\\"davsclaus\\\\\\\" \\\\/\\u003e\\u003c\\\\/span\\u003e\\u003c\\\\/span\\u003e Claus Ibsen\\u003c\\\\/a\\u003e\\\\n added a comment  - \\u003cspan class=\\'commentdate_13451899_concise subText\\'\\u003e\\u003cspan class=\\'date user-tz\\' title=\\'10\\\\/Sep\\\\/12 11:33\\'\\u003e\\u003ctime class=\\'livestamp\\' datetime=\\'2012-09-10T11:33:23+0000\\'\\u003e10\\\\/Sep\\\\/12 11:33\\u003c\\\\/time\\u003e\\u003c\\\\/span\\u003e\\u003c\\\\/span\\u003e                    Its this commit which introduced the custom factory \\\\n http:\\\\/\\\\/svn.apache.org\\\\/viewvc?view=revision&amp;revision=833376               \\u003c\\\\/div\\u003e\\\\n        \\u003c\\\\/div\\u003e\\\\n    \\u003c\\\\/div\\u003e\\\\n\\u003c\\\\/div\\u003e\\\\n                             \\\\n\\\\n\\\\n\\u003cdiv id=\\\\\\\"comment-13451908\\\\\\\" class=\\\\\\\"issue-data-block activity-comment twixi-block  expanded\\\\\\\"\\u003e\\\\n    \\u003cdiv class=\\\\\\\"twixi-wrap verbose actionContainer\\\\\\\"\\u003e\\\\n        \\u003cdiv class=\\\\\\\"action-head\\\\\\\"\\u003e\\\\n            \\u003ca href=\\\\\\\"#\\\\\\\" title=\\\\\\\"Collapse comment\\\\\\\" class=\\\\\\\"twixi\\\\\\\"\\u003e\\u003cspan class=\\\\\\\"icon-default aui-icon aui-icon-small aui-iconfont-expanded\\\\\\\"\\u003e\\u003cspan\\u003eHide\\u003c\\\\/span\\u003e\\u003c\\\\/span\\u003e\\u003c\\\\/a\\u003e\\\\n            \\u003cdiv class=\\\\\\\"action-links\\\\\\\"\\u003e\\\\n                \\u003ca href=\\\\\\\"\\\\/jira\\\\/browse\\\\/AMQ-4033?focusedCommentId=13451908&page=com.atlassian.jira.plugin.system.issuetabpanels:comment-tabpanel#comment-13451908\\\\\\\"\\\\n                   title=\\\\\\\"Right click and copy link for a permanent link to this comment.\\\\\\\" class=\\\\\\\"activitymodule-link issue-comment-action\\\\\\\"\\u003e\\\\n                    \\u003cspan class=\\\\\\\"icon-default aui-icon aui-icon-small aui-iconfont-link\\\\\\\"\\u003ePermalink\\u003c\\\\/span\\u003e\\u003c\\\\/a\\u003e\\\\n                                            \\u003c\\\\/div\\u003e\\\\n            \\u003cdiv class=\\\\\\\"action-details\\\\\\\"\\u003e        \\\\n    \\\\n    \\\\n    \\\\n                \\\\n\\\\n    \\u003ca class=\\\\\\\"user-hover user-avatar\\\\\\\" rel=\\\\\\\"gtully\\\\\\\" id=\\\\\\\"commentauthor_13451908_verbose\\\\\\\" href=\\\\\\\"\\\\/jira\\\\/secure\\\\/ViewProfile.jspa?name=gtully\\\\\\\"\\u003e\\u003cspan class=\\\\\\\"aui-avatar aui-avatar-xsmall\\\\\\\"\\u003e\\u003cspan class=\\\\\\\"aui-avatar-inner\\\\\\\"\\u003e\\u003cimg src=\\\\\\\"https:\\\\/\\\\/issues.apache.org\\\\/jira\\\\/secure\\\\/useravatar?size=xsmall&amp;avatarId=10452\\\\\\\" alt=\\\\\\\"gtully\\\\\\\" \\\\/\\u003e\\u003c\\\\/span\\u003e\\u003c\\\\/span\\u003e Gary Tully\\u003c\\\\/a\\u003e\\\\n added a comment  - \\u003cspan class=\\'commentdate_13451908_verbose subText\\'\\u003e\\u003cspan class=\\'date user-tz\\' title=\\'10\\\\/Sep\\\\/12 11:45\\'\\u003e\\u003ctime class=\\'livestamp\\' datetime=\\'2012-09-10T11:45:49+0000\\'\\u003e10\\\\/Sep\\\\/12 11:45\\u003c\\\\/time\\u003e\\u003c\\\\/span\\u003e\\u003c\\\\/span\\u003e  \\u003c\\\\/div\\u003e\\\\n        \\u003c\\\\/div\\u003e\\\\n        \\u003cdiv class=\\\\\\\"action-body flooded\\\\\\\"\\u003e\\u003cp\\u003eI think it is safe to remove that soReuseAddr, I am not convinced that it is really a problem for the ci builds. If it proves to be, we can pull it back in conditionally.\\u003cbr\\\\/\\u003e\\\\nWe know now it is a problem for embedded brokers.\\u003c\\\\/p\\u003e \\u003c\\\\/div\\u003e\\\\n    \\u003c\\\\/div\\u003e\\\\n    \\u003cdiv class=\\\\\\\"twixi-wrap concise actionContainer\\\\\\\"\\u003e\\\\n        \\u003cdiv class=\\\\\\\"action-head\\\\\\\"\\u003e\\\\n            \\u003ca href=\\\\\\\"#\\\\\\\" title=\\\\\\\"Expand comment\\\\\\\" class=\\\\\\\"twixi\\\\\\\"\\u003e\\u003cspan class=\\\\\\\"icon-default aui-icon aui-icon-small aui-iconfont-collapsed\\\\\\\"\\u003e\\u003cspan\\u003eShow\\u003c\\\\/span\\u003e\\u003c\\\\/span\\u003e\\u003c\\\\/a\\u003e\\\\n            \\u003cdiv class=\\\\\\\"action-details flooded\\\\\\\"\\u003e\\\\n                        \\\\n    \\\\n    \\\\n    \\\\n                \\\\n\\\\n    \\u003ca class=\\\\\\\"user-hover user-avatar\\\\\\\" rel=\\\\\\\"gtully\\\\\\\" id=\\\\\\\"commentauthor_13451908_concise\\\\\\\" href=\\\\\\\"\\\\/jira\\\\/secure\\\\/ViewProfile.jspa?name=gtully\\\\\\\"\\u003e\\u003cspan class=\\\\\\\"aui-avatar aui-avatar-xsmall\\\\\\\"\\u003e\\u003cspan class=\\\\\\\"aui-avatar-inner\\\\\\\"\\u003e\\u003cimg src=\\\\\\\"https:\\\\/\\\\/issues.apache.org\\\\/jira\\\\/secure\\\\/useravatar?size=xsmall&amp;avatarId=10452\\\\\\\" alt=\\\\\\\"gtully\\\\\\\" \\\\/\\u003e\\u003c\\\\/span\\u003e\\u003c\\\\/span\\u003e Gary Tully\\u003c\\\\/a\\u003e\\\\n added a comment  - \\u003cspan class=\\'commentdate_13451908_concise subText\\'\\u003e\\u003cspan class=\\'date user-tz\\' title=\\'10\\\\/Sep\\\\/12 11:45\\'\\u003e\\u003ctime class=\\'livestamp\\' datetime=\\'2012-09-10T11:45:49+0000\\'\\u003e10\\\\/Sep\\\\/12 11:45\\u003c\\\\/time\\u003e\\u003c\\\\/span\\u003e\\u003c\\\\/span\\u003e                    I think it is safe to remove that soReuseAddr, I am not convinced that it is really a problem for the ci builds. If it proves to be, we can pull it back in conditionally. \\\\nWe know now it is a problem for embedded brokers.              \\u003c\\\\/div\\u003e\\\\n        \\u003c\\\\/div\\u003e\\\\n    \\u003c\\\\/div\\u003e\\\\n\\u003c\\\\/div\\u003e\\\\n                             \\\\n\\\\n\\\\n\\u003cdiv id=\\\\\\\"comment-13483201\\\\\\\" class=\\\\\\\"issue-data-block activity-comment twixi-block  expanded\\\\\\\"\\u003e\\\\n    \\u003cdiv class=\\\\\\\"twixi-wrap verbose actionContainer\\\\\\\"\\u003e\\\\n        \\u003cdiv class=\\\\\\\"action-head\\\\\\\"\\u003e\\\\n            \\u003ca href=\\\\\\\"#\\\\\\\" title=\\\\\\\"Collapse comment\\\\\\\" class=\\\\\\\"twixi\\\\\\\"\\u003e\\u003cspan class=\\\\\\\"icon-default aui-icon aui-icon-small aui-iconfont-expanded\\\\\\\"\\u003e\\u003cspan\\u003eHide\\u003c\\\\/span\\u003e\\u003c\\\\/span\\u003e\\u003c\\\\/a\\u003e\\\\n            \\u003cdiv class=\\\\\\\"action-links\\\\\\\"\\u003e\\\\n                \\u003ca href=\\\\\\\"\\\\/jira\\\\/browse\\\\/AMQ-4033?focusedCommentId=13483201&page=com.atlassian.jira.plugin.system.issuetabpanels:comment-tabpanel#comment-13483201\\\\\\\"\\\\n                   title=\\\\\\\"Right click and copy link for a permanent link to this comment.\\\\\\\" class=\\\\\\\"activitymodule-link issue-comment-action\\\\\\\"\\u003e\\\\n                    \\u003cspan class=\\\\\\\"icon-default aui-icon aui-icon-small aui-iconfont-link\\\\\\\"\\u003ePermalink\\u003c\\\\/span\\u003e\\u003c\\\\/a\\u003e\\\\n                                            \\u003c\\\\/div\\u003e\\\\n            \\u003cdiv class=\\\\\\\"action-details\\\\\\\"\\u003e        \\\\n    \\\\n    \\\\n    \\\\n                \\\\n\\\\n    \\u003ca class=\\\\\\\"user-hover user-avatar\\\\\\\" rel=\\\\\\\"gtully\\\\\\\" id=\\\\\\\"commentauthor_13483201_verbose\\\\\\\" href=\\\\\\\"\\\\/jira\\\\/secure\\\\/ViewProfile.jspa?name=gtully\\\\\\\"\\u003e\\u003cspan class=\\\\\\\"aui-avatar aui-avatar-xsmall\\\\\\\"\\u003e\\u003cspan class=\\\\\\\"aui-avatar-inner\\\\\\\"\\u003e\\u003cimg src=\\\\\\\"https:\\\\/\\\\/issues.apache.org\\\\/jira\\\\/secure\\\\/useravatar?size=xsmall&amp;avatarId=10452\\\\\\\" alt=\\\\\\\"gtully\\\\\\\" \\\\/\\u003e\\u003c\\\\/span\\u003e\\u003c\\\\/span\\u003e Gary Tully\\u003c\\\\/a\\u003e\\\\n added a comment  - \\u003cspan class=\\'commentdate_13483201_verbose subText\\'\\u003e\\u003cspan class=\\'date user-tz\\' title=\\'24\\\\/Oct\\\\/12 13:05\\'\\u003e\\u003ctime class=\\'livestamp\\' datetime=\\'2012-10-24T13:05:22+0000\\'\\u003e24\\\\/Oct\\\\/12 13:05\\u003c\\\\/time\\u003e\\u003c\\\\/span\\u003e\\u003c\\\\/span\\u003e  \\u003c\\\\/div\\u003e\\\\n        \\u003c\\\\/div\\u003e\\\\n        \\u003cdiv class=\\\\\\\"action-body flooded\\\\\\\"\\u003e\\u003cp\\u003eone thought on this. In an embedded case, where there is a third party container. the broker is best reusing the jvms mbean server rather than creating its own. Or reusing the mbean server provided by the container. It is just less moving parts.\\u003cbr\\\\/\\u003e\\\\nSo managementContext.createMBeanServer=false should be used\\u003c\\\\/p\\u003e \\u003c\\\\/div\\u003e\\\\n    \\u003c\\\\/div\\u003e\\\\n    \\u003cdiv class=\\\\\\\"twixi-wrap concise actionContainer\\\\\\\"\\u003e\\\\n        \\u003cdiv class=\\\\\\\"action-head\\\\\\\"\\u003e\\\\n            \\u003ca href=\\\\\\\"#\\\\\\\" title=\\\\\\\"Expand comment\\\\\\\" class=\\\\\\\"twixi\\\\\\\"\\u003e\\u003cspan class=\\\\\\\"icon-default aui-icon aui-icon-small aui-iconfont-collapsed\\\\\\\"\\u003e\\u003cspan\\u003eShow\\u003c\\\\/span\\u003e\\u003c\\\\/span\\u003e\\u003c\\\\/a\\u003e\\\\n            \\u003cdiv class=\\\\\\\"action-details flooded\\\\\\\"\\u003e\\\\n                        \\\\n    \\\\n    \\\\n    \\\\n                \\\\n\\\\n    \\u003ca class=\\\\\\\"user-hover user-avatar\\\\\\\" rel=\\\\\\\"gtully\\\\\\\" id=\\\\\\\"commentauthor_13483201_concise\\\\\\\" href=\\\\\\\"\\\\/jira\\\\/secure\\\\/ViewProfile.jspa?name=gtully\\\\\\\"\\u003e\\u003cspan class=\\\\\\\"aui-avatar aui-avatar-xsmall\\\\\\\"\\u003e\\u003cspan class=\\\\\\\"aui-avatar-inner\\\\\\\"\\u003e\\u003cimg src=\\\\\\\"https:\\\\/\\\\/issues.apache.org\\\\/jira\\\\/secure\\\\/useravatar?size=xsmall&amp;avatarId=10452\\\\\\\" alt=\\\\\\\"gtully\\\\\\\" \\\\/\\u003e\\u003c\\\\/span\\u003e\\u003c\\\\/span\\u003e Gary Tully\\u003c\\\\/a\\u003e\\\\n added a comment  - \\u003cspan class=\\'commentdate_13483201_concise subText\\'\\u003e\\u003cspan class=\\'date user-tz\\' title=\\'24\\\\/Oct\\\\/12 13:05\\'\\u003e\\u003ctime class=\\'livestamp\\' datetime=\\'2012-10-24T13:05:22+0000\\'\\u003e24\\\\/Oct\\\\/12 13:05\\u003c\\\\/time\\u003e\\u003c\\\\/span\\u003e\\u003c\\\\/span\\u003e                    one thought on this. In an embedded case, where there is a third party container. the broker is best reusing the jvms mbean server rather than creating its own. Or reusing the mbean server provided by the container. It is just less moving parts. \\\\nSo managementContext.createMBeanServer=false should be used              \\u003c\\\\/div\\u003e\\\\n        \\u003c\\\\/div\\u003e\\\\n    \\u003c\\\\/div\\u003e\\\\n\\u003c\\\\/div\\u003e\\\\n                             \\\\n\\\\n\\\\n\\u003cdiv id=\\\\\\\"comment-13654588\\\\\\\" class=\\\\\\\"issue-data-block activity-comment twixi-block  expanded\\\\\\\"\\u003e\\\\n    \\u003cdiv class=\\\\\\\"twixi-wrap verbose actionContainer\\\\\\\"\\u003e\\\\n        \\u003cdiv class=\\\\\\\"action-head\\\\\\\"\\u003e\\\\n            \\u003ca href=\\\\\\\"#\\\\\\\" title=\\\\\\\"Collapse comment\\\\\\\" class=\\\\\\\"twixi\\\\\\\"\\u003e\\u003cspan class=\\\\\\\"icon-default aui-icon aui-icon-small aui-iconfont-expanded\\\\\\\"\\u003e\\u003cspan\\u003eHide\\u003c\\\\/span\\u003e\\u003c\\\\/span\\u003e\\u003c\\\\/a\\u003e\\\\n            \\u003cdiv class=\\\\\\\"action-links\\\\\\\"\\u003e\\\\n                \\u003ca href=\\\\\\\"\\\\/jira\\\\/browse\\\\/AMQ-4033?focusedCommentId=13654588&page=com.atlassian.jira.plugin.system.issuetabpanels:comment-tabpanel#comment-13654588\\\\\\\"\\\\n                   title=\\\\\\\"Right click and copy link for a permanent link to this comment.\\\\\\\" class=\\\\\\\"activitymodule-link issue-comment-action\\\\\\\"\\u003e\\\\n                    \\u003cspan class=\\\\\\\"icon-default aui-icon aui-icon-small aui-iconfont-link\\\\\\\"\\u003ePermalink\\u003c\\\\/span\\u003e\\u003c\\\\/a\\u003e\\\\n                                            \\u003c\\\\/div\\u003e\\\\n            \\u003cdiv class=\\\\\\\"action-details\\\\\\\"\\u003e        \\\\n    \\\\n    \\\\n    \\\\n                \\\\n\\\\n    \\u003ca class=\\\\\\\"user-hover user-avatar\\\\\\\" rel=\\\\\\\"aogail\\\\\\\" id=\\\\\\\"commentauthor_13654588_verbose\\\\\\\" href=\\\\\\\"\\\\/jira\\\\/secure\\\\/ViewProfile.jspa?name=aogail\\\\\\\"\\u003e\\u003cspan class=\\\\\\\"aui-avatar aui-avatar-xsmall\\\\\\\"\\u003e\\u003cspan class=\\\\\\\"aui-avatar-inner\\\\\\\"\\u003e\\u003cimg src=\\\\\\\"https:\\\\/\\\\/issues.apache.org\\\\/jira\\\\/secure\\\\/useravatar?size=xsmall&amp;avatarId=10452\\\\\\\" alt=\\\\\\\"aogail\\\\\\\" \\\\/\\u003e\\u003c\\\\/span\\u003e\\u003c\\\\/span\\u003e Ben Jansen\\u003c\\\\/a\\u003e\\\\n added a comment  - \\u003cspan class=\\'commentdate_13654588_verbose subText\\'\\u003e\\u003cspan class=\\'date user-tz\\' title=\\'10\\\\/May\\\\/13 16:36\\'\\u003e\\u003ctime class=\\'livestamp\\' datetime=\\'2013-05-10T16:36:53+0000\\'\\u003e10\\\\/May\\\\/13 16:36\\u003c\\\\/time\\u003e\\u003c\\\\/span\\u003e\\u003c\\\\/span\\u003e  \\u003c\\\\/div\\u003e\\\\n        \\u003c\\\\/div\\u003e\\\\n        \\u003cdiv class=\\\\\\\"action-body flooded\\\\\\\"\\u003e\\u003cp\\u003eIt looks like the fix for this issue undid the fix for \\u003ca href=\\\\\\\"https:\\\\/\\\\/issues.apache.org\\\\/jira\\\\/browse\\\\/AMQ-3915\\\\\\\" title=\\\\\\\"JMX connector does not bind to a specific host when a connectHost is specified on the managementContext\\\\\\\" class=\\\\\\\"issue-link\\\\\\\" data-issue-key=\\\\\\\"AMQ-3915\\\\\\\"\\u003e\\u003cdel\\u003eAMQ-3915\\u003c\\\\/del\\u003e\\u003c\\\\/a\\u003e. You can see this at line 503 of: \\u003ca href=\\\\\\\"https:\\\\/\\\\/fisheye6.atlassian.com\\\\/changelog\\\\/activemq?cs=1382852\\\\\\\" class=\\\\\\\"external-link\\\\\\\" rel=\\\\\\\"nofollow\\\\\\\"\\u003ehttps:\\\\/\\\\/fisheye6.atlassian.com\\\\/changelog\\\\/activemq?cs=1382852\\u003c\\\\/a\\u003e\\u003c\\\\/p\\u003e\\\\n\\\\n\\u003cp\\u003eWas this intentional?\\u003c\\\\/p\\u003e \\u003c\\\\/div\\u003e\\\\n    \\u003c\\\\/div\\u003e\\\\n    \\u003cdiv class=\\\\\\\"twixi-wrap concise actionContainer\\\\\\\"\\u003e\\\\n        \\u003cdiv class=\\\\\\\"action-head\\\\\\\"\\u003e\\\\n            \\u003ca href=\\\\\\\"#\\\\\\\" title=\\\\\\\"Expand comment\\\\\\\" class=\\\\\\\"twixi\\\\\\\"\\u003e\\u003cspan class=\\\\\\\"icon-default aui-icon aui-icon-small aui-iconfont-collapsed\\\\\\\"\\u003e\\u003cspan\\u003eShow\\u003c\\\\/span\\u003e\\u003c\\\\/span\\u003e\\u003c\\\\/a\\u003e\\\\n            \\u003cdiv class=\\\\\\\"action-details flooded\\\\\\\"\\u003e\\\\n                        \\\\n    \\\\n    \\\\n    \\\\n                \\\\n\\\\n    \\u003ca class=\\\\\\\"user-hover user-avatar\\\\\\\" rel=\\\\\\\"aogail\\\\\\\" id=\\\\\\\"commentauthor_13654588_concise\\\\\\\" href=\\\\\\\"\\\\/jira\\\\/secure\\\\/ViewProfile.jspa?name=aogail\\\\\\\"\\u003e\\u003cspan class=\\\\\\\"aui-avatar aui-avatar-xsmall\\\\\\\"\\u003e\\u003cspan class=\\\\\\\"aui-avatar-inner\\\\\\\"\\u003e\\u003cimg src=\\\\\\\"https:\\\\/\\\\/issues.apache.org\\\\/jira\\\\/secure\\\\/useravatar?size=xsmall&amp;avatarId=10452\\\\\\\" alt=\\\\\\\"aogail\\\\\\\" \\\\/\\u003e\\u003c\\\\/span\\u003e\\u003c\\\\/span\\u003e Ben Jansen\\u003c\\\\/a\\u003e\\\\n added a comment  - \\u003cspan class=\\'commentdate_13654588_concise subText\\'\\u003e\\u003cspan class=\\'date user-tz\\' title=\\'10\\\\/May\\\\/13 16:36\\'\\u003e\\u003ctime class=\\'livestamp\\' datetime=\\'2013-05-10T16:36:53+0000\\'\\u003e10\\\\/May\\\\/13 16:36\\u003c\\\\/time\\u003e\\u003c\\\\/span\\u003e\\u003c\\\\/span\\u003e                    It looks like the fix for this issue undid the fix for   AMQ-3915  . You can see this at line 503 of:  https:\\\\/\\\\/fisheye6.atlassian.com\\\\/changelog\\\\/activemq?cs=1382852  \\\\n\\\\n Was this intentional?              \\u003c\\\\/div\\u003e\\\\n        \\u003c\\\\/div\\u003e\\\\n    \\u003c\\\\/div\\u003e\\\\n\\u003c\\\\/div\\u003e\\\\n                             \\\\n\\\\n\\\\n\\u003cdiv id=\\\\\\\"comment-13656981\\\\\\\" class=\\\\\\\"issue-data-block activity-comment twixi-block  expanded\\\\\\\"\\u003e\\\\n    \\u003cdiv class=\\\\\\\"twixi-wrap verbose actionContainer\\\\\\\"\\u003e\\\\n        \\u003cdiv class=\\\\\\\"action-head\\\\\\\"\\u003e\\\\n            \\u003ca href=\\\\\\\"#\\\\\\\" title=\\\\\\\"Collapse comment\\\\\\\" class=\\\\\\\"twixi\\\\\\\"\\u003e\\u003cspan class=\\\\\\\"icon-default aui-icon aui-icon-small aui-iconfont-expanded\\\\\\\"\\u003e\\u003cspan\\u003eHide\\u003c\\\\/span\\u003e\\u003c\\\\/span\\u003e\\u003c\\\\/a\\u003e\\\\n            \\u003cdiv class=\\\\\\\"action-links\\\\\\\"\\u003e\\\\n                \\u003ca href=\\\\\\\"\\\\/jira\\\\/browse\\\\/AMQ-4033?focusedCommentId=13656981&page=com.atlassian.jira.plugin.system.issuetabpanels:comment-tabpanel#comment-13656981\\\\\\\"\\\\n                   title=\\\\\\\"Right click and copy link for a permanent link to this comment.\\\\\\\" class=\\\\\\\"activitymodule-link issue-comment-action\\\\\\\"\\u003e\\\\n                    \\u003cspan class=\\\\\\\"icon-default aui-icon aui-icon-small aui-iconfont-link\\\\\\\"\\u003ePermalink\\u003c\\\\/span\\u003e\\u003c\\\\/a\\u003e\\\\n                                            \\u003c\\\\/div\\u003e\\\\n            \\u003cdiv class=\\\\\\\"action-details\\\\\\\"\\u003e        \\\\n    \\\\n    \\\\n    \\\\n                \\\\n\\\\n    \\u003ca class=\\\\\\\"user-hover user-avatar\\\\\\\" rel=\\\\\\\"gtully\\\\\\\" id=\\\\\\\"commentauthor_13656981_verbose\\\\\\\" href=\\\\\\\"\\\\/jira\\\\/secure\\\\/ViewProfile.jspa?name=gtully\\\\\\\"\\u003e\\u003cspan class=\\\\\\\"aui-avatar aui-avatar-xsmall\\\\\\\"\\u003e\\u003cspan class=\\\\\\\"aui-avatar-inner\\\\\\\"\\u003e\\u003cimg src=\\\\\\\"https:\\\\/\\\\/issues.apache.org\\\\/jira\\\\/secure\\\\/useravatar?size=xsmall&amp;avatarId=10452\\\\\\\" alt=\\\\\\\"gtully\\\\\\\" \\\\/\\u003e\\u003c\\\\/span\\u003e\\u003c\\\\/span\\u003e Gary Tully\\u003c\\\\/a\\u003e\\\\n added a comment  - \\u003cspan class=\\'commentdate_13656981_verbose subText\\'\\u003e\\u003cspan class=\\'date user-tz\\' title=\\'14\\\\/May\\\\/13 11:43\\'\\u003e\\u003ctime class=\\'livestamp\\' datetime=\\'2013-05-14T11:43:13+0000\\'\\u003e14\\\\/May\\\\/13 11:43\\u003c\\\\/time\\u003e\\u003c\\\\/span\\u003e\\u003c\\\\/span\\u003e  \\u003c\\\\/div\\u003e\\\\n        \\u003c\\\\/div\\u003e\\\\n        \\u003cdiv class=\\\\\\\"action-body flooded\\\\\\\"\\u003e\\u003cp\\u003elooks like we need to make the registration of a socketfactory conditional such that we can reinstate the fix for \\u003ca href=\\\\\\\"https:\\\\/\\\\/issues.apache.org\\\\/jira\\\\/browse\\\\/AMQ-3915\\\\\\\" title=\\\\\\\"JMX connector does not bind to a specific host when a connectHost is specified on the managementContext\\\\\\\" class=\\\\\\\"issue-link\\\\\\\" data-issue-key=\\\\\\\"AMQ-3915\\\\\\\"\\u003e\\u003cdel\\u003eAMQ-3915\\u003c\\\\/del\\u003e\\u003c\\\\/a\\u003e\\u003c\\\\/p\\u003e\\\\n\\\\n\\u003cp\\u003emaybe only use a socketfactory it if \\u003c\\\\/p\\u003e\\\\n\\u003cdiv class=\\\\\\\"code panel\\\\\\\" style=\\\\\\\"border-width: 1px;\\\\\\\"\\u003e\\u003cdiv class=\\\\\\\"codeContent panelContent\\\\\\\"\\u003e\\\\n\\u003cpre class=\\\\\\\"code-java\\\\\\\"\\u003econnectorHost\\u003c\\\\/pre\\u003e\\\\n\\u003c\\\\/div\\u003e\\u003c\\\\/div\\u003e\\\\n\\u003cp\\u003e is explicitly set. Folks running embedded will most probably (or should) be ussing the containers jmx mbean server.\\u003c\\\\/p\\u003e \\u003c\\\\/div\\u003e\\\\n    \\u003c\\\\/div\\u003e\\\\n    \\u003cdiv class=\\\\\\\"twixi-wrap concise actionContainer\\\\\\\"\\u003e\\\\n        \\u003cdiv class=\\\\\\\"action-head\\\\\\\"\\u003e\\\\n            \\u003ca href=\\\\\\\"#\\\\\\\" title=\\\\\\\"Expand comment\\\\\\\" class=\\\\\\\"twixi\\\\\\\"\\u003e\\u003cspan class=\\\\\\\"icon-default aui-icon aui-icon-small aui-iconfont-collapsed\\\\\\\"\\u003e\\u003cspan\\u003eShow\\u003c\\\\/span\\u003e\\u003c\\\\/span\\u003e\\u003c\\\\/a\\u003e\\\\n            \\u003cdiv class=\\\\\\\"action-details flooded\\\\\\\"\\u003e\\\\n                        \\\\n    \\\\n    \\\\n    \\\\n                \\\\n\\\\n    \\u003ca class=\\\\\\\"user-hover user-avatar\\\\\\\" rel=\\\\\\\"gtully\\\\\\\" id=\\\\\\\"commentauthor_13656981_concise\\\\\\\" href=\\\\\\\"\\\\/jira\\\\/secure\\\\/ViewProfile.jspa?name=gtully\\\\\\\"\\u003e\\u003cspan class=\\\\\\\"aui-avatar aui-avatar-xsmall\\\\\\\"\\u003e\\u003cspan class=\\\\\\\"aui-avatar-inner\\\\\\\"\\u003e\\u003cimg src=\\\\\\\"https:\\\\/\\\\/issues.apache.org\\\\/jira\\\\/secure\\\\/useravatar?size=xsmall&amp;avatarId=10452\\\\\\\" alt=\\\\\\\"gtully\\\\\\\" \\\\/\\u003e\\u003c\\\\/span\\u003e\\u003c\\\\/span\\u003e Gary Tully\\u003c\\\\/a\\u003e\\\\n added a comment  - \\u003cspan class=\\'commentdate_13656981_concise subText\\'\\u003e\\u003cspan class=\\'date user-tz\\' title=\\'14\\\\/May\\\\/13 11:43\\'\\u003e\\u003ctime class=\\'livestamp\\' datetime=\\'2013-05-14T11:43:13+0000\\'\\u003e14\\\\/May\\\\/13 11:43\\u003c\\\\/time\\u003e\\u003c\\\\/span\\u003e\\u003c\\\\/span\\u003e                    looks like we need to make the registration of a socketfactory conditional such that we can reinstate the fix for   AMQ-3915   \\\\n\\\\n maybe only use a socketfactory it if  \\\\n  \\\\n connectorHost \\\\n  \\\\n  is explicitly set. Folks running embedded will most probably (or should) be ussing the containers jmx mbean server.              \\u003c\\\\/div\\u003e\\\\n        \\u003c\\\\/div\\u003e\\\\n    \\u003c\\\\/div\\u003e\\\\n\\u003c\\\\/div\\u003e\\\\n                             \\u003c\\\\/div\\u003e\\\\n    \\u003c\\\\/div\\u003e\\\\n\\\"\";\n",
      "if(window.WRM._dataArrived)window.WRM._dataArrived();</script>\n",
      "<script>\n",
      "window.WRM=window.WRM||{};window.WRM._unparsedData=window.WRM._unparsedData||{};window.WRM._unparsedErrors=window.WRM._unparsedErrors||{};\n",
      "WRM._unparsedData[\"scope-filter-data\"]=\"{\\\"createScopeActions\\\":[],\\\"scopes\\\":[]}\";\n",
      "WRM._unparsedData[\"sidebar-collapsed-by-default\"]=\"true\";\n",
      "WRM._unparsedData[\"com.atlassian.jira.projects.shortcuts:can-manage\"]=\"false\";\n",
      "WRM._unparsedData[\"com.atlassian.jira.projects.shortcuts:with-icons\"]=\"false\";\n",
      "WRM._unparsedData[\"com.atlassian.jira.projects.shortcuts:shortcuts\"]=\"[]\";\n",
      "WRM._unparsedData[\"com.atlassian.jira.projects.shortcuts:project-id\"]=\"12311210\";\n",
      "WRM._unparsedData[\"sidebar-id\"]=\"\\\"\\u003cdiv class=\\\\\\\"aui-sidebar  projects-sidebar sidebar-pending\\\\\\\" \\u003e\\u003cdiv class=\\\\\\\"aui-sidebar-wrapper\\\\\\\"\\u003e\\u003cdiv class=\\\\\\\"aui-sidebar-body\\\\\\\"\\u003e\\u003cheader class=\\\\\\\"aui-page-header\\\\\\\"\\u003e\\u003cdiv class=\\\\\\\"aui-page-header-inner\\\\\\\"\\u003e\\u003cdiv class=\\\\\\\"aui-page-header-image\\\\\\\"\\u003e\\u003ca href=\\\\\\\"\\\\/jira\\\\/projects\\\\/AMQ\\\\/summary\\\\\\\" title=\\\\\\\"ActiveMQ\\\\\\\" class=\\\\\\\"jira-project-avatar\\\\\\\"\\u003e\\u003cspan class=\\\\\\\"aui-avatar aui-avatar-large aui-avatar-project\\\\\\\"\\u003e\\u003cspan class=\\\\\\\"aui-avatar-inner\\\\\\\"\\u003e\\u003cimg src=\\\\\\\"\\\\/jira\\\\/secure\\\\/projectavatar?pid=12311210&amp;avatarId=10011\\\\\\\" alt=\\\\\\\"ActiveMQ\\\\\\\" \\\\/\\u003e\\u003c\\\\/span\\u003e\\u003c\\\\/span\\u003e\\u003cimg src=\\\\\\\"data:image\\\\/svg+xml;base64,PD94bWwgdmVyc2lvbj0iMS4wIiBlbmNvZGluZz0iaXNvLTg4NTktMSI\\\\/Pg0KPCEtLSBHZW5lcmF0b3I6IEFkb2JlIElsbHVzdHJhdG9yIDE4LjEuMSwgU1ZHIEV4cG9ydCBQbHVnLUluIC4gU1ZHIFZlcnNpb246IDYuMDAgQnVpbGQgMCkgIC0tPg0KPHN2ZyB2ZXJzaW9uPSIxLjEiIGlkPSJMYXllcl8xIiB4bWxucz0iaHR0cDovL3d3dy53My5vcmcvMjAwMC9zdmciIHhtbG5zOnhsaW5rPSJodHRwOi8vd3d3LnczLm9yZy8xOTk5L3hsaW5rIiB4PSIwcHgiIHk9IjBweCINCgkgdmlld0JveD0iMCAwIDMwMCAzMDAiIHN0eWxlPSJlbmFibGUtYmFja2dyb3VuZDpuZXcgMCAwIDMwMCAzMDA7IiB4bWw6c3BhY2U9InByZXNlcnZlIj4NCjxnIGlkPSJMYXllcl8yIj4NCgk8cGF0aCBzdHlsZT0iZmlsbDojRjc5MjMyOyIgZD0iTTE1MCwwQzY2LjY2NywwLDAsNjYuNjY3LDAsMTUwczY2LjY2NywxNTAsMTUwLDE1MHMxNTAtNjYuNjY3LDE1MC0xNTBTMjMzLjMzMywwLDE1MCwweg0KCQkgTTEzNi42NjcsMTc4LjMzM0wxMjUsMTkwbC00MS42NjctNDBMOTUsMTM4LjMzM2wzMC0zMEwxMzYuNjY3LDEyMGwtMzAsMzBMMTM2LjY2NywxNzguMzMzeiBNMjA1LDE2MS42NjdsLTMwLDMwTDE2My4zMzMsMTgwDQoJCWwzMC0zMGwtMzAtMzBMMTc1LDEwOC4zMzNMMjE2LjY2NywxNTBMMjA1LDE2MS42Njd6Ii8+DQo8L2c+DQo8Zz4NCgk8cG9seWdvbiBzdHlsZT0iZmlsbDojRkZGRkZGOyIgcG9pbnRzPSIxNzUsMTkxLjY2NyAyMDUsMTYxLjY2NyAyMTYuNjY3LDE1MCAxNzUsMTA4LjMzMyAxNjMuMzMzLDEyMCAxOTMuMzMzLDE1MCAxNjMuMzMzLDE4MCAJIi8+DQoJPHBvbHlnb24gc3R5bGU9ImZpbGw6I0ZGRkZGRjsiIHBvaW50cz0iMTI1LDEwOC4zMzMgOTUsMTM4LjMzMyA4My4zMzMsMTUwIDEyNSwxOTAgMTM2LjY2NywxNzguMzMzIDEwNi42NjcsMTUwIDEzNi42NjcsMTIwIAkiLz4NCjwvZz4NCjwvc3ZnPg0K\\\\\\\" alt=\\\\\\\"Icon indicating the project type\\\\\\\" class=\\\\\\\"jira-project-avatar-icon\\\\\\\" \\\\/\\u003e\\u003c\\\\/a\\u003e\\u003c\\\\/div\\u003e\\u003c!-- .aui-page-header-image --\\u003e\\u003cdiv class=\\\\\\\"aui-page-header-main\\\\\\\"\\u003e\\u003ch1\\u003e\\u003cdiv class=\\\\\\\"aui-group aui-group-split\\\\\\\"\\u003e\\u003cdiv class=\\\\\\\"aui-item project-title\\\\\\\"\\u003e\\u003ca href=\\\\\\\"\\\\/jira\\\\/projects\\\\/AMQ\\\\/summary\\\\\\\" title=\\\\\\\"ActiveMQ\\\\\\\"\\u003eActiveMQ\\u003c\\\\/a\\u003e\\u003c\\\\/div\\u003e\\u003c\\\\/div\\u003e\\u003c\\\\/h1\\u003e\\u003c\\\\/div\\u003e\\u003c!-- .aui-page-header-main --\\u003e\\u003c\\\\/div\\u003e\\u003c!-- .aui-page-header-inner --\\u003e\\u003c\\\\/header\\u003e\\u003c!-- .aui-page-header --\\u003e\\u003cnav class=\\\\\\\"aui-navgroup aui-navgroup-vertical\\\\\\\"\\u003e\\u003cdiv class=\\\\\\\"aui-navgroup-inner sidebar-content-container\\\\\\\"\\u003e\\u003cdiv class=\\\\\\\"aui-sidebar-group aui-sidebar-group-tier-one\\\\\\\" data-id=\\\\\\\"sidebar-navigation-panel\\\\\\\"\\u003e\\u003cul class=\\\\\\\"aui-nav\\\\\\\"\\u003e\\u003cli class=\\\\\\\"aui-nav-selected\\\\\\\" \\u003e\\u003ca class=\\\\\\\"aui-nav-item \\\\\\\" href=\\\\\\\"\\\\/jira\\\\/projects\\\\/AMQ\\\\/issues\\\\\\\" data-link-id=\\\\\\\"com.atlassian.jira.jira-projects-issue-navigator:sidebar-issue-navigator\\\\\\\" \\u003e\\u003cspan class=\\\\\\\"aui-icon aui-icon-large icon-sidebar-issues\\\\\\\"\\u003e\\u003c\\\\/span\\u003e\\u003cspan class=\\\\\\\"aui-nav-item-label\\\\\\\" title=\\\\\\\"Issues\\\\\\\"\\u003eIssues\\u003c\\\\/span\\u003e\\u003c\\\\/a\\u003e\\u003c\\\\/li\\u003e\\u003cli  \\u003e\\u003ca class=\\\\\\\"aui-nav-item \\\\\\\" href=\\\\\\\"\\\\/jira\\\\/projects\\\\/AMQ?selectedItem=com.atlassian.jira.jira-projects-plugin:report-page\\\\\\\" data-link-id=\\\\\\\"com.atlassian.jira.jira-projects-plugin:report-page\\\\\\\" \\u003e\\u003cspan class=\\\\\\\"aui-icon aui-icon-large agile-icon-report\\\\\\\"\\u003e\\u003c\\\\/span\\u003e\\u003cspan class=\\\\\\\"aui-nav-item-label\\\\\\\" title=\\\\\\\"Reports\\\\\\\"\\u003eReports\\u003c\\\\/span\\u003e\\u003c\\\\/a\\u003e\\u003c\\\\/li\\u003e\\u003cli  \\u003e\\u003ca class=\\\\\\\"aui-nav-item \\\\\\\" href=\\\\\\\"\\\\/jira\\\\/projects\\\\/AMQ?selectedItem=com.atlassian.jira.jira-projects-plugin:components-page\\\\\\\" data-link-id=\\\\\\\"com.atlassian.jira.jira-projects-plugin:components-page\\\\\\\" \\u003e\\u003cspan class=\\\\\\\"aui-icon aui-icon-large icon-sidebar-components\\\\\\\"\\u003e\\u003c\\\\/span\\u003e\\u003cspan class=\\\\\\\"aui-nav-item-label\\\\\\\" title=\\\\\\\"Components\\\\\\\"\\u003eComponents\\u003c\\\\/span\\u003e\\u003c\\\\/a\\u003e\\u003c\\\\/li\\u003e\\u003c\\\\/ul\\u003e\\u003c\\\\/div\\u003e\\u003c\\\\/div\\u003e\\u003c\\\\/nav\\u003e\\u003c\\\\/div\\u003e\\u003cdiv class=\\\\\\\"aui-sidebar-footer\\\\\\\"\\u003e\\u003ca class=\\\\\\\"aui-button aui-button-subtle aui-sidebar-toggle aui-sidebar-footer-tipsy\\\\\\\" data-tooltip=\\\\\\\"Expand sidebar ( [ )\\\\\\\" href=\\\\\\\"#\\\\\\\"\\u003e\\u003cspan class=\\\\\\\"aui-icon aui-icon-small\\\\\\\"\\u003e\\u003c\\\\/span\\u003e\\u003c\\\\/a\\u003e\\u003c\\\\/div\\u003e\\u003c\\\\/div\\u003e\\u003c\\\\/div\\u003e\\\"\";\n",
      "if(window.WRM._dataArrived)window.WRM._dataArrived();</script>\n",
      "<script type=\"text/javascript\" src=\"/jira/s/d41d8cd98f00b204e9800998ecf8427e-CDN/3pgavk/76005/1c78b578e5c0e813799ab2baea47b6f7/1.0/_/download/batch/jira.webresources:bigpipe-init/jira.webresources:bigpipe-init.js\" data-wrm-key=\"jira.webresources:bigpipe-init\" data-wrm-batch-type=\"resource\" data-initially-rendered></script>\n",
      "\n",
      "<form id=\"jira_request_timing_info\" class=\"dont-default-focus\" >\n",
      "\t<fieldset class=\"parameters hidden\">\n",
      "\t\t<input type=\"hidden\" title=\"jira.request.start.millis\" value=\"1550545190712\" />\n",
      "\t\t<input type=\"hidden\" title=\"jira.request.server.time\" value=\"174\" />\n",
      "\t\t<input type=\"hidden\" title=\"jira.request.id\" value=\"179x101942271x1\" />\n",
      "\t\t<input type=\"hidden\" title=\"jira.session.expiry.time\" value=\"1550548789162\" />\n",
      "\t\t<input type=\"hidden\" title=\"jira.session.expiry.in.mins\" value=\"59\" />\n",
      "\t\t<input id=\"jiraConcurrentRequests\" type=\"hidden\" name=\"jira.request.concurrent.requests\" value=\"2\" />\n",
      "\t\t<input type=\"hidden\" title=\"db.reads.time.in.ms\" value=\"57\" />\n",
      "\t\t<input type=\"hidden\" title=\"db.conns.time.in.ms\" value=\"65\" />\n",
      "\t</fieldset>\n",
      "</form>\n",
      "<!--\n",
      "\t                 REQUEST ID : 179x101942271x1\n",
      "\t          REQUEST TIMESTAMP : [19/Feb/2019:02:59:50 +0000]\n",
      "\t               REQUEST TIME : 0.1740\n",
      "\t                 ASESSIONID : dwv9vp\n",
      "\t        CONCURRENT REQUESTS : 2\n",
      "\n",
      "\t                      db.reads : OpSnapshot{name='db.reads', invocationCount=21, elapsedTotal=57514447, elapsedMin=749257, elapsedMax=36077046, resultSetSize=0, cpuTotal=0, cpuMin=0, cpuMax=0}\n",
      "\t                      db.conns : OpSnapshot{name='db.conns', invocationCount=25, elapsedTotal=65215165, elapsedMin=788774, elapsedMax=36118944, resultSetSize=0, cpuTotal=0, cpuMin=0, cpuMax=0}\n",
      "-->\n",
      "\n",
      "</body>\n",
      "</html>\n",
      "\n"
     ]
    }
   ],
   "source": [
    "num = '4033'\n",
    "file = datasource + \"webfile_page_AMQ-\" + num + \".html\"\n",
    "f = open(file)\n",
    "f = f.read()\n",
    "print (f)"
   ]
  },
  {
   "cell_type": "code",
   "execution_count": 6,
   "metadata": {},
   "outputs": [
    {
     "data": {
      "text/plain": [
       "0    1.1\n",
       "1    2.2\n",
       "2    3.3\n",
       "Name: A, dtype: float64"
      ]
     },
     "execution_count": 6,
     "metadata": {},
     "output_type": "execute_result"
    }
   ],
   "source": [
    "import pandas as pd\n",
    "\n",
    "df1 = pd.DataFrame({'A': [0.1,0.2,0.3,0.1,0.2,0.3], 'B': [7,8,9,10,11,12], 'C': ['k','k','k','j','j','j']})\n",
    "df2 = pd.DataFrame({'A': [1,2,3,1,2,3], 'B': [1,2,3,4,5,6], 'C': ['k','k','k','j','j','j']})\n",
    "\n",
    "# df3 = pd.concat([df1[df1['C']=='k']['A'], df2[df2['C']=='k']['A']])\n",
    "# df3.reset_index(drop=True,inplace=True)\n",
    "df3=(df1[df1['C']=='k']['A']) + (df2[df2['C']=='k']['A'])\n",
    "df3"
   ]
  },
  {
   "cell_type": "code",
   "execution_count": 7,
   "metadata": {},
   "outputs": [
    {
     "name": "stdout",
     "output_type": "stream",
     "text": [
<<<<<<< HEAD
      "input keywords: manager\n",
      "assistant manager\n",
      "production manager\n",
=======
      "input keywords: sales\n",
      "salesperson\n",
>>>>>>> 466ccbc13355cb986b513cee7b65a24b7dcbe8df
      "sales manager\n"
     ]
    }
   ],
   "source": [
    "job_list = ['assistant manager', 'salesperson', 'doctor', 'production manager', \n",
    "            'sales manager', 'schoolteacher', 'mathematics teacher']\n",
    "\n",
    "def search_multiple_words(search_words):\n",
    "    search_words = [search_words]\n",
    "\n",
    "    for line in job_list:\n",
    "        if any(word in line for word in search_words):\n",
    "            print(line)\n",
    "\n",
    "search_words = input(\"input keywords: \").split(' ')\n",
    "for w in search_words:\n",
    "    search_multiple_words(w)"
   ]
  },
  {
   "cell_type": "code",
   "execution_count": 8,
   "metadata": {},
   "outputs": [
    {
     "name": "stdout",
     "output_type": "stream",
     "text": [
      "('say hi ', ' comment')\n"
     ]
    }
   ],
   "source": [
    "import re\n",
    "line = \" say hi /* comment\"\n",
    "regex = re.compile(r'\\s*(?P<command>.*?)/[/*](?P<optional>.*)')\n",
    "result = regex.search(line)\n",
    "print(result.group('command','optional'))"
   ]
  },
  {
   "cell_type": "code",
   "execution_count": 9,
   "metadata": {},
   "outputs": [
    {
     "data": {
      "text/plain": [
       "[<tr>\n",
       " <th>No</th>\n",
       " <th>Code</th>\n",
       " <th>Name</th>\n",
       " <th>Listing Date</th>\n",
       " </tr>]"
      ]
     },
     "execution_count": 9,
     "metadata": {},
     "output_type": "execute_result"
    }
   ],
   "source": [
    "import urllib.request\n",
    "from urllib.request import urlopen\n",
    "from bs4 import BeautifulSoup\n",
    "\n",
    "url = 'http://www.idx.co.id/en-us/listed-companies/company-profiles/'\n",
    "page = urllib.request.urlopen(url)\n",
    "soup = BeautifulSoup(page, \"html.parser\")\n",
    "\n",
    "rows = soup.find_all('tr')\n",
    "rows"
   ]
  },
  {
   "cell_type": "code",
   "execution_count": 10,
   "metadata": {
    "scrolled": true
   },
   "outputs": [
    {
     "name": "stdout",
     "output_type": "stream",
     "text": [
      "a:class,data-lang,href,name,target\n",
      "body:class\n",
      "br:\n",
      "button:\",class,id,onclick\n",
      "div:action,class\n",
      "footer:class\n",
      "h1:class\n",
      "head:\n",
      "header:class\n",
      "html:class,lang,ng-app\n",
      "img:alt,class,src\n",
      "input:checked,class,id,name,placeholder,type,value\n",
      "label:class,for\n",
      "li:class\n",
      "link:href,rel,type\n",
      "main:class\n",
      "meta:charset,content,http-equiv,name,property\n",
      "p:\n",
      "script:async,defer,src,type\n",
      "select:class,id,name\n",
      "span:class\n",
      "table:class,id\n",
      "tbody:\n",
      "th:\n",
      "thead:\n",
      "title:\n",
      "tr:\n",
      "ul:class\n"
     ]
    }
   ],
   "source": [
    "from collections import defaultdict\n",
    "\n",
    "tags = defaultdict(set)\n",
    "for tag in soup():\n",
    "    tags[tag.name] |= set(tag.attrs)\n",
    "\n",
    "for tag_name in sorted(tags):\n",
    "    print(\"{name}:{attrs}\".format(name=tag_name, attrs=\",\".join(sorted(tags[tag_name]))))"
   ]
  },
  {
   "cell_type": "markdown",
   "metadata": {},
   "source": [
    "# Code trial"
   ]
  },
  {
   "cell_type": "code",
   "execution_count": 11,
   "metadata": {
    "collapsed": true
   },
   "outputs": [],
   "source": [
    "import collections\n",
    "\n",
    "rtList = [\"EVT\",\"EVT\",\"EVT\",\"EVT\",\"EVT\",\"EVT\",\"EVT\",\"HIL\"]\n",
    "raList = [\"C64G\",\"C64R\",\"C64O\",\"C32G\",\"C96G\",\"C96R\",\"C96O\",\"RA96O\"]\n",
    "\n",
    "d = collections.defaultdict(list)\n",
    "\n",
    "for k,v in zip(rtList, raList):\n",
    "    d[k].append(v)"
   ]
  },
  {
   "cell_type": "code",
   "execution_count": 12,
   "metadata": {},
   "outputs": [
    {
     "data": {
      "text/plain": [
       "defaultdict(list,\n",
       "            {'EVT': ['C64G', 'C64R', 'C64O', 'C32G', 'C96G', 'C96R', 'C96O'],\n",
       "             'HIL': ['RA96O']})"
      ]
     },
     "execution_count": 12,
     "metadata": {},
     "output_type": "execute_result"
    }
   ],
   "source": [
    "d"
   ]
  },
  {
   "cell_type": "markdown",
   "metadata": {},
   "source": [
    "# Scrape data from multiple URLs"
   ]
  },
  {
   "cell_type": "code",
   "execution_count": 13,
   "metadata": {
    "scrolled": true
   },
   "outputs": [
    {
     "data": {
      "text/plain": [
       "[{'Additional Data': 'FCC Station Information ',\n",
       "  'Callsign': 'CADENATRES',\n",
       "  'City': 'AGUALEGUAS',\n",
       "  'Country': 'USA',\n",
       "  'Network Affiliation': 'INDEPENDENT',\n",
       "  'State': 'Newfoundland and Labrador'},\n",
       " {'Additional Data': 'FCC Station Information ',\n",
       "  'Callsign': 'K27HM-D',\n",
       "  'City': 'QUANAH',\n",
       "  'Country': 'USA',\n",
       "  'Network Affiliation': 'INDEPENDENT',\n",
       "  'State': 'Texas',\n",
       "  'Virtual Channel': '27'},\n",
       " {'Additional Data': 'FCC Station Information ',\n",
       "  'Callsign': 'KSNB-TV',\n",
       "  'City': 'SUPERIOR',\n",
       "  'Contact City': 'Grand Island',\n",
       "  'Contact Phone': '308-382-6100',\n",
       "  'Contact State': 'NE',\n",
       "  'Contact Street 1': '123 N. Locust Street',\n",
       "  'Contact Zip': '68802',\n",
       "  'Country': 'USA',\n",
       "  'MHZ': '66',\n",
       "  'Network Affiliation': 'NBC',\n",
       "  'Nielsen DMA': 'LINCOLN & HASTINGS-KRNY',\n",
       "  'RF Channel': '4',\n",
       "  'State': 'Nebraska',\n",
       "  'Virtual Channel': '4',\n",
       "  'Website': 'www.nbcneb.com'}]"
      ]
     },
     "execution_count": 13,
     "metadata": {},
     "output_type": "execute_result"
    }
   ],
   "source": [
    "import urllib.request\n",
    "from urllib.request import urlopen\n",
    "from bs4 import BeautifulSoup\n",
    "import csv\n",
    "\n",
    "url_list = ['https://nocable.org/browse-stations/callsign/cadenatres-linares-nl',\n",
    "            'https://nocable.org/browse-stations/callsign/k27hm-d-quanah-tx',\n",
    "            'https://nocable.org/browse-stations/callsign/ksnb-tv-superior-ne'\n",
    "           ]\n",
    "\n",
    "data = []\n",
    "for url in url_list:\n",
    "    page = urllib.request.urlopen(url)\n",
    "    soup = BeautifulSoup(page, \"html.parser\")\n",
    "\n",
    "    urldict = {}\n",
    "    tr = soup.find_all('tr')\n",
    "    for row in tr:\n",
    "        th = soup.find_all('th')\n",
    "        td = soup.find_all('td')\n",
    "\n",
    "    for item in range(0,len(th)):    \n",
    "        urldict.update({th[item].text:td[item].text})\n",
    "\n",
    "    data.append(urldict)\n",
    "data"
   ]
  },
  {
   "cell_type": "code",
   "execution_count": 14,
<<<<<<< HEAD
   "metadata": {
    "scrolled": true
   },
=======
   "metadata": {},
>>>>>>> 466ccbc13355cb986b513cee7b65a24b7dcbe8df
   "outputs": [
    {
     "data": {
      "text/plain": [
       "['State',\n",
       " 'City',\n",
       " 'Country',\n",
       " 'Callsign',\n",
       " 'Network Affiliation',\n",
       " 'Additional Data',\n",
       " 'Virtual Channel',\n",
       " 'RF Channel',\n",
       " 'MHZ',\n",
       " 'Nielsen DMA',\n",
       " 'Contact Street 1',\n",
       " 'Contact City',\n",
       " 'Contact State',\n",
       " 'Contact Zip',\n",
       " 'Contact Phone',\n",
       " 'Website']"
      ]
     },
     "execution_count": 14,
     "metadata": {},
     "output_type": "execute_result"
    }
   ],
   "source": [
    "cols = []\n",
    "for d in range(0,len(data)):\n",
    "    for i in data[d].keys():\n",
    "        if i not in cols:\n",
    "            cols.insert(len(cols),i)\n",
    "cols"
   ]
  },
  {
   "cell_type": "code",
   "execution_count": 15,
   "metadata": {
    "collapsed": true
   },
   "outputs": [],
   "source": [
    "with open('file_url.csv', 'w') as output_file:\n",
    "    dict_writer = csv.DictWriter(output_file, cols)\n",
    "    dict_writer.writeheader()\n",
    "    dict_writer.writerows(data)"
   ]
  },
  {
   "cell_type": "code",
   "execution_count": 16,
   "metadata": {},
   "outputs": [
    {
     "data": {
      "text/html": [
       "<div>\n",
       "<style>\n",
       "    .dataframe thead tr:only-child th {\n",
       "        text-align: right;\n",
       "    }\n",
       "\n",
       "    .dataframe thead th {\n",
       "        text-align: left;\n",
       "    }\n",
       "\n",
       "    .dataframe tbody tr th {\n",
       "        vertical-align: top;\n",
       "    }\n",
       "</style>\n",
       "<table border=\"1\" class=\"dataframe\">\n",
       "  <thead>\n",
       "    <tr style=\"text-align: right;\">\n",
       "      <th></th>\n",
       "      <th>State</th>\n",
       "      <th>City</th>\n",
       "      <th>Country</th>\n",
       "      <th>Callsign</th>\n",
       "      <th>Network Affiliation</th>\n",
       "      <th>Additional Data</th>\n",
       "      <th>Virtual Channel</th>\n",
       "      <th>RF Channel</th>\n",
       "      <th>MHZ</th>\n",
       "      <th>Nielsen DMA</th>\n",
       "      <th>Contact Street 1</th>\n",
       "      <th>Contact City</th>\n",
       "      <th>Contact State</th>\n",
       "      <th>Contact Zip</th>\n",
       "      <th>Contact Phone</th>\n",
       "      <th>Website</th>\n",
       "    </tr>\n",
       "  </thead>\n",
       "  <tbody>\n",
       "    <tr>\n",
       "      <th>0</th>\n",
       "      <td>Newfoundland and Labrador</td>\n",
       "      <td>AGUALEGUAS</td>\n",
       "      <td>USA</td>\n",
       "      <td>CADENATRES</td>\n",
       "      <td>INDEPENDENT</td>\n",
       "      <td>FCC Station Information</td>\n",
       "      <td>NaN</td>\n",
       "      <td>NaN</td>\n",
       "      <td>NaN</td>\n",
       "      <td>NaN</td>\n",
       "      <td>NaN</td>\n",
       "      <td>NaN</td>\n",
       "      <td>NaN</td>\n",
       "      <td>NaN</td>\n",
       "      <td>NaN</td>\n",
       "      <td>NaN</td>\n",
       "    </tr>\n",
       "    <tr>\n",
       "      <th>1</th>\n",
       "      <td>Texas</td>\n",
       "      <td>QUANAH</td>\n",
       "      <td>USA</td>\n",
       "      <td>K27HM-D</td>\n",
       "      <td>INDEPENDENT</td>\n",
       "      <td>FCC Station Information</td>\n",
       "      <td>27.0</td>\n",
       "      <td>NaN</td>\n",
       "      <td>NaN</td>\n",
       "      <td>NaN</td>\n",
       "      <td>NaN</td>\n",
       "      <td>NaN</td>\n",
       "      <td>NaN</td>\n",
       "      <td>NaN</td>\n",
       "      <td>NaN</td>\n",
       "      <td>NaN</td>\n",
       "    </tr>\n",
       "    <tr>\n",
       "      <th>2</th>\n",
       "      <td>Nebraska</td>\n",
       "      <td>SUPERIOR</td>\n",
       "      <td>USA</td>\n",
       "      <td>KSNB-TV</td>\n",
       "      <td>NBC</td>\n",
       "      <td>FCC Station Information</td>\n",
       "      <td>4.0</td>\n",
       "      <td>4.0</td>\n",
       "      <td>66.0</td>\n",
       "      <td>LINCOLN &amp; HASTINGS-KRNY</td>\n",
       "      <td>123 N. Locust Street</td>\n",
       "      <td>Grand Island</td>\n",
       "      <td>NE</td>\n",
       "      <td>68802.0</td>\n",
       "      <td>308-382-6100</td>\n",
       "      <td>www.nbcneb.com</td>\n",
       "    </tr>\n",
       "  </tbody>\n",
       "</table>\n",
       "</div>"
      ],
      "text/plain": [
       "                       State        City Country    Callsign  \\\n",
       "0  Newfoundland and Labrador  AGUALEGUAS     USA  CADENATRES   \n",
       "1                      Texas      QUANAH     USA     K27HM-D   \n",
       "2                   Nebraska    SUPERIOR     USA     KSNB-TV   \n",
       "\n",
       "  Network Affiliation           Additional Data  Virtual Channel  RF Channel  \\\n",
       "0         INDEPENDENT  FCC Station Information               NaN         NaN   \n",
       "1         INDEPENDENT  FCC Station Information              27.0         NaN   \n",
       "2                 NBC  FCC Station Information               4.0         4.0   \n",
       "\n",
       "    MHZ              Nielsen DMA      Contact Street 1  Contact City  \\\n",
       "0   NaN                      NaN                   NaN           NaN   \n",
       "1   NaN                      NaN                   NaN           NaN   \n",
       "2  66.0  LINCOLN & HASTINGS-KRNY  123 N. Locust Street  Grand Island   \n",
       "\n",
       "  Contact State  Contact Zip Contact Phone         Website  \n",
       "0           NaN          NaN           NaN             NaN  \n",
       "1           NaN          NaN           NaN             NaN  \n",
       "2            NE      68802.0  308-382-6100  www.nbcneb.com  "
      ]
     },
     "execution_count": 16,
     "metadata": {},
     "output_type": "execute_result"
    }
   ],
   "source": [
    "df = pd.read_csv(\"file_url.csv\")\n",
    "df"
   ]
  },
  {
   "cell_type": "code",
<<<<<<< HEAD
   "execution_count": 14,
=======
   "execution_count": 17,
>>>>>>> 466ccbc13355cb986b513cee7b65a24b7dcbe8df
   "metadata": {
    "collapsed": true
   },
   "outputs": [],
   "source": [
    "import urllib, sys\n",
    "from urllib.request import urljoin\n",
    "from urllib.request import urlopen\n",
    "from bs4 import BeautifulSoup\n",
    "import pandas as pd\n",
    "\n",
<<<<<<< HEAD
    "def crawl(pages, depth):\n",
=======
    "def crawl(pages, depth=None):\n",
>>>>>>> 466ccbc13355cb986b513cee7b65a24b7dcbe8df
    "    indexed_url = [] # a list for the main and sub-HTML websites in the main website\n",
    "    for i in range(depth):\n",
    "        for page in pages:\n",
    "            if page not in indexed_url:\n",
    "                indexed_url.append(page)\n",
    "                try:\n",
    "                    c = urllib.request.urlopen(page)\n",
    "                except:\n",
    "                    print (\"Could not open %s\" % page)\n",
    "                    continue\n",
    "                soup = BeautifulSoup(c.read(), \"lxml\")\n",
    "                links = soup('a') #finding all the sub_links\n",
    "                for link in links:\n",
    "                    if 'href' in dict(link.attrs):\n",
    "                        url = urljoin(page, link['href'])\n",
    "                        if url.find(\"'\") != -1:\n",
<<<<<<< HEAD
    "                            continue\n",
    "                        url = url.split('#')[0] \n",
    "                        if url[0:4] == 'http':\n",
    "                            indexed_url.append(url)\n",
=======
    "                                continue\n",
    "                        url = url.split('#')[0] \n",
    "                        if url[0:4] == 'http':\n",
    "                                indexed_url.append(url)\n",
>>>>>>> 466ccbc13355cb986b513cee7b65a24b7dcbe8df
    "        pages = indexed_url\n",
    "    return indexed_url"
   ]
  },
  {
   "cell_type": "code",
   "execution_count": 18,
   "metadata": {
    "scrolled": true
   },
   "outputs": [
    {
<<<<<<< HEAD
     "data": {
      "text/plain": [
       "['https://www.mit.edu/',\n",
       " 'https://www.mit.edu/',\n",
       " 'https://www.mit.edu/',\n",
       " 'https://www.mit.edu/education',\n",
       " 'https://www.mit.edu/research',\n",
       " 'https://www.mit.edu/innovation',\n",
       " 'https://www.mit.edu/admissions-aid',\n",
       " 'https://www.mit.edu/campus-life',\n",
       " 'http://news.mit.edu/',\n",
       " 'https://www.mit.edu/alumni',\n",
       " 'https://www.mit.edu/about',\n",
       " 'https://www.mit.edu/admissions-aid',\n",
       " 'https://www.mit.edu/campus-life',\n",
       " 'http://news.mit.edu/',\n",
       " 'https://www.mit.edu/alumni',\n",
       " 'https://www.mit.edu/about',\n",
       " 'https://www.mit.edu/search',\n",
       " 'https://www.mit.edu/feedback',\n",
       " 'http://news.mit.edu/2019/student-dasjon-jordan-0322',\n",
       " 'http://dusp.mit.edu/',\n",
       " 'http://news.mit.edu/2019/student-dasjon-jordan-0322',\n",
       " 'https://twitter.com/share?url=http://web.mit.edu/spotlight/place-based-solutions',\n",
       " 'https://www.facebook.com/sharer/sharer.php?u=http://web.mit.edu/spotlight/place-based-solutions',\n",
       " 'https://www.mit.edu/',\n",
       " 'https://www.mit.edu/education',\n",
       " 'https://www.mit.edu/research',\n",
       " 'https://www.mit.edu/innovation',\n",
       " 'https://www.mit.edu/admissions-aid',\n",
       " 'https://www.mit.edu/campus-life',\n",
       " 'http://news.mit.edu/',\n",
       " 'https://www.mit.edu/about',\n",
       " 'https://www.mit.edu/alumni',\n",
       " 'https://www.mit.edu/building-a-better-world',\n",
       " 'https://www.google.com/maps/place/Massachusetts+Institute+of+Technology/@42.360091,-71.09416,15z/data=!4m5!3m4!1s0x0:0xd0e08ea5b308203c!8m2!3d42.360091!4d-71.09416',\n",
       " 'https://www.mit.edu/visitmit',\n",
       " 'http://whereis.mit.edu/',\n",
       " 'http://calendar.mit.edu/',\n",
       " 'http://web.mit.edu/people.html',\n",
       " 'http://careers.mit.edu/',\n",
       " 'https://www.mit.edu/contact',\n",
       " 'https://www.mit.edu/privacy',\n",
       " 'https://www.mit.edu/accessibility',\n",
       " 'https://twitter.com/mit',\n",
       " 'https://www.facebook.com/MITnews',\n",
       " 'https://www.youtube.com/mit',\n",
       " 'https://www.instagram.com/mitpics/',\n",
       " 'http://socialmediahub.mit.edu/']"
      ]
     },
     "execution_count": 18,
     "metadata": {},
     "output_type": "execute_result"
    }
   ],
   "source": [
    "mainpage = [\"https://www.mit.edu/\"]\n",
    "urls = crawl(mainpage, depth=1) # you can configure this number to set the depth of pages\n",
    "\n",
    "urls"
   ]
  },
  {
   "cell_type": "code",
   "execution_count": 3,
   "metadata": {
    "scrolled": true
   },
   "outputs": [
    {
     "name": "stdout",
     "output_type": "stream",
     "text": [
      "Extracting url 47 from 47 url\n",
      "Number of table = 3\n"
=======
     "name": "stdout",
     "output_type": "stream",
     "text": [
      "Extracting url 38 from 38 url\n",
      "Number of table = 32\n"
>>>>>>> 466ccbc13355cb986b513cee7b65a24b7dcbe8df
     ]
    }
   ],
   "source": [
<<<<<<< HEAD
=======
    "mainpage = [\"http://yusufsn.staff.ums.ac.id/\"]\n",
    "urls = crawl(mainpage, depth=2) # you can configure this number to set the depth of pages\n",
    "\n",
>>>>>>> 466ccbc13355cb986b513cee7b65a24b7dcbe8df
    "table = 0\n",
    "for r, url in enumerate (urls):\n",
    "    sys.stdout.write(\"\\rExtracting url %i\" %(r+1) + \" from %i\" % (len(urls)) + \" url\")\n",
    "    sys.stdout.flush()\n",
    "    try:\n",
    "        df = pd.read_html(url)\n",
    "        if df:\n",
    "            table += 1\n",
    "    except:\n",
    "        pass\n",
    "print (\"\\nNumber of table = %i\" %(table))"
   ]
  },
  {
   "cell_type": "code",
   "execution_count": 19,
   "metadata": {},
   "outputs": [
    {
     "name": "stdout",
     "output_type": "stream",
     "text": [
      "0\n"
     ]
    }
   ],
   "source": [
    "table = 0\n",
    "for url in urls:\n",
    "    try:\n",
    "        r = requests.get(url)\n",
    "        soup = BeautifulSoup(r.text,'lxml')\n",
    "        table = len(soup) + table\n",
    "    except:\n",
    "        pass\n",
    "print (table)"
   ]
  },
  {
   "cell_type": "code",
   "execution_count": 20,
   "metadata": {},
   "outputs": [
    {
     "name": "stdout",
     "output_type": "stream",
     "text": [
      "Number of table: 6\n"
     ]
    }
   ],
   "source": [
    "import pandas as pd\n",
    "\n",
    "url = 'https://web.stanford.edu/class/cs101/table-data.html'\n",
    "dfs=pd.read_html(url)\n",
    "\n",
    "print (\"Number of table: %i\" % len(dfs))"
   ]
  },
  {
   "cell_type": "code",
   "execution_count": 21,
   "metadata": {},
   "outputs": [
    {
     "data": {
      "text/plain": [
       "6"
      ]
     },
     "execution_count": 21,
     "metadata": {},
     "output_type": "execute_result"
    }
   ],
   "source": [
    "import requests\n",
    "from bs4 import BeautifulSoup\n",
    "\n",
    "r = requests.get(url)\n",
    "soup=BeautifulSoup(r.text,'lxml')\n",
    "\n",
    "len(soup.find_all('table'))"
   ]
  },
  {
   "cell_type": "markdown",
   "metadata": {},
   "source": [
    "# Regex"
   ]
  },
  {
   "cell_type": "code",
   "execution_count": 22,
<<<<<<< HEAD
   "metadata": {
    "scrolled": true
   },
=======
   "metadata": {},
>>>>>>> 466ccbc13355cb986b513cee7b65a24b7dcbe8df
   "outputs": [
    {
     "name": "stdout",
     "output_type": "stream",
     "text": [
      "2.1 [ii] Agreement and Plan of Reorganization, by and among the Company, Force Acq. Corp. and Force Computers, Inc. as amended.\n",
      "3.1 [viii] Articles of Incorporation of Company, as amended.\n",
      "3.2 [viii] Bylaws of Company.\n",
      "10.1 [I] Preferred Stock Purchase Agreement dated September 29, 1983, together with amendments thereto dated February 28, 1984 and\n",
      "10.2 [I] Form of Indemnification Agreement between Company and its officers, directors and certain other key employees.\n"
     ]
    }
   ],
   "source": [
    "import re\n",
    "\n",
    "mylist = ['2.1 [ii] Agreement and Plan of Reorganization, by and among the Company, Force Acq. Corp. and Force Computers, Inc. as amended.',\n",
    "          '3.1 [viii] Articles of Incorporation of Company, as amended.',\n",
    "          '3.2 [viii] Bylaws of Company.',\n",
    "          '10.1 [I] Preferred Stock Purchase Agreement dated September 29, 1983, together with amendments thereto dated February 28, 1984 and',\n",
    "          '10.2 [I] Form of Indemnification Agreement between Company and its officers, directors and certain other key employees.'\n",
    "         ]\n",
    "for item in mylist:\n",
    "    regex = re.search('(?P<chapter>\\d+[.]\\d+)\\s+(?P<subchapter>\\[.*\\])\\s+(?P<title>.*)', item)\n",
    "    regex = regex.groups()\n",
    "    print (regex[0], regex[1], regex[2])"
   ]
  },
  {
   "cell_type": "markdown",
   "metadata": {},
   "source": [
    "# List"
   ]
  },
  {
   "cell_type": "code",
   "execution_count": 23,
   "metadata": {},
   "outputs": [
    {
     "data": {
      "text/plain": [
       "[[1, 2, 3], [4, 5, 6], [7, 8, 9]]"
      ]
     },
     "execution_count": 23,
     "metadata": {},
     "output_type": "execute_result"
    }
   ],
   "source": [
    "My_List = [[1,2,3],[4,5,6],[7,8,9],[10,11,12],[13,14,15],[16,17,18]]\n",
    "\n",
    "#Outcome =[[1,2,3],[4,5,6],[7,8,9]]\n",
    "outcome = My_List[:-3]\n",
    "outcome"
   ]
  },
  {
   "cell_type": "markdown",
   "metadata": {},
   "source": [
    "# Physics"
   ]
  },
  {
   "cell_type": "code",
   "execution_count": 24,
   "metadata": {},
   "outputs": [
    {
     "name": "stdout",
     "output_type": "stream",
     "text": [
<<<<<<< HEAD
      "Enter the initial height of the ball: 234\n",
      "Enter the initial velocity of the ball: 341\n",
      "The maximum height of the ball is 2050.890625 feet.\n",
      "The ball will hit the ground after approximately 22.000000000000043 seconds.\n"
=======
      "Enter the initial height of the ball: 145\n",
      "Enter the initial velocity of the ball: 4\n",
      "The maximum height of the ball is 145.25 feet.\n",
      "The ball will hit the ground after approximately 3.2000000000000015 seconds.\n"
>>>>>>> 466ccbc13355cb986b513cee7b65a24b7dcbe8df
     ]
    }
   ],
   "source": [
    "def getInput():\n",
    "        h = int(input(\"Enter the initial height of the ball: \"))\n",
    "        v = int(input(\"Enter the initial velocity of the ball: \"))\n",
    "        isValid(h,v)\n",
    "\n",
    "def isValid(h,v):\n",
    "    if (h<= 0):\n",
    "        print(\"Please enter positive values\")\n",
    "\n",
    "    elif(v<= 0):\n",
    "        print(\"Please enter positive values\")\n",
    "\n",
    "    else:\n",
    "        height = maxHeight(h,v)\n",
    "        print(\"The maximum height of the ball is\", height, \"feet.\")\n",
    "        groundTime = ballTime(h,v)\n",
    "        print(\"The ball will hit the ground after approximately\", groundTime, \"seconds.\")\n",
    "\n",
    "\n",
    "def maxHeight(h,v):\n",
    "    t = (v/32)\n",
    "    maxH = (h + (v*t) - (16*t*t))\n",
    "    return maxH\n",
    "\n",
    "\n",
    "def ballTime(h,v):\n",
    "    t = 0.1\n",
    "    while(True):\n",
    "        ballHeight = (h + (v*t) - (16*t*t))\n",
    "        if (ballHeight <= 0):\n",
    "            break\n",
    "        else:\n",
    "            t += 0.1\n",
    "\n",
    "    return t\n",
    "\n",
    "getInput()"
   ]
  },
  {
   "cell_type": "code",
   "execution_count": 25,
   "metadata": {
    "scrolled": true
   },
   "outputs": [
    {
     "name": "stdout",
     "output_type": "stream",
     "text": [
      "[1] University\n",
      "[2] Contact Name\n",
      "[3] Exit\n",
      "[4] Search\n",
      "Enter choice 1/2/3? 3\n",
      "Thank You\n"
     ]
    }
   ],
   "source": [
    "def load_data(file_name):\n",
    "    university_data=[]\n",
    "    with open(file_name,'r') as rd_file:\n",
    "        for line in rd_file.readlines():\n",
    "            line=line.strip().split(',')\n",
    "            T = line[0],line[1]\n",
    "            university_data.append(T)\n",
    "    return university_data\n",
    "\n",
    "def search(key, mydata):\n",
    "    for l in mydata:\n",
    "        if key in (''.join(l)).lower():\n",
    "            print('University: %s Name: %s' % (l[0], l[1]))\n",
    "\n",
    "def main():\n",
    "    filename='list.txt'\n",
    "    university_data = load_data(filename)\n",
    "    print('[1] University\\n[2] Contact Name\\n[3] Exit\\n[4] Search')\n",
    "    while True:\n",
    "\n",
    "        choice=input('Enter choice 1/2/3? ')\n",
    "        if choice=='1':\n",
    "            for university in university_data:\n",
    "                print(university[0])\n",
    "        elif choice=='2':\n",
    "            for university in university_data:\n",
    "                print(university[1])\n",
    "        elif choice =='3':\n",
    "            print('Thank You')\n",
    "            break\n",
    "        elif choice =='4':\n",
    "            words = str(input('Enter your word to search:'))\n",
    "            search(words,university_data)\n",
    "        else:\n",
    "            print('Invalid selection')\n",
    "\n",
    "main()"
   ]
  },
  {
   "cell_type": "markdown",
   "metadata": {},
   "source": [
    "# Text-based game"
   ]
  },
  {
   "cell_type": "code",
   "execution_count": 26,
   "metadata": {},
   "outputs": [
    {
     "name": "stdout",
     "output_type": "stream",
     "text": [
      "You awaken in a cave, unable to see. Darkness surrounds you.\n",
      "\n",
      "Suddenly a small flickering light is seen in the distance.\n",
      "\n",
      "you get on your feet and decide wether you should head towards the light or wait where you are and hope help finds its way.\n",
      "******************************\n",
      "     Welcome to the game!\n",
      "*******************************\n",
      "\n",
      "Do you get up and see what could be the source of this light? \n",
      "Or do you wait?\n",
      "wait\n",
      "you wait, no one comes and you die...\n",
      "\n",
      "The light turns out to be a torch. Do you take this torch? enter y / n. \n",
<<<<<<< HEAD
      "y\n",
      "good choice, you pick up the torch and walk the out of the cave.\n",
=======
      "n\n",
      "well now your blind and dead...\n",
>>>>>>> 466ccbc13355cb986b513cee7b65a24b7dcbe8df
      "\n"
     ]
    }
   ],
   "source": [
    "import time\n",
    "import random\n",
    "\n",
    "def  game():\n",
    "#intro text\n",
    "    print('******************************')\n",
    "    print('     Welcome to the game!')\n",
    "    print('*******************************')\n",
    "\n",
    "time.sleep(1)\n",
    "\n",
    "print('You awaken in a cave, unable to see. Darkness surrounds you.')\n",
    "time.sleep(1)\n",
    "print('\\nSuddenly a small flickering light is seen in the distance.')\n",
    "time.sleep(1)\n",
    "print('\\nyou get on your feet and decide wether you should head towards the light or wait where you are and hope help finds its way.')\n",
    "\n",
    "#first question\n",
    "def firstquestion():\n",
    "    while True:\n",
    "        print('\\nDo you get up and see what could be the source of this light? \\nOr do you wait?')\n",
    "        Answer = input()\n",
    "        if Answer == 'get up' or Answer == 'I get up':\n",
    "            print('You begin to walk towards the light.')\n",
    "            break\n",
    "        elif Answer == 'wait':\n",
    "            print('you wait, no one comes and you die...')\n",
    "            break\n",
    "        else:\n",
    "            print('try again...')\n",
    "    #second question\n",
    "def secondquestion():\n",
    "    while True:\n",
    "        print('\\nThe light turns out to be a torch. Do you take this torch? enter y / n. ')\n",
    "        Answer = input()\n",
    "        if Answer == 'y':\n",
    "            print('good choice, you pick up the torch and walk the out of the cave.')\n",
    "            break\n",
    "        elif Answer == 'n':\n",
    "            print('well now your blind and dead...')\n",
    "            break\n",
    "        else:\n",
    "            print('try again...')\n",
    "\n",
    "game()\n",
    "firstquestion()\n",
    "secondquestion()\n",
    "print()"
   ]
  },
  {
   "cell_type": "code",
   "execution_count": 27,
   "metadata": {},
   "outputs": [
    {
     "data": {
      "text/html": [
       "<div>\n",
       "<style>\n",
       "    .dataframe thead tr:only-child th {\n",
       "        text-align: right;\n",
       "    }\n",
       "\n",
       "    .dataframe thead th {\n",
       "        text-align: left;\n",
       "    }\n",
       "\n",
       "    .dataframe tbody tr th {\n",
       "        vertical-align: top;\n",
       "    }\n",
       "</style>\n",
       "<table border=\"1\" class=\"dataframe\">\n",
       "  <thead>\n",
       "    <tr style=\"text-align: right;\">\n",
       "      <th></th>\n",
       "      <th>Actual</th>\n",
       "      <th>Modeled</th>\n",
       "      <th>Pass_ID</th>\n",
       "    </tr>\n",
       "  </thead>\n",
       "  <tbody>\n",
       "    <tr>\n",
       "      <th>0</th>\n",
       "      <td>1</td>\n",
       "      <td>1</td>\n",
       "      <td>100</td>\n",
       "    </tr>\n",
       "    <tr>\n",
       "      <th>1</th>\n",
       "      <td>0</td>\n",
       "      <td>1</td>\n",
       "      <td>101</td>\n",
       "    </tr>\n",
       "    <tr>\n",
       "      <th>2</th>\n",
       "      <td>1</td>\n",
       "      <td>0</td>\n",
       "      <td>102</td>\n",
       "    </tr>\n",
       "    <tr>\n",
       "      <th>3</th>\n",
       "      <td>1</td>\n",
       "      <td>1</td>\n",
       "      <td>103</td>\n",
       "    </tr>\n",
       "  </tbody>\n",
       "</table>\n",
       "</div>"
      ],
      "text/plain": [
       "   Actual  Modeled  Pass_ID\n",
       "0       1        1      100\n",
       "1       0        1      101\n",
       "2       1        0      102\n",
       "3       1        1      103"
      ]
     },
     "execution_count": 27,
     "metadata": {},
     "output_type": "execute_result"
    }
   ],
   "source": [
    "d = {'Pass_ID': [100,101,102,103], 'Actual': [1,0,1,1], 'Modeled':[1,1,0,1]}\n",
    "df = pd.DataFrame(data=d)\n",
    "df"
   ]
  },
  {
   "cell_type": "code",
   "execution_count": 28,
<<<<<<< HEAD
   "metadata": {
    "collapsed": true
   },
=======
   "metadata": {},
>>>>>>> 466ccbc13355cb986b513cee7b65a24b7dcbe8df
   "outputs": [],
   "source": [
    "def isolate_diff(df):\n",
    "    print(df[df['Modeled']!=df['Actual']])\n",
    "    print(df.loc[df['Modeled']!=df['Actual'],'Pass_ID'].tolist())"
   ]
  },
  {
   "cell_type": "code",
   "execution_count": 29,
   "metadata": {},
   "outputs": [
    {
     "name": "stdout",
     "output_type": "stream",
     "text": [
      "   Actual  Modeled  Pass_ID\n",
      "1       0        1      101\n",
      "2       1        0      102\n",
      "[101, 102]\n"
     ]
    }
   ],
   "source": [
    "isolate_diff(df)"
   ]
  },
  {
   "cell_type": "code",
   "execution_count": 30,
   "metadata": {},
   "outputs": [
    {
     "data": {
      "text/html": [
       "<div>\n",
       "<style>\n",
       "    .dataframe thead tr:only-child th {\n",
       "        text-align: right;\n",
       "    }\n",
       "\n",
       "    .dataframe thead th {\n",
       "        text-align: left;\n",
       "    }\n",
       "\n",
       "    .dataframe tbody tr th {\n",
       "        vertical-align: top;\n",
       "    }\n",
       "</style>\n",
       "<table border=\"1\" class=\"dataframe\">\n",
       "  <thead>\n",
       "    <tr style=\"text-align: right;\">\n",
       "      <th></th>\n",
       "      <th>Actual</th>\n",
       "      <th>Modeled</th>\n",
       "      <th>Pass_ID</th>\n",
       "    </tr>\n",
       "  </thead>\n",
       "  <tbody>\n",
       "    <tr>\n",
       "      <th>1</th>\n",
       "      <td>0</td>\n",
       "      <td>1</td>\n",
       "      <td>101</td>\n",
       "    </tr>\n",
       "    <tr>\n",
       "      <th>2</th>\n",
       "      <td>1</td>\n",
       "      <td>0</td>\n",
       "      <td>102</td>\n",
       "    </tr>\n",
       "    <tr>\n",
       "      <th>3</th>\n",
       "      <td>1</td>\n",
       "      <td>1</td>\n",
       "      <td>103</td>\n",
       "    </tr>\n",
       "  </tbody>\n",
       "</table>\n",
       "</div>"
      ],
      "text/plain": [
       "   Actual  Modeled  Pass_ID\n",
       "1       0        1      101\n",
       "2       1        0      102\n",
       "3       1        1      103"
      ]
     },
     "execution_count": 30,
     "metadata": {},
     "output_type": "execute_result"
    }
   ],
   "source": [
    "s = df[df.Pass_ID != 100]\n",
    "s"
   ]
  },
  {
   "cell_type": "code",
   "execution_count": 31,
   "metadata": {},
   "outputs": [
    {
     "name": "stdout",
     "output_type": "stream",
     "text": [
      "ALL OCCUPATIONS: Female workers make $169/week less than male workers.\n",
      "MANAGEMENT: Female workers make $347/week less than male workers.\n",
      "Chief executives: Female workers make $415/week less than male workers.\n",
      "General and operations managers: Female workers make $345/week less than male workers.\n",
      "Marketing and sales managers: Female workers make $345/week less than male workers.\n",
      "Administrative services managers: Female workers make $470/week less than male workers.\n",
      "Computer and information systems managers: Female workers make $254/week less than male workers.\n",
      "Financial managers: Female workers make $602/week less than male workers.\n",
      "Human resources managers: Female workers make $221/week less than male workers.\n",
      "Industrial production managers: Female workers make $1528/week less than male workers.\n",
      "Purchasing managers: Female workers make $178/week less than male workers.\n",
      "Transportation storage and distribution managers: Female workers make $257/week less than male workers.\n",
      "Farmers ranchers and other agricultural managers: Female workers make $847/week less than male workers.\n",
      "Construction managers: Female workers make $1357/week less than male workers.\n",
      "Education administrators: Female workers make $333/week less than male workers.\n",
      "Architectural and engineering managers: Female workers make $1892/week less than male workers.\n",
      "Food service managers: Female workers make $140/week less than male workers.\n",
      "Lodging managers: Female workers make $269/week less than male workers.\n",
      "Medical and health services managers: Female workers make $266/week less than male workers.\n",
      "Property real estate and community association managers: Female workers make $314/week less than male workers.\n",
      "Social and community service managers: Female workers make $177/week less than male workers.\n",
      "Managers all other: Female workers make $312/week less than male workers.\n",
      "BUSINESS: Female workers make $323/week less than male workers.\n",
      "Wholesale and retail buyers except farm products: Female workers make $99/week more than male workers.\n",
      "Purchasing agents except wholesale retail and farm products: Female workers make $34/week less than male workers.\n",
      "Claims adjusters appraisers examiners and investigators: Female workers make $310/week less than male workers.\n",
      "Compliance officers: Female workers make $350/week less than male workers.\n",
      "Cost estimators: Female workers make $1264/week less than male workers.\n",
      "Human resources workers: Female workers make $174/week less than male workers.\n",
      "Logisticians: Female workers make $1075/week less than male workers.\n",
      "Management analysts: Female workers make $171/week less than male workers.\n",
      "Market research analysts and marketing specialists: Female workers make $172/week less than male workers.\n",
      "Business operations specialists all other: Female workers make $492/week less than male workers.\n",
      "Accountants and auditors: Female workers make $357/week less than male workers.\n",
      "Financial analysts: Female workers make $509/week less than male workers.\n",
      "Personal financial advisors: Female workers make $705/week less than male workers.\n",
      "Credit counselors and loan officers: Female workers make $280/week less than male workers.\n",
      "COMPUTATIONAL: Female workers make $258/week less than male workers.\n",
      "Computer systems analysts: Female workers make $206/week less than male workers.\n",
      "Information security analysts: Female workers make $1562/week less than male workers.\n",
      "Computer programmers: Female workers make $199/week less than male workers.\n",
      "Software developers applications and systems software: Female workers make $336/week less than male workers.\n",
      "Web developers: Female workers make $207/week less than male workers.\n",
      "Computer support specialists: Female workers make $227/week less than male workers.\n",
      "Database administrators: Female workers make $1829/week less than male workers.\n",
      "Network and computer systems administrators: Female workers make $1266/week less than male workers.\n",
      "Computer network architects: Female workers make $1577/week less than male workers.\n",
      "Computer occupations all other: Female workers make $107/week less than male workers.\n",
      "Operations research analysts: Female workers make $249/week less than male workers.\n",
      "ENGINEERING: Female workers make $195/week less than male workers.\n",
      "Architects except naval: Female workers make $1492/week less than male workers.\n",
      "Aerospace engineers: Female workers make $1668/week less than male workers.\n",
      "Chemical engineers: Female workers make $1583/week less than male workers.\n",
      "Civil engineers: Female workers make $1474/week less than male workers.\n",
      "Computer hardware engineers: Female workers make $1871/week less than male workers.\n",
      "Electrical and electronics engineers: Female workers make $1819/week less than male workers.\n",
      "Industrial engineers including health and safety: Female workers make $1430/week less than male workers.\n",
      "Mechanical engineers: Female workers make $1550/week less than male workers.\n",
      "Engineers all other: Female workers make $89/week less than male workers.\n",
      "Drafters: Female workers make $977/week less than male workers.\n",
      "Engineering technicians except drafters: Female workers make $157/week less than male workers.\n",
      "Surveying and mapping technicians: Female workers make $1031/week less than male workers.\n",
      "SCIENCE: Female workers make $312/week less than male workers.\n",
      "Medical scientists: Female workers make $280/week less than male workers.\n",
      "Chemists and materials scientists: Female workers make $1496/week less than male workers.\n",
      "Environmental scientists and geoscientists: Female workers make $1740/week less than male workers.\n",
      "Physical scientists all other: Female workers make $600/week less than male workers.\n",
      "Miscellaneous life physical and social science technicians: Female workers make $221/week less than male workers.\n",
      "SOCIAL SERVICE: Female workers make $128/week less than male workers.\n",
      "Counselors: Female workers make $6/week less than male workers.\n",
      "Social workers: Female workers make $81/week less than male workers.\n",
      "Clergy: Female workers make $97/week less than male workers.\n",
      "LEGAL: Female workers make $742/week less than male workers.\n",
      "Lawyers: Female workers make $197/week less than male workers.\n",
      "EDUCATION: Female workers make $237/week less than male workers.\n",
      "Postsecondary teachers: Female workers make $261/week less than male workers.\n",
      "Elementary and middle school teachers: Female workers make $120/week less than male workers.\n",
      "Secondary school teachers: Female workers make $143/week less than male workers.\n",
      "Other teachers and instructors: Female workers make $207/week less than male workers.\n",
      "ARTS: Female workers make $146/week less than male workers.\n",
      "Designers: Female workers make $181/week less than male workers.\n",
      "Producers and directors: Female workers make $106/week less than male workers.\n",
      "Athletes coaches umpires and related workers: Female workers make $818/week less than male workers.\n",
      "Editors: Female workers make $80/week less than male workers.\n",
      "Broadcast and sound engineering technicians and radio operators: Female workers make $937/week less than male workers.\n",
      "HEALTHCARE PROFESSIONAL: Female workers make $281/week less than male workers.\n",
      "Pharmacists: Female workers make $306/week less than male workers.\n",
      "Physicians and surgeons: Female workers make $382/week less than male workers.\n",
      "Physical therapists: Female workers make $132/week less than male workers.\n",
      "Registered nurses: Female workers make $124/week less than male workers.\n",
      "Clinical laboratory technologists and technicians: Female workers make $293/week less than male workers.\n",
      "Diagnostic related technologists and technicians: Female workers make $198/week less than male workers.\n",
      "Emergency medical technicians and paramedics: Female workers make $899/week less than male workers.\n",
      "Health practitioner support technologists and technicians: Female workers make $19/week less than male workers.\n",
      "HEALTHCARE SUPPORT: Female workers make $87/week less than male workers.\n",
      "Nursing psychiatric and home health aides: Female workers make $69/week less than male workers.\n",
      "PROTECTIVE SERVICE: Female workers make $196/week less than male workers.\n",
      "First-line supervisors of police and detectives: Female workers make $1425/week less than male workers.\n",
      "First-line supervisors of protective service workers all other: Female workers make $825/week less than male workers.\n",
      "Firefighters: Female workers make $1052/week less than male workers.\n",
      "Bailiffs correctional officers and jailers: Female workers make $93/week less than male workers.\n",
      "Detectives and criminal investigators: Female workers make $1265/week less than male workers.\n",
      "Police and sheriff's patrol officers: Female workers make $8/week more than male workers.\n",
      "Security guards and gaming surveillance officers: Female workers make $77/week less than male workers.\n",
      "CULINARY: Female workers make $67/week less than male workers.\n",
      "Chefs and head cooks: Female workers make $164/week less than male workers.\n",
      "First-line supervisors of food preparation and serving workers: Female workers make $163/week less than male workers.\n",
      "Cooks: Female workers make $27/week less than male workers.\n",
      "Food preparation workers: Female workers make $26/week less than male workers.\n",
      "Bartenders: Female workers make $76/week less than male workers.\n",
      "Combined food preparation and serving workers including fast food: Female workers make $21/week less than male workers.\n",
      "Waiters and waitresses: Female workers make $90/week less than male workers.\n",
      "Dining room and cafeteria attendants and bartender helpers: Female workers make $389/week less than male workers.\n",
      "Dishwashers: Female workers make $401/week less than male workers.\n",
      "GROUNDSKEEPING: Female workers make $98/week less than male workers.\n",
      "First-line supervisors of housekeeping and janitorial workers: Female workers make $129/week less than male workers.\n",
      "First-line supervisors of landscaping lawn service and groundskeeping workers: Female workers make $653/week less than male workers.\n",
      "Janitors and building cleaners: Female workers make $118/week less than male workers.\n",
      "Maids and housekeeping cleaners: Female workers make $68/week less than male workers.\n",
      "Pest control workers: Female workers make $591/week less than male workers.\n",
      "Grounds maintenance workers: Female workers make $473/week less than male workers.\n",
      "SERVICE: Female workers make $122/week less than male workers.\n",
      "First-line supervisors of gaming workers: Female workers make $220/week less than male workers.\n",
      "Baggage porters bellhops and concierges: Female workers make $606/week less than male workers.\n",
      "Personal care aides: Female workers make $96/week less than male workers.\n",
      "Recreation and fitness workers: Female workers make $158/week less than male workers.\n",
      "SALES: Female workers make $302/week less than male workers.\n",
      "First-line supervisors of retail sales workers: Female workers make $211/week less than male workers.\n",
      "First-line supervisors of non-retail sales workers: Female workers make $244/week less than male workers.\n",
      "Cashiers: Female workers make $66/week less than male workers.\n",
      "Parts salespersons: Female workers make $600/week less than male workers.\n",
      "Retail salespersons: Female workers make $200/week less than male workers.\n",
      "Advertising sales agents: Female workers make $426/week less than male workers.\n",
      "Insurance sales agents: Female workers make $311/week less than male workers.\n",
      "Securities commodities and financial services sales agents: Female workers make $694/week less than male workers.\n",
      "Sales representatives services all other: Female workers make $448/week less than male workers.\n",
      "Sales representatives wholesale and manufacturing: Female workers make $149/week less than male workers.\n",
      "Real estate brokers and sales agents: Female workers make $317/week less than male workers.\n",
      "Sales and related workers all other: Female workers make $361/week less than male workers.\n",
      "OFFICE: Female workers make $47/week less than male workers.\n",
      "First-line supervisors of office and administrative support workers: Female workers make $97/week less than male workers.\n",
      "Bill and account collectors: Female workers make $26/week less than male workers.\n",
      "Bookkeeping accounting and auditing clerks: Female workers make $2/week more than male workers.\n",
      "Customer service representatives: Female workers make $86/week less than male workers.\n",
      "Hotel motel and resort desk clerks: Female workers make $19/week less than male workers.\n",
      "Receptionists and information clerks: Female workers make $50/week less than male workers.\n",
      "Couriers and messengers: Female workers make $750/week less than male workers.\n",
      "Dispatchers: Female workers make $104/week less than male workers.\n",
      "Postal service clerks: Female workers make $141/week less than male workers.\n",
      "Postal service mail carriers: Female workers make $167/week less than male workers.\n",
      "Production planning and expediting clerks: Female workers make $246/week less than male workers.\n",
      "Shipping receiving and traffic clerks: Female workers make $38/week less than male workers.\n",
      "Stock clerks and order fillers: Female workers make $31/week less than male workers.\n",
      "Secretaries and administrative assistants: Female workers make $103/week less than male workers.\n",
      "Data entry keyers: Female workers make $49/week more than male workers.\n",
      "Insurance claims and policy processing clerks: Female workers make $87/week less than male workers.\n",
      "Office clerks general: Female workers make $13/week more than male workers.\n",
      "Office and administrative support workers all other: Female workers make $134/week less than male workers.\n",
      "AGRICULTURAL: Female workers make $40/week less than male workers.\n",
      "Miscellaneous agricultural workers: Female workers make $62/week less than male workers.\n",
      "CONSTRUCTION: Female workers make $47/week less than male workers.\n",
      "First-line supervisors of construction trades and extraction workers: Female workers make $1047/week less than male workers.\n",
      "Brickmasons blockmasons and stonemasons: Female workers make $652/week less than male workers.\n",
      "Carpenters: Female workers make $687/week less than male workers.\n",
      "Carpet floor and tile installers and finishers: Female workers make $634/week less than male workers.\n",
      "Construction laborers: Female workers make $642/week less than male workers.\n",
      "Operating engineers and other construction equipment operators: Female workers make $859/week less than male workers.\n",
      "Drywall installers ceiling tile installers and tapers: Female workers make $595/week less than male workers.\n",
      "Electricians: Female workers make $891/week less than male workers.\n",
      "Painters construction and maintenance: Female workers make $587/week less than male workers.\n",
      "Pipelayers plumbers pipefitters and steamfitters: Female workers make $862/week less than male workers.\n",
      "Roofers: Female workers make $580/week less than male workers.\n",
      "Sheet metal workers: Female workers make $776/week less than male workers.\n",
      "Structural iron and steel workers: Female workers make $864/week less than male workers.\n",
      "Construction and building inspectors: Female workers make $965/week less than male workers.\n",
      "Highway maintenance workers: Female workers make $755/week less than male workers.\n",
      "Mining machine operators: Female workers make $1098/week less than male workers.\n",
      "Other extraction workers: Female workers make $918/week less than male workers.\n",
      "MAINTENANCE: Female workers make $81/week less than male workers.\n",
      "First-line supervisors of mechanics installers and repairers: Female workers make $1033/week less than male workers.\n",
      "Computer automated teller and office machine repairers: Female workers make $865/week less than male workers.\n",
      "Radio and telecommunications equipment installers and repairers: Female workers make $879/week less than male workers.\n",
      "Security and fire alarm systems installers: Female workers make $913/week less than male workers.\n",
      "Aircraft mechanics and service technicians: Female workers make $1032/week less than male workers.\n",
      "Automotive body and related repairers: Female workers make $849/week less than male workers.\n",
      "Automotive service technicians and mechanics: Female workers make $724/week less than male workers.\n",
      "Bus and truck mechanics and diesel engine specialists: Female workers make $830/week less than male workers.\n",
      "Heavy vehicle and mobile equipment service technicians and mechanics: Female workers make $928/week less than male workers.\n",
      "Miscellaneous vehicle and mobile equipment mechanics installers and repairers: Female workers make $591/week less than male workers.\n",
      "Heating air conditioning and refrigeration mechanics and installers: Female workers make $810/week less than male workers.\n",
      "Industrial and refractory machinery mechanics: Female workers make $894/week less than male workers.\n",
      "Maintenance and repair workers general: Female workers make $771/week less than male workers.\n",
      "Electrical power-line installers and repairers: Female workers make $1105/week less than male workers.\n",
      "Telecommunications line installers and repairers: Female workers make $880/week less than male workers.\n",
      "Precision instrument and equipment repairers: Female workers make $1009/week less than male workers.\n",
      "Other installation maintenance and repair workers: Female workers make $810/week less than male workers.\n",
      "PRODUCTION: Female workers make $210/week less than male workers.\n",
      "First-line supervisors of production and operating workers: Female workers make $301/week less than male workers.\n",
      "Electrical electronics and electromechanical assemblers: Female workers make $22/week less than male workers.\n",
      "Miscellaneous assemblers and fabricators: Female workers make $125/week less than male workers.\n",
      "Bakers: Female workers make $95/week less than male workers.\n",
      "Butchers and other meat poultry and fish processing workers: Female workers make $119/week less than male workers.\n",
      "Food processing workers all other: Female workers make $171/week less than male workers.\n",
      "Computer control programmers and operators: Female workers make $857/week less than male workers.\n",
      "Cutting punching and press machine setters operators and tenders metal and plastic: Female workers make $674/week less than male workers.\n",
      "Machinists: Female workers make $840/week less than male workers.\n",
      "Welding soldering and brazing workers: Female workers make $767/week less than male workers.\n",
      "Metal workers and plastic workers all other: Female workers make $97/week less than male workers.\n",
      "Printing press operators: Female workers make $729/week less than male workers.\n",
      "Laundry and dry-cleaning workers: Female workers make $27/week less than male workers.\n",
      "Stationary engineers and boiler operators: Female workers make $1012/week less than male workers.\n",
      "Water and wastewater treatment plant and system operators: Female workers make $868/week less than male workers.\n",
      "Chemical processing machine setters operators and tenders: Female workers make $1082/week less than male workers.\n",
      "Crushing grinding polishing mixing and blending workers: Female workers make $668/week less than male workers.\n",
      "Inspectors testers sorters samplers and weighers: Female workers make $261/week less than male workers.\n",
      "Packaging and filling machine operators and tenders: Female workers make $123/week less than male workers.\n",
      "Painting workers: Female workers make $733/week less than male workers.\n",
      "Production workers all other: Female workers make $165/week less than male workers.\n",
      "TRANSPORTATION: Female workers make $185/week less than male workers.\n",
      "Supervisors of transportation and material moving workers: Female workers make $898/week less than male workers.\n",
      "Aircraft pilots and flight engineers: Female workers make $1830/week less than male workers.\n",
      "Bus drivers: Female workers make $109/week less than male workers.\n",
      "Driver/sales workers and truck drivers: Female workers make $119/week less than male workers.\n",
      "Taxi drivers and chauffeurs: Female workers make $600/week less than male workers.\n",
      "Railroad conductors and yardmasters: Female workers make $1137/week less than male workers.\n",
      "Automotive and watercraft service attendants: Female workers make $470/week less than male workers.\n",
      "Crane and tower operators: Female workers make $1016/week less than male workers.\n",
      "Industrial truck and tractor operators: Female workers make $612/week less than male workers.\n",
      "Cleaners of vehicles and equipment: Female workers make $498/week less than male workers.\n",
      "Laborers and freight stock and material movers hand: Female workers make $92/week less than male workers.\n",
      "Packers and packagers hand: Female workers make $38/week less than male workers.\n",
      "Refuse and recyclable material collectors: Female workers make $496/week less than male workers.\n"
     ]
    }
   ],
   "source": [
    "occupation_lst = ['ALL OCCUPATIONS', 'MANAGEMENT', 'Chief executives', 'General and operations managers', 'Marketing and sales managers', 'Administrative services managers', 'Computer and information systems managers', 'Financial managers', 'Human resources managers', 'Industrial production managers', 'Purchasing managers', 'Transportation storage and distribution managers', 'Farmers ranchers and other agricultural managers', 'Construction managers', 'Education administrators', 'Architectural and engineering managers', 'Food service managers', 'Lodging managers', 'Medical and health services managers', 'Property real estate and community association managers', 'Social and community service managers', 'Managers all other', 'BUSINESS', 'Wholesale and retail buyers except farm products', 'Purchasing agents except wholesale retail and farm products', 'Claims adjusters appraisers examiners and investigators', 'Compliance officers', 'Cost estimators', 'Human resources workers', 'Logisticians', 'Management analysts', 'Market research analysts and marketing specialists', 'Business operations specialists all other', 'Accountants and auditors', 'Financial analysts', 'Personal financial advisors', 'Credit counselors and loan officers', 'COMPUTATIONAL', 'Computer systems analysts', 'Information security analysts', 'Computer programmers', 'Software developers applications and systems software', 'Web developers', 'Computer support specialists', 'Database administrators', 'Network and computer systems administrators', 'Computer network architects', 'Computer occupations all other', 'Operations research analysts', 'ENGINEERING', 'Architects except naval', 'Aerospace engineers', 'Chemical engineers', 'Civil engineers', 'Computer hardware engineers', 'Electrical and electronics engineers', 'Industrial engineers including health and safety', 'Mechanical engineers', 'Engineers all other', 'Drafters', 'Engineering technicians except drafters', 'Surveying and mapping technicians', 'SCIENCE', 'Medical scientists', 'Chemists and materials scientists', 'Environmental scientists and geoscientists', 'Physical scientists all other', 'Miscellaneous life physical and social science technicians', 'SOCIAL SERVICE', 'Counselors', 'Social workers', 'Clergy', 'LEGAL', 'Lawyers', 'EDUCATION', 'Postsecondary teachers', 'Elementary and middle school teachers', 'Secondary school teachers', 'Other teachers and instructors', 'ARTS', 'Designers', 'Producers and directors', 'Athletes coaches umpires and related workers', 'Editors', 'Broadcast and sound engineering technicians and radio operators', 'HEALTHCARE PROFESSIONAL', 'Pharmacists', 'Physicians and surgeons', 'Physical therapists', 'Registered nurses', 'Clinical laboratory technologists and technicians', 'Diagnostic related technologists and technicians', 'Emergency medical technicians and paramedics', 'Health practitioner support technologists and technicians', 'HEALTHCARE SUPPORT', 'Nursing psychiatric and home health aides', 'PROTECTIVE SERVICE', 'First-line supervisors of police and detectives', 'First-line supervisors of protective service workers all other', 'Firefighters', 'Bailiffs correctional officers and jailers', 'Detectives and criminal investigators', \"Police and sheriff's patrol officers\", 'Security guards and gaming surveillance officers', 'CULINARY', 'Chefs and head cooks', 'First-line supervisors of food preparation and serving workers', 'Cooks', 'Food preparation workers', 'Bartenders', 'Combined food preparation and serving workers including fast food', 'Waiters and waitresses', 'Dining room and cafeteria attendants and bartender helpers', 'Dishwashers', 'GROUNDSKEEPING', 'First-line supervisors of housekeeping and janitorial workers', 'First-line supervisors of landscaping lawn service and groundskeeping workers', 'Janitors and building cleaners', 'Maids and housekeeping cleaners', 'Pest control workers', 'Grounds maintenance workers', 'SERVICE', 'First-line supervisors of gaming workers', 'Baggage porters bellhops and concierges', 'Personal care aides', 'Recreation and fitness workers', 'SALES', 'First-line supervisors of retail sales workers', 'First-line supervisors of non-retail sales workers', 'Cashiers', 'Parts salespersons', 'Retail salespersons', 'Advertising sales agents', 'Insurance sales agents', 'Securities commodities and financial services sales agents', 'Sales representatives services all other', 'Sales representatives wholesale and manufacturing', 'Real estate brokers and sales agents', 'Sales and related workers all other', 'OFFICE', 'First-line supervisors of office and administrative support workers', 'Bill and account collectors', 'Bookkeeping accounting and auditing clerks', 'Customer service representatives', 'Hotel motel and resort desk clerks', 'Receptionists and information clerks', 'Couriers and messengers', 'Dispatchers', 'Postal service clerks', 'Postal service mail carriers', 'Production planning and expediting clerks', 'Shipping receiving and traffic clerks', 'Stock clerks and order fillers', 'Secretaries and administrative assistants', 'Data entry keyers', 'Insurance claims and policy processing clerks', 'Office clerks general', 'Office and administrative support workers all other', 'AGRICULTURAL', 'Miscellaneous agricultural workers', 'CONSTRUCTION', 'First-line supervisors of construction trades and extraction workers', 'Brickmasons blockmasons and stonemasons', 'Carpenters', 'Carpet floor and tile installers and finishers', 'Construction laborers', 'Operating engineers and other construction equipment operators', 'Drywall installers ceiling tile installers and tapers', 'Electricians', 'Painters construction and maintenance', 'Pipelayers plumbers pipefitters and steamfitters', 'Roofers', 'Sheet metal workers', 'Structural iron and steel workers', 'Construction and building inspectors', 'Highway maintenance workers', 'Mining machine operators', 'Other extraction workers', 'MAINTENANCE', 'First-line supervisors of mechanics installers and repairers', 'Computer automated teller and office machine repairers', 'Radio and telecommunications equipment installers and repairers', 'Security and fire alarm systems installers', 'Aircraft mechanics and service technicians', 'Automotive body and related repairers', 'Automotive service technicians and mechanics', 'Bus and truck mechanics and diesel engine specialists', 'Heavy vehicle and mobile equipment service technicians and mechanics', 'Miscellaneous vehicle and mobile equipment mechanics installers and repairers', 'Heating air conditioning and refrigeration mechanics and installers', 'Industrial and refractory machinery mechanics', 'Maintenance and repair workers general', 'Electrical power-line installers and repairers', 'Telecommunications line installers and repairers', 'Precision instrument and equipment repairers', 'Other installation maintenance and repair workers', 'PRODUCTION', 'First-line supervisors of production and operating workers', 'Electrical electronics and electromechanical assemblers', 'Miscellaneous assemblers and fabricators', 'Bakers', 'Butchers and other meat poultry and fish processing workers', 'Food processing workers all other', 'Computer control programmers and operators', 'Cutting punching and press machine setters operators and tenders metal and plastic', 'Machinists', 'Welding soldering and brazing workers', 'Metal workers and plastic workers all other', 'Printing press operators', 'Laundry and dry-cleaning workers', 'Stationary engineers and boiler operators', 'Water and wastewater treatment plant and system operators', 'Chemical processing machine setters operators and tenders', 'Crushing grinding polishing mixing and blending workers', 'Inspectors testers sorters samplers and weighers', 'Packaging and filling machine operators and tenders', 'Painting workers', 'Production workers all other', 'TRANSPORTATION', 'Supervisors of transportation and material moving workers', 'Aircraft pilots and flight engineers', 'Bus drivers', 'Driver/sales workers and truck drivers', 'Taxi drivers and chauffeurs', 'Railroad conductors and yardmasters', 'Automotive and watercraft service attendants', 'Crane and tower operators', 'Industrial truck and tractor operators', 'Cleaners of vehicles and equipment', 'Laborers and freight stock and material movers hand', 'Packers and packagers hand', 'Refuse and recyclable material collectors']\n",
    "m_weekly_lst = [895, 1486, 2251, 1347, 1603, 1451, 1817, 1732, 1495, 1528, 1404, 1006, 847, 1357, 1585, 1892, 820, 1171, 1422, 1137, 1142, 1525, 1327, 886, 1020, 1134, 1375, 1264, 1158, 1075, 1519, 1411, 1461, 1345, 1680, 1738, 1186, 1503, 1462, 1562, 1501, 1751, 1233, 1135, 1829, 1266, 1577, 1252, 1574, 1452, 1492, 1668, 1583, 1474, 1871, 1819, 1430, 1550, 1537, 977, 984, 1031, 1379, 1362, 1496, 1740, 1770, 1001, 973, 908, 943, 1021, 1877, 1914, 1144, 1405, 1077, 1149, 1024, 1088, 1099, 1340, 818, 1205, 937, 1272, 2117, 1915, 1347, 1222, 1089, 1106, 899, 652, 577, 526, 851, 1425, 825, 1052, 779, 1265, 1001, 592, 481, 656, 621, 427, 414, 569, 401, 501, 389, 401, 517, 700, 653, 547, 475, 591, 473, 597, 900, 606, 537, 684, 880, 825, 1140, 471, 600, 694, 1155, 1028, 1461, 1147, 1066, 1052, 1088, 693, 878, 674, 690, 690, 486, 619, 750, 759, 974, 1021, 978, 604, 537, 786, 589, 762, 609, 852, 477, 460, 751, 1047, 652, 687, 634, 642, 859, 595, 891, 587, 862, 580, 776, 864, 965, 755, 1098, 918, 842, 1033, 865, 879, 913, 1032, 849, 724, 830, 928, 591, 810, 894, 771, 1105, 880, 1009, 810, 729, 924, 566, 637, 570, 582, 679, 857, 674, 840, 767, 678, 729, 487, 1012, 868, 1082, 668, 844, 605, 733, 666, 679, 898, 1830, 681, 751, 600, 1137, 470, 1016, 612, 498, 547, 462, 496]\n",
    "f_weekly_lst = [726, 1139, 1836, 1002, 1258, 981, 1563, 1130, 1274, 0, 1226, 749, 0, 0, 1252, 0, 680, 902, 1156, 823, 965, 1213, 1004, 985, 986, 824, 1025, 0, 984, 0, 1348, 1239, 969, 988, 1171, 1033, 906, 1245, 1256, 0, 1302, 1415, 1026, 908, 0, 0, 0, 1145, 1325, 1257, 0, 0, 0, 0, 0, 0, 0, 0, 1448, 0, 827, 0, 1067, 1082, 0, 0, 1170, 780, 845, 902, 862, 924, 1135, 1717, 907, 1144, 957, 1006, 817, 942, 918, 1234, 0, 1125, 0, 991, 1811, 1533, 1215, 1098, 796, 908, 0, 633, 490, 457, 655, 0, 0, 0, 686, 0, 1009, 515, 414, 492, 458, 400, 388, 493, 380, 411, 0, 0, 419, 571, 0, 429, 407, 0, 0, 475, 680, 0, 441, 526, 578, 614, 896, 405, 0, 494, 729, 717, 767, 699, 917, 735, 727, 646, 781, 648, 692, 604, 467, 569, 0, 655, 833, 854, 732, 566, 506, 683, 638, 675, 622, 718, 437, 398, 704, 0, 0, 0, 0, 0, 0, 0, 0, 0, 0, 0, 0, 0, 0, 0, 0, 0, 761, 0, 0, 0, 0, 0, 0, 0, 0, 0, 0, 0, 0, 0, 0, 0, 0, 0, 519, 623, 544, 512, 475, 463, 508, 0, 0, 0, 0, 581, 0, 460, 0, 0, 0, 0, 583, 482, 0, 501, 494, 0, 0, 572, 632, 0, 0, 0, 0, 0, 0, 455, 424, 0]\n",
    "\n",
    "missing_data_occupations = []\n",
    "for x,y,z in zip(occupation_lst, m_weekly_lst, f_weekly_lst):\n",
    "    word = \"less\" if y - z > 0 else \"more\"\n",
    "    amount = y - z if y - z > 0 else z - y\n",
    "    print (x + \":\" + \" Female workers make \" + \"$\" + str(amount) + \"/week \" + word + \" than male workers.\")\n",
    "    \n",
    "# for x in range (0,len(occupation_lst)):\n",
    "#     col_occ = occupation_lst[x]\n",
    "#     col_m = m_weekly_lst[x]\n",
    "#     col_f = f_weekly_lst[x]\n",
    "    \n",
    "#     diff = abs(col_m - col_f)\n",
    "#     if col_m > col_f:\n",
    "#         status = \"Male workers make $\" + str(diff) + \"/week more than Female workers.\"\n",
    "#     elif col_m < col_f:\n",
    "#         status = \"Female workers make $\" + str(diff) + \"/week more than Male workers.\"\n",
    "#     else:\n",
    "#         status = \"Both Male and Female workers make same amount of salary $\" + str(diff)\n",
    "#     print (col_occ + \": \" + status)"
   ]
  },
  {
   "cell_type": "code",
<<<<<<< HEAD
   "execution_count": 32,
=======
   "execution_count": 37,
>>>>>>> 466ccbc13355cb986b513cee7b65a24b7dcbe8df
   "metadata": {},
   "outputs": [
    {
     "data": {
      "text/html": [
       "<div>\n",
       "<style>\n",
       "    .dataframe thead tr:only-child th {\n",
       "        text-align: right;\n",
       "    }\n",
       "\n",
       "    .dataframe thead th {\n",
       "        text-align: left;\n",
       "    }\n",
       "\n",
       "    .dataframe tbody tr th {\n",
       "        vertical-align: top;\n",
       "    }\n",
       "</style>\n",
       "<table border=\"1\" class=\"dataframe\">\n",
       "  <thead>\n",
       "    <tr style=\"text-align: right;\">\n",
       "      <th></th>\n",
       "      <th>A</th>\n",
       "      <th>B</th>\n",
       "    </tr>\n",
       "  </thead>\n",
       "  <tbody>\n",
       "    <tr>\n",
       "      <th>0</th>\n",
       "      <td>1.6</td>\n",
       "      <td>1.6</td>\n",
       "    </tr>\n",
       "    <tr>\n",
       "      <th>1</th>\n",
       "      <td>1.2</td>\n",
       "      <td>1.2</td>\n",
       "    </tr>\n",
       "    <tr>\n",
       "      <th>2</th>\n",
       "      <td>3.9</td>\n",
       "      <td>3.9</td>\n",
       "    </tr>\n",
       "    <tr>\n",
       "      <th>3</th>\n",
       "      <td>4.5</td>\n",
       "      <td>4.5</td>\n",
       "    </tr>\n",
       "    <tr>\n",
       "      <th>4</th>\n",
       "      <td>NaN</td>\n",
       "      <td>NaN</td>\n",
       "    </tr>\n",
       "  </tbody>\n",
       "</table>\n",
       "</div>"
      ],
      "text/plain": [
       "     A    B\n",
       "0  1.6  1.6\n",
       "1  1.2  1.2\n",
       "2  3.9  3.9\n",
       "3  4.5  4.5\n",
       "4  NaN  NaN"
      ]
     },
<<<<<<< HEAD
     "execution_count": 32,
=======
     "execution_count": 37,
>>>>>>> 466ccbc13355cb986b513cee7b65a24b7dcbe8df
     "metadata": {},
     "output_type": "execute_result"
    }
   ],
   "source": [
    "import numpy as np\n",
    "\n",
    "df = pd.DataFrame({'A': [1.6,1.2,3.9,4.5, np.nan]})  \n",
    "df['B'] = df['A'] \n",
    "df"
   ]
  },
  {
   "cell_type": "code",
<<<<<<< HEAD
   "execution_count": 33,
=======
   "execution_count": 49,
>>>>>>> 466ccbc13355cb986b513cee7b65a24b7dcbe8df
   "metadata": {},
   "outputs": [
    {
     "name": "stdout",
     "output_type": "stream",
     "text": [
      "[['Thank you for being a loyal customer.', '/Users/YusufNugroho/local-repo/scrapping-bugs/file_url.csv'], ['Thank you for being a horrible customer.', '/Users/YusufNugroho/local-repo/scrapping-bugs/mydata.csv'], ['Thank you for being a nice customer.', '/Users/YusufNugroho/local-repo/scrapping-bugs/urlfile.csv']]\n"
     ]
    }
   ],
   "source": [
    "import glob,os\n",
    "\n",
    "words = ['Thank you for being a loyal customer.',\n",
    "         'Thank you for being a horrible customer.',   \n",
    "         'Thank you for being a nice customer.']    \n",
    "\n",
    "def convert(path):\n",
    "    a = []\n",
    "    z = 0\n",
    "    for files in glob.glob(path + \"/*.csv\"):\n",
    "        temp = [words[z],files]\n",
    "        a.append(temp)\n",
    "        z += 1\n",
    "    print (a)\n",
    "\n",
    "dirs = os.path.expanduser('~')\n",
    "convert(dirs + '/local-repo/scrapping-bugs')"
   ]
  },
  {
   "cell_type": "code",
<<<<<<< HEAD
   "execution_count": 34,
   "metadata": {},
   "outputs": [
    {
     "name": "stdout",
     "output_type": "stream",
     "text": [
      "Enter the max number of iteration: 2\n",
      "Enter the string to print: Hi\n",
      "1 Hi\n",
      "2 Hi\n"
     ]
    }
   ],
   "source": [
    "import time\n",
    "\n",
    "def hi ():\n",
    "    i = int(input(\"Enter the max number of iteration: \"))\n",
    "    s = input(\"Enter the string to print: \")\n",
    "    for n in range(i):\n",
    "        print(n+1, s)\n",
    "        time.sleep(1)\n",
    "        \n",
    "hi()"
   ]
  },
  {
   "cell_type": "code",
   "execution_count": 35,
   "metadata": {},
   "outputs": [
    {
     "data": {
      "text/plain": [
       "[1, 2, 4, 5, 9, 10, 13, 14, 20, 21, 26, 27]"
      ]
     },
     "execution_count": 35,
     "metadata": {},
     "output_type": "execute_result"
    }
   ],
   "source": [
    "import more_itertools as mit\n",
    "\n",
    "my_list = [1,2,3,4,5, 9,10,11,12,13,14, 20,21,22,23,24,25,26,27]\n",
    "\n",
    "x = [list(group) for group in mit.consecutive_groups(my_list)]\n",
    "\n",
    "output = []\n",
    "for i in x:\n",
    "    temp = [i[0],i[1],i[-2],i[-1]]\n",
    "    output.extend(temp)    \n",
    "output"
   ]
  },
  {
   "cell_type": "code",
   "execution_count": 36,
   "metadata": {},
   "outputs": [
    {
     "name": "stdout",
     "output_type": "stream",
     "text": [
      "Counting down: 00\n",
      "Your time is over\n"
     ]
    }
   ],
   "source": [
    "import sys, time\n",
    "\n",
    "x = 10\n",
    "while x>=0:\n",
    "    if x < 10:\n",
    "        s = '0' + str(x)\n",
    "    else:\n",
    "        s = str(x)\n",
    "    sys.stdout.write(\"\\rCounting down: \" + s)\n",
    "    sys.stdout.flush()\n",
    "    time.sleep(1)\n",
    "    x -= 1\n",
    "print (\"\\nYour time is over\")"
   ]
  },
  {
   "cell_type": "code",
   "execution_count": 37,
   "metadata": {
    "scrolled": true
   },
   "outputs": [
    {
     "name": "stdout",
     "output_type": "stream",
     "text": [
      "{s:12:\"cfdb7_status\";s:6:\"unread\";s:3:\"Day\";s:6:\"Sunday\";s:9:\"startTime\";s:5:\"07:30\";s:7:\"endTime\";s:5:\"08:30\";}\n",
      "{s:12:\"cfdb7_status\";s:6:\"unread\";s:3:\"Day\";s:6:\"Monday\";s:9:\"startTime\";s:5:\"07:30\";s:7:\"endTime\";s:5:\"08:30\";}\n",
      "{s:12:\"cfdb7_status\";s:6:\"unread\";s:3:\"Day\";s:7:\"Tuesday\";s:9:\"startTime\";s:5:\"07:30\";s:7:\"endTime\";s:5:\"08:30\";}\n",
      "{s:12:\"cfdb7_status\";s:6:\"unread\";s:3:\"Day\";s:9:\"Wednesday\";s:9:\"startTime\";s:5:\"08:30\";s:7:\"endTime\";s:5:\"09:30\";}\n",
      "{s:12:\"cfdb7_status\";s:6:\"unread\";s:3:\"Day\";s:8:\"Thursday\";s:9:\"startTime\";s:5:\"08:30\";s:7:\"endTime\";s:5:\"09:30\";}\n",
      "{s:12:\"cfdb7_status\";s:6:\"unread\";s:3:\"Day\";s:6:\"Friday\";s:9:\"startTime\";s:5:\"09:00\";s:7:\"endTime\";s:5:\"10:00\";}\n",
      "{s:12:\"cfdb7_status\";s:6:\"unread\";s:3:\"Day\";s:8:\"Saturday\";s:9:\"startTime\";s:5:\"10:00\";s:7:\"endTime\";s:5:\"11:00\";}\n"
     ]
    }
   ],
   "source": [
    "import urllib.request\n",
    "from urllib.request import urlopen\n",
    "from bs4 import BeautifulSoup\n",
    "\n",
    "url = 'http://dnedesign.us.to/tables/'\n",
    "page = urllib.request.urlopen(url)\n",
    "soup = BeautifulSoup(page, \"html.parser\")\n",
    "\n",
    "status = []\n",
    "for rows in soup.find_all('tr'):\n",
    "    x = 0\n",
    "    for td in rows.find_all('td'):      \n",
    "        if 'a:' in td.text:\n",
    "            status.append(td.text[4:])\n",
    "            print(td.text[4:])"
   ]
  },
  {
   "cell_type": "code",
   "execution_count": 38,
   "metadata": {},
   "outputs": [
    {
     "name": "stdout",
     "output_type": "stream",
     "text": [
      "[['Sunday', '07:30', '08:30'], ['Monday', '07:30', '08:30'], ['Tuesday', '07:30', '08:30'], ['Wednesday', '08:30', '09:30'], ['Thursday', '08:30', '09:30'], ['Friday', '09:00', '10:00'], ['Saturday', '10:00', '11:00']]\n"
     ]
    }
   ],
   "source": [
    "import re\n",
    "\n",
    "time = []\n",
    "for rg in status:\n",
    "    try:\n",
    "        regex = re.search(\".*\\\"(?P<day>\\w*day).*\\\"(?P<starttime>\\d+:\\d+).*\\\"(?P<endtime>\\d+:\\d+)\",rg)\n",
    "        regex = regex.groups()\n",
    "        temp = [regex[0], regex[1], regex[2]]\n",
    "    except:\n",
    "        regex = re.search(\".*\\\"(?P<day>\\w*day)\",rg)\n",
    "        regex = regex.groups()\n",
    "        temp = [regex[0]]\n",
    "    time.append(temp)\n",
    "\n",
    "print (time)"
   ]
  },
  {
   "cell_type": "code",
   "execution_count": 39,
   "metadata": {},
   "outputs": [
    {
     "name": "stdout",
     "output_type": "stream",
     "text": [
      "127.0.0.1\n"
     ]
    }
   ],
   "source": [
    "import socket\n",
    "s = socket.socket(socket.AF_INET, socket.SOCK_STREAM)\n",
    "s.connect((\"8.8.8.8\", 80))\n",
    "print(s.getsockname()[0])"
   ]
  },
  {
   "cell_type": "code",
   "execution_count": 40,
   "metadata": {
    "scrolled": true
   },
   "outputs": [
    {
     "name": "stdout",
     "output_type": "stream",
     "text": [
      "id : page\n",
      "class : hfeed site\n",
      "\n",
      "id : fixed-header-top\n",
      "id : mobile-primary-menu\n",
      "class : mobile-menu-anchor fixed-primary-menu\n",
      "\n",
      "id : header-toggle\n",
      "id : header-toggle-sidebar\n",
      "class : widget-area displaynone\n",
      "\n",
      "id : site-branding\n",
      "class : logo-left\n",
      "\n",
      "id : site-logo\n",
      "id : site-header\n",
      "id : content\n",
      "class : site-content\n",
      "\n",
      "id : bitnami-banner\n",
      "id : wpcf7-f311-o1\n",
      "class : wpcf7\n",
      "\n",
      "id : site-generator\n",
      "class : two\n",
      "\n",
      "id : footer-left-content\n",
      "class : copyright\n",
      "\n",
      "id : footer-right-content\n",
      "class : powered\n",
      "\n",
      "id : bitnami-banner\n"
     ]
    }
   ],
   "source": [
    "import urllib.request\n",
    "from urllib.request import urlopen\n",
    "from bs4 import BeautifulSoup\n",
    "\n",
    "url = 'http://dnedesign.us.to/tables/'\n",
    "page = urllib.request.urlopen(url)\n",
    "soup = BeautifulSoup(page, \"html.parser\")\n",
    "\n",
    "status = []\n",
    "for div in soup.find_all('div'):\n",
    "    try:\n",
    "        print ('id : ' + ''.join(div['id']))\n",
    "        print ('class : ' + ' '.join(div['class']))\n",
    "        print()\n",
    "    except:\n",
    "        pass"
   ]
  },
  {
   "cell_type": "code",
   "execution_count": 41,
   "metadata": {
    "scrolled": true
   },
   "outputs": [
    {
     "name": "stdout",
     "output_type": "stream",
     "text": [
      "Enter the size of N: 2\n",
      "Enter stuff 1 : 3\n",
      "Enter stuff 2 : 1\n",
      "31\n"
     ]
    }
   ],
   "source": [
    "stuff = []\n",
    "N = int(input(\"Enter the size of N: \"))\n",
    "for n in range(N):\n",
    "    s = input(\"Enter stuff %i : \" %(n+1))\n",
    "    stuff.append(str(s))   \n",
    "\n",
    "for ss in range(len(stuff)):\n",
    "    st = stuff[ss]\n",
    "    for x in range(ss+1, len(stuff)):\n",
    "        comb = st + stuff[x]\n",
    "        print (comb)"
   ]
  },
  {
   "cell_type": "code",
   "execution_count": 42,
   "metadata": {},
   "outputs": [
    {
     "name": "stdout",
     "output_type": "stream",
     "text": [
      "Enter the size of N: 4\n",
      "Enter stuff 1 : 1\n",
      "Enter stuff 2 : 3\n",
      "Enter stuff 3 : 5\n",
      "Enter stuff 4 : 2\n",
      "['13', '15', '12', '35', '32', '52']\n"
     ]
    }
   ],
   "source": [
    "from itertools import combinations   \n",
    "\n",
    "stuff = []\n",
    "N = int(input(\"Enter the size of N: \"))\n",
    "for n in range(N):\n",
    "    s = input(\"Enter stuff %i : \" %(n+1))\n",
    "    stuff.append(str(s)) \n",
    "    \n",
    "result = [''.join(i) for i in combinations(stuff, 2)]\n",
    "print (result)"
   ]
  },
  {
   "cell_type": "code",
   "execution_count": 43,
   "metadata": {},
   "outputs": [
    {
     "data": {
      "text/plain": [
       "list"
      ]
     },
     "execution_count": 43,
     "metadata": {},
     "output_type": "execute_result"
    }
   ],
   "source": [
    "type(result)"
   ]
  },
  {
   "cell_type": "code",
   "execution_count": 44,
   "metadata": {},
   "outputs": [
    {
     "name": "stdout",
     "output_type": "stream",
     "text": [
      "hello word\n",
      "hello word.2\n"
     ]
    }
   ],
   "source": [
    "string = input()\n",
    "# string = string.replace('word', 'word.2')\n",
    "word = string.find('word')\n",
    "if word >= 0:\n",
    "    string = string.replace('word', 'word.2')\n",
    "print(string)"
   ]
  },
  {
   "cell_type": "code",
   "execution_count": 45,
   "metadata": {},
   "outputs": [
    {
     "name": "stdout",
     "output_type": "stream",
     "text": [
      "Col2:4\n",
      "Col3:6\n",
      "Col2:6\n",
      "Both cols are same\n",
      "Col2:2\n"
     ]
    }
   ],
   "source": [
    "import pandas as pd\n",
    "\n",
    "df = pd.DataFrame({'Col1':['A','B','C','D','E'], 'Col2': [4,2,6,3,2], 'Col3':[3,6,4,3,1]})        \n",
    "for x in range(len(df)):\n",
    "    dt = df.iloc[x]\n",
    "    if dt[1] > dt[2]:\n",
    "        print ('Col2:{}'.format(dt[1]))\n",
    "    elif dt[1] < dt[2]:\n",
    "        print ('Col3:{}'.format(dt[2]))\n",
    "    else:\n",
    "        print ('Both cols are same')"
   ]
  },
  {
   "cell_type": "code",
   "execution_count": 46,
   "metadata": {},
   "outputs": [
    {
     "name": "stdout",
     "output_type": "stream",
     "text": [
      "Col1\n",
      "Col2\n",
      "Col3\n"
     ]
    }
   ],
   "source": [
    "df = pd.DataFrame({'Col1':['A','B','C','D','E'], 'Col2': [4,2,6,3,2], 'Col3':[3,6,4,3,1]})\n",
    "for key in df:\n",
    "    print (key)"
   ]
  },
  {
   "cell_type": "code",
   "execution_count": 48,
   "metadata": {},
   "outputs": [
    {
     "name": "stdout",
     "output_type": "stream",
     "text": [
      "['star', '*tar', 's*ar', 'st*r', 'sta*', '*tar', 'sta*', 'sta*']\n"
     ]
    }
   ],
   "source": [
    "import re\n",
    "\n",
    "text = 'star *tar s*ar st*r sta* (*tar) (sta*) sta*.'\n",
    "\n",
    "p = re.findall(r'[\\w*]+', text)\n",
    "print(p)"
   ]
  },
  {
   "cell_type": "code",
   "execution_count": 50,
   "metadata": {},
   "outputs": [
    {
     "data": {
      "text/plain": [
       "[[1, 4, 9], [16, 25, 36], [49, 64, 81]]"
      ]
     },
     "execution_count": 50,
     "metadata": {},
     "output_type": "execute_result"
    }
   ],
   "source": [
    "import math\n",
    "def square(x):\n",
    "    temp = []\n",
    "    for num in x:\n",
    "        temp.append(int(math.pow(num,2)))\n",
    "    return temp\n",
    "\n",
    "chunks = [[1,2,3],[4,5,6],[7,8,9]]\n",
    "text = []\n",
    "for ch in range(len(chunks)):\n",
    "    text.append(square(chunks[ch]))\n",
    "text"
   ]
  },
  {
   "cell_type": "code",
   "execution_count": 1,
   "metadata": {},
   "outputs": [
    {
     "name": "stdout",
     "output_type": "stream",
     "text": [
      "['https://github.com/shurcooL/reactions/commit/145cd5e7f3d1']\n"
     ]
    }
   ],
   "source": [
    "# from csv import writer\n",
    "\n",
    "BASE_URL = 'https://github.com/shurcooL/reactions/commit/'\n",
    "\n",
    "github_data = ['v0.0.0-20181222204718-145cd5e7f3d1']\n",
    "\n",
    "# open file for writing\n",
    "# with open('github-commit-urls.csv', mode='w', newline='') as f:\n",
    "#     csv_writer = writer(f)\n",
    "for data in github_data:\n",
    "    # split by '-' dash to extract three pieces of data\n",
    "    release, date, commit_hash_short = data.split('-')\n",
    "    print ([BASE_URL + commit_hash_short])\n",
    "        # write url to file\n",
    "#         csv_writer.writerow([BASE_URL + commit_hash_short])"
   ]
  },
  {
   "cell_type": "markdown",
   "metadata": {},
   "source": [
    "# Timing"
   ]
  },
  {
   "cell_type": "code",
   "execution_count": 52,
   "metadata": {
    "scrolled": true
   },
   "outputs": [
    {
     "name": "stdout",
     "output_type": "stream",
     "text": [
      "Processing batch\n",
      "Elapsed: 0:00:00.539637\n",
      "Elapsed: 0:00:01.069959\n",
      "Elapsed: 0:00:01.454548\n",
      "Elapsed: 0:00:01.924987\n",
      "Elapsed: 0:00:02.525587\n",
      "Elapsed: 0:00:03.052423\n",
      "Elapsed: 0:00:03.505744\n",
      "Elapsed: 0:00:03.980632\n",
      "Elapsed: 0:00:04.448502\n",
      "Elapsed: 0:00:04.813758\n",
      "Elapsed: 0:00:05.388765\n"
     ]
    },
    {
     "ename": "NameError",
     "evalue": "name 'e' is not defined",
     "output_type": "error",
     "traceback": [
      "\u001b[0;31m-------------------------------------------------------\u001b[0m",
      "\u001b[0;31mTimeoutException\u001b[0m      Traceback (most recent call last)",
      "\u001b[0;32m<ipython-input-52-1de860300b1d>\u001b[0m in \u001b[0;36mmain\u001b[0;34m()\u001b[0m\n\u001b[1;32m     36\u001b[0m         \u001b[0mprint\u001b[0m \u001b[0;34m(\u001b[0m\u001b[0;34m'Processing batch'\u001b[0m\u001b[0;34m)\u001b[0m\u001b[0;34m\u001b[0m\u001b[0m\n\u001b[0;32m---> 37\u001b[0;31m         \u001b[0mbatch_xs\u001b[0m\u001b[0;34m,\u001b[0m \u001b[0mbatch_ys\u001b[0m \u001b[0;34m=\u001b[0m \u001b[0mtrain_loadbatch_from_lists\u001b[0m\u001b[0;34m(\u001b[0m\u001b[0mbatch_size\u001b[0m\u001b[0;34m,\u001b[0m \u001b[0mtimeout_sec\u001b[0m\u001b[0;34m)\u001b[0m\u001b[0;34m\u001b[0m\u001b[0m\n\u001b[0m\u001b[1;32m     38\u001b[0m         \u001b[0mprint\u001b[0m \u001b[0;34m(\u001b[0m\u001b[0;34m'Completed successfully'\u001b[0m\u001b[0;34m)\u001b[0m\u001b[0;34m\u001b[0m\u001b[0m\n",
      "\u001b[0;32m<ipython-input-52-1de860300b1d>\u001b[0m in \u001b[0;36mtrain_loadbatch_from_lists\u001b[0;34m(batch_size, timeout_sec)\u001b[0m\n\u001b[1;32m     27\u001b[0m         \u001b[0;32mif\u001b[0m \u001b[0mtime_elapsed\u001b[0m \u001b[0;34m>\u001b[0m \u001b[0mtimeout_sec\u001b[0m\u001b[0;34m:\u001b[0m\u001b[0;34m\u001b[0m\u001b[0m\n\u001b[0;32m---> 28\u001b[0;31m             \u001b[0;32mraise\u001b[0m \u001b[0mTimeoutException\u001b[0m\u001b[0;34m(\u001b[0m\u001b[0;34m)\u001b[0m\u001b[0;34m\u001b[0m\u001b[0m\n\u001b[0m\u001b[1;32m     29\u001b[0m \u001b[0;34m\u001b[0m\u001b[0m\n",
      "\u001b[0;31mTimeoutException\u001b[0m: ",
      "\nDuring handling of the above exception, another exception occurred:\n",
      "\u001b[0;31mNameError\u001b[0m             Traceback (most recent call last)",
      "\u001b[0;32m<ipython-input-52-1de860300b1d>\u001b[0m in \u001b[0;36m<module>\u001b[0;34m()\u001b[0m\n\u001b[1;32m     42\u001b[0m \u001b[0;34m\u001b[0m\u001b[0m\n\u001b[1;32m     43\u001b[0m \u001b[0;32mif\u001b[0m \u001b[0m__name__\u001b[0m \u001b[0;34m==\u001b[0m \u001b[0;34m'__main__'\u001b[0m\u001b[0;34m:\u001b[0m\u001b[0;34m\u001b[0m\u001b[0m\n\u001b[0;32m---> 44\u001b[0;31m     \u001b[0mmain\u001b[0m\u001b[0;34m(\u001b[0m\u001b[0;34m)\u001b[0m\u001b[0;34m\u001b[0m\u001b[0m\n\u001b[0m",
      "\u001b[0;32m<ipython-input-52-1de860300b1d>\u001b[0m in \u001b[0;36mmain\u001b[0;34m()\u001b[0m\n\u001b[1;32m     38\u001b[0m         \u001b[0mprint\u001b[0m \u001b[0;34m(\u001b[0m\u001b[0;34m'Completed successfully'\u001b[0m\u001b[0;34m)\u001b[0m\u001b[0;34m\u001b[0m\u001b[0m\n\u001b[1;32m     39\u001b[0m         \u001b[0mprint\u001b[0m \u001b[0;34m(\u001b[0m\u001b[0mbatch_xs\u001b[0m\u001b[0;34m,\u001b[0m \u001b[0mbatch_ys\u001b[0m\u001b[0;34m)\u001b[0m\u001b[0;34m\u001b[0m\u001b[0m\n\u001b[0;32m---> 40\u001b[0;31m     \u001b[0;32mexcept\u001b[0m \u001b[0;34m(\u001b[0m\u001b[0mTimeoutException\u001b[0m\u001b[0;34m,\u001b[0m \u001b[0me\u001b[0m\u001b[0;34m)\u001b[0m\u001b[0;34m:\u001b[0m\u001b[0;34m\u001b[0m\u001b[0m\n\u001b[0m\u001b[1;32m     41\u001b[0m         \u001b[0mprint\u001b[0m \u001b[0;34m(\u001b[0m\u001b[0;34m'Timeout after processing N records'\u001b[0m\u001b[0;34m)\u001b[0m\u001b[0;34m\u001b[0m\u001b[0m\n\u001b[1;32m     42\u001b[0m \u001b[0;34m\u001b[0m\u001b[0m\n",
      "\u001b[0;31mNameError\u001b[0m: name 'e' is not defined"
     ]
    }
   ],
   "source": [
    "import time\n",
    "import random\n",
    "import datetime\n",
    "\n",
    "class TimeoutException(Exception):\n",
    "    def __init__(self, *args, **kwargs):\n",
    "        Exception.__init__(self, *args, **kwargs)\n",
    "\n",
    "def busy_work():\n",
    "\n",
    "    # Pretend to do something useful\n",
    "    time.sleep(random.uniform(0.3, 0.6))\n",
    "\n",
    "def train_loadbatch_from_lists(batch_size, timeout_sec):\n",
    "\n",
    "    time_start = datetime.datetime.now()\n",
    "    batch_xs = []\n",
    "    batch_ys = []\n",
    "\n",
    "    for i in range(0, batch_size+1):\n",
    "        busy_work()\n",
    "        batch_xs.append(i)\n",
    "        batch_ys.append(i)\n",
    "\n",
    "        time_elapsed = datetime.datetime.now() - time_start\n",
    "        print ('Elapsed:', time_elapsed)\n",
    "        if time_elapsed > timeout_sec:\n",
    "            raise TimeoutException()\n",
    "\n",
    "    return batch_xs, batch_ys\n",
    "\n",
    "def main():\n",
    "    timeout_sec = datetime.timedelta(seconds=5)\n",
    "    batch_size = 10\n",
    "    try:\n",
    "        print ('Processing batch')\n",
    "        batch_xs, batch_ys = train_loadbatch_from_lists(batch_size, timeout_sec)\n",
    "        print ('Completed successfully')\n",
    "        print (batch_xs, batch_ys)\n",
    "    except (TimeoutException, e):\n",
    "        print ('Timeout after processing N records')\n",
    "\n",
    "if __name__ == '__main__':\n",
    "    main()"
   ]
  },
  {
   "cell_type": "code",
   "execution_count": 53,
   "metadata": {
    "collapsed": true
   },
   "outputs": [],
   "source": [
    "import multiprocessing.pool\n",
    "import functools\n",
    "\n",
    "def timeout(max_timeout):\n",
    "    \"\"\"Timeout decorator, parameter in seconds.\"\"\"\n",
    "    def timeout_decorator(item):\n",
    "        \"\"\"Wrap the original function.\"\"\"\n",
    "        @functools.wraps(item)\n",
    "        def func_wrapper(*args, **kwargs):\n",
    "            \"\"\"Closure for function.\"\"\"\n",
    "            pool = multiprocessing.pool.ThreadPool(processes=1)\n",
    "            async_result = pool.apply_async(item, args, kwargs)\n",
    "            # raises a TimeoutError if execution exceeds max_timeout\n",
    "            return async_result.get(max_timeout)\n",
    "        return func_wrapper\n",
    "    return timeout_decorator"
   ]
  },
  {
   "cell_type": "code",
   "execution_count": 54,
   "metadata": {
    "collapsed": true
   },
   "outputs": [],
   "source": [
    "# if execution takes longer than 5 seconds, raise a TimeoutError\n",
    "@timeout(5.0)\n",
    "def sss():\n",
    "    x = []\n",
    "    for i in range(100000000):\n",
    "        x.append(i)\n",
    "    return x"
   ]
  },
  {
   "cell_type": "code",
   "execution_count": 55,
   "metadata": {
    "scrolled": true
   },
   "outputs": [
    {
     "ename": "TimeoutError",
     "evalue": "",
     "output_type": "error",
     "traceback": [
      "\u001b[0;31m-------------------------------------------------------\u001b[0m",
      "\u001b[0;31mTimeoutError\u001b[0m          Traceback (most recent call last)",
      "\u001b[0;32m<ipython-input-55-ee75b82f287c>\u001b[0m in \u001b[0;36m<module>\u001b[0;34m()\u001b[0m\n\u001b[0;32m----> 1\u001b[0;31m \u001b[0msss\u001b[0m\u001b[0;34m(\u001b[0m\u001b[0;34m)\u001b[0m\u001b[0;34m\u001b[0m\u001b[0m\n\u001b[0m",
      "\u001b[0;32m<ipython-input-53-64e7de3a65b5>\u001b[0m in \u001b[0;36mfunc_wrapper\u001b[0;34m(*args, **kwargs)\u001b[0m\n\u001b[1;32m     12\u001b[0m             \u001b[0masync_result\u001b[0m \u001b[0;34m=\u001b[0m \u001b[0mpool\u001b[0m\u001b[0;34m.\u001b[0m\u001b[0mapply_async\u001b[0m\u001b[0;34m(\u001b[0m\u001b[0mitem\u001b[0m\u001b[0;34m,\u001b[0m \u001b[0margs\u001b[0m\u001b[0;34m,\u001b[0m \u001b[0mkwargs\u001b[0m\u001b[0;34m)\u001b[0m\u001b[0;34m\u001b[0m\u001b[0m\n\u001b[1;32m     13\u001b[0m             \u001b[0;31m# raises a TimeoutError if execution exceeds max_timeout\u001b[0m\u001b[0;34m\u001b[0m\u001b[0;34m\u001b[0m\u001b[0m\n\u001b[0;32m---> 14\u001b[0;31m             \u001b[0;32mreturn\u001b[0m \u001b[0masync_result\u001b[0m\u001b[0;34m.\u001b[0m\u001b[0mget\u001b[0m\u001b[0;34m(\u001b[0m\u001b[0mmax_timeout\u001b[0m\u001b[0;34m)\u001b[0m\u001b[0;34m\u001b[0m\u001b[0m\n\u001b[0m\u001b[1;32m     15\u001b[0m         \u001b[0;32mreturn\u001b[0m \u001b[0mfunc_wrapper\u001b[0m\u001b[0;34m\u001b[0m\u001b[0m\n\u001b[1;32m     16\u001b[0m     \u001b[0;32mreturn\u001b[0m \u001b[0mtimeout_decorator\u001b[0m\u001b[0;34m\u001b[0m\u001b[0m\n",
      "\u001b[0;32m~/anaconda3/lib/python3.6/multiprocessing/pool.py\u001b[0m in \u001b[0;36mget\u001b[0;34m(self, timeout)\u001b[0m\n\u001b[1;32m    638\u001b[0m         \u001b[0mself\u001b[0m\u001b[0;34m.\u001b[0m\u001b[0mwait\u001b[0m\u001b[0;34m(\u001b[0m\u001b[0mtimeout\u001b[0m\u001b[0;34m)\u001b[0m\u001b[0;34m\u001b[0m\u001b[0m\n\u001b[1;32m    639\u001b[0m         \u001b[0;32mif\u001b[0m \u001b[0;32mnot\u001b[0m \u001b[0mself\u001b[0m\u001b[0;34m.\u001b[0m\u001b[0mready\u001b[0m\u001b[0;34m(\u001b[0m\u001b[0;34m)\u001b[0m\u001b[0;34m:\u001b[0m\u001b[0;34m\u001b[0m\u001b[0m\n\u001b[0;32m--> 640\u001b[0;31m             \u001b[0;32mraise\u001b[0m \u001b[0mTimeoutError\u001b[0m\u001b[0;34m\u001b[0m\u001b[0m\n\u001b[0m\u001b[1;32m    641\u001b[0m         \u001b[0;32mif\u001b[0m \u001b[0mself\u001b[0m\u001b[0;34m.\u001b[0m\u001b[0m_success\u001b[0m\u001b[0;34m:\u001b[0m\u001b[0;34m\u001b[0m\u001b[0m\n\u001b[1;32m    642\u001b[0m             \u001b[0;32mreturn\u001b[0m \u001b[0mself\u001b[0m\u001b[0;34m.\u001b[0m\u001b[0m_value\u001b[0m\u001b[0;34m\u001b[0m\u001b[0m\n",
      "\u001b[0;31mTimeoutError\u001b[0m: "
     ]
    }
   ],
   "source": [
    "sss()"
   ]
  },
  {
   "cell_type": "code",
   "execution_count": 60,
   "metadata": {},
   "outputs": [
    {
     "data": {
      "text/plain": [
       "\"['hellloworld@gmail.com']\""
      ]
     },
     "execution_count": 60,
     "metadata": {},
     "output_type": "execute_result"
    }
   ],
   "source": [
    "my = \"['hellloworld@gmail.com']\"\n",
    "\n",
    "my.replace(\"'\",\"\")\n",
    "my"
   ]
  },
  {
   "cell_type": "code",
   "execution_count": 61,
   "metadata": {},
   "outputs": [
    {
     "data": {
      "text/plain": [
       "[1, 2, 3, 4, 5, 6, 7, 8, 9, 10, 11, 12]"
      ]
     },
     "execution_count": 61,
     "metadata": {},
     "output_type": "execute_result"
    }
   ],
   "source": [
    "a = [1, 2, 2]\n",
    "b = [1, 2, 3, 3, 3, 4, 5, 6, 7, 8, 9, 10, 11, 12, 12]\n",
    "c = a + b\n",
    "list(set(c))\n",
    "# new = []\n",
    "# for i in c:\n",
    "#     if i not in new:\n",
    "#         new.append(i)\n",
    "\n",
    "# print(new)"
   ]
  },
  {
   "cell_type": "code",
   "execution_count": 72,
   "metadata": {},
   "outputs": [
    {
     "data": {
      "text/plain": [
       "['bj-100-cy', 'sh-200-pd']"
      ]
     },
     "execution_count": 72,
     "metadata": {},
     "output_type": "execute_result"
    }
   ],
   "source": [
    "list1 = ['bj-100-cy','bj-101-hd','sh-200-pd','sh-201-hp']\n",
    "list2 = [100, 200]\n",
    "\n",
    "res = []\n",
    "for item in list1:\n",
    "    if any(str(i) in item for i in list2):\n",
    "        res.append(item)\n",
    "res"
   ]
  },
  {
   "cell_type": "code",
   "execution_count": 73,
   "metadata": {},
   "outputs": [
    {
     "data": {
      "text/plain": [
       "['bj-100-cy', 'sh-200-pd']"
      ]
     },
     "execution_count": 73,
     "metadata": {},
     "output_type": "execute_result"
    }
   ],
   "source": [
    "outcome = [x for x in list1 for y in list2 if str(y) in x]\n",
    "outcome"
   ]
  },
  {
   "cell_type": "code",
   "execution_count": 97,
   "metadata": {},
   "outputs": [
    {
     "name": "stdout",
     "output_type": "stream",
     "text": [
      "{'a': [3, 2, 5], 'b': [9, 8], 'c': [1, 6], 'b_1': [7, 4], 'c_1': [10, 11]}\n"
     ]
    }
   ],
   "source": [
    "a = {'a':[3,2,5],\n",
    "     'b':[9,8],\n",
    "     'c':[1,6]}\n",
    "\n",
    "b = {'b':[7,4],\n",
    "     'c':[10,11]}\n",
    "\n",
    "for key in a:\n",
    "    if key in b:\n",
    "        z[key + \"_1\"] = b[key]\n",
    "        z[key] = a[key]\n",
    "    else:\n",
    "        z[key] = a[key]\n",
    "\n",
    "print(z)"
   ]
  },
  {
   "cell_type": "code",
   "execution_count": 135,
   "metadata": {},
   "outputs": [
    {
     "name": "stdout",
     "output_type": "stream",
     "text": [
      "True\n",
      "False\n",
      "False\n",
      "True\n"
     ]
    },
    {
     "data": {
      "text/plain": [
       "['\"       H o w   a r e   y o u ?    ', '        H e l l o   w o r l d    ']"
      ]
     },
     "execution_count": 135,
     "metadata": {},
     "output_type": "execute_result"
    }
   ],
   "source": [
    "sentence = ['\"//# sourceMappingURL=data:application/json;charset=utf-8;base64,eyJ2ZXJzaW9uIjozLCJzb\\n',\n",
    "            '\"// How are you? \\n',\n",
    "            '//# Hello world \\n',\n",
    "            '// sourceMappingURL=data:application/json;charset=utf-8;base64,asdhhi3242jlfaoiuq3r'\n",
    "           ]\n",
    "\n",
    "text = []\n",
    "for i in sentence:\n",
    "    isbase = \"sourceMappingURL=data:application/json;charset=utf-8;base64\"\n",
    "    if isbase64 in i:\n",
    "        print (\"True\")\n",
    "    else:\n",
    "        print (\"False\")\n",
    "        word = i.replace(\"\\n\",\" \").replace(\"/\",\" \").replace(\"#\",\" \")\n",
    "        s = ' '.join(word)\n",
    "        text.append(s)\n",
    "        \n",
    "text"
   ]
  },
  {
   "cell_type": "code",
   "execution_count": 122,
   "metadata": {},
   "outputs": [
    {
     "name": "stdout",
     "output_type": "stream",
     "text": [
      "['\" How are you?', 'Hello world']\n"
     ]
    }
   ],
   "source": [
    "print([x.replace(\"\\n\",\"\").replace(\"/\",\"\").replace(\"#\",\"\").strip() for x in sentence if 'sourceMappingURL=data:application/json;charset=utf-8;base64' not in x])"
   ]
  },
  {
   "cell_type": "code",
   "execution_count": 134,
   "metadata": {},
   "outputs": [
    {
     "name": "stdout",
     "output_type": "stream",
     "text": [
      "True\n",
      "False\n",
      "False\n",
      "True\n"
     ]
    },
    {
     "data": {
      "text/plain": [
       "['\"       H o w   a r e   y o u ?    ', '        H e l l o   w o r l d    ']"
      ]
     },
     "execution_count": 134,
     "metadata": {},
     "output_type": "execute_result"
    }
   ],
   "source": [
    "sentence = ['\"//# sourceMappingURL=data:application/json;charset=utf-8;base64,eyJ2ZXJzaW9uIjozLCJzb\\n',\n",
    "        '\"// How are you? \\n',\n",
    "        '//# Hello world \\n',\n",
    "        '// sourceMappingURL=data:application/json;charset=utf-8;base64,asdhhi3242jlfaoiuq3r'\n",
    "       ]\n",
    "text = []\n",
    "isbase64 = \"sourceMappingURL=data:application/json;charset=utf-8;base64\"\n",
    "for i in sentence:\n",
    "    if isbase64 in i:\n",
    "        print (True)\n",
    "    else:\n",
    "        print (False)\n",
    "        word = i.replace(\"\\n\",\" \").replace(\"/\",\" \").replace(\"#\",\" \")\n",
    "        s = ' '.join(word)\n",
    "        text.append(s)\n",
    "\n",
    "text"
   ]
  },
  {
   "cell_type": "code",
=======
>>>>>>> 466ccbc13355cb986b513cee7b65a24b7dcbe8df
   "execution_count": null,
   "metadata": {
    "collapsed": true
   },
   "outputs": [],
   "source": []
  }
 ],
 "metadata": {
  "kernelspec": {
   "display_name": "Python 3",
   "language": "python",
   "name": "python3"
  },
  "language_info": {
   "codemirror_mode": {
    "name": "ipython",
    "version": 3
   },
   "file_extension": ".py",
   "mimetype": "text/x-python",
   "name": "python",
   "nbconvert_exporter": "python",
   "pygments_lexer": "ipython3",
   "version": "3.6.3"
  }
 },
 "nbformat": 4,
 "nbformat_minor": 2
}
