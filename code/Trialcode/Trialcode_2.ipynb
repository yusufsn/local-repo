{
 "cells": [
  {
   "cell_type": "code",
   "execution_count": 1,
   "metadata": {
    "collapsed": true
   },
   "outputs": [],
   "source": [
    "def digital_root(num):\n",
    "    root = sum(int(d) for d in str(num))\n",
    "    return root if root < 10 else digital_root(root)"
   ]
  },
  {
   "cell_type": "code",
   "execution_count": 2,
   "metadata": {},
   "outputs": [
    {
     "name": "stdout",
     "output_type": "stream",
     "text": [
      "Enter an integer: 45\n",
      "Summary of digit number from  45  is  9\n"
     ]
    }
   ],
   "source": [
    "num = input(\"Enter an integer: \")\n",
    "print (\"Summary of digit number from \",num, \" is \",digital_root(num))"
   ]
  },
  {
   "cell_type": "code",
   "execution_count": 3,
   "metadata": {
    "collapsed": true
   },
   "outputs": [],
   "source": [
    "import random, sys\n",
    "\n",
    "def Rounds():\n",
    "    P1Roll1 = (random.randint(1,7))\n",
    "    P1Roll2 = (random.randint(1,7))\n",
    "    Sum1 = P1Roll1 + P1Roll2\n",
    "    Dice = input(\"Player 1's turn. Do you want to roll your 2 dice? (Y for yes and N for no)  \")\n",
    "    if Dice == \"Y\" or Dice == \"y\":\n",
    "        print(\"Player 1 rolled their 2 dice. They rolled a \" + str(P1Roll1) + \" and a \" + str(P1Roll2) + \" which totals to \" + str(Sum1))\n",
    "        if int(Sum1) % 2 == 0:\n",
    "            print(\"Player 1 got 10 more points for rolling an even sum. \" + \"\\n\" + \"Player 1 got \" + str(Sum1 + 10) + \" points\")\n",
    "            Final1 = str(Sum1 + 10)\n",
    "        elif int(Sum1) % 2 == 1:\n",
    "            print(\"Player 1 got \" + str(Sum1) + \" points\")\n",
    "            Final1 = str(Sum1)\n",
    "    elif Dice == \"N\" or Dice == \"n\":\n",
    "        sys.exit()\n",
    "    P2Roll1 = (random.randint(1,7))\n",
    "    P2Roll2 = (random.randint(1,7))\n",
    "    Sum2 = P2Roll1 + P2Roll2\n",
    "    Dice1 = input(\"Player 2's turn. Do you want to roll your 2 dice? (Y for yes and N for no)  \")\n",
    "    if Dice1 == \"Y\" or \"y\":\n",
    "        print(\"Player 2 rolled their 2 dice. They rolled a \" + str(P2Roll1) + \" and a \" + str(P2Roll2) + \" which totals to \" + str(Sum2))\n",
    "        if int(Sum2) % 2 == 0:\n",
    "            print(\"Player 2 got 10 more points for rolling an even sum. \" + \"\\n\" + \"Player 2 got \" + str(Sum2 + 10) + \" points\")\n",
    "            Final2 = str(Sum2 + 10)\n",
    "        elif int(Sum2) % 2 == 1:\n",
    "            print(\"Player 2 got \" + str(Sum2) + \" points\")\n",
    "            Final2 = str(Sum2)\n",
    "    elif Dice1 == \"N\" or \"n\":\n",
    "        sys.exit()\n",
    "    if Final2 > Final1:\n",
    "        print(\"Player 2 won round 1 by \" + str(int(Final2) - int(Final1)) + \" points\")\n",
    "    elif Final1 > Final2:\n",
    "        print(\"Player 1 won round 1 by \" + str(int(Final1) - int(Final2)) + \" points\")\n",
    "    elif Final1 == Final2:\n",
    "        print(\"Round 1 was a draw as both players got \" + str(Final1) + \" points\")"
   ]
  },
  {
   "cell_type": "code",
   "execution_count": 4,
   "metadata": {},
   "outputs": [
    {
     "name": "stdout",
     "output_type": "stream",
     "text": [
      "Player 1's turn. Do you want to roll your 2 dice? (Y for yes and N for no)  y\n",
      "Player 1 rolled their 2 dice. They rolled a 6 and a 3 which totals to 9\n",
      "Player 1 got 9 points\n",
      "Player 2's turn. Do you want to roll your 2 dice? (Y for yes and N for no)  y\n",
      "Player 2 rolled their 2 dice. They rolled a 7 and a 7 which totals to 14\n",
      "Player 2 got 10 more points for rolling an even sum. \n",
      "Player 2 got 24 points\n",
      "Player 1 won round 1 by -15 points\n"
     ]
    }
   ],
   "source": [
    "Rounds()"
   ]
  },
  {
   "cell_type": "code",
   "execution_count": 5,
   "metadata": {},
   "outputs": [
    {
     "name": "stdout",
     "output_type": "stream",
     "text": [
      "a likes programming\n",
      "b likes math\n"
     ]
    }
   ],
   "source": [
    "from itertools import cycle\n",
    "\n",
    "st1=[\"a\",\"b\"]\n",
    "st2=[\"likes\"]\n",
    "st3=[\"programming\",\"math\"]\n",
    "\n",
    "for i,j,k in zip(st1, cycle(st2), st3):\n",
    "    print(i+\" \"+j+\" \"+k)"
   ]
  },
  {
   "cell_type": "markdown",
   "metadata": {},
   "source": [
    "# Data frame"
   ]
  },
  {
   "cell_type": "code",
   "execution_count": 6,
   "metadata": {},
   "outputs": [
    {
     "data": {
      "text/html": [
       "<div>\n",
       "<style>\n",
       "    .dataframe thead tr:only-child th {\n",
       "        text-align: right;\n",
       "    }\n",
       "\n",
       "    .dataframe thead th {\n",
       "        text-align: left;\n",
       "    }\n",
       "\n",
       "    .dataframe tbody tr th {\n",
       "        vertical-align: top;\n",
       "    }\n",
       "</style>\n",
       "<table border=\"1\" class=\"dataframe\">\n",
       "  <thead>\n",
       "    <tr style=\"text-align: right;\">\n",
       "      <th></th>\n",
       "      <th></th>\n",
       "      <th>A</th>\n",
       "      <th>B</th>\n",
       "    </tr>\n",
       "  </thead>\n",
       "  <tbody>\n",
       "    <tr>\n",
       "      <th>0</th>\n",
       "      <td>2019-01-25 08:15:00</td>\n",
       "      <td>4.5</td>\n",
       "      <td>1.3</td>\n",
       "    </tr>\n",
       "    <tr>\n",
       "      <th>1</th>\n",
       "      <td>2019-01-25 08:30:00</td>\n",
       "      <td>6.0</td>\n",
       "      <td>5.7</td>\n",
       "    </tr>\n",
       "    <tr>\n",
       "      <th>2</th>\n",
       "      <td>2019-01-25 08:45:00</td>\n",
       "      <td>7.3</td>\n",
       "      <td>4.2</td>\n",
       "    </tr>\n",
       "    <tr>\n",
       "      <th>3</th>\n",
       "      <td>2019-01-25 09:00:00</td>\n",
       "      <td>9.4</td>\n",
       "      <td>6.2</td>\n",
       "    </tr>\n",
       "  </tbody>\n",
       "</table>\n",
       "</div>"
      ],
      "text/plain": [
       "                          A    B\n",
       "0  2019-01-25 08:15:00  4.5  1.3\n",
       "1  2019-01-25 08:30:00  6.0  5.7\n",
       "2  2019-01-25 08:45:00  7.3  4.2\n",
       "3  2019-01-25 09:00:00  9.4  6.2"
      ]
     },
     "execution_count": 6,
     "metadata": {},
     "output_type": "execute_result"
    }
   ],
   "source": [
    "import pandas as pd\n",
    "\n",
    "df = pd.DataFrame({\"\":[\"2019-01-25 08:15:00\",\"2019-01-25 08:30:00\",\"2019-01-25 08:45:00\",\"2019-01-25 09:00:00\"],\n",
    "                  \"A\":[4.50,6.00,7.30,9.40],\n",
    "                  \"B\":[1.30,5.70,4.20,6.20]})\n",
    "df"
   ]
  },
  {
   "cell_type": "code",
   "execution_count": 7,
   "metadata": {},
   "outputs": [
    {
     "data": {
      "text/plain": [
       "     2019-01-25 08:15:00\n",
       "A                    4.5\n",
       "B                    1.3\n",
       "Name: 0, dtype: object"
      ]
     },
     "execution_count": 7,
     "metadata": {},
     "output_type": "execute_result"
    }
   ],
   "source": [
    "dt = df.iloc[0]\n",
    "dt"
   ]
  },
  {
   "cell_type": "code",
   "execution_count": 8,
   "metadata": {},
   "outputs": [
    {
     "data": {
      "text/html": [
       "<div>\n",
       "<style>\n",
       "    .dataframe thead tr:only-child th {\n",
       "        text-align: right;\n",
       "    }\n",
       "\n",
       "    .dataframe thead th {\n",
       "        text-align: left;\n",
       "    }\n",
       "\n",
       "    .dataframe tbody tr th {\n",
       "        vertical-align: top;\n",
       "    }\n",
       "</style>\n",
       "<table border=\"1\" class=\"dataframe\">\n",
       "  <thead>\n",
       "    <tr style=\"text-align: right;\">\n",
       "      <th></th>\n",
       "      <th></th>\n",
       "      <th>A</th>\n",
       "      <th>B</th>\n",
       "      <th>C</th>\n",
       "    </tr>\n",
       "  </thead>\n",
       "  <tbody>\n",
       "    <tr>\n",
       "      <th>0</th>\n",
       "      <td>2019-01-25 08:15:00</td>\n",
       "      <td>4.5</td>\n",
       "      <td>1.3</td>\n",
       "      <td>1.000000</td>\n",
       "    </tr>\n",
       "    <tr>\n",
       "      <th>1</th>\n",
       "      <td>2019-01-25 08:30:00</td>\n",
       "      <td>6.0</td>\n",
       "      <td>5.7</td>\n",
       "      <td>0.340909</td>\n",
       "    </tr>\n",
       "    <tr>\n",
       "      <th>2</th>\n",
       "      <td>2019-01-25 08:45:00</td>\n",
       "      <td>7.3</td>\n",
       "      <td>4.2</td>\n",
       "      <td>-0.866667</td>\n",
       "    </tr>\n",
       "    <tr>\n",
       "      <th>3</th>\n",
       "      <td>2019-01-25 09:00:00</td>\n",
       "      <td>9.4</td>\n",
       "      <td>6.2</td>\n",
       "      <td>1.050000</td>\n",
       "    </tr>\n",
       "  </tbody>\n",
       "</table>\n",
       "</div>"
      ],
      "text/plain": [
       "                          A    B         C\n",
       "0  2019-01-25 08:15:00  4.5  1.3  1.000000\n",
       "1  2019-01-25 08:30:00  6.0  5.7  0.340909\n",
       "2  2019-01-25 08:45:00  7.3  4.2 -0.866667\n",
       "3  2019-01-25 09:00:00  9.4  6.2  1.050000"
      ]
     },
     "execution_count": 8,
     "metadata": {},
     "output_type": "execute_result"
    }
   ],
   "source": [
    "x = []\n",
    "# n = -1\n",
    "for i in range(0,len(df)):\n",
    "#     dt = df.iloc[i]\n",
    "#     dtA = dt[1]\n",
    "#     dtB = dt[2]\n",
    "#     if n == -1:\n",
    "#         x.insert(len(x),dtA/dtB)\n",
    "#     else:\n",
    "    x.insert(len(x),(df.iloc[i][1]-df.iloc[i-1][1])/(df.iloc[i][2]-df.iloc[i-1][2]))\n",
    "#     n += 1\n",
    "df[\"C\"] = x\n",
    "df"
   ]
  },
  {
   "cell_type": "code",
   "execution_count": 106,
   "metadata": {},
   "outputs": [
    {
     "data": {
      "text/html": [
       "<div>\n",
       "<style>\n",
       "    .dataframe thead tr:only-child th {\n",
       "        text-align: right;\n",
       "    }\n",
       "\n",
       "    .dataframe thead th {\n",
       "        text-align: left;\n",
       "    }\n",
       "\n",
       "    .dataframe tbody tr th {\n",
       "        vertical-align: top;\n",
       "    }\n",
       "</style>\n",
       "<table border=\"1\" class=\"dataframe\">\n",
       "  <thead>\n",
       "    <tr style=\"text-align: right;\">\n",
       "      <th></th>\n",
       "      <th>0</th>\n",
       "      <th>1</th>\n",
       "      <th>2</th>\n",
       "      <th>3</th>\n",
       "    </tr>\n",
       "  </thead>\n",
       "  <tbody>\n",
       "    <tr>\n",
       "      <th></th>\n",
       "      <td>2019-01-25 08:15:00</td>\n",
       "      <td>2019-01-25 08:30:00</td>\n",
       "      <td>2019-01-25 08:45:00</td>\n",
       "      <td>2019-01-25 09:00:00</td>\n",
       "    </tr>\n",
       "    <tr>\n",
       "      <th>A</th>\n",
       "      <td>4.5</td>\n",
       "      <td>6</td>\n",
       "      <td>7.3</td>\n",
       "      <td>9.4</td>\n",
       "    </tr>\n",
       "    <tr>\n",
       "      <th>B</th>\n",
       "      <td>1.3</td>\n",
       "      <td>5.7</td>\n",
       "      <td>4.2</td>\n",
       "      <td>6.2</td>\n",
       "    </tr>\n",
       "    <tr>\n",
       "      <th>C</th>\n",
       "      <td>1</td>\n",
       "      <td>0.340909</td>\n",
       "      <td>-0.866667</td>\n",
       "      <td>1.05</td>\n",
       "    </tr>\n",
       "  </tbody>\n",
       "</table>\n",
       "</div>"
      ],
      "text/plain": [
       "                     0                    1                    2  \\\n",
       "   2019-01-25 08:15:00  2019-01-25 08:30:00  2019-01-25 08:45:00   \n",
       "A                  4.5                    6                  7.3   \n",
       "B                  1.3                  5.7                  4.2   \n",
       "C                    1             0.340909            -0.866667   \n",
       "\n",
       "                     3  \n",
       "   2019-01-25 09:00:00  \n",
       "A                  9.4  \n",
       "B                  6.2  \n",
       "C                 1.05  "
      ]
     },
     "execution_count": 106,
     "metadata": {},
     "output_type": "execute_result"
    }
   ],
   "source": [
    "df.transpose()"
   ]
  },
  {
   "cell_type": "code",
   "execution_count": 9,
   "metadata": {},
   "outputs": [
    {
     "name": "stdout",
     "output_type": "stream",
     "text": [
      "                          A    B         C\n",
      "0  2019-01-25 08:15:00  4.5  1.3  1.000000\n",
      "1  2019-01-25 08:30:00  6.0  5.7  0.340909\n",
      "2  2019-01-25 08:45:00  7.3  4.2 -0.866667\n",
      "3  2019-01-25 09:00:00  9.4  6.2  1.050000\n"
     ]
    }
   ],
   "source": [
    "print (df)"
   ]
  },
  {
   "cell_type": "markdown",
   "metadata": {},
   "source": [
    "Joining columns"
   ]
  },
  {
   "cell_type": "code",
   "execution_count": 127,
   "metadata": {},
   "outputs": [
    {
     "data": {
      "text/html": [
       "<div>\n",
       "<style>\n",
       "    .dataframe thead tr:only-child th {\n",
       "        text-align: right;\n",
       "    }\n",
       "\n",
       "    .dataframe thead th {\n",
       "        text-align: left;\n",
       "    }\n",
       "\n",
       "    .dataframe tbody tr th {\n",
       "        vertical-align: top;\n",
       "    }\n",
       "</style>\n",
       "<table border=\"1\" class=\"dataframe\">\n",
       "  <thead>\n",
       "    <tr style=\"text-align: right;\">\n",
       "      <th></th>\n",
       "      <th>Ad_URL</th>\n",
       "      <th>Title</th>\n",
       "      <th>Link</th>\n",
       "    </tr>\n",
       "  </thead>\n",
       "  <tbody>\n",
       "    <tr>\n",
       "      <th>0</th>\n",
       "      <td>http://www.google.com</td>\n",
       "      <td>Google</td>\n",
       "      <td>&lt;a href=\"http://www.google.com\"&gt;Google&lt;/a&gt;</td>\n",
       "    </tr>\n",
       "    <tr>\n",
       "      <th>1</th>\n",
       "      <td>http://www.yahoo.com</td>\n",
       "      <td>Yahoo</td>\n",
       "      <td>&lt;a href=\"http://www.yahoo.com\"&gt;Yahoo&lt;/a&gt;</td>\n",
       "    </tr>\n",
       "  </tbody>\n",
       "</table>\n",
       "</div>"
      ],
      "text/plain": [
       "                  Ad_URL   Title                                        Link\n",
       "0  http://www.google.com  Google  <a href=\"http://www.google.com\">Google</a>\n",
       "1   http://www.yahoo.com   Yahoo    <a href=\"http://www.yahoo.com\">Yahoo</a>"
      ]
     },
     "execution_count": 127,
     "metadata": {},
     "output_type": "execute_result"
    }
   ],
   "source": [
    "df = pd.DataFrame({\"Ad_URL\":[\"http://www.google.com\",\"http://www.yahoo.com\"],\n",
    "                  \"Title\":[\"Google\",\"Yahoo\"]})\n",
    "\n",
    "def Ad_Link(df):\n",
    "    return ('<a href=\"{}\">{}</a>'.format(df['Ad_URL'],df['Title']))\n",
    "\n",
    "df['Link'] = df[['Ad_URL','Title']].apply(lambda x:Ad_Link(x), axis=1)\n",
    "df"
   ]
  },
  {
   "cell_type": "code",
   "execution_count": 186,
   "metadata": {},
   "outputs": [
    {
     "data": {
      "text/html": [
       "<div>\n",
       "<style>\n",
       "    .dataframe thead tr:only-child th {\n",
       "        text-align: right;\n",
       "    }\n",
       "\n",
       "    .dataframe thead th {\n",
       "        text-align: left;\n",
       "    }\n",
       "\n",
       "    .dataframe tbody tr th {\n",
       "        vertical-align: top;\n",
       "    }\n",
       "</style>\n",
       "<table border=\"1\" class=\"dataframe\">\n",
       "  <thead>\n",
       "    <tr style=\"text-align: right;\">\n",
       "      <th></th>\n",
       "      <th>col_a</th>\n",
       "      <th>col_b</th>\n",
       "    </tr>\n",
       "  </thead>\n",
       "  <tbody>\n",
       "    <tr>\n",
       "      <th>0</th>\n",
       "      <td>Python PY is a general purpose PY language</td>\n",
       "      <td>Python PY</td>\n",
       "    </tr>\n",
       "    <tr>\n",
       "      <th>1</th>\n",
       "      <td>Programming PY language in Python PY</td>\n",
       "      <td>Programming PY</td>\n",
       "    </tr>\n",
       "    <tr>\n",
       "      <th>2</th>\n",
       "      <td>Its easier to understand  PY</td>\n",
       "      <td>understand  PY</td>\n",
       "    </tr>\n",
       "    <tr>\n",
       "      <th>3</th>\n",
       "      <td>The syntax of the language is clean PY</td>\n",
       "      <td>clean PY</td>\n",
       "    </tr>\n",
       "  </tbody>\n",
       "</table>\n",
       "</div>"
      ],
      "text/plain": [
       "                                        col_a           col_b\n",
       "0  Python PY is a general purpose PY language       Python PY\n",
       "1        Programming PY language in Python PY  Programming PY\n",
       "2                Its easier to understand  PY  understand  PY\n",
       "3      The syntax of the language is clean PY        clean PY"
      ]
     },
     "execution_count": 186,
     "metadata": {},
     "output_type": "execute_result"
    }
   ],
   "source": [
    "import re\n",
    "\n",
    "df = ({\"col_a\": [\"Python PY is a general purpose PY language\",\n",
    "                 \"Programming PY language in Python PY\",\n",
    "                 \"Its easier to understand  PY\",\n",
    "                 \"The syntax of the language is clean PY\"]})\n",
    "col_b = []\n",
    "for item in df['col_a']:\n",
    "    x = re.search(r\"(\\w+\\s+PY)\", item)\n",
    "    col_b.append(x.group())\n",
    "df['col_b'] = col_b\n",
    "df = pd.DataFrame(df)\n",
    "df"
   ]
  },
  {
   "cell_type": "markdown",
   "metadata": {},
   "source": [
    "# Scrap url"
   ]
  },
  {
   "cell_type": "code",
   "execution_count": 76,
   "metadata": {
    "scrolled": true
   },
   "outputs": [
    {
     "name": "stdout",
     "output_type": "stream",
     "text": [
      "iPhone XR 128GB $ 225 More info: https://www.m1.com.sg/personal/mobile/phones/details/iphone%20xr%20128gb%20black\n",
      "iPhone XR 256GB $ 385 More info: https://www.m1.com.sg/personal/mobile/phones/details/iphone%20xr%20256gb%20black\n",
      "iPhone XR 64GB $ 160 More info: https://www.m1.com.sg/personal/mobile/phones/details/iphone%20xr%2064gb%20black\n",
      "iPhone XS 256GB $ 665 More info: https://www.m1.com.sg/personal/mobile/phones/details/iphone%20xs%20256gb%20space%20grey\n",
      "iPhone XS 512GB $ 950 More info: https://www.m1.com.sg/personal/mobile/phones/details/iphone%20xs%20512gb%20space%20grey\n",
      "iPhone XS 64GB $ 440 More info: https://www.m1.com.sg/personal/mobile/phones/details/iphone%20xs%2064gb%20silver\n",
      "iPhone XS Max 256GB $ 805 More info: https://www.m1.com.sg/personal/mobile/phones/details/iphone%20xs%20max%20256gb%20space%20grey\n",
      "iPhone XS Max 512GB $ 1090 More info: https://www.m1.com.sg/personal/mobile/phones/details/iphone%20xs%20max%20512gb%20space%20grey\n",
      "iPhone XS Max 64GB $ 580 More info: https://www.m1.com.sg/personal/mobile/phones/details/iphone%20xs%20max%2064gb%20silver\n",
      "ASUS ZenFone 5Q $ 0 More info: https://www.m1.com.sg/personal/mobile/phones/details/asus%20zenfone%205q%20white\n",
      "ASUS ZenFone Live L1 $ 0 More info: https://www.m1.com.sg/personal/mobile/phones/details/asus%20zenfone%20live%20l1%20black\n",
      "BlackBerry KEY2 $ 258 More info: https://www.m1.com.sg/personal/mobile/phones/details/blackberry%20key2%20black\n",
      "BlackBerry KEY2 LE $ 0 More info: https://www.m1.com.sg/personal/mobile/phones/details/blackberry%20key2%20le%20atomic%20red\n",
      "BlackBerry KEYone Dual SIM $ 98 More info: https://www.m1.com.sg/personal/mobile/phones/details/blackberry%20keyone%20dual%20sim%20bronze\n",
      "Huawei Mate 20 $ 0 More info: https://www.m1.com.sg/personal/mobile/phones/details/huawei%20mate%2020%20black\n",
      "Huawei Mate 20 Pro $ 118 More info: https://www.m1.com.sg/personal/mobile/phones/details/huawei%20mate%2020%20pro%20black\n",
      "Huawei Mate 20 X $ 188 More info: https://www.m1.com.sg/personal/mobile/phones/details/huawei%20mate%2020%20x%20midnight%20blue\n",
      "Huawei Nova 3i $ 0 More info: https://www.m1.com.sg/personal/mobile/phones/details/huawei%20nova%203i%20black\n",
      "Huawei P20 $ 0 More info: https://www.m1.com.sg/personal/mobile/phones/details/huawei%20p20%20pink%20gold\n",
      "Huawei P20 Pro $ 0 More info: https://www.m1.com.sg/personal/mobile/phones/details/huawei%20p20%20pro%20black\n",
      "Huawei Y6 2018 $ 0 More info: https://www.m1.com.sg/personal/mobile/phones/details/huawei%20y6%202018%20black\n",
      "Huawei Y6 Pro 2019 $ 0 More info: https://www.m1.com.sg/personal/mobile/phones/details/huawei%20y6%20pro%202019%20midnight%20black\n",
      "iPhone 7 (32GB) $ 0 More info: https://www.m1.com.sg/personal/mobile/phones/details/iphone%207%2032gb%20black\n",
      "iPhone 7 Plus (32GB) $ 0 More info: https://www.m1.com.sg/personal/mobile/phones/details/iphone%207%20plus%2032gb%20black\n",
      "Lenovo Tab 7 Essential (LTE) $ 0 More info: https://www.m1.com.sg/personal/mobile/phones/details/lenovo%20tab%207%20essential%20lte%20black\n",
      "LG G7+ ThinQ $ 0 More info: https://www.m1.com.sg/personal/mobile/phones/details/lg%20g7%20plus%20thinq%20black\n",
      "LG V40 ThinQ $ 88 More info: https://www.m1.com.sg/personal/mobile/phones/details/lg%20v40%20thinq%20moroccan%20blue\n",
      "OPPO AX7 $ 0 More info: https://www.m1.com.sg/personal/mobile/phones/details/ax7%20gold\n",
      "OPPO Find X (256GB) $ 298 More info: https://www.m1.com.sg/personal/mobile/phones/details/find%20x%20256gb%20bordeaux%20red\n",
      "OPPO R17 $ 0 More info: https://www.m1.com.sg/personal/mobile/phones/details/r17%20ambient%20blue\n",
      "OPPO R17 Pro $ 98 More info: https://www.m1.com.sg/personal/mobile/phones/details/r17%20pro%20radiant%20mist\n",
      "Samsung Galaxy A7 $ 0 More info: https://www.m1.com.sg/personal/mobile/phones/details/samsung%20galaxy%20a7%202018%20blue\n",
      "Samsung Galaxy A9 $ 0 More info: https://www.m1.com.sg/personal/mobile/phones/details/samsung%20galaxy%20a9%202018%20bubblegum%20pink\n",
      "Samsung Galaxy J4+ $ 0 More info: https://www.m1.com.sg/personal/mobile/phones/details/samsung%20galaxy%20j4%20plus%20black\n",
      "Samsung Galaxy J6+ $ 0 More info: https://www.m1.com.sg/personal/mobile/phones/details/samsung%20galaxy%20j6%20plus%20gray\n",
      "Samsung Galaxy J7 Duo $ 0 More info: https://www.m1.com.sg/personal/mobile/phones/details/samsung%20galaxy%20j7%20duo%20black\n",
      "Samsung Galaxy Note9 128GB $ 288 More info: https://www.m1.com.sg/personal/mobile/phones/details/samsung%20galaxy%20note9%20128gb%20midnight%20black\n",
      "Samsung Galaxy Note9 512GB $ 488 More info: https://www.m1.com.sg/personal/mobile/phones/details/samsung%20galaxy%20note9%20512gb%20lavender\n",
      "Samsung Galaxy S10 128GB $ 328 More info: https://www.m1.com.sg/personal/mobile/phones/details/samsung%20galaxy%20s10%20128gb%20prism%20black\n",
      "Samsung Galaxy S10+ 128GB $ 428 More info: https://www.m1.com.sg/personal/mobile/phones/details/samsung%20galaxy%20s10%20plus%20128gb%20prism%20black\n",
      "Samsung Galaxy S10+ 1TB $ 1298 More info: https://www.m1.com.sg/personal/mobile/phones/details/samsung%20galaxy%20s10%20plus%201tb%20ceramic%20white\n",
      "Samsung Galaxy S10+ 512GB $ 898 More info: https://www.m1.com.sg/personal/mobile/phones/details/samsung%20galaxy%20s10%20plus%20512gb%20ceramic%20white\n",
      "Samsung Galaxy S10e 128GB $ 228 More info: https://www.m1.com.sg/personal/mobile/phones/details/samsung%20galaxy%20s10e%20128gb%20prism%20black\n",
      "Samsung Galaxy S9 64GB $ 0 More info: https://www.m1.com.sg/personal/mobile/phones/details/samsung%20galaxy%20s9%2064gb%20polaris%20blue\n",
      "Samsung Galaxy Tab A (2018) 10.5\" $ 0 More info: https://www.m1.com.sg/personal/mobile/phones/details/samsung%20galaxy%20tab%20a%202018%20105%20black\n",
      "Samsung Galaxy Tab A 7.0 $ 0 More info: https://www.m1.com.sg/personal/mobile/phones/details/samsung%20galaxy%20tab%20a%207%20smt285%20black\n",
      "Samsung Galaxy Tab S4 256GB $ 548 More info: https://www.m1.com.sg/personal/mobile/phones/details/samsung%20galaxy%20tab%20s4%20256gb%20black\n",
      "Samsung Galaxy Tab S4 64GB $ 398 More info: https://www.m1.com.sg/personal/mobile/phones/details/samsung%20galaxy%20tab%20s4%2064gb%20black\n",
      "vivo Nex Dual Screen Edition $ 198 More info: https://www.m1.com.sg/personal/mobile/phones/details/vivo%20nex%20dual%20screen%20edition%20polar%20blue\n",
      "vivo V11 $ 0 More info: https://www.m1.com.sg/personal/mobile/phones/details/vivo%20v11%20starry%20night\n",
      "vivo Y95 $ 0 More info: https://www.m1.com.sg/personal/mobile/phones/details/vivo%20y95%20aurora%20red\n",
      "Xiaomi Mi A2 $ 0 More info: https://www.m1.com.sg/personal/mobile/phones/details/xiaomi%20mi%20a2%20gold\n",
      "Xiaomi Redmi Note 6 Pro $ 0 More info: https://www.m1.com.sg/personal/mobile/phones/details/xiaomi%20redmi%20note%206%20pro%20black\n"
     ]
    }
   ],
   "source": [
    "import urllib.request\n",
    "from bs4 import BeautifulSoup\n",
    "from html.parser import HTMLParser\n",
    "\n",
    "url_toscrape = \"https://www.m1.com.sg/personal/mobile/phones/filters/all-plans/all/all/0/1500/0/0/none\"\n",
    "response = urllib.request.urlopen(url_toscrape)\n",
    "info_type = response.info()\n",
    "responseData = response.read()\n",
    "soup = BeautifulSoup(responseData, 'html.parser')\n",
    "\n",
    "for tr in soup.find_all(\"div\",{\"class\":\"tr middle\"}):\n",
    "    for model in tr.find_all(\"div\",{\"class\":\"td three title text-center\"}):\n",
    "        model = model.text.strip()\n",
    "    for price in tr.find_all(\"div\",{\"class\":\"td two price text-center\"}):\n",
    "        price = price.text.strip()\n",
    "    for info in tr.find_all(\"div\",{\"class\":\"td two description\"}):\n",
    "        for link in info.find_all(\"a\"):\n",
    "            info = info.text.strip() + \": https://www.m1.com.sg\" + link['href'].replace(\" \",\"%20\")\n",
    "    print (model,price,info)"
   ]
  },
  {
   "cell_type": "code",
   "execution_count": 74,
   "metadata": {
    "scrolled": true
   },
   "outputs": [
    {
     "name": "stdout",
     "output_type": "stream",
     "text": [
      "iPhone XR 128GB $ 225\n",
      "iPhone XR 128GB $ 225\n",
      "iPhone XR 256GB $ 385\n",
      "iPhone XR 64GB $ 160\n",
      "iPhone XS 256GB $ 665\n",
      "iPhone XS 512GB $ 950\n",
      "iPhone XS 64GB $ 440\n",
      "iPhone XS Max 256GB $ 805\n",
      "iPhone XS Max 512GB $ 1090\n",
      "iPhone XS Max 64GB $ 580\n",
      "ASUS ZenFone 5Q $ 0\n",
      "ASUS ZenFone Live L1 $ 0\n",
      "BlackBerry KEY2 $ 258\n",
      "BlackBerry KEY2 LE $ 0\n",
      "BlackBerry KEYone Dual SIM $ 98\n",
      "Huawei Mate 20 $ 0\n",
      "Huawei Mate 20 Pro $ 118\n",
      "Huawei Mate 20 X $ 188\n",
      "Huawei Nova 3i $ 0\n",
      "Huawei P20 $ 0\n",
      "Huawei P20 Pro $ 0\n",
      "Huawei Y6 2018 $ 0\n",
      "Huawei Y6 Pro 2019 $ 0\n",
      "iPhone 7 (32GB) $ 0\n",
      "iPhone 7 Plus (32GB) $ 0\n",
      "Lenovo Tab 7 Essential (LTE) $ 0\n",
      "LG G7+ ThinQ $ 0\n",
      "LG V40 ThinQ $ 88\n",
      "OPPO AX7 $ 0\n",
      "OPPO Find X (256GB) $ 298\n",
      "OPPO R17 $ 0\n",
      "OPPO R17 Pro $ 98\n",
      "Samsung Galaxy A7 $ 0\n",
      "Samsung Galaxy A9 $ 0\n",
      "Samsung Galaxy J4+ $ 0\n",
      "Samsung Galaxy J6+ $ 0\n",
      "Samsung Galaxy J7 Duo $ 0\n",
      "Samsung Galaxy Note9 128GB $ 288\n",
      "Samsung Galaxy Note9 512GB $ 488\n",
      "Samsung Galaxy S10 128GB $ 328\n",
      "Samsung Galaxy S10+ 128GB $ 428\n",
      "Samsung Galaxy S10+ 1TB $ 1298\n",
      "Samsung Galaxy S10+ 512GB $ 898\n",
      "Samsung Galaxy S10e 128GB $ 228\n",
      "Samsung Galaxy S9 64GB $ 0\n",
      "Samsung Galaxy Tab A (2018) 10.5\" $ 0\n",
      "Samsung Galaxy Tab A 7.0 $ 0\n",
      "Samsung Galaxy Tab S4 256GB $ 548\n",
      "Samsung Galaxy Tab S4 64GB $ 398\n",
      "vivo Nex Dual Screen Edition $ 198\n",
      "vivo V11 $ 0\n",
      "vivo Y95 $ 0\n",
      "Xiaomi Mi A2 $ 0\n",
      "Xiaomi Redmi Note 6 Pro $ 0\n"
     ]
    }
   ],
   "source": [
    "import requests\n",
    "from bs4 import BeautifulSoup\n",
    "\n",
    "url = \"https://www.m1.com.sg/personal/mobile/phones/filters/all-plans/all/all/0/1500/0/0/none\"\n",
    "\n",
    "response = requests.get(url)\n",
    "soup = BeautifulSoup(response.text, 'lxml')\n",
    "for items in soup.find_all(class_=\"phone-line\"):\n",
    "    model = items.find(class_=\"title\").text.strip()\n",
    "    price = items.find(class_=\"light-blue\").text.strip()\n",
    "    print(model,price)"
   ]
  },
  {
   "cell_type": "code",
   "execution_count": 158,
   "metadata": {},
   "outputs": [
    {
     "name": "stdout",
     "output_type": "stream",
     "text": [
      "\n",
      "Pertamina\n",
      "Airfast Indonesia\n",
      "Tangerang\n",
      "Angkasa Pura\n",
      "Jakarta\n",
      "Astra International\n",
      "Jakarta\n",
      "Bank Central Asia\n",
      "Jakarta\n",
      "Bank Danamon\n",
      "Jakarta\n",
      "Bank Mandiri\n",
      "Jakarta\n",
      "Bank Negara Indonesia\n",
      "Jakarta\n",
      "Bank Rakyat Indonesia\n",
      "Jakarta\n",
      "Bumi Resources\n",
      "Jakarta\n",
      "Djarum\n",
      " Kudus\n",
      "Jakarta\n",
      "Dragon Computer & Communication\n",
      "Jakarta\n",
      "Elex Media Komputindo\n",
      "Jakarta\n",
      "Femina\n",
      "Jakarta\n",
      "Garuda Indonesia\n",
      "Tangerang\n",
      "Gudang Garam\n",
      "Kediri\n",
      "Gunung Agung\n",
      "Jakarta\n",
      "Indocement Tunggal Prakarsa\n",
      "Jakarta\n",
      "HeidelbergCement\n",
      "Indofood\n",
      "Jakarta\n",
      "Indonesian Aerospace\n",
      "Bandung\n",
      "Indonesian Bureau of Logistics\n",
      "Jakarta\n",
      "Indosat\n",
      "Jakarta\n",
      "Infomedia Nusantara\n",
      "Jakarta\n",
      "Jalur Nugraha Ekakurir\n",
      "Jakarta\n",
      "Kalbe Farma\n",
      "Jakarta\n",
      "Kereta Api Indonesia\n",
      "Bandung\n",
      "Kimia Farma\n",
      "Jakarta\n",
      "Kompas Gramedia Group\n",
      "Jakarta\n",
      "Krakatau Steel\n",
      "Cilegon\n",
      "Lion Air\n",
      "Jakarta\n",
      "Lippo Group\n",
      "Jakarta\n",
      "Matahari\n",
      "Tangerang\n",
      "MedcoEnergi\n",
      "Jakarta\n",
      "Media Nusantara Citra\n",
      "Jakarta\n",
      "Panin Sekuritas\n",
      "Jakarta\n",
      "Pegadaian\n",
      "Jakarta\n",
      "Pelni\n",
      "Jakarta\n",
      "Pos Indonesia\n",
      "Bandung\n",
      "Pertamina\n",
      "Jakarta\n",
      "Perusahaan Gas Negara\n",
      "Jakarta\n",
      "Perusahaan Gas Negara\n",
      "Jakarta\n",
      "Perusahaan Listrik Negara\n",
      "Jakarta\n",
      "Phillip Securities Indonesia, PT\n",
      "Jakarta\n",
      "Pindad\n",
      "Bandung\n",
      "PT Lapindo Brantas\n",
      "Jakarta\n",
      "PT Metro Supermarket Realty Tbk\n",
      "Jakarta\n",
      "Salim Group\n",
      "Jakarta\n",
      "Sampoerna\n",
      "Surabaya\n",
      "Semen Indonesia\n",
      "Gresik\n",
      "Susi Air\n",
      "Pangandaran\n",
      "Telkom Indonesia\n",
      "Bandung\n",
      "Telkomsel\n",
      "Jakarta\n",
      "Telkom Indonesia\n",
      "Trans Corp\n",
      "Jakarta\n",
      "CT Corp\n",
      "Unilever Indonesia\n",
      "Jakarta\n",
      "Unilever\n",
      "United Tractors\n",
      "Jakarta\n",
      " Waskita\n",
      "Jakarta\n"
     ]
    }
   ],
   "source": [
    "import requests\n",
    "from bs4 import BeautifulSoup as bs\n",
    "\n",
    "url = \"https://en.wikipedia.org/wiki/List_of_companies_of_Indonesia\"\n",
    "html = requests.get(url).text\n",
    "soup = bs(html, 'html.parser')\n",
    "\n",
    "for data in soup.find_all('table', {\"class\":\"wikitable\"}):\n",
    "    for td in data.find_all('td'):\n",
    "        for link in td.find_all('a'):\n",
    "            print (link.text)"
   ]
  },
  {
   "cell_type": "code",
   "execution_count": null,
   "metadata": {
    "collapsed": true
   },
   "outputs": [],
   "source": []
  },
  {
   "cell_type": "markdown",
   "metadata": {
    "collapsed": true
   },
   "source": [
    "# Dice game"
   ]
  },
  {
   "cell_type": "code",
   "execution_count": 105,
   "metadata": {},
   "outputs": [
    {
     "name": "stdout",
     "output_type": "stream",
     "text": [
      "Would you like to roll the dice? yes\n",
      "2  6 Loser!\n",
      "Would you like to play again?yes\n",
      "2  2 Winner!\n",
      "Would you like to play again?no\n",
      "You won 1 times\n",
      "You lost 1 times\n"
     ]
    }
   ],
   "source": [
    "import random\n",
    "\n",
    "def roll_dice():\n",
    "    winner = 0\n",
    "    loser = 0\n",
    "    play_again = \"yes\"\n",
    "    while play_again == \"yes\":\n",
    "        roll = (random.randint(1,6))\n",
    "        roll2 = (random.randint(1,6))\n",
    "        print(str(roll),\" \",end=str(roll2))\n",
    "        if roll >= roll2:\n",
    "            print(\" Winner!\")\n",
    "            winner += 1\n",
    "        else:\n",
    "            print(\" Loser!\")\n",
    "            loser += 1\n",
    "        play_again = input(\"Would you like to play again?\")\n",
    "    print(\"You won\", winner, \"times\")\n",
    "    print(\"You lost\", loser, \"times\")\n",
    "    quit\n",
    "\n",
    "def main():\n",
    "    game_start = input(\"Would you like to roll the dice? \")\n",
    "    if game_start == 'yes':\n",
    "        roll_dice()\n",
    "    else:\n",
    "        print(\"too bad\")\n",
    "\n",
    "if __name__ == '__main__':\n",
    "    main()"
   ]
  },
  {
   "cell_type": "markdown",
   "metadata": {},
   "source": [
    "# Dictionary"
   ]
  },
  {
   "cell_type": "code",
   "execution_count": 104,
   "metadata": {},
   "outputs": [
    {
     "data": {
      "text/plain": [
       "{'Bakir': ['Davis'],\n",
       " 'Jose': ['Stanford', 'George Town'],\n",
       " 'Pierce': ['Berkeley ']}"
      ]
     },
     "execution_count": 104,
     "metadata": {},
     "output_type": "execute_result"
    }
   ],
   "source": [
    "last_names = ['Bakir','Jose','Jose','Pierce']\n",
    "university = ['Davis', 'Stanford', 'George Town', 'Berkeley ']\n",
    "\n",
    "dictionary = {}\n",
    "for key, value in zip(last_names, university):\n",
    "    if key in dictionary:\n",
    "        dictionary[key].append(value)\n",
    "    else:\n",
    "        dictionary[key] = [value]\n",
    "dictionary"
   ]
  },
  {
   "cell_type": "code",
   "execution_count": 118,
   "metadata": {
    "collapsed": true
   },
   "outputs": [],
   "source": [
    "def easy_donor_rank(percent_donated):\n",
    "    if percent_donated <= 0:\n",
    "        print(\"Error\")\n",
    "    elif percent_donated < 2:\n",
    "        print(\"Bronze\")\n",
    "    elif percent_donated <= 15:\n",
    "        print(\"Silver\")\n",
    "    else:\n",
    "        print(\"Gold\")"
   ]
  },
  {
   "cell_type": "code",
   "execution_count": 123,
   "metadata": {},
   "outputs": [
    {
     "name": "stdout",
     "output_type": "stream",
     "text": [
      "Gold\n"
     ]
    }
   ],
   "source": [
    "easy_donor_rank(16)"
   ]
  },
  {
   "cell_type": "code",
   "execution_count": null,
   "metadata": {
    "collapsed": true
   },
   "outputs": [],
   "source": []
  }
 ],
 "metadata": {
  "kernelspec": {
   "display_name": "Python 3",
   "language": "python",
   "name": "python3"
  },
  "language_info": {
   "codemirror_mode": {
    "name": "ipython",
    "version": 3
   },
   "file_extension": ".py",
   "mimetype": "text/x-python",
   "name": "python",
   "nbconvert_exporter": "python",
   "pygments_lexer": "ipython3",
   "version": "3.6.3"
  }
 },
 "nbformat": 4,
 "nbformat_minor": 2
}
