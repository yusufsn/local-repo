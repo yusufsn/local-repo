{
 "cells": [
  {
   "cell_type": "code",
   "execution_count": 1,
   "metadata": {
    "collapsed": true
   },
   "outputs": [],
   "source": [
    "def digital_root(num):\n",
    "    root = sum(int(d) for d in str(num))\n",
    "    return root if root < 10 else digital_root(root)"
   ]
  },
  {
   "cell_type": "code",
   "execution_count": 2,
   "metadata": {},
   "outputs": [
    {
     "name": "stdout",
     "output_type": "stream",
     "text": [
      "Enter an integer: 34\n",
      "Summary of digit number from  34  is  7\n"
     ]
    }
   ],
   "source": [
    "num = input(\"Enter an integer: \")\n",
    "print (\"Summary of digit number from \",num, \" is \",digital_root(num))"
   ]
  },
  {
   "cell_type": "code",
   "execution_count": 3,
   "metadata": {
    "collapsed": true
   },
   "outputs": [],
   "source": [
    "import random, sys\n",
    "\n",
    "def Rounds():\n",
    "    P1Roll1 = (random.randint(1,7))\n",
    "    P1Roll2 = (random.randint(1,7))\n",
    "    Sum1 = P1Roll1 + P1Roll2\n",
    "    Dice = input(\"Player 1's turn. Do you want to roll your 2 dice? (Y for yes and N for no)  \")\n",
    "    if Dice == \"Y\" or Dice == \"y\":\n",
    "        print(\"Player 1 rolled their 2 dice. They rolled a \" + str(P1Roll1) + \" and a \" + str(P1Roll2) + \" which totals to \" + str(Sum1))\n",
    "        if int(Sum1) % 2 == 0:\n",
    "            print(\"Player 1 got 10 more points for rolling an even sum. \" + \"\\n\" + \"Player 1 got \" + str(Sum1 + 10) + \" points\")\n",
    "            Final1 = str(Sum1 + 10)\n",
    "        elif int(Sum1) % 2 == 1:\n",
    "            print(\"Player 1 got \" + str(Sum1) + \" points\")\n",
    "            Final1 = str(Sum1)\n",
    "    elif Dice == \"N\" or Dice == \"n\":\n",
    "        sys.exit()\n",
    "    P2Roll1 = (random.randint(1,7))\n",
    "    P2Roll2 = (random.randint(1,7))\n",
    "    Sum2 = P2Roll1 + P2Roll2\n",
    "    Dice1 = input(\"Player 2's turn. Do you want to roll your 2 dice? (Y for yes and N for no)  \")\n",
    "    if Dice1 == \"Y\" or \"y\":\n",
    "        print(\"Player 2 rolled their 2 dice. They rolled a \" + str(P2Roll1) + \" and a \" + str(P2Roll2) + \" which totals to \" + str(Sum2))\n",
    "        if int(Sum2) % 2 == 0:\n",
    "            print(\"Player 2 got 10 more points for rolling an even sum. \" + \"\\n\" + \"Player 2 got \" + str(Sum2 + 10) + \" points\")\n",
    "            Final2 = str(Sum2 + 10)\n",
    "        elif int(Sum2) % 2 == 1:\n",
    "            print(\"Player 2 got \" + str(Sum2) + \" points\")\n",
    "            Final2 = str(Sum2)\n",
    "    elif Dice1 == \"N\" or \"n\":\n",
    "        sys.exit()\n",
    "    if Final2 > Final1:\n",
    "        print(\"Player 2 won round 1 by \" + str(int(Final2) - int(Final1)) + \" points\")\n",
    "    elif Final1 > Final2:\n",
    "        print(\"Player 1 won round 1 by \" + str(int(Final1) - int(Final2)) + \" points\")\n",
    "    elif Final1 == Final2:\n",
    "        print(\"Round 1 was a draw as both players got \" + str(Final1) + \" points\")"
   ]
  },
  {
   "cell_type": "code",
   "execution_count": 4,
   "metadata": {},
   "outputs": [
    {
     "name": "stdout",
     "output_type": "stream",
     "text": [
      "Player 1's turn. Do you want to roll your 2 dice? (Y for yes and N for no)  y\n",
      "Player 1 rolled their 2 dice. They rolled a 3 and a 6 which totals to 9\n",
      "Player 1 got 9 points\n",
      "Player 2's turn. Do you want to roll your 2 dice? (Y for yes and N for no)  y\n",
      "Player 2 rolled their 2 dice. They rolled a 5 and a 6 which totals to 11\n",
      "Player 2 got 11 points\n",
      "Player 1 won round 1 by -2 points\n"
     ]
    }
   ],
   "source": [
    "Rounds()"
   ]
  },
  {
   "cell_type": "code",
   "execution_count": 5,
   "metadata": {},
   "outputs": [
    {
     "name": "stdout",
     "output_type": "stream",
     "text": [
      "a likes programming\n",
      "b likes math\n"
     ]
    }
   ],
   "source": [
    "from itertools import cycle\n",
    "\n",
    "st1=[\"a\",\"b\"]\n",
    "st2=[\"likes\"]\n",
    "st3=[\"programming\",\"math\"]\n",
    "\n",
    "for i,j,k in zip(st1, cycle(st2), st3):\n",
    "    print(i+\" \"+j+\" \"+k)"
   ]
  },
  {
   "cell_type": "markdown",
   "metadata": {},
   "source": [
    "# Data frame"
   ]
  },
  {
   "cell_type": "code",
   "execution_count": 6,
   "metadata": {},
   "outputs": [
    {
     "data": {
      "text/html": [
       "<div>\n",
       "<style>\n",
       "    .dataframe thead tr:only-child th {\n",
       "        text-align: right;\n",
       "    }\n",
       "\n",
       "    .dataframe thead th {\n",
       "        text-align: left;\n",
       "    }\n",
       "\n",
       "    .dataframe tbody tr th {\n",
       "        vertical-align: top;\n",
       "    }\n",
       "</style>\n",
       "<table border=\"1\" class=\"dataframe\">\n",
       "  <thead>\n",
       "    <tr style=\"text-align: right;\">\n",
       "      <th></th>\n",
       "      <th></th>\n",
       "      <th>A</th>\n",
       "      <th>B</th>\n",
       "    </tr>\n",
       "  </thead>\n",
       "  <tbody>\n",
       "    <tr>\n",
       "      <th>0</th>\n",
       "      <td>2019-01-25 08:15:00</td>\n",
       "      <td>4.5</td>\n",
       "      <td>1.3</td>\n",
       "    </tr>\n",
       "    <tr>\n",
       "      <th>1</th>\n",
       "      <td>2019-01-25 08:30:00</td>\n",
       "      <td>6.0</td>\n",
       "      <td>5.7</td>\n",
       "    </tr>\n",
       "    <tr>\n",
       "      <th>2</th>\n",
       "      <td>2019-01-25 08:45:00</td>\n",
       "      <td>7.3</td>\n",
       "      <td>4.2</td>\n",
       "    </tr>\n",
       "    <tr>\n",
       "      <th>3</th>\n",
       "      <td>2019-01-25 09:00:00</td>\n",
       "      <td>9.4</td>\n",
       "      <td>6.2</td>\n",
       "    </tr>\n",
       "  </tbody>\n",
       "</table>\n",
       "</div>"
      ],
      "text/plain": [
       "                          A    B\n",
       "0  2019-01-25 08:15:00  4.5  1.3\n",
       "1  2019-01-25 08:30:00  6.0  5.7\n",
       "2  2019-01-25 08:45:00  7.3  4.2\n",
       "3  2019-01-25 09:00:00  9.4  6.2"
      ]
     },
     "execution_count": 6,
     "metadata": {},
     "output_type": "execute_result"
    }
   ],
   "source": [
    "import pandas as pd\n",
    "\n",
    "df = pd.DataFrame({\"\":[\"2019-01-25 08:15:00\",\"2019-01-25 08:30:00\",\"2019-01-25 08:45:00\",\"2019-01-25 09:00:00\"],\n",
    "                  \"A\":[4.50,6.00,7.30,9.40],\n",
    "                  \"B\":[1.30,5.70,4.20,6.20]})\n",
    "df"
   ]
  },
  {
   "cell_type": "code",
   "execution_count": 7,
   "metadata": {},
   "outputs": [
    {
     "data": {
      "text/plain": [
       "     2019-01-25 08:15:00\n",
       "A                    4.5\n",
       "B                    1.3\n",
       "Name: 0, dtype: object"
      ]
     },
     "execution_count": 7,
     "metadata": {},
     "output_type": "execute_result"
    }
   ],
   "source": [
    "dt = df.iloc[0]\n",
    "dt"
   ]
  },
  {
   "cell_type": "code",
   "execution_count": 8,
   "metadata": {},
   "outputs": [
    {
     "data": {
      "text/html": [
       "<div>\n",
       "<style>\n",
       "    .dataframe thead tr:only-child th {\n",
       "        text-align: right;\n",
       "    }\n",
       "\n",
       "    .dataframe thead th {\n",
       "        text-align: left;\n",
       "    }\n",
       "\n",
       "    .dataframe tbody tr th {\n",
       "        vertical-align: top;\n",
       "    }\n",
       "</style>\n",
       "<table border=\"1\" class=\"dataframe\">\n",
       "  <thead>\n",
       "    <tr style=\"text-align: right;\">\n",
       "      <th></th>\n",
       "      <th></th>\n",
       "      <th>A</th>\n",
       "      <th>B</th>\n",
       "      <th>C</th>\n",
       "    </tr>\n",
       "  </thead>\n",
       "  <tbody>\n",
       "    <tr>\n",
       "      <th>0</th>\n",
       "      <td>2019-01-25 08:15:00</td>\n",
       "      <td>4.5</td>\n",
       "      <td>1.3</td>\n",
       "      <td>1.000000</td>\n",
       "    </tr>\n",
       "    <tr>\n",
       "      <th>1</th>\n",
       "      <td>2019-01-25 08:30:00</td>\n",
       "      <td>6.0</td>\n",
       "      <td>5.7</td>\n",
       "      <td>0.340909</td>\n",
       "    </tr>\n",
       "    <tr>\n",
       "      <th>2</th>\n",
       "      <td>2019-01-25 08:45:00</td>\n",
       "      <td>7.3</td>\n",
       "      <td>4.2</td>\n",
       "      <td>-0.866667</td>\n",
       "    </tr>\n",
       "    <tr>\n",
       "      <th>3</th>\n",
       "      <td>2019-01-25 09:00:00</td>\n",
       "      <td>9.4</td>\n",
       "      <td>6.2</td>\n",
       "      <td>1.050000</td>\n",
       "    </tr>\n",
       "  </tbody>\n",
       "</table>\n",
       "</div>"
      ],
      "text/plain": [
       "                          A    B         C\n",
       "0  2019-01-25 08:15:00  4.5  1.3  1.000000\n",
       "1  2019-01-25 08:30:00  6.0  5.7  0.340909\n",
       "2  2019-01-25 08:45:00  7.3  4.2 -0.866667\n",
       "3  2019-01-25 09:00:00  9.4  6.2  1.050000"
      ]
     },
     "execution_count": 8,
     "metadata": {},
     "output_type": "execute_result"
    }
   ],
   "source": [
    "x = []\n",
    "# n = -1\n",
    "for i in range(0,len(df)):\n",
    "#     dt = df.iloc[i]\n",
    "#     dtA = dt[1]\n",
    "#     dtB = dt[2]\n",
    "#     if n == -1:\n",
    "#         x.insert(len(x),dtA/dtB)\n",
    "#     else:\n",
    "    x.insert(len(x),(df.iloc[i][1]-df.iloc[i-1][1])/(df.iloc[i][2]-df.iloc[i-1][2]))\n",
    "#     n += 1\n",
    "df[\"C\"] = x\n",
    "df"
   ]
  },
  {
   "cell_type": "code",
   "execution_count": 9,
   "metadata": {},
   "outputs": [
    {
     "data": {
      "text/html": [
       "<div>\n",
       "<style>\n",
       "    .dataframe thead tr:only-child th {\n",
       "        text-align: right;\n",
       "    }\n",
       "\n",
       "    .dataframe thead th {\n",
       "        text-align: left;\n",
       "    }\n",
       "\n",
       "    .dataframe tbody tr th {\n",
       "        vertical-align: top;\n",
       "    }\n",
       "</style>\n",
       "<table border=\"1\" class=\"dataframe\">\n",
       "  <thead>\n",
       "    <tr style=\"text-align: right;\">\n",
       "      <th></th>\n",
       "      <th>0</th>\n",
       "      <th>1</th>\n",
       "      <th>2</th>\n",
       "      <th>3</th>\n",
       "    </tr>\n",
       "  </thead>\n",
       "  <tbody>\n",
       "    <tr>\n",
       "      <th></th>\n",
       "      <td>2019-01-25 08:15:00</td>\n",
       "      <td>2019-01-25 08:30:00</td>\n",
       "      <td>2019-01-25 08:45:00</td>\n",
       "      <td>2019-01-25 09:00:00</td>\n",
       "    </tr>\n",
       "    <tr>\n",
       "      <th>A</th>\n",
       "      <td>4.5</td>\n",
       "      <td>6</td>\n",
       "      <td>7.3</td>\n",
       "      <td>9.4</td>\n",
       "    </tr>\n",
       "    <tr>\n",
       "      <th>B</th>\n",
       "      <td>1.3</td>\n",
       "      <td>5.7</td>\n",
       "      <td>4.2</td>\n",
       "      <td>6.2</td>\n",
       "    </tr>\n",
       "    <tr>\n",
       "      <th>C</th>\n",
       "      <td>1</td>\n",
       "      <td>0.340909</td>\n",
       "      <td>-0.866667</td>\n",
       "      <td>1.05</td>\n",
       "    </tr>\n",
       "  </tbody>\n",
       "</table>\n",
       "</div>"
      ],
      "text/plain": [
       "                     0                    1                    2  \\\n",
       "   2019-01-25 08:15:00  2019-01-25 08:30:00  2019-01-25 08:45:00   \n",
       "A                  4.5                    6                  7.3   \n",
       "B                  1.3                  5.7                  4.2   \n",
       "C                    1             0.340909            -0.866667   \n",
       "\n",
       "                     3  \n",
       "   2019-01-25 09:00:00  \n",
       "A                  9.4  \n",
       "B                  6.2  \n",
       "C                 1.05  "
      ]
     },
     "execution_count": 9,
     "metadata": {},
     "output_type": "execute_result"
    }
   ],
   "source": [
    "df.transpose()"
   ]
  },
  {
   "cell_type": "code",
   "execution_count": 10,
   "metadata": {},
   "outputs": [
    {
     "name": "stdout",
     "output_type": "stream",
     "text": [
      "                          A    B         C\n",
      "0  2019-01-25 08:15:00  4.5  1.3  1.000000\n",
      "1  2019-01-25 08:30:00  6.0  5.7  0.340909\n",
      "2  2019-01-25 08:45:00  7.3  4.2 -0.866667\n",
      "3  2019-01-25 09:00:00  9.4  6.2  1.050000\n"
     ]
    }
   ],
   "source": [
    "print (df)"
   ]
  },
  {
   "cell_type": "markdown",
   "metadata": {},
   "source": [
    "Joining columns"
   ]
  },
  {
   "cell_type": "code",
   "execution_count": 11,
   "metadata": {},
   "outputs": [
    {
     "data": {
      "text/html": [
       "<div>\n",
       "<style>\n",
       "    .dataframe thead tr:only-child th {\n",
       "        text-align: right;\n",
       "    }\n",
       "\n",
       "    .dataframe thead th {\n",
       "        text-align: left;\n",
       "    }\n",
       "\n",
       "    .dataframe tbody tr th {\n",
       "        vertical-align: top;\n",
       "    }\n",
       "</style>\n",
       "<table border=\"1\" class=\"dataframe\">\n",
       "  <thead>\n",
       "    <tr style=\"text-align: right;\">\n",
       "      <th></th>\n",
       "      <th>Ad_URL</th>\n",
       "      <th>Title</th>\n",
       "      <th>Link</th>\n",
       "    </tr>\n",
       "  </thead>\n",
       "  <tbody>\n",
       "    <tr>\n",
       "      <th>0</th>\n",
       "      <td>http://www.google.com</td>\n",
       "      <td>Google</td>\n",
       "      <td>&lt;a href=\"http://www.google.com\"&gt;Google&lt;/a&gt;</td>\n",
       "    </tr>\n",
       "    <tr>\n",
       "      <th>1</th>\n",
       "      <td>http://www.yahoo.com</td>\n",
       "      <td>Yahoo</td>\n",
       "      <td>&lt;a href=\"http://www.yahoo.com\"&gt;Yahoo&lt;/a&gt;</td>\n",
       "    </tr>\n",
       "  </tbody>\n",
       "</table>\n",
       "</div>"
      ],
      "text/plain": [
       "                  Ad_URL   Title                                        Link\n",
       "0  http://www.google.com  Google  <a href=\"http://www.google.com\">Google</a>\n",
       "1   http://www.yahoo.com   Yahoo    <a href=\"http://www.yahoo.com\">Yahoo</a>"
      ]
     },
     "execution_count": 11,
     "metadata": {},
     "output_type": "execute_result"
    }
   ],
   "source": [
    "df = pd.DataFrame({\"Ad_URL\":[\"http://www.google.com\",\"http://www.yahoo.com\"],\n",
    "                  \"Title\":[\"Google\",\"Yahoo\"]})\n",
    "\n",
    "def Ad_Link(df):\n",
    "    return ('<a href=\"{}\">{}</a>'.format(df['Ad_URL'],df['Title']))\n",
    "\n",
    "df['Link'] = df[['Ad_URL','Title']].apply(lambda x:Ad_Link(x), axis=1)\n",
    "df"
   ]
  },
  {
   "cell_type": "code",
   "execution_count": 12,
   "metadata": {},
   "outputs": [
    {
     "data": {
      "text/html": [
       "<div>\n",
       "<style>\n",
       "    .dataframe thead tr:only-child th {\n",
       "        text-align: right;\n",
       "    }\n",
       "\n",
       "    .dataframe thead th {\n",
       "        text-align: left;\n",
       "    }\n",
       "\n",
       "    .dataframe tbody tr th {\n",
       "        vertical-align: top;\n",
       "    }\n",
       "</style>\n",
       "<table border=\"1\" class=\"dataframe\">\n",
       "  <thead>\n",
       "    <tr style=\"text-align: right;\">\n",
       "      <th></th>\n",
       "      <th>col_a</th>\n",
       "      <th>col_b</th>\n",
       "    </tr>\n",
       "  </thead>\n",
       "  <tbody>\n",
       "    <tr>\n",
       "      <th>0</th>\n",
       "      <td>Python PY is a general purpose PY language</td>\n",
       "      <td>Python PY</td>\n",
       "    </tr>\n",
       "    <tr>\n",
       "      <th>1</th>\n",
       "      <td>Programming PY language in Python PY</td>\n",
       "      <td>Programming PY</td>\n",
       "    </tr>\n",
       "    <tr>\n",
       "      <th>2</th>\n",
       "      <td>Its easier to understand  PY</td>\n",
       "      <td>understand  PY</td>\n",
       "    </tr>\n",
       "    <tr>\n",
       "      <th>3</th>\n",
       "      <td>The syntax of the language is clean PY</td>\n",
       "      <td>clean PY</td>\n",
       "    </tr>\n",
       "  </tbody>\n",
       "</table>\n",
       "</div>"
      ],
      "text/plain": [
       "                                        col_a           col_b\n",
       "0  Python PY is a general purpose PY language       Python PY\n",
       "1        Programming PY language in Python PY  Programming PY\n",
       "2                Its easier to understand  PY  understand  PY\n",
       "3      The syntax of the language is clean PY        clean PY"
      ]
     },
     "execution_count": 12,
     "metadata": {},
     "output_type": "execute_result"
    }
   ],
   "source": [
    "import re\n",
    "\n",
    "df = ({\"col_a\": [\"Python PY is a general purpose PY language\",\n",
    "                 \"Programming PY language in Python PY\",\n",
    "                 \"Its easier to understand  PY\",\n",
    "                 \"The syntax of the language is clean PY\"]})\n",
    "col_b = []\n",
    "for item in df['col_a']:\n",
    "    x = re.search(r\"(\\w+\\s+PY)\", item)\n",
    "    col_b.append(x.group())\n",
    "df['col_b'] = col_b\n",
    "df = pd.DataFrame(df)\n",
    "df"
   ]
  },
  {
   "cell_type": "code",
   "execution_count": 316,
   "metadata": {},
   "outputs": [
    {
     "data": {
      "text/html": [
       "<div>\n",
       "<style>\n",
       "    .dataframe thead tr:only-child th {\n",
       "        text-align: right;\n",
       "    }\n",
       "\n",
       "    .dataframe thead th {\n",
       "        text-align: left;\n",
       "    }\n",
       "\n",
       "    .dataframe tbody tr th {\n",
       "        vertical-align: top;\n",
       "    }\n",
       "</style>\n",
       "<table border=\"1\" class=\"dataframe\">\n",
       "  <thead>\n",
       "    <tr style=\"text-align: right;\">\n",
       "      <th></th>\n",
       "      <th>ID</th>\n",
       "      <th>Name</th>\n",
       "      <th>Parent_Id</th>\n",
       "    </tr>\n",
       "  </thead>\n",
       "  <tbody>\n",
       "    <tr>\n",
       "      <th>0</th>\n",
       "      <td>211</td>\n",
       "      <td>Tom</td>\n",
       "      <td>111</td>\n",
       "    </tr>\n",
       "    <tr>\n",
       "      <th>1</th>\n",
       "      <td>209</td>\n",
       "      <td>Galie</td>\n",
       "      <td>111</td>\n",
       "    </tr>\n",
       "    <tr>\n",
       "      <th>2</th>\n",
       "      <td>200</td>\n",
       "      <td>Remo</td>\n",
       "      <td>101</td>\n",
       "    </tr>\n",
       "    <tr>\n",
       "      <th>3</th>\n",
       "      <td>212</td>\n",
       "      <td>Carmen</td>\n",
       "      <td>121</td>\n",
       "    </tr>\n",
       "    <tr>\n",
       "      <th>4</th>\n",
       "      <td>111</td>\n",
       "      <td>Alfred</td>\n",
       "      <td>191</td>\n",
       "    </tr>\n",
       "    <tr>\n",
       "      <th>5</th>\n",
       "      <td>101</td>\n",
       "      <td>Marvela</td>\n",
       "      <td>111</td>\n",
       "    </tr>\n",
       "    <tr>\n",
       "      <th>6</th>\n",
       "      <td>234</td>\n",
       "      <td>Armin</td>\n",
       "      <td>101</td>\n",
       "    </tr>\n",
       "    <tr>\n",
       "      <th>7</th>\n",
       "      <td>454</td>\n",
       "      <td>Boris</td>\n",
       "      <td>109</td>\n",
       "    </tr>\n",
       "    <tr>\n",
       "      <th>8</th>\n",
       "      <td>109</td>\n",
       "      <td>Katya</td>\n",
       "      <td>323</td>\n",
       "    </tr>\n",
       "  </tbody>\n",
       "</table>\n",
       "</div>"
      ],
      "text/plain": [
       "    ID     Name  Parent_Id\n",
       "0  211      Tom        111\n",
       "1  209    Galie        111\n",
       "2  200     Remo        101\n",
       "3  212   Carmen        121\n",
       "4  111   Alfred        191\n",
       "5  101  Marvela        111\n",
       "6  234    Armin        101\n",
       "7  454    Boris        109\n",
       "8  109    Katya        323"
      ]
     },
     "execution_count": 316,
     "metadata": {},
     "output_type": "execute_result"
    }
   ],
   "source": [
    "mydf = ({\"Name\":[\"Tom\",\"Galie\",\"Remo\",\"Carmen\",\"Alfred\",\"Marvela\",\"Armin\",\"Boris\",\"Katya\"],\n",
    "        \"ID\":[211,209,200,212,111,101,234,454,109],\"Parent_Id\":[111,111,101,121,191,111,101,109,323]})\n",
    "df = pd.DataFrame(mydf)\n",
    "df    "
   ]
  },
  {
   "cell_type": "code",
   "execution_count": 319,
   "metadata": {},
   "outputs": [
    {
     "data": {
      "text/html": [
       "<div>\n",
       "<style>\n",
       "    .dataframe thead tr:only-child th {\n",
       "        text-align: right;\n",
       "    }\n",
       "\n",
       "    .dataframe thead th {\n",
       "        text-align: left;\n",
       "    }\n",
       "\n",
       "    .dataframe tbody tr th {\n",
       "        vertical-align: top;\n",
       "    }\n",
       "</style>\n",
       "<table border=\"1\" class=\"dataframe\">\n",
       "  <thead>\n",
       "    <tr style=\"text-align: right;\">\n",
       "      <th></th>\n",
       "      <th>ID</th>\n",
       "      <th>Name</th>\n",
       "      <th>Parent_Id</th>\n",
       "      <th>Tag</th>\n",
       "    </tr>\n",
       "  </thead>\n",
       "  <tbody>\n",
       "    <tr>\n",
       "      <th>0</th>\n",
       "      <td>211</td>\n",
       "      <td>Tom</td>\n",
       "      <td>111</td>\n",
       "      <td>Alfred</td>\n",
       "    </tr>\n",
       "    <tr>\n",
       "      <th>1</th>\n",
       "      <td>209</td>\n",
       "      <td>Galie</td>\n",
       "      <td>111</td>\n",
       "      <td>Alfred</td>\n",
       "    </tr>\n",
       "    <tr>\n",
       "      <th>2</th>\n",
       "      <td>200</td>\n",
       "      <td>Remo</td>\n",
       "      <td>101</td>\n",
       "      <td>Marvela</td>\n",
       "    </tr>\n",
       "    <tr>\n",
       "      <th>3</th>\n",
       "      <td>212</td>\n",
       "      <td>Carmen</td>\n",
       "      <td>121</td>\n",
       "      <td></td>\n",
       "    </tr>\n",
       "    <tr>\n",
       "      <th>4</th>\n",
       "      <td>111</td>\n",
       "      <td>Alfred</td>\n",
       "      <td>191</td>\n",
       "      <td></td>\n",
       "    </tr>\n",
       "    <tr>\n",
       "      <th>5</th>\n",
       "      <td>101</td>\n",
       "      <td>Marvela</td>\n",
       "      <td>111</td>\n",
       "      <td>Alfred</td>\n",
       "    </tr>\n",
       "    <tr>\n",
       "      <th>6</th>\n",
       "      <td>234</td>\n",
       "      <td>Armin</td>\n",
       "      <td>101</td>\n",
       "      <td>Marvela</td>\n",
       "    </tr>\n",
       "    <tr>\n",
       "      <th>7</th>\n",
       "      <td>454</td>\n",
       "      <td>Boris</td>\n",
       "      <td>109</td>\n",
       "      <td>Katya</td>\n",
       "    </tr>\n",
       "    <tr>\n",
       "      <th>8</th>\n",
       "      <td>109</td>\n",
       "      <td>Katya</td>\n",
       "      <td>323</td>\n",
       "      <td></td>\n",
       "    </tr>\n",
       "  </tbody>\n",
       "</table>\n",
       "</div>"
      ],
      "text/plain": [
       "    ID     Name  Parent_Id      Tag\n",
       "0  211      Tom        111   Alfred\n",
       "1  209    Galie        111   Alfred\n",
       "2  200     Remo        101  Marvela\n",
       "3  212   Carmen        121         \n",
       "4  111   Alfred        191         \n",
       "5  101  Marvela        111   Alfred\n",
       "6  234    Armin        101  Marvela\n",
       "7  454    Boris        109    Katya\n",
       "8  109    Katya        323         "
      ]
     },
     "execution_count": 319,
     "metadata": {},
     "output_type": "execute_result"
    }
   ],
   "source": [
    "tag = []\n",
    "for z in df['Parent_Id']:\n",
    "    try:\n",
    "        temp = (df.query('ID==%s'%z)['Name'].item())\n",
    "        tag.append(temp)\n",
    "    except:\n",
    "        tag.append('')\n",
    "df['Tag'] = tag\n",
    "df"
   ]
  },
  {
   "cell_type": "code",
   "execution_count": 330,
   "metadata": {},
   "outputs": [
    {
     "data": {
      "text/html": [
       "<div>\n",
       "<style>\n",
       "    .dataframe thead tr:only-child th {\n",
       "        text-align: right;\n",
       "    }\n",
       "\n",
       "    .dataframe thead th {\n",
       "        text-align: left;\n",
       "    }\n",
       "\n",
       "    .dataframe tbody tr th {\n",
       "        vertical-align: top;\n",
       "    }\n",
       "</style>\n",
       "<table border=\"1\" class=\"dataframe\">\n",
       "  <thead>\n",
       "    <tr style=\"text-align: right;\">\n",
       "      <th></th>\n",
       "      <th>ID</th>\n",
       "      <th>Name</th>\n",
       "      <th>Parent_Id</th>\n",
       "      <th>Tag</th>\n",
       "    </tr>\n",
       "  </thead>\n",
       "  <tbody>\n",
       "    <tr>\n",
       "      <th>2</th>\n",
       "      <td>200</td>\n",
       "      <td>Remo</td>\n",
       "      <td>101</td>\n",
       "      <td>Marvela</td>\n",
       "    </tr>\n",
       "    <tr>\n",
       "      <th>6</th>\n",
       "      <td>234</td>\n",
       "      <td>Armin</td>\n",
       "      <td>101</td>\n",
       "      <td>Marvela</td>\n",
       "    </tr>\n",
       "  </tbody>\n",
       "</table>\n",
       "</div>"
      ],
      "text/plain": [
       "    ID   Name  Parent_Id      Tag\n",
       "2  200   Remo        101  Marvela\n",
       "6  234  Armin        101  Marvela"
      ]
     },
     "execution_count": 330,
     "metadata": {},
     "output_type": "execute_result"
    }
   ],
   "source": [
    "# if df['Tag'].str.contains('Alfred').any():\n",
    "df[df['Tag'].str.match('Marvela')]"
   ]
  },
  {
   "cell_type": "markdown",
   "metadata": {},
   "source": [
    "# Scrap url"
   ]
  },
  {
   "cell_type": "code",
   "execution_count": 13,
   "metadata": {
    "scrolled": true
   },
   "outputs": [
    {
     "name": "stdout",
     "output_type": "stream",
     "text": [
      "iPhone 7 (32GB) $ 0 More info: https://www.m1.com.sg/personal/mobile/phones/details/iphone%207%2032gb%20black\n",
      "iPhone 7 Plus (32GB) $ 0 More info: https://www.m1.com.sg/personal/mobile/phones/details/iphone%207%20plus%2032gb%20black\n",
      "iPhone XR 128GB $ 225 More info: https://www.m1.com.sg/personal/mobile/phones/details/iphone%20xr%20128gb%20black\n",
      "iPhone XR 256GB $ 385 More info: https://www.m1.com.sg/personal/mobile/phones/details/iphone%20xr%20256gb%20black\n",
      "iPhone XR 64GB $ 160 More info: https://www.m1.com.sg/personal/mobile/phones/details/iphone%20xr%2064gb%20black\n",
      "iPhone XS 256GB $ 665 More info: https://www.m1.com.sg/personal/mobile/phones/details/iphone%20xs%20256gb%20space%20grey\n",
      "iPhone XS 512GB $ 1100 More info: https://www.m1.com.sg/personal/mobile/phones/details/iphone%20xs%20512gb%20space%20grey\n",
      "iPhone XS 64GB $ 590 More info: https://www.m1.com.sg/personal/mobile/phones/details/iphone%20xs%2064gb%20silver\n",
      "iPhone XS Max 256GB $ 805 More info: https://www.m1.com.sg/personal/mobile/phones/details/iphone%20xs%20max%20256gb%20space%20grey\n",
      "iPhone XS Max 512GB $ 1240 More info: https://www.m1.com.sg/personal/mobile/phones/details/iphone%20xs%20max%20512gb%20space%20grey\n",
      "iPhone XS Max 64GB $ 730 More info: https://www.m1.com.sg/personal/mobile/phones/details/iphone%20xs%20max%2064gb%20silver\n",
      "ASUS ZenFone 5Q $ 0 More info: https://www.m1.com.sg/personal/mobile/phones/details/asus%20zenfone%205q%20white\n",
      "ASUS ZenFone Live L1 $ 0 More info: https://www.m1.com.sg/personal/mobile/phones/details/asus%20zenfone%20live%20l1%20black\n",
      "BlackBerry KEY2 $ 258 More info: https://www.m1.com.sg/personal/mobile/phones/details/blackberry%20key2%20black\n",
      "BlackBerry KEY2 LE $ 0 More info: https://www.m1.com.sg/personal/mobile/phones/details/blackberry%20key2%20le%20atomic%20red\n",
      "Huawei Mate 20 $ 0 More info: https://www.m1.com.sg/personal/mobile/phones/details/huawei%20mate%2020%20black\n",
      "Huawei Mate 20 Pro $ 118 More info: https://www.m1.com.sg/personal/mobile/phones/details/huawei%20mate%2020%20pro%20black\n",
      "Huawei Mate 20 X $ 188 More info: https://www.m1.com.sg/personal/mobile/phones/details/huawei%20mate%2020%20x%20midnight%20blue\n",
      "Huawei Nova 3i $ 0 More info: https://www.m1.com.sg/personal/mobile/phones/details/huawei%20nova%203i%20black\n",
      "Huawei Y6 2018 $ 0 More info: https://www.m1.com.sg/personal/mobile/phones/details/huawei%20y6%202018%20blue\n",
      "Huawei Y6 Pro 2019 $ 0 More info: https://www.m1.com.sg/personal/mobile/phones/details/huawei%20y6%20pro%202019%20midnight%20black\n",
      "Lenovo Tab 7 Essential (LTE) $ 0 More info: https://www.m1.com.sg/personal/mobile/phones/details/lenovo%20tab%207%20essential%20lte%20black\n",
      "LG G7+ ThinQ $ 0 More info: https://www.m1.com.sg/personal/mobile/phones/details/lg%20g7%20plus%20thinq%20black\n",
      "LG V40 ThinQ $ 88 More info: https://www.m1.com.sg/personal/mobile/phones/details/lg%20v40%20thinq%20moroccan%20blue\n",
      "OPPO AX7 $ 0 More info: https://www.m1.com.sg/personal/mobile/phones/details/ax7%20gold\n",
      "OPPO Find X (256GB) $ 298 More info: https://www.m1.com.sg/personal/mobile/phones/details/find%20x%20256gb%20bordeaux%20red\n",
      "OPPO R17 $ 0 More info: https://www.m1.com.sg/personal/mobile/phones/details/r17%20ambient%20blue\n",
      "OPPO R17 Pro $ 98 More info: https://www.m1.com.sg/personal/mobile/phones/details/r17%20pro%20emerald%20green\n",
      "Samsung Galaxy A7 $ 0 More info: https://www.m1.com.sg/personal/mobile/phones/details/samsung%20galaxy%20a7%202018%20blue\n",
      "Samsung Galaxy A9 $ 0 More info: https://www.m1.com.sg/personal/mobile/phones/details/samsung%20galaxy%20a9%202018%20bubblegum%20pink\n",
      "Samsung Galaxy J4+ $ 0 More info: https://www.m1.com.sg/personal/mobile/phones/details/samsung%20galaxy%20j4%20plus%20black\n",
      "Samsung Galaxy J6+ $ 0 More info: https://www.m1.com.sg/personal/mobile/phones/details/samsung%20galaxy%20j6%20plus%20red\n",
      "Samsung Galaxy J7 Duo $ 0 More info: https://www.m1.com.sg/personal/mobile/phones/details/samsung%20galaxy%20j7%20duo%20black\n",
      "Samsung Galaxy Note9 128GB $ 288 More info: https://www.m1.com.sg/personal/mobile/phones/details/samsung%20galaxy%20note9%20128gb%20midnight%20black\n",
      "Samsung Galaxy Note9 512GB $ 488 More info: https://www.m1.com.sg/personal/mobile/phones/details/samsung%20galaxy%20note9%20512gb%20lavender\n",
      "Samsung Galaxy S10 128GB $ 378 More info: https://www.m1.com.sg/personal/mobile/phones/details/samsung%20galaxy%20s10%20128gb%20prism%20black\n",
      "Samsung Galaxy S10+ 128GB $ 478 More info: https://www.m1.com.sg/personal/mobile/phones/details/samsung%20galaxy%20s10%20plus%20128gb%20prism%20black\n",
      "Samsung Galaxy S10+ 1TB $ 1298 More info: https://www.m1.com.sg/personal/mobile/phones/details/samsung%20galaxy%20s10%20plus%201tb%20ceramic%20white\n",
      "Samsung Galaxy S10+ 512GB $ 898 More info: https://www.m1.com.sg/personal/mobile/phones/details/samsung%20galaxy%20s10%20plus%20512gb%20ceramic%20white\n",
      "Samsung Galaxy S10e 128GB $ 228 More info: https://www.m1.com.sg/personal/mobile/phones/details/samsung%20galaxy%20s10e%20128gb%20prism%20black\n",
      "Samsung Galaxy S9 64GB $ 0 More info: https://www.m1.com.sg/personal/mobile/phones/details/samsung%20galaxy%20s9%2064gb%20polaris%20blue\n",
      "Samsung Galaxy Tab A (2018) 10.5\" $ 0 More info: https://www.m1.com.sg/personal/mobile/phones/details/samsung%20galaxy%20tab%20a%202018%20105%20black\n",
      "Samsung Galaxy Tab S4 256GB $ 548 More info: https://www.m1.com.sg/personal/mobile/phones/details/samsung%20galaxy%20tab%20s4%20256gb%20black\n",
      "Samsung Galaxy Tab S4 64GB $ 398 More info: https://www.m1.com.sg/personal/mobile/phones/details/samsung%20galaxy%20tab%20s4%2064gb%20black\n",
      "vivo Nex Dual Screen Edition $ 198 More info: https://www.m1.com.sg/personal/mobile/phones/details/vivo%20nex%20dual%20screen%20edition%20polar%20blue\n",
      "vivo V11 $ 0 More info: https://www.m1.com.sg/personal/mobile/phones/details/vivo%20v11%20starry%20night\n",
      "vivo Y95 $ 0 More info: https://www.m1.com.sg/personal/mobile/phones/details/vivo%20y95%20aurora%20red\n",
      "Xiaomi Redmi Note 6 Pro $ 0 More info: https://www.m1.com.sg/personal/mobile/phones/details/xiaomi%20redmi%20note%206%20pro%20black\n"
     ]
    }
   ],
   "source": [
    "import urllib.request\n",
    "from bs4 import BeautifulSoup\n",
    "from html.parser import HTMLParser\n",
    "\n",
    "url_toscrape = \"https://www.m1.com.sg/personal/mobile/phones/filters/all-plans/all/all/0/1500/0/0/none\"\n",
    "response = urllib.request.urlopen(url_toscrape)\n",
    "info_type = response.info()\n",
    "responseData = response.read()\n",
    "soup = BeautifulSoup(responseData, 'html.parser')\n",
    "\n",
    "for tr in soup.find_all(\"div\",{\"class\":\"tr middle\"}):\n",
    "    for model in tr.find_all(\"div\",{\"class\":\"td three title text-center\"}):\n",
    "        model = model.text.strip()\n",
    "    for price in tr.find_all(\"div\",{\"class\":\"td two price text-center\"}):\n",
    "        price = price.text.strip()\n",
    "    for info in tr.find_all(\"div\",{\"class\":\"td two description\"}):\n",
    "        for link in info.find_all(\"a\"):\n",
    "            info = info.text.strip() + \": https://www.m1.com.sg\" + link['href'].replace(\" \",\"%20\")\n",
    "    print (model,price,info)"
   ]
  },
  {
   "cell_type": "code",
   "execution_count": 14,
   "metadata": {
    "scrolled": true
   },
   "outputs": [
    {
     "name": "stdout",
     "output_type": "stream",
     "text": [
      "iPhone 7 (32GB) $ 0\n",
      "iPhone 7 (32GB) $ 0\n",
      "iPhone 7 Plus (32GB) $ 0\n",
      "iPhone XR 128GB $ 225\n",
      "iPhone XR 256GB $ 385\n",
      "iPhone XR 64GB $ 160\n",
      "iPhone XS 256GB $ 665\n",
      "iPhone XS 512GB $ 1100\n",
      "iPhone XS 64GB $ 590\n",
      "iPhone XS Max 256GB $ 805\n",
      "iPhone XS Max 512GB $ 1240\n",
      "iPhone XS Max 64GB $ 730\n",
      "ASUS ZenFone 5Q $ 0\n",
      "ASUS ZenFone Live L1 $ 0\n",
      "BlackBerry KEY2 $ 258\n",
      "BlackBerry KEY2 LE $ 0\n",
      "BlackBerry KEYone Dual SIM $ 98\n",
      "Huawei Mate 20 $ 0\n",
      "Huawei Mate 20 Pro $ 118\n",
      "Huawei Mate 20 X $ 188\n",
      "Huawei Nova 3i $ 0\n",
      "Huawei Y6 2018 $ 0\n",
      "Huawei Y6 Pro 2019 $ 0\n",
      "Lenovo Tab 7 Essential (LTE) $ 0\n",
      "LG G7+ ThinQ $ 0\n",
      "LG V40 ThinQ $ 88\n",
      "OPPO AX7 $ 0\n",
      "OPPO Find X (256GB) $ 298\n",
      "OPPO R17 $ 0\n",
      "OPPO R17 Pro $ 98\n",
      "Samsung Galaxy A7 $ 0\n",
      "Samsung Galaxy A9 $ 0\n",
      "Samsung Galaxy J4+ $ 0\n",
      "Samsung Galaxy J6+ $ 0\n",
      "Samsung Galaxy J7 Duo $ 0\n",
      "Samsung Galaxy Note9 128GB $ 288\n",
      "Samsung Galaxy Note9 512GB $ 488\n",
      "Samsung Galaxy S10 128GB $ 378\n",
      "Samsung Galaxy S10+ 128GB $ 478\n",
      "Samsung Galaxy S10+ 1TB $ 1298\n",
      "Samsung Galaxy S10+ 512GB $ 898\n",
      "Samsung Galaxy S10e 128GB $ 228\n",
      "Samsung Galaxy S9 64GB $ 0\n",
      "Samsung Galaxy Tab A (2018) 10.5\" $ 0\n",
      "Samsung Galaxy Tab S4 256GB $ 548\n",
      "Samsung Galaxy Tab S4 64GB $ 398\n",
      "vivo Nex Dual Screen Edition $ 198\n",
      "vivo V11 $ 0\n",
      "vivo Y95 $ 0\n",
      "Xiaomi Redmi Note 6 Pro $ 0\n"
     ]
    }
   ],
   "source": [
    "import requests\n",
    "from bs4 import BeautifulSoup\n",
    "\n",
    "url = \"https://www.m1.com.sg/personal/mobile/phones/filters/all-plans/all/all/0/1500/0/0/none\"\n",
    "\n",
    "response = requests.get(url)\n",
    "soup = BeautifulSoup(response.text, 'lxml')\n",
    "for items in soup.find_all(class_=\"phone-line\"):\n",
    "    model = items.find(class_=\"title\").text.strip()\n",
    "    price = items.find(class_=\"light-blue\").text.strip()\n",
    "    print(model,price)"
   ]
  },
  {
   "cell_type": "code",
   "execution_count": 15,
   "metadata": {},
   "outputs": [
    {
     "name": "stdout",
     "output_type": "stream",
     "text": [
      "\n",
      "Pertamina\n",
      "Airfast Indonesia\n",
      "Tangerang\n",
      "Angkasa Pura\n",
      "Jakarta\n",
      "Astra International\n",
      "Jakarta\n",
      "Bank Central Asia\n",
      "Jakarta\n",
      "Bank Danamon\n",
      "Jakarta\n",
      "Bank Mandiri\n",
      "Jakarta\n",
      "Bank Negara Indonesia\n",
      "Jakarta\n",
      "Bank Rakyat Indonesia\n",
      "Jakarta\n",
      "Bumi Resources\n",
      "Jakarta\n",
      "Djarum\n",
      " Kudus\n",
      "Jakarta\n",
      "Dragon Computer & Communication\n",
      "Jakarta\n",
      "Elex Media Komputindo\n",
      "Jakarta\n",
      "Femina\n",
      "Jakarta\n",
      "Garuda Indonesia\n",
      "Tangerang\n",
      "Gudang Garam\n",
      "Kediri\n",
      "Gunung Agung\n",
      "Jakarta\n",
      "Indocement Tunggal Prakarsa\n",
      "Jakarta\n",
      "HeidelbergCement\n",
      "Indofood\n",
      "Jakarta\n",
      "Indonesian Aerospace\n",
      "Bandung\n",
      "Indonesian Bureau of Logistics\n",
      "Jakarta\n",
      "Indosat\n",
      "Jakarta\n",
      "Infomedia Nusantara\n",
      "Jakarta\n",
      "Jalur Nugraha Ekakurir\n",
      "Jakarta\n",
      "Kalbe Farma\n",
      "Jakarta\n",
      "Kereta Api Indonesia\n",
      "Bandung\n",
      "Kimia Farma\n",
      "Jakarta\n",
      "Kompas Gramedia Group\n",
      "Jakarta\n",
      "Krakatau Steel\n",
      "Cilegon\n",
      "Lion Air\n",
      "Jakarta\n",
      "Lippo Group\n",
      "Jakarta\n",
      "Matahari\n",
      "Tangerang\n",
      "MedcoEnergi\n",
      "Jakarta\n",
      "Media Nusantara Citra\n",
      "Jakarta\n",
      "Panin Sekuritas\n",
      "Jakarta\n",
      "Pegadaian\n",
      "Jakarta\n",
      "Pelni\n",
      "Jakarta\n",
      "Pos Indonesia\n",
      "Bandung\n",
      "Pertamina\n",
      "Jakarta\n",
      "Perusahaan Gas Negara\n",
      "Jakarta\n",
      "Perusahaan Gas Negara\n",
      "Jakarta\n",
      "Perusahaan Listrik Negara\n",
      "Jakarta\n",
      "Phillip Securities Indonesia, PT\n",
      "Jakarta\n",
      "Pindad\n",
      "Bandung\n",
      "PT Lapindo Brantas\n",
      "Jakarta\n",
      "PT Metro Supermarket Realty Tbk\n",
      "Jakarta\n",
      "Salim Group\n",
      "Jakarta\n",
      "Sampoerna\n",
      "Surabaya\n",
      "Semen Indonesia\n",
      "Gresik\n",
      "Susi Air\n",
      "Pangandaran\n",
      "Telkom Indonesia\n",
      "Bandung\n",
      "Telkomsel\n",
      "Jakarta\n",
      "Telkom Indonesia\n",
      "Trans Corp\n",
      "Jakarta\n",
      "CT Corp\n",
      "Unilever Indonesia\n",
      "Jakarta\n",
      "Unilever\n",
      "United Tractors\n",
      "Jakarta\n",
      " Waskita\n",
      "Jakarta\n"
     ]
    }
   ],
   "source": [
    "import requests\n",
    "from bs4 import BeautifulSoup as bs\n",
    "\n",
    "url = \"https://en.wikipedia.org/wiki/List_of_companies_of_Indonesia\"\n",
    "html = requests.get(url).text\n",
    "soup = bs(html, 'html.parser')\n",
    "\n",
    "for data in soup.find_all('table', {\"class\":\"wikitable\"}):\n",
    "    for td in data.find_all('td'):\n",
    "        for link in td.find_all('a'):\n",
    "            print (link.text)"
   ]
  },
  {
   "cell_type": "code",
   "execution_count": 16,
   "metadata": {},
   "outputs": [
    {
     "name": "stdout",
     "output_type": "stream",
     "text": [
      "('Allrecipes', 'og:site_name')\n"
     ]
    }
   ],
   "source": [
    "line = '<meta content=\\\"Allrecipes\\\" property=\\\"og:site_name\\\"/>'\n",
    "regex = re.search(\"content=\\\\\\\"(?P<content>.*)\\\\\\\".*property=\\\\\\\"(?P<prop>.*)\\\\\\\"\\/>\",line)\n",
    "print (regex.groups())"
   ]
  },
  {
   "cell_type": "code",
   "execution_count": null,
   "metadata": {
    "collapsed": true
   },
   "outputs": [],
   "source": []
  },
  {
   "cell_type": "code",
   "execution_count": null,
   "metadata": {
    "collapsed": true
   },
   "outputs": [],
   "source": []
  },
  {
   "cell_type": "markdown",
   "metadata": {
    "collapsed": true
   },
   "source": [
    "# Dice game"
   ]
  },
  {
   "cell_type": "code",
   "execution_count": 17,
   "metadata": {},
   "outputs": [
    {
     "name": "stdout",
     "output_type": "stream",
     "text": [
      "Would you like to roll the dice? yes\n",
      "5  3 Winner!\n",
      "Would you like to play again?no\n",
      "You won 1 times\n",
      "You lost 0 times\n"
     ]
    }
   ],
   "source": [
    "import random\n",
    "\n",
    "def roll_dice():\n",
    "    winner = 0\n",
    "    loser = 0\n",
    "    play_again = \"yes\"\n",
    "    while play_again == \"yes\":\n",
    "        roll = (random.randint(1,6))\n",
    "        roll2 = (random.randint(1,6))\n",
    "        print(str(roll),\" \",end=str(roll2))\n",
    "        if roll >= roll2:\n",
    "            print(\" Winner!\")\n",
    "            winner += 1\n",
    "        else:\n",
    "            print(\" Loser!\")\n",
    "            loser += 1\n",
    "        play_again = input(\"Would you like to play again?\")\n",
    "    print(\"You won\", winner, \"times\")\n",
    "    print(\"You lost\", loser, \"times\")\n",
    "    quit\n",
    "\n",
    "def main():\n",
    "    game_start = input(\"Would you like to roll the dice? \")\n",
    "    if game_start == 'yes':\n",
    "        roll_dice()\n",
    "    else:\n",
    "        print(\"too bad\")\n",
    "\n",
    "if __name__ == '__main__':\n",
    "    main()"
   ]
  },
  {
   "cell_type": "code",
   "execution_count": 18,
   "metadata": {},
   "outputs": [
    {
     "name": "stdout",
     "output_type": "stream",
     "text": [
      "Would you like to add a player to the list? (Yes/No) yes\n",
      "\n",
      "Enter the name of the player to add to the team: Kimi\n",
      "Would you like to add another player? (Yes/No) yes\n",
      "\n",
      "Enter the name of the player to add to the team: Aak\n",
      "Would you like to add another player? (Yes/No) no\n",
      "\n",
      "There are 2 players on the team.\n",
      "Player 1: Kimi\n",
      "Player 2: Aak\n",
      "Please select the goal keeper by selecting the player_number. (1-2) 1\n",
      "Great!! The goalkeeper for the game will be Kimi\n"
     ]
    }
   ],
   "source": [
    "# TODO Create an empty list to maintain the player names\n",
    "players = []\n",
    "\n",
    "# TODO Ask the user if they'd like to add players to the list.\n",
    "# If the user answers \"Yes\", let them type in a name and add it to the list.\n",
    "# If the user answers \"No\", print out the team 'roster'\n",
    "add_players = input(\"Would you like to add a player to the list? (Yes/No) \")\n",
    "while add_players.lower() == \"yes\":\n",
    "    name = input(\"\\nEnter the name of the player to add to the team: \")\n",
    "    players.append(name)\n",
    "    add_players = input(\"Would you like to add another player? (Yes/No) \")\n",
    "\n",
    "\n",
    "# TODO print the number of players on the team\n",
    "print(\"\\nThere are {} players on the team.\".format(len(players)))\n",
    "\n",
    "# TODO Print the player number and the player name\n",
    "# The player number should start at the number one\n",
    "player_number = 1\n",
    "for player in players:\n",
    "    print(\"Player {}: {}\".format(player_number, player))\n",
    "    player_number += 1\n",
    "\n",
    "# TODO Select a goalkeeper from the above roster\n",
    "keeper = int(input(\"Please select the goal keeper by selecting the player_number. (1-{}) \".format(len(players))))\n",
    "\n",
    "# TODO Print the goal keeper's name\n",
    "# Remember that lists use a zero based index\n",
    "print(\"Great!! The goalkeeper for the game will be {}\".format(players[keeper-1]))"
   ]
  },
  {
   "cell_type": "markdown",
   "metadata": {},
   "source": [
    "# Dictionary"
   ]
  },
  {
   "cell_type": "code",
   "execution_count": 19,
   "metadata": {},
   "outputs": [
    {
     "data": {
      "text/plain": [
       "{'Bakir': ['Davis'],\n",
       " 'Jose': ['Stanford', 'George Town'],\n",
       " 'Pierce': ['Berkeley ']}"
      ]
     },
     "execution_count": 19,
     "metadata": {},
     "output_type": "execute_result"
    }
   ],
   "source": [
    "last_names = ['Bakir','Jose','Jose','Pierce']\n",
    "university = ['Davis', 'Stanford', 'George Town', 'Berkeley ']\n",
    "\n",
    "dictionary = {}\n",
    "for key, value in zip(last_names, university):\n",
    "    if key in dictionary:\n",
    "        dictionary[key].append(value)\n",
    "    else:\n",
    "        dictionary[key] = [value]\n",
    "dictionary"
   ]
  },
  {
   "cell_type": "code",
   "execution_count": 20,
   "metadata": {
    "collapsed": true
   },
   "outputs": [],
   "source": [
    "def easy_donor_rank(percent_donated):\n",
    "    if percent_donated <= 0:\n",
    "        print(\"Error\")\n",
    "    elif percent_donated < 2:\n",
    "        print(\"Bronze\")\n",
    "    elif percent_donated <= 15:\n",
    "        print(\"Silver\")\n",
    "    else:\n",
    "        print(\"Gold\")"
   ]
  },
  {
   "cell_type": "code",
   "execution_count": 21,
   "metadata": {},
   "outputs": [
    {
     "name": "stdout",
     "output_type": "stream",
     "text": [
      "Gold\n"
     ]
    }
   ],
   "source": [
    "easy_donor_rank(16)"
   ]
  },
  {
   "cell_type": "code",
   "execution_count": 22,
   "metadata": {},
   "outputs": [
    {
     "name": "stdout",
     "output_type": "stream",
     "text": [
      "('August 2017', 'September 2018')\n",
      "('November 2018', 'December 2019')\n"
     ]
    }
   ],
   "source": [
    "import re\n",
    "\n",
    "string = [\"From August 2017 - September 2018\",\"From November 2018 to December 2019\"]\n",
    "for st in string:\n",
    "    month = re.search(\"(?P<fmonth>\\w+.\\d+)\\s\\D+\\s(?P<smonth>\\D+.\\d+)\", st)\n",
    "    month = month.groups()\n",
    "    print (month)"
   ]
  },
  {
   "cell_type": "code",
   "execution_count": 23,
   "metadata": {},
   "outputs": [
    {
     "data": {
      "text/plain": [
       "['hi', 'I', 'was', 'a', 'student']"
      ]
     },
     "execution_count": 23,
     "metadata": {},
     "output_type": "execute_result"
    }
   ],
   "source": [
    "mu = [\"hi\", \"I\", \"am\", \"a\", \"student\"]\n",
    "mu[2] = \"was\"\n",
    "mu"
   ]
  },
  {
   "cell_type": "code",
   "execution_count": 24,
   "metadata": {},
   "outputs": [
    {
     "data": {
      "text/plain": [
       "'1;2;3;4;5;6;7;8'"
      ]
     },
     "execution_count": 24,
     "metadata": {},
     "output_type": "execute_result"
    }
   ],
   "source": [
    "nums = [1, 2, 3, 4, 5, 6, 7, 8]\n",
    "x = \";\".join(str(n) for n in nums)\n",
    "x"
   ]
  },
  {
   "cell_type": "code",
   "execution_count": 25,
   "metadata": {
    "collapsed": true
   },
   "outputs": [],
   "source": [
    "string = [[1,\"Hi\",\"World\"],[2,\"Hello\",\"dear\"]]\n",
    "string[0][2] = \"Girl\""
   ]
  },
  {
   "cell_type": "code",
   "execution_count": 26,
   "metadata": {},
   "outputs": [
    {
     "data": {
      "text/plain": [
       "[[1, 'Hi', 'Girl'], [2, 'Hello', 'dear']]"
      ]
     },
     "execution_count": 26,
     "metadata": {},
     "output_type": "execute_result"
    }
   ],
   "source": [
    "string"
   ]
  },
  {
   "cell_type": "code",
   "execution_count": 27,
   "metadata": {},
   "outputs": [
    {
     "data": {
      "text/html": [
       "<div>\n",
       "<style>\n",
       "    .dataframe thead tr:only-child th {\n",
       "        text-align: right;\n",
       "    }\n",
       "\n",
       "    .dataframe thead th {\n",
       "        text-align: left;\n",
       "    }\n",
       "\n",
       "    .dataframe tbody tr th {\n",
       "        vertical-align: top;\n",
       "    }\n",
       "</style>\n",
       "<table border=\"1\" class=\"dataframe\">\n",
       "  <thead>\n",
       "    <tr style=\"text-align: right;\">\n",
       "      <th></th>\n",
       "      <th>A</th>\n",
       "      <th>B</th>\n",
       "      <th>C</th>\n",
       "    </tr>\n",
       "  </thead>\n",
       "  <tbody>\n",
       "    <tr>\n",
       "      <th>0</th>\n",
       "      <td>0</td>\n",
       "      <td>1</td>\n",
       "      <td>5</td>\n",
       "    </tr>\n",
       "    <tr>\n",
       "      <th>1</th>\n",
       "      <td>0</td>\n",
       "      <td>2</td>\n",
       "      <td>7</td>\n",
       "    </tr>\n",
       "    <tr>\n",
       "      <th>2</th>\n",
       "      <td>2</td>\n",
       "      <td>3</td>\n",
       "      <td>2</td>\n",
       "    </tr>\n",
       "    <tr>\n",
       "      <th>3</th>\n",
       "      <td>1</td>\n",
       "      <td>4</td>\n",
       "      <td>5</td>\n",
       "    </tr>\n",
       "  </tbody>\n",
       "</table>\n",
       "</div>"
      ],
      "text/plain": [
       "   A  B  C\n",
       "0  0  1  5\n",
       "1  0  2  7\n",
       "2  2  3  2\n",
       "3  1  4  5"
      ]
     },
     "execution_count": 27,
     "metadata": {},
     "output_type": "execute_result"
    }
   ],
   "source": [
    "df = pd.DataFrame({'A': [0, 0, 2, 1], 'B': [1,2,3,4], 'C' : [5,7,2,5]})\n",
    "df"
   ]
  },
  {
   "cell_type": "code",
   "execution_count": 28,
   "metadata": {},
   "outputs": [
    {
     "name": "stdout",
     "output_type": "stream",
     "text": [
      "(array([0, 0, 1, 1, 2, 2, 2, 3]), array([0, 1, 0, 1, 0, 1, 2, 0]))\n"
     ]
    }
   ],
   "source": [
    "import numpy as np\n",
    "a = np.where(df.values <= 3)\n",
    "print (a)"
   ]
  },
  {
   "cell_type": "code",
   "execution_count": 29,
   "metadata": {
    "collapsed": true
   },
   "outputs": [],
   "source": [
    "rowcol = []\n",
    "for x in range (0,len(a[0])):\n",
    "    rowcol.append([a[0][x],a[1][x]])"
   ]
  },
  {
   "cell_type": "code",
   "execution_count": 30,
   "metadata": {},
   "outputs": [
    {
     "data": {
      "text/plain": [
       "[[0, 0], [0, 1], [1, 0], [1, 1], [2, 0], [2, 1], [2, 2], [3, 0]]"
      ]
     },
     "execution_count": 30,
     "metadata": {},
     "output_type": "execute_result"
    }
   ],
   "source": [
    "rowcol"
   ]
  },
  {
   "cell_type": "code",
   "execution_count": 31,
   "metadata": {},
   "outputs": [
    {
     "data": {
      "text/html": [
       "<div>\n",
       "<style>\n",
       "    .dataframe thead tr:only-child th {\n",
       "        text-align: right;\n",
       "    }\n",
       "\n",
       "    .dataframe thead th {\n",
       "        text-align: left;\n",
       "    }\n",
       "\n",
       "    .dataframe tbody tr th {\n",
       "        vertical-align: top;\n",
       "    }\n",
       "</style>\n",
       "<table border=\"1\" class=\"dataframe\">\n",
       "  <thead>\n",
       "    <tr style=\"text-align: right;\">\n",
       "      <th></th>\n",
       "      <th>col1</th>\n",
       "      <th>col2</th>\n",
       "    </tr>\n",
       "  </thead>\n",
       "  <tbody>\n",
       "    <tr>\n",
       "      <th>0</th>\n",
       "      <td>0.0</td>\n",
       "      <td>0.0</td>\n",
       "    </tr>\n",
       "    <tr>\n",
       "      <th>1</th>\n",
       "      <td>1.0</td>\n",
       "      <td>1.0</td>\n",
       "    </tr>\n",
       "    <tr>\n",
       "      <th>2</th>\n",
       "      <td>2.0</td>\n",
       "      <td>2.0</td>\n",
       "    </tr>\n",
       "    <tr>\n",
       "      <th>3</th>\n",
       "      <td>1.0</td>\n",
       "      <td>1.0</td>\n",
       "    </tr>\n",
       "    <tr>\n",
       "      <th>4</th>\n",
       "      <td>2.0</td>\n",
       "      <td>2.0</td>\n",
       "    </tr>\n",
       "    <tr>\n",
       "      <th>5</th>\n",
       "      <td>3.0</td>\n",
       "      <td>3.0</td>\n",
       "    </tr>\n",
       "  </tbody>\n",
       "</table>\n",
       "</div>"
      ],
      "text/plain": [
       "   col1  col2\n",
       "0   0.0   0.0\n",
       "1   1.0   1.0\n",
       "2   2.0   2.0\n",
       "3   1.0   1.0\n",
       "4   2.0   2.0\n",
       "5   3.0   3.0"
      ]
     },
     "execution_count": 31,
     "metadata": {},
     "output_type": "execute_result"
    }
   ],
   "source": [
    "import pandas as pd\n",
    "df1 = pd.DataFrame({'col1': [0, 1, 2, 1, 2], 'col2': [0, 1, 2, 1, 2]})\n",
    "df2 = pd.DataFrame({'col1': [1, 2, 1, 2, 3], 'col2': [1, 2, 1, 2, 3]})\n",
    "\n",
    "# dfm = pd.concat([df1,df2]).drop_duplicates().reset_index(drop=True)\n",
    "dfm = pd.concat([df1[~df1.eq(df2.shift())],df2]).dropna().reset_index(drop=True)\n",
    "dfm"
   ]
  },
  {
   "cell_type": "code",
   "execution_count": 32,
   "metadata": {
    "scrolled": true
   },
   "outputs": [
    {
     "name": "stdout",
     "output_type": "stream",
     "text": [
      "Number of links: 93\n"
     ]
    },
    {
     "data": {
      "text/plain": [
       "['https://www.youtube.com/channel/UCkhIW5mhF9hwF1CKMkv3ubA',\n",
       " 'https://www.youtube.com/channel/UCmhVgVjxdk8AXMxjTWqF2BQ',\n",
       " 'https://www.youtube.com/channel/UCHRoIQ9M2ZrL9dPgkyE0Rww',\n",
       " 'https://www.youtube.com/channel/UCkndLzXsr_dYlD2I4klg36w',\n",
       " 'https://www.youtube.com/channel/UCpWpxPfeC2B2sBULLTp8nAA',\n",
       " 'https://www.youtube.com/channel/UCtTmX0-RloLWXDEDF_eo0ow',\n",
       " 'https://www.youtube.com/channel/UCHGJ0MxJFIbtFEUEud6TDKA',\n",
       " 'https://www.youtube.com/channel/UCVg9O2Qja5vyyRNV_3nKUcw',\n",
       " 'https://www.youtube.com/channel/UCZbz8mZjzJ0JgYOiytbOqNg',\n",
       " 'https://www.youtube.com/channel/UCEmQX9okZu5EbDppF1Yonfg',\n",
       " 'https://www.youtube.com/channel/UCq-EgxhHVTFWVZcjFwsfnWA',\n",
       " 'https://www.youtube.com/channel/UCPf-3giVvdU55kIBN2CbLRQ',\n",
       " 'https://www.youtube.com/channel/UCDcPQVZsW8kNqsCwdz8p8iw',\n",
       " 'https://www.youtube.com/channel/UCB25kwfY4Iccm6JAy4vAsIA',\n",
       " 'https://www.youtube.com/channel/UCG9FH5_x2WvA8WdOV_STCUQ',\n",
       " 'https://www.youtube.com/channel/UCc_ekHwhgGzI3N0xc26p4Ug',\n",
       " 'https://www.youtube.com/channel/UCZ5NqMkUuK8b62SfgQ6_duQ',\n",
       " 'https://www.youtube.com/channel/UC7Px6i0gOeKZpwCqr0FJypw',\n",
       " 'https://www.youtube.com/channel/UCykhTVrcv6f0m-pz7WEgjEg',\n",
       " 'https://www.youtube.com/channel/UCvpCiIOaLj2mL_2KAtuWFuQ',\n",
       " 'https://www.youtube.com/channel/UCWx5b99NI_cWiU7Iovqi12w',\n",
       " 'https://www.youtube.com/channel/UCKYrCJyJDKZTntknfZ8yZTg',\n",
       " 'https://www.youtube.com/channel/UCiRGy_am4r83bXgUKZMItHQ',\n",
       " 'https://www.youtube.com/channel/UCl_AdkMFUcREpNIDC7AIIXA',\n",
       " 'https://www.youtube.com/channel/UCY8HtIALDS0PMTe42a1d2lg',\n",
       " 'https://www.youtube.com/channel/UCnSN93lghrpqNXz9ayodyQA',\n",
       " 'https://www.youtube.com/channel/UCTOvoiPPbedKgwz72s8GBgw',\n",
       " 'https://www.youtube.com/channel/UC1SlARiB1JznlSbfDYnliFw',\n",
       " 'https://www.youtube.com/channel/UCc-JYR8xVkG_aqoxpHvQNww',\n",
       " 'https://www.youtube.com/channel/UCAzKSODZpDCjZy3rclLbf9g',\n",
       " 'https://www.youtube.com/channel/UC6yYLtu9UAAbneU5h5iEuHg',\n",
       " 'https://www.youtube.com/channel/UC7Gi7zxPy4Fvn69RZ0MjcgA',\n",
       " 'https://www.youtube.com/channel/UCreA2m6tw-ulw-P1OKnxixA',\n",
       " 'https://www.youtube.com/channel/UC6YkXYC6Uu8rD4I4UPUs_YQ',\n",
       " 'https://www.youtube.com/channel/UCmtY-cDQW7eUVS4iL2hbO_w',\n",
       " 'https://www.youtube.com/channel/UCqHXWDqK3CL8fMcQQY8t_OA',\n",
       " 'https://www.youtube.com/channel/UCcJxsVeJj093lU3V9a4C30A',\n",
       " 'https://www.youtube.com/channel/UCmNGsdzyrrWVkVGzmt6o4kA',\n",
       " 'https://www.youtube.com/channel/UCNIomoPKnIqD7uB1AaP9pTg',\n",
       " 'https://www.youtube.com/channel/UCGbLE5klgWflU7CGoNGyLcA',\n",
       " 'https://www.youtube.com/channel/UCiy1CwJA3tu2MTR91j8uESQ',\n",
       " 'https://www.youtube.com/channel/UCdlziXQ_O8knGe93dN7NpCA',\n",
       " 'https://www.youtube.com/channel/UCRksEbYKw40AOHDK8OnB77Q',\n",
       " 'https://www.youtube.com/channel/UCTHpOV0pUPaDRqLrlAwvtjw',\n",
       " 'https://www.youtube.com/channel/UCsRD84iVr2iD8oAp6kMzNLA',\n",
       " 'https://www.youtube.com/channel/UCHbPJfG9X8CZBWgQvF8z31Q',\n",
       " 'https://www.youtube.com/channel/UCUwFcTLCR5gBuBCdcm64JAQ',\n",
       " 'https://www.youtube.com/channel/UCDKVLGjUySsVl0vZuECyW9A',\n",
       " 'https://www.youtube.com/channel/UCGugDislIG8FBy_Sims1mOw',\n",
       " 'https://www.youtube.com/channel/UCMvijYSaazsSrK0D-UmXcrQ',\n",
       " 'https://www.youtube.com/channel/UC3kR0jYwkCczXVnAA2-BLjg',\n",
       " 'https://www.youtube.com/channel/UCOKwLV7wF9rn_PJ4EQEc20A',\n",
       " 'https://www.youtube.com/channel/UCD6oxxcrN7UkGN0mc7OIF0A',\n",
       " 'https://www.youtube.com/channel/UC11LQr1tveRomCINnkdFWyQ',\n",
       " 'https://www.youtube.com/channel/UCnw1LSmu1_27M2RjXn62k3A',\n",
       " 'https://www.youtube.com/channel/UCaOTXOfItfhhNa2elHmFyTg',\n",
       " 'https://www.youtube.com/channel/UCMC3sE74BCvR_UhVl-4urEQ',\n",
       " 'https://www.youtube.com/channel/UCHLHx5FLACwA4CbNxsnVh1w',\n",
       " 'https://www.youtube.com/channel/UCAOQlshoDZ8rYCYe-6mqjhw',\n",
       " 'https://www.youtube.com/channel/UC-TpjcYXVzTcQ_Xl4kMJg4Q',\n",
       " 'https://www.youtube.com/channel/UCthdWXQ_wdjEpeTLLdBuBag',\n",
       " 'https://www.youtube.com/channel/UCe4qlQABlvf_mgEyqX_iQJA',\n",
       " 'https://www.youtube.com/channel/UCHqsm07reRS-I6Qi0xUXukw',\n",
       " 'https://www.youtube.com/channel/UCZdQ2OONPyTfWhensKHkY6g',\n",
       " 'https://www.youtube.com/channel/UCOi_2j6SJ7w1hpmPkke-mNA',\n",
       " 'https://www.youtube.com/channel/UCtj7_sfinesVE9C1xi6Fjcg',\n",
       " 'https://www.youtube.com/channel/UCnbAbDVyRcrcyaG_rgIsk2g',\n",
       " 'https://www.youtube.com/channel/UC_GL65NMuaoav-uaNvuErEg',\n",
       " 'https://www.youtube.com/channel/UCIzjn1QU9kwfDORp_9cOeIg',\n",
       " 'https://www.youtube.com/channel/UCJodP4RP527W3-PcHPRgivg',\n",
       " 'https://www.youtube.com/channel/UC9Q18pZpLlgwbZ4kc8LwtEw',\n",
       " 'https://www.youtube.com/channel/UCUu3vMUm-mOeN1GwfoabqTw',\n",
       " 'https://www.youtube.com/channel/UCrqPuZsYCsY1Z-bhec-6JWg',\n",
       " 'https://www.youtube.com/channel/UCSa_MJjAnkTRd14X6kabfFQ',\n",
       " 'https://www.youtube.com/channel/UC1U9SbQCxHWH2_pzafIlBow',\n",
       " 'https://www.youtube.com/channel/UCzBz2BhFSL25uYEbQ6MyAtg',\n",
       " 'https://www.youtube.com/channel/UCLBka25rnAr55PQ8zlCBGUg',\n",
       " 'https://www.youtube.com/channel/UCctKa6pHYO9JUN6Ez1rP5pA',\n",
       " 'https://www.youtube.com/channel/UCU1e0yNdcEecXm6EkuXWb-g',\n",
       " 'https://www.youtube.com/channel/UCnD5X5-tlqFU4FmZe9sdazA',\n",
       " 'https://www.youtube.com/channel/UCqS4XDZuPar7LJbpH9TzOfA',\n",
       " 'https://www.youtube.com/channel/UCaqUErHGKP9TnzuYe_4OUJQ',\n",
       " 'https://www.youtube.com/channel/UCNeVwb7Mh1xSJoe8XbLaNuw',\n",
       " 'https://www.youtube.com/channel/UCqDL-4FEzkrK351DwhcjpRQ',\n",
       " 'https://www.youtube.com/channel/UCVJeCBCCI4nTee_EHkBk8Ng',\n",
       " 'https://www.youtube.com/channel/UC8LdekRMPbdAM7a27XxpEOA',\n",
       " 'https://www.youtube.com/channel/UChltieQqIvAheFkDQ9gLRVQ',\n",
       " 'https://www.youtube.com/channel/UCVjVn80WSbebT_LqwWAVkDw',\n",
       " 'https://www.youtube.com/channel/UCMMrHLzSe2FXzGVlkiSGW7w',\n",
       " 'https://www.youtube.com/channel/UCcvVEutTvWPAWZ0e_BBR0-Q',\n",
       " 'https://www.youtube.com/channel/UCjNsJnaI-2A7vOUOOFjdXcA',\n",
       " 'https://www.youtube.com/channel/UCsNHkkywUvdJXyJQEwDf2OA',\n",
       " 'https://www.youtube.com/channel/UCpcG5MwAks-At2L-gbSppag']"
      ]
     },
     "execution_count": 32,
     "metadata": {},
     "output_type": "execute_result"
    }
   ],
   "source": [
    "#----------------------------------------------------\n",
    "#Libs\n",
    "#----------------------------------------------------\n",
    "from bs4 import BeautifulSoup\n",
    "import requests\n",
    "\n",
    "#----------------------------------------------------\n",
    "#variables\n",
    "#----------------------------------------------------\n",
    "page = ('http://ranking.vstars.pl/?side=96&&sort=month_change')\n",
    "\n",
    "#----------------------------------------------------                 \n",
    "#functions\n",
    "#----------------------------------------------------\n",
    "def scraper():\n",
    "    x=0\n",
    "    target = requests.get(page)\n",
    "    soup = BeautifulSoup(target.text, 'html.parser')\n",
    "    \n",
    "    links = []\n",
    "    for td in soup.find_all(\"td\", class_= \"href\"):\n",
    "        for link in td.find_all(\"a\"):\n",
    "            links.append(link['href'])\n",
    "            x += 1\n",
    "    print (\"Number of links:\" , x)\n",
    "    return links\n",
    "\n",
    "#----------------------------------------------------  \n",
    "#codes\n",
    "#----------------------------------------------------\n",
    "scraper()"
   ]
  },
  {
   "cell_type": "code",
   "execution_count": 33,
   "metadata": {},
   "outputs": [
    {
     "name": "stdout",
     "output_type": "stream",
     "text": [
      "Hello world\n"
     ]
    }
   ],
   "source": [
    "raw_text = \"!!/ world\"\n",
    "new_text = \"Hello\"\n",
    "\n",
    "s = re.sub('!!\\/', new_text, raw_text)\n",
    "print (s)"
   ]
  },
  {
   "cell_type": "code",
   "execution_count": 34,
   "metadata": {},
   "outputs": [
    {
     "name": "stdout",
     "output_type": "stream",
     "text": [
      "hello my name is michael 5\n",
      "hello michael is my names 5\n",
      "hello michaela is my name 5\n",
      "hello my brother is Michaelangelo 4\n",
      "hello my name is michelle 4\n",
      "hello i am Michael 2\n",
      "hello my lastname is michael 4\n",
      "hello michael 2\n",
      "hello my name is michael brown 5\n"
     ]
    }
   ],
   "source": [
    "l=['hello my name is michael',\n",
    "    'hello michael is my names',\n",
    "    'hello michaela is my name',\n",
    "    'hello my brother is Michaelangelo',\n",
    "    'hello my name is michelle',\n",
    "    'hello i am Michael',\n",
    "    'hello my lastname is michael',\n",
    "    'hello michael',\n",
    "    'hello my name is michael brown']\n",
    "\n",
    "s = \"hello my name is michael\"\n",
    "\n",
    "s = s.lower().split()\n",
    "for item in l:\n",
    "    d = item.lower().split()\n",
    "    count = 0\n",
    "    for ss in s:\n",
    "        try:\n",
    "            if ss in d or re.search(ss+\"\\w+\",item.lower()).group() in d:\n",
    "                count += 1\n",
    "        except:\n",
    "            pass\n",
    "    print (item, count)"
   ]
  },
  {
   "cell_type": "code",
   "execution_count": 35,
   "metadata": {},
   "outputs": [
    {
     "data": {
      "text/plain": [
       "'michaela'"
      ]
     },
     "execution_count": 35,
     "metadata": {},
     "output_type": "execute_result"
    }
   ],
   "source": [
    "strings = 'hello michaela is my name'\n",
    "string = strings.split()\n",
    "s = \"michael\"\n",
    "zz = re.search(\"michael\\w+\",strings).group()\n",
    "zz"
   ]
  },
  {
   "cell_type": "code",
   "execution_count": 36,
   "metadata": {},
   "outputs": [
    {
     "name": "stdout",
     "output_type": "stream",
     "text": [
      "A FAST STRING SEARCHING ALGORITHM\n",
      "a fast string searching algorithm\n",
      "A Fast String Searching Algorithm\n"
     ]
    }
   ],
   "source": [
    "string = \"A FAST string searching algorithm\"\n",
    "print (string.upper())\n",
    "print (string.lower())\n",
    "print (string.title())"
   ]
  },
  {
   "cell_type": "code",
   "execution_count": 37,
   "metadata": {},
   "outputs": [
    {
     "name": "stdout",
     "output_type": "stream",
     "text": [
      "Do you want a copy of the answers? y\n",
      "Do you want a copy of the answers? no\n"
     ]
    }
   ],
   "source": [
    "# final_answer_check = True\n",
    "while True:\n",
    "    try:\n",
    "        final_answer = str(input(\"Do you want a copy of the answers? \"))\n",
    "        if final_answer.lower() == \"no\":\n",
    "            break\n",
    "    except:\n",
    "        pass"
   ]
  },
  {
   "cell_type": "code",
   "execution_count": 38,
   "metadata": {},
   "outputs": [
    {
     "name": "stdout",
     "output_type": "stream",
     "text": [
      "A: 12\n",
      "First Opporator (+ or -): +\n",
      "B: 2\n",
      "First Opporator (+ or -): +\n",
      "C: 3\n",
      "\n",
      "12X^2+2X+3\n",
      "\n",
      "Is this Right? (yes or no): yes\n",
      "2 3\n",
      "2\n",
      "1\n",
      "1\n",
      "2\n"
     ]
    }
   ],
   "source": [
    "while True:\n",
    "    try:\n",
    "        a = int(input(\"A: \"))\n",
    "        op1 = input(\"First Opporator (+ or -): \")\n",
    "        if op1 != \"+\" and op1 != \"-\":\n",
    "            print (\"\\n\\nValue Error... Try Again\")\n",
    "            continue\n",
    "        b = int(input(\"B: \"))\n",
    "        op2 = input(\"First Opporator (+ or -): \")\n",
    "        if op2 != \"+\" and op2 != \"-\":\n",
    "            print (\"\\n\\nValue Error... Try Again\")  \n",
    "            continue\n",
    "        c = int(input(\"C: \"))\n",
    "    except ValueError:\n",
    "        print (\"\\n\\nValue Error... Try Again\")\n",
    "        continue\n",
    "    print (\"\\n\" + str(a) + \"X^2\" + op1 + str(b) + \"X\" + op2 + str(c) + \"\\n\")\n",
    "    correct_equation = input(\"Is this Right? (yes or no): \")\n",
    "    if correct_equation == \"yes\":\n",
    "        break\n",
    "\n",
    "\n",
    "c_factors = []\n",
    "for i in range(1,c+1):\n",
    "    if c % i == 0:\n",
    "        c_factors.append(i) #finds factors of C\n",
    "\n",
    "\n",
    "if op1 == \"-\": #turns b negative if op1 is -\n",
    "    b = -b\n",
    "\n",
    "if op1 == \"-\": # turns c negative if op2 is -\n",
    "    c = -c\n",
    "\n",
    "print (b,c)\n",
    "\n",
    "for i in range(1, c+1):\n",
    "    for x in range(1, c+1):\n",
    "        if x+i == c or x-i == c or i-x == c:\n",
    "            print (x)\n",
    "            print (i)"
   ]
  },
  {
   "cell_type": "code",
   "execution_count": 39,
   "metadata": {},
   "outputs": [
    {
     "data": {
      "text/html": [
       "<div>\n",
       "<style>\n",
       "    .dataframe thead tr:only-child th {\n",
       "        text-align: right;\n",
       "    }\n",
       "\n",
       "    .dataframe thead th {\n",
       "        text-align: left;\n",
       "    }\n",
       "\n",
       "    .dataframe tbody tr th {\n",
       "        vertical-align: top;\n",
       "    }\n",
       "</style>\n",
       "<table border=\"1\" class=\"dataframe\">\n",
       "  <thead>\n",
       "    <tr style=\"text-align: right;\">\n",
       "      <th></th>\n",
       "      <th>Jeep</th>\n",
       "      <th>Volvo</th>\n",
       "      <th>Honda</th>\n",
       "    </tr>\n",
       "  </thead>\n",
       "  <tbody>\n",
       "    <tr>\n",
       "      <th>0</th>\n",
       "      <td>7.0</td>\n",
       "      <td>0.0</td>\n",
       "      <td>5.0</td>\n",
       "    </tr>\n",
       "  </tbody>\n",
       "</table>\n",
       "</div>"
      ],
      "text/plain": [
       "   Jeep  Volvo  Honda\n",
       "0   7.0    0.0    5.0"
      ]
     },
     "execution_count": 39,
     "metadata": {},
     "output_type": "execute_result"
    }
   ],
   "source": [
    "import pandas as pd\n",
    "df = pd.DataFrame(columns=['Jeep', 'Volvo', 'Honda'])\n",
    "s = pd.Series([5, 3, 7, 2],index=['Honda', 'Nissan', 'Jeep', 'Toyota'])\n",
    "df1 = df.append(s, ignore_index=True)\n",
    "df1[df.columns].fillna(0)"
   ]
  },
  {
   "cell_type": "code",
   "execution_count": 40,
   "metadata": {},
   "outputs": [
    {
     "name": "stdout",
     "output_type": "stream",
     "text": [
      "3\n",
      "1\n",
      "3 = {1}\n"
     ]
    }
   ],
   "source": [
    "name_of_set = input(\"\")\n",
    "sets = input(\"\")\n",
    "\n",
    "setA = \"{\"\n",
    "elements = sets.split(\" \")\n",
    "x = \"\"\n",
    "for element in elements:\n",
    "    x += element + \",\"\n",
    "x = x[:-1]    \n",
    "setA += x\n",
    "setA += \"}\"\n",
    "\n",
    "print (name_of_set + \" = \" + setA)"
   ]
  },
  {
   "cell_type": "code",
   "execution_count": 349,
   "metadata": {},
   "outputs": [
    {
     "name": "stdout",
     "output_type": "stream",
     "text": [
      "If 5 rounds have passed, enter any other key:\n",
      "Count =  1\n",
      "Count =  2\n",
      "Count =  3\n",
      "Count =  4\n",
      "Count =  5\n",
      "Do you want to continue to the next round?(Yes/No)y\n",
      "Count =  1\n",
      "Count =  2\n",
      "Count =  3\n",
      "Count =  4\n",
      "Count =  5\n",
      "Do you want to continue to the next round?(Yes/No)n\n",
      "Thank you, have a nice day\n"
     ]
    }
   ],
   "source": [
    "import time\n",
    "\n",
    "def round_5():\n",
    "    count = 1\n",
    "    while count <= 5:\n",
    "        print (\"Count = \",count)\n",
    "        count += 1\n",
    "        time.sleep(1)\n",
    "nextr = \"y\"\n",
    "print (\"If 5 rounds have passed, enter any other key:\")\n",
    "while nextr.lower() in (\"yes\",\"y\"): \n",
    "    round_5()\n",
    "    nextr = (input(\"Do you want to continue to the next round?(Yes/No)\"))\n",
    "print (\"Thank you, have a nice day\")"
   ]
  },
  {
   "cell_type": "code",
   "execution_count": 443,
   "metadata": {},
   "outputs": [
    {
     "name": "stdout",
     "output_type": "stream",
     "text": [
      "No of Cities:  4\n"
     ]
    }
   ],
   "source": [
    "data = [{'City': ['Solta','Abec'], 'Country': 'Croatia'},\n",
    " {'City': 'Greenville', 'Country': 'USA'},\n",
    " {'City': 'Buenos Aires', 'Country': 'Argentina'},\n",
    " {'City': 'Los Cabos', 'Country': 'Mexico'}]\n",
    "\n",
    "count = 0\n",
    "for i in range(len(data)):\n",
    "    if('City' in data[i].keys()):\n",
    "        count = count+1\n",
    "print('No of Cities: ',count)"
   ]
  },
  {
   "cell_type": "code",
   "execution_count": 444,
   "metadata": {},
   "outputs": [
    {
     "data": {
      "text/html": [
       "<div>\n",
       "<style>\n",
       "    .dataframe thead tr:only-child th {\n",
       "        text-align: right;\n",
       "    }\n",
       "\n",
       "    .dataframe thead th {\n",
       "        text-align: left;\n",
       "    }\n",
       "\n",
       "    .dataframe tbody tr th {\n",
       "        vertical-align: top;\n",
       "    }\n",
       "</style>\n",
       "<table border=\"1\" class=\"dataframe\">\n",
       "  <thead>\n",
       "    <tr style=\"text-align: right;\">\n",
       "      <th></th>\n",
       "      <th>City</th>\n",
       "      <th>Country</th>\n",
       "    </tr>\n",
       "  </thead>\n",
       "  <tbody>\n",
       "    <tr>\n",
       "      <th>0</th>\n",
       "      <td>[Solta, Abec]</td>\n",
       "      <td>Croatia</td>\n",
       "    </tr>\n",
       "    <tr>\n",
       "      <th>1</th>\n",
       "      <td>Greenville</td>\n",
       "      <td>USA</td>\n",
       "    </tr>\n",
       "    <tr>\n",
       "      <th>2</th>\n",
       "      <td>Buenos Aires</td>\n",
       "      <td>Argentina</td>\n",
       "    </tr>\n",
       "    <tr>\n",
       "      <th>3</th>\n",
       "      <td>Los Cabos</td>\n",
       "      <td>Mexico</td>\n",
       "    </tr>\n",
       "  </tbody>\n",
       "</table>\n",
       "</div>"
      ],
      "text/plain": [
       "            City    Country\n",
       "0  [Solta, Abec]    Croatia\n",
       "1     Greenville        USA\n",
       "2   Buenos Aires  Argentina\n",
       "3      Los Cabos     Mexico"
      ]
     },
     "execution_count": 444,
     "metadata": {},
     "output_type": "execute_result"
    }
   ],
   "source": [
    "dfcity = pd.DataFrame(data)\n",
    "dfcity"
   ]
  },
  {
   "cell_type": "code",
   "execution_count": 381,
   "metadata": {},
   "outputs": [
    {
     "name": "stdout",
     "output_type": "stream",
     "text": [
      "{'City': ['Solta', 'Abec'], 'Country': 'Croatia'}\n",
      "City 2\n",
      "Country 1\n",
      "{'City': 'Greenville', 'Country': 'USA'}\n",
      "City 1\n",
      "Country 1\n",
      "{'City': 'Buenos Aires', 'Country': 'Argentina'}\n",
      "City 1\n",
      "Country 1\n",
      "{'City': 'Los Cabos', 'Country': 'Mexico'}\n",
      "City 1\n",
      "Country 1\n"
     ]
    }
   ],
   "source": [
    "for d in data:\n",
    "    print (d)\n",
    "    for key in d:\n",
    "        if type(d[key]) != list:\n",
    "            cls = [d[key]]\n",
    "        else:\n",
    "            cls = d[key]\n",
    "        print (key, len(cls))"
   ]
  },
  {
   "cell_type": "code",
   "execution_count": 394,
   "metadata": {},
   "outputs": [
    {
     "name": "stdout",
     "output_type": "stream",
     "text": [
      "['High Noon 2019 04 05 720p HDTV DD5 1 ', 'Wyatt Cenacs Problem Areas S02E01 ', 'Bondi Vet S05E15 ', 'If Loving You Is Wrong S04E03 ', 'Wyatt Cenacs Problem Areas S02E01 ', 'Bondi Vet S05E15 ']\n"
     ]
    }
   ],
   "source": [
    "myresult_tv = ['Extinct A Horizon Guide to Dinosaurs WEB h264-WEBTUBE', 'High Noon 2019 04 05 720p HDTV DD5 1 MPEG2-NTb', 'Wyatt Cenacs Problem Areas S02E01 1080p WEBRip x264-eSc', 'Bondi Vet S05E15 720p WEB x264-GIMINI', 'If Loving You Is Wrong S04E03 Randals Stage HDTV x264-CRiMSON', 'Wyatt Cenacs Problem Areas S02E01 WEBRip x264-eSc', 'Bondi Vet S05E15 1080p WEB x264-GIMINI']\n",
    "\n",
    "li = []\n",
    "for a in myresult_tv:\n",
    "    try:\n",
    "        w = re.search(\"(.*\\d )\", a)   # regex = (.*[0-9].)\\s+[a-z0-9]\n",
    "        c = w.group()\n",
    "        li.append(c)\n",
    "    except:\n",
    "        pass\n",
    "\n",
    "print(li)"
   ]
  },
  {
   "cell_type": "code",
   "execution_count": 41,
   "metadata": {},
   "outputs": [
    {
     "name": "stdout",
     "output_type": "stream",
     "text": [
      "['dog', 'cat', 'cat', 'cat', 'dog', 'pig', 'cat', 'pig', 'lion']\n",
      "[1, 0, 0, 0, 1, 2, 0, 2, 'NA']\n"
     ]
    }
   ],
   "source": [
    "list1 = ['cat','dog','pig']\n",
    "list2 = ['dog','cat','cat','cat','dog','pig','cat','pig','lion']\n",
    "\n",
    "print (list2)\n",
    "# i = 0\n",
    "for i,item in enumerate(list2):\n",
    "    if item in list1:\n",
    "        list2[i] = list1.index(item)\n",
    "    else:       # in case if the element in list2 is not in list1\n",
    "        list2[i] = 'NA'\n",
    "#     i += 1\n",
    "print (list2)"
   ]
  },
  {
   "cell_type": "code",
   "execution_count": 42,
   "metadata": {},
   "outputs": [
    {
     "name": "stdout",
     "output_type": "stream",
     "text": [
      "[]\n",
      "['https://www.instagram.com/p/BvluRHRhN16/']\n",
      "['www.instagram.com/p/BvluRHRhN16/']\n",
      "[]\n",
      "['https://www.instagram.com/p/BvnyDjXnHl5/']\n",
      "['http://google.com/p/BvluRHRhN16/somepaths/instagram.com/p/somepath/']\n"
     ]
    }
   ],
   "source": [
    "msg =['hello there http://google.com/p/BvluRHRhN16/ this is a test',\n",
    "      'hello there https://www.instagram.com/p/BvluRHRhN16/',\n",
    "      'hello there www.instagram.com/p/BvluRHRhN16/ this is a test',\n",
    "      'hello there https://www.instagram.net/p/BvluRHRhN16/ this is a test',\n",
    "      'https://www.instagram.com/p/BvnyDjXnHl5/ hello there',\n",
    "      'http://google.com/p/BvluRHRhN16/somepaths/instagram.com/p/somepath/'\n",
    "     ]\n",
    "for m in msg:\n",
    "    ms = re.findall('(http.*instagram\\.com\\/p.+\\/|www.*instagram\\.com\\/p.+\\/)',m)\n",
    "    print(ms)"
   ]
  },
  {
   "cell_type": "code",
   "execution_count": 43,
   "metadata": {},
   "outputs": [
    {
     "name": "stdout",
     "output_type": "stream",
     "text": [
      "x: 4\n",
      "y: 1\n"
     ]
    },
    {
     "data": {
      "text/plain": [
       "[[4, 1]]"
      ]
     },
     "execution_count": 43,
     "metadata": {},
     "output_type": "execute_result"
    }
   ],
   "source": [
    "def parse_list(str_x, str_y):\n",
    "    return list(map(list, zip(map(int, str_x.split(',')), map(int, str_y.split(',')))))\n",
    "        \n",
    "str_x = input('x: ')\n",
    "str_y = input('y: ')\n",
    "parse_list(str_x, str_y)"
   ]
  },
  {
   "cell_type": "code",
   "execution_count": 44,
   "metadata": {},
   "outputs": [
    {
     "data": {
      "text/plain": [
       "[[1], [2, 3], [3, 4, 5], [2], [3, 4], [3]]"
      ]
     },
     "execution_count": 44,
     "metadata": {},
     "output_type": "execute_result"
    }
   ],
   "source": [
    "h = [1, 2, 3, 2, 3, 3]\n",
    "n = [[0], [0, 1], [0, 1, 2], [0], [0, 1], [0]]\n",
    "\n",
    "z=[[z + x for z in y ]for x , y in zip(h,n)]\n",
    "z"
   ]
  },
  {
   "cell_type": "code",
   "execution_count": 91,
   "metadata": {},
   "outputs": [
    {
     "name": "stdout",
     "output_type": "stream",
     "text": [
      "hello lock python lock awesome\n"
     ]
    }
   ],
   "source": [
    "string =\"hello <abc123> python <is456> awesome\"\n",
    "s = re.sub('\\<(.+?)\\>','lock',string)\n",
    "print (s)"
   ]
  },
  {
   "cell_type": "code",
   "execution_count": 406,
   "metadata": {
    "collapsed": true
   },
   "outputs": [],
   "source": [
    "from urllib.request import urlopen as uReq\n",
    "from bs4 import BeautifulSoup as soup"
   ]
  },
  {
   "cell_type": "code",
   "execution_count": 107,
   "metadata": {},
   "outputs": [
    {
     "name": "stdout",
     "output_type": "stream",
     "text": [
      "[<tr><td><a href=\"#\" onclick=\"loadMoreGames(); return false;\">Show more matches</a></td></tr>]\n"
     ]
    }
   ],
   "source": [
    "my_url = \"https://www.flashscore.com/football/germany/bundesliga/results/\"\n",
    "\n",
    "uClient = uReq(my_url)\n",
    "page_html = uClient.read()\n",
    "page_soup = soup(page_html, \"html.parser\")\n",
    "\n",
    "tr = page_soup.find_all(\"tr\")\n",
    "print (tr)"
   ]
  },
  {
   "cell_type": "code",
   "execution_count": 431,
   "metadata": {
    "scrolled": true
   },
   "outputs": [
    {
     "name": "stdout",
     "output_type": "stream",
     "text": [
      "197.00\n"
     ]
    }
   ],
   "source": [
    "my_url = \"https://finance.yahoo.com/quote/AAPL?p=AAPL&.tsrc=fin-srch\"\n",
    "u_client = uReq(my_url)\n",
    "\n",
    "page_html = u_client.read()\n",
    "u_client.close()\n",
    "\n",
    "page_soup = soup(page_html, \"html.parser\")\n",
    "for container in page_soup.find_all('span',{\"class\":\"Trsdu(0.3s) Trsdu(0.3s) Fw(b) Fz(36px) Mb(-4px) D(b)\"}):\n",
    "    print (container.text)"
   ]
  },
  {
   "cell_type": "markdown",
   "metadata": {},
   "source": [
    "# Selenium"
   ]
  },
  {
   "cell_type": "code",
   "execution_count": 518,
   "metadata": {
    "scrolled": true
   },
   "outputs": [
    {
     "name": "stdout",
     "output_type": "stream",
     "text": [
      "price: 21,48 €+ 3,00 €Μεταφορικά+ 2,00 €Αντικαταβολή26,48 € seller: Toys24 availability: Παράδοση 1 έως 3 ημέρες\n",
      "price: 21,98 €+ 4,50 €Μεταφορικά+ 0,00 €Αντικαταβολή26,48 € seller: Quickshop availability: Άμεση παραλαβή / Παράδοση 1 έως 3 ημέρες\n",
      "price: 21,98 €+ 3,00 €Μεταφορικά+ 2,00 €Αντικαταβολή26,98 € seller: GamesHero availability: Άμεση παραλαβή / Παράδοση 1 έως 3 ημέρες\n",
      "price: 21,99 €+ 0,00 €Μεταφορικά+ 2,00 €Αντικαταβολή23,99 € seller: Toycity availability: Άμεση παραλαβή / Παράδοση 1 έως 3 ημέρες\n",
      "price: 22,41 €+ 3,00 €Μεταφορικά+ 2,00 €Αντικαταβολή27,41 € seller: Besttoys availability: Άμεση παραλαβή / Παράδοση 1 έως 3 ημέρες\n",
      "price: 22,49 €+ 2,90 €Μεταφορικά+ 1,00 €Αντικαταβολή26,39 € seller: Efantasy availability: Άμεση παραλαβή / Παράδοση 1 έως 3 ημέρες\n",
      "price: 22,49 €+ 3,00 €Μεταφορικά+ 2,00 €Αντικαταβολή27,49 € seller: Perfectoys availability: Άμεση παραλαβή / Παράδοση 1 έως 3 ημέρες\n",
      "price: 24,90 €+ 3,00 €Μεταφορικά+ 2,00 €Αντικαταβολή29,90 € seller: My-toy availability: Άμεση παραλαβή / Παράδοση 1 έως 3 ημέρες\n",
      "price: 24,95 €+ 2,90 €Μεταφορικά+ 2,35 €Αντικαταβολή30,20 € seller: Oikonomou availability: Άμεση παραλαβή / Παράδοση 1 έως 3 ημέρες\n",
      "price: 24,95 €+ 3,00 €Μεταφορικά+ 2,00 €Αντικαταβολή29,95 € seller: TrenakiToys availability: Άμεση παραλαβή / Παράδοση 1 έως 3 ημέρες\n",
      "price: 24,99 €+ 3,00 €Μεταφορικά+ 1,50 €Αντικαταβολή29,49 € seller: Toys4u availability: Παράδοση 1 έως 3 ημέρες\n",
      "price: 24,99 €+ 1,90 €Μεταφορικά+ 1,90 €Αντικαταβολή28,79 € seller: Eshop4all availability: Άμεση παραλαβή / Παράδοση 1 έως 3 ημέρες\n",
      "price: 24,99 €+ 3,00 €Μεταφορικά+ 2,00 €Αντικαταβολή29,99 € seller: Toys-shop availability: Άμεση παραλαβή / Παράδοση 1 έως 3 ημέρες\n",
      "price: 24,99 €+ 3,00 €Μεταφορικά+ 2,00 €Αντικαταβολή29,99 € seller: YuppieToys availability: Άμεση παραλαβή / Παράδοση 1 έως 3 ημέρες\n",
      "price: 24,99 €+ 3,00 €Μεταφορικά+ 2,00 €Αντικαταβολή29,99 € seller: Happytoys availability: Παράδοση 1 έως 3 ημέρες\n",
      "price: 26,99 €+ 3,00 €Μεταφορικά+ 2,00 €Αντικαταβολή31,99 € seller: Bambino baby availability: Άμεση παραλαβή / Παράδοση 1 έως 3 ημέρες\n"
     ]
    }
   ],
   "source": [
    "import time, os\n",
    "\n",
    "from selenium import webdriver\n",
    "from selenium.webdriver.common.keys import Keys\n",
    "\n",
    "userhome = os.path.expanduser('~')\n",
    "browser = webdriver.Chrome(userhome + r'/local-repo/chromedriver')\n",
    "\n",
    "browser.get(\"https://www.skroutz.gr/s/15013958/Hasbro-Monopoly-Classic-Game.html\")\n",
    "time.sleep(1)\n",
    "\n",
    "elem = browser.find_element_by_tag_name(\"body\")\n",
    "\n",
    "no_of_pagedowns = 20\n",
    "\n",
    "while no_of_pagedowns:\n",
    "    elem.send_keys(Keys.PAGE_DOWN)\n",
    "    time.sleep(0.2)\n",
    "    no_of_pagedowns-=1\n",
    "\n",
    "post_elems = browser.find_elements_by_css_selector(\".card.js-product-card\")\n",
    "\n",
    "details = []\n",
    "for post in post_elems:\n",
    "    price = post.find_element_by_css_selector(\".price\").text.replace(\"\\n\",\"\")\n",
    "    seller = post.find_element_by_css_selector(\".shop-name\").text.replace(\"\\n\",\"\")\n",
    "    availability = post.find_element_by_css_selector(\"p.availability\").text.replace(\"\\n\",\"\")\n",
    "    temp = [price, seller, availability]\n",
    "    details.append(temp)\n",
    "    print(f'price: {price} seller: {seller} availability: {availability}')"
   ]
  },
  {
   "cell_type": "code",
   "execution_count": 519,
   "metadata": {},
   "outputs": [
    {
     "data": {
      "text/plain": [
       "[['21,48 €+ 3,00 €Μεταφορικά+ 2,00 €Αντικαταβολή26,48 €',\n",
       "  'Toys24',\n",
       "  'Παράδοση 1 έως 3 ημέρες'],\n",
       " ['21,98 €+ 4,50 €Μεταφορικά+ 0,00 €Αντικαταβολή26,48 €',\n",
       "  'Quickshop',\n",
       "  'Άμεση παραλαβή / Παράδοση 1 έως 3 ημέρες'],\n",
       " ['21,98 €+ 3,00 €Μεταφορικά+ 2,00 €Αντικαταβολή26,98 €',\n",
       "  'GamesHero',\n",
       "  'Άμεση παραλαβή / Παράδοση 1 έως 3 ημέρες'],\n",
       " ['21,99 €+ 0,00 €Μεταφορικά+ 2,00 €Αντικαταβολή23,99 €',\n",
       "  'Toycity',\n",
       "  'Άμεση παραλαβή / Παράδοση 1 έως 3 ημέρες'],\n",
       " ['22,41 €+ 3,00 €Μεταφορικά+ 2,00 €Αντικαταβολή27,41 €',\n",
       "  'Besttoys',\n",
       "  'Άμεση παραλαβή / Παράδοση 1 έως 3 ημέρες'],\n",
       " ['22,49 €+ 2,90 €Μεταφορικά+ 1,00 €Αντικαταβολή26,39 €',\n",
       "  'Efantasy',\n",
       "  'Άμεση παραλαβή / Παράδοση 1 έως 3 ημέρες'],\n",
       " ['22,49 €+ 3,00 €Μεταφορικά+ 2,00 €Αντικαταβολή27,49 €',\n",
       "  'Perfectoys',\n",
       "  'Άμεση παραλαβή / Παράδοση 1 έως 3 ημέρες'],\n",
       " ['24,90 €+ 3,00 €Μεταφορικά+ 2,00 €Αντικαταβολή29,90 €',\n",
       "  'My-toy',\n",
       "  'Άμεση παραλαβή / Παράδοση 1 έως 3 ημέρες'],\n",
       " ['24,95 €+ 2,90 €Μεταφορικά+ 2,35 €Αντικαταβολή30,20 €',\n",
       "  'Oikonomou',\n",
       "  'Άμεση παραλαβή / Παράδοση 1 έως 3 ημέρες'],\n",
       " ['24,95 €+ 3,00 €Μεταφορικά+ 2,00 €Αντικαταβολή29,95 €',\n",
       "  'TrenakiToys',\n",
       "  'Άμεση παραλαβή / Παράδοση 1 έως 3 ημέρες'],\n",
       " ['24,99 €+ 3,00 €Μεταφορικά+ 1,50 €Αντικαταβολή29,49 €',\n",
       "  'Toys4u',\n",
       "  'Παράδοση 1 έως 3 ημέρες'],\n",
       " ['24,99 €+ 1,90 €Μεταφορικά+ 1,90 €Αντικαταβολή28,79 €',\n",
       "  'Eshop4all',\n",
       "  'Άμεση παραλαβή / Παράδοση 1 έως 3 ημέρες'],\n",
       " ['24,99 €+ 3,00 €Μεταφορικά+ 2,00 €Αντικαταβολή29,99 €',\n",
       "  'Toys-shop',\n",
       "  'Άμεση παραλαβή / Παράδοση 1 έως 3 ημέρες'],\n",
       " ['24,99 €+ 3,00 €Μεταφορικά+ 2,00 €Αντικαταβολή29,99 €',\n",
       "  'YuppieToys',\n",
       "  'Άμεση παραλαβή / Παράδοση 1 έως 3 ημέρες'],\n",
       " ['24,99 €+ 3,00 €Μεταφορικά+ 2,00 €Αντικαταβολή29,99 €',\n",
       "  'Happytoys',\n",
       "  'Παράδοση 1 έως 3 ημέρες'],\n",
       " ['26,99 €+ 3,00 €Μεταφορικά+ 2,00 €Αντικαταβολή31,99 €',\n",
       "  'Bambino baby',\n",
       "  'Άμεση παραλαβή / Παράδοση 1 έως 3 ημέρες']]"
      ]
     },
     "execution_count": 519,
     "metadata": {},
     "output_type": "execute_result"
    }
   ],
   "source": [
    "details"
   ]
  },
  {
   "cell_type": "code",
   "execution_count": null,
   "metadata": {
    "collapsed": true
   },
   "outputs": [],
   "source": []
  },
  {
   "cell_type": "code",
   "execution_count": 449,
   "metadata": {},
   "outputs": [
    {
     "name": "stdout",
     "output_type": "stream",
     "text": [
      "China    1\n",
      "Italy    1\n",
      "Japan    1\n",
      "cat      2\n",
      "dog      2\n",
      "tiger    1\n",
      "dtype: int64\n"
     ]
    }
   ],
   "source": [
    "from collections import Counter\n",
    "\n",
    "data = [{'Col_A': 'animal', 'Col_B': ['cat','dog','tiger']},\n",
    "        {'Col_A': 'place', 'Col_B':['Italy','China','Japan']},\n",
    "        {'Col_A': 'pets', 'Col_B':['cat','dog']}]\n",
    "\n",
    "df = pd.DataFrame(data)\n",
    "s = pd.Series(Counter([y for x in df['Col_B'] for y in x]))\n",
    "print (s)"
   ]
  },
  {
   "cell_type": "code",
   "execution_count": 111,
   "metadata": {},
   "outputs": [
    {
     "data": {
      "text/plain": [
       "['2,20190327.1.csv.gz',\n",
       " '3,20190327.23.csv.gz',\n",
       " '4,20190327.21302.csv.gz',\n",
       " '2,20190327.24562.csv.gz']"
      ]
     },
     "execution_count": 111,
     "metadata": {},
     "output_type": "execute_result"
    }
   ],
   "source": [
    "text = \"\"\"2,20190327.1.csv.gz\n",
    "3,20190327.23.csv.gz\n",
    "4,20190327.21302.csv.gz\n",
    "2,20190327.24562.csv.gz\"\"\"\n",
    "\n",
    "splittext = text.split(\"\\n\")\n",
    "splittext"
   ]
  },
  {
   "cell_type": "code",
   "execution_count": 125,
   "metadata": {
    "scrolled": true
   },
   "outputs": [
    {
     "name": "stdout",
     "output_type": "stream",
     "text": [
      "['N', 'N', 'N', 'N', 'N', 'N', 'N', 'N', 'N', 'N', 'N', 'N', 'N', 'N', 'N', 'N', 'N', 'B', 'E', 'N', 'E', 'N', 'N', 'N', 'N', 'B', 'E', 'N', 'B', 'B', 'B', 'B', 'B', 'B', 'B', 'N', 'E', 'N', 'B', 'N', 'N', 'N']\n"
     ]
    }
   ],
   "source": [
    "N, B, E = \"N\", \"B\", \"E\"\n",
    "Data6 = [N, N, N, N, N, N, N]\n",
    "Data5 = [N, N, N, N, N, N, N]\n",
    "Data4 = [N, N, N, B, E, N, E]\n",
    "Data3 = [N, N, N, N, B, E, N]\n",
    "Data2 = [B, B, B, B, B, B, B]\n",
    "Data1 = [N, E, N, B, N, N, N]\n",
    "\n",
    "data = [Data6,\n",
    "        Data5,\n",
    "        Data4,\n",
    "        Data3,\n",
    "        Data2,\n",
    "        Data1]\n",
    "\n",
    "new_data = []\n",
    "for dt in data:\n",
    "    new_data = new_data + dt\n",
    "print (new_data)"
   ]
  },
  {
   "cell_type": "code",
   "execution_count": 504,
   "metadata": {},
   "outputs": [
    {
     "data": {
      "text/plain": [
       "[['apples'], ['apples'], ['apples']]"
      ]
     },
     "execution_count": 504,
     "metadata": {},
     "output_type": "execute_result"
    }
   ],
   "source": [
    "txt = [[\"\"],[\"\"],[\"\"]]\n",
    "txt = [[x if not x==\"\" else 'apples' for x in sublist] for sublist in txt]\n",
    "txt"
   ]
  },
  {
   "cell_type": "code",
   "execution_count": null,
   "metadata": {},
   "outputs": [],
   "source": []
  },
  {
   "cell_type": "code",
   "execution_count": 130,
   "metadata": {},
   "outputs": [
    {
     "name": "stdout",
     "output_type": "stream",
     "text": [
      "True\n",
      "\n",
      "The line is True\n"
     ]
    }
   ],
   "source": [
    "import linecache\n",
    "\n",
    "test = open('test1.txt', 'w+')\n",
    "test.write('Test\\n')\n",
    "test.write('True\\n')\n",
    "test.close()\n",
    "read = linecache.getline('test1.txt', 2)\n",
    "print(read)\n",
    "if read == 'True\\n':\n",
    "    print(\"The line is True\")\n",
    "else:\n",
    "    print('The line is False')"
   ]
  },
  {
   "cell_type": "code",
   "execution_count": 241,
   "metadata": {},
   "outputs": [
    {
     "name": "stdout",
     "output_type": "stream",
     "text": [
      "The UK prime minister\n",
      "The UK prime minister\n",
      "UK prime minister in 02/01/2019\n",
      "The UK prime minister\n",
      "The UK prime\n"
     ]
    }
   ],
   "source": [
    "import re\n",
    "\n",
    "arr = ['02/01/2019 The UK prime minister','02-01-2019 The UK prime minister','The UK prime minister in 02/01/2019','02-01-2019 18:52:02 The UK prime minister','2019-01-02 The UK prime minister','2019/01/02 The UK prime minister','2019 01 02 The UK prime minister','2019-01-02 18:52:02 The UK prime minister','2019/01/02 18:52:02 The UK prime minister','2019 01 02 The UK prime minister']\n",
    "\n",
    "mylist = [\"02/01/2019 The UK prime minister\",\n",
    "          \"02-01-2019 The UK prime minister\",\n",
    "          \"The UK prime minister in 02/01/2019\",\n",
    "          \"02-01-2019 18:52:02 The UK prime minister\",\n",
    "          \"5/02/2019 The UK prime\"]\n",
    "\n",
    "for d in mylist:\n",
    "    regex = re.search(\"[0-9\\/\\-\\:\\s]+(\\w.*)\",d)\n",
    "    regex = regex.groups()[0]\n",
    "    print (regex)"
   ]
  },
  {
   "cell_type": "code",
   "execution_count": 473,
   "metadata": {},
   "outputs": [
    {
     "name": "stdout",
     "output_type": "stream",
     "text": [
      "['.com', '.in']\n"
     ]
    }
   ],
   "source": [
    "import re\n",
    "def emailfinder(spam):\n",
    "    emailregx=re.compile(r'[a-zA-Z0-9%_+-.]+\\@[a-zA-Z0-9.-]+(\\.[a-zA-Z]{2,4})')\n",
    "    return emailregx.findall(spam)\n",
    "print(emailfinder('tara9090@gmail.com blah monkey tanbajg@chscv.in'))"
   ]
  },
  {
   "cell_type": "code",
   "execution_count": 401,
   "metadata": {},
   "outputs": [
    {
     "name": "stdout",
     "output_type": "stream",
     "text": [
      "Words Are Sticked Together Here I Need One Space Between Them\n"
     ]
    }
   ],
   "source": [
    "line = \"WordsAreStickedTogetherHereINeedOneSpaceBetweenThem\"\n",
    "matches = re.finditer(\"[A-Z][a-z]*\", line)\n",
    "new_line = \" \".join(match.group() for match in matches)\n",
    "print (new_line)"
   ]
  },
  {
   "cell_type": "code",
   "execution_count": 237,
   "metadata": {
    "scrolled": true
   },
   "outputs": [
    {
     "data": {
      "text/plain": [
       "{'presenter': [\"HARPER'S\", 'ADELAIDE', 'BRAND', 'KK'],\n",
       " 'text': ['When the computer was young, the word hacking was\\nused to describe the work of brilliant students who explored and expanded the\\nuses to which this new technology might be employed.  There was even talk of a\\n\"hacker ethic.\"  Somehow, in the succeeding years, the word has taken on dark\\nconnotations, suggestion the actions of a criminal.  What is the hacker ethic,\\nand does it survive? ',\n",
       "  \"the hacker ethic survives, and it is a fraud.  It\\nsurvives in anyone excited by technology's power to turn many small,\\ninsignificant things into one vast, beautiful thing.  It is a fraud because\\nthere is nothing magical about computers that causes a user to undergo\\nreligious conversion and devote himself to the public good.  Early automobile\\ninventors were hackers too.  At first the elite drove in luxury.  Later\\npractically everyone had a car.  Now we have traffic jams, drunk drivers, air\\npollution, and suburban sprawl.  The old magic of an automobile occasionally\\nsurfaces, but we possess no delusions that it automatically invades the\\nconsciousness of anyone who sits behind the wheel.  Computers are power, and\\ndirect contact with power can bring out the best or worst in a person.  It's\\ntempting to think that everyone exposed to the technology will be grandly\\ninspired, but, alas, it just ain't so.\",\n",
       "  \"The hacker ethic involves several things.  One is\\navoiding waste; insisting on using idle computer power -- often hacking into a\\nsystem to do so, while taking the greatest precautions not to damage the\\nsystem.  A second goal of many hackers is the free exchange of  technical\\ninformation.  These hackers feel that patent and copyright restrictions slow\\ndown technological advances.  A third goal is the advancement of human\\nknowledge for its own sake.  Often this approach is unconventional.  People we\\ncall crackers often explore systems and do mischief.  The are called hackers by\\nthe press, which doesn't understand the issues.\",\n",
       "  'The hacker ethic went unnoticed early on because the\\nexplorations of basement tinkerers were very local.  Once we all became\\nconnected, the work of these investigations rippled through the world.  today\\nthe hacking spirit is alive and kicking in video, satellite TV, and radio.  In\\nsome fields they are called chippers, because the modify and peddle altered\\nchips.  Everything that was once said about \"phone phreaks\" can be said about\\nthem too.'],\n",
       " 'time': ['Day 1, 9:00 A.M.',\n",
       "  'Day 1, 9:25 A.M.',\n",
       "  'Day 1, 9:54 A.M.',\n",
       "  'Day 1, 11:19 A.M.']}"
      ]
     },
     "execution_count": 237,
     "metadata": {},
     "output_type": "execute_result"
    }
   ],
   "source": [
    "import csv\n",
    "text_data = \"\"\"HARPER'S [Day 1, 9:00 A.M.]:  When the computer was young, the word hacking was\n",
    "used to describe the work of brilliant students who explored and expanded the\n",
    "uses to which this new technology might be employed.  There was even talk of a\n",
    "\\\"hacker ethic.\\\"  Somehow, in the succeeding years, the word has taken on dark\n",
    "connotations, suggestion the actions of a criminal.  What is the hacker ethic,\n",
    "and does it survive? \n",
    "\n",
    "ADELAIDE [Day 1, 9:25 A.M.]:  the hacker ethic survives, and it is a fraud.  It\n",
    "survives in anyone excited by technology's power to turn many small,\n",
    "insignificant things into one vast, beautiful thing.  It is a fraud because\n",
    "there is nothing magical about computers that causes a user to undergo\n",
    "religious conversion and devote himself to the public good.  Early automobile\n",
    "inventors were hackers too.  At first the elite drove in luxury.  Later\n",
    "practically everyone had a car.  Now we have traffic jams, drunk drivers, air\n",
    "pollution, and suburban sprawl.  The old magic of an automobile occasionally\n",
    "surfaces, but we possess no delusions that it automatically invades the\n",
    "consciousness of anyone who sits behind the wheel.  Computers are power, and\n",
    "direct contact with power can bring out the best or worst in a person.  It's\n",
    "tempting to think that everyone exposed to the technology will be grandly\n",
    "inspired, but, alas, it just ain't so.\n",
    "\n",
    "BRAND [Day 1, 9:54 A.M.]:  The hacker ethic involves several things.  One is\n",
    "avoiding waste; insisting on using idle computer power -- often hacking into a\n",
    "system to do so, while taking the greatest precautions not to damage the\n",
    "system.  A second goal of many hackers is the free exchange of  technical\n",
    "information.  These hackers feel that patent and copyright restrictions slow\n",
    "down technological advances.  A third goal is the advancement of human\n",
    "knowledge for its own sake.  Often this approach is unconventional.  People we\n",
    "call crackers often explore systems and do mischief.  The are called hackers by\n",
    "the press, which doesn't understand the issues.\n",
    "\n",
    "KK [Day 1, 11:19 A.M.]:  The hacker ethic went unnoticed early on because the\n",
    "explorations of basement tinkerers were very local.  Once we all became\n",
    "connected, the work of these investigations rippled through the world.  today\n",
    "the hacking spirit is alive and kicking in video, satellite TV, and radio.  In\n",
    "some fields they are called chippers, because the modify and peddle altered\n",
    "chips.  Everything that was once said about \\\"phone phreaks\\\" can be said about\n",
    "them too.\"\"\"\n",
    "\n",
    "argument = re.findall(\"(?P<presenter>[A-Z|']+).\\[(?P<time>\\w.+)\\].\\s+(?P<text>[\\w\\W]*?)(?=\\n\\n|\\Z)\",text_data)\n",
    "\n",
    "# save in csv file\n",
    "with open(\"presenter.csv\",\"w\") as mycsv:\n",
    "    writers = csv.writer(mycsv)\n",
    "    header = ['presenter','time','text']\n",
    "    writers.writerow(header)\n",
    "    for item in argument:\n",
    "        writers.writerow(item)\n",
    "\n",
    "#save in dictionary\n",
    "mydict = {'presenter':[],'time':[],'text':[]}\n",
    "for i in argument:\n",
    "    mydict['presenter'].append(i[0])\n",
    "    mydict['time'].append(i[1])\n",
    "    mydict['text'].append(i[2])\n",
    "mydict"
   ]
  },
  {
   "cell_type": "code",
   "execution_count": 238,
   "metadata": {},
   "outputs": [
    {
     "data": {
      "text/plain": [
       "'When the computer was young, the word hacking was used to describe the work of brilliant students who explored and expanded the uses to which this new technology might be employed.  There was even talk of a \"hacker ethic.\"  Somehow, in the succeeding years, the word has taken on dark connotations, suggestion the actions of a criminal.  What is the hacker ethic, and does it survive? '"
      ]
     },
     "execution_count": 238,
     "metadata": {},
     "output_type": "execute_result"
    }
   ],
   "source": [
    "argument[0][2].replace(\"\\n\",\" \")"
   ]
  },
  {
   "cell_type": "code",
   "execution_count": 239,
   "metadata": {},
   "outputs": [
    {
     "data": {
      "text/html": [
       "<div>\n",
       "<style>\n",
       "    .dataframe thead tr:only-child th {\n",
       "        text-align: right;\n",
       "    }\n",
       "\n",
       "    .dataframe thead th {\n",
       "        text-align: left;\n",
       "    }\n",
       "\n",
       "    .dataframe tbody tr th {\n",
       "        vertical-align: top;\n",
       "    }\n",
       "</style>\n",
       "<table border=\"1\" class=\"dataframe\">\n",
       "  <thead>\n",
       "    <tr style=\"text-align: right;\">\n",
       "      <th></th>\n",
       "      <th>presenter</th>\n",
       "      <th>time</th>\n",
       "      <th>text</th>\n",
       "    </tr>\n",
       "  </thead>\n",
       "  <tbody>\n",
       "    <tr>\n",
       "      <th>0</th>\n",
       "      <td>HARPER'S</td>\n",
       "      <td>Day 1, 9:00 A.M.</td>\n",
       "      <td>When the computer was young, the word hacking ...</td>\n",
       "    </tr>\n",
       "    <tr>\n",
       "      <th>1</th>\n",
       "      <td>ADELAIDE</td>\n",
       "      <td>Day 1, 9:25 A.M.</td>\n",
       "      <td>the hacker ethic survives, and it is a fraud. ...</td>\n",
       "    </tr>\n",
       "    <tr>\n",
       "      <th>2</th>\n",
       "      <td>BRAND</td>\n",
       "      <td>Day 1, 9:54 A.M.</td>\n",
       "      <td>The hacker ethic involves several things.  One...</td>\n",
       "    </tr>\n",
       "    <tr>\n",
       "      <th>3</th>\n",
       "      <td>KK</td>\n",
       "      <td>Day 1, 11:19 A.M.</td>\n",
       "      <td>The hacker ethic went unnoticed early on becau...</td>\n",
       "    </tr>\n",
       "  </tbody>\n",
       "</table>\n",
       "</div>"
      ],
      "text/plain": [
       "  presenter               time  \\\n",
       "0  HARPER'S   Day 1, 9:00 A.M.   \n",
       "1  ADELAIDE   Day 1, 9:25 A.M.   \n",
       "2     BRAND   Day 1, 9:54 A.M.   \n",
       "3        KK  Day 1, 11:19 A.M.   \n",
       "\n",
       "                                                text  \n",
       "0  When the computer was young, the word hacking ...  \n",
       "1  the hacker ethic survives, and it is a fraud. ...  \n",
       "2  The hacker ethic involves several things.  One...  \n",
       "3  The hacker ethic went unnoticed early on becau...  "
      ]
     },
     "execution_count": 239,
     "metadata": {},
     "output_type": "execute_result"
    }
   ],
   "source": [
    "import pandas as pd\n",
    "df = pd.read_csv(\"presenter.csv\")\n",
    "df"
   ]
  },
  {
   "cell_type": "code",
   "execution_count": 404,
   "metadata": {},
   "outputs": [
    {
     "name": "stdout",
     "output_type": "stream",
     "text": [
      "   Name  Age\n",
      "0   tom   10\n",
      "1  nick   15\n",
      "2  juli   14\n",
      "0   tom   10\n",
      "1  nick   15\n",
      "2  juli   14\n",
      "0   tom   10\n",
      "1  nick   15\n",
      "2  juli   14\n",
      "0   tom   10\n",
      "1  nick   15\n",
      "2  juli   14\n"
     ]
    }
   ],
   "source": [
    "df1 = pd.DataFrame( [['tom', 10], ['nick', 15], ['juli', 14]] ,  columns = ['Name', 'Age'])\n",
    "df2 = pd.DataFrame([['tom', 10], ['nick', 15], ['juli', 14]] ,  columns = ['Name', 'Age'])\n",
    "df3 = pd.DataFrame([['tom', 10], ['nick', 15], ['juli', 14]] ,  columns = ['Name', 'Age'])\n",
    "df4 = pd.DataFrame([['tom', 10], ['nick', 15], ['juli', 14]] ,  columns = ['Name', 'Age'])\n",
    "\n",
    "print(pd.concat([df1, df2, df3, df4]))"
   ]
  },
  {
   "cell_type": "markdown",
   "metadata": {},
   "source": [
    "# NLP"
   ]
  },
  {
   "cell_type": "code",
   "execution_count": 140,
   "metadata": {
    "collapsed": true,
    "scrolled": true
   },
   "outputs": [],
   "source": [
    "import requests\n",
    "from bs4 import BeautifulSoup as bs\n",
    "\n",
    "url = \"http://www.ums.ac.id/en/launching-pmb-2019-rector-ums-ods-system-garnered-trust-people\"\n",
    "html = requests.get(url).text\n",
    "soup = bs(html, 'html.parser')\n",
    "\n",
    "news = []\n",
    "for data in soup.find_all('div', {\"class\":\"clearfix text-formatted field field--name-body field--type-text-with-summary field--label-hidden field__item\"}):\n",
    "    for par in data.find_all('p', {\"class\":\"text-align-justify\"}):\n",
    "        news.append(par.text)"
   ]
  },
  {
   "cell_type": "code",
   "execution_count": 142,
   "metadata": {
    "collapsed": true
   },
   "outputs": [],
   "source": [
    "import spacy\n",
    "from spacy import displacy\n",
    "nlp = spacy.load('en_core_web_lg') # install 'en' model (python3 -m spacy download en)"
   ]
  },
  {
   "cell_type": "code",
   "execution_count": 158,
   "metadata": {
    "scrolled": true
   },
   "outputs": [
    {
     "data": {
      "text/html": [
       "<div class=\"entities\" style=\"line-height: 2.5\">Starting from \n",
       "<mark class=\"entity\" style=\"background: #bfe1d9; padding: 0.45em 0.6em; margin: 0 0.25em; line-height: 1; border-radius: 0.35em; box-decoration-break: clone; -webkit-box-decoration-break: clone\">\n",
       "    02 January to 04\n",
       "    <span style=\"font-size: 0.8em; font-weight: bold; line-height: 1; border-radius: 0.35em; text-transform: uppercase; vertical-align: middle; margin-left: 0.5rem\">DATE</span>\n",
       "</mark>\n",
       " \n",
       "<mark class=\"entity\" style=\"background: #bfe1d9; padding: 0.45em 0.6em; margin: 0 0.25em; line-height: 1; border-radius: 0.35em; box-decoration-break: clone; -webkit-box-decoration-break: clone\">\n",
       "    August 2019\n",
       "    <span style=\"font-size: 0.8em; font-weight: bold; line-height: 1; border-radius: 0.35em; text-transform: uppercase; vertical-align: middle; margin-left: 0.5rem\">DATE</span>\n",
       "</mark>\n",
       ", \n",
       "<mark class=\"entity\" style=\"background: #7aecec; padding: 0.45em 0.6em; margin: 0 0.25em; line-height: 1; border-radius: 0.35em; box-decoration-break: clone; -webkit-box-decoration-break: clone\">\n",
       "    Muhammadiyah University of Surakarta\n",
       "    <span style=\"font-size: 0.8em; font-weight: bold; line-height: 1; border-radius: 0.35em; text-transform: uppercase; vertical-align: middle; margin-left: 0.5rem\">ORG</span>\n",
       "</mark>\n",
       " officially launched its \n",
       "<mark class=\"entity\" style=\"background: #7aecec; padding: 0.45em 0.6em; margin: 0 0.25em; line-height: 1; border-radius: 0.35em; box-decoration-break: clone; -webkit-box-decoration-break: clone\">\n",
       "    New Student Admission\n",
       "    <span style=\"font-size: 0.8em; font-weight: bold; line-height: 1; border-radius: 0.35em; text-transform: uppercase; vertical-align: middle; margin-left: 0.5rem\">ORG</span>\n",
       "</mark>\n",
       " (\n",
       "<mark class=\"entity\" style=\"background: #aa9cfc; padding: 0.45em 0.6em; margin: 0 0.25em; line-height: 1; border-radius: 0.35em; box-decoration-break: clone; -webkit-box-decoration-break: clone\">\n",
       "    Penerimaan Mahasiswa Baru/PMB\n",
       "    <span style=\"font-size: 0.8em; font-weight: bold; line-height: 1; border-radius: 0.35em; text-transform: uppercase; vertical-align: middle; margin-left: 0.5rem\">PERSON</span>\n",
       "</mark>\n",
       ") for \n",
       "<mark class=\"entity\" style=\"background: #bfe1d9; padding: 0.45em 0.6em; margin: 0 0.25em; line-height: 1; border-radius: 0.35em; box-decoration-break: clone; -webkit-box-decoration-break: clone\">\n",
       "    2019/2020 academic year\n",
       "    <span style=\"font-size: 0.8em; font-weight: bold; line-height: 1; border-radius: 0.35em; text-transform: uppercase; vertical-align: middle; margin-left: 0.5rem\">DATE</span>\n",
       "</mark>\n",
       ". The launching of \n",
       "<mark class=\"entity\" style=\"background: #7aecec; padding: 0.45em 0.6em; margin: 0 0.25em; line-height: 1; border-radius: 0.35em; box-decoration-break: clone; -webkit-box-decoration-break: clone\">\n",
       "    PMB\n",
       "    <span style=\"font-size: 0.8em; font-weight: bold; line-height: 1; border-radius: 0.35em; text-transform: uppercase; vertical-align: middle; margin-left: 0.5rem\">ORG</span>\n",
       "</mark>\n",
       " will be commenced directly by the Rector of \n",
       "<mark class=\"entity\" style=\"background: #7aecec; padding: 0.45em 0.6em; margin: 0 0.25em; line-height: 1; border-radius: 0.35em; box-decoration-break: clone; -webkit-box-decoration-break: clone\">\n",
       "    UMS\n",
       "    <span style=\"font-size: 0.8em; font-weight: bold; line-height: 1; border-radius: 0.35em; text-transform: uppercase; vertical-align: middle; margin-left: 0.5rem\">ORG</span>\n",
       "</mark>\n",
       ", Dr. \n",
       "<mark class=\"entity\" style=\"background: #aa9cfc; padding: 0.45em 0.6em; margin: 0 0.25em; line-height: 1; border-radius: 0.35em; box-decoration-break: clone; -webkit-box-decoration-break: clone\">\n",
       "    Sofyan Anif\n",
       "    <span style=\"font-size: 0.8em; font-weight: bold; line-height: 1; border-radius: 0.35em; text-transform: uppercase; vertical-align: middle; margin-left: 0.5rem\">PERSON</span>\n",
       "</mark>\n",
       ", \n",
       "<mark class=\"entity\" style=\"background: #feca74; padding: 0.45em 0.6em; margin: 0 0.25em; line-height: 1; border-radius: 0.35em; box-decoration-break: clone; -webkit-box-decoration-break: clone\">\n",
       "    M.Si\n",
       "    <span style=\"font-size: 0.8em; font-weight: bold; line-height: 1; border-radius: 0.35em; text-transform: uppercase; vertical-align: middle; margin-left: 0.5rem\">GPE</span>\n",
       "</mark>\n",
       ". at the registration room for \n",
       "<mark class=\"entity\" style=\"background: #bfe1d9; padding: 0.45em 0.6em; margin: 0 0.25em; line-height: 1; border-radius: 0.35em; box-decoration-break: clone; -webkit-box-decoration-break: clone\">\n",
       "    One Day Service\n",
       "    <span style=\"font-size: 0.8em; font-weight: bold; line-height: 1; border-radius: 0.35em; text-transform: uppercase; vertical-align: middle; margin-left: 0.5rem\">DATE</span>\n",
       "</mark>\n",
       " (ODS) UMS (\n",
       "<mark class=\"entity\" style=\"background: #e4e7d2; padding: 0.45em 0.6em; margin: 0 0.25em; line-height: 1; border-radius: 0.35em; box-decoration-break: clone; -webkit-box-decoration-break: clone\">\n",
       "    2/1/2019\n",
       "    <span style=\"font-size: 0.8em; font-weight: bold; line-height: 1; border-radius: 0.35em; text-transform: uppercase; vertical-align: middle; margin-left: 0.5rem\">CARDINAL</span>\n",
       "</mark>\n",
       ").</div>"
      ],
      "text/plain": [
       "<IPython.core.display.HTML object>"
      ]
     },
     "metadata": {},
     "output_type": "display_data"
    },
    {
     "name": "stdout",
     "output_type": "stream",
     "text": [
      "None\n"
     ]
    },
    {
     "data": {
      "text/html": [
       "<div class=\"entities\" style=\"line-height: 2.5\">Each Faculty \n",
       "<mark class=\"entity\" style=\"background: #aa9cfc; padding: 0.45em 0.6em; margin: 0 0.25em; line-height: 1; border-radius: 0.35em; box-decoration-break: clone; -webkit-box-decoration-break: clone\">\n",
       "    Dean\n",
       "    <span style=\"font-size: 0.8em; font-weight: bold; line-height: 1; border-radius: 0.35em; text-transform: uppercase; vertical-align: middle; margin-left: 0.5rem\">PERSON</span>\n",
       "</mark>\n",
       " also attended the launching. Dr. \n",
       "<mark class=\"entity\" style=\"background: #aa9cfc; padding: 0.45em 0.6em; margin: 0 0.25em; line-height: 1; border-radius: 0.35em; box-decoration-break: clone; -webkit-box-decoration-break: clone\">\n",
       "    Sofyan Anif\n",
       "    <span style=\"font-size: 0.8em; font-weight: bold; line-height: 1; border-radius: 0.35em; text-transform: uppercase; vertical-align: middle; margin-left: 0.5rem\">PERSON</span>\n",
       "</mark>\n",
       ", \n",
       "<mark class=\"entity\" style=\"background: #feca74; padding: 0.45em 0.6em; margin: 0 0.25em; line-height: 1; border-radius: 0.35em; box-decoration-break: clone; -webkit-box-decoration-break: clone\">\n",
       "    M.Si\n",
       "    <span style=\"font-size: 0.8em; font-weight: bold; line-height: 1; border-radius: 0.35em; text-transform: uppercase; vertical-align: middle; margin-left: 0.5rem\">GPE</span>\n",
       "</mark>\n",
       " mentioned that \n",
       "<mark class=\"entity\" style=\"background: #bfe1d9; padding: 0.45em 0.6em; margin: 0 0.25em; line-height: 1; border-radius: 0.35em; box-decoration-break: clone; -webkit-box-decoration-break: clone\">\n",
       "    One Day Service\n",
       "    <span style=\"font-size: 0.8em; font-weight: bold; line-height: 1; border-radius: 0.35em; text-transform: uppercase; vertical-align: middle; margin-left: 0.5rem\">DATE</span>\n",
       "</mark>\n",
       " (\n",
       "<mark class=\"entity\" style=\"background: #7aecec; padding: 0.45em 0.6em; margin: 0 0.25em; line-height: 1; border-radius: 0.35em; box-decoration-break: clone; -webkit-box-decoration-break: clone\">\n",
       "    ODS\n",
       "    <span style=\"font-size: 0.8em; font-weight: bold; line-height: 1; border-radius: 0.35em; text-transform: uppercase; vertical-align: middle; margin-left: 0.5rem\">ORG</span>\n",
       "</mark>\n",
       ") system owned by \n",
       "<mark class=\"entity\" style=\"background: #7aecec; padding: 0.45em 0.6em; margin: 0 0.25em; line-height: 1; border-radius: 0.35em; box-decoration-break: clone; -webkit-box-decoration-break: clone\">\n",
       "    UMS\n",
       "    <span style=\"font-size: 0.8em; font-weight: bold; line-height: 1; border-radius: 0.35em; text-transform: uppercase; vertical-align: middle; margin-left: 0.5rem\">ORG</span>\n",
       "</mark>\n",
       " garnered more trust from people who chose \n",
       "<mark class=\"entity\" style=\"background: #7aecec; padding: 0.45em 0.6em; margin: 0 0.25em; line-height: 1; border-radius: 0.35em; box-decoration-break: clone; -webkit-box-decoration-break: clone\">\n",
       "    UMS\n",
       "    <span style=\"font-size: 0.8em; font-weight: bold; line-height: 1; border-radius: 0.35em; text-transform: uppercase; vertical-align: middle; margin-left: 0.5rem\">ORG</span>\n",
       "</mark>\n",
       " as their trusted \n",
       "<mark class=\"entity\" style=\"background: #7aecec; padding: 0.45em 0.6em; margin: 0 0.25em; line-height: 1; border-radius: 0.35em; box-decoration-break: clone; -webkit-box-decoration-break: clone\">\n",
       "    Higher Education Institution\n",
       "    <span style=\"font-size: 0.8em; font-weight: bold; line-height: 1; border-radius: 0.35em; text-transform: uppercase; vertical-align: middle; margin-left: 0.5rem\">ORG</span>\n",
       "</mark>\n",
       ". </div>"
      ],
      "text/plain": [
       "<IPython.core.display.HTML object>"
      ]
     },
     "metadata": {},
     "output_type": "display_data"
    },
    {
     "name": "stdout",
     "output_type": "stream",
     "text": [
      "None\n"
     ]
    },
    {
     "data": {
      "text/html": [
       "<div class=\"entities\" style=\"line-height: 2.5\">\"ODS is one of the systems that we are proud of and the trust from people keeps increasing because to be a student at \n",
       "<mark class=\"entity\" style=\"background: #7aecec; padding: 0.45em 0.6em; margin: 0 0.25em; line-height: 1; border-radius: 0.35em; box-decoration-break: clone; -webkit-box-decoration-break: clone\">\n",
       "    UMS\n",
       "    <span style=\"font-size: 0.8em; font-weight: bold; line-height: 1; border-radius: 0.35em; text-transform: uppercase; vertical-align: middle; margin-left: 0.5rem\">ORG</span>\n",
       "</mark>\n",
       ", they should pass the selection that no one could interfere with,\" he said during the launching of PMB UMS of \n",
       "<mark class=\"entity\" style=\"background: #bfe1d9; padding: 0.45em 0.6em; margin: 0 0.25em; line-height: 1; border-radius: 0.35em; box-decoration-break: clone; -webkit-box-decoration-break: clone\">\n",
       "    2019\n",
       "    <span style=\"font-size: 0.8em; font-weight: bold; line-height: 1; border-radius: 0.35em; text-transform: uppercase; vertical-align: middle; margin-left: 0.5rem\">DATE</span>\n",
       "</mark>\n",
       ".</div>"
      ],
      "text/plain": [
       "<IPython.core.display.HTML object>"
      ]
     },
     "metadata": {},
     "output_type": "display_data"
    },
    {
     "name": "stdout",
     "output_type": "stream",
     "text": [
      "None\n"
     ]
    },
    {
     "data": {
      "text/html": [
       "<div class=\"entities\" style=\"line-height: 2.5\">Furthermore, the Rector of \n",
       "<mark class=\"entity\" style=\"background: #7aecec; padding: 0.45em 0.6em; margin: 0 0.25em; line-height: 1; border-radius: 0.35em; box-decoration-break: clone; -webkit-box-decoration-break: clone\">\n",
       "    UMS\n",
       "    <span style=\"font-size: 0.8em; font-weight: bold; line-height: 1; border-radius: 0.35em; text-transform: uppercase; vertical-align: middle; margin-left: 0.5rem\">ORG</span>\n",
       "</mark>\n",
       " explained that each prospective student at \n",
       "<mark class=\"entity\" style=\"background: #7aecec; padding: 0.45em 0.6em; margin: 0 0.25em; line-height: 1; border-radius: 0.35em; box-decoration-break: clone; -webkit-box-decoration-break: clone\">\n",
       "    UMS\n",
       "    <span style=\"font-size: 0.8em; font-weight: bold; line-height: 1; border-radius: 0.35em; text-transform: uppercase; vertical-align: middle; margin-left: 0.5rem\">ORG</span>\n",
       "</mark>\n",
       " is given the chance to register \n",
       "<mark class=\"entity\" style=\"background: #e4e7d2; padding: 0.45em 0.6em; margin: 0 0.25em; line-height: 1; border-radius: 0.35em; box-decoration-break: clone; -webkit-box-decoration-break: clone\">\n",
       "    three\n",
       "    <span style=\"font-size: 0.8em; font-weight: bold; line-height: 1; border-radius: 0.35em; text-transform: uppercase; vertical-align: middle; margin-left: 0.5rem\">CARDINAL</span>\n",
       "</mark>\n",
       " times and on each registration, they have \n",
       "<mark class=\"entity\" style=\"background: #e4e7d2; padding: 0.45em 0.6em; margin: 0 0.25em; line-height: 1; border-radius: 0.35em; box-decoration-break: clone; -webkit-box-decoration-break: clone\">\n",
       "    three\n",
       "    <span style=\"font-size: 0.8em; font-weight: bold; line-height: 1; border-radius: 0.35em; text-transform: uppercase; vertical-align: middle; margin-left: 0.5rem\">CARDINAL</span>\n",
       "</mark>\n",
       " opportunities of computer-based test. </div>"
      ],
      "text/plain": [
       "<IPython.core.display.HTML object>"
      ]
     },
     "metadata": {},
     "output_type": "display_data"
    },
    {
     "name": "stdout",
     "output_type": "stream",
     "text": [
      "None\n"
     ]
    },
    {
     "data": {
      "text/html": [
       "<div class=\"entities\" style=\"line-height: 2.5\">\"The mechanism for this is that each registrant is given opportunity \n",
       "<mark class=\"entity\" style=\"background: #e4e7d2; padding: 0.45em 0.6em; margin: 0 0.25em; line-height: 1; border-radius: 0.35em; box-decoration-break: clone; -webkit-box-decoration-break: clone\">\n",
       "    three\n",
       "    <span style=\"font-size: 0.8em; font-weight: bold; line-height: 1; border-radius: 0.35em; text-transform: uppercase; vertical-align: middle; margin-left: 0.5rem\">CARDINAL</span>\n",
       "</mark>\n",
       " times, and on each registration, they can have \n",
       "<mark class=\"entity\" style=\"background: #e4e7d2; padding: 0.45em 0.6em; margin: 0 0.25em; line-height: 1; border-radius: 0.35em; box-decoration-break: clone; -webkit-box-decoration-break: clone\">\n",
       "    three\n",
       "    <span style=\"font-size: 0.8em; font-weight: bold; line-height: 1; border-radius: 0.35em; text-transform: uppercase; vertical-align: middle; margin-left: 0.5rem\">CARDINAL</span>\n",
       "</mark>\n",
       " times of test. The test is done through computer system,” he explained. </div>"
      ],
      "text/plain": [
       "<IPython.core.display.HTML object>"
      ]
     },
     "metadata": {},
     "output_type": "display_data"
    },
    {
     "name": "stdout",
     "output_type": "stream",
     "text": [
      "None\n"
     ]
    },
    {
     "data": {
      "text/html": [
       "<div class=\"entities\" style=\"line-height: 2.5\">Still related to ODS system, \n",
       "<mark class=\"entity\" style=\"background: #7aecec; padding: 0.45em 0.6em; margin: 0 0.25em; line-height: 1; border-radius: 0.35em; box-decoration-break: clone; -webkit-box-decoration-break: clone\">\n",
       "    UMS\n",
       "    <span style=\"font-size: 0.8em; font-weight: bold; line-height: 1; border-radius: 0.35em; text-transform: uppercase; vertical-align: middle; margin-left: 0.5rem\">ORG</span>\n",
       "</mark>\n",
       " becomes the \n",
       "<mark class=\"entity\" style=\"background: #e4e7d2; padding: 0.45em 0.6em; margin: 0 0.25em; line-height: 1; border-radius: 0.35em; box-decoration-break: clone; -webkit-box-decoration-break: clone\">\n",
       "    first\n",
       "    <span style=\"font-size: 0.8em; font-weight: bold; line-height: 1; border-radius: 0.35em; text-transform: uppercase; vertical-align: middle; margin-left: 0.5rem\">ORDINAL</span>\n",
       "</mark>\n",
       " university to employ this system. Since \n",
       "<mark class=\"entity\" style=\"background: #bfe1d9; padding: 0.45em 0.6em; margin: 0 0.25em; line-height: 1; border-radius: 0.35em; box-decoration-break: clone; -webkit-box-decoration-break: clone\">\n",
       "    2004\n",
       "    <span style=\"font-size: 0.8em; font-weight: bold; line-height: 1; border-radius: 0.35em; text-transform: uppercase; vertical-align: middle; margin-left: 0.5rem\">DATE</span>\n",
       "</mark>\n",
       ", One Day Service was already carried out at \n",
       "<mark class=\"entity\" style=\"background: #7aecec; padding: 0.45em 0.6em; margin: 0 0.25em; line-height: 1; border-radius: 0.35em; box-decoration-break: clone; -webkit-box-decoration-break: clone\">\n",
       "    UMS\n",
       "    <span style=\"font-size: 0.8em; font-weight: bold; line-height: 1; border-radius: 0.35em; text-transform: uppercase; vertical-align: middle; margin-left: 0.5rem\">ORG</span>\n",
       "</mark>\n",
       " and now other universities had begun to follow its feat. </div>"
      ],
      "text/plain": [
       "<IPython.core.display.HTML object>"
      ]
     },
     "metadata": {},
     "output_type": "display_data"
    },
    {
     "name": "stdout",
     "output_type": "stream",
     "text": [
      "None\n"
     ]
    },
    {
     "data": {
      "text/html": [
       "<div class=\"entities\" style=\"line-height: 2.5\">“Since \n",
       "<mark class=\"entity\" style=\"background: #bfe1d9; padding: 0.45em 0.6em; margin: 0 0.25em; line-height: 1; border-radius: 0.35em; box-decoration-break: clone; -webkit-box-decoration-break: clone\">\n",
       "    2004\n",
       "    <span style=\"font-size: 0.8em; font-weight: bold; line-height: 1; border-radius: 0.35em; text-transform: uppercase; vertical-align: middle; margin-left: 0.5rem\">DATE</span>\n",
       "</mark>\n",
       ", \n",
       "<mark class=\"entity\" style=\"background: #7aecec; padding: 0.45em 0.6em; margin: 0 0.25em; line-height: 1; border-radius: 0.35em; box-decoration-break: clone; -webkit-box-decoration-break: clone\">\n",
       "    UMS\n",
       "    <span style=\"font-size: 0.8em; font-weight: bold; line-height: 1; border-radius: 0.35em; text-transform: uppercase; vertical-align: middle; margin-left: 0.5rem\">ORG</span>\n",
       "</mark>\n",
       " has used this ODS system, \n",
       "<mark class=\"entity\" style=\"background: #7aecec; padding: 0.45em 0.6em; margin: 0 0.25em; line-height: 1; border-radius: 0.35em; box-decoration-break: clone; -webkit-box-decoration-break: clone\">\n",
       "    UMS\n",
       "    <span style=\"font-size: 0.8em; font-weight: bold; line-height: 1; border-radius: 0.35em; text-transform: uppercase; vertical-align: middle; margin-left: 0.5rem\">ORG</span>\n",
       "</mark>\n",
       " was the \n",
       "<mark class=\"entity\" style=\"background: #e4e7d2; padding: 0.45em 0.6em; margin: 0 0.25em; line-height: 1; border-radius: 0.35em; box-decoration-break: clone; -webkit-box-decoration-break: clone\">\n",
       "    first\n",
       "    <span style=\"font-size: 0.8em; font-weight: bold; line-height: 1; border-radius: 0.35em; text-transform: uppercase; vertical-align: middle; margin-left: 0.5rem\">ORDINAL</span>\n",
       "</mark>\n",
       " university to use it and now other universities have done so as well, especially \n",
       "<mark class=\"entity\" style=\"background: #7aecec; padding: 0.45em 0.6em; margin: 0 0.25em; line-height: 1; border-radius: 0.35em; box-decoration-break: clone; -webkit-box-decoration-break: clone\">\n",
       "    Muhammadiyah\n",
       "    <span style=\"font-size: 0.8em; font-weight: bold; line-height: 1; border-radius: 0.35em; text-transform: uppercase; vertical-align: middle; margin-left: 0.5rem\">ORG</span>\n",
       "</mark>\n",
       " universities,\" he continued. </div>"
      ],
      "text/plain": [
       "<IPython.core.display.HTML object>"
      ]
     },
     "metadata": {},
     "output_type": "display_data"
    },
    {
     "name": "stdout",
     "output_type": "stream",
     "text": [
      "None\n"
     ]
    },
    {
     "data": {
      "text/html": [
       "<div class=\"entities\" style=\"line-height: 2.5\">As a symbol of the opening of PMB, the Rector of \n",
       "<mark class=\"entity\" style=\"background: #7aecec; padding: 0.45em 0.6em; margin: 0 0.25em; line-height: 1; border-radius: 0.35em; box-decoration-break: clone; -webkit-box-decoration-break: clone\">\n",
       "    UMS\n",
       "    <span style=\"font-size: 0.8em; font-weight: bold; line-height: 1; border-radius: 0.35em; text-transform: uppercase; vertical-align: middle; margin-left: 0.5rem\">ORG</span>\n",
       "</mark>\n",
       " handed over the \n",
       "<mark class=\"entity\" style=\"background: #e4e7d2; padding: 0.45em 0.6em; margin: 0 0.25em; line-height: 1; border-radius: 0.35em; box-decoration-break: clone; -webkit-box-decoration-break: clone\">\n",
       "    first\n",
       "    <span style=\"font-size: 0.8em; font-weight: bold; line-height: 1; border-radius: 0.35em; text-transform: uppercase; vertical-align: middle; margin-left: 0.5rem\">ORDINAL</span>\n",
       "</mark>\n",
       " test number \n",
       "<mark class=\"entity\" style=\"background: #e4e7d2; padding: 0.45em 0.6em; margin: 0 0.25em; line-height: 1; border-radius: 0.35em; box-decoration-break: clone; -webkit-box-decoration-break: clone\">\n",
       "    001\n",
       "    <span style=\"font-size: 0.8em; font-weight: bold; line-height: 1; border-radius: 0.35em; text-transform: uppercase; vertical-align: middle; margin-left: 0.5rem\">CARDINAL</span>\n",
       "</mark>\n",
       " to the \n",
       "<mark class=\"entity\" style=\"background: #e4e7d2; padding: 0.45em 0.6em; margin: 0 0.25em; line-height: 1; border-radius: 0.35em; box-decoration-break: clone; -webkit-box-decoration-break: clone\">\n",
       "    first\n",
       "    <span style=\"font-size: 0.8em; font-weight: bold; line-height: 1; border-radius: 0.35em; text-transform: uppercase; vertical-align: middle; margin-left: 0.5rem\">ORDINAL</span>\n",
       "</mark>\n",
       " registrar on behalf of \n",
       "<mark class=\"entity\" style=\"background: #feca74; padding: 0.45em 0.6em; margin: 0 0.25em; line-height: 1; border-radius: 0.35em; box-decoration-break: clone; -webkit-box-decoration-break: clone\">\n",
       "    Naning\n",
       "    <span style=\"font-size: 0.8em; font-weight: bold; line-height: 1; border-radius: 0.35em; text-transform: uppercase; vertical-align: middle; margin-left: 0.5rem\">GPE</span>\n",
       "</mark>\n",
       " Oktabhita \n",
       "<mark class=\"entity\" style=\"background: #aa9cfc; padding: 0.45em 0.6em; margin: 0 0.25em; line-height: 1; border-radius: 0.35em; box-decoration-break: clone; -webkit-box-decoration-break: clone\">\n",
       "    Ananda Harsono Putri\n",
       "    <span style=\"font-size: 0.8em; font-weight: bold; line-height: 1; border-radius: 0.35em; text-transform: uppercase; vertical-align: middle; margin-left: 0.5rem\">PERSON</span>\n",
       "</mark>\n",
       ". She is a student from MAN Purwosari Kediri. The applicant from \n",
       "<mark class=\"entity\" style=\"background: #feca74; padding: 0.45em 0.6em; margin: 0 0.25em; line-height: 1; border-radius: 0.35em; box-decoration-break: clone; -webkit-box-decoration-break: clone\">\n",
       "    Kediri\n",
       "    <span style=\"font-size: 0.8em; font-weight: bold; line-height: 1; border-radius: 0.35em; text-transform: uppercase; vertical-align: middle; margin-left: 0.5rem\">GPE</span>\n",
       "</mark>\n",
       " chose \n",
       "<mark class=\"entity\" style=\"background: #7aecec; padding: 0.45em 0.6em; margin: 0 0.25em; line-height: 1; border-radius: 0.35em; box-decoration-break: clone; -webkit-box-decoration-break: clone\">\n",
       "    General Medicine\n",
       "    <span style=\"font-size: 0.8em; font-weight: bold; line-height: 1; border-radius: 0.35em; text-transform: uppercase; vertical-align: middle; margin-left: 0.5rem\">ORG</span>\n",
       "</mark>\n",
       " as its \n",
       "<mark class=\"entity\" style=\"background: #e4e7d2; padding: 0.45em 0.6em; margin: 0 0.25em; line-height: 1; border-radius: 0.35em; box-decoration-break: clone; -webkit-box-decoration-break: clone\">\n",
       "    first\n",
       "    <span style=\"font-size: 0.8em; font-weight: bold; line-height: 1; border-radius: 0.35em; text-transform: uppercase; vertical-align: middle; margin-left: 0.5rem\">ORDINAL</span>\n",
       "</mark>\n",
       " choice and Dentistry as its \n",
       "<mark class=\"entity\" style=\"background: #e4e7d2; padding: 0.45em 0.6em; margin: 0 0.25em; line-height: 1; border-radius: 0.35em; box-decoration-break: clone; -webkit-box-decoration-break: clone\">\n",
       "    second\n",
       "    <span style=\"font-size: 0.8em; font-weight: bold; line-height: 1; border-radius: 0.35em; text-transform: uppercase; vertical-align: middle; margin-left: 0.5rem\">ORDINAL</span>\n",
       "</mark>\n",
       " one. </div>"
      ],
      "text/plain": [
       "<IPython.core.display.HTML object>"
      ]
     },
     "metadata": {},
     "output_type": "display_data"
    },
    {
     "name": "stdout",
     "output_type": "stream",
     "text": [
      "None\n"
     ]
    },
    {
     "data": {
      "text/html": [
       "<div class=\"entities\" style=\"line-height: 2.5\">In addition, Dr. \n",
       "<mark class=\"entity\" style=\"background: #aa9cfc; padding: 0.45em 0.6em; margin: 0 0.25em; line-height: 1; border-radius: 0.35em; box-decoration-break: clone; -webkit-box-decoration-break: clone\">\n",
       "    Triyono\n",
       "    <span style=\"font-size: 0.8em; font-weight: bold; line-height: 1; border-radius: 0.35em; text-transform: uppercase; vertical-align: middle; margin-left: 0.5rem\">PERSON</span>\n",
       "</mark>\n",
       " as the \n",
       "<mark class=\"entity\" style=\"background: #7aecec; padding: 0.45em 0.6em; margin: 0 0.25em; line-height: 1; border-radius: 0.35em; box-decoration-break: clone; -webkit-box-decoration-break: clone\">\n",
       "    Chair\n",
       "    <span style=\"font-size: 0.8em; font-weight: bold; line-height: 1; border-radius: 0.35em; text-transform: uppercase; vertical-align: middle; margin-left: 0.5rem\">ORG</span>\n",
       "</mark>\n",
       " committee of PMB UMS \n",
       "<mark class=\"entity\" style=\"background: #bfe1d9; padding: 0.45em 0.6em; margin: 0 0.25em; line-height: 1; border-radius: 0.35em; box-decoration-break: clone; -webkit-box-decoration-break: clone\">\n",
       "    2019/2020 academic year\n",
       "    <span style=\"font-size: 0.8em; font-weight: bold; line-height: 1; border-radius: 0.35em; text-transform: uppercase; vertical-align: middle; margin-left: 0.5rem\">DATE</span>\n",
       "</mark>\n",
       " mentioned that \n",
       "<mark class=\"entity\" style=\"background: #7aecec; padding: 0.45em 0.6em; margin: 0 0.25em; line-height: 1; border-radius: 0.35em; box-decoration-break: clone; -webkit-box-decoration-break: clone\">\n",
       "    UMS\n",
       "    <span style=\"font-size: 0.8em; font-weight: bold; line-height: 1; border-radius: 0.35em; text-transform: uppercase; vertical-align: middle; margin-left: 0.5rem\">ORG</span>\n",
       "</mark>\n",
       " opened quota of \n",
       "<mark class=\"entity\" style=\"background: #e4e7d2; padding: 0.45em 0.6em; margin: 0 0.25em; line-height: 1; border-radius: 0.35em; box-decoration-break: clone; -webkit-box-decoration-break: clone\">\n",
       "    8,000\n",
       "    <span style=\"font-size: 0.8em; font-weight: bold; line-height: 1; border-radius: 0.35em; text-transform: uppercase; vertical-align: middle; margin-left: 0.5rem\">CARDINAL</span>\n",
       "</mark>\n",
       " new students. Furthermore, \n",
       "<mark class=\"entity\" style=\"background: #7aecec; padding: 0.45em 0.6em; margin: 0 0.25em; line-height: 1; border-radius: 0.35em; box-decoration-break: clone; -webkit-box-decoration-break: clone\">\n",
       "    UMS\n",
       "    <span style=\"font-size: 0.8em; font-weight: bold; line-height: 1; border-radius: 0.35em; text-transform: uppercase; vertical-align: middle; margin-left: 0.5rem\">ORG</span>\n",
       "</mark>\n",
       " provided scholarships \n",
       "<mark class=\"entity\" style=\"background: #e4e7d2; padding: 0.45em 0.6em; margin: 0 0.25em; line-height: 1; border-radius: 0.35em; box-decoration-break: clone; -webkit-box-decoration-break: clone\">\n",
       "    as much as 2.5%\n",
       "    <span style=\"font-size: 0.8em; font-weight: bold; line-height: 1; border-radius: 0.35em; text-transform: uppercase; vertical-align: middle; margin-left: 0.5rem\">PERCENT</span>\n",
       "</mark>\n",
       " of the total student population. The scholarship can be achieved through several media, such as \n",
       "<mark class=\"entity\" style=\"background: #aa9cfc; padding: 0.45em 0.6em; margin: 0 0.25em; line-height: 1; border-radius: 0.35em; box-decoration-break: clone; -webkit-box-decoration-break: clone\">\n",
       "    Beasiswa Ahmad Dahlan\n",
       "    <span style=\"font-size: 0.8em; font-weight: bold; line-height: 1; border-radius: 0.35em; text-transform: uppercase; vertical-align: middle; margin-left: 0.5rem\">PERSON</span>\n",
       "</mark>\n",
       ", \n",
       "<mark class=\"entity\" style=\"background: #7aecec; padding: 0.45em 0.6em; margin: 0 0.25em; line-height: 1; border-radius: 0.35em; box-decoration-break: clone; -webkit-box-decoration-break: clone\">\n",
       "    Beasiswa Unggulan Muhammadiyah\n",
       "    <span style=\"font-size: 0.8em; font-weight: bold; line-height: 1; border-radius: 0.35em; text-transform: uppercase; vertical-align: middle; margin-left: 0.5rem\">ORG</span>\n",
       "</mark>\n",
       ", and many others. </div>"
      ],
      "text/plain": [
       "<IPython.core.display.HTML object>"
      ]
     },
     "metadata": {},
     "output_type": "display_data"
    },
    {
     "name": "stdout",
     "output_type": "stream",
     "text": [
      "None\n"
     ]
    }
   ],
   "source": [
    "for n in news:\n",
    "    doc = nlp(n)\n",
    "    label = []\n",
    "    for i in doc.ents:\n",
    "        label.append(i.label_)\n",
    "    if label != []:\n",
    "        print(displacy.render(doc, style='ent', jupyter=True))\n",
    "    else:\n",
    "        pass"
   ]
  },
  {
   "cell_type": "code",
   "execution_count": null,
   "metadata": {
    "collapsed": true
   },
   "outputs": [],
   "source": []
  }
 ],
 "metadata": {
  "kernelspec": {
   "display_name": "Python 3",
   "language": "python",
   "name": "python3"
  },
  "language_info": {
   "codemirror_mode": {
    "name": "ipython",
    "version": 3
   },
   "file_extension": ".py",
   "mimetype": "text/x-python",
   "name": "python",
   "nbconvert_exporter": "python",
   "pygments_lexer": "ipython3",
   "version": "3.6.3"
  }
 },
 "nbformat": 4,
 "nbformat_minor": 2
}
