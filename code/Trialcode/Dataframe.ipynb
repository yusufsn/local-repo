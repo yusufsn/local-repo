{
 "cells": [
  {
   "cell_type": "code",
   "execution_count": 2,
   "metadata": {
    "collapsed": true
   },
   "outputs": [],
   "source": [
    "import pandas as pd\n",
    "import csv"
   ]
  },
  {
   "cell_type": "code",
   "execution_count": 8,
   "metadata": {},
   "outputs": [
    {
     "name": "stdout",
     "output_type": "stream",
     "text": [
      "   id_student number status\n",
      "0           0  12345   pass\n",
      "1           1  12344   pass\n"
     ]
    }
   ],
   "source": [
    "assessment = ({\"id_student\":[0,1],\"number\":[\"12345\",\"12344\"]})\n",
    "info = ({\"id_student\":[0,1],\"status\":[\"pass\",\"pass\"]})\n",
    "\n",
    "df = pd.DataFrame(assessment)\n",
    "dc = pd.DataFrame(info)\n",
    "\n",
    "res = df.merge(dc, on=['id_student'], how='outer')\n",
    "print(res)"
   ]
  },
  {
   "cell_type": "code",
   "execution_count": 10,
   "metadata": {
    "collapsed": true
   },
   "outputs": [],
   "source": [
    "res.to_csv(\"new.csv\", index=False)"
   ]
  },
  {
   "cell_type": "code",
   "execution_count": 23,
   "metadata": {},
   "outputs": [
    {
     "name": "stdout",
     "output_type": "stream",
     "text": [
      "0x11b191d10\n",
      "0x11b1913f0\n",
      "False\n",
      "257 257\n"
     ]
    }
   ],
   "source": [
    "#Check memory address\n",
    "a = 257   # if a and b have same value between -5 and 256, then by definition there is only one object. \n",
    "b = 257   # So, they are same\n",
    "print (hex(id(a)))\n",
    "print (hex(id(b)))\n",
    "print (a is b)\n",
    "print (a,b)"
   ]
  },
  {
   "cell_type": "code",
   "execution_count": 27,
   "metadata": {
    "scrolled": true
   },
   "outputs": [
    {
     "data": {
      "text/html": [
       "<div>\n",
       "<style>\n",
       "    .dataframe thead tr:only-child th {\n",
       "        text-align: right;\n",
       "    }\n",
       "\n",
       "    .dataframe thead th {\n",
       "        text-align: left;\n",
       "    }\n",
       "\n",
       "    .dataframe tbody tr th {\n",
       "        vertical-align: top;\n",
       "    }\n",
       "</style>\n",
       "<table border=\"1\" class=\"dataframe\">\n",
       "  <thead>\n",
       "    <tr style=\"text-align: right;\">\n",
       "      <th></th>\n",
       "      <th>BL_month</th>\n",
       "      <th>BL_year</th>\n",
       "      <th>month</th>\n",
       "      <th>year</th>\n",
       "    </tr>\n",
       "  </thead>\n",
       "  <tbody>\n",
       "    <tr>\n",
       "      <th>0</th>\n",
       "      <td>Jan</td>\n",
       "      <td>2019</td>\n",
       "      <td>Jan</td>\n",
       "      <td>2018</td>\n",
       "    </tr>\n",
       "    <tr>\n",
       "      <th>1</th>\n",
       "      <td>Mar</td>\n",
       "      <td>2018</td>\n",
       "      <td>Feb</td>\n",
       "      <td>2018</td>\n",
       "    </tr>\n",
       "    <tr>\n",
       "      <th>2</th>\n",
       "      <td>Dec</td>\n",
       "      <td>2020</td>\n",
       "      <td>Dec</td>\n",
       "      <td>2018</td>\n",
       "    </tr>\n",
       "    <tr>\n",
       "      <th>3</th>\n",
       "      <td>Sep</td>\n",
       "      <td>2019</td>\n",
       "      <td>Apr</td>\n",
       "      <td>2019</td>\n",
       "    </tr>\n",
       "    <tr>\n",
       "      <th>4</th>\n",
       "      <td>Dec</td>\n",
       "      <td>2020</td>\n",
       "      <td>Nov</td>\n",
       "      <td>2020</td>\n",
       "    </tr>\n",
       "    <tr>\n",
       "      <th>5</th>\n",
       "      <td>Jan</td>\n",
       "      <td>2018</td>\n",
       "      <td>Sep</td>\n",
       "      <td>2019</td>\n",
       "    </tr>\n",
       "  </tbody>\n",
       "</table>\n",
       "</div>"
      ],
      "text/plain": [
       "  BL_month  BL_year month  year\n",
       "0      Jan     2019   Jan  2018\n",
       "1      Mar     2018   Feb  2018\n",
       "2      Dec     2020   Dec  2018\n",
       "3      Sep     2019   Apr  2019\n",
       "4      Dec     2020   Nov  2020\n",
       "5      Jan     2018   Sep  2019"
      ]
     },
     "execution_count": 27,
     "metadata": {},
     "output_type": "execute_result"
    }
   ],
   "source": [
    "data = ({\"year\":[2018,2018,2018,2019,2020,2019],\"month\":['Jan','Feb','Dec','Apr','Nov','Sep'],\n",
    "        \"BL_year\":[2019,2018,2020,2019,2020,2018],\"BL_month\":['Jan','Mar','Dec','Sep','Dec','Jan']})\n",
    "\n",
    "df = pd.DataFrame(data)\n",
    "df"
   ]
  },
  {
   "cell_type": "code",
   "execution_count": 59,
   "metadata": {
    "scrolled": true
   },
   "outputs": [
    {
     "data": {
      "text/plain": [
       "<matplotlib.axes._subplots.AxesSubplot at 0x11cd9bd30>"
      ]
     },
     "execution_count": 59,
     "metadata": {},
     "output_type": "execute_result"
    },
    {
     "data": {
      "image/png": "[encoded data removed]",
      "text/plain": [
       "<matplotlib.figure.Figure at 0x11cd770b8>"
      ]
     },
     "metadata": {},
     "output_type": "display_data"
    }
   ],
   "source": [
    "import matplotlib.pyplot as plt\n",
    "\n",
    "# Create an axis object\n",
    "fig, ax = plt.subplots()\n",
    "\n",
    "# Define dataframes\n",
    "df_Activity_count = df.sort_values(['year','month'],ascending = True).groupby('month')\n",
    "df_Activity_count_BL = df.sort_values(['BL_year','BL_month'],ascending = True).groupby('BL_month')\n",
    "\n",
    "# Plot using the axis object ax defined above\n",
    "df_Activity_count['year'].value_counts().unstack(0).plot.bar(ax=ax)\n",
    "df_Activity_count_BL['BL_year'].value_counts().unstack(0).plot.bar(ax=ax)"
   ]
  },
  {
   "cell_type": "code",
   "execution_count": 60,
   "metadata": {},
   "outputs": [
    {
     "data": {
      "text/html": [
       "<div>\n",
       "<style>\n",
       "    .dataframe thead tr:only-child th {\n",
       "        text-align: right;\n",
       "    }\n",
       "\n",
       "    .dataframe thead th {\n",
       "        text-align: left;\n",
       "    }\n",
       "\n",
       "    .dataframe tbody tr th {\n",
       "        vertical-align: top;\n",
       "    }\n",
       "</style>\n",
       "<table border=\"1\" class=\"dataframe\">\n",
       "  <thead>\n",
       "    <tr style=\"text-align: right;\">\n",
       "      <th></th>\n",
       "      <th>fields</th>\n",
       "      <th>first_name</th>\n",
       "      <th>id</th>\n",
       "      <th>last_name</th>\n",
       "    </tr>\n",
       "  </thead>\n",
       "  <tbody>\n",
       "    <tr>\n",
       "      <th>0</th>\n",
       "      <td>[{'title': 'ABC', 'value': '123'}, {'title': '...</td>\n",
       "      <td>John</td>\n",
       "      <td>123456</td>\n",
       "      <td>Doe</td>\n",
       "    </tr>\n",
       "  </tbody>\n",
       "</table>\n",
       "</div>"
      ],
      "text/plain": [
       "                                              fields first_name      id  \\\n",
       "0  [{'title': 'ABC', 'value': '123'}, {'title': '...       John  123456   \n",
       "\n",
       "  last_name  \n",
       "0       Doe  "
      ]
     },
     "execution_count": 60,
     "metadata": {},
     "output_type": "execute_result"
    }
   ],
   "source": [
    "data = [\n",
    "  {\n",
    "    \"id\": 123456,\n",
    "    \"first_name\": \"John\",\n",
    "    \"last_name\": \"Doe\",\n",
    "    \"fields\": [\n",
    "      {\n",
    "        \"title\": \"ABC\",\n",
    "        \"value\": \"123\"\n",
    "      },\n",
    "      {\n",
    "        \"title\": \"DEF\",\n",
    "        \"value\": \"456\"\n",
    "      }\n",
    "    ]\n",
    "  }\n",
    "]\n",
    "\n",
    "df = pd.DataFrame(data)\n",
    "df"
   ]
  },
  {
   "cell_type": "code",
   "execution_count": 62,
   "metadata": {},
   "outputs": [
    {
     "data": {
      "text/html": [
       "<div>\n",
       "<style>\n",
       "    .dataframe thead tr:only-child th {\n",
       "        text-align: right;\n",
       "    }\n",
       "\n",
       "    .dataframe thead th {\n",
       "        text-align: left;\n",
       "    }\n",
       "\n",
       "    .dataframe tbody tr th {\n",
       "        vertical-align: top;\n",
       "    }\n",
       "</style>\n",
       "<table border=\"1\" class=\"dataframe\">\n",
       "  <thead>\n",
       "    <tr style=\"text-align: right;\">\n",
       "      <th></th>\n",
       "      <th>title</th>\n",
       "      <th>value</th>\n",
       "      <th>id</th>\n",
       "      <th>first_name</th>\n",
       "      <th>last_name</th>\n",
       "    </tr>\n",
       "  </thead>\n",
       "  <tbody>\n",
       "    <tr>\n",
       "      <th>0</th>\n",
       "      <td>ABC</td>\n",
       "      <td>123</td>\n",
       "      <td>123456</td>\n",
       "      <td>John</td>\n",
       "      <td>Doe</td>\n",
       "    </tr>\n",
       "    <tr>\n",
       "      <th>1</th>\n",
       "      <td>DEF</td>\n",
       "      <td>456</td>\n",
       "      <td>123456</td>\n",
       "      <td>John</td>\n",
       "      <td>Doe</td>\n",
       "    </tr>\n",
       "  </tbody>\n",
       "</table>\n",
       "</div>"
      ],
      "text/plain": [
       "  title value      id first_name last_name\n",
       "0   ABC   123  123456       John       Doe\n",
       "1   DEF   456  123456       John       Doe"
      ]
     },
     "execution_count": 62,
     "metadata": {},
     "output_type": "execute_result"
    }
   ],
   "source": [
    "from pandas.io.json import json_normalize\n",
    "json_normalize(data, 'fields', ['id', 'first_name', 'last_name'])"
   ]
  },
  {
   "cell_type": "code",
   "execution_count": 191,
   "metadata": {},
   "outputs": [
    {
     "data": {
      "text/html": [
       "<div>\n",
       "<style>\n",
       "    .dataframe thead tr:only-child th {\n",
       "        text-align: right;\n",
       "    }\n",
       "\n",
       "    .dataframe thead th {\n",
       "        text-align: left;\n",
       "    }\n",
       "\n",
       "    .dataframe tbody tr th {\n",
       "        vertical-align: top;\n",
       "    }\n",
       "</style>\n",
       "<table border=\"1\" class=\"dataframe\">\n",
       "  <thead>\n",
       "    <tr style=\"text-align: right;\">\n",
       "      <th></th>\n",
       "      <th>id</th>\n",
       "      <th>text</th>\n",
       "    </tr>\n",
       "  </thead>\n",
       "  <tbody>\n",
       "    <tr>\n",
       "      <th>0</th>\n",
       "      <td>1</td>\n",
       "      <td>\"Gallagher, Keith G\" &lt;Keith.Gallagher@charter....</td>\n",
       "    </tr>\n",
       "    <tr>\n",
       "      <th>1</th>\n",
       "      <td>2</td>\n",
       "      <td>\"Wwwd\" &lt;ewr_r@example.ac.uk&gt; \\nDate: Friday, M...</td>\n",
       "    </tr>\n",
       "  </tbody>\n",
       "</table>\n",
       "</div>"
      ],
      "text/plain": [
       "  id                                               text\n",
       "0  1  \"Gallagher, Keith G\" <Keith.Gallagher@charter....\n",
       "1  2  \"Wwwd\" <ewr_r@example.ac.uk> \\nDate: Friday, M..."
      ]
     },
     "execution_count": 191,
     "metadata": {},
     "output_type": "execute_result"
    }
   ],
   "source": [
    "mailtext = ({\"id\":[\"1\",\"2\"],\"text\":['''\"Gallagher, Keith G\" <Keith.Gallagher@charter.com> \n",
    "Date: Friday, March 29, 2019 at 3:14 AM \n",
    "To: Lesley Kirchman <ljkirchman@actiontec.com>\n",
    "Subject: Automatic reply: News Recap, March 29, 2019 Issue of CrossTalk  \n",
    "\n",
    "Thank you for your email. I will be out of the office Thursday, March 28th \n",
    "through Monday, April 1st. I will respond to emails on Tuesday, April 2nd. \n",
    "If this is urgent please contact lisa.chiapetta@charter.com or  for National \n",
    "Account question or Stephen.thompson@charter.com or 309-557-1368 for \n",
    "National TeleSales \n",
    "inquiries.  \n",
    "Thank you, Keith''','''\"Wwwd\" <ewr_r@example.ac.uk> \n",
    "Date: Friday, March 29, 2019 at 3:14 AM \n",
    "To: Lesley Kirchman <sadaasd@actiontec.com>\n",
    "Subject: Automatic reply: News Recap, March 29, 2019 Issue of CrossTalk  \n",
    "\n",
    "Thank you for your email. I will be out of the office Thursday, March 28th \n",
    "through Monday, April 1st. I will respond to emails on Tuesday, April 2nd. \n",
    "If this is urgent please contact prutt@charter.com or  for National \n",
    "Account question or Jerry.jack@charter.com or for \n",
    "National TeleSales \n",
    "inquiries.  \n",
    "Thank you, Keith\n",
    "''']})\n",
    "\n",
    "dmail = pd.DataFrame(mailtext)\n",
    "dmail"
   ]
  },
  {
   "cell_type": "code",
   "execution_count": 192,
   "metadata": {},
   "outputs": [
    {
     "data": {
      "text/plain": [
       "[['<Keith.Gallagher@charter.com>',\n",
       "  '<ljkirchman@actiontec.com>, lisa.chiapetta@charter.com, Stephen.thompson@charter.com',\n",
       "  '309-557-1368'],\n",
       " ['<ewr_r@example.ac.uk>',\n",
       "  '<sadaasd@actiontec.com>, prutt@charter.com, Jerry.jack@charter.com']]"
      ]
     },
     "execution_count": 192,
     "metadata": {},
     "output_type": "execute_result"
    }
   ],
   "source": [
    "import re\n",
    "\n",
    "info = []\n",
    "for text in dmail[\"text\"]:\n",
    "    mail1 = re.findall(\"(\\S+@\\S+)\",text)[:1]\n",
    "    try:\n",
    "        mail2 = re.findall(\"(\\S+@\\S+)\",text)[1:]\n",
    "        phone = re.findall(\"(\\d{3}[\\W]\\d{3}[\\W]\\d{4})\",text)\n",
    "        mail1.insert(len(mail1),(\", \".join(m for m in mail2)))\n",
    "        mail1.insert(len(mail1),phone[0])\n",
    "    except:\n",
    "        pass\n",
    "    info.append(mail1)\n",
    "info"
   ]
  },
  {
   "cell_type": "code",
   "execution_count": 193,
   "metadata": {},
   "outputs": [
    {
     "data": {
      "text/html": [
       "<div>\n",
       "<style>\n",
       "    .dataframe thead tr:only-child th {\n",
       "        text-align: right;\n",
       "    }\n",
       "\n",
       "    .dataframe thead th {\n",
       "        text-align: left;\n",
       "    }\n",
       "\n",
       "    .dataframe tbody tr th {\n",
       "        vertical-align: top;\n",
       "    }\n",
       "</style>\n",
       "<table border=\"1\" class=\"dataframe\">\n",
       "  <thead>\n",
       "    <tr style=\"text-align: right;\">\n",
       "      <th></th>\n",
       "      <th>id</th>\n",
       "      <th>text</th>\n",
       "      <th>Sender</th>\n",
       "      <th>Other_mails</th>\n",
       "      <th>Phone</th>\n",
       "    </tr>\n",
       "  </thead>\n",
       "  <tbody>\n",
       "    <tr>\n",
       "      <th>0</th>\n",
       "      <td>1</td>\n",
       "      <td>\"Gallagher, Keith G\" &lt;Keith.Gallagher@charter....</td>\n",
       "      <td>&lt;Keith.Gallagher@charter.com&gt;</td>\n",
       "      <td>&lt;ljkirchman@actiontec.com&gt;, lisa.chiapetta@cha...</td>\n",
       "      <td>309-557-1368</td>\n",
       "    </tr>\n",
       "    <tr>\n",
       "      <th>1</th>\n",
       "      <td>2</td>\n",
       "      <td>\"Wwwd\" &lt;ewr_r@example.ac.uk&gt; \\nDate: Friday, M...</td>\n",
       "      <td>&lt;ewr_r@example.ac.uk&gt;</td>\n",
       "      <td>&lt;sadaasd@actiontec.com&gt;, prutt@charter.com, Je...</td>\n",
       "      <td>None</td>\n",
       "    </tr>\n",
       "  </tbody>\n",
       "</table>\n",
       "</div>"
      ],
      "text/plain": [
       "  id                                               text  \\\n",
       "0  1  \"Gallagher, Keith G\" <Keith.Gallagher@charter....   \n",
       "1  2  \"Wwwd\" <ewr_r@example.ac.uk> \\nDate: Friday, M...   \n",
       "\n",
       "                          Sender  \\\n",
       "0  <Keith.Gallagher@charter.com>   \n",
       "1          <ewr_r@example.ac.uk>   \n",
       "\n",
       "                                         Other_mails         Phone  \n",
       "0  <ljkirchman@actiontec.com>, lisa.chiapetta@cha...  309-557-1368  \n",
       "1  <sadaasd@actiontec.com>, prutt@charter.com, Je...          None  "
      ]
     },
     "execution_count": 193,
     "metadata": {},
     "output_type": "execute_result"
    }
   ],
   "source": [
    "dmail[['Sender', 'Other_mails', 'Phone']] = pd.DataFrame(info) \n",
    "(dmail)"
   ]
  },
  {
   "cell_type": "code",
   "execution_count": 15,
   "metadata": {},
   "outputs": [
    {
     "data": {
      "text/html": [
       "<div>\n",
       "<style>\n",
       "    .dataframe thead tr:only-child th {\n",
       "        text-align: right;\n",
       "    }\n",
       "\n",
       "    .dataframe thead th {\n",
       "        text-align: left;\n",
       "    }\n",
       "\n",
       "    .dataframe tbody tr th {\n",
       "        vertical-align: top;\n",
       "    }\n",
       "</style>\n",
       "<table border=\"1\" class=\"dataframe\">\n",
       "  <thead>\n",
       "    <tr style=\"text-align: right;\">\n",
       "      <th></th>\n",
       "      <th>Column1</th>\n",
       "      <th>Column2</th>\n",
       "      <th>Column3</th>\n",
       "    </tr>\n",
       "  </thead>\n",
       "  <tbody>\n",
       "    <tr>\n",
       "      <th>0</th>\n",
       "      <td>'cat'</td>\n",
       "      <td>'bat'</td>\n",
       "      <td>'xyz'</td>\n",
       "    </tr>\n",
       "    <tr>\n",
       "      <th>1</th>\n",
       "      <td>'toy'</td>\n",
       "      <td>'flower'</td>\n",
       "      <td>'abc'</td>\n",
       "    </tr>\n",
       "  </tbody>\n",
       "</table>\n",
       "</div>"
      ],
      "text/plain": [
       "  Column1   Column2 Column3\n",
       "0   'cat'     'bat'   'xyz'\n",
       "1   'toy'  'flower'   'abc'"
      ]
     },
     "execution_count": 15,
     "metadata": {},
     "output_type": "execute_result"
    }
   ],
   "source": [
    "df = pd.DataFrame({'Column1': [\"'Cat'\", \"'toy'\", \"'cat'\"],\n",
    "                   'Column2': [\"'Bat'\", \"'flower'\", \"'bat'\"],\n",
    "                   'Column3': [\"'xyz'\", \"'abc'\", \"'lmn'\"]})\n",
    "result_df = df.apply(lambda x: x.astype(str).str.lower()).drop_duplicates(subset=['Column1', 'Column2'], keep='first')\n",
    "result_df"
   ]
  },
  {
   "cell_type": "code",
   "execution_count": null,
   "metadata": {
    "collapsed": true
   },
   "outputs": [],
   "source": []
  }
 ],
 "metadata": {
  "kernelspec": {
   "display_name": "Python 3",
   "language": "python",
   "name": "python3"
  },
  "language_info": {
   "codemirror_mode": {
    "name": "ipython",
    "version": 3
   },
   "file_extension": ".py",
   "mimetype": "text/x-python",
   "name": "python",
   "nbconvert_exporter": "python",
   "pygments_lexer": "ipython3",
   "version": "3.6.3"
  }
 },
 "nbformat": 4,
 "nbformat_minor": 2
}
