{
 "cells": [
  {
   "cell_type": "code",
   "execution_count": 1,
   "metadata": {},
   "outputs": [
    {
     "name": "stdout",
     "output_type": "stream",
     "text": [
      "start time:  Fri Apr 10 10:54:25 2020\n",
      "End time:  Fri Apr 10 10:55:25 2020\n"
     ]
    }
   ],
   "source": [
    "from time import time,ctime,sleep\n",
    "\n",
    "t = time()\n",
    "print(\"start time: \", ctime(t))\n",
    "sleep(60)\n",
    "t = time()\n",
    "print(\"End time: \",ctime(t))"
   ]
  },
  {
   "cell_type": "code",
   "execution_count": 33,
   "metadata": {},
   "outputs": [
    {
     "name": "stdout",
     "output_type": "stream",
     "text": [
      "Enter the number of matrix: 2\n",
      "Enter the number of rows in each matrix: 2\n",
      "Enter the number of columns in each matrix: 2\n",
      "The number of matrix is 2, with dimension 2x2\n",
      "--------------------------------------------\n",
      "For matrix 1, enter integer in row 1,  column 1 : 1\n",
      "For matrix 1, enter integer in row 1,  column 2 : 24\n",
      "For matrix 1, enter integer in row 2,  column 1 : 5\n",
      "For matrix 1, enter integer in row 2,  column 2 : 23\n",
      "--------------------------------------------\n",
      "For matrix 2, enter integer in row 1,  column 1 : 5\n",
      "For matrix 2, enter integer in row 1,  column 2 : 3\n",
      "For matrix 2, enter integer in row 2,  column 1 : 2\n",
      "For matrix 2, enter integer in row 2,  column 2 : 1\n",
      "--------------------------------------------\n"
     ]
    },
    {
     "data": {
      "text/plain": [
       "[[[1, 24], [5, 23]], [[5, 3], [2, 1]]]"
      ]
     },
     "execution_count": 33,
     "metadata": {},
     "output_type": "execute_result"
    }
   ],
   "source": [
    "mn = int(input(\"Enter the number of matrix: \"))\n",
    "row = int(input(\"Enter the number of rows in each matrix: \"))\n",
    "col = int(input(\"Enter the number of columns in each matrix: \"))\n",
    "print (\"The number of matrix is %i\" %(mn) + \", with dimension %i\" %(row) + \"x%i\" %(col))\n",
    "print (\"--------------------------------------------\")\n",
    "\n",
    "matrix = []\n",
    "for m in range(mn):\n",
    "    rd = []\n",
    "    for r in range(row):\n",
    "        cd = []\n",
    "        for c in range(col):\n",
    "            num = int(input(\"For matrix %i\" %(m+1) + \", enter integer in row %i, \" %(r+1) + \" column %i : \" %(c+1)))\n",
    "            cd.append(num)\n",
    "        rd.append(cd)\n",
    "    print (\"--------------------------------------------\")\n",
    "    matrix.append(rd)\n",
    "\n",
    "matrix\n",
    "        "
   ]
  },
  {
   "cell_type": "code",
   "execution_count": 34,
   "metadata": {},
   "outputs": [
    {
     "data": {
      "text/plain": [
       "['10', '1000', '51000', '500', '63000']"
      ]
     },
     "execution_count": 34,
     "metadata": {},
     "output_type": "execute_result"
    }
   ],
   "source": [
    "mylist = ['10', '1,000', '51,000', '500', '63,000']\n",
    "\n",
    "newlist = []\n",
    "for n in mylist:\n",
    "    temp = n.replace(\",\",'')\n",
    "    newlist.append(temp)\n",
    "newlist"
   ]
  },
  {
   "cell_type": "code",
   "execution_count": 39,
   "metadata": {},
   "outputs": [
    {
     "data": {
      "text/plain": [
       "['werwe', 'wqewqe', 'wedfgd']"
      ]
     },
     "execution_count": 39,
     "metadata": {},
     "output_type": "execute_result"
    }
   ],
   "source": [
    "check = ['\"werwe\"', 'wqe\"wqe','wedfgd']\n",
    "\n",
    "new = []\n",
    "for c in check:\n",
    "    new.append(c.replace('\"',''))\n",
    "new"
   ]
  },
  {
   "cell_type": "code",
   "execution_count": 127,
   "metadata": {},
   "outputs": [
    {
     "data": {
      "text/html": [
       "<div>\n",
       "<style scoped>\n",
       "    .dataframe tbody tr th:only-of-type {\n",
       "        vertical-align: middle;\n",
       "    }\n",
       "\n",
       "    .dataframe tbody tr th {\n",
       "        vertical-align: top;\n",
       "    }\n",
       "\n",
       "    .dataframe thead th {\n",
       "        text-align: right;\n",
       "    }\n",
       "</style>\n",
       "<table border=\"1\" class=\"dataframe\">\n",
       "  <thead>\n",
       "    <tr style=\"text-align: right;\">\n",
       "      <th></th>\n",
       "      <th>ids</th>\n",
       "      <th>vals</th>\n",
       "    </tr>\n",
       "  </thead>\n",
       "  <tbody>\n",
       "    <tr>\n",
       "      <th>0</th>\n",
       "      <td>101</td>\n",
       "      <td>apple</td>\n",
       "    </tr>\n",
       "    <tr>\n",
       "      <th>1</th>\n",
       "      <td>102</td>\n",
       "      <td>java</td>\n",
       "    </tr>\n",
       "    <tr>\n",
       "      <th>2</th>\n",
       "      <td>103</td>\n",
       "      <td>python</td>\n",
       "    </tr>\n",
       "  </tbody>\n",
       "</table>\n",
       "</div>"
      ],
      "text/plain": [
       "   ids    vals\n",
       "0  101   apple\n",
       "1  102    java\n",
       "2  103  python"
      ]
     },
     "execution_count": 127,
     "metadata": {},
     "output_type": "execute_result"
    }
   ],
   "source": [
    "df1 = pd.DataFrame({'ids': [101,102,103],'vals': ['apple','java','python']})\n",
    "df1"
   ]
  },
  {
   "cell_type": "code",
   "execution_count": 128,
   "metadata": {},
   "outputs": [
    {
     "data": {
      "text/html": [
       "<div>\n",
       "<style scoped>\n",
       "    .dataframe tbody tr th:only-of-type {\n",
       "        vertical-align: middle;\n",
       "    }\n",
       "\n",
       "    .dataframe tbody tr th {\n",
       "        vertical-align: top;\n",
       "    }\n",
       "\n",
       "    .dataframe thead th {\n",
       "        text-align: right;\n",
       "    }\n",
       "</style>\n",
       "<table border=\"1\" class=\"dataframe\">\n",
       "  <thead>\n",
       "    <tr style=\"text-align: right;\">\n",
       "      <th></th>\n",
       "      <th>TEXT_DATA</th>\n",
       "    </tr>\n",
       "  </thead>\n",
       "  <tbody>\n",
       "    <tr>\n",
       "      <th>0</th>\n",
       "      <td>apple a day keeps doctor away</td>\n",
       "    </tr>\n",
       "    <tr>\n",
       "      <th>1</th>\n",
       "      <td>apple tree in my farm</td>\n",
       "    </tr>\n",
       "    <tr>\n",
       "      <th>2</th>\n",
       "      <td>python is not new language</td>\n",
       "    </tr>\n",
       "    <tr>\n",
       "      <th>3</th>\n",
       "      <td>Learn python programming</td>\n",
       "    </tr>\n",
       "    <tr>\n",
       "      <th>4</th>\n",
       "      <td>java is second language</td>\n",
       "    </tr>\n",
       "  </tbody>\n",
       "</table>\n",
       "</div>"
      ],
      "text/plain": [
       "                       TEXT_DATA\n",
       "0  apple a day keeps doctor away\n",
       "1          apple tree in my farm\n",
       "2     python is not new language\n",
       "3       Learn python programming\n",
       "4        java is second language"
      ]
     },
     "execution_count": 128,
     "metadata": {},
     "output_type": "execute_result"
    }
   ],
   "source": [
    "df = pd.DataFrame({'TEXT_DATA': [u'apple a day keeps doctor away', u'apple tree in my farm', u'python is not new language', \n",
    "                                 u'Learn python programming', u'java is second language']})\n",
    "df"
   ]
  },
  {
   "cell_type": "code",
   "execution_count": 140,
   "metadata": {},
   "outputs": [
    {
     "data": {
      "text/html": [
       "<div>\n",
       "<style scoped>\n",
       "    .dataframe tbody tr th:only-of-type {\n",
       "        vertical-align: middle;\n",
       "    }\n",
       "\n",
       "    .dataframe tbody tr th {\n",
       "        vertical-align: top;\n",
       "    }\n",
       "\n",
       "    .dataframe thead th {\n",
       "        text-align: right;\n",
       "    }\n",
       "</style>\n",
       "<table border=\"1\" class=\"dataframe\">\n",
       "  <thead>\n",
       "    <tr style=\"text-align: right;\">\n",
       "      <th></th>\n",
       "      <th>TEXT_DATA</th>\n",
       "      <th>ids</th>\n",
       "    </tr>\n",
       "  </thead>\n",
       "  <tbody>\n",
       "    <tr>\n",
       "      <th>0</th>\n",
       "      <td>apple a day keeps doctor away</td>\n",
       "      <td>101</td>\n",
       "    </tr>\n",
       "    <tr>\n",
       "      <th>1</th>\n",
       "      <td>apple tree in my farm</td>\n",
       "      <td>101</td>\n",
       "    </tr>\n",
       "    <tr>\n",
       "      <th>2</th>\n",
       "      <td>python is not new language</td>\n",
       "      <td>103</td>\n",
       "    </tr>\n",
       "    <tr>\n",
       "      <th>3</th>\n",
       "      <td>Learn python programming</td>\n",
       "      <td>103</td>\n",
       "    </tr>\n",
       "    <tr>\n",
       "      <th>4</th>\n",
       "      <td>java is second language</td>\n",
       "      <td>102</td>\n",
       "    </tr>\n",
       "  </tbody>\n",
       "</table>\n",
       "</div>"
      ],
      "text/plain": [
       "                       TEXT_DATA  ids\n",
       "0  apple a day keeps doctor away  101\n",
       "1          apple tree in my farm  101\n",
       "2     python is not new language  103\n",
       "3       Learn python programming  103\n",
       "4        java is second language  102"
      ]
     },
     "execution_count": 140,
     "metadata": {},
     "output_type": "execute_result"
    }
   ],
   "source": [
    "extr = '|'.join(x for x in df1['vals'])\n",
    "df['vals'] = df['TEXT_DATA'].str.extract('('+ extr + ')', expand=False)\n",
    "newdf = pd.merge(df, df1, on='vals', how='left')\n",
    "newdf[['TEXT_DATA','ids']]"
   ]
  },
  {
   "cell_type": "code",
   "execution_count": 150,
   "metadata": {},
   "outputs": [
    {
     "data": {
      "text/html": [
       "<div>\n",
       "<style scoped>\n",
       "    .dataframe tbody tr th:only-of-type {\n",
       "        vertical-align: middle;\n",
       "    }\n",
       "\n",
       "    .dataframe tbody tr th {\n",
       "        vertical-align: top;\n",
       "    }\n",
       "\n",
       "    .dataframe thead th {\n",
       "        text-align: right;\n",
       "    }\n",
       "</style>\n",
       "<table border=\"1\" class=\"dataframe\">\n",
       "  <thead>\n",
       "    <tr style=\"text-align: right;\">\n",
       "      <th></th>\n",
       "      <th>TEXT_DATA</th>\n",
       "      <th>vals</th>\n",
       "      <th>new</th>\n",
       "    </tr>\n",
       "  </thead>\n",
       "  <tbody>\n",
       "    <tr>\n",
       "      <th>0</th>\n",
       "      <td>apple a day keeps doctor away</td>\n",
       "      <td>apple</td>\n",
       "      <td>True</td>\n",
       "    </tr>\n",
       "    <tr>\n",
       "      <th>1</th>\n",
       "      <td>apple tree in my farm</td>\n",
       "      <td>apple</td>\n",
       "      <td>True</td>\n",
       "    </tr>\n",
       "    <tr>\n",
       "      <th>2</th>\n",
       "      <td>python is not new language</td>\n",
       "      <td>python</td>\n",
       "      <td>False</td>\n",
       "    </tr>\n",
       "    <tr>\n",
       "      <th>3</th>\n",
       "      <td>Learn python programming</td>\n",
       "      <td>python</td>\n",
       "      <td>False</td>\n",
       "    </tr>\n",
       "    <tr>\n",
       "      <th>4</th>\n",
       "      <td>java is second language</td>\n",
       "      <td>java</td>\n",
       "      <td>False</td>\n",
       "    </tr>\n",
       "  </tbody>\n",
       "</table>\n",
       "</div>"
      ],
      "text/plain": [
       "                       TEXT_DATA    vals    new\n",
       "0  apple a day keeps doctor away   apple   True\n",
       "1          apple tree in my farm   apple   True\n",
       "2     python is not new language  python  False\n",
       "3       Learn python programming  python  False\n",
       "4        java is second language    java  False"
      ]
     },
     "execution_count": 150,
     "metadata": {},
     "output_type": "execute_result"
    }
   ],
   "source": [
    "df['new'] = df.TEXT_DATA.apply(lambda x: 'apple' in str(x))\n",
    "df"
   ]
  },
  {
   "cell_type": "code",
   "execution_count": 97,
   "metadata": {},
   "outputs": [
    {
     "name": "stdout",
     "output_type": "stream",
     "text": [
      "apple\n",
      "java\n",
      "python\n"
     ]
    }
   ],
   "source": [
    "for i in df1['vals']:\n",
    "    print (i)"
   ]
  },
  {
   "cell_type": "code",
   "execution_count": 151,
   "metadata": {},
   "outputs": [
    {
     "data": {
      "text/html": [
       "<div>\n",
       "<style scoped>\n",
       "    .dataframe tbody tr th:only-of-type {\n",
       "        vertical-align: middle;\n",
       "    }\n",
       "\n",
       "    .dataframe tbody tr th {\n",
       "        vertical-align: top;\n",
       "    }\n",
       "\n",
       "    .dataframe thead th {\n",
       "        text-align: right;\n",
       "    }\n",
       "</style>\n",
       "<table border=\"1\" class=\"dataframe\">\n",
       "  <thead>\n",
       "    <tr style=\"text-align: right;\">\n",
       "      <th></th>\n",
       "      <th>TEXT_DATA</th>\n",
       "      <th>vals</th>\n",
       "      <th>ids</th>\n",
       "    </tr>\n",
       "  </thead>\n",
       "  <tbody>\n",
       "    <tr>\n",
       "      <th>0</th>\n",
       "      <td>apple a day keeps doctor away</td>\n",
       "      <td>apple</td>\n",
       "      <td>101</td>\n",
       "    </tr>\n",
       "    <tr>\n",
       "      <th>1</th>\n",
       "      <td>apple tree in my farm</td>\n",
       "      <td>apple</td>\n",
       "      <td>101</td>\n",
       "    </tr>\n",
       "    <tr>\n",
       "      <th>2</th>\n",
       "      <td>python is not new language</td>\n",
       "      <td>python</td>\n",
       "      <td>103</td>\n",
       "    </tr>\n",
       "    <tr>\n",
       "      <th>3</th>\n",
       "      <td>Learn python programming</td>\n",
       "      <td>python</td>\n",
       "      <td>103</td>\n",
       "    </tr>\n",
       "    <tr>\n",
       "      <th>4</th>\n",
       "      <td>java is second language</td>\n",
       "      <td>java</td>\n",
       "      <td>102</td>\n",
       "    </tr>\n",
       "  </tbody>\n",
       "</table>\n",
       "</div>"
      ],
      "text/plain": [
       "                       TEXT_DATA    vals  ids\n",
       "0  apple a day keeps doctor away   apple  101\n",
       "1          apple tree in my farm   apple  101\n",
       "2     python is not new language  python  103\n",
       "3       Learn python programming  python  103\n",
       "4        java is second language    java  102"
      ]
     },
     "execution_count": 151,
     "metadata": {},
     "output_type": "execute_result"
    }
   ],
   "source": [
    "newdf"
   ]
  },
  {
   "cell_type": "code",
   "execution_count": 154,
   "metadata": {},
   "outputs": [
    {
     "name": "stdout",
     "output_type": "stream",
     "text": [
      "j:  5\n",
      "intList:  [1, 5, 4, 9, 7, 2, 15, 6.08]\n",
      "intList:  [1, 5, 9, 7, 2, 15, 6.08]\n",
      "intList:  [1, 5, 67, 9, 7, 2, 15, 6.08]\n",
      "g:  9\n"
     ]
    }
   ],
   "source": [
    "intList = [1, 5, 4, 9, 7, 2, 15]\n",
    "def manipfunc(a):\n",
    "    j = a.index(2)\n",
    "    print (\"j: \",j)\n",
    "    a.append(6.08)\n",
    "    print (\"intList: \",a)\n",
    "    a.remove(4)\n",
    "    print (\"intList: \",a)\n",
    "    a.insert(2,67)\n",
    "    print (\"intList: \",a)\n",
    "    g = a.pop(3)\n",
    "    print (\"g: \",g)\n",
    "#     print(a)\n",
    "#     print(j, g)\n",
    "manipfunc(intList)"
   ]
  },
  {
   "cell_type": "code",
   "execution_count": 173,
   "metadata": {},
   "outputs": [
    {
     "data": {
      "text/html": [
       "<div>\n",
       "<style scoped>\n",
       "    .dataframe tbody tr th:only-of-type {\n",
       "        vertical-align: middle;\n",
       "    }\n",
       "\n",
       "    .dataframe tbody tr th {\n",
       "        vertical-align: top;\n",
       "    }\n",
       "\n",
       "    .dataframe thead th {\n",
       "        text-align: right;\n",
       "    }\n",
       "</style>\n",
       "<table border=\"1\" class=\"dataframe\">\n",
       "  <thead>\n",
       "    <tr style=\"text-align: right;\">\n",
       "      <th></th>\n",
       "      <th>PartNumber</th>\n",
       "      <th>Prefix</th>\n",
       "    </tr>\n",
       "  </thead>\n",
       "  <tbody>\n",
       "    <tr>\n",
       "      <th>0</th>\n",
       "      <td>ABC</td>\n",
       "      <td></td>\n",
       "    </tr>\n",
       "    <tr>\n",
       "      <th>1</th>\n",
       "      <td>DEF</td>\n",
       "      <td></td>\n",
       "    </tr>\n",
       "    <tr>\n",
       "      <th>2</th>\n",
       "      <td>BLABLA</td>\n",
       "      <td>1 FO-</td>\n",
       "    </tr>\n",
       "    <tr>\n",
       "      <th>3</th>\n",
       "      <td>EXAMPLE</td>\n",
       "      <td>2 IA-</td>\n",
       "    </tr>\n",
       "  </tbody>\n",
       "</table>\n",
       "</div>"
      ],
      "text/plain": [
       "  PartNumber Prefix\n",
       "0        ABC       \n",
       "1        DEF       \n",
       "2     BLABLA  1 FO-\n",
       "3    EXAMPLE  2 IA-"
      ]
     },
     "execution_count": 173,
     "metadata": {},
     "output_type": "execute_result"
    }
   ],
   "source": [
    "pr_list = ['1 FO-','2 IA-']\n",
    "df = pd.DataFrame({'PartNumber':['ABC','DEF','1 FO-BLABLA','2 IA-EXAMPLE']})\n",
    "\n",
    "extr = '|'.join(x for x in pr_list)\n",
    "df['Prefix'] = df['PartNumber'].str.extract('('+ extr + ')', expand=False).fillna('')\n",
    "df['PartNumber'] = df['PartNumber'].str.replace('|'.join(pr_list),'')\n",
    "df\n",
    "# df['Prefix']=df.PartNumber.str.extract(r'({})'.format('|'.join(pr_list))).fillna('')\n",
    "# df.PartNumber=df.PartNumber.str.replace('|'.join(pr_list),'')\n",
    "# print(df)"
   ]
  },
  {
   "cell_type": "code",
   "execution_count": 9,
   "metadata": {},
   "outputs": [
    {
     "name": "stdout",
     "output_type": "stream",
     "text": [
      "Enter a number: 4\n",
      "Enter a number: 6\n",
      "Enter a number: 8\n",
      "Enter a number: \n",
      "Total =  18.0\n"
     ]
    }
   ],
   "source": [
    "entries = []\n",
    "total_sum = 0\n",
    "\n",
    "while True:\n",
    "    numbers = input(\"Enter a number: \")\n",
    "    if numbers == \"\":\n",
    "        break\n",
    "    else:\n",
    "        entries.append(float(numbers))\n",
    "total_sum = sum(entries)\n",
    "print(\"Total = \",total_sum)"
   ]
  },
  {
   "cell_type": "code",
   "execution_count": 66,
   "metadata": {
    "scrolled": true
   },
   "outputs": [
    {
     "name": "stdout",
     "output_type": "stream",
     "text": [
      "['NRC234456789', 'AZN123456789', 'BSA123456789', 'SSR789456123']\n"
     ]
    }
   ],
   "source": [
    "import re\n",
    "\n",
    "str_test = 'This is a sample text NRC234456789 and this is another case AZN.1.Z.3.4.S.6.7.8.9 and this another case BSA 123 456 789 and final case SSR/789456123'\n",
    "regex = re.findall(\"([A-Z]{3})([A-Z0-9.\\s\\/]{2,})\",str_test)\n",
    "result = []\n",
    "for r in regex:\n",
    "    result.append(r[0]+(\"\".join(re.sub(\"([^\\d\\w])\",\"\",str(r[1])).replace(\"Z\",\"2\").replace(\"S\",\"5\"))))\n",
    "\n",
    "print (result)"
   ]
  },
  {
   "cell_type": "code",
   "execution_count": 86,
   "metadata": {
    "scrolled": true
   },
   "outputs": [
    {
     "name": "stdout",
     "output_type": "stream",
     "text": [
      "1 Star Trek II: The Wrath Of Khan --> Streaming until 30 Jun 2019\n",
      "2 Star Trek V: The Final Frontier --> Streaming until 30 Jun 2019\n",
      "3 Return of The Seven --> Streaming until 30 Sep 2019\n",
      "4 The Matrix Reloaded --> Streaming until 13 Nov 2019\n",
      "5 Watchmen --> Streaming until 06 Jun 2019\n",
      "6 Five Easy Pieces --> Streaming until 31 Dec 2019\n",
      "7 Hitman --> Streaming until 30 Jun 2019\n",
      "8 The Object of My Affection --> Streaming until 09 Aug 2019\n",
      "9 Beverly Hills Cop II --> Streaming until 30 Jun 2019\n",
      "10 The Prince Of Tides --> Streaming until 31 Dec 2019\n",
      "11 Steel Magnolias --> Streaming until 30 Sep 2019\n",
      "12 Antwone Fisher --> Streaming until 30 Jun 2019\n",
      "13 Amistad --> Streaming until 31 Jul 2019\n",
      "14 1984 --> Streaming until 31 Oct 2019\n",
      "15 The Odd Couple --> Streaming until 30 Sep 2019\n",
      "16 Donnie Brasco --> Streaming until 30 Jun 2019\n",
      "17 John Carpenter's Ghosts Of Mars --> Streaming until 20 Oct 2019\n",
      "18 1941 --> Streaming until 30 Jun 2019\n",
      "19 Warden Of Red Rock --> Streaming until 31 Dec 2019\n",
      "20 Mighty Morphin Power Rangers:... --> Streaming until 30 Jun 2019\n",
      "21 Avengers Confidential: Black... --> Streaming until 03 Sep 2019\n",
      "22 Alive --> Streaming until 30 Jun 2019\n",
      "23 Sucker Free City --> Streaming until 31 Dec 2019\n",
      "24 Mission: Impossible III --> Streaming until 05 Feb 2020\n",
      "25 West Side Story --> Streaming until 30 Apr 2019\n",
      "26 An Officer And A Gentleman --> Streaming until 31 Oct 2019\n",
      "27 Ace In The Hole --> Streaming until 30 Jun 2019\n",
      "28 Ronin --> Streaming until 30 Apr 2019\n",
      "29 Stone Of Destiny --> Streaming until 03 Jun 2023\n",
      "30 High Noon --> Streaming until 31 Jan 2020\n",
      "31 Star Trek: Insurrection --> Streaming until 30 Jun 2019\n",
      "32 Star Trek VI: The Undiscovered... --> Streaming until 30 Jun 2019\n",
      "33 Guns Of The Magnificent Seven --> Streaming until 30 Sep 2019\n",
      "34 Breakdown (1997) --> Streaming until 31 Dec 2019\n",
      "35 Hustle & Flow --> Streaming until 19 Jun 2019\n",
      "36 Elmore Leonard's Gold Coast --> Streaming until 31 Dec 2019\n",
      "37 My Best Friend's Wedding --> Streaming until 30 Sep 2019\n",
      "38 Hell Is For Heroes --> Streaming until 30 Sep 2019\n",
      "39 Heartburn --> Streaming until 31 May 2019\n",
      "40 Trapped in Paradise --> Streaming until 30 Jun 2019\n",
      "41 The Birds --> Streaming until 31 May 2019\n",
      "42 Notorious --> Streaming until 30 Jun 2019\n",
      "43 Erin Brockovich --> Streaming until 31 Dec 2019\n",
      "44 Aquamarine --> Streaming until 30 Jun 2019\n",
      "45 Pet Sematary --> Streaming until 30 Jun 2019\n",
      "46 Fatal Attraction --> Streaming until 30 Jun 2019\n",
      "47 Star Trek III: The Search For... --> Streaming until 30 Jun 2019\n",
      "48 Happy Gilmore --> Streaming until 30 Jun 2019\n",
      "49 White Christmas --> Streaming until 31 Aug 2019\n",
      "50 Beverly Hills Cop --> Streaming until 30 Jun 2019\n",
      "51 Taps --> Streaming until 30 Jun 2019\n",
      "52 To Sir With Love --> Streaming until 30 Sep 2019\n",
      "53 This Christmas --> Streaming until 30 Sep 2019\n",
      "54 Airheads --> Streaming until 01 Jul 2019\n",
      "55 Escape From Alcatraz --> Streaming until 31 Jul 2019\n",
      "56 Star Trek Generations --> Streaming until 30 Jun 2019\n",
      "57 In Harm's Way --> Streaming until 31 Jul 2019\n",
      "58 The Great Wall: Special --> Streaming until 07 Feb 2020\n",
      "59 Star Trek --> Streaming until 30 Sep 2019\n",
      "60 The Banger Sisters --> Streaming until 30 Jun 2019\n"
     ]
    }
   ],
   "source": [
    "from bs4 import BeautifulSoup\n",
    "import requests\n",
    "\n",
    "link = \"https://www.nowtv.com/stream/all-movies\"\n",
    "r = requests.get(link)\n",
    "page = BeautifulSoup(r.content, \"html.parser\")\n",
    "\n",
    "for i,dd in enumerate(page.find_all(\"div\", {\"class\":\"ib-card-info-container\"})):\n",
    "    title = dd.find(class_=\"ib-card-title ib-colour-v1_white\").text.strip()\n",
    "    date = dd.find(class_=\"ib-card-availability-container ib-colour-20Grey\").text.strip()\n",
    "    print(i+1,title + \" --> \" + date)"
   ]
  },
  {
   "cell_type": "code",
   "execution_count": 50,
   "metadata": {},
   "outputs": [
    {
     "name": "stdout",
     "output_type": "stream",
     "text": [
      "['08071-0888']\n"
     ]
    }
   ],
   "source": [
    "from bs4 import BeautifulSoup\n",
    "import requests, re\n",
    "\n",
    "url = \"https://www.sec.gov/Archives/edgar/data/20/000095012310024631/c97665e10vk.htm\"\n",
    "\n",
    "page = requests.get(url)\n",
    "soup = BeautifulSoup(page.content, \"html.parser\")\n",
    "\n",
    "for s in soup.find_all(\"td\", attrs={\"align\":\"center\"}):\n",
    "    zipcode = re.findall(\"(\\d{5}-\\d{4})\",str(s))\n",
    "    if zipcode != []:\n",
    "        print (zipcode)"
   ]
  },
  {
   "cell_type": "code",
   "execution_count": 58,
   "metadata": {},
   "outputs": [
    {
     "name": "stdout",
     "output_type": "stream",
     "text": [
      "[]\n"
     ]
    }
   ],
   "source": [
    "td = '<td align=\"center\" valign=\"top\">08071-0888</td>'\n",
    "\n",
    "zipc = re.findall(\"\\b[0-9]{5}(?:-[0-9]{4})?\\b\",td)\n",
    "print (zipc)"
   ]
  },
  {
   "cell_type": "code",
   "execution_count": 59,
   "metadata": {},
   "outputs": [
    {
     "name": "stdout",
     "output_type": "stream",
     "text": [
      "0 0 0 | 0 0 0 | 0 0 0\n",
      "0 0 0 | 0 0 0 | 0 0 0\n",
      "0 0 0 | 0 0 0 | 0 0 0\n",
      "- - - + - - - + - - -\n",
      "0 0 0 | 0 0 0 | 0 0 0\n",
      "0 0 0 | 0 0 0 | 0 0 0\n",
      "0 0 0 | 0 0 0 | 0 0 0\n",
      "- - - + - - - + - - -\n",
      "0 0 0 | 0 0 0 | 0 0 0\n",
      "0 0 0 | 0 0 0 | 0 0 0\n",
      "0 0 0 | 0 0 0 | 0 0 0\n"
     ]
    }
   ],
   "source": [
    "board = [[0,0,0,0,0,0,0,0,0],\n",
    "         [0,0,0,0,0,0,0,0,0],\n",
    "         [0,0,0,0,0,0,0,0,0],\n",
    "         [0,0,0,0,0,0,0,0,0],\n",
    "         [0,0,0,0,0,0,0,0,0],\n",
    "         [0,0,0,0,0,0,0,0,0],\n",
    "         [0,0,0,0,0,0,0,0,0],\n",
    "         [0,0,0,0,0,0,0,0,0],\n",
    "         [0,0,0,0,0,0,0,0,0]]\n",
    "\n",
    "def print_board(bo):\n",
    "    for i in range(len(bo)):\n",
    "        if i % 3 == 0 and i != 0:\n",
    "            print(\"- - - + - - - + - - -\")\n",
    "\n",
    "        for j in range(len(bo[0])):\n",
    "            if j % 3 == 0 and j != 0:\n",
    "                print(\"| \", end=\"\")\n",
    "\n",
    "            if j == 8:\n",
    "                print(bo[i][j])\n",
    "            else:\n",
    "                print(str(bo[i][j]) + \" \", end=\"\")\n",
    "                \n",
    "print_board(board)"
   ]
  },
  {
   "cell_type": "code",
   "execution_count": 94,
   "metadata": {},
   "outputs": [
    {
     "name": "stdout",
     "output_type": "stream",
     "text": [
      "Enter a number between -100 and 200: 455\n",
      "Enter a number between -100 and 200: 4\n",
      "Thank you\n"
     ]
    }
   ],
   "source": [
    "number = float(input(\"Enter a number between -100 and 200: \"))\n",
    "while number<-100 or number>200:\n",
    "    number = float(input(\"Enter a number between -100 and 200: \"))\n",
    "print (\"Thank you\")"
   ]
  },
  {
   "cell_type": "code",
   "execution_count": 95,
   "metadata": {},
   "outputs": [
    {
     "name": "stdout",
     "output_type": "stream",
     "text": [
      "Number: 1011\n",
      "Enter a number between -100 and 200!\n",
      "Number: -101\n",
      "Enter a number between -100 and 200!\n",
      "Number: 3\n"
     ]
    }
   ],
   "source": [
    "while True:\n",
    "    average_temp = int(input('Number: '))\n",
    "    if 200 > average_temp > -100:\n",
    "        break\n",
    "    else:\n",
    "        print('Enter a number between -100 and 200!')"
   ]
  },
  {
   "cell_type": "code",
   "execution_count": 98,
   "metadata": {},
   "outputs": [
    {
     "name": "stdout",
     "output_type": "stream",
     "text": [
      "number: 3\n",
      "number: 5\n",
      "number: 1\n",
      "number: e\n",
      "[3, 5, 1]\n"
     ]
    }
   ],
   "source": [
    "numbers = []\n",
    "while True:\n",
    "    number = input(\"number: \")\n",
    "    try:\n",
    "        number = int(number)\n",
    "        if number not in numbers:\n",
    "            numbers.append(number)\n",
    "    except:\n",
    "        break   \n",
    "\n",
    "print (numbers)"
   ]
  },
  {
   "cell_type": "code",
   "execution_count": 100,
   "metadata": {},
   "outputs": [
    {
     "data": {
      "text/plain": [
       "31"
      ]
     },
     "execution_count": 100,
     "metadata": {},
     "output_type": "execute_result"
    }
   ],
   "source": [
    "num = 3.1\n",
    "int(str(num).replace(\".\",\"\"))"
   ]
  },
  {
   "cell_type": "code",
   "execution_count": 110,
   "metadata": {},
   "outputs": [
    {
     "name": "stdout",
     "output_type": "stream",
     "text": [
      "Enter your name: Budi\n",
      "Enter your year of birth: wefw\n",
      "This is not your year of birth.\n",
      "Enter your year of birth: weq\n",
      "This is not your year of birth.\n",
      "Enter your year of birth: asd\n",
      "This is not your year of birth.\n",
      "Enter your year of birth: 12\n",
      "Hey, Budi ,in 112 year you will have 100 years.\n"
     ]
    }
   ],
   "source": [
    "def name_check(x):\n",
    "    pattern1=r'[A-Za-z]'\n",
    "    if re.match(pattern1,x):\n",
    "        return x\n",
    "    else:\n",
    "        print ('This is not your name.')\n",
    "        return give_name()\n",
    "def year_check(y):\n",
    "    pattern2=r'(\\d)'\n",
    "    if re.match(pattern2,y):\n",
    "        return y\n",
    "    else:\n",
    "        print ('This is not your year of birth.')\n",
    "        return give_year()\n",
    "def printing(x,y):\n",
    "    try:\n",
    "        print('Hey,',x,',in',int(y)+100,'year you will have 100 years.')\n",
    "    except:\n",
    "        print ('An error occured.')\n",
    "def give_name():\n",
    "    x=str(input('Enter your name: '))\n",
    "    return name_check(x)\n",
    "def give_year():\n",
    "    y=input('Enter your year of birth: ')\n",
    "    return year_check(y)\n",
    "def program():\n",
    "    x=give_name()\n",
    "    y=give_year()\n",
    "    printing(x,y)\n",
    "program()"
   ]
  },
  {
   "cell_type": "code",
   "execution_count": 111,
   "metadata": {},
   "outputs": [
    {
     "data": {
      "text/html": [
       "<div>\n",
       "<style scoped>\n",
       "    .dataframe tbody tr th:only-of-type {\n",
       "        vertical-align: middle;\n",
       "    }\n",
       "\n",
       "    .dataframe tbody tr th {\n",
       "        vertical-align: top;\n",
       "    }\n",
       "\n",
       "    .dataframe thead th {\n",
       "        text-align: right;\n",
       "    }\n",
       "</style>\n",
       "<table border=\"1\" class=\"dataframe\">\n",
       "  <thead>\n",
       "    <tr style=\"text-align: right;\">\n",
       "      <th></th>\n",
       "      <th>items</th>\n",
       "      <th>groups</th>\n",
       "      <th>ranks</th>\n",
       "    </tr>\n",
       "  </thead>\n",
       "  <tbody>\n",
       "    <tr>\n",
       "      <th>0</th>\n",
       "      <td>item1</td>\n",
       "      <td>A</td>\n",
       "      <td>1</td>\n",
       "    </tr>\n",
       "    <tr>\n",
       "      <th>1</th>\n",
       "      <td>item2</td>\n",
       "      <td>B</td>\n",
       "      <td>2</td>\n",
       "    </tr>\n",
       "    <tr>\n",
       "      <th>2</th>\n",
       "      <td>item3</td>\n",
       "      <td>C</td>\n",
       "      <td>2</td>\n",
       "    </tr>\n",
       "    <tr>\n",
       "      <th>3</th>\n",
       "      <td>item4</td>\n",
       "      <td>B</td>\n",
       "      <td>1</td>\n",
       "    </tr>\n",
       "    <tr>\n",
       "      <th>4</th>\n",
       "      <td>item5</td>\n",
       "      <td>A</td>\n",
       "      <td>2</td>\n",
       "    </tr>\n",
       "  </tbody>\n",
       "</table>\n",
       "</div>"
      ],
      "text/plain": [
       "   items groups  ranks\n",
       "0  item1      A      1\n",
       "1  item2      B      2\n",
       "2  item3      C      2\n",
       "3  item4      B      1\n",
       "4  item5      A      2"
      ]
     },
     "execution_count": 111,
     "metadata": {},
     "output_type": "execute_result"
    }
   ],
   "source": [
    "import pandas as pd\n",
    "data = ({\"items\":[\"item1\",\"item2\",\"item3\",\"item4\",\"item5\"],\"groups\":[\"A\",\"B\",\"C\",\"B\",\"A\"],\n",
    "         \"ranks\":[1,2,2,1,2]})\n",
    "df = pd.DataFrame(data)\n",
    "df"
   ]
  },
  {
   "cell_type": "code",
   "execution_count": 118,
   "metadata": {},
   "outputs": [
    {
     "name": "stdout",
     "output_type": "stream",
     "text": [
      "ranks       1      2\n",
      "groups              \n",
      "A       item1  item5\n",
      "B       item4  item2\n",
      "C              item3\n"
     ]
    }
   ],
   "source": [
    "import numpy as np\n",
    "df_new = pd.pivot_table(df, values='items', index=['groups'],columns=['ranks'], aggfunc=np.sum, fill_value='')\n",
    "print(df_new)"
   ]
  },
  {
   "cell_type": "code",
   "execution_count": 126,
   "metadata": {},
   "outputs": [
    {
     "name": "stdout",
     "output_type": "stream",
     "text": [
      "Please guess what number I'm thinking of. HINT: it's between 1 and 30: w\n",
      "<class 'str'>\n"
     ]
    }
   ],
   "source": [
    "number = input(\"Please guess what number I'm thinking of. HINT: it's between 1 and 30: \")\n",
    "try:\n",
    "    number = int(number)\n",
    "except:\n",
    "    pass\n",
    "print(type(number))"
   ]
  },
  {
   "cell_type": "code",
   "execution_count": 129,
   "metadata": {},
   "outputs": [
    {
     "name": "stdout",
     "output_type": "stream",
     "text": [
      "blue mustang\n",
      "blue camaro\n",
      "blue tacoma\n",
      "red mustang\n",
      "red camaro\n",
      "red tacoma\n"
     ]
    }
   ],
   "source": [
    "colors = [\"blue\",\"red\"]\n",
    "cars = [\"mustang\",\"camaro\",\"tacoma\"]\n",
    "\n",
    "for color in colors:\n",
    "    for car in cars:\n",
    "        print(color, car)"
   ]
  },
  {
   "cell_type": "code",
   "execution_count": 135,
   "metadata": {},
   "outputs": [
    {
     "name": "stdout",
     "output_type": "stream",
     "text": [
      "{'name': 'ColorB', 'color': 'Blue'}\n"
     ]
    }
   ],
   "source": [
    "listA = [{'name': 'ColorR', 'color': 'Red'}, {'name': 'ColorB', 'color': 'Blue'}, {'name': 'ColorP', 'color': 'Purple'}, {'name': 'ColorO', 'color': 'Orange'}, {'name': 'ColorW', 'color': 'White'}]\n",
    "listB = [{'name': 'ColorR', 'color': 'Red'}, {'name': 'ColorP', 'color': 'Purple'}, {'name': 'ColorO', 'color': 'Orange'}, {'name': 'ColorW', 'color': 'White'}]\n",
    "\n",
    "for A in listA:\n",
    "    if A not in listB:\n",
    "        print(A)"
   ]
  },
  {
   "cell_type": "code",
   "execution_count": 172,
   "metadata": {
    "scrolled": true
   },
   "outputs": [
    {
     "data": {
      "text/html": [
       "<div>\n",
       "<style scoped>\n",
       "    .dataframe tbody tr th:only-of-type {\n",
       "        vertical-align: middle;\n",
       "    }\n",
       "\n",
       "    .dataframe tbody tr th {\n",
       "        vertical-align: top;\n",
       "    }\n",
       "\n",
       "    .dataframe thead th {\n",
       "        text-align: right;\n",
       "    }\n",
       "</style>\n",
       "<table border=\"1\" class=\"dataframe\">\n",
       "  <thead>\n",
       "    <tr style=\"text-align: right;\">\n",
       "      <th></th>\n",
       "      <th>community_area</th>\n",
       "      <th>year</th>\n",
       "      <th>theft</th>\n",
       "      <th>battery</th>\n",
       "      <th>criminal_damage</th>\n",
       "      <th>narcotics</th>\n",
       "      <th>assault</th>\n",
       "      <th>other_offense</th>\n",
       "      <th>burglary</th>\n",
       "      <th>deceptive_practice</th>\n",
       "      <th>motor_vehicle_theft</th>\n",
       "      <th>robbery</th>\n",
       "      <th>community_name</th>\n",
       "    </tr>\n",
       "  </thead>\n",
       "  <tbody>\n",
       "    <tr>\n",
       "      <th>0</th>\n",
       "      <td>1.0</td>\n",
       "      <td>2012</td>\n",
       "      <td>1043.0</td>\n",
       "      <td>991.0</td>\n",
       "      <td>500.0</td>\n",
       "      <td>485.0</td>\n",
       "      <td>340.0</td>\n",
       "      <td>361.0</td>\n",
       "      <td>212.0</td>\n",
       "      <td>152.0</td>\n",
       "      <td>142.0</td>\n",
       "      <td>202.0</td>\n",
       "      <td>[Chicago, Lawn]</td>\n",
       "    </tr>\n",
       "    <tr>\n",
       "      <th>1</th>\n",
       "      <td>1.0</td>\n",
       "      <td>2013</td>\n",
       "      <td>1004.0</td>\n",
       "      <td>866.0</td>\n",
       "      <td>534.0</td>\n",
       "      <td>362.0</td>\n",
       "      <td>303.0</td>\n",
       "      <td>318.0</td>\n",
       "      <td>187.0</td>\n",
       "      <td>166.0</td>\n",
       "      <td>91.0</td>\n",
       "      <td>136.0</td>\n",
       "      <td>[Chicago, Lawn]</td>\n",
       "    </tr>\n",
       "    <tr>\n",
       "      <th>2</th>\n",
       "      <td>1.0</td>\n",
       "      <td>2014</td>\n",
       "      <td>811.0</td>\n",
       "      <td>776.0</td>\n",
       "      <td>376.0</td>\n",
       "      <td>278.0</td>\n",
       "      <td>257.0</td>\n",
       "      <td>248.0</td>\n",
       "      <td>174.0</td>\n",
       "      <td>215.0</td>\n",
       "      <td>115.0</td>\n",
       "      <td>113.0</td>\n",
       "      <td>[Rogers, Park]</td>\n",
       "    </tr>\n",
       "  </tbody>\n",
       "</table>\n",
       "</div>"
      ],
      "text/plain": [
       "   community_area  year   theft  battery  criminal_damage  narcotics  assault  \\\n",
       "0             1.0  2012  1043.0    991.0            500.0      485.0    340.0   \n",
       "1             1.0  2013  1004.0    866.0            534.0      362.0    303.0   \n",
       "2             1.0  2014   811.0    776.0            376.0      278.0    257.0   \n",
       "\n",
       "   other_offense  burglary  deceptive_practice  motor_vehicle_theft  robbery  \\\n",
       "0          361.0     212.0               152.0                142.0    202.0   \n",
       "1          318.0     187.0               166.0                 91.0    136.0   \n",
       "2          248.0     174.0               215.0                115.0    113.0   \n",
       "\n",
       "    community_name  \n",
       "0  [Chicago, Lawn]  \n",
       "1  [Chicago, Lawn]  \n",
       "2   [Rogers, Park]  "
      ]
     },
     "execution_count": 172,
     "metadata": {},
     "output_type": "execute_result"
    }
   ],
   "source": [
    "import pandas as pd\n",
    "import re\n",
    "\n",
    "chicago_crime = pd.read_csv(\"df1.csv\")\n",
    "chicago_crime['community_name'] = [re.findall(\"(\\w+).?\",cn) for cn in chicago_crime['community_name']]\n",
    "chicago_crime"
   ]
  },
  {
   "cell_type": "code",
   "execution_count": 173,
   "metadata": {},
   "outputs": [
    {
     "data": {
      "text/html": [
       "<div>\n",
       "<style scoped>\n",
       "    .dataframe tbody tr th:only-of-type {\n",
       "        vertical-align: middle;\n",
       "    }\n",
       "\n",
       "    .dataframe tbody tr th {\n",
       "        vertical-align: top;\n",
       "    }\n",
       "\n",
       "    .dataframe thead th {\n",
       "        text-align: right;\n",
       "    }\n",
       "</style>\n",
       "<table border=\"1\" class=\"dataframe\">\n",
       "  <thead>\n",
       "    <tr style=\"text-align: right;\">\n",
       "      <th></th>\n",
       "      <th>Region</th>\n",
       "      <th>year</th>\n",
       "      <th>price_change</th>\n",
       "      <th>price_label</th>\n",
       "    </tr>\n",
       "  </thead>\n",
       "  <tbody>\n",
       "    <tr>\n",
       "      <th>0</th>\n",
       "      <td>[Chicago, IL]</td>\n",
       "      <td>2012</td>\n",
       "      <td>0.082864</td>\n",
       "      <td>1</td>\n",
       "    </tr>\n",
       "    <tr>\n",
       "      <th>1</th>\n",
       "      <td>[Chicago, IL]</td>\n",
       "      <td>2013</td>\n",
       "      <td>0.074208</td>\n",
       "      <td>1</td>\n",
       "    </tr>\n",
       "    <tr>\n",
       "      <th>2</th>\n",
       "      <td>[Rogers, Park]</td>\n",
       "      <td>2014</td>\n",
       "      <td>0.063483</td>\n",
       "      <td>0</td>\n",
       "    </tr>\n",
       "  </tbody>\n",
       "</table>\n",
       "</div>"
      ],
      "text/plain": [
       "           Region  year  price_change  price_label\n",
       "0   [Chicago, IL]  2012      0.082864            1\n",
       "1   [Chicago, IL]  2013      0.074208            1\n",
       "2  [Rogers, Park]  2014      0.063483            0"
      ]
     },
     "execution_count": 173,
     "metadata": {},
     "output_type": "execute_result"
    }
   ],
   "source": [
    "redfin = pd.read_csv(\"df2.csv\")\n",
    "redfin['Region'] = [re.findall(\"(\\w+).?\",rg) for rg in redfin['Region']]\n",
    "redfin"
   ]
  },
  {
   "cell_type": "code",
   "execution_count": 178,
   "metadata": {},
   "outputs": [
    {
     "data": {
      "text/html": [
       "<div>\n",
       "<style scoped>\n",
       "    .dataframe tbody tr th:only-of-type {\n",
       "        vertical-align: middle;\n",
       "    }\n",
       "\n",
       "    .dataframe tbody tr th {\n",
       "        vertical-align: top;\n",
       "    }\n",
       "\n",
       "    .dataframe thead th {\n",
       "        text-align: right;\n",
       "    }\n",
       "</style>\n",
       "<table border=\"1\" class=\"dataframe\">\n",
       "  <thead>\n",
       "    <tr style=\"text-align: right;\">\n",
       "      <th></th>\n",
       "      <th>community_area</th>\n",
       "      <th>year</th>\n",
       "      <th>theft</th>\n",
       "      <th>battery</th>\n",
       "      <th>criminal_damage</th>\n",
       "      <th>narcotics</th>\n",
       "      <th>assault</th>\n",
       "      <th>other_offense</th>\n",
       "      <th>burglary</th>\n",
       "      <th>deceptive_practice</th>\n",
       "      <th>motor_vehicle_theft</th>\n",
       "      <th>robbery</th>\n",
       "      <th>community_name</th>\n",
       "      <th>merge_ref</th>\n",
       "    </tr>\n",
       "  </thead>\n",
       "  <tbody>\n",
       "    <tr>\n",
       "      <th>0</th>\n",
       "      <td>1.0</td>\n",
       "      <td>2012</td>\n",
       "      <td>1043.0</td>\n",
       "      <td>991.0</td>\n",
       "      <td>500.0</td>\n",
       "      <td>485.0</td>\n",
       "      <td>340.0</td>\n",
       "      <td>361.0</td>\n",
       "      <td>212.0</td>\n",
       "      <td>152.0</td>\n",
       "      <td>142.0</td>\n",
       "      <td>202.0</td>\n",
       "      <td>[Chicago, Lawn]</td>\n",
       "      <td>Chicago</td>\n",
       "    </tr>\n",
       "    <tr>\n",
       "      <th>1</th>\n",
       "      <td>1.0</td>\n",
       "      <td>2013</td>\n",
       "      <td>1004.0</td>\n",
       "      <td>866.0</td>\n",
       "      <td>534.0</td>\n",
       "      <td>362.0</td>\n",
       "      <td>303.0</td>\n",
       "      <td>318.0</td>\n",
       "      <td>187.0</td>\n",
       "      <td>166.0</td>\n",
       "      <td>91.0</td>\n",
       "      <td>136.0</td>\n",
       "      <td>[Chicago, Lawn]</td>\n",
       "      <td>Chicago</td>\n",
       "    </tr>\n",
       "    <tr>\n",
       "      <th>2</th>\n",
       "      <td>1.0</td>\n",
       "      <td>2014</td>\n",
       "      <td>811.0</td>\n",
       "      <td>776.0</td>\n",
       "      <td>376.0</td>\n",
       "      <td>278.0</td>\n",
       "      <td>257.0</td>\n",
       "      <td>248.0</td>\n",
       "      <td>174.0</td>\n",
       "      <td>215.0</td>\n",
       "      <td>115.0</td>\n",
       "      <td>113.0</td>\n",
       "      <td>[Rogers, Park]</td>\n",
       "      <td>Rogers</td>\n",
       "    </tr>\n",
       "  </tbody>\n",
       "</table>\n",
       "</div>"
      ],
      "text/plain": [
       "   community_area  year   theft  battery  criminal_damage  narcotics  assault  \\\n",
       "0             1.0  2012  1043.0    991.0            500.0      485.0    340.0   \n",
       "1             1.0  2013  1004.0    866.0            534.0      362.0    303.0   \n",
       "2             1.0  2014   811.0    776.0            376.0      278.0    257.0   \n",
       "\n",
       "   other_offense  burglary  deceptive_practice  motor_vehicle_theft  robbery  \\\n",
       "0          361.0     212.0               152.0                142.0    202.0   \n",
       "1          318.0     187.0               166.0                 91.0    136.0   \n",
       "2          248.0     174.0               215.0                115.0    113.0   \n",
       "\n",
       "    community_name merge_ref  \n",
       "0  [Chicago, Lawn]   Chicago  \n",
       "1  [Chicago, Lawn]   Chicago  \n",
       "2   [Rogers, Park]    Rogers  "
      ]
     },
     "execution_count": 178,
     "metadata": {},
     "output_type": "execute_result"
    }
   ],
   "source": [
    "idx, datavalue = [], []\n",
    "for i,dv in enumerate(chicago_crime['community_name']):\n",
    "    for d in dv:\n",
    "        if d in redfin['Region'][i]:   \n",
    "            if i not in idx:\n",
    "                idx.append(i)\n",
    "                datavalue.append(d)\n",
    "chicago_crime['merge_ref'] = datavalue\n",
    "redfin['merge_ref'] = datavalue\n",
    "chicago_crime"
   ]
  },
  {
   "cell_type": "code",
   "execution_count": 189,
   "metadata": {},
   "outputs": [
    {
     "data": {
      "text/html": [
       "<div>\n",
       "<style scoped>\n",
       "    .dataframe tbody tr th:only-of-type {\n",
       "        vertical-align: middle;\n",
       "    }\n",
       "\n",
       "    .dataframe tbody tr th {\n",
       "        vertical-align: top;\n",
       "    }\n",
       "\n",
       "    .dataframe thead th {\n",
       "        text-align: right;\n",
       "    }\n",
       "</style>\n",
       "<table border=\"1\" class=\"dataframe\">\n",
       "  <thead>\n",
       "    <tr style=\"text-align: right;\">\n",
       "      <th></th>\n",
       "      <th>community_area</th>\n",
       "      <th>community_name</th>\n",
       "      <th>merge_ref</th>\n",
       "      <th>Region</th>\n",
       "      <th>year</th>\n",
       "      <th>price_change</th>\n",
       "      <th>price_label</th>\n",
       "    </tr>\n",
       "  </thead>\n",
       "  <tbody>\n",
       "    <tr>\n",
       "      <th>0</th>\n",
       "      <td>1.0</td>\n",
       "      <td>[Chicago, Lawn]</td>\n",
       "      <td>Chicago</td>\n",
       "      <td>[Chicago, IL]</td>\n",
       "      <td>2012</td>\n",
       "      <td>0.082864</td>\n",
       "      <td>1</td>\n",
       "    </tr>\n",
       "    <tr>\n",
       "      <th>1</th>\n",
       "      <td>1.0</td>\n",
       "      <td>[Chicago, Lawn]</td>\n",
       "      <td>Chicago</td>\n",
       "      <td>[Chicago, IL]</td>\n",
       "      <td>2013</td>\n",
       "      <td>0.074208</td>\n",
       "      <td>1</td>\n",
       "    </tr>\n",
       "    <tr>\n",
       "      <th>2</th>\n",
       "      <td>1.0</td>\n",
       "      <td>[Chicago, Lawn]</td>\n",
       "      <td>Chicago</td>\n",
       "      <td>[Chicago, IL]</td>\n",
       "      <td>2012</td>\n",
       "      <td>0.082864</td>\n",
       "      <td>1</td>\n",
       "    </tr>\n",
       "    <tr>\n",
       "      <th>3</th>\n",
       "      <td>1.0</td>\n",
       "      <td>[Chicago, Lawn]</td>\n",
       "      <td>Chicago</td>\n",
       "      <td>[Chicago, IL]</td>\n",
       "      <td>2013</td>\n",
       "      <td>0.074208</td>\n",
       "      <td>1</td>\n",
       "    </tr>\n",
       "    <tr>\n",
       "      <th>4</th>\n",
       "      <td>1.0</td>\n",
       "      <td>[Rogers, Park]</td>\n",
       "      <td>Rogers</td>\n",
       "      <td>[Rogers, Park]</td>\n",
       "      <td>2014</td>\n",
       "      <td>0.063483</td>\n",
       "      <td>0</td>\n",
       "    </tr>\n",
       "  </tbody>\n",
       "</table>\n",
       "</div>"
      ],
      "text/plain": [
       "   community_area   community_name merge_ref          Region  year  \\\n",
       "0             1.0  [Chicago, Lawn]   Chicago   [Chicago, IL]  2012   \n",
       "1             1.0  [Chicago, Lawn]   Chicago   [Chicago, IL]  2013   \n",
       "2             1.0  [Chicago, Lawn]   Chicago   [Chicago, IL]  2012   \n",
       "3             1.0  [Chicago, Lawn]   Chicago   [Chicago, IL]  2013   \n",
       "4             1.0   [Rogers, Park]    Rogers  [Rogers, Park]  2014   \n",
       "\n",
       "   price_change  price_label  \n",
       "0      0.082864            1  \n",
       "1      0.074208            1  \n",
       "2      0.082864            1  \n",
       "3      0.074208            1  \n",
       "4      0.063483            0  "
      ]
     },
     "execution_count": 189,
     "metadata": {},
     "output_type": "execute_result"
    }
   ],
   "source": [
    "df_merge = pd.merge(chicago_crime[['community_area','community_name','merge_ref']], redfin, on='merge_ref')\n",
    "df_merge"
   ]
  },
  {
   "cell_type": "markdown",
   "metadata": {},
   "source": [
    "# Game"
   ]
  },
  {
   "cell_type": "code",
   "execution_count": 130,
   "metadata": {
    "collapsed": true
   },
   "outputs": [],
   "source": [
    "class enemy:\n",
    "    '''\n",
    "    This is how to define users and items\n",
    "    '''\n",
    "    def __init__(self, name, hp, damage):\n",
    "        self.name = name\n",
    "        self.hp = hp\n",
    "        self.damage = damage\n",
    "\n",
    "class item:\n",
    "    def __init__(self, name, hp_bonus, damage_bonus, shield):\n",
    "        self.name = name\n",
    "        self.hp_bonus = hp_bonus\n",
    "        self.damage_bonus = damage_bonus\n",
    "        self.shield = shield"
   ]
  },
  {
   "cell_type": "code",
   "execution_count": 203,
   "metadata": {
    "scrolled": true
   },
   "outputs": [
    {
     "name": "stdout",
     "output_type": "stream",
     "text": [
      "Apakah kamu bersedia melawan musuhmu?\"\n",
      "                1) Ya\n",
      "                2) Tidak\n",
      "                Jawab: 2\n",
      "\n",
      "            Kamu menyerah, dan kamu KALAH.\n"
     ]
    }
   ],
   "source": [
    "# import random\n",
    "import time\n",
    "# from enemy import enemy\n",
    "# from enemy import item\n",
    "\n",
    "Level = 1\n",
    "Level_Bonus = [2.0, 5.0, 8.0, 11.0, 13.0, 15.0, 18.0]\n",
    "Level_Max = 20\n",
    "ITEM = \"\"\n",
    "Enemy = \"\"\n",
    "Potion = random.randint(3, 7)\n",
    "Enemies_Fought = 0\n",
    "\n",
    "\n",
    "Player = enemy(\"Pemain\", 100, random.randint(5, 8))\n",
    "Dog = enemy(\"Anjing\", 40, random.randint(1, 8))\n",
    "Cat = enemy(\"Kucing\", 20, random.randint(1, 5))\n",
    "Monkey = enemy(\"Monyet\", 55, random.randint(5, 8))\n",
    "Ogre = enemy(\"Monster\", 100, random.randint(10,120))\n",
    "\n",
    "\n",
    "Ring = item(\"SURICAN\", 10, 0, 0)\n",
    "Sword = item(\"PEDANG\", 0, 10, 0)\n",
    "Shield = item(\"TAMENG\", 0, 0, 3)\n",
    "No_item = item(\"ZONK\", 0, 0, 0)\n",
    "\n",
    "\n",
    "def ITEM_CHANCE():\n",
    "    global ITEM\n",
    "    item_chance = random.randint(1,1000)\n",
    "    if item_chance > 1 and item_chance < 80:\n",
    "        ITEM = Ring\n",
    "        Player.hp += ITEM.hp_bonus\n",
    "        print('''\n",
    "        Kesehatanmu bertambah 10!''')\n",
    "        print(f'''\n",
    "        Kamu menemukan sebuah senjata {ITEM.name}!!!''')\n",
    "    elif item_chance > 140 and item_chance < 175:\n",
    "        ITEM = Sword\n",
    "        Player.damage += ITEM.damage_bonus\n",
    "        print('''\n",
    "        Kerusakanmu bertambah 10!''')\n",
    "        print(f'''\n",
    "        Kamu menemukan sebuah senjata {ITEM.name}!!''')\n",
    "    elif item_chance > 500 and item_chance < 600:\n",
    "        ITEM = Shield\n",
    "        Enemy.damage -= ITEM.shield\n",
    "        print('''\n",
    "        Kesehatan musuh berkurang 3!!''')\n",
    "        print(f'''\n",
    "        Kamu menemukan sebuah senjata {ITEM.name}!!!''')\n",
    "    else:\n",
    "        ITEM = No_item\n",
    "        print('''\n",
    "        Kamu tidak punya senjata''')\n",
    "\n",
    "\n",
    "def which_enemy():\n",
    "    global Enemy\n",
    "    Enemy_choose = random.randint(1, 100)\n",
    "    if Enemy_choose < 30:\n",
    "        Enemy = Cat\n",
    "    elif  Enemy_choose > 30 and Enemy_choose < 70:\n",
    "        Enemy = Dog\n",
    "    elif Enemy_choose > 70 and Enemy_choose < 95:\n",
    "        Enemy = Monkey\n",
    "    else:\n",
    "        Enemy = Ogre\n",
    "\n",
    "\n",
    "\n",
    "def fight():\n",
    "    global Enemy\n",
    "    global Player\n",
    "    which_enemy()\n",
    "    print(f'''\n",
    "    Kamu akan berlawanan dengan {Enemy.name}''')\n",
    "    keep_going = input(f'''\n",
    "    Apakah kamu bersedia melawannya, ini akan menjadi pertarungan hingga mati dan\n",
    "    kekuatanmu adalah\"{Player.hp}\".\n",
    "    1) Ya.\n",
    "    2) Tidak.\n",
    "    Masukkan angka jawaban: ''')\n",
    "    if keep_going == \"2\":\n",
    "        print(f'''\n",
    "        Musuhmu memukulmu sebesar {Enemy.damage} ketika kamu menghindar.\n",
    "        ''')\n",
    "        Player.hp = Player.hp - Enemy.damage\n",
    "        print(f'''\n",
    "        Kesehatanmu sekarang {Player.hp}\n",
    "        ''')\n",
    "        return False\n",
    "    elif keep_going == \"1\":\n",
    "        while Player.hp > 0 and Enemy.hp > 0:\n",
    "            print(f'''\n",
    "            Musuhmu memukulmu sebesar {Enemy.damage} kerusakan''')\n",
    "            Player.hp = Player.hp - Enemy.damage\n",
    "            if Player.hp < 0:\n",
    "                Player.hp = 0\n",
    "            print(f'''\n",
    "            Kesehatanmu sekarang {Player.hp}''')\n",
    "            time.sleep(.2)\n",
    "            print(f'''\n",
    "            Kamu memukul musuhmu sebesar {Player.damage} kerusakan''')\n",
    "            Enemy.hp = Enemy.hp - Player.damage\n",
    "            if Enemy.hp < 0:\n",
    "                Enemy.hp = 0\n",
    "            print(f'''\n",
    "            Kesehatan musuhmu menjadi sebesar {Enemy.hp}''')\n",
    "            time.sleep(.2)\n",
    "    else:\n",
    "        return False\n",
    "    if Enemy.hp == 0:      # Reset all enemy health for next round\n",
    "        if Enemy == Dog:\n",
    "            Enemy.hp = 40\n",
    "        elif Enemy == Cat:\n",
    "            Enemy.hp = 20\n",
    "        elif Enemy == Monkey:\n",
    "            Enemy.hp = 55\n",
    "\n",
    "\n",
    "\n",
    "def main():\n",
    "    while True:\n",
    "        global Enemies_Fought\n",
    "        global Level\n",
    "        PLAY = input('''Apakah kamu bersedia melawan musuhmu?\"\n",
    "                1) Ya\n",
    "                2) Tidak\n",
    "                Jawab: ''')\n",
    "        if PLAY == \"2\":\n",
    "            print('''\n",
    "            Kamu menyerah, dan kamu KALAH.''')\n",
    "            break\n",
    "        elif PLAY == \"1\":\n",
    "            ITEM_CHANCE()\n",
    "            Player.hp = Player.hp\n",
    "            fight()\n",
    "            Enemies_Fought += 1\n",
    "            Level += .5\n",
    "            print(f'''\n",
    "            Levelmu sekarang {Level}''')\n",
    "            if Level in Level_Bonus:\n",
    "                Player.hp = 100\n",
    "                Player.damage = Player.damage + 5\n",
    "                print(f'''\n",
    "                Kerusakanmu sekarang sebesar {Player.damage}, dan kesehatanmu telah dikembalikan.''')\n",
    "            if Player.hp <= 0:\n",
    "                print(f'''\n",
    "\n",
    "                Kamu mencapai level: {Level}\n",
    "                Kamu telah mengalahkan: {Enemies_Fought} musuh\n",
    "                ''')\n",
    "                if Enemies_Fought >= 10:\n",
    "                    print('''\n",
    "                    Kamu mati, dan Kamu MENANG!!! Terima kasih telah bermain''')\n",
    "                else:\n",
    "                    print('''\n",
    "                    Kamu mati, dan Kamu KALAH!!! Terima kasih telah bermain''')\n",
    "                break\n",
    "        else:\n",
    "            print('''\n",
    "            Masukkan pilihan angka yang benar.''')\n",
    "\n",
    "\n",
    "main()"
   ]
  },
  {
   "cell_type": "code",
   "execution_count": 1,
   "metadata": {},
   "outputs": [
    {
     "name": "stdout",
     "output_type": "stream",
     "text": [
      "[[1, 'John', 'US'], [2, 'Steve', 'UK'], [3, 'Anna', 'INA'], [4, 'Bob', 'UK'], [5, 'Anna', 'JP']]\n",
      "[[1, 'John', 'US'], [2, 'Steve', 'UK'], [3, 'Anna', 'INA'], [5, 'Anna', 'JP']]\n"
     ]
    }
   ],
   "source": [
    "# Remove duplicates in a list of lists based on the third item in each sublist\n",
    "\n",
    "names = [[1,'John','US'], [2,'Steve','UK'],[3,'Anna','INA'],[4,'Bob','UK'], [5,'Anna','JP']]\n",
    "seen = set()\n",
    "new = [x for x in names if x[2] not in seen and not seen.add(x[2])]\n",
    "    \n",
    "print (names)\n",
    "print (new)"
   ]
  },
  {
   "cell_type": "code",
   "execution_count": null,
   "metadata": {
    "collapsed": true
   },
   "outputs": [],
   "source": []
  }
 ],
 "metadata": {
  "kernelspec": {
   "display_name": "Python 3",
   "language": "python",
   "name": "python3"
  },
  "language_info": {
   "codemirror_mode": {
    "name": "ipython",
    "version": 3
   },
   "file_extension": ".py",
   "mimetype": "text/x-python",
   "name": "python",
   "nbconvert_exporter": "python",
   "pygments_lexer": "ipython3",
   "version": "3.6.3"
  }
 },
 "nbformat": 4,
 "nbformat_minor": 2
}
