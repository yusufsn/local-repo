{
 "cells": [
  {
   "cell_type": "code",
   "execution_count": 1,
   "metadata": {
    "collapsed": true
   },
   "outputs": [],
   "source": [
    "import re"
   ]
  },
  {
   "cell_type": "code",
   "execution_count": 34,
   "metadata": {},
   "outputs": [
    {
     "name": "stdout",
     "output_type": "stream",
     "text": [
      "[['AAA', '']]\n",
      "[['RR3', 'TMLLNS']]\n",
      "[['', 'HM5SLC']]\n",
      "[['', 'SIGC  ']]\n"
     ]
    }
   ],
   "source": [
    "mylist = [\"FTUS80 KWBC 081454 AAA\\r\\r TAF AMD\",   #should match 'AAA'\n",
    "\"LTUS41 KCTP 082111 RR3\\r\\r TMLLNS\\r\",  #should match 'RR3' and 'TMLLNS'\n",
    "\"SRUS55 KSLC 082010\\r\\r HM5SLC\\r\\r\",    #should match 'HM5SLC'\n",
    "\"SRUS55 KSLC 082010\\r\\r SIGC  \\r\\r\"    #should match 'SIGC  ' including whitespace\"    \n",
    "]\n",
    "\n",
    "for l in mylist:\n",
    "    reg = re.findall(r\"(?:\\d{6}\\s?)([A-Z\\d]{3})?(?:[\\r\\n]{2}\\s)([A-Z\\d]{6}|[A-Z\\d]{4}\\s{2})?\",l)\n",
    "    reg = map(list,reg)\n",
    "    print(list(reg))"
   ]
  },
  {
   "cell_type": "code",
   "execution_count": 39,
   "metadata": {},
   "outputs": [
    {
     "data": {
      "text/plain": [
       "['24285', '396']"
      ]
     },
     "execution_count": 39,
     "metadata": {},
     "output_type": "execute_result"
    }
   ],
   "source": [
    "mystring = '''[<tr class=\"v\" id=\"ctl00_PlaceHolderHalf_ctl01_rot2\">\n",
    "<td><div class=\"tore_karten\"><div style=\"float:left;padding-right:2px;\">Dortmund: </div><a class=\"link_noicon\" href=\"/news/fussball/bundesliga/vereine/1-bundesliga/2000-01/borussia-dortmund-17/24285/spieler_evanilson.html\" style=\"float:left;\">Evanilson</a><div style=\"float:left;padding-left:2px;\">(90., grobes Foulspiel, <a class=\"link_noicon\" href=\"/news/fussball/bundesliga/vereine/1-bundesliga/2018-19/bayern-muenchen-14/223/spieler_paulo-sergio.html\" style=\"\">Paulo Sergio</a>)</div><div class=\"sep3\"></div><div style=\"float:left;padding-right:2px;\">Bayern: </div><a class=\"link_noicon\" href=\"/news/fussball/bundesliga/vereine/1-bundesliga/2000-01/bayern-muenchen-14/396/spieler_stefan-effenberg.html\" style=\"float:left;\">Effenberg</a><div style=\"float:left;padding-left:2px;\">(55., grobes Foulspiel, <a class=\"link_noicon\" href=\"/news/fussball/bundesliga/vereine/1-bundesliga/2018-19/borussia-dortmund-17/22046/spieler_otto_addo.html\" style=\"\">Evanilson</a>)</div><br style=\"clear:both;\"/>\n",
    "</div>\n",
    "</td>\n",
    "</tr>]'''\n",
    "\n",
    "re.findall('<\\/div><a.*?href=\\\".+?\\/(\\d+?)\\/spieler_.+?.html\\\"', mystring)"
   ]
  },
  {
   "cell_type": "code",
   "execution_count": null,
   "metadata": {
    "collapsed": true
   },
   "outputs": [],
   "source": []
  }
 ],
 "metadata": {
  "kernelspec": {
   "display_name": "Python 3",
   "language": "python",
   "name": "python3"
  },
  "language_info": {
   "codemirror_mode": {
    "name": "ipython",
    "version": 3
   },
   "file_extension": ".py",
   "mimetype": "text/x-python",
   "name": "python",
   "nbconvert_exporter": "python",
   "pygments_lexer": "ipython3",
   "version": "3.6.3"
  }
 },
 "nbformat": 4,
 "nbformat_minor": 2
}
