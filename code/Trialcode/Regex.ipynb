{
 "cells": [
  {
   "cell_type": "code",
   "execution_count": 1,
   "metadata": {
    "collapsed": true
   },
   "outputs": [],
   "source": [
    "import re"
   ]
  },
  {
   "cell_type": "code",
   "execution_count": 34,
   "metadata": {},
   "outputs": [
    {
     "name": "stdout",
     "output_type": "stream",
     "text": [
      "[['AAA', '']]\n",
      "[['RR3', 'TMLLNS']]\n",
      "[['', 'HM5SLC']]\n",
      "[['', 'SIGC  ']]\n"
     ]
    }
   ],
   "source": [
    "mylist = [\"FTUS80 KWBC 081454 AAA\\r\\r TAF AMD\",   #should match 'AAA'\n",
    "\"LTUS41 KCTP 082111 RR3\\r\\r TMLLNS\\r\",  #should match 'RR3' and 'TMLLNS'\n",
    "\"SRUS55 KSLC 082010\\r\\r HM5SLC\\r\\r\",    #should match 'HM5SLC'\n",
    "\"SRUS55 KSLC 082010\\r\\r SIGC  \\r\\r\"    #should match 'SIGC  ' including whitespace\"    \n",
    "]\n",
    "\n",
    "for l in mylist:\n",
    "    reg = re.findall(r\"(?:\\d{6}\\s?)([A-Z\\d]{3})?(?:[\\r\\n]{2}\\s)([A-Z\\d]{6}|[A-Z\\d]{4}\\s{2})?\",l)\n",
    "    reg = map(list,reg)\n",
    "    print(list(reg))"
   ]
  },
  {
   "cell_type": "code",
   "execution_count": 39,
   "metadata": {},
   "outputs": [
    {
     "data": {
      "text/plain": [
       "['24285', '396']"
      ]
     },
     "execution_count": 39,
     "metadata": {},
     "output_type": "execute_result"
    }
   ],
   "source": [
    "mystring = '''[<tr class=\"v\" id=\"ctl00_PlaceHolderHalf_ctl01_rot2\">\n",
    "<td><div class=\"tore_karten\"><div style=\"float:left;padding-right:2px;\">Dortmund: </div><a class=\"link_noicon\" href=\"/news/fussball/bundesliga/vereine/1-bundesliga/2000-01/borussia-dortmund-17/24285/spieler_evanilson.html\" style=\"float:left;\">Evanilson</a><div style=\"float:left;padding-left:2px;\">(90., grobes Foulspiel, <a class=\"link_noicon\" href=\"/news/fussball/bundesliga/vereine/1-bundesliga/2018-19/bayern-muenchen-14/223/spieler_paulo-sergio.html\" style=\"\">Paulo Sergio</a>)</div><div class=\"sep3\"></div><div style=\"float:left;padding-right:2px;\">Bayern: </div><a class=\"link_noicon\" href=\"/news/fussball/bundesliga/vereine/1-bundesliga/2000-01/bayern-muenchen-14/396/spieler_stefan-effenberg.html\" style=\"float:left;\">Effenberg</a><div style=\"float:left;padding-left:2px;\">(55., grobes Foulspiel, <a class=\"link_noicon\" href=\"/news/fussball/bundesliga/vereine/1-bundesliga/2018-19/borussia-dortmund-17/22046/spieler_otto_addo.html\" style=\"\">Evanilson</a>)</div><br style=\"clear:both;\"/>\n",
    "</div>\n",
    "</td>\n",
    "</tr>]'''\n",
    "\n",
    "re.findall('<\\/div><a.*?href=\\\".+?\\/(\\d+?)\\/spieler_.+?.html\\\"', mystring)"
   ]
  },
  {
   "cell_type": "code",
   "execution_count": 1,
   "metadata": {},
   "outputs": [
    {
     "name": "stdout",
     "output_type": "stream",
     "text": [
      "abc CONTAINS VOWELS OR Y\n",
      "bc DOESN'T CONTAIN VOWELS OR Y\n",
      "sgpty CONTAINS VOWELS OR Y\n",
      "sgpt DOESN'T CONTAIN VOWELS OR Y\n"
     ]
    }
   ],
   "source": [
    "import re\n",
    "def find_word(word):\n",
    "    if re.match(\"[^aeiouy]+$\",word):\n",
    "        print (word, \"DOESN'T CONTAIN VOWELS OR Y\")\n",
    "    else:\n",
    "        print (word, \"CONTAINS VOWELS OR Y\")\n",
    "\n",
    "find_word(\"abc\")\n",
    "find_word(\"bc\")\n",
    "find_word(\"sgpty\")\n",
    "find_word(\"sgpt\")"
   ]
  },
  {
   "cell_type": "code",
   "execution_count": 7,
   "metadata": {},
   "outputs": [
    {
     "name": "stdout",
     "output_type": "stream",
     "text": [
      "zygapophyses\n",
      "Not match\n",
      "zygapophysis\n"
     ]
    }
   ],
   "source": [
    "def find_z(string) : \n",
    "    regex = re.compile(r\"\\b[z].*(y.*?){2}\\b\")  \n",
    "    for st in string.split():\n",
    "        match_object = regex.findall(st) \n",
    "        if len(match_object) != 0 : \n",
    "            for word in match_object : \n",
    "                print(st.replace(\",\",\"\"))\n",
    "        else: \n",
    "            print(\"Not match\")\n",
    "\n",
    "find_z(\"zygapophyses, zygapophisis, zygapophysis\")"
   ]
  },
  {
   "cell_type": "code",
   "execution_count": 18,
   "metadata": {},
   "outputs": [
    {
     "name": "stdout",
     "output_type": "stream",
     "text": [
      "witenagemote\n",
      "vituperative\n",
      "Not match\n",
      "vizirate\n",
      "verisimilitude\n",
      "Not match\n"
     ]
    }
   ],
   "source": [
    "def find_vc(string) : \n",
    "    regex = re.compile(r\"^(([aeiou][^aeiou])+|([^aeiou][aeiou])+)$\")  \n",
    "    for st in string.split():\n",
    "        match_object = regex.findall(st.replace(\",\",\"\")) \n",
    "        if len(match_object) != 0 : \n",
    "            for word in match_object : \n",
    "                print(st.replace(\",\",\"\"))\n",
    "        else: \n",
    "            print(\"Not match\")\n",
    "\n",
    "find_vc(\"witenagemote, vituperative, sdfwtf, vizirate, verisimilitude, aaiiooee\")"
   ]
  },
  {
   "cell_type": "code",
   "execution_count": null,
   "metadata": {
    "collapsed": true
   },
   "outputs": [],
   "source": []
  }
 ],
 "metadata": {
  "kernelspec": {
   "display_name": "Python 3",
   "language": "python",
   "name": "python3"
  },
  "language_info": {
   "codemirror_mode": {
    "name": "ipython",
    "version": 3
   },
   "file_extension": ".py",
   "mimetype": "text/x-python",
   "name": "python",
   "nbconvert_exporter": "python",
   "pygments_lexer": "ipython3",
   "version": "3.6.3"
  }
 },
 "nbformat": 4,
 "nbformat_minor": 2
}
