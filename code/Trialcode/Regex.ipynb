{
 "cells": [
  {
   "cell_type": "code",
   "execution_count": 1,
   "metadata": {
    "collapsed": true
   },
   "outputs": [],
   "source": [
    "import re"
   ]
  },
  {
   "cell_type": "code",
   "execution_count": 34,
   "metadata": {},
   "outputs": [
    {
     "name": "stdout",
     "output_type": "stream",
     "text": [
      "[['AAA', '']]\n",
      "[['RR3', 'TMLLNS']]\n",
      "[['', 'HM5SLC']]\n",
      "[['', 'SIGC  ']]\n"
     ]
    }
   ],
   "source": [
    "mylist = [\"FTUS80 KWBC 081454 AAA\\r\\r TAF AMD\",   #should match 'AAA'\n",
    "\"LTUS41 KCTP 082111 RR3\\r\\r TMLLNS\\r\",  #should match 'RR3' and 'TMLLNS'\n",
    "\"SRUS55 KSLC 082010\\r\\r HM5SLC\\r\\r\",    #should match 'HM5SLC'\n",
    "\"SRUS55 KSLC 082010\\r\\r SIGC  \\r\\r\"    #should match 'SIGC  ' including whitespace\"    \n",
    "]\n",
    "\n",
    "for l in mylist:\n",
    "    reg = re.findall(r\"(?:\\d{6}\\s?)([A-Z\\d]{3})?(?:[\\r\\n]{2}\\s)([A-Z\\d]{6}|[A-Z\\d]{4}\\s{2})?\",l)\n",
    "    reg = map(list,reg)\n",
    "    print(list(reg))"
   ]
  },
  {
   "cell_type": "code",
   "execution_count": null,
   "metadata": {
    "collapsed": true
   },
   "outputs": [],
   "source": []
  }
 ],
 "metadata": {
  "kernelspec": {
   "display_name": "Python 3",
   "language": "python",
   "name": "python3"
  },
  "language_info": {
   "codemirror_mode": {
    "name": "ipython",
    "version": 3
   },
   "file_extension": ".py",
   "mimetype": "text/x-python",
   "name": "python",
   "nbconvert_exporter": "python",
   "pygments_lexer": "ipython3",
   "version": "3.6.3"
  }
 },
 "nbformat": 4,
 "nbformat_minor": 2
}
