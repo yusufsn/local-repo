{
 "cells": [
  {
   "cell_type": "code",
   "execution_count": 1,
   "metadata": {
    "collapsed": true
   },
   "outputs": [],
   "source": [
    "def digital_root(num):\n",
    "    root = sum(int(d) for d in str(num))\n",
    "    return root if root < 10 else digital_root(root)"
   ]
  },
  {
   "cell_type": "code",
   "execution_count": 2,
   "metadata": {},
   "outputs": [
    {
     "name": "stdout",
     "output_type": "stream",
     "text": [
      "Enter an integer: 34\n",
      "Summary of digit number from  34  is  7\n"
     ]
    }
   ],
   "source": [
    "num = input(\"Enter an integer: \")\n",
    "print (\"Summary of digit number from \",num, \" is \",digital_root(num))"
   ]
  },
  {
   "cell_type": "code",
   "execution_count": 3,
   "metadata": {
    "collapsed": true
   },
   "outputs": [],
   "source": [
    "import random, sys\n",
    "\n",
    "def Rounds():\n",
    "    P1Roll1 = (random.randint(1,7))\n",
    "    P1Roll2 = (random.randint(1,7))\n",
    "    Sum1 = P1Roll1 + P1Roll2\n",
    "    Dice = input(\"Player 1's turn. Do you want to roll your 2 dice? (Y for yes and N for no)  \")\n",
    "    if Dice == \"Y\" or Dice == \"y\":\n",
    "        print(\"Player 1 rolled their 2 dice. They rolled a \" + str(P1Roll1) + \" and a \" + str(P1Roll2) + \" which totals to \" + str(Sum1))\n",
    "        if int(Sum1) % 2 == 0:\n",
    "            print(\"Player 1 got 10 more points for rolling an even sum. \" + \"\\n\" + \"Player 1 got \" + str(Sum1 + 10) + \" points\")\n",
    "            Final1 = str(Sum1 + 10)\n",
    "        elif int(Sum1) % 2 == 1:\n",
    "            print(\"Player 1 got \" + str(Sum1) + \" points\")\n",
    "            Final1 = str(Sum1)\n",
    "    elif Dice == \"N\" or Dice == \"n\":\n",
    "        sys.exit()\n",
    "    P2Roll1 = (random.randint(1,7))\n",
    "    P2Roll2 = (random.randint(1,7))\n",
    "    Sum2 = P2Roll1 + P2Roll2\n",
    "    Dice1 = input(\"Player 2's turn. Do you want to roll your 2 dice? (Y for yes and N for no)  \")\n",
    "    if Dice1 == \"Y\" or \"y\":\n",
    "        print(\"Player 2 rolled their 2 dice. They rolled a \" + str(P2Roll1) + \" and a \" + str(P2Roll2) + \" which totals to \" + str(Sum2))\n",
    "        if int(Sum2) % 2 == 0:\n",
    "            print(\"Player 2 got 10 more points for rolling an even sum. \" + \"\\n\" + \"Player 2 got \" + str(Sum2 + 10) + \" points\")\n",
    "            Final2 = str(Sum2 + 10)\n",
    "        elif int(Sum2) % 2 == 1:\n",
    "            print(\"Player 2 got \" + str(Sum2) + \" points\")\n",
    "            Final2 = str(Sum2)\n",
    "    elif Dice1 == \"N\" or \"n\":\n",
    "        sys.exit()\n",
    "    if Final2 > Final1:\n",
    "        print(\"Player 2 won round 1 by \" + str(int(Final2) - int(Final1)) + \" points\")\n",
    "    elif Final1 > Final2:\n",
    "        print(\"Player 1 won round 1 by \" + str(int(Final1) - int(Final2)) + \" points\")\n",
    "    elif Final1 == Final2:\n",
    "        print(\"Round 1 was a draw as both players got \" + str(Final1) + \" points\")"
   ]
  },
  {
   "cell_type": "code",
   "execution_count": 4,
   "metadata": {},
   "outputs": [
    {
     "name": "stdout",
     "output_type": "stream",
     "text": [
      "Player 1's turn. Do you want to roll your 2 dice? (Y for yes and N for no)  y\n",
      "Player 1 rolled their 2 dice. They rolled a 3 and a 6 which totals to 9\n",
      "Player 1 got 9 points\n",
      "Player 2's turn. Do you want to roll your 2 dice? (Y for yes and N for no)  y\n",
      "Player 2 rolled their 2 dice. They rolled a 5 and a 6 which totals to 11\n",
      "Player 2 got 11 points\n",
      "Player 1 won round 1 by -2 points\n"
     ]
    }
   ],
   "source": [
    "Rounds()"
   ]
  },
  {
   "cell_type": "code",
   "execution_count": 5,
   "metadata": {},
   "outputs": [
    {
     "name": "stdout",
     "output_type": "stream",
     "text": [
      "a likes programming\n",
      "b likes math\n"
     ]
    }
   ],
   "source": [
    "from itertools import cycle\n",
    "\n",
    "st1=[\"a\",\"b\"]\n",
    "st2=[\"likes\"]\n",
    "st3=[\"programming\",\"math\"]\n",
    "\n",
    "for i,j,k in zip(st1, cycle(st2), st3):\n",
    "    print(i+\" \"+j+\" \"+k)"
   ]
  },
  {
   "cell_type": "code",
   "execution_count": 736,
   "metadata": {},
   "outputs": [
    {
     "name": "stdout",
     "output_type": "stream",
     "text": [
      "How many Players/Villains?:2\n",
      "Enter 2 numbers of space separated strength of Villains:1 5\n",
      "[1, 5]\n",
      "Enter 2 numbers of space separated energy of Players:2 3\n",
      "[2, 3]\n",
      "[-1, 2]\n",
      "LOSE\n",
      "WIN\n"
     ]
    }
   ],
   "source": [
    "from operator import add\n",
    "\n",
    "# number_villains_players = 0\n",
    "# villain_strength = []\n",
    "# player_strength = []\n",
    "# resulten_strength = []\n",
    "\n",
    "def get_villain_strength(size):\n",
    "#     global villain_strength\n",
    "    villain_strength = [int(x) for x in input(\"Enter {} numbers of space separated strength of Villains:\".format(size)).split()]\n",
    "    print (villain_strength)\n",
    "    return(villain_strength)\n",
    "\n",
    "def get_player_strength(size):\n",
    "#     global player_strength\n",
    "    player_strength = [int(x) for x in input(\"Enter {} numbers of space separated energy of Players:\".format(size)).split()]\n",
    "    print (player_strength)\n",
    "    return(player_strength)\n",
    "\n",
    "def compare_strength(x,y):\n",
    "    #resulten_strength = [m-n for (m,n) in zip(player_strength,villain_strength)]     #doesn't work\n",
    "    #resulten_strength = [sum(x) for x in zip(player_strength, villain_strength)]     #doesn't work\n",
    "    #resulten_strength = [list( map(add, player_strength, villain_strength) )]     #doesn't work\n",
    "#     resulten_strength = [a*b for a,b in zip(player_strength,villain_strength)]       \n",
    "    resulten_strength = [a-b for a,b in zip(x,y)]     \n",
    "    return(resulten_strength)\n",
    "\n",
    "def main():\n",
    "    number_villains_players = input(\"How many Players/Villains?:\")\n",
    "    x = get_villain_strength(number_villains_players)\n",
    "    y = get_player_strength(number_villains_players)\n",
    "    print (compare_strength(x,y))\n",
    "    for i in compare_strength(x,y):\n",
    "        if (i > 0):\n",
    "            print(\"WIN\")\n",
    "        else:\n",
    "            print(\"LOSE\")\n",
    "\n",
    "main()"
   ]
  },
  {
   "cell_type": "code",
   "execution_count": 757,
   "metadata": {},
   "outputs": [
    {
     "name": "stdout",
     "output_type": "stream",
     "text": [
      "Enter your username: q23rewrqq\n",
      "Invalid username\n"
     ]
    }
   ],
   "source": [
    "uname = input(\"Enter your username: \")\n",
    "if re.match(r\"^\\D\\d{2}\\D{5}$\", uname):\n",
    "    print (\"Valid username\")\n",
    "else:\n",
    "    print (\"Invalid username\")"
   ]
  },
  {
   "cell_type": "code",
   "execution_count": 771,
   "metadata": {},
   "outputs": [
    {
     "name": "stdout",
     "output_type": "stream",
     "text": [
      "[1, 2, 3, 4, 5, 6, 7, 8, 9, 10]\r\n",
      "[11, 12, 13, 14, 15, 16, 17, 18, 19, 20]\r\n",
      "[21, 22, 23, 24, 25, 26, 27, 28, 29, 30]\r\n",
      "[31, 32, 33, 34, 35, 36, 37, 38, 39, 40]\r\n",
      "[41, 42, 43, 44, 45, 46, 47, 48, 49, 50]\r\n",
      "[51, 52, 53, 54, 55, 56, 57, 58, 59, 60]\r\n",
      "[61, 62, 63, 64, 65, 66, 67, 68, 69, 70]\r\n",
      "[71, 72, 73, 74, 75, 76, 77, 78, 79, 80]\r\n",
      "[81, 82, 83, 84, 85, 86, 87, 88, 89, 90]\r\n",
      "[91, 92, 93, 94, 95, 96, 97, 98, 99, 100]\n"
     ]
    }
   ],
   "source": [
    "l = list(range(1, 101))\n",
    "chunks = [l[i:i+10] for i in range(0, len(l), 10)]\n",
    "print(*chunks, sep='\\r\\n')"
   ]
  },
  {
   "cell_type": "code",
   "execution_count": 768,
   "metadata": {},
   "outputs": [
    {
     "name": "stdout",
     "output_type": "stream",
     "text": [
      "Hello\\World\n"
     ]
    }
   ],
   "source": [
    "a = (\"Hello/World\")\n",
    "b = a.replace(\"/\",\"\\\\\")\n",
    "print(b)"
   ]
  },
  {
   "cell_type": "markdown",
   "metadata": {},
   "source": [
    "### Data frame"
   ]
  },
  {
   "cell_type": "code",
   "execution_count": 6,
   "metadata": {},
   "outputs": [
    {
     "data": {
      "text/html": [
       "<div>\n",
       "<style>\n",
       "    .dataframe thead tr:only-child th {\n",
       "        text-align: right;\n",
       "    }\n",
       "\n",
       "    .dataframe thead th {\n",
       "        text-align: left;\n",
       "    }\n",
       "\n",
       "    .dataframe tbody tr th {\n",
       "        vertical-align: top;\n",
       "    }\n",
       "</style>\n",
       "<table border=\"1\" class=\"dataframe\">\n",
       "  <thead>\n",
       "    <tr style=\"text-align: right;\">\n",
       "      <th></th>\n",
       "      <th></th>\n",
       "      <th>A</th>\n",
       "      <th>B</th>\n",
       "    </tr>\n",
       "  </thead>\n",
       "  <tbody>\n",
       "    <tr>\n",
       "      <th>0</th>\n",
       "      <td>2019-01-25 08:15:00</td>\n",
       "      <td>4.5</td>\n",
       "      <td>1.3</td>\n",
       "    </tr>\n",
       "    <tr>\n",
       "      <th>1</th>\n",
       "      <td>2019-01-25 08:30:00</td>\n",
       "      <td>6.0</td>\n",
       "      <td>5.7</td>\n",
       "    </tr>\n",
       "    <tr>\n",
       "      <th>2</th>\n",
       "      <td>2019-01-25 08:45:00</td>\n",
       "      <td>7.3</td>\n",
       "      <td>4.2</td>\n",
       "    </tr>\n",
       "    <tr>\n",
       "      <th>3</th>\n",
       "      <td>2019-01-25 09:00:00</td>\n",
       "      <td>9.4</td>\n",
       "      <td>6.2</td>\n",
       "    </tr>\n",
       "  </tbody>\n",
       "</table>\n",
       "</div>"
      ],
      "text/plain": [
       "                          A    B\n",
       "0  2019-01-25 08:15:00  4.5  1.3\n",
       "1  2019-01-25 08:30:00  6.0  5.7\n",
       "2  2019-01-25 08:45:00  7.3  4.2\n",
       "3  2019-01-25 09:00:00  9.4  6.2"
      ]
     },
     "execution_count": 6,
     "metadata": {},
     "output_type": "execute_result"
    }
   ],
   "source": [
    "import pandas as pd\n",
    "\n",
    "df = pd.DataFrame({\"\":[\"2019-01-25 08:15:00\",\"2019-01-25 08:30:00\",\"2019-01-25 08:45:00\",\"2019-01-25 09:00:00\"],\n",
    "                  \"A\":[4.50,6.00,7.30,9.40],\n",
    "                  \"B\":[1.30,5.70,4.20,6.20]})\n",
    "df"
   ]
  },
  {
   "cell_type": "code",
   "execution_count": 7,
   "metadata": {},
   "outputs": [
    {
     "data": {
      "text/plain": [
       "     2019-01-25 08:15:00\n",
       "A                    4.5\n",
       "B                    1.3\n",
       "Name: 0, dtype: object"
      ]
     },
     "execution_count": 7,
     "metadata": {},
     "output_type": "execute_result"
    }
   ],
   "source": [
    "dt = df.iloc[0]\n",
    "dt"
   ]
  },
  {
   "cell_type": "code",
   "execution_count": 8,
   "metadata": {},
   "outputs": [
    {
     "data": {
      "text/html": [
       "<div>\n",
       "<style>\n",
       "    .dataframe thead tr:only-child th {\n",
       "        text-align: right;\n",
       "    }\n",
       "\n",
       "    .dataframe thead th {\n",
       "        text-align: left;\n",
       "    }\n",
       "\n",
       "    .dataframe tbody tr th {\n",
       "        vertical-align: top;\n",
       "    }\n",
       "</style>\n",
       "<table border=\"1\" class=\"dataframe\">\n",
       "  <thead>\n",
       "    <tr style=\"text-align: right;\">\n",
       "      <th></th>\n",
       "      <th></th>\n",
       "      <th>A</th>\n",
       "      <th>B</th>\n",
       "      <th>C</th>\n",
       "    </tr>\n",
       "  </thead>\n",
       "  <tbody>\n",
       "    <tr>\n",
       "      <th>0</th>\n",
       "      <td>2019-01-25 08:15:00</td>\n",
       "      <td>4.5</td>\n",
       "      <td>1.3</td>\n",
       "      <td>1.000000</td>\n",
       "    </tr>\n",
       "    <tr>\n",
       "      <th>1</th>\n",
       "      <td>2019-01-25 08:30:00</td>\n",
       "      <td>6.0</td>\n",
       "      <td>5.7</td>\n",
       "      <td>0.340909</td>\n",
       "    </tr>\n",
       "    <tr>\n",
       "      <th>2</th>\n",
       "      <td>2019-01-25 08:45:00</td>\n",
       "      <td>7.3</td>\n",
       "      <td>4.2</td>\n",
       "      <td>-0.866667</td>\n",
       "    </tr>\n",
       "    <tr>\n",
       "      <th>3</th>\n",
       "      <td>2019-01-25 09:00:00</td>\n",
       "      <td>9.4</td>\n",
       "      <td>6.2</td>\n",
       "      <td>1.050000</td>\n",
       "    </tr>\n",
       "  </tbody>\n",
       "</table>\n",
       "</div>"
      ],
      "text/plain": [
       "                          A    B         C\n",
       "0  2019-01-25 08:15:00  4.5  1.3  1.000000\n",
       "1  2019-01-25 08:30:00  6.0  5.7  0.340909\n",
       "2  2019-01-25 08:45:00  7.3  4.2 -0.866667\n",
       "3  2019-01-25 09:00:00  9.4  6.2  1.050000"
      ]
     },
     "execution_count": 8,
     "metadata": {},
     "output_type": "execute_result"
    }
   ],
   "source": [
    "x = []\n",
    "# n = -1\n",
    "for i in range(0,len(df)):\n",
    "#     dt = df.iloc[i]\n",
    "#     dtA = dt[1]\n",
    "#     dtB = dt[2]\n",
    "#     if n == -1:\n",
    "#         x.insert(len(x),dtA/dtB)\n",
    "#     else:\n",
    "    x.insert(len(x),(df.iloc[i][1]-df.iloc[i-1][1])/(df.iloc[i][2]-df.iloc[i-1][2]))\n",
    "#     n += 1\n",
    "df[\"C\"] = x\n",
    "df"
   ]
  },
  {
   "cell_type": "code",
   "execution_count": 9,
   "metadata": {},
   "outputs": [
    {
     "data": {
      "text/html": [
       "<div>\n",
       "<style>\n",
       "    .dataframe thead tr:only-child th {\n",
       "        text-align: right;\n",
       "    }\n",
       "\n",
       "    .dataframe thead th {\n",
       "        text-align: left;\n",
       "    }\n",
       "\n",
       "    .dataframe tbody tr th {\n",
       "        vertical-align: top;\n",
       "    }\n",
       "</style>\n",
       "<table border=\"1\" class=\"dataframe\">\n",
       "  <thead>\n",
       "    <tr style=\"text-align: right;\">\n",
       "      <th></th>\n",
       "      <th>0</th>\n",
       "      <th>1</th>\n",
       "      <th>2</th>\n",
       "      <th>3</th>\n",
       "    </tr>\n",
       "  </thead>\n",
       "  <tbody>\n",
       "    <tr>\n",
       "      <th></th>\n",
       "      <td>2019-01-25 08:15:00</td>\n",
       "      <td>2019-01-25 08:30:00</td>\n",
       "      <td>2019-01-25 08:45:00</td>\n",
       "      <td>2019-01-25 09:00:00</td>\n",
       "    </tr>\n",
       "    <tr>\n",
       "      <th>A</th>\n",
       "      <td>4.5</td>\n",
       "      <td>6</td>\n",
       "      <td>7.3</td>\n",
       "      <td>9.4</td>\n",
       "    </tr>\n",
       "    <tr>\n",
       "      <th>B</th>\n",
       "      <td>1.3</td>\n",
       "      <td>5.7</td>\n",
       "      <td>4.2</td>\n",
       "      <td>6.2</td>\n",
       "    </tr>\n",
       "    <tr>\n",
       "      <th>C</th>\n",
       "      <td>1</td>\n",
       "      <td>0.340909</td>\n",
       "      <td>-0.866667</td>\n",
       "      <td>1.05</td>\n",
       "    </tr>\n",
       "  </tbody>\n",
       "</table>\n",
       "</div>"
      ],
      "text/plain": [
       "                     0                    1                    2  \\\n",
       "   2019-01-25 08:15:00  2019-01-25 08:30:00  2019-01-25 08:45:00   \n",
       "A                  4.5                    6                  7.3   \n",
       "B                  1.3                  5.7                  4.2   \n",
       "C                    1             0.340909            -0.866667   \n",
       "\n",
       "                     3  \n",
       "   2019-01-25 09:00:00  \n",
       "A                  9.4  \n",
       "B                  6.2  \n",
       "C                 1.05  "
      ]
     },
     "execution_count": 9,
     "metadata": {},
     "output_type": "execute_result"
    }
   ],
   "source": [
    "df.transpose()"
   ]
  },
  {
   "cell_type": "code",
   "execution_count": 10,
   "metadata": {},
   "outputs": [
    {
     "name": "stdout",
     "output_type": "stream",
     "text": [
      "                          A    B         C\n",
      "0  2019-01-25 08:15:00  4.5  1.3  1.000000\n",
      "1  2019-01-25 08:30:00  6.0  5.7  0.340909\n",
      "2  2019-01-25 08:45:00  7.3  4.2 -0.866667\n",
      "3  2019-01-25 09:00:00  9.4  6.2  1.050000\n"
     ]
    }
   ],
   "source": [
    "print (df)"
   ]
  },
  {
   "cell_type": "markdown",
   "metadata": {},
   "source": [
    "Joining columns"
   ]
  },
  {
   "cell_type": "code",
   "execution_count": 11,
   "metadata": {},
   "outputs": [
    {
     "data": {
      "text/html": [
       "<div>\n",
       "<style>\n",
       "    .dataframe thead tr:only-child th {\n",
       "        text-align: right;\n",
       "    }\n",
       "\n",
       "    .dataframe thead th {\n",
       "        text-align: left;\n",
       "    }\n",
       "\n",
       "    .dataframe tbody tr th {\n",
       "        vertical-align: top;\n",
       "    }\n",
       "</style>\n",
       "<table border=\"1\" class=\"dataframe\">\n",
       "  <thead>\n",
       "    <tr style=\"text-align: right;\">\n",
       "      <th></th>\n",
       "      <th>Ad_URL</th>\n",
       "      <th>Title</th>\n",
       "      <th>Link</th>\n",
       "    </tr>\n",
       "  </thead>\n",
       "  <tbody>\n",
       "    <tr>\n",
       "      <th>0</th>\n",
       "      <td>http://www.google.com</td>\n",
       "      <td>Google</td>\n",
       "      <td>&lt;a href=\"http://www.google.com\"&gt;Google&lt;/a&gt;</td>\n",
       "    </tr>\n",
       "    <tr>\n",
       "      <th>1</th>\n",
       "      <td>http://www.yahoo.com</td>\n",
       "      <td>Yahoo</td>\n",
       "      <td>&lt;a href=\"http://www.yahoo.com\"&gt;Yahoo&lt;/a&gt;</td>\n",
       "    </tr>\n",
       "  </tbody>\n",
       "</table>\n",
       "</div>"
      ],
      "text/plain": [
       "                  Ad_URL   Title                                        Link\n",
       "0  http://www.google.com  Google  <a href=\"http://www.google.com\">Google</a>\n",
       "1   http://www.yahoo.com   Yahoo    <a href=\"http://www.yahoo.com\">Yahoo</a>"
      ]
     },
     "execution_count": 11,
     "metadata": {},
     "output_type": "execute_result"
    }
   ],
   "source": [
    "df = pd.DataFrame({\"Ad_URL\":[\"http://www.google.com\",\"http://www.yahoo.com\"],\n",
    "                  \"Title\":[\"Google\",\"Yahoo\"]})\n",
    "\n",
    "def Ad_Link(df):\n",
    "    return ('<a href=\"{}\">{}</a>'.format(df['Ad_URL'],df['Title']))\n",
    "\n",
    "df['Link'] = df[['Ad_URL','Title']].apply(lambda x:Ad_Link(x), axis=1)\n",
    "df"
   ]
  },
  {
   "cell_type": "code",
   "execution_count": 12,
   "metadata": {},
   "outputs": [
    {
     "data": {
      "text/html": [
       "<div>\n",
       "<style>\n",
       "    .dataframe thead tr:only-child th {\n",
       "        text-align: right;\n",
       "    }\n",
       "\n",
       "    .dataframe thead th {\n",
       "        text-align: left;\n",
       "    }\n",
       "\n",
       "    .dataframe tbody tr th {\n",
       "        vertical-align: top;\n",
       "    }\n",
       "</style>\n",
       "<table border=\"1\" class=\"dataframe\">\n",
       "  <thead>\n",
       "    <tr style=\"text-align: right;\">\n",
       "      <th></th>\n",
       "      <th>col_a</th>\n",
       "      <th>col_b</th>\n",
       "    </tr>\n",
       "  </thead>\n",
       "  <tbody>\n",
       "    <tr>\n",
       "      <th>0</th>\n",
       "      <td>Python PY is a general purpose PY language</td>\n",
       "      <td>Python PY</td>\n",
       "    </tr>\n",
       "    <tr>\n",
       "      <th>1</th>\n",
       "      <td>Programming PY language in Python PY</td>\n",
       "      <td>Programming PY</td>\n",
       "    </tr>\n",
       "    <tr>\n",
       "      <th>2</th>\n",
       "      <td>Its easier to understand  PY</td>\n",
       "      <td>understand  PY</td>\n",
       "    </tr>\n",
       "    <tr>\n",
       "      <th>3</th>\n",
       "      <td>The syntax of the language is clean PY</td>\n",
       "      <td>clean PY</td>\n",
       "    </tr>\n",
       "  </tbody>\n",
       "</table>\n",
       "</div>"
      ],
      "text/plain": [
       "                                        col_a           col_b\n",
       "0  Python PY is a general purpose PY language       Python PY\n",
       "1        Programming PY language in Python PY  Programming PY\n",
       "2                Its easier to understand  PY  understand  PY\n",
       "3      The syntax of the language is clean PY        clean PY"
      ]
     },
     "execution_count": 12,
     "metadata": {},
     "output_type": "execute_result"
    }
   ],
   "source": [
    "import re\n",
    "\n",
    "df = ({\"col_a\": [\"Python PY is a general purpose PY language\",\n",
    "                 \"Programming PY language in Python PY\",\n",
    "                 \"Its easier to understand  PY\",\n",
    "                 \"The syntax of the language is clean PY\"]})\n",
    "col_b = []\n",
    "for item in df['col_a']:\n",
    "    x = re.search(r\"(\\w+\\s+PY)\", item)\n",
    "    col_b.append(x.group())\n",
    "df['col_b'] = col_b\n",
    "df = pd.DataFrame(df)\n",
    "df"
   ]
  },
  {
   "cell_type": "code",
   "execution_count": 316,
   "metadata": {},
   "outputs": [
    {
     "data": {
      "text/html": [
       "<div>\n",
       "<style>\n",
       "    .dataframe thead tr:only-child th {\n",
       "        text-align: right;\n",
       "    }\n",
       "\n",
       "    .dataframe thead th {\n",
       "        text-align: left;\n",
       "    }\n",
       "\n",
       "    .dataframe tbody tr th {\n",
       "        vertical-align: top;\n",
       "    }\n",
       "</style>\n",
       "<table border=\"1\" class=\"dataframe\">\n",
       "  <thead>\n",
       "    <tr style=\"text-align: right;\">\n",
       "      <th></th>\n",
       "      <th>ID</th>\n",
       "      <th>Name</th>\n",
       "      <th>Parent_Id</th>\n",
       "    </tr>\n",
       "  </thead>\n",
       "  <tbody>\n",
       "    <tr>\n",
       "      <th>0</th>\n",
       "      <td>211</td>\n",
       "      <td>Tom</td>\n",
       "      <td>111</td>\n",
       "    </tr>\n",
       "    <tr>\n",
       "      <th>1</th>\n",
       "      <td>209</td>\n",
       "      <td>Galie</td>\n",
       "      <td>111</td>\n",
       "    </tr>\n",
       "    <tr>\n",
       "      <th>2</th>\n",
       "      <td>200</td>\n",
       "      <td>Remo</td>\n",
       "      <td>101</td>\n",
       "    </tr>\n",
       "    <tr>\n",
       "      <th>3</th>\n",
       "      <td>212</td>\n",
       "      <td>Carmen</td>\n",
       "      <td>121</td>\n",
       "    </tr>\n",
       "    <tr>\n",
       "      <th>4</th>\n",
       "      <td>111</td>\n",
       "      <td>Alfred</td>\n",
       "      <td>191</td>\n",
       "    </tr>\n",
       "    <tr>\n",
       "      <th>5</th>\n",
       "      <td>101</td>\n",
       "      <td>Marvela</td>\n",
       "      <td>111</td>\n",
       "    </tr>\n",
       "    <tr>\n",
       "      <th>6</th>\n",
       "      <td>234</td>\n",
       "      <td>Armin</td>\n",
       "      <td>101</td>\n",
       "    </tr>\n",
       "    <tr>\n",
       "      <th>7</th>\n",
       "      <td>454</td>\n",
       "      <td>Boris</td>\n",
       "      <td>109</td>\n",
       "    </tr>\n",
       "    <tr>\n",
       "      <th>8</th>\n",
       "      <td>109</td>\n",
       "      <td>Katya</td>\n",
       "      <td>323</td>\n",
       "    </tr>\n",
       "  </tbody>\n",
       "</table>\n",
       "</div>"
      ],
      "text/plain": [
       "    ID     Name  Parent_Id\n",
       "0  211      Tom        111\n",
       "1  209    Galie        111\n",
       "2  200     Remo        101\n",
       "3  212   Carmen        121\n",
       "4  111   Alfred        191\n",
       "5  101  Marvela        111\n",
       "6  234    Armin        101\n",
       "7  454    Boris        109\n",
       "8  109    Katya        323"
      ]
     },
     "execution_count": 316,
     "metadata": {},
     "output_type": "execute_result"
    }
   ],
   "source": [
    "mydf = ({\"Name\":[\"Tom\",\"Galie\",\"Remo\",\"Carmen\",\"Alfred\",\"Marvela\",\"Armin\",\"Boris\",\"Katya\"],\n",
    "        \"ID\":[211,209,200,212,111,101,234,454,109],\"Parent_Id\":[111,111,101,121,191,111,101,109,323]})\n",
    "df = pd.DataFrame(mydf)\n",
    "df    "
   ]
  },
  {
   "cell_type": "code",
   "execution_count": 319,
   "metadata": {},
   "outputs": [
    {
     "data": {
      "text/html": [
       "<div>\n",
       "<style>\n",
       "    .dataframe thead tr:only-child th {\n",
       "        text-align: right;\n",
       "    }\n",
       "\n",
       "    .dataframe thead th {\n",
       "        text-align: left;\n",
       "    }\n",
       "\n",
       "    .dataframe tbody tr th {\n",
       "        vertical-align: top;\n",
       "    }\n",
       "</style>\n",
       "<table border=\"1\" class=\"dataframe\">\n",
       "  <thead>\n",
       "    <tr style=\"text-align: right;\">\n",
       "      <th></th>\n",
       "      <th>ID</th>\n",
       "      <th>Name</th>\n",
       "      <th>Parent_Id</th>\n",
       "      <th>Tag</th>\n",
       "    </tr>\n",
       "  </thead>\n",
       "  <tbody>\n",
       "    <tr>\n",
       "      <th>0</th>\n",
       "      <td>211</td>\n",
       "      <td>Tom</td>\n",
       "      <td>111</td>\n",
       "      <td>Alfred</td>\n",
       "    </tr>\n",
       "    <tr>\n",
       "      <th>1</th>\n",
       "      <td>209</td>\n",
       "      <td>Galie</td>\n",
       "      <td>111</td>\n",
       "      <td>Alfred</td>\n",
       "    </tr>\n",
       "    <tr>\n",
       "      <th>2</th>\n",
       "      <td>200</td>\n",
       "      <td>Remo</td>\n",
       "      <td>101</td>\n",
       "      <td>Marvela</td>\n",
       "    </tr>\n",
       "    <tr>\n",
       "      <th>3</th>\n",
       "      <td>212</td>\n",
       "      <td>Carmen</td>\n",
       "      <td>121</td>\n",
       "      <td></td>\n",
       "    </tr>\n",
       "    <tr>\n",
       "      <th>4</th>\n",
       "      <td>111</td>\n",
       "      <td>Alfred</td>\n",
       "      <td>191</td>\n",
       "      <td></td>\n",
       "    </tr>\n",
       "    <tr>\n",
       "      <th>5</th>\n",
       "      <td>101</td>\n",
       "      <td>Marvela</td>\n",
       "      <td>111</td>\n",
       "      <td>Alfred</td>\n",
       "    </tr>\n",
       "    <tr>\n",
       "      <th>6</th>\n",
       "      <td>234</td>\n",
       "      <td>Armin</td>\n",
       "      <td>101</td>\n",
       "      <td>Marvela</td>\n",
       "    </tr>\n",
       "    <tr>\n",
       "      <th>7</th>\n",
       "      <td>454</td>\n",
       "      <td>Boris</td>\n",
       "      <td>109</td>\n",
       "      <td>Katya</td>\n",
       "    </tr>\n",
       "    <tr>\n",
       "      <th>8</th>\n",
       "      <td>109</td>\n",
       "      <td>Katya</td>\n",
       "      <td>323</td>\n",
       "      <td></td>\n",
       "    </tr>\n",
       "  </tbody>\n",
       "</table>\n",
       "</div>"
      ],
      "text/plain": [
       "    ID     Name  Parent_Id      Tag\n",
       "0  211      Tom        111   Alfred\n",
       "1  209    Galie        111   Alfred\n",
       "2  200     Remo        101  Marvela\n",
       "3  212   Carmen        121         \n",
       "4  111   Alfred        191         \n",
       "5  101  Marvela        111   Alfred\n",
       "6  234    Armin        101  Marvela\n",
       "7  454    Boris        109    Katya\n",
       "8  109    Katya        323         "
      ]
     },
     "execution_count": 319,
     "metadata": {},
     "output_type": "execute_result"
    }
   ],
   "source": [
    "tag = []\n",
    "for z in df['Parent_Id']:\n",
    "    try:\n",
    "        temp = (df.query('ID==%s'%z)['Name'].item())\n",
    "        tag.append(temp)\n",
    "    except:\n",
    "        tag.append('')\n",
    "df['Tag'] = tag\n",
    "df"
   ]
  },
  {
   "cell_type": "code",
   "execution_count": 330,
   "metadata": {},
   "outputs": [
    {
     "data": {
      "text/html": [
       "<div>\n",
       "<style>\n",
       "    .dataframe thead tr:only-child th {\n",
       "        text-align: right;\n",
       "    }\n",
       "\n",
       "    .dataframe thead th {\n",
       "        text-align: left;\n",
       "    }\n",
       "\n",
       "    .dataframe tbody tr th {\n",
       "        vertical-align: top;\n",
       "    }\n",
       "</style>\n",
       "<table border=\"1\" class=\"dataframe\">\n",
       "  <thead>\n",
       "    <tr style=\"text-align: right;\">\n",
       "      <th></th>\n",
       "      <th>ID</th>\n",
       "      <th>Name</th>\n",
       "      <th>Parent_Id</th>\n",
       "      <th>Tag</th>\n",
       "    </tr>\n",
       "  </thead>\n",
       "  <tbody>\n",
       "    <tr>\n",
       "      <th>2</th>\n",
       "      <td>200</td>\n",
       "      <td>Remo</td>\n",
       "      <td>101</td>\n",
       "      <td>Marvela</td>\n",
       "    </tr>\n",
       "    <tr>\n",
       "      <th>6</th>\n",
       "      <td>234</td>\n",
       "      <td>Armin</td>\n",
       "      <td>101</td>\n",
       "      <td>Marvela</td>\n",
       "    </tr>\n",
       "  </tbody>\n",
       "</table>\n",
       "</div>"
      ],
      "text/plain": [
       "    ID   Name  Parent_Id      Tag\n",
       "2  200   Remo        101  Marvela\n",
       "6  234  Armin        101  Marvela"
      ]
     },
     "execution_count": 330,
     "metadata": {},
     "output_type": "execute_result"
    }
   ],
   "source": [
    "# if df['Tag'].str.contains('Alfred').any():\n",
    "df[df['Tag'].str.match('Marvela')]"
   ]
  },
  {
   "cell_type": "code",
   "execution_count": 717,
   "metadata": {},
   "outputs": [
    {
     "name": "stdout",
     "output_type": "stream",
     "text": [
      "Other\n"
     ]
    }
   ],
   "source": [
    "s = 23\n",
    "if type(s) == float:\n",
    "    print (\"It's float\")\n",
    "else:\n",
    "    print (\"Other\")"
   ]
  },
  {
   "cell_type": "code",
   "execution_count": 892,
   "metadata": {},
   "outputs": [
    {
     "name": "stdout",
     "output_type": "stream",
     "text": [
      "Enter series of number(s):20\n",
      "Sum: 210\n",
      "Average:  10.5\n",
      "Enter series of number(s):-1\n"
     ]
    }
   ],
   "source": [
    "sum = 0\n",
    "while True:\n",
    "    num = int(input(\"Enter series of number(s):\"))\n",
    "    if num == -1:\n",
    "        break\n",
    "    for x in range(num+1):\n",
    "        sum += x\n",
    "    print(\"Sum:\", sum)\n",
    "    average = sum / num\n",
    "    print(\"Average: \", average)"
   ]
  },
  {
   "cell_type": "code",
   "execution_count": 888,
   "metadata": {
    "scrolled": true
   },
   "outputs": [
    {
     "name": "stdout",
     "output_type": "stream",
     "text": [
      "   Total  Price_per_piece  Amount\n",
      "0      4                2       8\n",
      "1    200               10      20\n"
     ]
    }
   ],
   "source": [
    "dtotal = ({\"Total\":[\"Total Price: 4 x 2 = 8\",\"Total Price 200 Price_per_piece 10 Amount 20\"]})\n",
    "dt = pd.DataFrame(dtotal)\n",
    "\n",
    "data = []\n",
    "for item in dt['Total']:\n",
    "    regex = re.findall(r\"(\\d+)\\D+(\\d+)\\D+(\\d+)\",item)\n",
    "    regex = (map(list,regex))\n",
    "    data.append(list(map(int,list(regex)[0])))\n",
    "dftotal = pd.DataFrame(data, columns=['Total','Price_per_piece','Amount'])\n",
    "print(dftotal)"
   ]
  },
  {
   "cell_type": "code",
   "execution_count": 844,
   "metadata": {
    "scrolled": true
   },
   "outputs": [
    {
     "name": "stdout",
     "output_type": "stream",
     "text": [
      "['example@domain.com', '123) 456-7890', '234.567.8901']\n",
      "['ex_ample@domain.ac.id', None, '123-456-7890']\n"
     ]
    }
   ],
   "source": [
    "data = ({\"Email\":[\"Installed new heat pump. System is up and running with no leaks. Gave tenant orientation on new heat pump. installed new aqua cal heat pump Email: example@domain.com | Phone: (123) 456-7890 pool heater is not working. Please contact resident at 234.567.8901. Vendor Paid Pool/Spa Heater Equipment Pool/Spa 10088\",\n",
    "                 \"Heat pump Email: ex_ample@domain.ac.id | Phone: 123-456-7890 pool heater is not working\"]})\n",
    "df = pd.DataFrame(data)\n",
    "\n",
    "for item in df['Email']:\n",
    "    reg = re.search(r\"(?P<email>\\S+\\@\\S+)\\D+(?P<ph1>\\d{3}[\\D]+\\d{3}[\\D]+\\d{4})?.*(?P<ph2>\\d{3}[\\D]+\\d{3}[\\D]+\\d{4})\",item)\n",
    "    print(list(reg.groups()))"
   ]
  },
  {
   "cell_type": "code",
   "execution_count": 860,
   "metadata": {
    "scrolled": true
   },
   "outputs": [
    {
     "name": "stdout",
     "output_type": "stream",
     "text": [
      "But if you have got them to-day,\n",
      "my mother's purpose will be answered.\n",
      "This was a lucky idea of mine, indeed!\n",
      "MY DEAREST LIZZY,\n",
      "I find myself very unwell this morning, which, I suppose, is to be imputed to my getting wet through yesterday. My kind friends will not hear of my returning till I am better. They insist also on my seeing Mr. Jones--therefore do not be alarmed if you should hear of his having been to me--and, excepting a sore throat and headache, there is not much the matter with me.--Yours, etc.\n",
      "Well, my dear,\n",
      "if your daughter should have a dangerous fit of illness--if she should die, it would be a comfort to know that it was all in pursuit of Mr. Bingley, and under your orders.\n",
      "Oh! I am not afraid of her dying. People do not die of little trifling colds. She will be taken good care of. As long as she stays there, it is all very well. I would go and see her if I could have the carriage.\n",
      "DEAR SIR, \n",
      "Yours sincerely, etc.\n",
      "It is from Miss Bingley,\n",
      "MY DEAR FRIEND,\n",
      "If you are not so compassionate as to dine to-day with Louisa and me,\n",
      "we shall be in danger of hating each other for the rest of our lives,\n",
      "for a whole day's tete-a-tete between two women can never end without a\n",
      "quarrel. Come as soon as you can on receipt of this. My brother and the\n",
      "gentlemen are to dine with the officers.--Yours ever,\n",
      "\n",
      "\n",
      "\n",
      "\n",
      "\n",
      " cried Lydia. \n",
      "\n",
      "\n",
      "\n",
      " said Mrs. Bennet, \n",
      "\n",
      "\n",
      "\n",
      " said Jane.\n",
      "\n",
      "\n",
      "\n",
      "\n",
      "\n",
      " said Elizabeth, \n",
      "\n",
      "\n",
      "\n",
      "\n",
      "\n",
      "\n",
      "\n",
      "\n",
      "\n",
      "\n",
      "\n",
      "\n",
      "\n",
      "\n",
      "\n",
      " said Elizabeth, \n",
      "\n",
      "\n",
      "She did at last extort from her father an acknowledgment that the horses\n",
      "were engaged. Jane was therefore obliged to go on horseback, and her\n",
      "mother attended her to the door with many cheerful prognostics of a\n",
      "bad day. Her hopes were answered; Jane had not been gone long before\n",
      "it rained hard. Her sisters were uneasy for her, but her mother was\n",
      "delighted. The rain continued the whole evening without intermission;\n",
      "Jane certainly could not come back.\n",
      "\n",
      "\n",
      " said Mrs. Bennet more than\n",
      "once, as if the credit of making it rain were all her own. Till the\n",
      "next morning, however, she was not aware of all the felicity of her\n",
      "contrivance. Breakfast was scarcely over when a servant from Netherfield\n",
      "brought the following note for Elizabeth:\n",
      "\n",
      "\n",
      "I find myself very unwell this morning, which, I suppose, is to be\n",
      "imputed to my getting wet through yesterday. My kind friends will not\n",
      "hear of my returning till I am better. They insist also on my seeing Mr.\n",
      "Jones--therefore do not be alarmed if you should hear of his having been\n",
      "to me--and, excepting a sore throat and headache, there is not much the\n",
      "matter with me.--Yours, etc.\n",
      "Well, my dear,\n",
      "if your daughter should have a dangerous fit of illness--if she\n",
      "should die, it would be a comfort to know that it was all in pursuit of\n",
      "Mr. Bingley, and under your orders.\n"
     ]
    }
   ],
   "source": [
    "text = '''\n",
    "\"But if you have got them to-day,\" said Elizabeth, \"my mother's purpose will be answered.\"\n",
    "\n",
    "She did at last extort from her father an acknowledgment that the horses were engaged. Jane was therefore obliged to go on horseback, and her mother attended her to the door with many cheerful prognostics of a bad day. Her hopes were answered; Jane had not been gone long before it rained hard. Her sisters were uneasy for her, but her mother was delighted. The rain continued the whole evening without intermission; Jane certainly could not come back.\n",
    "\n",
    "\"This was a lucky idea of mine, indeed!\" said Mrs. Bennet more than once, as if the credit of making it rain were all her own. Till the next morning, however, she was not aware of all the felicity of her contrivance. Breakfast was scarcely over when a servant from Netherfield brought the following note for Elizabeth:\n",
    "\n",
    "\"MY DEAREST LIZZY,--\n",
    "\n",
    "\"I find myself very unwell this morning, which, I suppose, is to be imputed to my getting wet through yesterday. My kind friends will not hear of my returning till I am better. They insist also on my seeing Mr. Jones--therefore do not be alarmed if you should hear of his having been to me--and, excepting a sore throat and headache, there is not much the matter with me.--Yours, etc.\"\n",
    "\n",
    "\"Well, my dear,\" said Mr. Bennet, when Elizabeth had read the note aloud, \"if your daughter should have a dangerous fit of illness--if she should die, it would be a comfort to know that it was all in pursuit of Mr. Bingley, and under your orders.\"\n",
    "\n",
    "\"Oh! I am not afraid of her dying. People do not die of little trifling colds. She will be taken good care of. As long as she stays there, it is all very well. I would go and see her if I could have the carriage.\"\n",
    "\n",
    "Mr. Darcy's letter to Lady Catherine was in a different style; and still different from either was what Mr. Bennet sent to Mr. Collins, in reply to his last. \"DEAR SIR, \"I must trouble you once more for congratulations. Elizabeth will soon be the wife of Mr. Darcy. Console Lady Catherine as well as you can. But, if I were you, I would stand by the nephew. He has more to give. \"Yours sincerely, etc.\"\n",
    "\n",
    "\"It is from Miss Bingley,\" said Jane, and then read it aloud.\n",
    "\n",
    "\"MY DEAR FRIEND,--\n",
    "\n",
    "\"If you are not so compassionate as to dine to-day with Louisa and me,\n",
    "we shall be in danger of hating each other for the rest of our lives,\n",
    "for a whole day's tete-a-tete between two women can never end without a\n",
    "quarrel. Come as soon as you can on receipt of this. My brother and the\n",
    "gentlemen are to dine with the officers.--Yours ever,\n",
    "\n",
    "\"CAROLINE BINGLEY\"\n",
    "\n",
    "\"With the officers!\" cried Lydia. \"I wonder my aunt did not tell us of\n",
    "_that_.\"\n",
    "\n",
    "\"Dining out,\" said Mrs. Bennet, \"that is very unlucky.\"\n",
    "\n",
    "\"Can I have the carriage?\" said Jane.\n",
    "\n",
    "\"No, my dear, you had better go on horseback, because it seems likely to\n",
    "rain; and then you must stay all night.\"\n",
    "\n",
    "\"That would be a good scheme,\" said Elizabeth, \"if you were sure that\n",
    "they would not offer to send her home.\"\n",
    "\n",
    "\"Oh! but the gentlemen will have Mr. Bingley's chaise to go to Meryton,\n",
    "and the Hursts have no horses to theirs.\"\n",
    "\n",
    "\"I had much rather go in the coach.\"\n",
    "\n",
    "\"But, my dear, your father cannot spare the horses, I am sure. They are\n",
    "wanted in the farm, Mr. Bennet, are they not?\"\n",
    "\n",
    "\"They are wanted in the farm much oftener than I can get them.\"\n",
    "\n",
    "\"But if you have got them to-day,\" said Elizabeth, \"my mother's purpose\n",
    "will be answered.\"\n",
    "\n",
    "She did at last extort from her father an acknowledgment that the horses\n",
    "were engaged. Jane was therefore obliged to go on horseback, and her\n",
    "mother attended her to the door with many cheerful prognostics of a\n",
    "bad day. Her hopes were answered; Jane had not been gone long before\n",
    "it rained hard. Her sisters were uneasy for her, but her mother was\n",
    "delighted. The rain continued the whole evening without intermission;\n",
    "Jane certainly could not come back.\n",
    "\n",
    "\"This was a lucky idea of mine, indeed!\" said Mrs. Bennet more than\n",
    "once, as if the credit of making it rain were all her own. Till the\n",
    "next morning, however, she was not aware of all the felicity of her\n",
    "contrivance. Breakfast was scarcely over when a servant from Netherfield\n",
    "brought the following note for Elizabeth:\n",
    "\n",
    "\"MY DEAREST LIZZY,--\n",
    "\n",
    "\"I find myself very unwell this morning, which, I suppose, is to be\n",
    "imputed to my getting wet through yesterday. My kind friends will not\n",
    "hear of my returning till I am better. They insist also on my seeing Mr.\n",
    "Jones--therefore do not be alarmed if you should hear of his having been\n",
    "to me--and, excepting a sore throat and headache, there is not much the\n",
    "matter with me.--Yours, etc.\"\n",
    "\n",
    "\"Well, my dear,\" said Mr. Bennet, when Elizabeth had read the note\n",
    "aloud, \"if your daughter should have a dangerous fit of illness--if she\n",
    "should die, it would be a comfort to know that it was all in pursuit of\n",
    "Mr. Bingley, and under your orders.\"\n",
    "'''\n",
    "\n",
    "talk = re.findall(r'\\\"([^\\\"]+?)(\\\"|\\-\\-\\n)',text)\n",
    "for t in talk:\n",
    "    print(t[0])"
   ]
  },
  {
   "cell_type": "markdown",
   "metadata": {},
   "source": [
    "# Scrap url"
   ]
  },
  {
   "cell_type": "code",
   "execution_count": 13,
   "metadata": {
    "scrolled": true
   },
   "outputs": [
    {
     "name": "stdout",
     "output_type": "stream",
     "text": [
      "iPhone 7 (32GB) $ 0 More info: https://www.m1.com.sg/personal/mobile/phones/details/iphone%207%2032gb%20black\n",
      "iPhone 7 Plus (32GB) $ 0 More info: https://www.m1.com.sg/personal/mobile/phones/details/iphone%207%20plus%2032gb%20black\n",
      "iPhone XR 128GB $ 225 More info: https://www.m1.com.sg/personal/mobile/phones/details/iphone%20xr%20128gb%20black\n",
      "iPhone XR 256GB $ 385 More info: https://www.m1.com.sg/personal/mobile/phones/details/iphone%20xr%20256gb%20black\n",
      "iPhone XR 64GB $ 160 More info: https://www.m1.com.sg/personal/mobile/phones/details/iphone%20xr%2064gb%20black\n",
      "iPhone XS 256GB $ 665 More info: https://www.m1.com.sg/personal/mobile/phones/details/iphone%20xs%20256gb%20space%20grey\n",
      "iPhone XS 512GB $ 1100 More info: https://www.m1.com.sg/personal/mobile/phones/details/iphone%20xs%20512gb%20space%20grey\n",
      "iPhone XS 64GB $ 590 More info: https://www.m1.com.sg/personal/mobile/phones/details/iphone%20xs%2064gb%20silver\n",
      "iPhone XS Max 256GB $ 805 More info: https://www.m1.com.sg/personal/mobile/phones/details/iphone%20xs%20max%20256gb%20space%20grey\n",
      "iPhone XS Max 512GB $ 1240 More info: https://www.m1.com.sg/personal/mobile/phones/details/iphone%20xs%20max%20512gb%20space%20grey\n",
      "iPhone XS Max 64GB $ 730 More info: https://www.m1.com.sg/personal/mobile/phones/details/iphone%20xs%20max%2064gb%20silver\n",
      "ASUS ZenFone 5Q $ 0 More info: https://www.m1.com.sg/personal/mobile/phones/details/asus%20zenfone%205q%20white\n",
      "ASUS ZenFone Live L1 $ 0 More info: https://www.m1.com.sg/personal/mobile/phones/details/asus%20zenfone%20live%20l1%20black\n",
      "BlackBerry KEY2 $ 258 More info: https://www.m1.com.sg/personal/mobile/phones/details/blackberry%20key2%20black\n",
      "BlackBerry KEY2 LE $ 0 More info: https://www.m1.com.sg/personal/mobile/phones/details/blackberry%20key2%20le%20atomic%20red\n",
      "Huawei Mate 20 $ 0 More info: https://www.m1.com.sg/personal/mobile/phones/details/huawei%20mate%2020%20black\n",
      "Huawei Mate 20 Pro $ 118 More info: https://www.m1.com.sg/personal/mobile/phones/details/huawei%20mate%2020%20pro%20black\n",
      "Huawei Mate 20 X $ 188 More info: https://www.m1.com.sg/personal/mobile/phones/details/huawei%20mate%2020%20x%20midnight%20blue\n",
      "Huawei Nova 3i $ 0 More info: https://www.m1.com.sg/personal/mobile/phones/details/huawei%20nova%203i%20black\n",
      "Huawei Y6 2018 $ 0 More info: https://www.m1.com.sg/personal/mobile/phones/details/huawei%20y6%202018%20blue\n",
      "Huawei Y6 Pro 2019 $ 0 More info: https://www.m1.com.sg/personal/mobile/phones/details/huawei%20y6%20pro%202019%20midnight%20black\n",
      "Lenovo Tab 7 Essential (LTE) $ 0 More info: https://www.m1.com.sg/personal/mobile/phones/details/lenovo%20tab%207%20essential%20lte%20black\n",
      "LG G7+ ThinQ $ 0 More info: https://www.m1.com.sg/personal/mobile/phones/details/lg%20g7%20plus%20thinq%20black\n",
      "LG V40 ThinQ $ 88 More info: https://www.m1.com.sg/personal/mobile/phones/details/lg%20v40%20thinq%20moroccan%20blue\n",
      "OPPO AX7 $ 0 More info: https://www.m1.com.sg/personal/mobile/phones/details/ax7%20gold\n",
      "OPPO Find X (256GB) $ 298 More info: https://www.m1.com.sg/personal/mobile/phones/details/find%20x%20256gb%20bordeaux%20red\n",
      "OPPO R17 $ 0 More info: https://www.m1.com.sg/personal/mobile/phones/details/r17%20ambient%20blue\n",
      "OPPO R17 Pro $ 98 More info: https://www.m1.com.sg/personal/mobile/phones/details/r17%20pro%20emerald%20green\n",
      "Samsung Galaxy A7 $ 0 More info: https://www.m1.com.sg/personal/mobile/phones/details/samsung%20galaxy%20a7%202018%20blue\n",
      "Samsung Galaxy A9 $ 0 More info: https://www.m1.com.sg/personal/mobile/phones/details/samsung%20galaxy%20a9%202018%20bubblegum%20pink\n",
      "Samsung Galaxy J4+ $ 0 More info: https://www.m1.com.sg/personal/mobile/phones/details/samsung%20galaxy%20j4%20plus%20black\n",
      "Samsung Galaxy J6+ $ 0 More info: https://www.m1.com.sg/personal/mobile/phones/details/samsung%20galaxy%20j6%20plus%20red\n",
      "Samsung Galaxy J7 Duo $ 0 More info: https://www.m1.com.sg/personal/mobile/phones/details/samsung%20galaxy%20j7%20duo%20black\n",
      "Samsung Galaxy Note9 128GB $ 288 More info: https://www.m1.com.sg/personal/mobile/phones/details/samsung%20galaxy%20note9%20128gb%20midnight%20black\n",
      "Samsung Galaxy Note9 512GB $ 488 More info: https://www.m1.com.sg/personal/mobile/phones/details/samsung%20galaxy%20note9%20512gb%20lavender\n",
      "Samsung Galaxy S10 128GB $ 378 More info: https://www.m1.com.sg/personal/mobile/phones/details/samsung%20galaxy%20s10%20128gb%20prism%20black\n",
      "Samsung Galaxy S10+ 128GB $ 478 More info: https://www.m1.com.sg/personal/mobile/phones/details/samsung%20galaxy%20s10%20plus%20128gb%20prism%20black\n",
      "Samsung Galaxy S10+ 1TB $ 1298 More info: https://www.m1.com.sg/personal/mobile/phones/details/samsung%20galaxy%20s10%20plus%201tb%20ceramic%20white\n",
      "Samsung Galaxy S10+ 512GB $ 898 More info: https://www.m1.com.sg/personal/mobile/phones/details/samsung%20galaxy%20s10%20plus%20512gb%20ceramic%20white\n",
      "Samsung Galaxy S10e 128GB $ 228 More info: https://www.m1.com.sg/personal/mobile/phones/details/samsung%20galaxy%20s10e%20128gb%20prism%20black\n",
      "Samsung Galaxy S9 64GB $ 0 More info: https://www.m1.com.sg/personal/mobile/phones/details/samsung%20galaxy%20s9%2064gb%20polaris%20blue\n",
      "Samsung Galaxy Tab A (2018) 10.5\" $ 0 More info: https://www.m1.com.sg/personal/mobile/phones/details/samsung%20galaxy%20tab%20a%202018%20105%20black\n",
      "Samsung Galaxy Tab S4 256GB $ 548 More info: https://www.m1.com.sg/personal/mobile/phones/details/samsung%20galaxy%20tab%20s4%20256gb%20black\n",
      "Samsung Galaxy Tab S4 64GB $ 398 More info: https://www.m1.com.sg/personal/mobile/phones/details/samsung%20galaxy%20tab%20s4%2064gb%20black\n",
      "vivo Nex Dual Screen Edition $ 198 More info: https://www.m1.com.sg/personal/mobile/phones/details/vivo%20nex%20dual%20screen%20edition%20polar%20blue\n",
      "vivo V11 $ 0 More info: https://www.m1.com.sg/personal/mobile/phones/details/vivo%20v11%20starry%20night\n",
      "vivo Y95 $ 0 More info: https://www.m1.com.sg/personal/mobile/phones/details/vivo%20y95%20aurora%20red\n",
      "Xiaomi Redmi Note 6 Pro $ 0 More info: https://www.m1.com.sg/personal/mobile/phones/details/xiaomi%20redmi%20note%206%20pro%20black\n"
     ]
    }
   ],
   "source": [
    "import urllib.request\n",
    "from bs4 import BeautifulSoup\n",
    "from html.parser import HTMLParser\n",
    "\n",
    "url_toscrape = \"https://www.m1.com.sg/personal/mobile/phones/filters/all-plans/all/all/0/1500/0/0/none\"\n",
    "response = urllib.request.urlopen(url_toscrape)\n",
    "info_type = response.info()\n",
    "responseData = response.read()\n",
    "soup = BeautifulSoup(responseData, 'html.parser')\n",
    "\n",
    "for tr in soup.find_all(\"div\",{\"class\":\"tr middle\"}):\n",
    "    for model in tr.find_all(\"div\",{\"class\":\"td three title text-center\"}):\n",
    "        model = model.text.strip()\n",
    "    for price in tr.find_all(\"div\",{\"class\":\"td two price text-center\"}):\n",
    "        price = price.text.strip()\n",
    "    for info in tr.find_all(\"div\",{\"class\":\"td two description\"}):\n",
    "        for link in info.find_all(\"a\"):\n",
    "            info = info.text.strip() + \": https://www.m1.com.sg\" + link['href'].replace(\" \",\"%20\")\n",
    "    print (model,price,info)"
   ]
  },
  {
   "cell_type": "code",
   "execution_count": 5,
   "metadata": {
    "collapsed": true
   },
   "outputs": [],
   "source": [
    "from bs4 import BeautifulSoup\n",
    "import requests\n",
    "r = requests.get('http://www.smcasurat.org/Member/DirectorySearch#')\n",
    "soup = BeautifulSoup(r.text,'lxml')\n",
    "\n",
    "for data in soup.find_all(class_='part_one'):\n",
    "    name = data.find(class_='h4').text.strip()\n",
    "    print (name)\n",
    "# qual = data.find('h5')\n",
    "# print (qual.text)\n",
    "# contact = data.find('div',class_='media')\n",
    "# contact1 = contact.find('p')\n",
    "# print (contact1.text)\n",
    "# email = data.find('div',class_='media-body')\n",
    "# email1 = email.find('p')\n",
    "# print (email1.text)"
   ]
  },
  {
   "cell_type": "code",
   "execution_count": 14,
   "metadata": {
    "scrolled": true
   },
   "outputs": [
    {
     "name": "stdout",
     "output_type": "stream",
     "text": [
      "iPhone 7 (32GB) $ 0\n",
      "iPhone 7 (32GB) $ 0\n",
      "iPhone 7 Plus (32GB) $ 0\n",
      "iPhone XR 128GB $ 225\n",
      "iPhone XR 256GB $ 385\n",
      "iPhone XR 64GB $ 160\n",
      "iPhone XS 256GB $ 665\n",
      "iPhone XS 512GB $ 1100\n",
      "iPhone XS 64GB $ 590\n",
      "iPhone XS Max 256GB $ 805\n",
      "iPhone XS Max 512GB $ 1240\n",
      "iPhone XS Max 64GB $ 730\n",
      "ASUS ZenFone 5Q $ 0\n",
      "ASUS ZenFone Live L1 $ 0\n",
      "BlackBerry KEY2 $ 258\n",
      "BlackBerry KEY2 LE $ 0\n",
      "BlackBerry KEYone Dual SIM $ 98\n",
      "Huawei Mate 20 $ 0\n",
      "Huawei Mate 20 Pro $ 118\n",
      "Huawei Mate 20 X $ 188\n",
      "Huawei Nova 3i $ 0\n",
      "Huawei Y6 2018 $ 0\n",
      "Huawei Y6 Pro 2019 $ 0\n",
      "Lenovo Tab 7 Essential (LTE) $ 0\n",
      "LG G7+ ThinQ $ 0\n",
      "LG V40 ThinQ $ 88\n",
      "OPPO AX7 $ 0\n",
      "OPPO Find X (256GB) $ 298\n",
      "OPPO R17 $ 0\n",
      "OPPO R17 Pro $ 98\n",
      "Samsung Galaxy A7 $ 0\n",
      "Samsung Galaxy A9 $ 0\n",
      "Samsung Galaxy J4+ $ 0\n",
      "Samsung Galaxy J6+ $ 0\n",
      "Samsung Galaxy J7 Duo $ 0\n",
      "Samsung Galaxy Note9 128GB $ 288\n",
      "Samsung Galaxy Note9 512GB $ 488\n",
      "Samsung Galaxy S10 128GB $ 378\n",
      "Samsung Galaxy S10+ 128GB $ 478\n",
      "Samsung Galaxy S10+ 1TB $ 1298\n",
      "Samsung Galaxy S10+ 512GB $ 898\n",
      "Samsung Galaxy S10e 128GB $ 228\n",
      "Samsung Galaxy S9 64GB $ 0\n",
      "Samsung Galaxy Tab A (2018) 10.5\" $ 0\n",
      "Samsung Galaxy Tab S4 256GB $ 548\n",
      "Samsung Galaxy Tab S4 64GB $ 398\n",
      "vivo Nex Dual Screen Edition $ 198\n",
      "vivo V11 $ 0\n",
      "vivo Y95 $ 0\n",
      "Xiaomi Redmi Note 6 Pro $ 0\n"
     ]
    }
   ],
   "source": [
    "import requests\n",
    "from bs4 import BeautifulSoup\n",
    "\n",
    "url = \"https://www.m1.com.sg/personal/mobile/phones/filters/all-plans/all/all/0/1500/0/0/none\"\n",
    "\n",
    "response = requests.get(url)\n",
    "soup = BeautifulSoup(response.text, 'lxml')\n",
    "for items in soup.find_all(class_=\"phone-line\"):\n",
    "    model = items.find(class_=\"title\").text.strip()\n",
    "    price = items.find(class_=\"light-blue\").text.strip()\n",
    "    print(model,price)"
   ]
  },
  {
   "cell_type": "code",
   "execution_count": 15,
   "metadata": {},
   "outputs": [
    {
     "name": "stdout",
     "output_type": "stream",
     "text": [
      "\n",
      "Pertamina\n",
      "Airfast Indonesia\n",
      "Tangerang\n",
      "Angkasa Pura\n",
      "Jakarta\n",
      "Astra International\n",
      "Jakarta\n",
      "Bank Central Asia\n",
      "Jakarta\n",
      "Bank Danamon\n",
      "Jakarta\n",
      "Bank Mandiri\n",
      "Jakarta\n",
      "Bank Negara Indonesia\n",
      "Jakarta\n",
      "Bank Rakyat Indonesia\n",
      "Jakarta\n",
      "Bumi Resources\n",
      "Jakarta\n",
      "Djarum\n",
      " Kudus\n",
      "Jakarta\n",
      "Dragon Computer & Communication\n",
      "Jakarta\n",
      "Elex Media Komputindo\n",
      "Jakarta\n",
      "Femina\n",
      "Jakarta\n",
      "Garuda Indonesia\n",
      "Tangerang\n",
      "Gudang Garam\n",
      "Kediri\n",
      "Gunung Agung\n",
      "Jakarta\n",
      "Indocement Tunggal Prakarsa\n",
      "Jakarta\n",
      "HeidelbergCement\n",
      "Indofood\n",
      "Jakarta\n",
      "Indonesian Aerospace\n",
      "Bandung\n",
      "Indonesian Bureau of Logistics\n",
      "Jakarta\n",
      "Indosat\n",
      "Jakarta\n",
      "Infomedia Nusantara\n",
      "Jakarta\n",
      "Jalur Nugraha Ekakurir\n",
      "Jakarta\n",
      "Kalbe Farma\n",
      "Jakarta\n",
      "Kereta Api Indonesia\n",
      "Bandung\n",
      "Kimia Farma\n",
      "Jakarta\n",
      "Kompas Gramedia Group\n",
      "Jakarta\n",
      "Krakatau Steel\n",
      "Cilegon\n",
      "Lion Air\n",
      "Jakarta\n",
      "Lippo Group\n",
      "Jakarta\n",
      "Matahari\n",
      "Tangerang\n",
      "MedcoEnergi\n",
      "Jakarta\n",
      "Media Nusantara Citra\n",
      "Jakarta\n",
      "Panin Sekuritas\n",
      "Jakarta\n",
      "Pegadaian\n",
      "Jakarta\n",
      "Pelni\n",
      "Jakarta\n",
      "Pos Indonesia\n",
      "Bandung\n",
      "Pertamina\n",
      "Jakarta\n",
      "Perusahaan Gas Negara\n",
      "Jakarta\n",
      "Perusahaan Gas Negara\n",
      "Jakarta\n",
      "Perusahaan Listrik Negara\n",
      "Jakarta\n",
      "Phillip Securities Indonesia, PT\n",
      "Jakarta\n",
      "Pindad\n",
      "Bandung\n",
      "PT Lapindo Brantas\n",
      "Jakarta\n",
      "PT Metro Supermarket Realty Tbk\n",
      "Jakarta\n",
      "Salim Group\n",
      "Jakarta\n",
      "Sampoerna\n",
      "Surabaya\n",
      "Semen Indonesia\n",
      "Gresik\n",
      "Susi Air\n",
      "Pangandaran\n",
      "Telkom Indonesia\n",
      "Bandung\n",
      "Telkomsel\n",
      "Jakarta\n",
      "Telkom Indonesia\n",
      "Trans Corp\n",
      "Jakarta\n",
      "CT Corp\n",
      "Unilever Indonesia\n",
      "Jakarta\n",
      "Unilever\n",
      "United Tractors\n",
      "Jakarta\n",
      " Waskita\n",
      "Jakarta\n"
     ]
    }
   ],
   "source": [
    "import requests\n",
    "from bs4 import BeautifulSoup as bs\n",
    "\n",
    "url = \"https://en.wikipedia.org/wiki/List_of_companies_of_Indonesia\"\n",
    "html = requests.get(url).text\n",
    "soup = bs(html, 'html.parser')\n",
    "\n",
    "for data in soup.find_all('table', {\"class\":\"wikitable\"}):\n",
    "    for td in data.find_all('td'):\n",
    "        for link in td.find_all('a'):\n",
    "            print (link.text)"
   ]
  },
  {
   "cell_type": "code",
   "execution_count": 599,
   "metadata": {
    "scrolled": true
   },
   "outputs": [
    {
     "data": {
      "text/plain": [
       "[' 1.  Fate/Grand Order  ',\n",
       " ' 2.  モンスターストライク  ',\n",
       " ' 3.  パズル＆ドラゴンズ  ',\n",
       " ' 4.  ラングリッサー モバイル  ',\n",
       " ' 5.  Pokémon GO  ',\n",
       " ' 6.  LINE：ディズニー ツムツム  ',\n",
       " ' 7.  マフィア・シティ-極道風雲  ',\n",
       " ' 8.  実況パワフルプロ野球  ',\n",
       " ' 9.  LINE ポコポコ  ',\n",
       " ' 10.  黒い砂漠 MOBILE  ',\n",
       " ' 11.  放置少女 〜百花繚乱の萌姫たち  ',\n",
       " ' 12.  リネージュ2 レボリューション  ',\n",
       " ' 13.  荒野行動-東京決戦  ',\n",
       " ' 14.  ロマンシング サガ リ･ユニバース  ',\n",
       " ' 15.  ラブライブ！スクールアイドルフェスティバル（スクフェス） - 大人気リズムゲーム  ',\n",
       " ' 16.  グランブルーファンタジー  ',\n",
       " ' 17.  ファイアーエムブレム  ヒーローズ  ',\n",
       " ' 18.  ホームスケイプ (Homescapes)  ',\n",
       " ' 19.  妖怪ウォッチ ぷにぷに  ',\n",
       " ' 20.  遊戯王 デュエルリンクス  ',\n",
       " ' 21.  ドールズフロントライン  ',\n",
       " ' 22.  プロ野球スピリッツA  ',\n",
       " ' 23.  アズールレーン  ',\n",
       " ' 24.  日替わり内室  ',\n",
       " ' 25.  ドラゴンボールZ ドッカンバトル  ',\n",
       " ' 26.  あんさんぶるスターズ！  ',\n",
       " ' 27.  シャドウバース (Shadowverse)  ',\n",
       " ' 28.  ガーデンスケイプ(Gardenscapes)  ',\n",
       " ' 29.  新三國志：コーエーテクモゲームス完全監修  ',\n",
       " ' 30.  サマナーズウォー: Sky Arena  ',\n",
       " ' 31.  アイドルマスター シンデレラガールズ スターライトステージ  ',\n",
       " ' 32.  バンドリ！ ガールズバンドパーティ！  ',\n",
       " ' 33.  キングスレイド  ',\n",
       " \" 34.  THE KING OF FIGHTERS '98UM OL  \",\n",
       " ' 35.  FINAL FANTASY BRAVE EXVIUS  ',\n",
       " ' 36.  星のドラゴンクエスト  ',\n",
       " ' 37.  LINE POP2  ',\n",
       " ' 38.  ドラゴンエッグ 仲間との出会い×友達対戦RPG  ',\n",
       " ' 39.  SINoALICE ーシノアリスー  ',\n",
       " ' 40.  アイドルマスター ミリオンライブ！ シアターデイズ  ',\n",
       " ' 41.  グリムエコーズ  ',\n",
       " ' 42.  プリンセスコネクト！Re:Dive  ',\n",
       " ' 43.  スクールガールストライカーズ2  ',\n",
       " ' 44.  戦姫絶唱シンフォギアXD UNLIMITED  ',\n",
       " ' 45.  ファイナルファンタジー15: 新たなる王国 (Final Fantasy XV)  ',\n",
       " ' 46.  FINAL FANTASY Record Keeper  ',\n",
       " ' 47.  戦艦帝国-228艘の実在戦艦を集めろ  ',\n",
       " ' 48.  PUBG MOBILE  ',\n",
       " ' 49.  任侠伝\\u3000不良達のガチンコ喧嘩バトルRPG  ',\n",
       " ' 50.  ダンまち〜メモリア・フレーゼ〜  ',\n",
       " ' 51.  白猫プロジェクト  ',\n",
       " ' 52.  ソードアート・オンライン メモリー・デフラグ  ',\n",
       " ' 53.  スーパーガンダムロワイヤル  ',\n",
       " ' 54.  マギアレコード 魔法少女まどかマギカ外伝  ',\n",
       " ' 55.  ドラゴンボール レジェンズ  ',\n",
       " ' 56.  Ｄ×２ 真･女神転生 リベレーション【RPG】  ',\n",
       " ' 57.  KOF ALLSTAR  ',\n",
       " ' 58.  クイズRPG 魔法使いと黒猫のウィズ  ',\n",
       " ' 59.  釣りスタ！釣り場を選んでかんたんタップ！基本無料の魚釣りアプリ！情報を駆使して魚図鑑を完成させよう！  ',\n",
       " ' 60.  LINE バブル2  ']"
      ]
     },
     "execution_count": 599,
     "metadata": {},
     "output_type": "execute_result"
    }
   ],
   "source": [
    "from bs4 import BeautifulSoup\n",
    "from urllib.request import Request, urlopen\n",
    "\n",
    "url = 'https://play.google.com/store/apps/category/GAME/collection/topgrossing'\n",
    "\n",
    "html = urlopen(url)\n",
    "soup = BeautifulSoup(html, 'html.parser')\n",
    "\n",
    "game_name_rank = []\n",
    "\n",
    "for games in soup.find('div', class_='main-content').find_all('a', class_='title'):\n",
    "    game_name_rank.append(games.get_text())\n",
    "game_name_rank"
   ]
  },
  {
   "cell_type": "code",
   "execution_count": 813,
   "metadata": {
    "scrolled": true
   },
   "outputs": [
    {
     "name": "stdout",
     "output_type": "stream",
     "text": [
      "   id  office_name         company_info\n",
      "0   1        05B01  北京企商联登记注册代理事务所(通合伙)\n",
      "1   2   Unit-D 608     华夏启商(北京企业管理有限公司)\n",
      "2   3    1004-1005       北京中睿智诚商业管理有限公司\n",
      "3   4   17/F(1706)        北京美泰德商务咨询有限公司\n",
      "4   5  A2006~A2007        北京新曙光会计服务有限公司\n",
      "5   6      2906-10          中国建筑与室内设计师网\n"
     ]
    },
    {
     "name": "stderr",
     "output_type": "stream",
     "text": [
      "/Users/YusufNugroho/anaconda3/lib/python3.6/site-packages/ipykernel_launcher.py:13: FutureWarning: currently extract(expand=None) means expand=False (return Index/Series/DataFrame) but in a future version of pandas this will be changed to expand=True (return DataFrame)\n",
      "  del sys.path[0]\n"
     ]
    }
   ],
   "source": [
    "import pandas as pd\n",
    "\n",
    "data = '''\\\n",
    "id,company_info\n",
    "1,05B01北京企商联登记注册代理事务所(通合伙)\n",
    "2,Unit-D 608华夏启商(北京企业管理有限公司)\n",
    "3,1004-1005北京中睿智诚商业管理有限公司\n",
    "4,17/F(1706)北京美泰德商务咨询有限公司\n",
    "5,A2006~A2007北京新曙光会计服务有限公司\n",
    "6,2906-10中国建筑与室内设计师网'''\n",
    "\n",
    "df = pd.read_csv(pd.compat.StringIO(data), sep=',')\n",
    "pat = r'([\\x00-\\x7F]+)([\\u4e00-\\u9fff]+.*$)'\n",
    "df[['office_name','company_info']] = df.pop('company_info').str.extract(pat)\n",
    "print (df)"
   ]
  },
  {
   "cell_type": "code",
   "execution_count": 16,
   "metadata": {},
   "outputs": [
    {
     "name": "stdout",
     "output_type": "stream",
     "text": [
      "('Allrecipes', 'og:site_name')\n"
     ]
    }
   ],
   "source": [
    "line = '<meta content=\\\"Allrecipes\\\" property=\\\"og:site_name\\\"/>'\n",
    "regex = re.search(\"content=\\\\\\\"(?P<content>.*)\\\\\\\".*property=\\\\\\\"(?P<prop>.*)\\\\\\\"\\/>\",line)\n",
    "print (regex.groups())"
   ]
  },
  {
   "cell_type": "code",
   "execution_count": 824,
   "metadata": {
    "scrolled": true
   },
   "outputs": [
    {
     "name": "stdout",
     "output_type": "stream",
     "text": [
      "[['World', 'example.com'], ['Mars', 'example.org']]\n"
     ]
    }
   ],
   "source": [
    "links = re.findall(\"\\[(\\w.+?)\\]\\((\\w.+?)\\)\", \"Hello [World](example.com) Hello [Mars](example.org)\")\n",
    "links = map(list,links)\n",
    "print(list(links))"
   ]
  },
  {
   "cell_type": "markdown",
   "metadata": {
    "collapsed": true
   },
   "source": [
    "# Dice game"
   ]
  },
  {
   "cell_type": "code",
   "execution_count": 17,
   "metadata": {},
   "outputs": [
    {
     "name": "stdout",
     "output_type": "stream",
     "text": [
      "Would you like to roll the dice? yes\n",
      "5  3 Winner!\n",
      "Would you like to play again?no\n",
      "You won 1 times\n",
      "You lost 0 times\n"
     ]
    }
   ],
   "source": [
    "import random\n",
    "\n",
    "def roll_dice():\n",
    "    winner = 0\n",
    "    loser = 0\n",
    "    play_again = \"yes\"\n",
    "    while play_again == \"yes\":\n",
    "        roll = (random.randint(1,6))\n",
    "        roll2 = (random.randint(1,6))\n",
    "        print(str(roll),\" \",end=str(roll2))\n",
    "        if roll >= roll2:\n",
    "            print(\" Winner!\")\n",
    "            winner += 1\n",
    "        else:\n",
    "            print(\" Loser!\")\n",
    "            loser += 1\n",
    "        play_again = input(\"Would you like to play again?\")\n",
    "    print(\"You won\", winner, \"times\")\n",
    "    print(\"You lost\", loser, \"times\")\n",
    "    quit\n",
    "\n",
    "def main():\n",
    "    game_start = input(\"Would you like to roll the dice? \")\n",
    "    if game_start == 'yes':\n",
    "        roll_dice()\n",
    "    else:\n",
    "        print(\"too bad\")\n",
    "\n",
    "if __name__ == '__main__':\n",
    "    main()"
   ]
  },
  {
   "cell_type": "code",
   "execution_count": 18,
   "metadata": {},
   "outputs": [
    {
     "name": "stdout",
     "output_type": "stream",
     "text": [
      "Would you like to add a player to the list? (Yes/No) yes\n",
      "\n",
      "Enter the name of the player to add to the team: Kimi\n",
      "Would you like to add another player? (Yes/No) yes\n",
      "\n",
      "Enter the name of the player to add to the team: Aak\n",
      "Would you like to add another player? (Yes/No) no\n",
      "\n",
      "There are 2 players on the team.\n",
      "Player 1: Kimi\n",
      "Player 2: Aak\n",
      "Please select the goal keeper by selecting the player_number. (1-2) 1\n",
      "Great!! The goalkeeper for the game will be Kimi\n"
     ]
    }
   ],
   "source": [
    "# TODO Create an empty list to maintain the player names\n",
    "players = []\n",
    "\n",
    "# TODO Ask the user if they'd like to add players to the list.\n",
    "# If the user answers \"Yes\", let them type in a name and add it to the list.\n",
    "# If the user answers \"No\", print out the team 'roster'\n",
    "add_players = input(\"Would you like to add a player to the list? (Yes/No) \")\n",
    "while add_players.lower() == \"yes\":\n",
    "    name = input(\"\\nEnter the name of the player to add to the team: \")\n",
    "    players.append(name)\n",
    "    add_players = input(\"Would you like to add another player? (Yes/No) \")\n",
    "\n",
    "\n",
    "# TODO print the number of players on the team\n",
    "print(\"\\nThere are {} players on the team.\".format(len(players)))\n",
    "\n",
    "# TODO Print the player number and the player name\n",
    "# The player number should start at the number one\n",
    "player_number = 1\n",
    "for player in players:\n",
    "    print(\"Player {}: {}\".format(player_number, player))\n",
    "    player_number += 1\n",
    "\n",
    "# TODO Select a goalkeeper from the above roster\n",
    "keeper = int(input(\"Please select the goal keeper by selecting the player_number. (1-{}) \".format(len(players))))\n",
    "\n",
    "# TODO Print the goal keeper's name\n",
    "# Remember that lists use a zero based index\n",
    "print(\"Great!! The goalkeeper for the game will be {}\".format(players[keeper-1]))"
   ]
  },
  {
   "cell_type": "markdown",
   "metadata": {},
   "source": [
    "# Dictionary"
   ]
  },
  {
   "cell_type": "code",
   "execution_count": 19,
   "metadata": {},
   "outputs": [
    {
     "data": {
      "text/plain": [
       "{'Bakir': ['Davis'],\n",
       " 'Jose': ['Stanford', 'George Town'],\n",
       " 'Pierce': ['Berkeley ']}"
      ]
     },
     "execution_count": 19,
     "metadata": {},
     "output_type": "execute_result"
    }
   ],
   "source": [
    "last_names = ['Bakir','Jose','Jose','Pierce']\n",
    "university = ['Davis', 'Stanford', 'George Town', 'Berkeley ']\n",
    "\n",
    "dictionary = {}\n",
    "for key, value in zip(last_names, university):\n",
    "    if key in dictionary:\n",
    "        dictionary[key].append(value)\n",
    "    else:\n",
    "        dictionary[key] = [value]\n",
    "dictionary"
   ]
  },
  {
   "cell_type": "code",
   "execution_count": 20,
   "metadata": {
    "collapsed": true
   },
   "outputs": [],
   "source": [
    "def easy_donor_rank(percent_donated):\n",
    "    if percent_donated <= 0:\n",
    "        print(\"Error\")\n",
    "    elif percent_donated < 2:\n",
    "        print(\"Bronze\")\n",
    "    elif percent_donated <= 15:\n",
    "        print(\"Silver\")\n",
    "    else:\n",
    "        print(\"Gold\")"
   ]
  },
  {
   "cell_type": "code",
   "execution_count": 21,
   "metadata": {},
   "outputs": [
    {
     "name": "stdout",
     "output_type": "stream",
     "text": [
      "Gold\n"
     ]
    }
   ],
   "source": [
    "easy_donor_rank(16)"
   ]
  },
  {
   "cell_type": "code",
   "execution_count": 22,
   "metadata": {},
   "outputs": [
    {
     "name": "stdout",
     "output_type": "stream",
     "text": [
      "('August 2017', 'September 2018')\n",
      "('November 2018', 'December 2019')\n"
     ]
    }
   ],
   "source": [
    "import re\n",
    "\n",
    "string = [\"From August 2017 - September 2018\",\"From November 2018 to December 2019\"]\n",
    "for st in string:\n",
    "    month = re.search(\"(?P<fmonth>\\w+.\\d+)\\s\\D+\\s(?P<smonth>\\D+.\\d+)\", st)\n",
    "    month = month.groups()\n",
    "    print (month)"
   ]
  },
  {
   "cell_type": "code",
   "execution_count": 23,
   "metadata": {},
   "outputs": [
    {
     "data": {
      "text/plain": [
       "['hi', 'I', 'was', 'a', 'student']"
      ]
     },
     "execution_count": 23,
     "metadata": {},
     "output_type": "execute_result"
    }
   ],
   "source": [
    "mu = [\"hi\", \"I\", \"am\", \"a\", \"student\"]\n",
    "mu[2] = \"was\"\n",
    "mu"
   ]
  },
  {
   "cell_type": "code",
   "execution_count": 24,
   "metadata": {},
   "outputs": [
    {
     "data": {
      "text/plain": [
       "'1;2;3;4;5;6;7;8'"
      ]
     },
     "execution_count": 24,
     "metadata": {},
     "output_type": "execute_result"
    }
   ],
   "source": [
    "nums = [1, 2, 3, 4, 5, 6, 7, 8]\n",
    "x = \";\".join(str(n) for n in nums)\n",
    "x"
   ]
  },
  {
   "cell_type": "code",
   "execution_count": 25,
   "metadata": {
    "collapsed": true
   },
   "outputs": [],
   "source": [
    "string = [[1,\"Hi\",\"World\"],[2,\"Hello\",\"dear\"]]\n",
    "string[0][2] = \"Girl\""
   ]
  },
  {
   "cell_type": "code",
   "execution_count": 26,
   "metadata": {},
   "outputs": [
    {
     "data": {
      "text/plain": [
       "[[1, 'Hi', 'Girl'], [2, 'Hello', 'dear']]"
      ]
     },
     "execution_count": 26,
     "metadata": {},
     "output_type": "execute_result"
    }
   ],
   "source": [
    "string"
   ]
  },
  {
   "cell_type": "code",
   "execution_count": 27,
   "metadata": {},
   "outputs": [
    {
     "data": {
      "text/html": [
       "<div>\n",
       "<style>\n",
       "    .dataframe thead tr:only-child th {\n",
       "        text-align: right;\n",
       "    }\n",
       "\n",
       "    .dataframe thead th {\n",
       "        text-align: left;\n",
       "    }\n",
       "\n",
       "    .dataframe tbody tr th {\n",
       "        vertical-align: top;\n",
       "    }\n",
       "</style>\n",
       "<table border=\"1\" class=\"dataframe\">\n",
       "  <thead>\n",
       "    <tr style=\"text-align: right;\">\n",
       "      <th></th>\n",
       "      <th>A</th>\n",
       "      <th>B</th>\n",
       "      <th>C</th>\n",
       "    </tr>\n",
       "  </thead>\n",
       "  <tbody>\n",
       "    <tr>\n",
       "      <th>0</th>\n",
       "      <td>0</td>\n",
       "      <td>1</td>\n",
       "      <td>5</td>\n",
       "    </tr>\n",
       "    <tr>\n",
       "      <th>1</th>\n",
       "      <td>0</td>\n",
       "      <td>2</td>\n",
       "      <td>7</td>\n",
       "    </tr>\n",
       "    <tr>\n",
       "      <th>2</th>\n",
       "      <td>2</td>\n",
       "      <td>3</td>\n",
       "      <td>2</td>\n",
       "    </tr>\n",
       "    <tr>\n",
       "      <th>3</th>\n",
       "      <td>1</td>\n",
       "      <td>4</td>\n",
       "      <td>5</td>\n",
       "    </tr>\n",
       "  </tbody>\n",
       "</table>\n",
       "</div>"
      ],
      "text/plain": [
       "   A  B  C\n",
       "0  0  1  5\n",
       "1  0  2  7\n",
       "2  2  3  2\n",
       "3  1  4  5"
      ]
     },
     "execution_count": 27,
     "metadata": {},
     "output_type": "execute_result"
    }
   ],
   "source": [
    "df = pd.DataFrame({'A': [0, 0, 2, 1], 'B': [1,2,3,4], 'C' : [5,7,2,5]})\n",
    "df"
   ]
  },
  {
   "cell_type": "code",
   "execution_count": 28,
   "metadata": {},
   "outputs": [
    {
     "name": "stdout",
     "output_type": "stream",
     "text": [
      "(array([0, 0, 1, 1, 2, 2, 2, 3]), array([0, 1, 0, 1, 0, 1, 2, 0]))\n"
     ]
    }
   ],
   "source": [
    "import numpy as np\n",
    "a = np.where(df.values <= 3)\n",
    "print (a)"
   ]
  },
  {
   "cell_type": "code",
   "execution_count": 29,
   "metadata": {
    "collapsed": true
   },
   "outputs": [],
   "source": [
    "rowcol = []\n",
    "for x in range (0,len(a[0])):\n",
    "    rowcol.append([a[0][x],a[1][x]])"
   ]
  },
  {
   "cell_type": "code",
   "execution_count": 30,
   "metadata": {},
   "outputs": [
    {
     "data": {
      "text/plain": [
       "[[0, 0], [0, 1], [1, 0], [1, 1], [2, 0], [2, 1], [2, 2], [3, 0]]"
      ]
     },
     "execution_count": 30,
     "metadata": {},
     "output_type": "execute_result"
    }
   ],
   "source": [
    "rowcol"
   ]
  },
  {
   "cell_type": "code",
   "execution_count": 31,
   "metadata": {},
   "outputs": [
    {
     "data": {
      "text/html": [
       "<div>\n",
       "<style>\n",
       "    .dataframe thead tr:only-child th {\n",
       "        text-align: right;\n",
       "    }\n",
       "\n",
       "    .dataframe thead th {\n",
       "        text-align: left;\n",
       "    }\n",
       "\n",
       "    .dataframe tbody tr th {\n",
       "        vertical-align: top;\n",
       "    }\n",
       "</style>\n",
       "<table border=\"1\" class=\"dataframe\">\n",
       "  <thead>\n",
       "    <tr style=\"text-align: right;\">\n",
       "      <th></th>\n",
       "      <th>col1</th>\n",
       "      <th>col2</th>\n",
       "    </tr>\n",
       "  </thead>\n",
       "  <tbody>\n",
       "    <tr>\n",
       "      <th>0</th>\n",
       "      <td>0.0</td>\n",
       "      <td>0.0</td>\n",
       "    </tr>\n",
       "    <tr>\n",
       "      <th>1</th>\n",
       "      <td>1.0</td>\n",
       "      <td>1.0</td>\n",
       "    </tr>\n",
       "    <tr>\n",
       "      <th>2</th>\n",
       "      <td>2.0</td>\n",
       "      <td>2.0</td>\n",
       "    </tr>\n",
       "    <tr>\n",
       "      <th>3</th>\n",
       "      <td>1.0</td>\n",
       "      <td>1.0</td>\n",
       "    </tr>\n",
       "    <tr>\n",
       "      <th>4</th>\n",
       "      <td>2.0</td>\n",
       "      <td>2.0</td>\n",
       "    </tr>\n",
       "    <tr>\n",
       "      <th>5</th>\n",
       "      <td>3.0</td>\n",
       "      <td>3.0</td>\n",
       "    </tr>\n",
       "  </tbody>\n",
       "</table>\n",
       "</div>"
      ],
      "text/plain": [
       "   col1  col2\n",
       "0   0.0   0.0\n",
       "1   1.0   1.0\n",
       "2   2.0   2.0\n",
       "3   1.0   1.0\n",
       "4   2.0   2.0\n",
       "5   3.0   3.0"
      ]
     },
     "execution_count": 31,
     "metadata": {},
     "output_type": "execute_result"
    }
   ],
   "source": [
    "import pandas as pd\n",
    "df1 = pd.DataFrame({'col1': [0, 1, 2, 1, 2], 'col2': [0, 1, 2, 1, 2]})\n",
    "df2 = pd.DataFrame({'col1': [1, 2, 1, 2, 3], 'col2': [1, 2, 1, 2, 3]})\n",
    "\n",
    "# dfm = pd.concat([df1,df2]).drop_duplicates().reset_index(drop=True)\n",
    "dfm = pd.concat([df1[~df1.eq(df2.shift())],df2]).dropna().reset_index(drop=True)\n",
    "dfm"
   ]
  },
  {
   "cell_type": "code",
   "execution_count": 1,
   "metadata": {
    "scrolled": true
   },
   "outputs": [
    {
     "name": "stdout",
     "output_type": "stream",
     "text": [
      "Number of links: 100\n"
     ]
    },
    {
     "data": {
      "text/plain": [
       "['https://www.youtube.com/channel/UCDPqf0WD6HIabMC--vqEfsQ',\n",
       " 'https://www.youtube.com/channel/UCnQDLZqkExGrYIXhtLCoNvA',\n",
       " 'https://www.youtube.com/channel/UCPX8kzYnYqblUWRXfTCMKbQ',\n",
       " 'https://www.youtube.com/channel/UCSFFcw_Kq9gTpAHIQo3ahOg',\n",
       " 'https://www.youtube.com/channel/UCRyNjp7MLadPeuPs8aTAnoA',\n",
       " 'https://www.youtube.com/channel/UCIHfoP7llR_pynAvoctVo8g',\n",
       " 'https://www.youtube.com/channel/UC1qSpmWfJk_oRyqfgjpWxIw',\n",
       " 'https://www.youtube.com/channel/UCE951kE0MYM_0t3JA6025nw',\n",
       " 'https://www.youtube.com/channel/UC6KTygR9Xfr8Ryyahh4-hbA',\n",
       " 'https://www.youtube.com/channel/UCnPqdO1Pn2f97i18T_cD7_g',\n",
       " 'https://www.youtube.com/channel/UCa83RSkUo895X4yFvXQes_g',\n",
       " 'https://www.youtube.com/channel/UCU2Myms0A5qB_oCGdD2k0kA',\n",
       " 'https://www.youtube.com/channel/UC6XgcSA29ATlwz9xROQTrdA',\n",
       " 'https://www.youtube.com/channel/UCTzGM7eWINHk8Smce4VoTXA',\n",
       " 'https://www.youtube.com/channel/UC8W-x0xszikK3vmMe2pJf3w',\n",
       " 'https://www.youtube.com/channel/UCINEoVKjTHXishwuatoyzjw',\n",
       " 'https://www.youtube.com/channel/UCupYab3WeVFz0lf9kDhUdpA',\n",
       " 'https://www.youtube.com/channel/UCAB48BYO3ULgQ4zvzARhItA',\n",
       " 'https://www.youtube.com/channel/UCeP_WHrZZ285VG45gu1pqkQ',\n",
       " 'https://www.youtube.com/channel/UCXvVHRw5Q4I-wHOvHeErt_w',\n",
       " 'https://www.youtube.com/channel/UC5Nt8aI0mEMiejB8dEfLGqg',\n",
       " 'https://www.youtube.com/channel/UCYmBnkP8jmX6_SyVg11iiwQ',\n",
       " 'https://www.youtube.com/channel/UCmTKvJkcz1i4R0VuICdIGoA',\n",
       " 'https://www.youtube.com/channel/UCDm9MPc_WZ1PKIrcMtBhO-A',\n",
       " 'https://www.youtube.com/channel/UC0a1Sz3LyguhM4SiNm1EdqA',\n",
       " 'https://www.youtube.com/channel/UCtBJfTuBMBwhs5cx53HdPQw',\n",
       " 'https://www.youtube.com/channel/UCt78RQCcpcwchoWK5fwoDnw',\n",
       " 'https://www.youtube.com/channel/UCt_Num97aAh0VOftEi3fcsQ',\n",
       " 'https://www.youtube.com/channel/UCUKaALPpl3HURA7WSVO-s0A',\n",
       " 'https://www.youtube.com/channel/UCl6DArH5G98qgpCBt8_jJkw',\n",
       " 'https://www.youtube.com/channel/UClyHyidRrNF6GWdjovb7AJQ',\n",
       " 'https://www.youtube.com/channel/UCPODshX1SiCucWU-JxoNZMQ',\n",
       " 'https://www.youtube.com/channel/UCDv9f6eHNWUGmapE7ZiBK3g',\n",
       " 'https://www.youtube.com/channel/UCh7UJ886OtQi0_BTvgrCk_A',\n",
       " 'https://www.youtube.com/channel/UCR8zhDtaVE94g0ZrPzpidMQ',\n",
       " 'https://www.youtube.com/channel/UCXlU_V47jfEGLWcXXasiHTg',\n",
       " 'https://www.youtube.com/channel/UCs1V9APrNadwTOoXUBSFYZQ',\n",
       " 'https://www.youtube.com/channel/UCAEzDSG9_qC9LUEvn0T2qKQ',\n",
       " 'https://www.youtube.com/channel/UCBDuZSHXSwmpPNv5bcrO_Uw',\n",
       " 'https://www.youtube.com/channel/UCbboBSEoWxCR3XzAaNt6Vaw',\n",
       " 'https://www.youtube.com/channel/UCkhIW5mhF9hwF1CKMkv3ubA',\n",
       " 'https://www.youtube.com/channel/UCmhVgVjxdk8AXMxjTWqF2BQ',\n",
       " 'https://www.youtube.com/channel/UCHRoIQ9M2ZrL9dPgkyE0Rww',\n",
       " 'https://www.youtube.com/channel/UCkndLzXsr_dYlD2I4klg36w',\n",
       " 'https://www.youtube.com/channel/UCpWpxPfeC2B2sBULLTp8nAA',\n",
       " 'https://www.youtube.com/channel/UCtTmX0-RloLWXDEDF_eo0ow',\n",
       " 'https://www.youtube.com/channel/UC5UwDGFuJ_Swz7yZ20O1KFA',\n",
       " 'https://www.youtube.com/channel/UCHGJ0MxJFIbtFEUEud6TDKA',\n",
       " 'https://www.youtube.com/channel/UCVg9O2Qja5vyyRNV_3nKUcw',\n",
       " 'https://www.youtube.com/channel/UCZbz8mZjzJ0JgYOiytbOqNg',\n",
       " 'https://www.youtube.com/channel/UCEmQX9okZu5EbDppF1Yonfg',\n",
       " 'https://www.youtube.com/channel/UCq-EgxhHVTFWVZcjFwsfnWA',\n",
       " 'https://www.youtube.com/channel/UC7_i1YqpAWFCtbhrKvbnKIA',\n",
       " 'https://www.youtube.com/channel/UCPf-3giVvdU55kIBN2CbLRQ',\n",
       " 'https://www.youtube.com/channel/UCDcPQVZsW8kNqsCwdz8p8iw',\n",
       " 'https://www.youtube.com/channel/UCB25kwfY4Iccm6JAy4vAsIA',\n",
       " 'https://www.youtube.com/channel/UCG9FH5_x2WvA8WdOV_STCUQ',\n",
       " 'https://www.youtube.com/channel/UCc_ekHwhgGzI3N0xc26p4Ug',\n",
       " 'https://www.youtube.com/channel/UCZ5NqMkUuK8b62SfgQ6_duQ',\n",
       " 'https://www.youtube.com/channel/UC7Px6i0gOeKZpwCqr0FJypw',\n",
       " 'https://www.youtube.com/channel/UCykhTVrcv6f0m-pz7WEgjEg',\n",
       " 'https://www.youtube.com/channel/UCvpCiIOaLj2mL_2KAtuWFuQ',\n",
       " 'https://www.youtube.com/channel/UCWx5b99NI_cWiU7Iovqi12w',\n",
       " 'https://www.youtube.com/channel/UCKYrCJyJDKZTntknfZ8yZTg',\n",
       " 'https://www.youtube.com/channel/UCiRGy_am4r83bXgUKZMItHQ',\n",
       " 'https://www.youtube.com/channel/UCl_AdkMFUcREpNIDC7AIIXA',\n",
       " 'https://www.youtube.com/channel/UCY8HtIALDS0PMTe42a1d2lg',\n",
       " 'https://www.youtube.com/channel/UCnSN93lghrpqNXz9ayodyQA',\n",
       " 'https://www.youtube.com/channel/UCTOvoiPPbedKgwz72s8GBgw',\n",
       " 'https://www.youtube.com/channel/UC1SlARiB1JznlSbfDYnliFw',\n",
       " 'https://www.youtube.com/channel/UCc-JYR8xVkG_aqoxpHvQNww',\n",
       " 'https://www.youtube.com/channel/UCAzKSODZpDCjZy3rclLbf9g',\n",
       " 'https://www.youtube.com/channel/UC6yYLtu9UAAbneU5h5iEuHg',\n",
       " 'https://www.youtube.com/channel/UC7Gi7zxPy4Fvn69RZ0MjcgA',\n",
       " 'https://www.youtube.com/channel/UCreA2m6tw-ulw-P1OKnxixA',\n",
       " 'https://www.youtube.com/channel/UC6YkXYC6Uu8rD4I4UPUs_YQ',\n",
       " 'https://www.youtube.com/channel/UCmtY-cDQW7eUVS4iL2hbO_w',\n",
       " 'https://www.youtube.com/channel/UCqHXWDqK3CL8fMcQQY8t_OA',\n",
       " 'https://www.youtube.com/channel/UCcJxsVeJj093lU3V9a4C30A',\n",
       " 'https://www.youtube.com/channel/UCmNGsdzyrrWVkVGzmt6o4kA',\n",
       " 'https://www.youtube.com/channel/UCNIomoPKnIqD7uB1AaP9pTg',\n",
       " 'https://www.youtube.com/channel/UCGbLE5klgWflU7CGoNGyLcA',\n",
       " 'https://www.youtube.com/channel/UCiy1CwJA3tu2MTR91j8uESQ',\n",
       " 'https://www.youtube.com/channel/UCdlziXQ_O8knGe93dN7NpCA',\n",
       " 'https://www.youtube.com/channel/UCRksEbYKw40AOHDK8OnB77Q',\n",
       " 'https://www.youtube.com/channel/UCTHpOV0pUPaDRqLrlAwvtjw',\n",
       " 'https://www.youtube.com/channel/UCsRD84iVr2iD8oAp6kMzNLA',\n",
       " 'https://www.youtube.com/channel/UCHbPJfG9X8CZBWgQvF8z31Q',\n",
       " 'https://www.youtube.com/channel/UCUwFcTLCR5gBuBCdcm64JAQ',\n",
       " 'https://www.youtube.com/channel/UCDKVLGjUySsVl0vZuECyW9A',\n",
       " 'https://www.youtube.com/channel/UCGugDislIG8FBy_Sims1mOw',\n",
       " 'https://www.youtube.com/channel/UCMvijYSaazsSrK0D-UmXcrQ',\n",
       " 'https://www.youtube.com/channel/UC3kR0jYwkCczXVnAA2-BLjg',\n",
       " 'https://www.youtube.com/channel/UCOKwLV7wF9rn_PJ4EQEc20A',\n",
       " 'https://www.youtube.com/channel/UCD6oxxcrN7UkGN0mc7OIF0A',\n",
       " 'https://www.youtube.com/channel/UC11LQr1tveRomCINnkdFWyQ',\n",
       " 'https://www.youtube.com/channel/UClxbonVVHVQ3OI_MmxfbjPA',\n",
       " 'https://www.youtube.com/channel/UCnw1LSmu1_27M2RjXn62k3A',\n",
       " 'https://www.youtube.com/channel/UCaOTXOfItfhhNa2elHmFyTg',\n",
       " 'https://www.youtube.com/channel/UCMC3sE74BCvR_UhVl-4urEQ']"
      ]
     },
     "execution_count": 1,
     "metadata": {},
     "output_type": "execute_result"
    }
   ],
   "source": [
    "#----------------------------------------------------\n",
    "#Libs\n",
    "#----------------------------------------------------\n",
    "from bs4 import BeautifulSoup\n",
    "import requests\n",
    "\n",
    "#----------------------------------------------------\n",
    "#variables\n",
    "#----------------------------------------------------\n",
    "page = ('http://ranking.vstars.pl/?side=96&&sort=month_change')\n",
    "\n",
    "#----------------------------------------------------                 \n",
    "#functions\n",
    "#----------------------------------------------------\n",
    "def scraper():\n",
    "    x=0\n",
    "    target = requests.get(page)\n",
    "    soup = BeautifulSoup(target.text, 'html.parser')\n",
    "    \n",
    "    links = []\n",
    "    for td in soup.find_all(\"td\", class_= \"href\"):\n",
    "        for link in td.find_all(\"a\"):\n",
    "            links.append(link['href'])\n",
    "            x += 1\n",
    "    print (\"Number of links:\" , x)\n",
    "    return links\n",
    "\n",
    "#----------------------------------------------------  \n",
    "#codes\n",
    "#----------------------------------------------------\n",
    "scraper()"
   ]
  },
  {
   "cell_type": "code",
   "execution_count": 33,
   "metadata": {},
   "outputs": [
    {
     "name": "stdout",
     "output_type": "stream",
     "text": [
      "Hello world\n"
     ]
    }
   ],
   "source": [
    "raw_text = \"!!/ world\"\n",
    "new_text = \"Hello\"\n",
    "\n",
    "s = re.sub('!!\\/', new_text, raw_text)\n",
    "print (s)"
   ]
  },
  {
   "cell_type": "code",
   "execution_count": 619,
   "metadata": {},
   "outputs": [
    {
     "name": "stdout",
     "output_type": "stream",
     "text": [
      ",{\"key1\" : \"value1\",\"key2\" : \"value2\"},{\"key1\" : \"value1\",\"key2\" : \"value2\"}\n"
     ]
    }
   ],
   "source": [
    "text = '/* 1 */{\"key1\" : \"value1\",\"key2\" : \"value2\"}/* 2 */{\"key1\" : \"value1\",\"key2\" : \"value2\"}'\n",
    "\n",
    "st = re.sub(\"(\\/\\*\\s+\\d+\\s+\\*\\/)\",\",\",text)\n",
    "print (st)"
   ]
  },
  {
   "cell_type": "code",
   "execution_count": 34,
   "metadata": {},
   "outputs": [
    {
     "name": "stdout",
     "output_type": "stream",
     "text": [
      "hello my name is michael 5\n",
      "hello michael is my names 5\n",
      "hello michaela is my name 5\n",
      "hello my brother is Michaelangelo 4\n",
      "hello my name is michelle 4\n",
      "hello i am Michael 2\n",
      "hello my lastname is michael 4\n",
      "hello michael 2\n",
      "hello my name is michael brown 5\n"
     ]
    }
   ],
   "source": [
    "l=['hello my name is michael',\n",
    "    'hello michael is my names',\n",
    "    'hello michaela is my name',\n",
    "    'hello my brother is Michaelangelo',\n",
    "    'hello my name is michelle',\n",
    "    'hello i am Michael',\n",
    "    'hello my lastname is michael',\n",
    "    'hello michael',\n",
    "    'hello my name is michael brown']\n",
    "\n",
    "s = \"hello my name is michael\"\n",
    "\n",
    "s = s.lower().split()\n",
    "for item in l:\n",
    "    d = item.lower().split()\n",
    "    count = 0\n",
    "    for ss in s:\n",
    "        try:\n",
    "            if ss in d or re.search(ss+\"\\w+\",item.lower()).group() in d:\n",
    "                count += 1\n",
    "        except:\n",
    "            pass\n",
    "    print (item, count)"
   ]
  },
  {
   "cell_type": "code",
   "execution_count": 35,
   "metadata": {},
   "outputs": [
    {
     "data": {
      "text/plain": [
       "'michaela'"
      ]
     },
     "execution_count": 35,
     "metadata": {},
     "output_type": "execute_result"
    }
   ],
   "source": [
    "strings = 'hello michaela is my name'\n",
    "string = strings.split()\n",
    "s = \"michael\"\n",
    "zz = re.search(\"michael\\w+\",strings).group()\n",
    "zz"
   ]
  },
  {
   "cell_type": "code",
   "execution_count": 36,
   "metadata": {},
   "outputs": [
    {
     "name": "stdout",
     "output_type": "stream",
     "text": [
      "A FAST STRING SEARCHING ALGORITHM\n",
      "a fast string searching algorithm\n",
      "A Fast String Searching Algorithm\n"
     ]
    }
   ],
   "source": [
    "string = \"A FAST string searching algorithm\"\n",
    "print (string.upper())\n",
    "print (string.lower())\n",
    "print (string.title())"
   ]
  },
  {
   "cell_type": "code",
   "execution_count": 37,
   "metadata": {},
   "outputs": [
    {
     "name": "stdout",
     "output_type": "stream",
     "text": [
      "Do you want a copy of the answers? y\n",
      "Do you want a copy of the answers? no\n"
     ]
    }
   ],
   "source": [
    "# final_answer_check = True\n",
    "while True:\n",
    "    try:\n",
    "        final_answer = str(input(\"Do you want a copy of the answers? \"))\n",
    "        if final_answer.lower() == \"no\":\n",
    "            break\n",
    "    except:\n",
    "        pass"
   ]
  },
  {
   "cell_type": "code",
   "execution_count": 624,
   "metadata": {},
   "outputs": [
    {
     "data": {
      "text/plain": [
       "array([1., 2., 3., 4., 5., 6., 7., 8., 9.])"
      ]
     },
     "execution_count": 624,
     "metadata": {},
     "output_type": "execute_result"
    }
   ],
   "source": [
    "import numpy as np\n",
    "\n",
    "\n",
    "C = [np.array([1,2,3]), np.array([4,5,6]), np.array([7,8,9])]\n",
    "\n",
    "M = np.zeros((1,3*3))\n",
    "\n",
    "M[0] = np.concatenate(C)\n",
    "M[0]"
   ]
  },
  {
   "cell_type": "code",
   "execution_count": 38,
   "metadata": {},
   "outputs": [
    {
     "name": "stdout",
     "output_type": "stream",
     "text": [
      "A: 12\n",
      "First Opporator (+ or -): +\n",
      "B: 2\n",
      "First Opporator (+ or -): +\n",
      "C: 3\n",
      "\n",
      "12X^2+2X+3\n",
      "\n",
      "Is this Right? (yes or no): yes\n",
      "2 3\n",
      "2\n",
      "1\n",
      "1\n",
      "2\n"
     ]
    }
   ],
   "source": [
    "while True:\n",
    "    try:\n",
    "        a = int(input(\"A: \"))\n",
    "        op1 = input(\"First Opporator (+ or -): \")\n",
    "        if op1 != \"+\" and op1 != \"-\":\n",
    "            print (\"\\n\\nValue Error... Try Again\")\n",
    "            continue\n",
    "        b = int(input(\"B: \"))\n",
    "        op2 = input(\"First Opporator (+ or -): \")\n",
    "        if op2 != \"+\" and op2 != \"-\":\n",
    "            print (\"\\n\\nValue Error... Try Again\")  \n",
    "            continue\n",
    "        c = int(input(\"C: \"))\n",
    "    except ValueError:\n",
    "        print (\"\\n\\nValue Error... Try Again\")\n",
    "        continue\n",
    "    print (\"\\n\" + str(a) + \"X^2\" + op1 + str(b) + \"X\" + op2 + str(c) + \"\\n\")\n",
    "    correct_equation = input(\"Is this Right? (yes or no): \")\n",
    "    if correct_equation == \"yes\":\n",
    "        break\n",
    "\n",
    "\n",
    "c_factors = []\n",
    "for i in range(1,c+1):\n",
    "    if c % i == 0:\n",
    "        c_factors.append(i) #finds factors of C\n",
    "\n",
    "\n",
    "if op1 == \"-\": #turns b negative if op1 is -\n",
    "    b = -b\n",
    "\n",
    "if op1 == \"-\": # turns c negative if op2 is -\n",
    "    c = -c\n",
    "\n",
    "print (b,c)\n",
    "\n",
    "for i in range(1, c+1):\n",
    "    for x in range(1, c+1):\n",
    "        if x+i == c or x-i == c or i-x == c:\n",
    "            print (x)\n",
    "            print (i)"
   ]
  },
  {
   "cell_type": "code",
   "execution_count": 39,
   "metadata": {},
   "outputs": [
    {
     "data": {
      "text/html": [
       "<div>\n",
       "<style>\n",
       "    .dataframe thead tr:only-child th {\n",
       "        text-align: right;\n",
       "    }\n",
       "\n",
       "    .dataframe thead th {\n",
       "        text-align: left;\n",
       "    }\n",
       "\n",
       "    .dataframe tbody tr th {\n",
       "        vertical-align: top;\n",
       "    }\n",
       "</style>\n",
       "<table border=\"1\" class=\"dataframe\">\n",
       "  <thead>\n",
       "    <tr style=\"text-align: right;\">\n",
       "      <th></th>\n",
       "      <th>Jeep</th>\n",
       "      <th>Volvo</th>\n",
       "      <th>Honda</th>\n",
       "    </tr>\n",
       "  </thead>\n",
       "  <tbody>\n",
       "    <tr>\n",
       "      <th>0</th>\n",
       "      <td>7.0</td>\n",
       "      <td>0.0</td>\n",
       "      <td>5.0</td>\n",
       "    </tr>\n",
       "  </tbody>\n",
       "</table>\n",
       "</div>"
      ],
      "text/plain": [
       "   Jeep  Volvo  Honda\n",
       "0   7.0    0.0    5.0"
      ]
     },
     "execution_count": 39,
     "metadata": {},
     "output_type": "execute_result"
    }
   ],
   "source": [
    "import pandas as pd\n",
    "df = pd.DataFrame(columns=['Jeep', 'Volvo', 'Honda'])\n",
    "s = pd.Series([5, 3, 7, 2],index=['Honda', 'Nissan', 'Jeep', 'Toyota'])\n",
    "df1 = df.append(s, ignore_index=True)\n",
    "df1[df.columns].fillna(0)"
   ]
  },
  {
   "cell_type": "code",
   "execution_count": 644,
   "metadata": {},
   "outputs": [
    {
     "name": "stdout",
     "output_type": "stream",
     "text": [
      "\n",
      "Vehicle Inventory by Type\n",
      "Inventory       Make/Model\n",
      "        2       Chevy Bolt EV\n",
      "       23       Kia Niro\n",
      "       12       VW e-Golf\n",
      "        3       Hyundai Kona\n",
      "        4       Honda Insight\n",
      "       14       Chevrolet Volt\n",
      "        5       Hyundai Ioniq\n",
      "        1       Tesla Model 3\n",
      "        2       Audi e-tron\n",
      "       12       Toyota Prius\n",
      "\n",
      "Highest MRSP:\n",
      "Audi e-tron at $75,795.00\n"
     ]
    }
   ],
   "source": [
    "def getList(alls):\n",
    "    x = 0\n",
    "    for x in range(0, len(alls)):\n",
    "        list0.append(alls[x][0])\n",
    "        list1.append(alls[x][1])\n",
    "        list2.append(alls[x][2])\n",
    "    print()\n",
    "    print(\"Vehicle Inventory by Type\")\n",
    "    print(\"Inventory       Make/Model\")\n",
    "    for x in range(0, len(alls)):\n",
    "        print(\"%9d       %-1s\" % (list2[x], list0[x]))\n",
    "    return alls, list0, list1, list2\n",
    "\n",
    "\n",
    "def getHighest(alls, list0, list1):\n",
    "    print(\"Highest MRSP:\")\n",
    "    i = max(list1)\n",
    "    c = [j for j, lst in enumerate(alls) if i in lst][0]\n",
    "    car = alls[c][0]\n",
    "    if i == (alls[9][1]):\n",
    "        print(\"yes\")\n",
    "    print('{} at ${:,.2f}'.format(car,i))\n",
    "\n",
    "\n",
    "list0 = []\n",
    "list1 = []\n",
    "list2 = []\n",
    "\n",
    "car1 = [\"Chevy Bolt EV\", 37495, 2]\n",
    "car2 = [\"Kia Niro\", 24485, 23]\n",
    "car3 = [\"VW e-Golf\", 32790, 12]\n",
    "car4 = [\"Hyundai Kona\", 37495, 3]\n",
    "car5 = [\"Honda Insight\", 23725, 4]\n",
    "car6 = [\"Chevrolet Volt\", 34395, 14]\n",
    "car7 = [\"Hyundai Ioniq\", 23285, 5]\n",
    "car8 = [\"Tesla Model 3\", 45200, 1]\n",
    "car9 = [\"Audi e-tron\", 75795, 2]\n",
    "car10 = [\"Toyota Prius\", 24405, 12]\n",
    "\n",
    "alls = (car1, car2, car3, car4, car5, car6, car7, car8, car9, car10)\n",
    "\n",
    "getList(alls)\n",
    "print()\n",
    "getHighest(alls, list0, list1)"
   ]
  },
  {
   "cell_type": "code",
   "execution_count": 349,
   "metadata": {},
   "outputs": [
    {
     "name": "stdout",
     "output_type": "stream",
     "text": [
      "If 5 rounds have passed, enter any other key:\n",
      "Count =  1\n",
      "Count =  2\n",
      "Count =  3\n",
      "Count =  4\n",
      "Count =  5\n",
      "Do you want to continue to the next round?(Yes/No)y\n",
      "Count =  1\n",
      "Count =  2\n",
      "Count =  3\n",
      "Count =  4\n",
      "Count =  5\n",
      "Do you want to continue to the next round?(Yes/No)n\n",
      "Thank you, have a nice day\n"
     ]
    }
   ],
   "source": [
    "import time\n",
    "\n",
    "def round_5():\n",
    "    count = 1\n",
    "    while count <= 5:\n",
    "        print (\"Count = \",count)\n",
    "        count += 1\n",
    "        time.sleep(1)\n",
    "nextr = \"y\"\n",
    "print (\"If 5 rounds have passed, enter any other key:\")\n",
    "while nextr.lower() in (\"yes\",\"y\"): \n",
    "    round_5()\n",
    "    nextr = (input(\"Do you want to continue to the next round?(Yes/No)\"))\n",
    "print (\"Thank you, have a nice day\")"
   ]
  },
  {
   "cell_type": "code",
   "execution_count": 443,
   "metadata": {},
   "outputs": [
    {
     "name": "stdout",
     "output_type": "stream",
     "text": [
      "No of Cities:  4\n"
     ]
    }
   ],
   "source": [
    "data = [{'City': ['Solta','Abec'], 'Country': 'Croatia'},\n",
    " {'City': 'Greenville', 'Country': 'USA'},\n",
    " {'City': 'Buenos Aires', 'Country': 'Argentina'},\n",
    " {'City': 'Los Cabos', 'Country': 'Mexico'}]\n",
    "\n",
    "count = 0\n",
    "for i in range(len(data)):\n",
    "    if('City' in data[i].keys()):\n",
    "        count = count+1\n",
    "print('No of Cities: ',count)"
   ]
  },
  {
   "cell_type": "code",
   "execution_count": 444,
   "metadata": {},
   "outputs": [
    {
     "data": {
      "text/html": [
       "<div>\n",
       "<style>\n",
       "    .dataframe thead tr:only-child th {\n",
       "        text-align: right;\n",
       "    }\n",
       "\n",
       "    .dataframe thead th {\n",
       "        text-align: left;\n",
       "    }\n",
       "\n",
       "    .dataframe tbody tr th {\n",
       "        vertical-align: top;\n",
       "    }\n",
       "</style>\n",
       "<table border=\"1\" class=\"dataframe\">\n",
       "  <thead>\n",
       "    <tr style=\"text-align: right;\">\n",
       "      <th></th>\n",
       "      <th>City</th>\n",
       "      <th>Country</th>\n",
       "    </tr>\n",
       "  </thead>\n",
       "  <tbody>\n",
       "    <tr>\n",
       "      <th>0</th>\n",
       "      <td>[Solta, Abec]</td>\n",
       "      <td>Croatia</td>\n",
       "    </tr>\n",
       "    <tr>\n",
       "      <th>1</th>\n",
       "      <td>Greenville</td>\n",
       "      <td>USA</td>\n",
       "    </tr>\n",
       "    <tr>\n",
       "      <th>2</th>\n",
       "      <td>Buenos Aires</td>\n",
       "      <td>Argentina</td>\n",
       "    </tr>\n",
       "    <tr>\n",
       "      <th>3</th>\n",
       "      <td>Los Cabos</td>\n",
       "      <td>Mexico</td>\n",
       "    </tr>\n",
       "  </tbody>\n",
       "</table>\n",
       "</div>"
      ],
      "text/plain": [
       "            City    Country\n",
       "0  [Solta, Abec]    Croatia\n",
       "1     Greenville        USA\n",
       "2   Buenos Aires  Argentina\n",
       "3      Los Cabos     Mexico"
      ]
     },
     "execution_count": 444,
     "metadata": {},
     "output_type": "execute_result"
    }
   ],
   "source": [
    "dfcity = pd.DataFrame(data)\n",
    "dfcity"
   ]
  },
  {
   "cell_type": "code",
   "execution_count": 381,
   "metadata": {},
   "outputs": [
    {
     "name": "stdout",
     "output_type": "stream",
     "text": [
      "{'City': ['Solta', 'Abec'], 'Country': 'Croatia'}\n",
      "City 2\n",
      "Country 1\n",
      "{'City': 'Greenville', 'Country': 'USA'}\n",
      "City 1\n",
      "Country 1\n",
      "{'City': 'Buenos Aires', 'Country': 'Argentina'}\n",
      "City 1\n",
      "Country 1\n",
      "{'City': 'Los Cabos', 'Country': 'Mexico'}\n",
      "City 1\n",
      "Country 1\n"
     ]
    }
   ],
   "source": [
    "for d in data:\n",
    "    print (d)\n",
    "    for key in d:\n",
    "        if type(d[key]) != list:\n",
    "            cls = [d[key]]\n",
    "        else:\n",
    "            cls = d[key]\n",
    "        print (key, len(cls))"
   ]
  },
  {
   "cell_type": "code",
   "execution_count": 394,
   "metadata": {},
   "outputs": [
    {
     "name": "stdout",
     "output_type": "stream",
     "text": [
      "['High Noon 2019 04 05 720p HDTV DD5 1 ', 'Wyatt Cenacs Problem Areas S02E01 ', 'Bondi Vet S05E15 ', 'If Loving You Is Wrong S04E03 ', 'Wyatt Cenacs Problem Areas S02E01 ', 'Bondi Vet S05E15 ']\n"
     ]
    }
   ],
   "source": [
    "myresult_tv = ['Extinct A Horizon Guide to Dinosaurs WEB h264-WEBTUBE', 'High Noon 2019 04 05 720p HDTV DD5 1 MPEG2-NTb', 'Wyatt Cenacs Problem Areas S02E01 1080p WEBRip x264-eSc', 'Bondi Vet S05E15 720p WEB x264-GIMINI', 'If Loving You Is Wrong S04E03 Randals Stage HDTV x264-CRiMSON', 'Wyatt Cenacs Problem Areas S02E01 WEBRip x264-eSc', 'Bondi Vet S05E15 1080p WEB x264-GIMINI']\n",
    "\n",
    "li = []\n",
    "for a in myresult_tv:\n",
    "    try:\n",
    "        w = re.search(\"(.*\\d )\", a)   # regex = (.*[0-9].)\\s+[a-z0-9]\n",
    "        c = w.group()\n",
    "        li.append(c)\n",
    "    except:\n",
    "        pass\n",
    "\n",
    "print(li)"
   ]
  },
  {
   "cell_type": "code",
   "execution_count": 41,
   "metadata": {},
   "outputs": [
    {
     "name": "stdout",
     "output_type": "stream",
     "text": [
      "['dog', 'cat', 'cat', 'cat', 'dog', 'pig', 'cat', 'pig', 'lion']\n",
      "[1, 0, 0, 0, 1, 2, 0, 2, 'NA']\n"
     ]
    }
   ],
   "source": [
    "list1 = ['cat','dog','pig']\n",
    "list2 = ['dog','cat','cat','cat','dog','pig','cat','pig','lion']\n",
    "\n",
    "print (list2)\n",
    "# i = 0\n",
    "for i,item in enumerate(list2):\n",
    "    if item in list1:\n",
    "        list2[i] = list1.index(item)\n",
    "    else:       # in case if the element in list2 is not in list1\n",
    "        list2[i] = 'NA'\n",
    "#     i += 1\n",
    "print (list2)"
   ]
  },
  {
   "cell_type": "code",
   "execution_count": 42,
   "metadata": {},
   "outputs": [
    {
     "name": "stdout",
     "output_type": "stream",
     "text": [
      "[]\n",
      "['https://www.instagram.com/p/BvluRHRhN16/']\n",
      "['www.instagram.com/p/BvluRHRhN16/']\n",
      "[]\n",
      "['https://www.instagram.com/p/BvnyDjXnHl5/']\n",
      "['http://google.com/p/BvluRHRhN16/somepaths/instagram.com/p/somepath/']\n"
     ]
    }
   ],
   "source": [
    "msg =['hello there http://google.com/p/BvluRHRhN16/ this is a test',\n",
    "      'hello there https://www.instagram.com/p/BvluRHRhN16/',\n",
    "      'hello there www.instagram.com/p/BvluRHRhN16/ this is a test',\n",
    "      'hello there https://www.instagram.net/p/BvluRHRhN16/ this is a test',\n",
    "      'https://www.instagram.com/p/BvnyDjXnHl5/ hello there',\n",
    "      'http://google.com/p/BvluRHRhN16/somepaths/instagram.com/p/somepath/'\n",
    "     ]\n",
    "for m in msg:\n",
    "    ms = re.findall('(http.*instagram\\.com\\/p.+\\/|www.*instagram\\.com\\/p.+\\/)',m)\n",
    "    print(ms)"
   ]
  },
  {
   "cell_type": "code",
   "execution_count": 43,
   "metadata": {},
   "outputs": [
    {
     "name": "stdout",
     "output_type": "stream",
     "text": [
      "x: 4\n",
      "y: 1\n"
     ]
    },
    {
     "data": {
      "text/plain": [
       "[[4, 1]]"
      ]
     },
     "execution_count": 43,
     "metadata": {},
     "output_type": "execute_result"
    }
   ],
   "source": [
    "def parse_list(str_x, str_y):\n",
    "    return list(map(list, zip(map(int, str_x.split(',')), map(int, str_y.split(',')))))\n",
    "        \n",
    "str_x = input('x: ')\n",
    "str_y = input('y: ')\n",
    "parse_list(str_x, str_y)"
   ]
  },
  {
   "cell_type": "code",
   "execution_count": 44,
   "metadata": {},
   "outputs": [
    {
     "data": {
      "text/plain": [
       "[[1], [2, 3], [3, 4, 5], [2], [3, 4], [3]]"
      ]
     },
     "execution_count": 44,
     "metadata": {},
     "output_type": "execute_result"
    }
   ],
   "source": [
    "h = [1, 2, 3, 2, 3, 3]\n",
    "n = [[0], [0, 1], [0, 1, 2], [0], [0, 1], [0]]\n",
    "\n",
    "z=[[z + x for z in y ]for x , y in zip(h,n)]\n",
    "z"
   ]
  },
  {
   "cell_type": "code",
   "execution_count": 695,
   "metadata": {},
   "outputs": [
    {
     "name": "stdout",
     "output_type": "stream",
     "text": [
      "[1, 5, 6]\n",
      "{1, 5, 6}\n",
      "{2, 3, 4, 12}\n",
      "[2, 3, 4, 8, 9, 12]\n"
     ]
    },
    {
     "data": {
      "text/plain": [
       "[2, 3, 4, 8, 9, 12]"
      ]
     },
     "execution_count": 695,
     "metadata": {},
     "output_type": "execute_result"
    }
   ],
   "source": [
    "df1=[1,2,3,4,1,5,6,12]\n",
    "df2=[1,5,6,8,9]\n",
    "\n",
    "print (list(set(df1) & set(df2)))\n",
    "print (set(df1).intersection(df2))\n",
    "print (set(df1)-set(df2))\n",
    "print (list(set(df1).symmetric_difference(set(df2))))\n",
    "\n",
    "new_df = []\n",
    "for i in (item for item in df1 if item not in df2):\n",
    "    new_df.append(i)\n",
    "for j in (item for item in df2 if item not in df1):\n",
    "    new_df.insert(len(new_df),j)\n",
    "new_df.sort()\n",
    "new_df"
   ]
  },
  {
   "cell_type": "code",
   "execution_count": 91,
   "metadata": {},
   "outputs": [
    {
     "name": "stdout",
     "output_type": "stream",
     "text": [
      "hello lock python lock awesome\n"
     ]
    }
   ],
   "source": [
    "string =\"hello <abc123> python <is456> awesome\"\n",
    "s = re.sub('\\<(.+?)\\>','lock',string)\n",
    "print (s)"
   ]
  },
  {
   "cell_type": "code",
   "execution_count": 406,
   "metadata": {
    "collapsed": true
   },
   "outputs": [],
   "source": [
    "from urllib.request import urlopen as uReq\n",
    "from bs4 import BeautifulSoup as soup"
   ]
  },
  {
   "cell_type": "code",
   "execution_count": 107,
   "metadata": {},
   "outputs": [
    {
     "name": "stdout",
     "output_type": "stream",
     "text": [
      "[<tr><td><a href=\"#\" onclick=\"loadMoreGames(); return false;\">Show more matches</a></td></tr>]\n"
     ]
    }
   ],
   "source": [
    "my_url = \"https://www.flashscore.com/football/germany/bundesliga/results/\"\n",
    "\n",
    "uClient = uReq(my_url)\n",
    "page_html = uClient.read()\n",
    "page_soup = soup(page_html, \"html.parser\")\n",
    "\n",
    "tr = page_soup.find_all(\"tr\")\n",
    "print (tr)"
   ]
  },
  {
   "cell_type": "code",
   "execution_count": 431,
   "metadata": {
    "scrolled": true
   },
   "outputs": [
    {
     "name": "stdout",
     "output_type": "stream",
     "text": [
      "197.00\n"
     ]
    }
   ],
   "source": [
    "my_url = \"https://finance.yahoo.com/quote/AAPL?p=AAPL&.tsrc=fin-srch\"\n",
    "u_client = uReq(my_url)\n",
    "\n",
    "page_html = u_client.read()\n",
    "u_client.close()\n",
    "\n",
    "page_soup = soup(page_html, \"html.parser\")\n",
    "for container in page_soup.find_all('span',{\"class\":\"Trsdu(0.3s) Trsdu(0.3s) Fw(b) Fz(36px) Mb(-4px) D(b)\"}):\n",
    "    print (container.text)"
   ]
  },
  {
   "cell_type": "code",
   "execution_count": 589,
   "metadata": {
    "scrolled": true
   },
   "outputs": [
    {
     "name": "stdout",
     "output_type": "stream",
     "text": [
      "odds are: 1.65\n",
      "odds are: 2.20\n",
      "odds are: 1.20\n",
      "odds are: 4.25\n",
      "odds are: 1.38\n",
      "odds are: 2.90\n",
      "odds are: 1.77\n",
      "odds are: 2.05\n",
      "odds are: 1.29\n",
      "odds are: 3.45\n",
      "odds are: 2.30\n",
      "odds are: 1.57\n",
      "odds are: 1.11\n",
      "odds are: 6.00\n",
      "odds are: 1.60\n",
      "odds are: 2.25\n",
      "odds are: 3.00\n",
      "odds are: 1.36\n",
      "odds are: 2.35\n",
      "odds are: 1.55\n",
      "odds are: 2.33\n",
      "odds are: 1.56\n",
      "odds are: 1.20\n",
      "odds are: 4.25\n",
      "odds are: 1.17\n",
      "odds are: 4.65\n",
      "odds are: 1.30\n",
      "odds are: 3.32\n",
      "odds are: 1.77\n",
      "odds are: 1.97\n",
      "odds are: 1.38\n",
      "odds are: 2.91\n",
      "odds are: 1.13\n",
      "odds are: 5.40\n",
      "odds are: 2.58\n",
      "odds are: 1.46\n"
     ]
    }
   ],
   "source": [
    "from bs4 import BeautifulSoup\n",
    "from urllib.request import urlopen as uReq\n",
    "my_url = 'https://www.sportsbet.com.au/betting/australian-rules'\n",
    "uClient = uReq(my_url)\n",
    "page_html = uClient.read()\n",
    "uClient.close()\n",
    "\n",
    "soup = BeautifulSoup(page_html, \"html.parser\")\n",
    "\n",
    "price_texts = soup.findAll(\"div\",{\"class\":\"priceText_f71sibe\"})\n",
    "# filename = \"odds.csv\"\n",
    "# f = open(filename,\"w\")\n",
    "# headers = \"odds team 1\\n\"\n",
    "\n",
    "# f.write(headers)\n",
    "\n",
    "\n",
    "for price_text in price_texts:\n",
    "    odds = price_text.span.text\n",
    "    print(\"odds are: \"+ odds)\n",
    "\n",
    "# f.write(odds)\n",
    "# f.close()"
   ]
  },
  {
   "cell_type": "code",
   "execution_count": 618,
   "metadata": {},
   "outputs": [
    {
     "name": "stdout",
     "output_type": "stream",
     "text": [
      "Title: Jump to navigation, Link: https://en.wikipedia.org#mw-head\n",
      "Title: Jump to search, Link: https://en.wikipedia.org#p-search\n",
      "Title: a series, Link: https://en.wikipedia.org/wiki/Category:Hinduism\n",
      "Title: Hinduism, Link: https://en.wikipedia.org/wiki/Hinduism\n",
      "Title: Hindus, Link: https://en.wikipedia.org/wiki/Hindus\n",
      "Title: History, Link: https://en.wikipedia.org/wiki/History_of_Hinduism\n",
      "Title: Origins, Link: https://en.wikipedia.org/wiki/Hinduism#Origins\n",
      "Title: History, Link: https://en.wikipedia.org/wiki/History_of_Hinduism\n",
      "Title: Indus Valley Civilisation, Link: https://en.wikipedia.org/wiki/Indus_Valley_Civilisation#Religion\n",
      "Title: Historical Vedic religion, Link: https://en.wikipedia.org/wiki/Historical_Vedic_religion\n",
      "Title: Śramaṇa, Link: https://en.wikipedia.org/wiki/%C5%9Arama%E1%B9%87a\n",
      "Title: Tribal religions in India, Link: https://en.wikipedia.org/wiki/Tribal_religions_in_India\n",
      "Title: Main traditions, Link: https://en.wikipedia.org/wiki/Hindu_denominations\n",
      "Title: Vaishnavism, Link: https://en.wikipedia.org/wiki/Vaishnavism\n",
      "Title: Shaivism, Link: https://en.wikipedia.org/wiki/Shaivism\n",
      "Title: Shaktism, Link: https://en.wikipedia.org/wiki/Shaktism\n",
      "Title: Smartism, Link: https://en.wikipedia.org/wiki/Smartism\n",
      "Title: Deities, Link: https://en.wikipedia.org/wiki/Hindu_deities\n",
      "Title: Trimurti, Link: https://en.wikipedia.org/wiki/Trimurti\n",
      "Title: Brahma, Link: https://en.wikipedia.org/wiki/Brahma\n",
      "Title: Vishnu, Link: https://en.wikipedia.org/wiki/Vishnu\n",
      "Title: Shiva, Link: https://en.wikipedia.org/wiki/Shiva\n",
      "Title: Devas, Link: https://en.wikipedia.org/wiki/Deva_(Hinduism)\n",
      "Title: Devis, Link: https://en.wikipedia.org/wiki/Devi\n",
      "Title: Vedic, Link: https://en.wikipedia.org/wiki/Rigvedic_deities\n",
      "Title: Indra, Link: https://en.wikipedia.org/wiki/Indra\n",
      "Title: Agni, Link: https://en.wikipedia.org/wiki/Agni\n",
      "Title: Prajapati, Link: https://en.wikipedia.org/wiki/Prajapati\n",
      "Title: Rudra, Link: https://en.wikipedia.org/wiki/Rudra\n",
      "Title: Devi, Link: https://en.wikipedia.org/wiki/Devi\n",
      "Title: Saraswati, Link: https://en.wikipedia.org/wiki/Saraswati\n",
      "Title: Ushas, Link: https://en.wikipedia.org/wiki/Ushas\n",
      "Title: Varuna, Link: https://en.wikipedia.org/wiki/Varuna\n",
      "Title: Vayu, Link: https://en.wikipedia.org/wiki/Vayu\n",
      "Title: Durga, Link: https://en.wikipedia.org/wiki/Durga\n",
      "Title: Ganesha, Link: https://en.wikipedia.org/wiki/Ganesha\n",
      "Title: Hanuman, Link: https://en.wikipedia.org/wiki/Hanuman\n",
      "Title: Kali, Link: https://en.wikipedia.org/wiki/Kali\n",
      "Title: Kartikeya, Link: https://en.wikipedia.org/wiki/Kartikeya\n",
      "Title: Krishna, Link: https://en.wikipedia.org/wiki/Krishna\n",
      "Title: Lakshmi, Link: https://en.wikipedia.org/wiki/Lakshmi\n",
      "Title: Parvati, Link: https://en.wikipedia.org/wiki/Parvati\n",
      "Title: Radha, Link: https://en.wikipedia.org/wiki/Radha\n",
      "Title: Rama, Link: https://en.wikipedia.org/wiki/Rama\n",
      "Title: Shakti, Link: https://en.wikipedia.org/wiki/Shakti\n",
      "Title: Sita, Link: https://en.wikipedia.org/wiki/Sita\n",
      "Title: Concepts, Link: https://en.wikipedia.org/wiki/Hindu_philosophy\n",
      "Title: Hindu cosmology, Link: https://en.wikipedia.org/wiki/Hindu_cosmology\n",
      "Title: Puranic chronology, Link: https://en.wikipedia.org/wiki/Puranic_chronology\n",
      "Title: Hindu mythology, Link: https://en.wikipedia.org/wiki/Hindu_mythology\n",
      "Title: Brahman, Link: https://en.wikipedia.org/wiki/Brahman\n",
      "Title: Om, Link: https://en.wikipedia.org/wiki/Om\n",
      "Title: Ishvara, Link: https://en.wikipedia.org/wiki/Ishvara\n",
      "Title: God in Hinduism, Link: https://en.wikipedia.org/wiki/God_in_Hinduism\n",
      "Title: God and gender, Link: https://en.wikipedia.org/wiki/God_and_gender_in_Hinduism\n",
      "Title: Varna, Link: https://en.wikipedia.org/wiki/Varna_(Hinduism)\n",
      "Title: Brahmana, Link: https://en.wikipedia.org/wiki/Brahmin\n",
      "Title: Kshatriya, Link: https://en.wikipedia.org/wiki/Kshatriya\n",
      "Title: Vaishya, Link: https://en.wikipedia.org/wiki/Vaishya\n",
      "Title: Shudra, Link: https://en.wikipedia.org/wiki/Shudra\n",
      "Title: Ashrama (stage), Link: https://en.wikipedia.org/wiki/Ashrama_(stage)\n",
      "Title: Brahmacharya, Link: https://en.wikipedia.org/wiki/Brahmacharya\n",
      "Title: Grihastha, Link: https://en.wikipedia.org/wiki/Grihastha\n",
      "Title: Vanaprastha, Link: https://en.wikipedia.org/wiki/Vanaprastha\n",
      "Title: Sannyasa, Link: https://en.wikipedia.org/wiki/Sannyasa\n",
      "Title: Purusharthas, Link: https://en.wikipedia.org/wiki/Puru%E1%B9%A3%C4%81rtha\n",
      "Title: Dharma, Link: https://en.wikipedia.org/wiki/Dharma\n",
      "Title: Artha, Link: https://en.wikipedia.org/wiki/Artha\n",
      "Title: Kama, Link: https://en.wikipedia.org/wiki/Kama\n",
      "Title: Moksha, Link: https://en.wikipedia.org/wiki/Moksha\n",
      "Title: Antahkarana, Link: https://en.wikipedia.org/wiki/Antahkarana\n",
      "Title: Pramanas, Link: https://en.wikipedia.org/wiki/Pramanas\n",
      "Title: Guna, Link: https://en.wikipedia.org/wiki/Guna\n",
      "Title: Ahamkara (Attachment), Link: https://en.wikipedia.org/wiki/Ahamkara_(Attachment)\n",
      "Title: Uparati (Self-settledness), Link: https://en.wikipedia.org/wiki/Uparati_(Cessation)\n",
      "Title: Titiksha (Forbearance), Link: https://en.wikipedia.org/wiki/Titiksha\n",
      "Title: Ānanda (Happiness), Link: https://en.wikipedia.org/wiki/%C4%80nanda_(Hindu_philosophy)\n",
      "Title: Kshama (Forgiveness), Link: https://en.wikipedia.org/wiki/Kshama_(Forgiveness)\n",
      "Title: Shama (Equanimity), Link: https://en.wikipedia.org/wiki/Samatva\n",
      "Title: Dama (Temperance), Link: https://en.wikipedia.org/wiki/Temperance_(virtue)#Hinduism\n",
      "Title: Dhyana (Serenity), Link: https://en.wikipedia.org/wiki/Dhyana_in_Hinduism\n",
      "Title: Moksha (Release), Link: https://en.wikipedia.org/wiki/Moksha\n",
      "Title: Viveka (Discrimination), Link: https://en.wikipedia.org/wiki/Viveka\n",
      "Title: Vairagya (Dispassion), Link: https://en.wikipedia.org/wiki/Vairagya_(Dispassion)\n",
      "Title: Samadhana (Complete Concentration), Link: https://en.wikipedia.org/wiki/Samadhana\n",
      "Title: Shraddha (Faith), Link: https://en.wikipedia.org/wiki/Faith_in_Hinduism\n",
      "Title: Shadripu (Six Enemies), Link: https://en.wikipedia.org/wiki/Shadripu\n",
      "Title: Atman, Link: https://en.wikipedia.org/wiki/%C4%80tman_(Hinduism)\n",
      "Title: Maya, Link: https://en.wikipedia.org/wiki/Maya_(religion)\n",
      "Title: Karma, Link: https://en.wikipedia.org/wiki/Karma\n",
      "Title: Saṃsāra, Link: https://en.wikipedia.org/wiki/Sa%E1%B9%83s%C4%81ra\n",
      "Title: Niti shastra, Link: https://en.wikipedia.org/wiki/Ethics_in_religion#Hindu_ethics\n",
      "Title: Yamas, Link: https://en.wikipedia.org/wiki/Yamas\n",
      "Title: Niyama, Link: https://en.wikipedia.org/wiki/Niyama\n",
      "Title: Ahimsa, Link: https://en.wikipedia.org/wiki/Ahimsa\n",
      "Title: Asteya, Link: https://en.wikipedia.org/wiki/Asteya\n",
      "Title: Aparigraha, Link: https://en.wikipedia.org/wiki/Aparigraha\n",
      "Title: Brahmacharya, Link: https://en.wikipedia.org/wiki/Brahmacharya\n",
      "Title: Satya, Link: https://en.wikipedia.org/wiki/Satya\n",
      "Title: Damah, Link: https://en.wikipedia.org/wiki/Temperance_(virtue)#Hinduism\n",
      "Title: Dayā, Link: https://en.wikipedia.org/wiki/Compassion#Hinduism\n",
      "Title: Akrodha, Link: https://en.wikipedia.org/wiki/Akrodha\n",
      "Title: Ārjava, Link: https://en.wikipedia.org/wiki/%C4%80rjava\n",
      "Title: Santosha, Link: https://en.wikipedia.org/wiki/Santosha\n",
      "Title: Tapas, Link: https://en.wikipedia.org/wiki/Tapas_(Sanskrit)\n",
      "Title: Svādhyāya, Link: https://en.wikipedia.org/wiki/Sv%C4%81dhy%C4%81ya\n",
      "Title: Shaucha, Link: https://en.wikipedia.org/wiki/Shaucha\n",
      "Title: Mitahara, Link: https://en.wikipedia.org/wiki/Mitahara\n",
      "Title: Dāna, Link: https://en.wikipedia.org/wiki/D%C4%81na\n",
      "Title: Liberation, Link: https://en.wikipedia.org/wiki/Moksha\n",
      "Title: Bhakti yoga, Link: https://en.wikipedia.org/wiki/Bhakti_yoga\n",
      "Title: Jnana yoga, Link: https://en.wikipedia.org/wiki/Jnana_yoga\n",
      "Title: Karma yoga, Link: https://en.wikipedia.org/wiki/Karma_yoga\n",
      "Title: Puja, Link: https://en.wikipedia.org/wiki/Puja_(Hinduism)\n",
      "Title: Śrauta, Link: https://en.wikipedia.org/wiki/%C5%9Arauta\n",
      "Title: Temple, Link: https://en.wikipedia.org/wiki/Hindu_temple\n",
      "Title: Murti, Link: https://en.wikipedia.org/wiki/Murti\n",
      "Title: Bhakti, Link: https://en.wikipedia.org/wiki/Bhakti\n",
      "Title: Japa, Link: https://en.wikipedia.org/wiki/Japa\n",
      "Title: Bhajana, Link: https://en.wikipedia.org/wiki/Bhajana\n",
      "Title: Yajna, Link: https://en.wikipedia.org/wiki/Yajna\n",
      "Title: Homa, Link: https://en.wikipedia.org/wiki/Homa_(ritual)\n",
      "Title: Vrata, Link: https://en.wikipedia.org/wiki/Vrata\n",
      "Title: Prāyaścitta, Link: https://en.wikipedia.org/wiki/Pr%C4%81ya%C5%9Bcitta\n",
      "Title: Tirtha, Link: https://en.wikipedia.org/wiki/Tirtha_(Hinduism)\n",
      "Title: Tirthadana, Link: https://en.wikipedia.org/wiki/Hindu_pilgrimage_sites_in_India\n",
      "Title: Matha, Link: https://en.wikipedia.org/wiki/Matha\n",
      "Title: Nritta-Nritya, Link: https://en.wikipedia.org/wiki/Indian_classical_dance\n",
      "Title: Tapa, Link: https://en.wikipedia.org/wiki/Tapas_(Sanskrit)\n",
      "Title: Dhyana, Link: https://en.wikipedia.org/wiki/Dhyana_in_Hinduism\n",
      "Title: Dāna, Link: https://en.wikipedia.org/wiki/D%C4%81na\n",
      "Title: Yoga, Link: https://en.wikipedia.org/wiki/Yoga\n",
      "Title: Sadhu, Link: https://en.wikipedia.org/wiki/Sadhu\n",
      "Title: Yogi, Link: https://en.wikipedia.org/wiki/Yogi\n",
      "Title: Asana, Link: https://en.wikipedia.org/wiki/Asana\n",
      "Title: Hatha yoga, Link: https://en.wikipedia.org/wiki/Hatha_yoga\n",
      "Title: Jnana yoga, Link: https://en.wikipedia.org/wiki/Jnana_yoga\n",
      "Title: Bhakti yoga, Link: https://en.wikipedia.org/wiki/Bhakti_yoga\n",
      "Title: Karma yoga, Link: https://en.wikipedia.org/wiki/Karma_yoga\n",
      "Title: Raja yoga, Link: https://en.wikipedia.org/wiki/Raja_yoga\n",
      "Title: Kundalini Yoga, Link: https://en.wikipedia.org/wiki/Kundalini_Yoga\n",
      "Title:  Arts, Link: https://en.wikipedia.org/wiki/Hindu_art\n",
      "Title: Bharatanatyam, Link: https://en.wikipedia.org/wiki/Bharatanatyam\n",
      "Title: Kathak, Link: https://en.wikipedia.org/wiki/Kathak\n",
      "Title: Kathakali, Link: https://en.wikipedia.org/wiki/Kathakali\n",
      "Title: Kuchipudi, Link: https://en.wikipedia.org/wiki/Kuchipudi\n",
      "Title:  Manipuri, Link: https://en.wikipedia.org/wiki/Manipuri_dance\n",
      "Title: Mohiniyattam, Link: https://en.wikipedia.org/wiki/Mohiniyattam\n",
      "Title: Odissi, Link: https://en.wikipedia.org/wiki/Odissi\n",
      "Title: Sattriya, Link: https://en.wikipedia.org/wiki/Sattriya\n",
      "Title: Bhagavata Mela, Link: https://en.wikipedia.org/wiki/Bhagavata_Mela\n",
      "Title: Yakshagana, Link: https://en.wikipedia.org/wiki/Yakshagana\n",
      "Title: Dandiya Raas, Link: https://en.wikipedia.org/wiki/Dandiya_Raas\n",
      "Title: Carnatic music, Link: https://en.wikipedia.org/wiki/Carnatic_music\n",
      "Title: Rites of passage, Link: https://en.wikipedia.org/wiki/Sa%E1%B9%83sk%C4%81ra\n",
      "Title: Garbhadhana, Link: https://en.wikipedia.org/wiki/Garbhadhana\n",
      "Title: Pumsavana, Link: https://en.wikipedia.org/wiki/Pumsavana\n",
      "Title: Simantonayana, Link: https://en.wikipedia.org/wiki/Simantonayana\n",
      "Title: Jatakarma, Link: https://en.wikipedia.org/wiki/Jatakarma\n",
      "Title: Namakarana, Link: https://en.wikipedia.org/wiki/Namakarana\n",
      "Title: Nishkramana, Link: https://en.wikipedia.org/wiki/Nishkramana\n",
      "Title: Annaprashana, Link: https://en.wikipedia.org/wiki/Annaprashana\n",
      "Title: Chudakarana, Link: https://en.wikipedia.org/wiki/Chudakarana\n",
      "Title: Karnavedha, Link: https://en.wikipedia.org/wiki/Karnavedha\n",
      "Title: Vidyarambha, Link: https://en.wikipedia.org/wiki/Vidyarambha\n",
      "Title: Upanayana, Link: https://en.wikipedia.org/wiki/Upanayana\n",
      "Title: Keshanta, Link: https://en.wikipedia.org/wiki/Keshanta\n",
      "Title: Ritushuddhi, Link: https://en.wikipedia.org/wiki/Ritushuddhi\n",
      "Title: Samavartana, Link: https://en.wikipedia.org/wiki/Samavartana\n",
      "Title: Vivaha, Link: https://en.wikipedia.org/wiki/Hindu_wedding\n",
      "Title: Antyeshti, Link: https://en.wikipedia.org/wiki/Antyeshti\n",
      "Title: Ashrama, Link: https://en.wikipedia.org/wiki/Ashrama_(stage)\n",
      "Title: Brahmacharya, Link: https://en.wikipedia.org/wiki/Brahmacharya\n",
      "Title: Grihastha, Link: https://en.wikipedia.org/wiki/Grihastha\n",
      "Title: Vanaprastha, Link: https://en.wikipedia.org/wiki/Vanaprastha\n",
      "Title: Sannyasa, Link: https://en.wikipedia.org/wiki/Sannyasa\n",
      "Title: Diwali, Link: https://en.wikipedia.org/wiki/Diwali\n",
      "Title: Holi, Link: https://en.wikipedia.org/wiki/Holi\n",
      "Title: Shivaratri, Link: https://en.wikipedia.org/wiki/Shivaratri\n",
      "Title: Navaratri, Link: https://en.wikipedia.org/wiki/Navaratri\n",
      "Title: Durga Puja, Link: https://en.wikipedia.org/wiki/Durga_Puja\n",
      "Title: Ramlila, Link: https://en.wikipedia.org/wiki/Ramlila\n",
      "Title: Vijayadashami-Dussehra, Link: https://en.wikipedia.org/wiki/Vijayadashami\n",
      "Title: Raksha Bandhan, Link: https://en.wikipedia.org/wiki/Raksha_Bandhan\n",
      "Title: Ganesh Chaturthi, Link: https://en.wikipedia.org/wiki/Ganesh_Chaturthi\n",
      "Title: Vasant Panchami, Link: https://en.wikipedia.org/wiki/Vasant_Panchami\n",
      "Title: Rama Navami, Link: https://en.wikipedia.org/wiki/Rama_Navami\n",
      "Title: Janmashtami, Link: https://en.wikipedia.org/wiki/Krishna_Janmashtami\n",
      "Title: Onam, Link: https://en.wikipedia.org/wiki/Onam\n",
      "Title: Makar Sankranti, Link: https://en.wikipedia.org/wiki/Makar_Sankranti\n",
      "Title: Kumbha Mela, Link: https://en.wikipedia.org/wiki/Kumbha_Mela\n",
      "Title: Pongal, Link: https://en.wikipedia.org/wiki/Thai_Pongal\n",
      "Title: Ugadi, Link: https://en.wikipedia.org/wiki/Ugadi\n",
      "Title: Vaisakhi, Link: https://en.wikipedia.org/wiki/Vaisakhi\n",
      "Title: Bihu, Link: https://en.wikipedia.org/wiki/Bihu\n",
      "Title: Puthandu, Link: https://en.wikipedia.org/wiki/Puthandu\n",
      "Title: Vishu, Link: https://en.wikipedia.org/wiki/Vishu\n",
      "Title: Ratha Yatra, Link: https://en.wikipedia.org/wiki/Ratha-Yatra_(Puri)\n",
      "Title: Philosophical schools, Link: https://en.wikipedia.org/wiki/Hindu_philosophy\n",
      "Title: Six Astika schools, Link: https://en.wikipedia.org/wiki/Astika\n",
      "Title: Samkhya, Link: https://en.wikipedia.org/wiki/Samkhya\n",
      "Title: Yoga, Link: https://en.wikipedia.org/wiki/Yoga_(philosophy)\n",
      "Title: Nyaya, Link: https://en.wikipedia.org/wiki/Nyaya\n",
      "Title: Vaisheshika, Link: https://en.wikipedia.org/wiki/Vaisheshika\n",
      "Title: Mimamsa, Link: https://en.wikipedia.org/wiki/Mimamsa\n",
      "Title: Vedanta, Link: https://en.wikipedia.org/wiki/Vedanta\n",
      "Title: Advaita, Link: https://en.wikipedia.org/wiki/Advaita_Vedanta\n",
      "Title: Dvaita, Link: https://en.wikipedia.org/wiki/Dvaita\n",
      "Title: Vishishtadvaita, Link: https://en.wikipedia.org/wiki/Vishishtadvaita\n",
      "Title: Pasupata, Link: https://en.wikipedia.org/wiki/Pasupata\n",
      "Title: Saiva, Link: https://en.wikipedia.org/wiki/Shaivism\n",
      "Title: Pratyabhijña, Link: https://en.wikipedia.org/wiki/Pratyabhijna\n",
      "Title: Charvaka, Link: https://en.wikipedia.org/wiki/Charvaka\n",
      "Title: Gurus, saints, philosophers, Link: https://en.wikipedia.org/wiki/List_of_Hindu_gurus_and_saints\n",
      "Title: Agastya, Link: https://en.wikipedia.org/wiki/Agastya\n",
      "Title: Angiras, Link: https://en.wikipedia.org/wiki/Angiras_(sage)\n",
      "Title: Aruni, Link: https://en.wikipedia.org/wiki/Aruni\n",
      "Title: Ashtavakra, Link: https://en.wikipedia.org/wiki/Ashtavakra\n",
      "Title: Atri, Link: https://en.wikipedia.org/wiki/Atri\n",
      "Title: Bharadwaja, Link: https://en.wikipedia.org/wiki/Bharadwaja\n",
      "Title: Gotama, Link: https://en.wikipedia.org/wiki/Nyaya_Sutras\n",
      "Title: Jamadagni, Link: https://en.wikipedia.org/wiki/Jamadagni\n",
      "Title: Jaimini, Link: https://en.wikipedia.org/wiki/Jaimini\n",
      "Title: Kanada, Link: https://en.wikipedia.org/wiki/Kanada_(philosopher)\n",
      "Title: Kapila, Link: https://en.wikipedia.org/wiki/Kapila\n",
      "Title: Kashyapa, Link: https://en.wikipedia.org/wiki/Kashyapa\n",
      "Title: Pāṇini, Link: https://en.wikipedia.org/wiki/P%C4%81%E1%B9%87ini\n",
      "Title: Patanjali, Link: https://en.wikipedia.org/wiki/Patanjali\n",
      "Title: Raikva, Link: https://en.wikipedia.org/wiki/Raikva\n",
      "Title: Satyakama Jabala, Link: https://en.wikipedia.org/wiki/Satyakama_Jabala\n",
      "Title: Valmiki, Link: https://en.wikipedia.org/wiki/Valmiki\n",
      "Title: Vashistha, Link: https://en.wikipedia.org/wiki/Vashistha\n",
      "Title: Vishvamitra, Link: https://en.wikipedia.org/wiki/Vishvamitra\n",
      "Title: Vyasa, Link: https://en.wikipedia.org/wiki/Vyasa\n",
      "Title: Yajnavalkya, Link: https://en.wikipedia.org/wiki/Yajnavalkya\n",
      "Title: Nayanars, Link: https://en.wikipedia.org/wiki/Nayanars\n",
      "Title: Alvars, Link: https://en.wikipedia.org/wiki/Alvars\n",
      "Title: Adi Shankara, Link: https://en.wikipedia.org/wiki/Adi_Shankara\n",
      "Title: Basava, Link: https://en.wikipedia.org/wiki/Basava\n",
      "Title: Akka Mahadevi, Link: https://en.wikipedia.org/wiki/Akka_Mahadevi\n",
      "Title: Allama Prabhu, Link: https://en.wikipedia.org/wiki/Allama_Prabhu\n",
      "Title: Siddheshwar, Link: https://en.wikipedia.org/wiki/Siddheshwar\n",
      "Title: Jñāneśvar, Link: https://en.wikipedia.org/wiki/J%C3%B1%C4%81ne%C5%9Bvar\n",
      "Title: Chaitanya, Link: https://en.wikipedia.org/wiki/Chaitanya_Mahaprabhu\n",
      "Title: Gangesha Upadhyaya, Link: https://en.wikipedia.org/wiki/Gangesha_Upadhyaya\n",
      "Title: Gaudapada, Link: https://en.wikipedia.org/wiki/Gaudapada\n",
      "Title: Gorakshanath, Link: https://en.wikipedia.org/wiki/Gorakshanath\n",
      "Title: Jayanta Bhatta, Link: https://en.wikipedia.org/wiki/Jayanta_Bhatta\n",
      "Title: Kabir, Link: https://en.wikipedia.org/wiki/Kabir\n",
      "Title: Kumarila Bhatta, Link: https://en.wikipedia.org/wiki/Kum%C4%81rila_Bha%E1%B9%AD%E1%B9%ADa\n",
      "Title: Matsyendranath, Link: https://en.wikipedia.org/wiki/Matsyendranath\n",
      "Title: Mahavatar Babaji, Link: https://en.wikipedia.org/wiki/Mahavatar_Babaji\n",
      "Title: Madhusudana, Link: https://en.wikipedia.org/wiki/Madhus%C5%ABdana_Sarasvat%C4%AB\n",
      "Title: Madhva, Link: https://en.wikipedia.org/wiki/Madhvacharya\n",
      "Title: Haridasa Thakur, Link: https://en.wikipedia.org/wiki/Haridasa_Thakur\n",
      "Title: Namdeva, Link: https://en.wikipedia.org/wiki/Namdev\n",
      "Title: Nimbarka, Link: https://en.wikipedia.org/wiki/Nimbarka\n",
      "Title: Prabhakara, Link: https://en.wikipedia.org/wiki/Prabh%C4%81kara\n",
      "Title: Raghunatha Siromani, Link: https://en.wikipedia.org/wiki/Raghunatha_Siromani\n",
      "Title: Ramanuja, Link: https://en.wikipedia.org/wiki/Ramanuja\n",
      "Title: Sankardev, Link: https://en.wikipedia.org/wiki/Sankardev\n",
      "Title: Purandara Dasa, Link: https://en.wikipedia.org/wiki/Purandara_Dasa\n",
      "Title: Kanaka Dasa, Link: https://en.wikipedia.org/wiki/Kanaka_Dasa\n",
      "Title: Ramprasad Sen, Link: https://en.wikipedia.org/wiki/Ramprasad_Sen\n",
      "Title: Jagannatha Dasa, Link: https://en.wikipedia.org/wiki/Jagannatha_Dasa\n",
      "Title: Vyasaraya, Link: https://en.wikipedia.org/wiki/Vyasaraya\n",
      "Title: Sripadaraya, Link: https://en.wikipedia.org/wiki/Sripadaraya\n",
      "Title: Raghavendra Swami, Link: https://en.wikipedia.org/wiki/Raghavendra_Swami\n",
      "Title: Gopala Dasa, Link: https://en.wikipedia.org/wiki/Gopala_Dasa\n",
      "Title: Śyāma Śastri, Link: https://en.wikipedia.org/wiki/Syama_Sastri\n",
      "Title: Vedanta Desika, Link: https://en.wikipedia.org/wiki/Vedanta_Desika\n",
      "Title: Tyagaraja, Link: https://en.wikipedia.org/wiki/Tyagaraja\n",
      "Title: Tukaram, Link: https://en.wikipedia.org/wiki/Tukaram\n",
      "Title: Tulsidas, Link: https://en.wikipedia.org/wiki/Tulsidas\n",
      "Title: Vachaspati Mishra, Link: https://en.wikipedia.org/wiki/V%C4%81caspati_Mi%C5%9Bra\n",
      "Title: Vallabha, Link: https://en.wikipedia.org/wiki/Vallabha_Acharya\n",
      "Title: Vidyaranya, Link: https://en.wikipedia.org/wiki/Vidyaranya\n",
      "Title: Aurobindo, Link: https://en.wikipedia.org/wiki/Sri_Aurobindo\n",
      "Title: Bhaktivinoda Thakur, Link: https://en.wikipedia.org/wiki/Bhaktivinoda_Thakur\n",
      "Title: Chinmayananda, Link: https://en.wikipedia.org/wiki/Chinmayananda\n",
      "Title: Dayananda Saraswati, Link: https://en.wikipedia.org/wiki/Dayananda_Saraswati\n",
      "Title: Mahesh Yogi, Link: https://en.wikipedia.org/wiki/Maharishi_Mahesh_Yogi\n",
      "Title: Jaggi Vasudev, Link: https://en.wikipedia.org/wiki/Jaggi_Vasudev\n",
      "Title: Krishnananda Saraswati, Link: https://en.wikipedia.org/wiki/Krishnananda_Saraswati\n",
      "Title: Narayana Guru, Link: https://en.wikipedia.org/wiki/Narayana_Guru\n",
      "Title: Prabhupada, Link: https://en.wikipedia.org/wiki/A._C._Bhaktivedanta_Swami_Prabhupada\n",
      "Title: Ramakrishna, Link: https://en.wikipedia.org/wiki/Ramakrishna\n",
      "Title: Ramana Maharshi, Link: https://en.wikipedia.org/wiki/Ramana_Maharshi\n",
      "Title: Radhakrishnan, Link: https://en.wikipedia.org/wiki/Sarvepalli_Radhakrishnan\n",
      "Title: Sarasvati, Link: https://en.wikipedia.org/wiki/Bhaktisiddhanta_Sarasvati\n",
      "Title: Sivananda, Link: https://en.wikipedia.org/wiki/Sivananda_Saraswati\n",
      "Title: U. G. Krishnamurti, Link: https://en.wikipedia.org/wiki/U._G._Krishnamurti\n",
      "Title: Sai Baba, Link: https://en.wikipedia.org/wiki/Sai_Baba_of_Shirdi\n",
      "Title: Vivekananda, Link: https://en.wikipedia.org/wiki/Swami_Vivekananda\n",
      "Title: Nigamananda, Link: https://en.wikipedia.org/wiki/Nigamananda_Paramahansa\n",
      "Title: Yogananda, Link: https://en.wikipedia.org/wiki/Paramahansa_Yogananda\n",
      "Title: Ramachandra Dattatrya Ranade, Link: https://en.wikipedia.org/wiki/Ramachandra_Dattatrya_Ranade\n",
      "Title: Tibbetibaba, Link: https://en.wikipedia.org/wiki/Tibbetibaba\n",
      "Title: Trailanga, Link: https://en.wikipedia.org/wiki/Trailanga\n",
      "Title: Texts, Link: https://en.wikipedia.org/wiki/Hindu_texts\n",
      "Title: Vedas, Link: https://en.wikipedia.org/wiki/Vedas\n",
      "Title: Rigveda, Link: https://en.wikipedia.org/wiki/Rigveda\n",
      "Title: Yajurveda, Link: https://en.wikipedia.org/wiki/Yajurveda\n",
      "Title: Samaveda, Link: https://en.wikipedia.org/wiki/Samaveda\n",
      "Title: Atharvaveda, Link: https://en.wikipedia.org/wiki/Atharvaveda\n",
      "Title: Samhita, Link: https://en.wikipedia.org/wiki/Samhitapatha\n",
      "Title: Brahmana, Link: https://en.wikipedia.org/wiki/Brahmana\n",
      "Title: Aranyaka, Link: https://en.wikipedia.org/wiki/Aranyaka\n",
      "Title: Upanishad, Link: https://en.wikipedia.org/wiki/Upanishad\n",
      "Title: Upanishads, Link: https://en.wikipedia.org/wiki/Upanishads\n",
      "Title: Aitareya, Link: https://en.wikipedia.org/wiki/Aitareya_Upanishad\n",
      "Title: Kaushitaki, Link: https://en.wikipedia.org/wiki/Kaushitaki_Upanishad\n",
      "Title: Brihadaranyaka, Link: https://en.wikipedia.org/wiki/Brihadaranyaka_Upanishad\n",
      "Title: Isha, Link: https://en.wikipedia.org/wiki/Isha_Upanishad\n",
      "Title: Taittiriya, Link: https://en.wikipedia.org/wiki/Taittiriya_Upanishad\n",
      "Title: Katha, Link: https://en.wikipedia.org/wiki/Katha_Upanishad\n",
      "Title: Shvetashvatara, Link: https://en.wikipedia.org/wiki/Shvetashvatara_Upanishad\n",
      "Title: Maitri, Link: https://en.wikipedia.org/wiki/Maitrayaniya_Upanishad\n",
      "Title: Chandogya, Link: https://en.wikipedia.org/wiki/Chandogya_Upanishad\n",
      "Title: Kena, Link: https://en.wikipedia.org/wiki/Kena_Upanishad\n",
      "Title: Mundaka, Link: https://en.wikipedia.org/wiki/Mundaka_Upanishad\n",
      "Title: Mandukya, Link: https://en.wikipedia.org/wiki/Mandukya_Upanishad\n",
      "Title: Prashna, Link: https://en.wikipedia.org/wiki/Prashna_Upanishad\n",
      "Title: Other scriptures, Link: https://en.wikipedia.org/wiki/List_of_Hindu_scriptures\n",
      "Title: Bhagavad Gita, Link: https://en.wikipedia.org/wiki/Bhagavad_Gita\n",
      "Title: Agama (Hinduism), Link: https://en.wikipedia.org/wiki/Agama_(Hinduism)\n",
      "Title: Other texts, Link: https://en.wikipedia.org/wiki/List_of_Hindu_scriptures\n",
      "Title: Vedangas, Link: https://en.wikipedia.org/wiki/Vedangas\n",
      "Title: Shiksha, Link: https://en.wikipedia.org/wiki/Shiksha\n",
      "Title: Chandas, Link: https://en.wikipedia.org/wiki/Vedic_meter\n",
      "Title: Vyakarana, Link: https://en.wikipedia.org/wiki/Vyakarana\n",
      "Title: Nirukta, Link: https://en.wikipedia.org/wiki/Nirukta\n",
      "Title: Kalpa, Link: https://en.wikipedia.org/wiki/Kalpa_(Vedanga)\n",
      "Title: Jyotisha, Link: https://en.wikipedia.org/wiki/Jyotisha\n",
      "Title: Puranas, Link: https://en.wikipedia.org/wiki/Puranas\n",
      "Title: Vishnu Purana, Link: https://en.wikipedia.org/wiki/Vishnu_Purana\n",
      "Title: Bhagavata Purana, Link: https://en.wikipedia.org/wiki/Bhagavata_Purana\n",
      "Title: Nāradeya Purana, Link: https://en.wikipedia.org/wiki/N%C4%81radeya_Purana\n",
      "Title: Vāmana Purana, Link: https://en.wikipedia.org/wiki/Vamana_Purana\n",
      "Title: Matsya Purana, Link: https://en.wikipedia.org/wiki/Matsya_Purana\n",
      "Title: Garuda Purana, Link: https://en.wikipedia.org/wiki/Garuda_Purana\n",
      "Title: Brahma Purana, Link: https://en.wikipedia.org/wiki/Brahma_Purana\n",
      "Title: Brahmānda Purana, Link: https://en.wikipedia.org/wiki/Brahm%C4%81nda_Purana\n",
      "Title: Brahma Vaivarta Purana, Link: https://en.wikipedia.org/wiki/Brahma_Vaivarta_Purana\n",
      "Title: Bhavishya Purana, Link: https://en.wikipedia.org/wiki/Bhavishya_Purana\n",
      "Title: Padma Purana, Link: https://en.wikipedia.org/wiki/Padma_Purana\n",
      "Title: Agni Purana, Link: https://en.wikipedia.org/wiki/Agni_Purana\n",
      "Title: Shiva Purana, Link: https://en.wikipedia.org/wiki/Shiva_Purana\n",
      "Title: Linga Purana, Link: https://en.wikipedia.org/wiki/Linga_Purana\n",
      "Title: Kūrma Purana, Link: https://en.wikipedia.org/wiki/Kurma_Purana\n",
      "Title: Skanda Purana, Link: https://en.wikipedia.org/wiki/Skanda_Purana\n",
      "Title: Varaha Purana, Link: https://en.wikipedia.org/wiki/Varaha_Purana\n",
      "Title: Mārkandeya Purana, Link: https://en.wikipedia.org/wiki/M%C4%81rkandeya_Purana\n",
      "Title: Itihasas, Link: https://en.wikipedia.org/wiki/Itihasas\n",
      "Title: Ramayana, Link: https://en.wikipedia.org/wiki/Ramayana\n",
      "Title: Mahabharata, Link: https://en.wikipedia.org/wiki/Mahabharata\n",
      "Title: Upavedas, Link: https://en.wikipedia.org/wiki/Vedas#Upaveda\n",
      "Title: Ayurveda, Link: https://en.wikipedia.org/wiki/Ayurveda\n",
      "Title: Dhanurveda, Link: https://en.wikipedia.org/wiki/Dhanurveda\n",
      "Title: Gandharvaveda, Link: https://en.wikipedia.org/wiki/Gandharvaveda\n",
      "Title: Sthapatyaveda, Link: https://en.wikipedia.org/wiki/Sthapatyaveda\n",
      "Title: Shastras and Sutras, Link: https://en.wikipedia.org/wiki/Hindu_texts\n",
      "Title: Dharma Shastra, Link: https://en.wikipedia.org/wiki/Dharma%C5%9B%C4%81stra\n",
      "Title: Artha Śastra, Link: https://en.wikipedia.org/wiki/Arthashastra\n",
      "Title: Kamasutra, Link: https://en.wikipedia.org/wiki/Kamasutra\n",
      "Title: Brahma Sutras, Link: https://en.wikipedia.org/wiki/Brahma_Sutras\n",
      "Title: Samkhya Sutras, Link: https://en.wikipedia.org/wiki/Samkhyapravachana_Sutra\n",
      "Title: Mimamsa Sutras, Link: https://en.wikipedia.org/wiki/Purva_Mimamsa_Sutras\n",
      "Title: Nyāya Sūtras, Link: https://en.wikipedia.org/wiki/Ny%C4%81ya_S%C5%ABtras\n",
      "Title: Vaiśeṣika Sūtra, Link: https://en.wikipedia.org/wiki/Vai%C5%9Be%E1%B9%A3ika_S%C5%ABtra\n",
      "Title: Yoga Sutras, Link: https://en.wikipedia.org/wiki/Yoga_Sutras_of_Patanjali\n",
      "Title: Pramana Sutras, Link: https://en.wikipedia.org/wiki/Pramana\n",
      "Title: Charaka Samhita, Link: https://en.wikipedia.org/wiki/Charaka_Samhita\n",
      "Title: Sushruta Samhita, Link: https://en.wikipedia.org/wiki/Sushruta_Samhita\n",
      "Title: Natya Shastra, Link: https://en.wikipedia.org/wiki/Natya_Shastra\n",
      "Title: Panchatantra, Link: https://en.wikipedia.org/wiki/Panchatantra\n",
      "Title: Divya Prabandha, Link: https://en.wikipedia.org/wiki/Divya_Prabandha\n",
      "Title: Tirumurai, Link: https://en.wikipedia.org/wiki/Tirumurai\n",
      "Title: Ramcharitmanas, Link: https://en.wikipedia.org/wiki/Ramcharitmanas\n",
      "Title: Yoga Vasistha, Link: https://en.wikipedia.org/wiki/Yoga_Vasistha\n",
      "Title: Swara yoga, Link: https://en.wikipedia.org/wiki/Shiva_Swarodaya_/_Swara_Yoga\n",
      "Title: Shiva Samhita, Link: https://en.wikipedia.org/wiki/Shiva_Samhita\n",
      "Title: Gheranda Samhita, Link: https://en.wikipedia.org/wiki/Gheranda_Samhita\n",
      "Title: Panchadasi, Link: https://en.wikipedia.org/wiki/Panchadasi\n",
      "Title: Stotra, Link: https://en.wikipedia.org/wiki/Stotra\n",
      "Title: Sutras, Link: https://en.wikipedia.org/wiki/S%C5%ABtra\n",
      "Title: Śruti, Link: https://en.wikipedia.org/wiki/%C5%9Aruti\n",
      "Title: Smriti, Link: https://en.wikipedia.org/wiki/Smriti\n",
      "Title: Timeline of Hindu texts, Link: https://en.wikipedia.org/wiki/Timeline_of_Hindu_texts\n",
      "Title: Varna, Link: https://en.wikipedia.org/wiki/Varna_(Hinduism)\n",
      "Title: Brahmin, Link: https://en.wikipedia.org/wiki/Brahmin\n",
      "Title: Kshatriya, Link: https://en.wikipedia.org/wiki/Kshatriya\n",
      "Title: Vaishya, Link: https://en.wikipedia.org/wiki/Vaishya\n",
      "Title: Shudra, Link: https://en.wikipedia.org/wiki/Shudra\n",
      "Title: Dalit, Link: https://en.wikipedia.org/wiki/Dalit\n",
      "Title: Jati, Link: https://en.wikipedia.org/wiki/J%C4%81ti\n",
      "Title: Persecution, Link: https://en.wikipedia.org/wiki/Persecution_of_Hindus\n",
      "Title: Nationalism, Link: https://en.wikipedia.org/wiki/Hindu_nationalism\n",
      "Title: Hindutva, Link: https://en.wikipedia.org/wiki/Hindutva\n",
      "Title: Other topics, Link: https://en.wikipedia.org/wiki/Portal:Hinduism\n",
      "Title: Hinduism by country, Link: https://en.wikipedia.org/wiki/Hinduism_by_country\n",
      "Title: Balinese Hinduism, Link: https://en.wikipedia.org/wiki/Balinese_Hinduism\n",
      "Title: Criticism, Link: https://en.wikipedia.org/wiki/Criticism_of_Hinduism\n",
      "Title: Calendar, Link: https://en.wikipedia.org/wiki/Hindu_calendar\n",
      "Title: Iconography, Link: https://en.wikipedia.org/wiki/Hindu_iconography\n",
      "Title: Mythology, Link: https://en.wikipedia.org/wiki/Hindu_mythology\n",
      "Title: Pilgrimage sites, Link: https://en.wikipedia.org/wiki/Hindu_pilgrimage_sites\n",
      "Title: Hinduism and Jainism, Link: https://en.wikipedia.org/wiki/Hinduism_and_Jainism\n",
      "Title: and Buddhism, Link: https://en.wikipedia.org/wiki/Buddhism_and_Hinduism\n",
      "Title: and Sikhism, Link: https://en.wikipedia.org/wiki/Hinduism_and_Sikhism\n",
      "Title: and Judaism, Link: https://en.wikipedia.org/wiki/Hinduism_and_Judaism\n",
      "Title: and Christianity, Link: https://en.wikipedia.org/wiki/Hinduism_and_Christianity\n",
      "Title: and Islam, Link: https://en.wikipedia.org/wiki/Hinduism_and_Islam\n",
      "Title: Glossary of Hinduism terms, Link: https://en.wikipedia.org/wiki/Glossary_of_Hinduism_terms\n",
      "Title: Hinduism portal, Link: https://en.wikipedia.org/wiki/Portal:Hinduism\n",
      "Title: v, Link: https://en.wikipedia.org/wiki/Template:Hinduism\n",
      "Title: t, Link: https://en.wikipedia.org/wiki/Template_talk:Hinduism\n",
      "Title: e, Link: https://en.wikipedia.org//en.wikipedia.org/w/index.php?title=Template:Hinduism&action=edit\n",
      "Title: major Hindu temples, Link: https://en.wikipedia.org/wiki/Hindu_temple\n",
      "Title: India, Link: https://en.wikipedia.org/wiki/India\n",
      "Title: state, Link: https://en.wikipedia.org/wiki/States_and_territories_of_India\n",
      "Title: more than 2 million Hindu temples, Link: https://en.wikipedia.org/wiki/List_of_states_and_territories_of_India_by_number_of_places_of_worship\n",
      "Title: 1 Andhra Pradesh, Link: https://en.wikipedia.org#Andhra_Pradesh\n",
      "Title: 2 Arunachal Pradesh, Link: https://en.wikipedia.org#Arunachal_Pradesh\n",
      "Title: 3 Assam, Link: https://en.wikipedia.org#Assam\n",
      "Title: 4 Bihar, Link: https://en.wikipedia.org#Bihar\n",
      "Title: 5 Chandigarh, Link: https://en.wikipedia.org#Chandigarh\n",
      "Title: 6 Chhattisgarh, Link: https://en.wikipedia.org#Chhattisgarh\n",
      "Title: 7 Delhi, Link: https://en.wikipedia.org#Delhi\n",
      "Title: 8 Goa, Link: https://en.wikipedia.org#Goa\n",
      "Title: 9 Gujarat, Link: https://en.wikipedia.org#Gujarat\n",
      "Title: 10 Haryana, Link: https://en.wikipedia.org#Haryana\n",
      "Title: 11 Himachal Pradesh, Link: https://en.wikipedia.org#Himachal_Pradesh\n",
      "Title: 12 Jammu and Kashmir, Link: https://en.wikipedia.org#Jammu_and_Kashmir\n",
      "Title: 13 Jharkhand, Link: https://en.wikipedia.org#Jharkhand\n",
      "Title: 14 Karnataka, Link: https://en.wikipedia.org#Karnataka\n",
      "Title: 15 Kerala, Link: https://en.wikipedia.org#Kerala\n",
      "Title: 16 Madhya Pradesh, Link: https://en.wikipedia.org#Madhya_Pradesh\n",
      "Title: 17 Maharashtra, Link: https://en.wikipedia.org#Maharashtra\n",
      "Title: 18 Manipur, Link: https://en.wikipedia.org#Manipur\n",
      "Title: 19 Odisha, Link: https://en.wikipedia.org#Odisha\n",
      "Title: 20 Punjab, Link: https://en.wikipedia.org#Punjab\n",
      "Title: 21 Rajasthan, Link: https://en.wikipedia.org#Rajasthan\n",
      "Title: 22 Sikkim, Link: https://en.wikipedia.org#Sikkim\n",
      "Title: 23 Tamil Nadu, Link: https://en.wikipedia.org#Tamil_Nadu\n",
      "Title: 24 Telangana, Link: https://en.wikipedia.org#Telangana\n",
      "Title: 25 Tripura, Link: https://en.wikipedia.org#Tripura\n",
      "Title: 26 Uttarakhand, Link: https://en.wikipedia.org#Uttarakhand\n",
      "Title: 27 Uttar Pradesh, Link: https://en.wikipedia.org#Uttar_Pradesh\n",
      "Title: 28 West Bengal, Link: https://en.wikipedia.org#West_Bengal\n",
      "Title: 29 See also, Link: https://en.wikipedia.org#See_also\n",
      "Title: 30 References, Link: https://en.wikipedia.org#References\n",
      "Title: 31 External links, Link: https://en.wikipedia.org#External_links\n",
      "Title: edit, Link: https://en.wikipedia.org/w/index.php?title=List_of_Hindu_temples_in_India&action=edit&section=1\n",
      "Title: Venkateswara Temple, Tirumala, Link: https://en.wikipedia.org/wiki/Venkateswara_Temple,_Tirumala\n",
      "Title: Padmavathi Temple, Link: https://en.wikipedia.org/wiki/Padmavathi_Temple\n",
      "Title: Srisailam Temple, Link: https://en.wikipedia.org/wiki/Mallikarjuna_Jyotirlinga\n",
      "Title: Srikalahasteeswara temple, Link: https://en.wikipedia.org/wiki/Srikalahasteeswara_temple\n",
      "Title: Lakshmi Narasimha swamy temple, Penna Ahobilam, Link: https://en.wikipedia.org/wiki/Lakshmi_Narasimha_swamy_temple,_Penna_Ahobilam\n",
      "Title: Varaha Lakshmi Narasimha temple, Simhachalam, Link: https://en.wikipedia.org/wiki/Varaha_Lakshmi_Narasimha_temple,_Simhachalam\n",
      "Title: Vinayaka Temple, Kanipakam, Link: https://en.wikipedia.org/wiki/Vinayaka_Temple,_Kanipakam\n",
      "Title: Kanaka Durga Temple, Link: https://en.wikipedia.org/wiki/Kanaka_Durga_Temple\n",
      "Title: Vijayawada, Link: https://en.wikipedia.org/wiki/Vijayawada\n",
      "Title: Govindaraja Temple, Tirupati, Link: https://en.wikipedia.org/wiki/Govindaraja_Temple,_Tirupati\n",
      "Title: Kapila Theertham, Link: https://en.wikipedia.org/wiki/Kapila_Theertham\n",
      "Title: Kalyana Venkateswara Temple, Srinivasamangapuram, Link: https://en.wikipedia.org/wiki/Kalyana_Venkateswara_Temple,_Srinivasamangapuram\n",
      "Title: Kalyana Venkateswara Temple, Narayanavanam, Link: https://en.wikipedia.org/wiki/Kalyana_Venkateswara_Temple,_Narayanavanam\n",
      "Title: Kodandarama Temple, Tirupati, Link: https://en.wikipedia.org/wiki/Kodandarama_Temple,_Tirupati\n",
      "Title: Prasanna Venkateswara Temple, Appalayagunta, Link: https://en.wikipedia.org/wiki/Prasanna_Venkateswara_Temple,_Appalayagunta\n",
      "Title: Varahaswamy Temple, Tirumala, Link: https://en.wikipedia.org/wiki/Varahaswamy_Temple,_Tirumala\n",
      "Title: Vedanarayana Temple, Nagalapuram, Link: https://en.wikipedia.org/wiki/Vedanarayana_Temple,_Nagalapuram\n",
      "Title: Veeranjaneya Temple, Ardhagiri, Link: https://en.wikipedia.org/wiki/Veeranjaneya_Temple,_Ardhagiri\n",
      "Title: Alipiri, Link: https://en.wikipedia.org/wiki/Alipiri\n",
      "Title: Venkateswara Temple, Dwaraka Tirumala, Link: https://en.wikipedia.org/wiki/Venkateswara_Temple,_Dwaraka_Tirumala\n",
      "Title: Annavaram Satyanarayana Temple, Link: https://en.wikipedia.org/wiki/Annavaram_Satyanarayana_Temple\n",
      "Title: Suryanarayana Temple, Arasavalli, Link: https://en.wikipedia.org/wiki/Suryanarayana_Temple,_Arasavalli\n",
      "Title: Kurmanathaswamy temple, Srikurmam, Link: https://en.wikipedia.org/wiki/Kurmanathaswamy_temple,_Srikurmam\n",
      "Title: Lakshmi Narasimha Temple, Mangalagiri, Link: https://en.wikipedia.org/wiki/Lakshmi_Narasimha_Temple,_Mangalagiri\n",
      "Title: Mantralayam, Link: https://en.wikipedia.org/wiki/Mantralayam\n",
      "Title: Sri Mukhalingam, Srikakulam, Link: https://en.wikipedia.org/wiki/Mukhalingam\n",
      "Title: Veerabhadra Temple, Lepakshi, Link: https://en.wikipedia.org/wiki/Veerabhadra_Temple,_Lepakshi\n",
      "Title: Ranganatha Temple, Nellore, Link: https://en.wikipedia.org/wiki/Ranganatha_Temple,_Nellore\n",
      "Title: Yaganti temple, Link: https://en.wikipedia.org/wiki/Yaganti_temple\n",
      "Title: Konetirayala Temple, Keelapatla, Link: https://en.wikipedia.org/wiki/Konetirayala_Temple,_Keelapatla\n",
      "Title: Pallikondeswara Temple, Surutapalli, Link: https://en.wikipedia.org/wiki/Pallikondeswara_Temple,_Surutapalli\n",
      "Title: Parasurameswara Temple, Gudimallam, Link: https://en.wikipedia.org/wiki/Gudimallam\n",
      "Title: Sri Lakshmi Narasimha Swamy Temple, Antarvedi, Link: https://en.wikipedia.org/wiki/Sri_Lakshmi_Narasimha_Swamy_Temple,_Antarvedi\n",
      "Title: Sri Sunama Jakini Matha, Link: https://en.wikipedia.org/wiki/Sri_Sunama_Jakini_Matha\n",
      "Title: Gooty, Link: https://en.wikipedia.org/wiki/Gooty\n",
      "Title: Anantapuramu, Link: https://en.wikipedia.org/wiki/Anantapur\n",
      "Title: Sri Suryanarayana Swamy Temple, Gollalamamidada, Link: https://en.wikipedia.org/wiki/Sri_Suryanarayana_Swamy_Temple,_Gollalamamidada\n",
      "Title: Chintala Venkataramana Temple, Link: https://en.wikipedia.org/wiki/Chintala_Venkataramana_Temple\n",
      "Title: Kulandeshwara Temple, Link: https://en.wikipedia.org/wiki/Kulandeshwara_Temple\n",
      "Title: Siddheswara Swamy Temple, Link: https://en.wikipedia.org/wiki/Siddheswara_Swamy_Temple\n",
      "Title: Siddeswara kshetram, Link: https://en.wikipedia.org/wiki/Siddeswara_kshetram\n",
      "Title: edit, Link: https://en.wikipedia.org/w/index.php?title=List_of_Hindu_temples_in_India&action=edit&section=2\n",
      "Title: Malinithan, Link: https://en.wikipedia.org/wiki/Malinithan\n",
      "Title: Parshuram Kund, Link: https://en.wikipedia.org/wiki/Parshuram_Kund\n",
      "Title: Rangnuwk hum, Link: https://en.wikipedia.org/wiki/Rangnuwk_hum\n",
      "Title: edit, Link: https://en.wikipedia.org/w/index.php?title=List_of_Hindu_temples_in_India&action=edit&section=3\n",
      "Title: Kamakhya Temple, Link: https://en.wikipedia.org/wiki/Kamakhya_Temple\n",
      "Title: List of temples in Guwahati, Link: https://en.wikipedia.org/wiki/List_of_temples_in_Guwahati\n",
      "Title: Bagheswari Temple, Bongaigaon, Link: https://en.wikipedia.org/wiki/Bagheswari_Temple,_Bongaigaon\n",
      "Title: Bhairabi Temple, Link: https://en.wikipedia.org/wiki/Bhairabi_Temple\n",
      "Title: Dah Parvatiya, Link: https://en.wikipedia.org/wiki/Dah_Parvatiya\n",
      "Title: Dhekiakhowa Bornamghar, Link: https://en.wikipedia.org/wiki/Dhekiakhowa_Bornamghar\n",
      "Title: Doul Govinda Temple, Link: https://en.wikipedia.org/wiki/Doul_Govinda_Temple\n",
      "Title: Hatimura Temple, Link: https://en.wikipedia.org/wiki/Hatimura_Temple\n",
      "Title: Silghat, Link: https://en.wikipedia.org/wiki/Silghat\n",
      "Title: Hayagriva Madhava Temple, Link: https://en.wikipedia.org/wiki/Hayagriva_Madhava_Temple\n",
      "Title: Hajo, Link: https://en.wikipedia.org/wiki/Hajo_(India)\n",
      "Title: Ketakeshwar Dewal, Link: https://en.wikipedia.org/wiki/Ketakeshwar_Dewal\n",
      "Title: Tezpur, Link: https://en.wikipedia.org/wiki/Tezpur\n",
      "Title: Madhab Than, Link: https://en.wikipedia.org/wiki/Madhab_Than\n",
      "Title: Mahabhairav Temple, Link: https://en.wikipedia.org/wiki/Mahabhairav_Temple\n",
      "Title: Mahamaya Dham, Link: https://en.wikipedia.org/wiki/Mahamaya_Dham\n",
      "Title: Dhubri district, Link: https://en.wikipedia.org/wiki/Dhubri_district\n",
      "Title: Negheriting Shiva Doul, Link: https://en.wikipedia.org/wiki/Negheriting_Shiva_Doul\n",
      "Title: Dergaon, Link: https://en.wikipedia.org/wiki/Dergaon\n",
      "Title: Rangnath Dol, Link: https://en.wikipedia.org/wiki/Rangnath_Dol\n",
      "Title: Sivasagar Sivadol, Link: https://en.wikipedia.org/wiki/Sivasagar_Sivadol\n",
      "Title: Tamresari Temple, Link: https://en.wikipedia.org/wiki/Tamresari_Temple\n",
      "Title: edit, Link: https://en.wikipedia.org/w/index.php?title=List_of_Hindu_temples_in_India&action=edit&section=4\n",
      "Title: Mundeshwari Temple, Link: https://en.wikipedia.org/wiki/Mundeshwari_Temple\n",
      "Title: Vishnupad Mandir, Link: https://en.wikipedia.org/wiki/Vishnupad_Mandir\n",
      "Title: Parasmaninath Temple, Link: https://en.wikipedia.org/wiki/Parasmaninath_Temple\n",
      "Title: Bhairav Mandir (Begusarai), Link: https://en.wikipedia.org/w/index.php?title=Bhairav_Mandir_(Begusarai)&action=edit&redlink=1\n",
      "Title: Aami Mandir, Link: https://en.wikipedia.org/wiki/Aami_Mandir\n",
      "Title: Baba Garib Sthan Mandir, Link: https://en.wikipedia.org/wiki/Baba_Garib_Sthan_Mandir\n",
      "Title: Baithakji Hajipur, Link: https://en.wikipedia.org/wiki/Baithakji_Hajipur\n",
      "Title: Bari Sangat Bihar, Link: https://en.wikipedia.org/wiki/Bari_Sangat_Bihar\n",
      "Title: Budhi Mai, Link: https://en.wikipedia.org/wiki/Budhi_Mai\n",
      "Title: Burhanath temple, Link: https://en.wikipedia.org/wiki/Burhanath_temple\n",
      "Title: Maa Tara Chandi Temple, Link: https://en.wikipedia.org/wiki/Maa_Tara_Chandi_Temple\n",
      "Title: Chandika Sthan, Munger, Link: https://en.wikipedia.org/wiki/Chandika_Sthan\n",
      "Title: ISKCON Temple Patna, Link: https://en.wikipedia.org/wiki/ISKCON_Temple_Patna\n",
      "Title: Kapileshwar Temple, Link: https://en.wikipedia.org/wiki/Kapileshwar_Temple\n",
      "Title: Khudneshwar Asthan Morwa, Link: https://en.wikipedia.org/wiki/Khudneshwar_Asthan_Morwa\n",
      "Title: Lal Keshwar Shiv Temple, Link: https://en.wikipedia.org/wiki/Lal_Keshwar_Shiv_Temple\n",
      "Title: Mahavir Hanuman Temple, Link: https://en.wikipedia.org/wiki/Mahavir_Temple\n",
      "Title: Mangla Gauri Temple, Link: https://en.wikipedia.org/wiki/Mangla_Gauri_Temple\n",
      "Title: Mundeshwari Temple, Link: https://en.wikipedia.org/wiki/Mundeshwari_Temple\n",
      "Title: Pataleshwar Mandir, Hajipur, Link: https://en.wikipedia.org/wiki/Pataleshwar_Mandir\n",
      "Title: Patan Devi, Link: https://en.wikipedia.org/wiki/Patan_Devi\n",
      "Title: Parasmaninath Temple, Link: https://en.wikipedia.org/wiki/Parasmaninath_Temple\n",
      "Title: Ramchaura Mandir, Hajipur, Link: https://en.wikipedia.org/wiki/Ramchaura_Mandir\n",
      "Title: Shitla Mata Temple, Patna, Link: https://en.wikipedia.org/wiki/Shitla_Mata_Temple,_Patna\n",
      "Title: Shri Adinath Akhara, Link: https://en.wikipedia.org/wiki/Shri_Adinath_Akhara\n",
      "Title: Sita Kund, Link: https://en.wikipedia.org/wiki/Sita_Kund\n",
      "Title: Ugna Mahadev, Bhawanipur, Link: https://en.wikipedia.org/wiki/Ugna_Mahadev,_Bhawanipur\n",
      "Title: Viraat Ramayan Mandir, Link: https://en.wikipedia.org/wiki/Viraat_Ramayan_Mandir\n",
      "Title: Vishnudham Mandir, Link: https://en.wikipedia.org/wiki/Vishnudham_Mandir\n",
      "Title: Vishnupad Temple, Link: https://en.wikipedia.org/wiki/Vishnupad_Temple\n",
      "Title: edit, Link: https://en.wikipedia.org/w/index.php?title=List_of_Hindu_temples_in_India&action=edit&section=5\n",
      "Title: Chandi Mandir, Link: https://en.wikipedia.org/wiki/Chandi_Mandir\n",
      "Title: edit, Link: https://en.wikipedia.org/w/index.php?title=List_of_Hindu_temples_in_India&action=edit&section=6\n",
      "Title: Bhoramdeo Temple, Link: https://en.wikipedia.org/wiki/Bhoramdeo_Temple\n",
      "Title: Ashtabhuji Temple, Link: https://en.wikipedia.org/wiki/Ashtabhuji_Temple\n",
      "Title: Bambleshwari Temple, Link: https://en.wikipedia.org/wiki/Bambleshwari_Temple\n",
      "Title: Dongargarh, Link: https://en.wikipedia.org/wiki/Dongargarh\n",
      "Title: Barfani dham, Link: https://en.wikipedia.org/wiki/Barfani_dham\n",
      "Title: Bhoramdeo Temple, Link: https://en.wikipedia.org/wiki/Bhoramdeo_Temple\n",
      "Title: Danteshwari Temple, Link: https://en.wikipedia.org/wiki/Danteshwari_Temple\n",
      "Title: Dantewada, Link: https://en.wikipedia.org/wiki/Dantewada\n",
      "Title: Dudhadhari temple, Link: https://en.wikipedia.org/wiki/Dudhadhari_temple\n",
      "Title: Ganga Maiya, Link: https://en.wikipedia.org/wiki/Ganga_Maiya\n",
      "Title: Maa Bagheshwari Devi Temple, Link: https://en.wikipedia.org/wiki/Kudargarh\n",
      "Title: Surajpur, Link: https://en.wikipedia.org/wiki/Surajpur\n",
      "Title: Maa Pitambara (Bagalamukhi) Temple, Link: https://en.wikipedia.org/wiki/Maa_Pitambara_(Bagalamukhi)_Temple\n",
      "Title: Mahamaya Temple, Link: https://en.wikipedia.org/wiki/Mahamaya_Temple\n",
      "Title: Surguja, Link: https://en.wikipedia.org/wiki/Surguja\n",
      "Title: Mahamaya Temple, Link: https://en.wikipedia.org/wiki/Mahamaya_Temple\n",
      "Title: Bilaspur, Link: https://en.wikipedia.org/wiki/Bilaspur,_Chhattisgarh\n",
      "Title: Sarvamangla, Link: https://en.wikipedia.org/wiki/Sarvamangla\n",
      "Title: edit, Link: https://en.wikipedia.org/w/index.php?title=List_of_Hindu_temples_in_India&action=edit&section=7\n",
      "Title: Akshardham, Link: https://en.wikipedia.org/wiki/Akshardham_(Delhi)\n",
      "Title: Laxminarayan Birla Temple, Link: https://en.wikipedia.org/wiki/Laxminarayan_Temple\n",
      "Title: Akshardham, Link: https://en.wikipedia.org/wiki/Akshardham_(Delhi)\n",
      "Title: Chhatarpur Temple, Link: https://en.wikipedia.org/wiki/Chhatarpur_Temple\n",
      "Title: Chittaranjan Park Kali Mandir, Link: https://en.wikipedia.org/wiki/Chittaranjan_Park_Kali_Mandir\n",
      "Title: Hanuman Temple, Connaught Place, Link: https://en.wikipedia.org/wiki/Hanuman_Temple,_Connaught_Place\n",
      "Title: ISKCON Temple Delhi, Link: https://en.wikipedia.org/wiki/ISKCON_Temple_Delhi\n",
      "Title: Jagannath Temple, Delhi, Link: https://en.wikipedia.org/wiki/Jagannath_Temple,_Delhi\n",
      "Title: Jhandewalan Temple, Link: https://en.wikipedia.org/wiki/Jhandewalan_Temple\n",
      "Title: Kalka Mandir, Delhi, Link: https://en.wikipedia.org/wiki/Kalka_Mandir,_Delhi\n",
      "Title: Laxminarayan Temple, Link: https://en.wikipedia.org/wiki/Laxminarayan_Temple\n",
      "Title: New Delhi Kali Bari, Link: https://en.wikipedia.org/wiki/New_Delhi_Kali_Bari\n",
      "Title: Nili Chhatri, Link: https://en.wikipedia.org/wiki/Nili_Chhatri\n",
      "Title: Shani Dham Temple, Link: https://en.wikipedia.org/wiki/Shani_Dham_Temple\n",
      "Title: Uttara Guruvayurappan Temple, Link: https://en.wikipedia.org/wiki/Uttara_Guruvayurappan_Temple\n",
      "Title: Uttara Swami Malai Temple, Link: https://en.wikipedia.org/wiki/Uttara_Swami_Malai_Temple\n",
      "Title: Yogmaya Temple, Link: https://en.wikipedia.org/wiki/Yogmaya_Temple\n",
      "Title: edit, Link: https://en.wikipedia.org/w/index.php?title=List_of_Hindu_temples_in_India&action=edit&section=8\n",
      "Title: List of temples in Goa, Link: https://en.wikipedia.org/wiki/List_of_temples_in_Goa\n",
      "Title: Shanta Durga Temple, Link: https://en.wikipedia.org/wiki/Shanta_Durga_Temple\n",
      "Title: Mandodari Temple, Betki, Link: https://en.wikipedia.org/wiki/Mandodari_Temple,_Betki\n",
      "Title: Mahadev Temple, Tambdi Surla, Link: https://en.wikipedia.org/wiki/Mahadev_Temple,_Tambdi_Surla\n",
      "Title: Shri Damodar Temple, Link: https://en.wikipedia.org/wiki/Shri_Damodar_Temple\n",
      "Title: Zambaulim, Link: https://en.wikipedia.org/wiki/Zambaulim\n",
      "Title: edit, Link: https://en.wikipedia.org/w/index.php?title=List_of_Hindu_temples_in_India&action=edit&section=9\n",
      "Title: Dwarkadhish, Link: https://en.wikipedia.org/wiki/Dwarkadhish_Temple\n",
      "Title: Kalupur Swaminarayan Mandir, Link: https://en.wikipedia.org/wiki/Kalupur_Swaminarayan_Mandir\n",
      "Title: Somnath temple, Link: https://en.wikipedia.org/wiki/Somnath_temple\n",
      "Title: Sun Temple, Modhera, Link: https://en.wikipedia.org/wiki/Sun_Temple,_Modhera\n",
      "Title: Akshardham, Gandhinagar, Link: https://en.wikipedia.org/wiki/Akshardham_(Gandhinagar)\n",
      "Title: Ambaji temple, Link: https://en.wikipedia.org/wiki/Ambaji\n",
      "Title: Atmajyoti Ashram, Link: https://en.wikipedia.org/wiki/Atmajyoti_Ashram\n",
      "Title: Bahuchara Mata, Link: https://en.wikipedia.org/wiki/Bahuchara_Mata\n",
      "Title: Becharaji, Link: https://en.wikipedia.org/wiki/Becharaji\n",
      "Title: Bhalka, Link: https://en.wikipedia.org/wiki/Bhalka\n",
      "Title: Bhavnath Temple, Mau, Link: https://en.wikipedia.org/wiki/Bhavnath_Temple,_Mau\n",
      "Title: Camp Hanuman Temple, Link: https://en.wikipedia.org/wiki/Camp_Hanuman_Temple\n",
      "Title: Chotila, Link: https://en.wikipedia.org/wiki/Chotila\n",
      "Title: Dudheshwar Mahadev, Link: https://en.wikipedia.org/wiki/Dudheshwar_Mahadev\n",
      "Title: Dwarkadhish Temple, Link: https://en.wikipedia.org/wiki/Dwarkadhish_Temple\n",
      "Title: EME Temple, Link: https://en.wikipedia.org/wiki/EME_Temple\n",
      "Title: Girnar, Link: https://en.wikipedia.org/wiki/Girnar\n",
      "Title: Gorthiya Mahadev Temple, Link: https://en.wikipedia.org/wiki/Gorthiya_Mahadev_Temple\n",
      "Title: Hanuman temple, Salangpur, Link: https://en.wikipedia.org/wiki/Hanuman_temple,_Salangpur\n",
      "Title: ISKCON Temple Kathwada, Link: https://en.wikipedia.org/w/index.php?title=ISKCON_Temple_Kathwada&action=edit&redlink=1\n",
      "Title: Jagannath Temple, Ahmedabad, Link: https://en.wikipedia.org/wiki/Jagannath_Temple,_Ahmedabad\n",
      "Title: Kalika Mata Temple, Pavagadh, Link: https://en.wikipedia.org/wiki/Kalika_Mata_Temple,_Pavagadh\n",
      "Title: Kalupur Swaminarayan Mandir, Link: https://en.wikipedia.org/wiki/Kalupur_Swaminarayan_Mandir\n",
      "Title: Kayavarohan temple, Link: https://en.wikipedia.org/wiki/Kayavarohan\n",
      "Title: Lakkadiya Hanuman Temple, Link: https://en.wikipedia.org/wiki/Lakkadiya_Hanuman_Temple\n",
      "Title: Nageshvara Jyotirlinga, Link: https://en.wikipedia.org/wiki/Nageshvara_Jyotirlinga\n",
      "Title: Navlakha Temple, Ghumli, Link: https://en.wikipedia.org/wiki/Navlakha_Temple,_Ghumli\n",
      "Title: Pimpleshwar Mahadev (Saldi), Link: https://en.wikipedia.org/wiki/Pimpleshwar_Mahadev_(Saldi)\n",
      "Title: Rudra Mahalaya Temple, Link: https://en.wikipedia.org/wiki/Rudra_Mahalaya_Temple\n",
      "Title: Rukmini Devi Temple, Link: https://en.wikipedia.org/wiki/Rukmini_Devi_Temple\n",
      "Title: Sadhimataji’s temple, Link: https://en.wikipedia.org/wiki/Sadhimataji%E2%80%99s_temple\n",
      "Title: Santram Mandir, Link: https://en.wikipedia.org/wiki/Santram_Mandir\n",
      "Title: Shamlaji, Link: https://en.wikipedia.org/wiki/Shamlaji\n",
      "Title: Shiva Temple, Kera, Link: https://en.wikipedia.org/wiki/Shiva_Temple,_Kera\n",
      "Title: Shri Keshavraiji Temple, Bet Dwarka, Link: https://en.wikipedia.org/wiki/Shri_Keshavraiji_Temple,_Bet_Dwarka\n",
      "Title: Shri Nathjidada Ni Jagya, Link: https://en.wikipedia.org/w/index.php?title=Shri_Nathjidada_Ni_Jagya&action=edit&redlink=1\n",
      "Title: Shri Shaktambika Mataji, Link: https://en.wikipedia.org/wiki/Shri_Shaktambika_Mataji\n",
      "Title: Shri Swaminarayan Mandir, Bhuj (New temple), Link: https://en.wikipedia.org/wiki/Shri_Swaminarayan_Mandir,_Bhuj_(New_temple)\n",
      "Title: Shri Swaminarayan Mandir, Gadhada, Link: https://en.wikipedia.org/wiki/Shri_Swaminarayan_Mandir,_Gadhada\n",
      "Title: Someshwar Mahadev Temple, Link: https://en.wikipedia.org/wiki/Someshwar_Mahadev_Temple\n",
      "Title: Somnath, Link: https://en.wikipedia.org/wiki/Somnath\n",
      "Title: Sun Temple, Modhera, Link: https://en.wikipedia.org/wiki/Sun_Temple,_Modhera\n",
      "Title: Umiya Temple, Unjha, Link: https://en.wikipedia.org/wiki/Umiya_Temple,_Unjha\n",
      "Title: edit, Link: https://en.wikipedia.org/w/index.php?title=List_of_Hindu_temples_in_India&action=edit&section=10\n",
      "Title: Mansa Devi Mandir, Link: https://en.wikipedia.org/wiki/Mata_Mansa_Devi_Mandir\n",
      "Title: Mata Mansa Devi Mandir, Link: https://en.wikipedia.org/wiki/Mata_Mansa_Devi_Mandir\n",
      "Title: Sthaneshwar Mahadev Temple, Link: https://en.wikipedia.org/wiki/Sthaneshwar_Mahadev_Temple\n",
      "Title: Brahma Sarovar, Link: https://en.wikipedia.org/wiki/Brahma_Sarovar\n",
      "Title: Kurukshetra, Link: https://en.wikipedia.org/wiki/Kurukshetra\n",
      "Title: Jyotisar, Link: https://en.wikipedia.org/wiki/Jyotisar\n",
      "Title: Sannihit Sarovar, Link: https://en.wikipedia.org/wiki/Sannihit_Sarovar\n",
      "Title: Agroha Dham, Link: https://en.wikipedia.org/wiki/Agroha_Dham\n",
      "Title: Bhuteshwar Temple, Link: https://en.wikipedia.org/wiki/Bhuteshwar_Temple\n",
      "Title: Pindara Temple, Link: https://en.wikipedia.org/wiki/Pindara_Temple\n",
      "Title: Kartikeya Temple, Pehowa, Link: https://en.wikipedia.org/wiki/Kartikeya_Temple,_Pehowa\n",
      "Title: Rudraksh Dham, kbhb, Link: https://en.wikipedia.org/w/index.php?title=Rudraksh_Dham,_kbhb&action=edit&redlink=1\n",
      "Title: edit, Link: https://en.wikipedia.org/w/index.php?title=List_of_Hindu_temples_in_India&action=edit&section=11\n",
      "Title: Hidimba Devi Temple, Link: https://en.wikipedia.org/wiki/Hidimba_Devi_Temple\n",
      "Title: Manimahesh Kailash Peak, Link: https://en.wikipedia.org/wiki/Manimahesh_Kailash_Peak\n",
      "Title: Chamba, Himachal Pradesh, Link: https://en.wikipedia.org/wiki/Chamba_District\n",
      "Title: Baijnath Temple, Link: https://en.wikipedia.org/wiki/Baijnath_Temple\n",
      "Title: Baijnath, Link: https://en.wikipedia.org/wiki/Baijnath,_Himachal_Pradesh\n",
      "Title: Chintpurni Devi Temple, Link: https://en.wikipedia.org/wiki/Chintpurni\n",
      "Title: Una, Himachal Pradesh, Link: https://en.wikipedia.org/wiki/Una_District\n",
      "Title: Hidimba Devi Temple, Link: https://en.wikipedia.org/wiki/Hidimba_Devi_Temple\n",
      "Title: Manali, Link: https://en.wikipedia.org/wiki/Manali,_Himachal_Pradesh\n",
      "Title: Chamunda Devi Temple, Link: https://en.wikipedia.org/w/index.php?title=Chamunda_Devi_Temple&action=edit&redlink=1\n",
      "Title: Kangra, Link: https://en.wikipedia.org/wiki/Kangra,_Himachal_Pradesh\n",
      "Title: Aadi Himani Chamunda Temple, Link: https://en.wikipedia.org/wiki/Himani_Chamunda\n",
      "Title: Kangra, Link: https://en.wikipedia.org/wiki/Kangra,_Himachal_Pradesh\n",
      "Title: Jawalamukhi Devi Temple, Link: https://en.wikipedia.org/wiki/Jawalamukhi\n",
      "Title: Kangra, Link: https://en.wikipedia.org/wiki/Kangra,_Himachal_Pradesh\n",
      "Title: Naina Devi Temple, Link: https://en.wikipedia.org/wiki/Naina_Devi\n",
      "Title: Bilaspur District, Link: https://en.wikipedia.org/wiki/Bilaspur_district,_Himachal_Pradesh\n",
      "Title: Mahakaal Mahakaali Temple, Link: https://en.wikipedia.orghttps://goo.gl/maps/XfesTvKYXjR2\n",
      "Title: Una, Himachal Pradesh, Link: https://en.wikipedia.org/wiki/Una_District\n",
      "Title: Mahadev Kotla Kalan, Link: https://en.wikipedia.org/w/index.php?title=Mahadev_Kotla_Kalan&action=edit&redlink=1\n",
      "Title: Una, Himachal Pradesh, Link: https://en.wikipedia.org/wiki/Una_District\n",
      "Title: Dhunsar Mahadev Temple, Link: https://en.wikipedia.org/w/index.php?title=Dhunsar_Mahadev_Temple&action=edit&redlink=1\n",
      "Title: Una, Himachal Pradesh, Link: https://en.wikipedia.org/wiki/Una_District\n",
      "Title: Shiv bari Temple, Link: https://en.wikipedia.org/w/index.php?title=Shiv_bari_Temple&action=edit&redlink=1\n",
      "Title: Gagret, Una, Himachal Pradesh, Link: https://en.wikipedia.org/wiki/Una_District\n",
      "Title: Peer Nigah, Link: https://en.wikipedia.org/w/index.php?title=Peer_Nigah&action=edit&redlink=1\n",
      "Title: Una, Himachal Pradesh, Link: https://en.wikipedia.org/wiki/Una_District\n",
      "Title: Dera Baba Rudru, Link: https://en.wikipedia.org/w/index.php?title=Dera_Baba_Rudru&action=edit&redlink=1\n",
      "Title: Nari, Una, Himachal Pradesh, Link: https://en.wikipedia.org/wiki/Una_District\n",
      "Title: Trilokpur, Link: https://en.wikipedia.org/wiki/Trilokpur\n",
      "Title: Baba Balak Nath, Link: https://en.wikipedia.org/wiki/Baba_Balak_Nath\n",
      "Title: edit, Link: https://en.wikipedia.org/w/index.php?title=List_of_Hindu_temples_in_India&action=edit&section=12\n",
      "Title: Amarnath Cave, Link: https://en.wikipedia.org/wiki/Amarnath_Temple\n",
      "Title: Amarnath Cave Temple, Link: https://en.wikipedia.org/wiki/Amarnath_Temple\n",
      "Title: Hari Parbat, Link: https://en.wikipedia.org/wiki/Hari_Parbat\n",
      "Title: Kheer Bhawani, Link: https://en.wikipedia.org/wiki/Kheer_Bhawani\n",
      "Title: Khrew, Link: https://en.wikipedia.org/wiki/Khrew\n",
      "Title: Raghunath Temple, Link: https://en.wikipedia.org/wiki/Raghunath_Temple\n",
      "Title: Shankaracharya temple, Link: https://en.wikipedia.org/wiki/Shankaracharya_temple\n",
      "Title: Vaishno Devi, Link: https://en.wikipedia.org/wiki/Vaishno_Devi\n",
      "Title: edit, Link: https://en.wikipedia.org/w/index.php?title=List_of_Hindu_temples_in_India&action=edit&section=13\n",
      "Title: Jagannath hill Temple, Link: https://en.wikipedia.org/wiki/Jagannath_Temple,_Ranchi\n",
      "Title: Baidyanath Temple, Link: https://en.wikipedia.org/wiki/Baidyanath_Temple\n",
      "Title: Deoghar, Link: https://en.wikipedia.org/wiki/Deoghar\n",
      "Title: Chhinnamasta Temple, Link: https://en.wikipedia.org/wiki/Chhinnamasta_Temple\n",
      "Title: Rajrappa, Link: https://en.wikipedia.org/wiki/Rajrappa\n",
      "Title: Maa Dewri Temple, Link: https://en.wikipedia.org/wiki/Maa_Dewri_Temple\n",
      "Title: Jagannath Temple, Link: https://en.wikipedia.org/wiki/Jagannath_Temple,_Ranchi\n",
      "Title: Sri Sri Kalika Maharani Temple, Link: https://en.wikipedia.org/wiki/Sri_Sri_Kalika_Maharani_Temple\n",
      "Title: Karneshwar Dham, Link: https://en.wikipedia.org/wiki/Karneshwar_Dham\n",
      "Title: Harihar Dham, Link: https://en.wikipedia.org/wiki/Harihar_Dham\n",
      "Title: Gayatri Gyan Temple, Link: https://en.wikipedia.org/wiki/Gayatri_Gyan_Mandir,_Mahuda\n",
      "Title: Maluti temples, Link: https://en.wikipedia.org/wiki/Maluti_temples\n",
      "Title: Bindudham, Link: https://en.wikipedia.org/wiki/Bindudham\n",
      "Title: edit, Link: https://en.wikipedia.org/w/index.php?title=List_of_Hindu_temples_in_India&action=edit&section=14\n",
      "Title: Shiva, Link: https://en.wikipedia.org/wiki/Shiva\n",
      "Title: Murudeshwara, Link: https://en.wikipedia.org/wiki/Murudeshwara\n",
      "Title: Durga temple, Link: https://en.wikipedia.org/wiki/Durga_temple,_Aihole\n",
      "Title: Aihole, Link: https://en.wikipedia.org/wiki/Aihole\n",
      "Title: ISKCON Temple, Link: https://en.wikipedia.org/wiki/ISKCON_Bangalore\n",
      "Title: Shri Agnidurga Gopalakrishna Temple, Karamogaru, Gurupur, D.K, Link: https://en.wikipedia.org/w/index.php?title=Shri_Agnidurga_Gopalakrishna_Temple,_Karamogaru,_Gurupur,_D.K&action=edit&redlink=1\n",
      "Title: Aihole, Link: https://en.wikipedia.org/wiki/Aihole\n",
      "Title: Amrutesvara Temple, Amruthapura, Link: https://en.wikipedia.org/wiki/Amrutesvara_Temple,_Amruthapura\n",
      "Title: Chikmagalur, Link: https://en.wikipedia.org/wiki/Chikmagalur\n",
      "Title: Anegudde, Link: https://en.wikipedia.org/wiki/Anegudde\n",
      "Title: Annapoorneshwari Temple, Link: https://en.wikipedia.org/wiki/Annapoorneshwari_Temple\n",
      "Title: Horanadu, Link: https://en.wikipedia.org/wiki/Horanadu\n",
      "Title: Badami Cave Temples, Link: https://en.wikipedia.org/wiki/Badami_Cave_Temples\n",
      "Title: Badami, Link: https://en.wikipedia.org/wiki/Badami\n",
      "Title: Chamundeswari Temple, Link: https://en.wikipedia.org/wiki/Chamundeswari_Temple\n",
      "Title: Mysore, Link: https://en.wikipedia.org/wiki/Mysore\n",
      "Title: Cheluvanarayana Swamy Temple, Link: https://en.wikipedia.org/wiki/Cheluvanarayana_Swamy_Temple\n",
      "Title: Melukote, Link: https://en.wikipedia.org/wiki/Melukote\n",
      "Title: Chennakesava Temple, Link: https://en.wikipedia.org/wiki/Chennakesava_Temple\n",
      "Title: Belur, Link: https://en.wikipedia.org/wiki/Belur,_Karnataka\n",
      "Title: Devarayana Durga, Link: https://en.wikipedia.org/wiki/Devarayana_Durga\n",
      "Title: Dharmaraya Swamy Temple, Link: https://en.wikipedia.org/wiki/Dharmaraya_Swamy_Temple\n",
      "Title: Bangalore, Link: https://en.wikipedia.org/wiki/Bangalore\n",
      "Title: Gavi Gangadhareshwara Temple, Link: https://en.wikipedia.org/wiki/Gavi_Gangadhareshwara_Temple\n",
      "Title: Ghati Subramanya, Link: https://en.wikipedia.org/wiki/Ghati_Subramanya\n",
      "Title: Doddaballapur, Link: https://en.wikipedia.org/wiki/Doddaballapur\n",
      "Title: Gokarna, Link: https://en.wikipedia.org/wiki/Gokarna,_India\n",
      "Title: Halebidu, Link: https://en.wikipedia.org/wiki/Halebidu\n",
      "Title: Hampi, Link: https://en.wikipedia.org/wiki/Hampi\n",
      "Title: Hoysaleswara temple, Link: https://en.wikipedia.org/wiki/Hoysaleswara_temple\n",
      "Title: ISKCON Bangalore, Link: https://en.wikipedia.org/wiki/ISKCON_Bangalore\n",
      "Title: Bangalore, Link: https://en.wikipedia.org/wiki/Bangalore\n",
      "Title: Kodlamane Shree Vishnumurthy Temple, Link: https://en.wikipedia.org/wiki/Kodlamane_Shree_Vishnumurthy_Temple\n",
      "Title: Uttara Kannada, Link: https://en.wikipedia.org/wiki/Uttara_Kannada\n",
      "Title: Keshava temple, Link: https://en.wikipedia.org/wiki/Keshava_temple\n",
      "Title: Lakshmi Narasimha Temple at Bhadravathi, Link: https://en.wikipedia.org/wiki/Lakshmi_Narasimha_Temple_at_Bhadravathi\n",
      "Title: Bhadravathi, Link: https://en.wikipedia.org/wiki/Bhadravathi,_Karnataka\n",
      "Title: Kukke Subramanya, Link: https://en.wikipedia.org/wiki/Kukke_Subramanya\n",
      "Title: Mahantheshwara mata karegudda, Link: https://en.wikipedia.org/w/index.php?title=Mahantheshwara_mata_karegudda&action=edit&redlink=1\n",
      "Title: Marikamba Temple, Sirsi, Link: https://en.wikipedia.org/wiki/Marikamba_Temple,_Sirsi\n",
      "Title: Mookambika temple, Link: https://en.wikipedia.org/wiki/Mookambika\n",
      "Title: Kollur, Link: https://en.wikipedia.org/wiki/Kollur,_Udupi_district\n",
      "Title: Murudeshwara, Link: https://en.wikipedia.org/wiki/Murudeshwara\n",
      "Title: Nagadevatha, Link: https://en.wikipedia.org/wiki/Nagadevatha\n",
      "Title: Nandi Temple, Link: https://en.wikipedia.org/wiki/Basavanagudi_Nandi_Temple\n",
      "Title: Nellitheertha, Link: https://en.wikipedia.org/wiki/Nellitheertha\n",
      "Title: Padutirupathi, Link: https://en.wikipedia.org/wiki/Padutirupathi\n",
      "Title: Nageshvara Temple Begur, Link: https://en.wikipedia.org/w/index.php?title=Nageshvara_Temple_Begur&action=edit&redlink=1\n",
      "Title: Dharmasthala Temple, Link: https://en.wikipedia.org/wiki/Dharmasthala_Temple\n",
      "Title: Dharmasthala, Link: https://en.wikipedia.org/wiki/Dharmasthala\n",
      "Title: Shree Vishnumurthy Temple, Link: https://en.wikipedia.org/wiki/Shree_Vishnumurthy_Temple\n",
      "Title: Sharadamba Temple, Sringeri, Link: https://en.wikipedia.org/wiki/Sringeri#Sharadamba_Temple\n",
      "Title: Udupi Sri Krishna Matha, Link: https://en.wikipedia.org/wiki/Udupi_Sri_Krishna_Matha\n",
      "Title: Udupi, Link: https://en.wikipedia.org/wiki/Udupi\n",
      "Title: Virupaksha Temple, Link: https://en.wikipedia.org/wiki/Virupaksha_Temple,_Hampi\n",
      "Title: edit, Link: https://en.wikipedia.org/w/index.php?title=List_of_Hindu_temples_in_India&action=edit&section=15\n",
      "Title: List of Hindu temples in Kerala, Link: https://en.wikipedia.org/wiki/List_of_Hindu_temples_in_Kerala\n",
      "Title: Ananthapura Lake Temple, Link: https://en.wikipedia.org/wiki/Ananthapura_Lake_Temple\n",
      "Title: Sree Poornathrayeesa Temple, Link: https://en.wikipedia.org/wiki/Sree_Poornathrayeesa_Temple\n",
      "Title: Vadakkumnathan Temple, Link: https://en.wikipedia.org/wiki/Vadakkumnathan_Temple\n",
      "Title: Vazhappally Temple, Link: https://en.wikipedia.org/wiki/Vazhappally_Maha_Siva_Temple\n",
      "Title: Ambalappuzha Sri Krishna Temple, Link: https://en.wikipedia.org/wiki/Ambalappuzha_Sri_Krishna_Temple\n",
      "Title: Ananthapura Lake Temple, Link: https://en.wikipedia.org/wiki/Ananthapura_Lake_Temple\n",
      "Title: Aranmula Parthasarathy Temple, Link: https://en.wikipedia.org/wiki/Aranmula_Parthasarathy_Temple\n",
      "Title: Arattupuzha Temple, Link: https://en.wikipedia.org/wiki/Arattupuzha_Temple\n",
      "Title: Attukal Temple, Link: https://en.wikipedia.org/wiki/Attukal_Temple\n",
      "Title: Chakkulathukavu Temple, Link: https://en.wikipedia.org/wiki/Chakkulathukavu_Temple\n",
      "Title: Chottanikkara Temple, Link: https://en.wikipedia.org/wiki/Chottanikkara_Temple\n",
      "Title: Ettumanoor Mahadevar Temple, Link: https://en.wikipedia.org/wiki/Ettumanoor_Mahadevar_Temple\n",
      "Title: Guruvayur Temple, Link: https://en.wikipedia.org/wiki/Guruvayur_Temple\n",
      "Title: Kadampuzha Devi Temple, Link: https://en.wikipedia.org/wiki/Kadampuzha_Devi_Temple\n",
      "Title: Kodungallur Bhagavathy Temple, Link: https://en.wikipedia.org/wiki/Kodungallur_Bhagavathy_Temple\n",
      "Title: Kottiyoor Temple, Link: https://en.wikipedia.org/wiki/Kottiyoor_Temple\n",
      "Title: Koodalmanikyam Temple, Link: https://en.wikipedia.org/wiki/Koodalmanikyam_Temple\n",
      "Title: Lokanarkavu Temple, Link: https://en.wikipedia.org/wiki/Lokanarkavu_Temple\n",
      "Title: Mannarasala Snake Temple, Link: https://en.wikipedia.org/wiki/Mannarasala_Temple\n",
      "Title: Muthappan Temple, Link: https://en.wikipedia.org/wiki/Muthappan_Temple\n",
      "Title: Oachira Temple, Link: https://en.wikipedia.org/wiki/Oachira_Temple\n",
      "Title: Peruvanam Mahadeva Temple, Link: https://en.wikipedia.org/wiki/Peruvanam_Mahadeva_Temple\n",
      "Title: Padmanabhaswamy Temple, Link: https://en.wikipedia.org/wiki/Padmanabhaswamy_Temple\n",
      "Title: Pazhavangadi Ganapathy Temple, Link: https://en.wikipedia.org/wiki/Pazhavangadi_Ganapathy_Temple\n",
      "Title: Rajarajeshwara Temple, Link: https://en.wikipedia.org/wiki/Rajarajeshwara_Temple\n",
      "Title: Sabarimala Temple, Link: https://en.wikipedia.org/wiki/Sabarimala_Temple\n",
      "Title: Sree Poornathrayeesa Temple, Link: https://en.wikipedia.org/wiki/Sree_Poornathrayeesa_Temple\n",
      "Title: Thirunakkara Mahadevar Temple, Link: https://en.wikipedia.org/wiki/Thirunakkara_Sree_Mahadevar_Temple,_Kottayam\n",
      "Title: Thiruvanchikulam Temple, Link: https://en.wikipedia.org/wiki/Thiruvanchikulam_Temple\n",
      "Title: Thriprayar Temple, Link: https://en.wikipedia.org/wiki/Thriprayar_Temple\n",
      "Title: Tirunavaya Temple, Link: https://en.wikipedia.org/wiki/Tirunavaya_Temple\n",
      "Title: Vadakkunnathan Temple, Link: https://en.wikipedia.org/wiki/Vadakkunnathan_Temple\n",
      "Title: Vaikom Mahadevar Temple, Link: https://en.wikipedia.org/wiki/Vaikom_Temple\n",
      "Title: Vazhappally Maha Siva Temple, Link: https://en.wikipedia.org/wiki/Vazhappally_Maha_Siva_Temple\n",
      "Title: edit, Link: https://en.wikipedia.org/w/index.php?title=List_of_Hindu_temples_in_India&action=edit&section=16\n",
      "Title: Mahakaleshwar Jyotirlinga, Link: https://en.wikipedia.org/wiki/Mahakaleshwar_Jyotirlinga\n",
      "Title: Kandariya Mahadeva Temple, Link: https://en.wikipedia.org/wiki/Kandariya_Mahadeva_Temple\n",
      "Title: Khajuraho, Link: https://en.wikipedia.org/wiki/Khajuraho\n",
      "Title: guna, Link: https://en.wikipedia.org/wiki/Guna_district\n",
      "Title: Sas-Bahu Temple, Link: https://en.wikipedia.org/wiki/Sas-Bahu_Temple\n",
      "Title: Gwalior, Link: https://en.wikipedia.org/wiki/Gwalior\n",
      "Title: Ram Raja Temple, Link: https://en.wikipedia.org/wiki/Ram_Raja_Temple\n",
      "Title: Orchha, Link: https://en.wikipedia.org/wiki/Orchha\n",
      "Title: Jhansi, Link: https://en.wikipedia.org/wiki/Jhansi\n",
      "Title: Sharda Devi Temple Maihar satna, Link: https://en.wikipedia.org/wiki/Maihar#Sharda_Devi_Temple\n",
      "Title: Mahakaleshwar Jyotirlinga Ujjain, Link: https://en.wikipedia.org/wiki/Mahakaleshwar_Jyotirlinga\n",
      "Title: Chintaman Ganesh, Link: https://en.wikipedia.org/wiki/Chintaman_Ganesh\n",
      "Title: Ujjain, Link: https://en.wikipedia.org/wiki/Ujjain\n",
      "Title: Bade Ganeshji ka Mandir, Link: https://en.wikipedia.org/wiki/Ujjain\n",
      "Title: Harsiddhi Temple, Link: https://en.wikipedia.org/wiki/Ujjain\n",
      "Title: Kaal Bhairava temple, Link: https://en.wikipedia.org/wiki/Kal_Bhairav_temple,_Ujjain\n",
      "Title: Mangalnath temple, Link: https://en.wikipedia.org/wiki/Ujjain\n",
      "Title: Gopal Mandir, Link: https://en.wikipedia.org/wiki/Ujjain\n",
      "Title: Omkareshwar Temple Khandwa, Link: https://en.wikipedia.org/wiki/Omkareshwar\n",
      "Title: Kandariya Mahadeva, Link: https://en.wikipedia.org/wiki/Kandariya_Mahadeva\n",
      "Title: Ganesh Mandir, Link: https://en.wikipedia.org/wiki/Sehore\n",
      "Title: Chauragarh, Link: https://en.wikipedia.org/wiki/Pachmarhi\n",
      "Title: Jatashankar, Link: https://en.wikipedia.org/wiki/Jatashankar\n",
      "Title: Pachmarhi, Link: https://en.wikipedia.org/wiki/Pachmarhi\n",
      "Title: Khajrana Ganesh Temple, Link: https://en.wikipedia.org/wiki/Khajrana_Ganesh_Temple\n",
      "Title: Indore, Link: https://en.wikipedia.org/wiki/Indore\n",
      "Title: Beejasan Mata Mandir, Link: https://en.wikipedia.org/wiki/Bijasan_mata_mandir_indore\n",
      "Title: Indore, Link: https://en.wikipedia.org/wiki/Indore\n",
      "Title: Gajanan Maharaj Temple, Link: https://en.wikipedia.org/wiki/Gajanan_Maharaj_Temple,_Indore\n",
      "Title: Indore, Link: https://en.wikipedia.org/wiki/Indore\n",
      "Title: Taxakeshwar, Link: https://en.wikipedia.org/wiki/Taxakeshwar\n",
      "Title: Mandsaur, Link: https://en.wikipedia.org/wiki/Mandsaur\n",
      "Title: Pashupatinath Temple, Mandsaur, Link: https://en.wikipedia.org/wiki/Pashupatinath_Temple,_Mandsaur\n",
      "Title: Shyam Kaka Temple, Link: https://en.wikipedia.org/wiki/Shyam_Kaka_Temple\n",
      "Title: Rajgarh district, Link: https://en.wikipedia.org/wiki/Rajgarh_district\n",
      "Title: Devi Vaishini Temple, Link: https://en.wikipedia.org/wiki/Dewas\n",
      "Title: Dewas, Link: https://en.wikipedia.org/wiki/Dewas\n",
      "Title: Pitambara Peeth, Link: https://en.wikipedia.org/wiki/Pitambara_Peeth\n",
      "Title: Datia, Link: https://en.wikipedia.org/wiki/Datia\n",
      "Title: Tulsi Peeth, Link: https://en.wikipedia.org/wiki/Tulsi_Peeth\n",
      "Title: Chitrakoot, Link: https://en.wikipedia.org/wiki/Chitrakoot,_Madhya_Pradesh\n",
      "Title: Kankali Devi temple, Link: https://en.wikipedia.org/wiki/Tigawa\n",
      "Title: Tigawa, Link: https://en.wikipedia.org/wiki/Tigawa\n",
      "Title: Shri Kala Bhairava Nath Swami Temple, Link: https://en.wikipedia.org/wiki/Shri_Kala_Bhairava_Nath_Swami_Temple\n",
      "Title: Adegaon, Link: https://en.wikipedia.org/wiki/Adegaon\n",
      "Title: Kandariya Mahadeva Temple, Link: https://en.wikipedia.org/wiki/Kandariya_Mahadeva_Temple\n",
      "Title: Khajuraho, Link: https://en.wikipedia.org/wiki/Khajuraho_Group_of_Monuments\n",
      "Title: Chausath Yogini Temple, Link: https://en.wikipedia.org/wiki/Khajuraho_Group_of_Monuments\n",
      "Title: Khajuraho, Link: https://en.wikipedia.org/wiki/Khajuraho_Group_of_Monuments\n",
      "Title: Matangeshwar Temple, Link: https://en.wikipedia.org/wiki/Khajuraho_Group_of_Monuments\n",
      "Title: Khajuraho, Link: https://en.wikipedia.org/wiki/Khajuraho_Group_of_Monuments\n",
      "Title: Devi Jagadambi Temple, Link: https://en.wikipedia.org/wiki/Devi_Jagadambi_Temple\n",
      "Title: Khajuraho, Link: https://en.wikipedia.org/wiki/Khajuraho_Group_of_Monuments\n",
      "Title: Dada Darbar, Link: https://en.wikipedia.org/wiki/Dada_Darbar_(Khandwa)\n",
      "Title: Khandwa, Link: https://en.wikipedia.org/wiki/Khandwa\n",
      "Title: Sas-Bahu Temple, Link: https://en.wikipedia.org/wiki/Sas-Bahu_Temple\n",
      "Title: Gwalior, Link: https://en.wikipedia.org/wiki/Gwalior\n",
      "Title: Kakanmath Temple, Link: https://en.wikipedia.org/w/index.php?title=Kakanmath_Temple&action=edit&redlink=1\n",
      "Title: MorMoren, Link: https://en.wikipedia.org/wiki/Morena\n",
      "Title: [vindyvashni |temple, Link: https://en.wikipedia.orghttp://%5Bvindyvashni%20%7Ctemple\n",
      "Title: ashoknagar, Link: https://en.wikipedia.org/wiki/Ashoknagar\n",
      "Title: edit, Link: https://en.wikipedia.org/w/index.php?title=List_of_Hindu_temples_in_India&action=edit&section=17\n",
      "Title: Siddhivinayak Temple, Link: https://en.wikipedia.org/wiki/Siddhivinayak_Temple,_Mumbai\n",
      "Title: Trimbakeshwar temple, Link: https://en.wikipedia.org/wiki/Trimbakeshwar_temple\n",
      "Title: Elephanta Caves, Link: https://en.wikipedia.org/wiki/Elephanta_Caves\n",
      "Title: Kailasa temple, Link: https://en.wikipedia.org/wiki/Kailasa_temple,_Ellora\n",
      "Title: Ellora Caves, Link: https://en.wikipedia.org/wiki/Ellora_Caves\n",
      "Title: Shiv Mandir, Maharashtra, Link: https://en.wikipedia.org/wiki/Shiv_Mandir,_Maharashtra\n",
      "Title: Akkalkot Swami Samarth, Link: https://en.wikipedia.org/wiki/Akkalkot_Maharaj\n",
      "Title: Ballaleshwar Pali, Link: https://en.wikipedia.org/wiki/Ballaleshwar_Pali\n",
      "Title: Shri Swaminarayan Mandir, Mumbai, Link: https://en.wikipedia.org/wiki/Shri_Swaminarayan_Mandir,_Mumbai\n",
      "Title: Babulnath Temple, Mumbai, Link: https://en.wikipedia.org/w/index.php?title=Babulnath_Temple,_Mumbai&action=edit&redlink=1\n",
      "Title: Bhimashankar Temple, Link: https://en.wikipedia.org/wiki/Bhimashankar_Temple\n",
      "Title: Bhuleshwar Temple, Link: https://en.wikipedia.org/wiki/Bhuleshwar_Temple\n",
      "Title: Shri BrahmaChaitanya Gondavalekar Maharaj, Link: https://en.wikipedia.org/wiki/Shri_BrahmaChaitanya\n",
      "Title: Chakreshwar Mahadev Mandir, Link: https://en.wikipedia.org/wiki/Chakreshwar_Mahadev_Mandir\n",
      "Title: Nalasopara, Link: https://en.wikipedia.org/wiki/Nalasopara\n",
      "Title: Chaturshringi Temple, Link: https://en.wikipedia.org/wiki/Chaturshringi_Temple\n",
      "Title: Pune, Link: https://en.wikipedia.org/wiki/Pune\n",
      "Title: Chaturbhuj Temple, Link: https://en.wikipedia.org/wiki/Chaturbhuj_Temple_(Orchha)\n",
      "Title: Orchha, Link: https://en.wikipedia.org/wiki/Orchha\n",
      "Title: Dashabhuja Temple, Link: https://en.wikipedia.org/wiki/Dashabhuja_Temple\n",
      "Title: Pune, Link: https://en.wikipedia.org/wiki/Pune\n",
      "Title: Ekvira Mata Mandir, Link: https://en.wikipedia.org/wiki/Ekvira_Mata_Mandir\n",
      "Title: Lonavla, Link: https://en.wikipedia.org/wiki/Lonavla\n",
      "Title: Elephanta Caves, Link: https://en.wikipedia.org/wiki/Elephanta_Caves\n",
      "Title: Elephanta Island, Link: https://en.wikipedia.org/wiki/Elephanta_Island\n",
      "Title: Mumbai, Link: https://en.wikipedia.org/wiki/Mumbai\n",
      "Title: Ellora Caves, Link: https://en.wikipedia.org/wiki/Ellora_Caves\n",
      "Title: Aurangabad, Link: https://en.wikipedia.org/wiki/Aurangabad,_Maharashtra\n",
      "Title: Ganapati Temple, Redi, Link: https://en.wikipedia.org/wiki/Ganapati_Temple,_Redi\n",
      "Title: Grishneshwar temple, Link: https://en.wikipedia.org/wiki/Grishneshwar_temple\n",
      "Title: Ellora, Link: https://en.wikipedia.org/wiki/Ellora\n",
      "Title: Kailash Temple, Link: https://en.wikipedia.org/wiki/Ellora_Kailasanathar_Temple\n",
      "Title: Ellora, Link: https://en.wikipedia.org/wiki/Ellora\n",
      "Title: Kala Ram Temple, Link: https://en.wikipedia.org/wiki/Kala_Ram_Temple\n",
      "Title: Nasik, Link: https://en.wikipedia.org/wiki/Nasik\n",
      "Title: Khidkaleshwar Mandir, Link: https://en.wikipedia.org/wiki/Khidkaleshwar_Mandir\n",
      "Title: Dombivli, Link: https://en.wikipedia.org/wiki/Dombivli\n",
      "Title: Kopineshwar Mandir, Thane, Link: https://en.wikipedia.org/wiki/Kopineshwar_Mandir,_Thane\n",
      "Title: Kukdeshwar Temple, Link: https://en.wikipedia.org/wiki/Kukdeshwar_Temple\n",
      "Title: Mandher Devi Temple in Mandhradevi, Link: https://en.wikipedia.org/wiki/Mandher_Devi_Temple_in_Mandhradevi\n",
      "Title: Morgaon Ganesha Temple, Link: https://en.wikipedia.org/wiki/Morgaon_Ganesha_Temple\n",
      "Title: Mahalakshmi Temple, Kolhapur, Link: https://en.wikipedia.org/wiki/Mahalakshmi_Temple,_Kolhapur\n",
      "Title: Mahur, Link: https://en.wikipedia.org/wiki/Mahur,_Maharashtra\n",
      "Title: Mumba Devi Mandir, Link: https://en.wikipedia.org/wiki/Mumba_Devi_Mandir\n",
      "Title: Parshuram Temple, Link: https://en.wikipedia.org/wiki/Parshuram_Temple\n",
      "Title: Vithoba Temple, Link: https://en.wikipedia.org/wiki/Vithoba_Temple,_Pandharpur\n",
      "Title: Pandharpur, Link: https://en.wikipedia.org/wiki/Pandharpur\n",
      "Title: Visava Temple (Wakhari Va Korti Devalayas, Isbavi), Link: https://en.wikipedia.org/w/index.php?title=Visava_Temple_(Wakhari_Va_Korti_Devalayas,_Isbavi)&action=edit&redlink=1\n",
      "Title: Pandharpur, Link: https://en.wikipedia.org/wiki/Pandharpur\n",
      "Title: Rameshwar Mandir, Link: https://en.wikipedia.org/wiki/Rameshwar_Mandir\n",
      "Title: Shirdi, Link: https://en.wikipedia.org/wiki/Shirdi\n",
      "Title: Shani Shingnapur, Link: https://en.wikipedia.org/wiki/Shani_Shingnapur\n",
      "Title: Saptashrungi, Link: https://en.wikipedia.org/wiki/Saptashrungi\n",
      "Title: Sarasbaug Ganpati, Link: https://en.wikipedia.org/wiki/Sarasbaug_Ganpati\n",
      "Title: Satpuda Manudevi Temple, Adgaon, Link: https://en.wikipedia.org/wiki/Satpuda_Manudevi_Temple,_Adgaon\n",
      "Title: Shree Swaminarayan Temple Mumbai, Link: https://en.wikipedia.org/wiki/Shree_Swaminarayan_Temple_Mumbai\n",
      "Title: padmalaya, Link: https://en.wikipedia.org/wiki/Padmalaya\n",
      "Title: Siddheshwar & Ratneshwar Temple, Link: https://en.wikipedia.org/wiki/Siddheshwar_%26_Ratneshwar_Temple\n",
      "Title: Siddhivinayak Mahaganapati Temple, Link: https://en.wikipedia.org/wiki/Siddhivinayak_Mahaganapati_Temple\n",
      "Title: Siddhivinayak Temple, Siddhatek, Link: https://en.wikipedia.org/wiki/Siddhivinayak_Temple,_Siddhatek\n",
      "Title: Siddhivinayak temple, Link: https://en.wikipedia.org/wiki/Siddhivinayak_temple_(Mumbai)\n",
      "Title: Mumbai, Link: https://en.wikipedia.org/wiki/Mumbai\n",
      "Title: Varadvinayak, Link: https://en.wikipedia.org/wiki/Varadvinayak\n",
      "Title: Trimbakeshwar Shiva Temple, Link: https://en.wikipedia.org/wiki/Trimbakeshwar_Shiva_Temple\n",
      "Title: Trimbakeshwar, Link: https://en.wikipedia.org/wiki/Trimbakeshwar\n",
      "Title: Tulja Bhavani Temple, Link: https://en.wikipedia.org/wiki/Tulja_Bhavani_Temple\n",
      "Title: Tuljapur, Link: https://en.wikipedia.org/wiki/Tuljapur\n",
      "Title: Jivdani Mata Mandir, Link: https://en.wikipedia.org/w/index.php?title=Jivdani_Mata_Mandir&action=edit&redlink=1\n",
      "Title: Virar, Link: https://en.wikipedia.org/wiki/Virar\n",
      "Title: Chandika Aai Mandir, Link: https://en.wikipedia.org/w/index.php?title=Chandika_Aai_Mandir&action=edit&redlink=1\n",
      "Title: Dabhol, Link: https://en.wikipedia.org/wiki/Dabhol\n",
      "Title: Satmai Mata Mandir, Link: https://en.wikipedia.org/w/index.php?title=Satmai_Mata_Mandir&action=edit&redlink=1\n",
      "Title: Dapoli, Link: https://en.wikipedia.org/wiki/Dapoli\n",
      "Title: Aai Karanjeshwari Mandir, Link: https://en.wikipedia.org/w/index.php?title=Aai_Karanjeshwari_Mandir&action=edit&redlink=1\n",
      "Title: Chiplun, Gowalkot, Link: https://en.wikipedia.org/w/index.php?title=Chiplun,_Gowalkot&action=edit&redlink=1\n",
      "Title: edit, Link: https://en.wikipedia.org/w/index.php?title=List_of_Hindu_temples_in_India&action=edit&section=18\n",
      "Title: Shree Govindajee Temple, Link: https://en.wikipedia.org/wiki/Shree_Govindajee_Temple\n",
      "Title: Imphal, Link: https://en.wikipedia.org/wiki/Imphal\n",
      "Title: Ningthoukhong Gopinath Mandir, Link: https://en.wikipedia.org/wiki/Ningthoukhong_Gopinath_Mandir\n",
      "Title: Shri Radha Raman Temple of Kanchipur, Link: https://en.wikipedia.org/wiki/Shri_Radha_Raman_Temple_of_Kanchipur\n",
      "Title: Kanchipur, Link: https://en.wikipedia.org/wiki/Kanchipur,_Manipur\n",
      "Title: edit, Link: https://en.wikipedia.org/w/index.php?title=List_of_Hindu_temples_in_India&action=edit&section=19\n",
      "Title: List of temples in Bhubaneswar, Link: https://en.wikipedia.org/wiki/List_of_temples_in_Bhubaneswar\n",
      "Title: Konark Sun Temple, Link: https://en.wikipedia.org/wiki/Konark_Sun_Temple\n",
      "Title: Muktesvara deula, Link: https://en.wikipedia.org/wiki/Muktesvara_deula\n",
      "Title: Orissa, Link: https://en.wikipedia.org/wiki/Orissa,_India\n",
      "Title: Jagannath Temple, Puri, Link: https://en.wikipedia.org/wiki/Jagannath_Temple,_Puri\n",
      "Title: Orissa, Link: https://en.wikipedia.org/wiki/Orissa,_India\n",
      "Title: Lingaraja Temple, Link: https://en.wikipedia.org/wiki/Lingaraja_Temple\n",
      "Title: Orissa, Link: https://en.wikipedia.org/wiki/Orissa,_India\n",
      "Title: Baitala deula, Link: https://en.wikipedia.org/wiki/Baitala_deula\n",
      "Title: Orissa, Link: https://en.wikipedia.org/wiki/Orissa,_India\n",
      "Title: Rajarani Temple, Link: https://en.wikipedia.org/wiki/Rajarani_Temple\n",
      "Title: Orissa, Link: https://en.wikipedia.org/wiki/Orissa,_India\n",
      "Title: Puspagiri Mahavihara, Link: https://en.wikipedia.org/wiki/Puspagiri_Mahavihara\n",
      "Title: Orissa, Link: https://en.wikipedia.org/wiki/Orissa,_India\n",
      "Title: Ananta Vasudeva Temple, Link: https://en.wikipedia.org/wiki/Ananta_Vasudeva_Temple\n",
      "Title: Orissa, Link: https://en.wikipedia.org/wiki/Orissa,_India\n",
      "Title: Nrusinghanath Temple, Link: https://en.wikipedia.org/wiki/Nrusinghanath_Temple\n",
      "Title: Orissa, Link: https://en.wikipedia.org/wiki/Orissa,_India\n",
      "Title: Taratarini Temple, Link: https://en.wikipedia.org/wiki/Taratarini_Temple\n",
      "Title: Orissa, Link: https://en.wikipedia.org/wiki/Orissa,_India\n",
      "Title: Brahmeswara Temple, Link: https://en.wikipedia.org/wiki/Brahmeswara_Temple\n",
      "Title: Ananta Vasudeva Temple, Link: https://en.wikipedia.org/wiki/Ananta_Vasudeva_Temple\n",
      "Title: Astasambhu Siva Temples, Link: https://en.wikipedia.org/wiki/Astasambhu_Siva_Temples\n",
      "Title: Ajaikapada Bhairava Temple, Link: https://en.wikipedia.org/wiki/Ajaikapada_Bhairava_Temple\n",
      "Title: Ananta Shayana, Link: https://en.wikipedia.org/wiki/Ananta_Shayana\n",
      "Title: Annakoteshvara Temple, Link: https://en.wikipedia.org/wiki/Annakoteshvara_Temple\n",
      "Title: Baladevjew Temple, Link: https://en.wikipedia.org/wiki/Baladevjew_Temple\n",
      "Title: Bhringesvara Siva Temple, Link: https://en.wikipedia.org/wiki/Bhringesvara_Siva_Temple\n",
      "Title: Bhagabati Temple, Banapur, Link: https://en.wikipedia.org/wiki/Bhagabati_Temple,_Banapur\n",
      "Title: Bharati Matha, Link: https://en.wikipedia.org/wiki/Bharati_Matha\n",
      "Title: Budha Deula, Link: https://en.wikipedia.org/wiki/Budha_Deula\n",
      "Title: Byamokesvara temple, Link: https://en.wikipedia.org/wiki/Byamokesvara_temple\n",
      "Title: Biraja Temple, Link: https://en.wikipedia.org/wiki/Biraja_Temple\n",
      "Title: Jajpur, Link: https://en.wikipedia.org/wiki/Jajpur\n",
      "Title: Brahmeswara Temple, Link: https://en.wikipedia.org/wiki/Brahmeswara_Temple\n",
      "Title: Brahma Temple, Bindusagar, Link: https://en.wikipedia.org/wiki/Brahma_Temple,_Bindusagar\n",
      "Title: Bhattarika Temple, Link: https://en.wikipedia.org/wiki/Bhattarika_Temple\n",
      "Title: Chakreshvari Siva Temple, Link: https://en.wikipedia.org/wiki/Chakreshvari_Siva_Temple\n",
      "Title: Chakresvara Tank, Link: https://en.wikipedia.org/wiki/Chakresvara_Tank\n",
      "Title: Cuttack Chandi Temple, Link: https://en.wikipedia.org/wiki/Cuttack_Chandi_Temple\n",
      "Title: Charchika Temple, Link: https://en.wikipedia.org/wiki/Charchika_Temple\n",
      "Title: Chateshwar Temple, Link: https://en.wikipedia.org/wiki/Chateshwar_Temple\n",
      "Title: Dishisvara Siva Temple, Link: https://en.wikipedia.org/wiki/Dishisvara_Siva_Temple\n",
      "Title: Dhabaleswar, Link: https://en.wikipedia.org/wiki/Dhabaleswar\n",
      "Title: Durga Temple, Motia, Link: https://en.wikipedia.org/wiki/Durga_Temple,_Motia\n",
      "Title: Dharakote, Link: https://en.wikipedia.org/wiki/Dharakote\n",
      "Title: Gupteswar Cave, Link: https://en.wikipedia.org/wiki/Gupteswar_Cave\n",
      "Title: Harishankar Temple, Link: https://en.wikipedia.org/wiki/Harishankar_Temple\n",
      "Title: Harihara Deula, Link: https://en.wikipedia.org/wiki/Harihara_Deula\n",
      "Title: Boudh, Link: https://en.wikipedia.org/wiki/Boudh\n",
      "Title: Jagannath Temple, Puri, Link: https://en.wikipedia.org/wiki/Jagannath_Temple,_Puri\n",
      "Title: Puri, Link: https://en.wikipedia.org/wiki/Puri\n",
      "Title: Jagannath Temple, Koraput, Link: https://en.wikipedia.org/wiki/Jagannath_Temple,_Koraput\n",
      "Title: Koraput, Link: https://en.wikipedia.org/wiki/Koraput\n",
      "Title: Jagannath Temple, Baripada, Link: https://en.wikipedia.org/wiki/Jagannath_Temple,_Baripada\n",
      "Title: Mayurbhanj, Link: https://en.wikipedia.org/wiki/Mayurbhanj\n",
      "Title: Jagannath Temple, Nayagarh, Link: https://en.wikipedia.org/wiki/Jagannath_Temple,_Nayagarh\n",
      "Title: Nayagarh, Link: https://en.wikipedia.org/wiki/Nayagarh\n",
      "Title: Jaleswar Siva Temple Precinct, Link: https://en.wikipedia.org/wiki/Jaleswar_Siva_Temple_Precinct\n",
      "Title: Kapilash Temple, Link: https://en.wikipedia.org/wiki/Kapilash_Temple\n",
      "Title: Kapilesvara Siva Temple, Link: https://en.wikipedia.org/wiki/Kapilesvara_Siva_Temple\n",
      "Title: Kalabhairavi Temple, Link: https://en.wikipedia.org/wiki/Kalabhairavi_Temple\n",
      "Title: Kalikadevi Temple, Link: https://en.wikipedia.org/wiki/Kalikadevi_Temple\n",
      "Title: Kakatpur Mangala Temple, Link: https://en.wikipedia.org/wiki/Kakatpur_Mangala_Temple\n",
      "Title: Khiching, Link: https://en.wikipedia.org/wiki/Khiching\n",
      "Title: Kedareswar Temple, Link: https://en.wikipedia.org/wiki/Kedareswar_Temple\n",
      "Title: Khirachora Gopinatha Temple, Link: https://en.wikipedia.org/wiki/Khirachora_Gopinatha_Temple\n",
      "Title: Remuna, Link: https://en.wikipedia.org/wiki/Remuna\n",
      "Title: Balasore, Link: https://en.wikipedia.org/wiki/Balasore\n",
      "Title: Konark Sun Temple, Link: https://en.wikipedia.org/wiki/Konark_Sun_Temple\n",
      "Title: Konark, Link: https://en.wikipedia.org/wiki/Konark\n",
      "Title: Kichakeshwari Temple, Link: https://en.wikipedia.org/wiki/Kichakeshwari_Temple\n",
      "Title: Lankeswari Temple, Link: https://en.wikipedia.org/wiki/Lankeswari_Temple\n",
      "Title: Sonepur, Link: https://en.wikipedia.org/wiki/Sonepur,_Orissa\n",
      "Title: Lingaraj Temple, Link: https://en.wikipedia.org/wiki/Lingaraj_Temple\n",
      "Title: Lokanatha Temple, Link: https://en.wikipedia.org/wiki/Lokanatha_Temple\n",
      "Title: Maa Taratarini Temple, Link: https://en.wikipedia.org/wiki/Maa_Taratarini_Temple\n",
      "Title: Adi Shakti, Link: https://en.wikipedia.org/wiki/Adi_Shakti\n",
      "Title: Maa Tarini Temple, Link: https://en.wikipedia.org/wiki/Maa_Tarini\n",
      "Title: Ghatgaon, Link: https://en.wikipedia.org/wiki/Ghatgaon\n",
      "Title: Kendujhar, Link: https://en.wikipedia.org/wiki/Kendujhar\n",
      "Title: Madneswar Siva Temple, Link: https://en.wikipedia.org/wiki/Madneswar_Siva_Temple\n",
      "Title: Mahabhoi Sasana Tank, Link: https://en.wikipedia.org/wiki/Mahabhoi_Sasana_Tank\n",
      "Title: Mahakala-Mahakali Temple, Link: https://en.wikipedia.org/wiki/Mahakala-Mahakali_Temple\n",
      "Title: Mangalesvara Siva Temple, Link: https://en.wikipedia.org/wiki/Mangalesvara_Siva_Temple\n",
      "Title: Manibhadresvara Siva Temple – I, Link: https://en.wikipedia.org/wiki/Manibhadresvara_Siva_Temple_%E2%80%93_I\n",
      "Title: Manibhadresvara Temple – II, Link: https://en.wikipedia.org/wiki/Manibhadresvara_Temple_%E2%80%93_II\n",
      "Title: Manikeshwari Temple, Link: https://en.wikipedia.org/wiki/Manikeshwari_Temple\n",
      "Title: Bhawanipatna, Link: https://en.wikipedia.org/wiki/Bhawanipatna\n",
      "Title: Kalahandi, Link: https://en.wikipedia.org/wiki/Kalahandi\n",
      "Title: Markandeshwar Temple, Link: https://en.wikipedia.org/wiki/Markandeshwar_Temple\n",
      "Title: Mausimaa Temple, Link: https://en.wikipedia.org/wiki/Mausimaa_Temple\n",
      "Title: Mukteshvara Temple, Bhubaneswar, Link: https://en.wikipedia.org/wiki/Mukteshvara_Temple,_Bhubaneswar\n",
      "Title: Manikeshwari Temple, Link: https://en.wikipedia.org/wiki/Manikeshwari_Temple\n",
      "Title: Maa Ugra Tara, Link: https://en.wikipedia.org/wiki/Maa_Ugra_Tara\n",
      "Title: Mahavinayak Temple, Link: https://en.wikipedia.org/wiki/Mahavinayak_Temple\n",
      "Title: Mahendragiri, Orissa, Link: https://en.wikipedia.org/wiki/Mahendragiri,_Orissa\n",
      "Title: Markandeshwar Temple, Link: https://en.wikipedia.org/wiki/Markandeshwar_Temple\n",
      "Title: Nrusinghanath Temple, Link: https://en.wikipedia.org/wiki/Nrusinghanath_Temple\n",
      "Title: Narayana Gosain Temple, Link: https://en.wikipedia.org/wiki/Narayana_Gosain_Temple\n",
      "Title: Nilamadhav Temple, Link: https://en.wikipedia.org/wiki/Nilamadhav_Temple\n",
      "Title: Narayani Temple, Link: https://en.wikipedia.org/wiki/Narayani_Temple\n",
      "Title: Nagesvara Temple, Bhubaneswar, Link: https://en.wikipedia.org/wiki/Nagesvara_Temple,_Bhubaneswar\n",
      "Title: Nilkantheswar Shiva temple, Link: https://en.wikipedia.org/wiki/Nilkantheswar_Shiva_temple\n",
      "Title: Pabaneswara temple, Link: https://en.wikipedia.org/wiki/Pabaneswara_temple\n",
      "Title: Paschimesvara Siva Temple, Link: https://en.wikipedia.org/wiki/Paschimesvara_Siva_Temple\n",
      "Title: Patalesvara Siva temple – I, Link: https://en.wikipedia.org/wiki/Patalesvara_Siva_temple_%E2%80%93_I\n",
      "Title: Patalesvara Siva Temple – II, Link: https://en.wikipedia.org/wiki/Patalesvara_Siva_Temple_%E2%80%93_II\n",
      "Title: Patalesvara Siva Temple – III, Link: https://en.wikipedia.org/wiki/Patalesvara_Siva_Temple_%E2%80%93_III\n",
      "Title: Patali Srikhetra, Link: https://en.wikipedia.org/wiki/Patali_Srikhetra\n",
      "Title: Subarnapur, Link: https://en.wikipedia.org/wiki/Sonepur,_Orissa\n",
      "Title: Papanasini Siva Temple, Link: https://en.wikipedia.org/wiki/Papanasini_Siva_Temple\n",
      "Title: Parvati Temple, Link: https://en.wikipedia.org/wiki/Parvati_Temple,_Odisha\n",
      "Title: Panchalingeshwar, Link: https://en.wikipedia.org/wiki/Panchalingeshwar\n",
      "Title: Parsurameswar Temple, Link: https://en.wikipedia.org/wiki/Parsurameswar_Temple\n",
      "Title: Rajarani Temple, Link: https://en.wikipedia.org/wiki/Rajarani_Temple\n",
      "Title: Ram Mandir, Janpath, Link: https://en.wikipedia.org/wiki/Ram_Mandir,_Janpath\n",
      "Title: Ramachandi Temple, Link: https://en.wikipedia.org/wiki/Ramachandi_Temple\n",
      "Title: Rameshwar Deula, Link: https://en.wikipedia.org/wiki/Rameshwar_Deula\n",
      "Title: Samaleswari Temple, Link: https://en.wikipedia.org/wiki/Samaleswari_Temple\n",
      "Title: Sanisvara Siva Temple, Link: https://en.wikipedia.org/wiki/Sanisvara_Siva_Temple\n",
      "Title: Sarala Temple, Link: https://en.wikipedia.org/wiki/Sarala_Temple\n",
      "Title: Sivatirtha Matha, Old Town, Link: https://en.wikipedia.org/wiki/Sivatirtha_Matha,_Old_Town\n",
      "Title: Subarnesvara Siva Temple, Link: https://en.wikipedia.org/wiki/Subarnesvara_Siva_Temple\n",
      "Title: Suka Temple, Link: https://en.wikipedia.org/wiki/Suka_Temple\n",
      "Title: Sukutesvara Temple, Link: https://en.wikipedia.org/wiki/Sukutesvara_Temple\n",
      "Title: Sundaresvara Siva Temple, Link: https://en.wikipedia.org/wiki/Sundaresvara_Siva_Temple\n",
      "Title: Svapnesvara Siva Temple, Link: https://en.wikipedia.org/wiki/Svapnesvara_Siva_Temple\n",
      "Title: Swarnadhisvara Siva Temple, Link: https://en.wikipedia.org/wiki/Swarnadhisvara_Siva_Temple\n",
      "Title: Simhanath Temple, Link: https://en.wikipedia.org/wiki/Simhanath_Temple\n",
      "Title: Sakshigopal Temple, Link: https://en.wikipedia.org/wiki/Sakshigopal_Temple\n",
      "Title: Saptamatruka Temple, Link: https://en.wikipedia.org/wiki/Saptamatruka_Temple\n",
      "Title: Subarnameru Temple, Link: https://en.wikipedia.org/wiki/Subarnameru_Temple\n",
      "Title: Sureswari temple, Link: https://en.wikipedia.org/wiki/Sureswari_temple\n",
      "Title: Talesvara Siva Temple, Link: https://en.wikipedia.org/wiki/Talesvara_Siva_Temple\n",
      "Title: Talesavara Siva Temple – II, Link: https://en.wikipedia.org/wiki/Talesavara_Siva_Temple_%E2%80%93_II\n",
      "Title: Tirthesvara Siva temple, Link: https://en.wikipedia.org/wiki/Tirthesvara_Siva_temple\n",
      "Title: The Leaning Temple of Huma, Link: https://en.wikipedia.org/wiki/The_Leaning_Temple_of_Huma\n",
      "Title: Upper Bagh Devi Temple, Link: https://en.wikipedia.org/wiki/Upper_Bagh_Devi_Temple\n",
      "Title: Uttaresvara Siva Temple, Link: https://en.wikipedia.org/wiki/Uttaresvara_Siva_Temple\n",
      "Title: Vishnu Temple, Bhubaneswar, Link: https://en.wikipedia.org/wiki/Vishnu_Temple,_Bhubaneswar\n",
      "Title: Visvanatha Shiva Temple, Bhubaneswar, Link: https://en.wikipedia.org/wiki/Visvanatha_Shiva_Temple,_Bhubaneswar\n",
      "Title: Vaital Deula, Link: https://en.wikipedia.org/wiki/Vaital_Deula\n",
      "Title: Varahi Deula, Chaurasi, Link: https://en.wikipedia.org/wiki/Varahi_Deula,_Chaurasi\n",
      "Title: Vaishnodevi Temple, Link: https://en.wikipedia.org/wiki/Vaishnodevi_Temple\n",
      "Title: Rourkela, Link: https://en.wikipedia.org/wiki/Rourkela\n",
      "Title: Yajna Nrisimha Temple, Link: https://en.wikipedia.org/wiki/Yajna_Nrisimha_Temple\n",
      "Title: Yameshwar Temple, Link: https://en.wikipedia.org/wiki/Yameshwar_Temple\n",
      "Title: Yamesvara Tank (Nala Kunda), Link: https://en.wikipedia.org/wiki/Yamesvara_Tank_(Nala_Kunda)\n",
      "Title: edit, Link: https://en.wikipedia.org/w/index.php?title=List_of_Hindu_temples_in_India&action=edit&section=20\n",
      "Title: Durgiana Temple, Link: https://en.wikipedia.org/wiki/Durgiana_Temple\n",
      "Title: Shri Kali Devi Temple Patiala, Link: https://en.wikipedia.org/wiki/Shri_Kali_Devi_Temple_Patiala\n",
      "Title: Patiala, Link: https://en.wikipedia.org/wiki/Patiala\n",
      "Title: Baba Kanaiya Gir, Link: https://en.wikipedia.org/w/index.php?title=Baba_Kanaiya_Gir&action=edit&redlink=1\n",
      "Title: Mukerian, Link: https://en.wikipedia.org/wiki/Mukerian\n",
      "Title: Durgiana Temple, Link: https://en.wikipedia.org/wiki/Durgiana_Temple\n",
      "Title: Amritsar, Link: https://en.wikipedia.org/wiki/Amritsar\n",
      "Title: Julfa Mata Temple, Link: https://en.wikipedia.org/wiki/Julfa_Mata_Temple\n",
      "Title: Nangal, Link: https://en.wikipedia.org/wiki/Nangal\n",
      "Title: Maiser Khana, Link: https://en.wikipedia.org/wiki/Maiser_Khana\n",
      "Title: Mukteshwar Mahadev Temple, Link: https://en.wikipedia.org/wiki/Mukteshwar_Mahadev_Temple\n",
      "Title: Suraj Kund Sunam, Link: https://en.wikipedia.org/wiki/Suraj_Kund_Sunam\n",
      "Title: Sunam, Link: https://en.wikipedia.org/wiki/Sunam\n",
      "Title: Golden Temple, Link: https://en.wikipedia.org/wiki/Golden_Temple\n",
      "Title: Amritsar, Link: https://en.wikipedia.org/wiki/Amritsar\n",
      "Title: Sikh, Link: https://en.wikipedia.org/wiki/Sikh\n",
      "Title: edit, Link: https://en.wikipedia.org/w/index.php?title=List_of_Hindu_temples_in_India&action=edit&section=21\n",
      "Title: Birla Mandir, Link: https://en.wikipedia.org/wiki/Birla_Mandir,_Jaipur\n",
      "Title: Birla Mandir, Link: https://en.wikipedia.org/wiki/Birla_Mandir,_Jaipur\n",
      "Title: Rajasthan, Link: https://en.wikipedia.org/wiki/Rajasthan\n",
      "Title: Karni Mata Temple, Link: https://en.wikipedia.org/wiki/Karni_Mata_Temple\n",
      "Title: Deshnoke, Link: https://en.wikipedia.org/wiki/Deshnoke\n",
      "Title: Sanwaliaji temple, Link: https://en.wikipedia.org/wiki/Sanwaliaji_temple\n",
      "Title: Kalika Mata Temple, Link: https://en.wikipedia.org/wiki/Kalika_Mata_Temple,_Chittorgarh_Fort\n",
      "Title: Chittor Fort, Link: https://en.wikipedia.org/wiki/Chittor_Fort\n",
      "Title: Salasar Balaji temple, Link: https://en.wikipedia.org/wiki/Salasar_Balaji\n",
      "Title: Salasar, Link: https://en.wikipedia.org/wiki/Salasar\n",
      "Title: Kaila Devi temple, Link: https://en.wikipedia.org/wiki/Kaila_devi\n",
      "Title: Kaila devi, Link: https://en.wikipedia.org/wiki/Kaila_devi\n",
      "Title: Karauli, Link: https://en.wikipedia.org/wiki/Karauli\n",
      "Title: Krishna temple, Link: https://en.wikipedia.org/wiki/Madan_Mohan\n",
      "Title: Karauli, Link: https://en.wikipedia.org/wiki/Karauli\n",
      "Title: Mehandipur Balaji Temple, Link: https://en.wikipedia.org/wiki/Mehandipur_Balaji_Temple\n",
      "Title: Todabhim, Link: https://en.wikipedia.org/wiki/Todabhim\n",
      "Title: Narsinghji Temple, Link: https://en.wikipedia.org/wiki/Narsinghji_Temple\n",
      "Title: Hindaun City, Link: https://en.wikipedia.org/wiki/Hindaun_City\n",
      "Title: Nakkash Ki Devi - Gomti Dham, Link: https://en.wikipedia.org/wiki/Nakkash_Ki_Devi_-_Gomti_Dham\n",
      "Title: Hindaun City, Link: https://en.wikipedia.org/wiki/Hindaun_City\n",
      "Title: Kyarda Hanumanji Temple, Link: https://en.wikipedia.org/wiki/Kyarda_Hanumanji_Temple\n",
      "Title: Hindaun City, Link: https://en.wikipedia.org/wiki/Hindaun_City\n",
      "Title: Shri Charbhuja temple, Link: https://en.wikipedia.org/wiki/Charbhuja\n",
      "Title: Rajsamand District, Link: https://en.wikipedia.org/wiki/Rajsamand_District\n",
      "Title: Shrinathji temple, Link: https://en.wikipedia.org/wiki/Shrinathji\n",
      "Title: Nathdwara, Link: https://en.wikipedia.org/wiki/Nathdwara\n",
      "Title: Jeen Mata Temple, Link: https://en.wikipedia.org/wiki/Jeen_Mata\n",
      "Title: Eklingji Mahadev Temple, Link: https://en.wikipedia.org/wiki/Eklingji\n",
      "Title: Ambika Mata Temple, Link: https://en.wikipedia.org/wiki/Ambika_Mata_Temple\n",
      "Title: Neemach Mata Temple, Link: https://en.wikipedia.org/wiki/Neemach_Mata_Temple\n",
      "Title: Jagdish temple, Link: https://en.wikipedia.org/wiki/Udaipur#Jagdish_Temple\n",
      "Title: Bohra Ganesh temple, Link: https://en.wikipedia.org/wiki/Udaipur#Bohara_Ganesh_JI\n",
      "Title: Khatushyamji, Link: https://en.wikipedia.org/wiki/Khatushyamji,_Rajasthan\n",
      "Title: Osian, Jodhpur, Link: https://en.wikipedia.org/wiki/Osian,_Jodhpur\n",
      "Title: edit, Link: https://en.wikipedia.org/w/index.php?title=List_of_Hindu_temples_in_India&action=edit&section=22\n",
      "Title: Hanuman Tok, Link: https://en.wikipedia.org/wiki/Hanuman_Tok\n",
      "Title: Kirateshwar Mahadev Temple, Link: https://en.wikipedia.org/wiki/Kirateshwar_Mahadev_Temple\n",
      "Title: Legship, Link: https://en.wikipedia.org/wiki/Legship\n",
      "Title: Thakurbari Temple, Gangtok, Link: https://en.wikipedia.org/wiki/Thakurbari_Temple,_Gangtok\n",
      "Title: edit, Link: https://en.wikipedia.org/w/index.php?title=List_of_Hindu_temples_in_India&action=edit&section=23\n",
      "Title: List of temples in Tamil Nadu, Link: https://en.wikipedia.org/wiki/List_of_temples_in_Tamil_Nadu\n",
      "Title: Shore Temple, Link: https://en.wikipedia.org/wiki/Shore_Temple\n",
      "Title: Meenakshi Amman Temple, Link: https://en.wikipedia.org/wiki/Meenakshi_Amman_Temple\n",
      "Title: Kapaleeshwarar Temple, Link: https://en.wikipedia.org/wiki/Kapaleeshwarar_Temple\n",
      "Title: Gangaikonda Cholapuram, Link: https://en.wikipedia.org/wiki/Gangaikonda_Cholapuram\n",
      "Title: Karpaka Vinayakar Temple, Link: https://en.wikipedia.org/wiki/Karpaka_Vinayakar_Temple\n",
      "Title: Ucchi Pillayar Temple, Link: https://en.wikipedia.org/wiki/Ucchi_Pillayar_Temple\n",
      "Title: Manakula Vinayagar Temple, Link: https://en.wikipedia.org/wiki/Manakula_Vinayagar_Temple\n",
      "Title: Meenakshi Amman Temple, Link: https://en.wikipedia.org/wiki/Meenakshi_Amman_Temple\n",
      "Title: Palani Murugan Temple, Link: https://en.wikipedia.org/wiki/Palani_Murugan_Temple\n",
      "Title: Pulikundram Sri Lakshmi Narayana Temple, Link: https://en.wikipedia.org/w/index.php?title=Pulikundram_Sri_Lakshmi_Narayana_Temple&action=edit&redlink=1\n",
      "Title: Pulikkundram, Link: https://en.wikipedia.org/wiki/Pulikkundram\n",
      "Title: Mahabalipuram, Link: https://en.wikipedia.org/wiki/Mahabalipuram\n",
      "Title: Thirukalukundram, Link: https://en.wikipedia.org/wiki/Thirukalukundram\n",
      "Title: Swamimalai Murugan Temple, Link: https://en.wikipedia.org/wiki/Swamimalai_Murugan_Temple\n",
      "Title: Thiruchendur Murugan Temple, Link: https://en.wikipedia.org/wiki/Thiruchendur_Murugan_Temple\n",
      "Title: Tirupparankunram Murugan Temple, Link: https://en.wikipedia.org/wiki/Tirupparankunram_Murugan_Temple\n",
      "Title: Thiruthani Murugan Temple, Link: https://en.wikipedia.org/wiki/Thiruthani_Murugan_Temple\n",
      "Title: Pazhamudhircholai Temple, Link: https://en.wikipedia.org/wiki/Pazhamudircholai\n",
      "Title: Sikkal Singaravelan Temple, Link: https://en.wikipedia.org/wiki/Sikkal_Singaravelan_Temple\n",
      "Title: Thindal Murugan Temple, Link: https://en.wikipedia.org/wiki/Thindal_Murugan_Temple\n",
      "Title: Pachaimalai Subramanya Swamy Temple, Link: https://en.wikipedia.org/wiki/Pachaimalai_Subramanya_Swamy_Temple\n",
      "Title: Gangaikonda Cholapuram Temple, Link: https://en.wikipedia.org/wiki/Gangaikonda_Cholapuram\n",
      "Title: Nellaiappar Temple, Link: https://en.wikipedia.org/wiki/Nellaiappar_Temple\n",
      "Title: Tirunelveli, Link: https://en.wikipedia.org/wiki/Tirunelveli\n",
      "Title: Sankaranaraya swamy temple, Link: https://en.wikipedia.org/wiki/Sankaranayinarkoil\n",
      "Title: Brihadeeswarar Temple, Link: https://en.wikipedia.org/wiki/Brihadeeswarar_Temple\n",
      "Title: Thanjavur, Link: https://en.wikipedia.org/wiki/Thanjavur\n",
      "Title: Vaitheeshwaran Temple, Link: https://en.wikipedia.org/wiki/Vaitheeswaran_Koil\n",
      "Title: Mayuram, Link: https://en.wikipedia.org/wiki/Mayuram\n",
      "Title: Jalakandeswarar Temple, Vellore, Link: https://en.wikipedia.org/wiki/Jalakandeswarar_Temple,_Vellore\n",
      "Title: Kapaleeshwarar Temple, Link: https://en.wikipedia.org/wiki/Kapaleeshwarar_Temple\n",
      "Title: Ramanathaswamy Temple, Link: https://en.wikipedia.org/wiki/Ramanathaswamy_Temple\n",
      "Title: Jambukeswarar Temple, Thiruvanaikaval, Link: https://en.wikipedia.org/wiki/Jambukeswarar_Temple,_Thiruvanaikaval\n",
      "Title: Annamalaiyar Temple, Link: https://en.wikipedia.org/wiki/Annamalaiyar_Temple\n",
      "Title: Thillai Nataraja Temple, Link: https://en.wikipedia.org/wiki/Thillai_Nataraja_Temple\n",
      "Title: Vedapureeswarar Temple, Link: https://en.wikipedia.org/wiki/Vedapureeswarar_Temple,_Puducherry\n",
      "Title: Thyagaraja Temple, Link: https://en.wikipedia.org/wiki/Thyagaraja_Temple,_Tiruvarur\n",
      "Title: Ekambaranathar Temple, Link: https://en.wikipedia.org/wiki/Ekambareswarar_Temple_(Kanchipuram)\n",
      "Title: Virdhgiriswarar Temple, Link: https://en.wikipedia.org/wiki/Vriddhagiriswarar_Temple,_Vriddhachalam\n",
      "Title: Nageeswarar Temple, Kumbakonam, Link: https://en.wikipedia.org/wiki/Nageswaraswamy_Temple,_Kumbakonam\n",
      "Title: Sangameswarar Temple, Link: https://en.wikipedia.org/wiki/Sangameswarar_Temple\n",
      "Title: Natadreeswarar Temple, Link: https://en.wikipedia.org/wiki/Natadreeswarar_Temple\n",
      "Title: Brahmapureeswarar Temple, Link: https://en.wikipedia.org/wiki/Brahmapureeswarar_Temple\n",
      "Title: Sangameswarar Temple, Link: https://en.wikipedia.org/wiki/Sangameswarar_Temple\n",
      "Title: Oppliyappan Temple, Link: https://en.wikipedia.org/wiki/Oppliyappan_Temple\n",
      "Title: Srivilliputhur Andal Temple, Link: https://en.wikipedia.org/wiki/Srivilliputhur_Andal_Temple\n",
      "Title: Sri Anandha Vinayagar temple, Noothenchery, Link: https://en.wikipedia.org/w/index.php?title=Sri_Anandha_Vinayagar_temple,_Noothenchery&action=edit&redlink=1\n",
      "Title: Sri Ranganathaswamy Temple, Link: https://en.wikipedia.org/wiki/Sri_Ranganathaswamy_Temple\n",
      "Title: Sri Rama Bhaktha Anjaneyar temple, Link: https://en.wikipedia.org/wiki/Sri_Rama_Bhaktha_Anjaneyar_temple\n",
      "Title: Bhaktha Anjaneyar, Link: https://en.wikipedia.org/wiki/Bhaktha_Anjaneyar\n",
      "Title: Anjaneya Temple, Nanganallur, Link: https://en.wikipedia.org/wiki/Anjaneya_Temple,_Nanganallur\n",
      "Title: Gomathi Amman, Link: https://en.wikipedia.org/wiki/Gomathi_Amman\n",
      "Title: Mondaicaud Bhagavathi Temple, Link: https://en.wikipedia.org/wiki/Mondaicaud_Bhagavathi_Temple\n",
      "Title: PunnaiNallur Mariamman, Link: https://en.wikipedia.org/wiki/PunnaiNallur_Mariamman\n",
      "Title: Shore Temple, Link: https://en.wikipedia.org/wiki/Shore_Temple\n",
      "Title: Sri Danvantri Arogya Peedam, Walajapet, Vellore, Link: https://en.wikipedia.org/w/index.php?title=Sri_Danvantri_Arogya_Peedam,_Walajapet,_Vellore&action=edit&redlink=1\n",
      "Title: Tirunallar Dharbaranyeswarar Temple, Link: https://en.wikipedia.org/wiki/Tirunallar_Dharbaranyeswarar_Temple\n",
      "Title: edit, Link: https://en.wikipedia.org/w/index.php?title=List_of_Hindu_temples_in_India&action=edit&section=24\n",
      "Title: Ramappa Temple, Link: https://en.wikipedia.org/wiki/Ramappa_Temple\n",
      "Title: Bhadrachalam Temple, Link: https://en.wikipedia.org/wiki/Bhadrachalam_Temple\n",
      "Title: Gnana Saraswati Temple, Link: https://en.wikipedia.org/wiki/Gnana_Saraswati_Temple,_Basar\n",
      "Title: Ashtalakshmi Temple, Link: https://en.wikipedia.org/wiki/Ashtalakshmi_Temple,_Hyderabad\n",
      "Title: Chilkur Balaji Temple, Link: https://en.wikipedia.org/wiki/Chilkur_Balaji_Temple\n",
      "Title: Hyderabad Kalibari, Link: https://en.wikipedia.org/wiki/Hyderabad_Kalibari\n",
      "Title: Karmanghat Hanuman Temple, Link: https://en.wikipedia.org/wiki/Karmanghat_Hanuman_Temple\n",
      "Title: Ujjaini Mahakali Temple, Link: https://en.wikipedia.org/wiki/Ujjaini_Mahakali_Temple\n",
      "Title: Sitaram Bagh temple, Link: https://en.wikipedia.org/wiki/Sitaram_Bagh_temple\n",
      "Title: Kondagattu Temple, Link: https://en.wikipedia.org/wiki/Kondagattu\n",
      "Title: Bhadrachalam Temple, Link: https://en.wikipedia.org/wiki/Bhadrachalam_Temple\n",
      "Title: Wargal Saraswati Temple, Link: https://en.wikipedia.org/wiki/Wargal_Saraswati_Temple\n",
      "Title: Kuchadri sri venkateshwara swamy temple, Link: https://en.wikipedia.org/wiki/Kuchadri_sri_venkateshwara_swamy_temple\n",
      "Title: Kuchanpally, Link: https://en.wikipedia.org/wiki/Kuchanpally\n",
      "Title: Yadadri Narasimha Swamy temple, Link: https://en.wikipedia.org/wiki/Yadagirigutta_Temple\n",
      "Title: Dichpally Ramalayam, Link: https://en.wikipedia.org/wiki/Dichpally_Ramalayam\n",
      "Title: Keesaragutta Temple, Link: https://en.wikipedia.org/wiki/Keesaragutta_Temple\n",
      "Title: Ananthagiri Temple, Link: https://en.wikipedia.org/wiki/Ananthagiri_Temple\n",
      "Title: Bhadrakali Temple, Link: https://en.wikipedia.org/wiki/Bhadrakali_Temple,_Warangal\n",
      "Title: Komuravelli Mallikharjuna Temple, Link: https://en.wikipedia.org/wiki/Komrelly_Mallanna_Temple\n",
      "Title: Padmakshi Temple, Link: https://en.wikipedia.org/wiki/Padmakshi_Temple\n",
      "Title: Ramappa Temple, Link: https://en.wikipedia.org/wiki/Ramappa_Temple\n",
      "Title: Sammakka Sarakka Devathalu, Link: https://en.wikipedia.org/wiki/Sammakka_Saralamma_Jatara\n",
      "Title: Thousand Pillar Temple, Link: https://en.wikipedia.org/wiki/Thousand_Pillar_Temple\n",
      "Title: vemulavada Sri raja rajeshwara swamy, Link: https://en.wikipedia.org/w/index.php?title=Vemulavada_Sri_raja_rajeshwara_swamy&action=edit&redlink=1\n",
      "Title: edit, Link: https://en.wikipedia.org/w/index.php?title=List_of_Hindu_temples_in_India&action=edit&section=25\n",
      "Title: Agartala Jagannath Mandir, Link: https://en.wikipedia.org/wiki/Agartala_Jagannath_Mandir\n",
      "Title: Bhuvaneshwar Temple, Tripura, Link: https://en.wikipedia.org/w/index.php?title=Bhuvaneshwar_Temple,_Tripura&action=edit&redlink=1\n",
      "Title: Battala Mahadev Mandir, Link: https://en.wikipedia.org/w/index.php?title=Battala_Mahadev_Mandir&action=edit&redlink=1\n",
      "Title: Chaturdasha Temple, Link: https://en.wikipedia.org/wiki/Chaturdasha_Temple\n",
      "Title: Durga Bari, Agartala, Link: https://en.wikipedia.org/w/index.php?title=Durga_Bari,_Agartala&action=edit&redlink=1\n",
      "Title: Jagannath Dighi Mandir, Link: https://en.wikipedia.org/w/index.php?title=Jagannath_Dighi_Mandir&action=edit&redlink=1\n",
      "Title: Lakshmi Narayan Temple, Agartala, Link: https://en.wikipedia.org/wiki/Lakshmi_Narayan_Temple,_Agartala\n",
      "Title: Loknath Mandir, Link: https://en.wikipedia.org/w/index.php?title=Loknath_Mandir&action=edit&redlink=1\n",
      "Title: Tripura Sundari temple, Link: https://en.wikipedia.org/wiki/Tripura_Sundari_temple\n",
      "Title: Sri Pancha Devta Mandir, Link: https://en.wikipedia.org/w/index.php?title=Sri_Pancha_Devta_Mandir&action=edit&redlink=1\n",
      "Title: Umaneshwar Mandir, Link: https://en.wikipedia.org/w/index.php?title=Umaneshwar_Mandir&action=edit&redlink=1\n",
      "Title: Unakoti, Link: https://en.wikipedia.org/wiki/Unakoti\n",
      "Title: edit, Link: https://en.wikipedia.org/w/index.php?title=List_of_Hindu_temples_in_India&action=edit&section=26\n",
      "Title: Chota Char Dham, Link: https://en.wikipedia.org/wiki/Chota_Char_Dham\n",
      "Title: Kedarnath, Link: https://en.wikipedia.org/wiki/Kedarnath_Temple\n",
      "Title: Badrinath, Link: https://en.wikipedia.org/wiki/Badrinath_Temple\n",
      "Title: Gangotri, Link: https://en.wikipedia.org/wiki/Gangotri\n",
      "Title: Yamunotri, Link: https://en.wikipedia.org/wiki/Yamunotri_Temple\n",
      "Title: view, Link: https://en.wikipedia.org/wiki/Template:Chota_Char_Dham\n",
      "Title: talk, Link: https://en.wikipedia.org/wiki/Template_talk:Chota_Char_Dham\n",
      "Title: edit, Link: https://en.wikipedia.org//en.wikipedia.org/w/index.php?title=Template:Chota_Char_Dham&action=edit\n",
      "Title: Kedarnath Temple, Link: https://en.wikipedia.org/wiki/Kedarnath_Temple\n",
      "Title: Jageshwar, Link: https://en.wikipedia.org/wiki/Jageshwar\n",
      "Title: Golu Devata, Link: https://en.wikipedia.org/wiki/Golu_Devata\n",
      "Title: Chitai, Link: https://en.wikipedia.org/wiki/Chitai\n",
      "Title: Jageshwar, Link: https://en.wikipedia.org/wiki/Jageshwar\n",
      "Title: Badrinath temple, Link: https://en.wikipedia.org/wiki/Badrinath_temple\n",
      "Title: Badrinath, Link: https://en.wikipedia.org/wiki/Badrinath\n",
      "Title: Gopinath Mandir, Link: https://en.wikipedia.org/wiki/Gopinath_Mandir\n",
      "Title: Chamoli Gopeshwar, Link: https://en.wikipedia.org/wiki/Chamoli_Gopeshwar\n",
      "Title: Hemkund Sahib, Link: https://en.wikipedia.org/wiki/Hemkund_Sahib\n",
      "Title: Govindghat, Link: https://en.wikipedia.org/wiki/Govindghat\n",
      "Title: Jyotirmath, Link: https://en.wikipedia.org/wiki/Jyotirmath\n",
      "Title: Kalpeshwar, Link: https://en.wikipedia.org/wiki/Kalpeshwar\n",
      "Title: Karnaprayag, Link: https://en.wikipedia.org/wiki/Karnaprayag\n",
      "Title: Nandaprayag, Link: https://en.wikipedia.org/wiki/Nandaprayag\n",
      "Title: Rudranath, Link: https://en.wikipedia.org/wiki/Rudranath\n",
      "Title: Tungnath, Link: https://en.wikipedia.org/wiki/Tungnath\n",
      "Title: Baleshwar Temple, Link: https://en.wikipedia.org/wiki/Baleshwar_Temple\n",
      "Title: Champawat, Link: https://en.wikipedia.org/wiki/Champawat\n",
      "Title: Mahasu Devta Temple, Link: https://en.wikipedia.org/wiki/Mahasu_Devta_Temple\n",
      "Title: Rishikesh, Link: https://en.wikipedia.org/wiki/Rishikesh\n",
      "Title: Chandi Devi Temple, Link: https://en.wikipedia.org/wiki/Chandi_Devi_Temple,_Haridwar\n",
      "Title: Haridwar, Link: https://en.wikipedia.org/wiki/Haridwar\n",
      "Title: Daksheswara Mahadev Temple, Link: https://en.wikipedia.org/wiki/Daksheswara_Mahadev_Temple\n",
      "Title: Kankhal, Link: https://en.wikipedia.org/wiki/Kankhal\n",
      "Title: Har ki Pauri, Link: https://en.wikipedia.org/wiki/Har_ki_Pauri\n",
      "Title: Haridwar, Link: https://en.wikipedia.org/wiki/Haridwar\n",
      "Title: Mansa Devi Temple, Link: https://en.wikipedia.org/wiki/Mansa_Devi_Temple,_Haridwar\n",
      "Title: Haridwar, Link: https://en.wikipedia.org/wiki/Haridwar\n",
      "Title: Maya Devi Temple, Link: https://en.wikipedia.org/wiki/Maya_Devi_Temple,_Haridwar\n",
      "Title: Haridwar, Link: https://en.wikipedia.org/wiki/Haridwar\n",
      "Title: Garjiya Devi Temple, Link: https://en.wikipedia.org/wiki/Garjiya_Devi_Temple\n",
      "Title: Ramnagar, Link: https://en.wikipedia.org/wiki/Ramnagar,_Uttarakhand\n",
      "Title: Neelkanth Mahadev Temple, Link: https://en.wikipedia.org/wiki/Neelkanth_Mahadev_Temple\n",
      "Title: Rishikesh, Link: https://en.wikipedia.org/wiki/Rishikesh\n",
      "Title: Guptakashi, Link: https://en.wikipedia.org/wiki/Guptakashi\n",
      "Title: Kedarnath Temple, Link: https://en.wikipedia.org/wiki/Kedarnath_Temple\n",
      "Title: Kedarnath, Link: https://en.wikipedia.org/wiki/Kedarnath\n",
      "Title: Madhyamaheshwar, Link: https://en.wikipedia.org/wiki/Madhyamaheshwar\n",
      "Title: Triyuginarayan Temple, Link: https://en.wikipedia.org/wiki/Triyuginarayan_Temple\n",
      "Title: Ukhimath, Link: https://en.wikipedia.org/wiki/Ukhimath\n",
      "Title: Surkanda Devi, Link: https://en.wikipedia.org/wiki/Surkanda_Devi\n",
      "Title: Mussoorie, Link: https://en.wikipedia.org/wiki/Mussoorie\n",
      "Title: Moteshwar Mahadev, Link: https://en.wikipedia.org/wiki/Moteshwar_Mahadev\n",
      "Title: Kashipur, Link: https://en.wikipedia.org/wiki/Kashipur,_Uttarakhand\n",
      "Title: Gangotri, Link: https://en.wikipedia.org/wiki/Gangotri\n",
      "Title: Gundiyat gaon, Link: https://en.wikipedia.org/wiki/Gundiyat_gaon\n",
      "Title: Yamnotri, Link: https://en.wikipedia.org/wiki/Yamnotri\n",
      "Title: edit, Link: https://en.wikipedia.org/w/index.php?title=List_of_Hindu_temples_in_India&action=edit&section=27\n",
      "Title: Hindu temples in Varanasi, Link: https://en.wikipedia.org/wiki/Hindu_temples_in_Varanasi\n",
      "Title: Prem Mandir Vrindavan, Link: https://en.wikipedia.org/wiki/Prem_Mandir_Vrindavan\n",
      "Title: Kashi Vishwanath Temple, Link: https://en.wikipedia.org/wiki/Kashi_Vishwanath_Temple\n",
      "Title: Ramjanmabhoomi, Link: https://en.wikipedia.org/wiki/Ramjanmabhoomi\n",
      "Title: Ayodhya, Link: https://en.wikipedia.org/wiki/Ayodhya\n",
      "Title: Hanumangarhi, Link: https://en.wikipedia.org/wiki/Hanumangarhi\n",
      "Title: Ayodhya, Link: https://en.wikipedia.org/wiki/Ayodhya\n",
      "Title: Gorakhnath Math, Link: https://en.wikipedia.org/wiki/Gorakhnath_Math\n",
      "Title: Gorakhpur, Link: https://en.wikipedia.org/wiki/Gorakhpur\n",
      "Title: Shri Dirgh Vishnu Temple, Link: https://en.wikipedia.org/w/index.php?title=Shri_Dirgh_Vishnu_Temple&action=edit&redlink=1\n",
      "Title: Mathura, Link: https://en.wikipedia.org/wiki/Mathura\n",
      "Title: J K Temple, Link: https://en.wikipedia.org/wiki/J_K_Temple\n",
      "Title: Kanpur, Link: https://en.wikipedia.org/wiki/Kanpur\n",
      "Title: Bhitargaon Temple, Link: https://en.wikipedia.org/wiki/Bhitargaon_Temple\n",
      "Title: Waneshwar Mahadev Temple, Link: https://en.wikipedia.org/wiki/Waneshwar_Mahadev_Temple\n",
      "Title: Ved Mata Gaytri Mandir, Link: https://en.wikipedia.org/wiki/Ved_Mata_Gaytri_Mandir\n",
      "Title: Prem Mandir Vrindavan, Link: https://en.wikipedia.org/wiki/Prem_Mandir_Vrindavan\n",
      "Title: Banke Bihari Temple, Link: https://en.wikipedia.org/wiki/Banke_Bihari_Temple\n",
      "Title: Vrindavan, Link: https://en.wikipedia.org/wiki/Vrindavan\n",
      "Title: Radha Ramana, Link: https://en.wikipedia.org/wiki/Radha_Ramana\n",
      "Title: Vrindavan, Link: https://en.wikipedia.org/wiki/Vrindavan\n",
      "Title: Dwarkadheesh temple, Link: https://en.wikipedia.org/wiki/Dwarkadheesh_temple_Mathura\n",
      "Title: Mathura, Link: https://en.wikipedia.org/wiki/Mathura\n",
      "Title: Krishnajanmabhoomi, Link: https://en.wikipedia.org/wiki/Krishnajanmabhoomi\n",
      "Title: Mathura, Link: https://en.wikipedia.org/wiki/Mathura,_Uttar_Pradesh\n",
      "Title: Vindhyachal, Link: https://en.wikipedia.org/wiki/Vindhyachal\n",
      "Title: Mirzapur, Link: https://en.wikipedia.org/wiki/Mirzapur\n",
      "Title: Sankat Mochan Hanuman Temple, Link: https://en.wikipedia.org/wiki/Sankat_Mochan_Hanuman_Temple\n",
      "Title: Varanasi, Link: https://en.wikipedia.org/wiki/Varanasi\n",
      "Title: Kashi Vishwanath Temple, Link: https://en.wikipedia.org/wiki/Kashi_Vishwanath_Temple\n",
      "Title: Varanasi, Link: https://en.wikipedia.org/wiki/Varanasi\n",
      "Title: Bhuteshwar Temple, Link: https://en.wikipedia.org/wiki/Bhuteshwar_Temple\n",
      "Title: Varanasi, Link: https://en.wikipedia.org/wiki/Varanasi\n",
      "Title: Jagannath Temple, Link: https://en.wikipedia.org/w/index.php?title=Jagannath_Temple,_Varanasi&action=edit&redlink=1\n",
      "Title: Varanasi, Link: https://en.wikipedia.org/wiki/Varanasi\n",
      "Title: Kamakhya Temple, Link: https://en.wikipedia.org/wiki/Kamakhya_Temple\n",
      "Title: Varanasi, Link: https://en.wikipedia.org/wiki/Varanasi\n",
      "Title: Belon Temple, Link: https://en.wikipedia.org/wiki/Belon_Temple\n",
      "Title: Hanuman Ji Temple, Link: https://en.wikipedia.org/w/index.php?title=Hanuman_Ji_Temple&action=edit&redlink=1\n",
      "Title: Allahabad, Link: https://en.wikipedia.org/wiki/Allahabad\n",
      "Title: Sri HanumanDhara, Link: https://en.wikipedia.org/w/index.php?title=Sri_HanumanDhara&action=edit&redlink=1\n",
      "Title: Chitrakoot, Link: https://en.wikipedia.org/wiki/Chitrakoot_division\n",
      "Title: edit, Link: https://en.wikipedia.org/w/index.php?title=List_of_Hindu_temples_in_India&action=edit&section=28\n",
      "Title: Belur Math, Link: https://en.wikipedia.org/wiki/Belur_Math\n",
      "Title: Kalighat Kali Temple, Link: https://en.wikipedia.org/wiki/Kalighat_Kali_Temple\n",
      "Title: Firinghi Kalibari, Link: https://en.wikipedia.org/wiki/Firinghi_Kalibari\n",
      "Title: Thanthania Kalibari, Link: https://en.wikipedia.org/wiki/Thanthania_Kalibari\n",
      "Title: Dakshineswar Kali Temple, Link: https://en.wikipedia.org/wiki/Dakshineswar_Kali_Temple\n",
      "Title: Lakshmi Narayan temple, Link: https://en.wikipedia.org/wiki/Birla_Mandir,_Kolkata\n",
      "Title: Hangseshwari temple, Link: https://en.wikipedia.org/wiki/Hangseshwari_temple\n",
      "Title: Bansberia, Link: https://en.wikipedia.org/wiki/Bansberia\n",
      "Title: Ananta Basudeba temple, Link: https://en.wikipedia.org/wiki/Ananta_Basudeba_temple\n",
      "Title: Belur Math, Link: https://en.wikipedia.org/wiki/Belur_Math\n",
      "Title: Belur, Link: https://en.wikipedia.org/wiki/Belur,_West_Bengal\n",
      "Title: Madanmohan-jiu Temple, Link: https://en.wikipedia.org/wiki/Madanmohan-jiu_Temple\n",
      "Title: Samta, Link: https://en.wikipedia.org/wiki/Samta_(India)\n",
      "Title: Kalyaneshwari temple, Link: https://en.wikipedia.org/wiki/Kalyaneshwari_temple\n",
      "Title: Bardhaman district, Link: https://en.wikipedia.org/wiki/Bardhaman_district\n",
      "Title: Tarapith Temple, Link: https://en.wikipedia.org/wiki/Tarapith#Tarapith_temple\n",
      "Title: Birbhum, Link: https://en.wikipedia.org/wiki/Birbhum\n",
      "Title: 108 Mahadev Burdwan, Link: https://en.wikipedia.org/w/index.php?title=108_Mahadev_Burdwan&action=edit&redlink=1\n",
      "Title: Birla Mandir, Link: https://en.wikipedia.org/wiki/Birla_Mandir,_Kolkata\n",
      "Title: Thanthania Kalibari, Link: https://en.wikipedia.org/wiki/Thanthania_Kalibari\n",
      "Title: Shobhabazar Lal Mandir, Link: https://en.wikipedia.org/wiki/Shobhabazar_Lal_Mandir\n",
      "Title: Dwadash Shiva Temples, Link: https://en.wikipedia.org/wiki/Dwadash_Shiva_Temples\n",
      "Title: Lake Kalibari, Link: https://en.wikipedia.org/wiki/Lake_Kalibari\n",
      "Title: edit, Link: https://en.wikipedia.org/w/index.php?title=List_of_Hindu_temples_in_India&action=edit&section=29\n",
      "Title: Lists of Hindu temples by country, Link: https://en.wikipedia.org/wiki/List_of_Hindu_temples\n",
      "Title: edit, Link: https://en.wikipedia.org/w/index.php?title=List_of_Hindu_temples_in_India&action=edit&section=30\n",
      "Title: ISBN, Link: https://en.wikipedia.org/wiki/International_Standard_Book_Number\n",
      "Title: 978-93-81218-51-8, Link: https://en.wikipedia.org/wiki/Special:BookSources/978-93-81218-51-8\n",
      "Title: edit, Link: https://en.wikipedia.org/w/index.php?title=List_of_Hindu_temples_in_India&action=edit&section=31\n",
      "Title: Hindu temples in India, Link: https://en.wikipedia.orghttps://commons.wikimedia.org/wiki/Category:Hindu_temples_in_India\n",
      "Title: Collection of Hindu Temples in India, Link: https://en.wikipedia.orghttp://travel.vibrant4.com\n",
      "Title: Various Online Darshan Booking of Hindu Temples in India, Link: https://en.wikipedia.orghttps://www.darshanbooking.com\n",
      "Title: https://en.wikipedia.org/w/index.php?title=List_of_Hindu_temples_in_India&oldid=890141129, Link: https://en.wikipedia.orghttps://en.wikipedia.org/w/index.php?title=List_of_Hindu_temples_in_India&oldid=890141129\n",
      "Title: Categories, Link: https://en.wikipedia.org/wiki/Help:Category\n",
      "Title: Lists of Hindu temples in India, Link: https://en.wikipedia.org/wiki/Category:Lists_of_Hindu_temples_in_India\n",
      "Title: Lists of religious buildings and structures in India, Link: https://en.wikipedia.org/wiki/Category:Lists_of_religious_buildings_and_structures_in_India\n",
      "Title: Commons category link is on Wikidata, Link: https://en.wikipedia.org/wiki/Category:Commons_category_link_is_on_Wikidata\n",
      "Title: Commons category link is on Wikidata using P373, Link: https://en.wikipedia.org/wiki/Category:Commons_category_link_is_on_Wikidata_using_P373\n",
      "Title: Talk, Link: https://en.wikipedia.org/wiki/Special:MyTalk\n",
      "Title: Contributions, Link: https://en.wikipedia.org/wiki/Special:MyContributions\n",
      "Title: Create account, Link: https://en.wikipedia.org/w/index.php?title=Special:CreateAccount&returnto=List+of+Hindu+temples+in+India\n",
      "Title: Log in, Link: https://en.wikipedia.org/w/index.php?title=Special:UserLogin&returnto=List+of+Hindu+temples+in+India\n",
      "Title: Article, Link: https://en.wikipedia.org/wiki/List_of_Hindu_temples_in_India\n",
      "Title: Talk, Link: https://en.wikipedia.org/wiki/Talk:List_of_Hindu_temples_in_India\n",
      "Title: Read, Link: https://en.wikipedia.org/wiki/List_of_Hindu_temples_in_India\n",
      "Title: Edit, Link: https://en.wikipedia.org/w/index.php?title=List_of_Hindu_temples_in_India&action=edit\n",
      "Title: View history, Link: https://en.wikipedia.org/w/index.php?title=List_of_Hindu_temples_in_India&action=history\n",
      "Title: Main page, Link: https://en.wikipedia.org/wiki/Main_Page\n",
      "Title: Contents, Link: https://en.wikipedia.org/wiki/Portal:Contents\n",
      "Title: Featured content, Link: https://en.wikipedia.org/wiki/Portal:Featured_content\n",
      "Title: Current events, Link: https://en.wikipedia.org/wiki/Portal:Current_events\n",
      "Title: Random article, Link: https://en.wikipedia.org/wiki/Special:Random\n",
      "Title: Donate to Wikipedia, Link: https://en.wikipedia.orghttps://donate.wikimedia.org/wiki/Special:FundraiserRedirector?utm_source=donate&utm_medium=sidebar&utm_campaign=C13_en.wikipedia.org&uselang=en\n",
      "Title: Wikipedia store, Link: https://en.wikipedia.org//shop.wikimedia.org\n",
      "Title: Help, Link: https://en.wikipedia.org/wiki/Help:Contents\n",
      "Title: About Wikipedia, Link: https://en.wikipedia.org/wiki/Wikipedia:About\n",
      "Title: Community portal, Link: https://en.wikipedia.org/wiki/Wikipedia:Community_portal\n",
      "Title: Recent changes, Link: https://en.wikipedia.org/wiki/Special:RecentChanges\n",
      "Title: Contact page, Link: https://en.wikipedia.org//en.wikipedia.org/wiki/Wikipedia:Contact_us\n",
      "Title: What links here, Link: https://en.wikipedia.org/wiki/Special:WhatLinksHere/List_of_Hindu_temples_in_India\n",
      "Title: Related changes, Link: https://en.wikipedia.org/wiki/Special:RecentChangesLinked/List_of_Hindu_temples_in_India\n",
      "Title: Upload file, Link: https://en.wikipedia.org/wiki/Wikipedia:File_Upload_Wizard\n",
      "Title: Special pages, Link: https://en.wikipedia.org/wiki/Special:SpecialPages\n",
      "Title: Permanent link, Link: https://en.wikipedia.org/w/index.php?title=List_of_Hindu_temples_in_India&oldid=890141129\n",
      "Title: Page information, Link: https://en.wikipedia.org/w/index.php?title=List_of_Hindu_temples_in_India&action=info\n",
      "Title: Wikidata item, Link: https://en.wikipedia.orghttps://www.wikidata.org/wiki/Special:EntityPage/Q6573227\n",
      "Title: Cite this page, Link: https://en.wikipedia.org/w/index.php?title=Special:CiteThisPage&page=List_of_Hindu_temples_in_India&id=890141129\n",
      "Title: Create a book, Link: https://en.wikipedia.org/w/index.php?title=Special:Book&bookcmd=book_creator&referer=List+of+Hindu+temples+in+India\n",
      "Title: Download as PDF, Link: https://en.wikipedia.org/w/index.php?title=Special:ElectronPdf&page=List+of+Hindu+temples+in+India&action=show-download-screen\n",
      "Title: Printable version, Link: https://en.wikipedia.org/w/index.php?title=List_of_Hindu_temples_in_India&printable=yes\n",
      "Title: Wikimedia Commons, Link: https://en.wikipedia.orghttps://commons.wikimedia.org/wiki/Category:Hindu_temples_in_India\n",
      "Title: বাংলা, Link: https://en.wikipedia.orghttps://bn.wikipedia.org/wiki/%E0%A6%AD%E0%A6%BE%E0%A6%B0%E0%A6%A4%E0%A7%87%E0%A6%B0_%E0%A6%B9%E0%A6%BF%E0%A6%A8%E0%A7%8D%E0%A6%A6%E0%A7%81_%E0%A6%AE%E0%A6%A8%E0%A7%8D%E0%A6%A6%E0%A6%BF%E0%A6%B0%E0%A6%B8%E0%A6%AE%E0%A7%82%E0%A6%B9%E0%A7%87%E0%A6%B0_%E0%A6%A4%E0%A6%BE%E0%A6%B2%E0%A6%BF%E0%A6%95%E0%A6%BE\n",
      "Title: Shqip, Link: https://en.wikipedia.orghttps://sq.wikipedia.org/wiki/Lista_e_tempujve_hindu_n%C3%AB_Indi\n",
      "Title: Edit links, Link: https://en.wikipedia.orghttps://www.wikidata.org/wiki/Special:EntityPage/Q6573227#sitelinks-wikipedia\n",
      "Title: Creative Commons Attribution-ShareAlike License, Link: https://en.wikipedia.org//en.wikipedia.org/wiki/Wikipedia:Text_of_Creative_Commons_Attribution-ShareAlike_3.0_Unported_License\n",
      "Title: Terms of Use, Link: https://en.wikipedia.org//foundation.wikimedia.org/wiki/Terms_of_Use\n",
      "Title: Privacy Policy, Link: https://en.wikipedia.org//foundation.wikimedia.org/wiki/Privacy_policy\n",
      "Title: Wikimedia Foundation, Inc., Link: https://en.wikipedia.org//www.wikimediafoundation.org/\n",
      "Title: Privacy policy, Link: https://en.wikipedia.orghttps://foundation.wikimedia.org/wiki/Privacy_policy\n",
      "Title: About Wikipedia, Link: https://en.wikipedia.org/wiki/Wikipedia:About\n",
      "Title: Disclaimers, Link: https://en.wikipedia.org/wiki/Wikipedia:General_disclaimer\n",
      "Title: Contact Wikipedia, Link: https://en.wikipedia.org//en.wikipedia.org/wiki/Wikipedia:Contact_us\n",
      "Title: Developers, Link: https://en.wikipedia.orghttps://www.mediawiki.org/wiki/Special:MyLanguage/How_to_contribute\n",
      "Title: Cookie statement, Link: https://en.wikipedia.orghttps://foundation.wikimedia.org/wiki/Cookie_statement\n",
      "Title: Mobile view, Link: https://en.wikipedia.org//en.m.wikipedia.org/w/index.php?title=List_of_Hindu_temples_in_India&mobileaction=toggle_view_mobile\n"
     ]
    }
   ],
   "source": [
    "from bs4 import BeautifulSoup as Soup,Tag\n",
    "import requests\n",
    "\n",
    "url=r\"https://en.wikipedia.org/wiki/List_of_Hindu_temples_in_India\"\n",
    "\n",
    "r = requests.get(url)\n",
    "soup = Soup(r.content,\"html.parser\" )\n",
    "\n",
    "# for link in soup.find_all('a', href=True):\n",
    "#     print (link['href'])\n",
    "\n",
    "# for link in soup.find_all('a', href=True):\n",
    "#     try:\n",
    "#         print (link.get('href') + ' -> ' + link.get('title'))\n",
    "#     except:\n",
    "#         pass\n",
    "\n",
    "# for ul in soup.findAll('div'):\n",
    "#     for li in ul.findAll('li'):\n",
    "for lnk in soup.findAll('a', href=True):\n",
    "    title = (lnk.text)\n",
    "    link = (lnk['href'])\n",
    "    if title != '':\n",
    "        print (\"Title: {}, Link: https://en.wikipedia.org{}\".format(title, link))"
   ]
  },
  {
   "cell_type": "markdown",
   "metadata": {},
   "source": [
    "# Selenium"
   ]
  },
  {
   "cell_type": "code",
   "execution_count": 518,
   "metadata": {
    "scrolled": true
   },
   "outputs": [
    {
     "name": "stdout",
     "output_type": "stream",
     "text": [
      "price: 21,48 €+ 3,00 €Μεταφορικά+ 2,00 €Αντικαταβολή26,48 € seller: Toys24 availability: Παράδοση 1 έως 3 ημέρες\n",
      "price: 21,98 €+ 4,50 €Μεταφορικά+ 0,00 €Αντικαταβολή26,48 € seller: Quickshop availability: Άμεση παραλαβή / Παράδοση 1 έως 3 ημέρες\n",
      "price: 21,98 €+ 3,00 €Μεταφορικά+ 2,00 €Αντικαταβολή26,98 € seller: GamesHero availability: Άμεση παραλαβή / Παράδοση 1 έως 3 ημέρες\n",
      "price: 21,99 €+ 0,00 €Μεταφορικά+ 2,00 €Αντικαταβολή23,99 € seller: Toycity availability: Άμεση παραλαβή / Παράδοση 1 έως 3 ημέρες\n",
      "price: 22,41 €+ 3,00 €Μεταφορικά+ 2,00 €Αντικαταβολή27,41 € seller: Besttoys availability: Άμεση παραλαβή / Παράδοση 1 έως 3 ημέρες\n",
      "price: 22,49 €+ 2,90 €Μεταφορικά+ 1,00 €Αντικαταβολή26,39 € seller: Efantasy availability: Άμεση παραλαβή / Παράδοση 1 έως 3 ημέρες\n",
      "price: 22,49 €+ 3,00 €Μεταφορικά+ 2,00 €Αντικαταβολή27,49 € seller: Perfectoys availability: Άμεση παραλαβή / Παράδοση 1 έως 3 ημέρες\n",
      "price: 24,90 €+ 3,00 €Μεταφορικά+ 2,00 €Αντικαταβολή29,90 € seller: My-toy availability: Άμεση παραλαβή / Παράδοση 1 έως 3 ημέρες\n",
      "price: 24,95 €+ 2,90 €Μεταφορικά+ 2,35 €Αντικαταβολή30,20 € seller: Oikonomou availability: Άμεση παραλαβή / Παράδοση 1 έως 3 ημέρες\n",
      "price: 24,95 €+ 3,00 €Μεταφορικά+ 2,00 €Αντικαταβολή29,95 € seller: TrenakiToys availability: Άμεση παραλαβή / Παράδοση 1 έως 3 ημέρες\n",
      "price: 24,99 €+ 3,00 €Μεταφορικά+ 1,50 €Αντικαταβολή29,49 € seller: Toys4u availability: Παράδοση 1 έως 3 ημέρες\n",
      "price: 24,99 €+ 1,90 €Μεταφορικά+ 1,90 €Αντικαταβολή28,79 € seller: Eshop4all availability: Άμεση παραλαβή / Παράδοση 1 έως 3 ημέρες\n",
      "price: 24,99 €+ 3,00 €Μεταφορικά+ 2,00 €Αντικαταβολή29,99 € seller: Toys-shop availability: Άμεση παραλαβή / Παράδοση 1 έως 3 ημέρες\n",
      "price: 24,99 €+ 3,00 €Μεταφορικά+ 2,00 €Αντικαταβολή29,99 € seller: YuppieToys availability: Άμεση παραλαβή / Παράδοση 1 έως 3 ημέρες\n",
      "price: 24,99 €+ 3,00 €Μεταφορικά+ 2,00 €Αντικαταβολή29,99 € seller: Happytoys availability: Παράδοση 1 έως 3 ημέρες\n",
      "price: 26,99 €+ 3,00 €Μεταφορικά+ 2,00 €Αντικαταβολή31,99 € seller: Bambino baby availability: Άμεση παραλαβή / Παράδοση 1 έως 3 ημέρες\n"
     ]
    }
   ],
   "source": [
    "import time, os\n",
    "\n",
    "from selenium import webdriver\n",
    "from selenium.webdriver.common.keys import Keys\n",
    "\n",
    "userhome = os.path.expanduser('~')\n",
    "browser = webdriver.Chrome(userhome + r'/local-repo/chromedriver')\n",
    "\n",
    "browser.get(\"https://www.skroutz.gr/s/15013958/Hasbro-Monopoly-Classic-Game.html\")\n",
    "time.sleep(1)\n",
    "\n",
    "elem = browser.find_element_by_tag_name(\"body\")\n",
    "\n",
    "no_of_pagedowns = 20\n",
    "\n",
    "while no_of_pagedowns:\n",
    "    elem.send_keys(Keys.PAGE_DOWN)\n",
    "    time.sleep(0.2)\n",
    "    no_of_pagedowns-=1\n",
    "\n",
    "post_elems = browser.find_elements_by_css_selector(\".card.js-product-card\")\n",
    "\n",
    "details = []\n",
    "for post in post_elems:\n",
    "    price = post.find_element_by_css_selector(\".price\").text.replace(\"\\n\",\"\")\n",
    "    seller = post.find_element_by_css_selector(\".shop-name\").text.replace(\"\\n\",\"\")\n",
    "    availability = post.find_element_by_css_selector(\"p.availability\").text.replace(\"\\n\",\"\")\n",
    "    temp = [price, seller, availability]\n",
    "    details.append(temp)\n",
    "    print(f'price: {price} seller: {seller} availability: {availability}')"
   ]
  },
  {
   "cell_type": "code",
   "execution_count": 519,
   "metadata": {
    "scrolled": true
   },
   "outputs": [
    {
     "data": {
      "text/plain": [
       "[['21,48 €+ 3,00 €Μεταφορικά+ 2,00 €Αντικαταβολή26,48 €',\n",
       "  'Toys24',\n",
       "  'Παράδοση 1 έως 3 ημέρες'],\n",
       " ['21,98 €+ 4,50 €Μεταφορικά+ 0,00 €Αντικαταβολή26,48 €',\n",
       "  'Quickshop',\n",
       "  'Άμεση παραλαβή / Παράδοση 1 έως 3 ημέρες'],\n",
       " ['21,98 €+ 3,00 €Μεταφορικά+ 2,00 €Αντικαταβολή26,98 €',\n",
       "  'GamesHero',\n",
       "  'Άμεση παραλαβή / Παράδοση 1 έως 3 ημέρες'],\n",
       " ['21,99 €+ 0,00 €Μεταφορικά+ 2,00 €Αντικαταβολή23,99 €',\n",
       "  'Toycity',\n",
       "  'Άμεση παραλαβή / Παράδοση 1 έως 3 ημέρες'],\n",
       " ['22,41 €+ 3,00 €Μεταφορικά+ 2,00 €Αντικαταβολή27,41 €',\n",
       "  'Besttoys',\n",
       "  'Άμεση παραλαβή / Παράδοση 1 έως 3 ημέρες'],\n",
       " ['22,49 €+ 2,90 €Μεταφορικά+ 1,00 €Αντικαταβολή26,39 €',\n",
       "  'Efantasy',\n",
       "  'Άμεση παραλαβή / Παράδοση 1 έως 3 ημέρες'],\n",
       " ['22,49 €+ 3,00 €Μεταφορικά+ 2,00 €Αντικαταβολή27,49 €',\n",
       "  'Perfectoys',\n",
       "  'Άμεση παραλαβή / Παράδοση 1 έως 3 ημέρες'],\n",
       " ['24,90 €+ 3,00 €Μεταφορικά+ 2,00 €Αντικαταβολή29,90 €',\n",
       "  'My-toy',\n",
       "  'Άμεση παραλαβή / Παράδοση 1 έως 3 ημέρες'],\n",
       " ['24,95 €+ 2,90 €Μεταφορικά+ 2,35 €Αντικαταβολή30,20 €',\n",
       "  'Oikonomou',\n",
       "  'Άμεση παραλαβή / Παράδοση 1 έως 3 ημέρες'],\n",
       " ['24,95 €+ 3,00 €Μεταφορικά+ 2,00 €Αντικαταβολή29,95 €',\n",
       "  'TrenakiToys',\n",
       "  'Άμεση παραλαβή / Παράδοση 1 έως 3 ημέρες'],\n",
       " ['24,99 €+ 3,00 €Μεταφορικά+ 1,50 €Αντικαταβολή29,49 €',\n",
       "  'Toys4u',\n",
       "  'Παράδοση 1 έως 3 ημέρες'],\n",
       " ['24,99 €+ 1,90 €Μεταφορικά+ 1,90 €Αντικαταβολή28,79 €',\n",
       "  'Eshop4all',\n",
       "  'Άμεση παραλαβή / Παράδοση 1 έως 3 ημέρες'],\n",
       " ['24,99 €+ 3,00 €Μεταφορικά+ 2,00 €Αντικαταβολή29,99 €',\n",
       "  'Toys-shop',\n",
       "  'Άμεση παραλαβή / Παράδοση 1 έως 3 ημέρες'],\n",
       " ['24,99 €+ 3,00 €Μεταφορικά+ 2,00 €Αντικαταβολή29,99 €',\n",
       "  'YuppieToys',\n",
       "  'Άμεση παραλαβή / Παράδοση 1 έως 3 ημέρες'],\n",
       " ['24,99 €+ 3,00 €Μεταφορικά+ 2,00 €Αντικαταβολή29,99 €',\n",
       "  'Happytoys',\n",
       "  'Παράδοση 1 έως 3 ημέρες'],\n",
       " ['26,99 €+ 3,00 €Μεταφορικά+ 2,00 €Αντικαταβολή31,99 €',\n",
       "  'Bambino baby',\n",
       "  'Άμεση παραλαβή / Παράδοση 1 έως 3 ημέρες']]"
      ]
     },
     "execution_count": 519,
     "metadata": {},
     "output_type": "execute_result"
    }
   ],
   "source": [
    "details"
   ]
  },
  {
   "cell_type": "code",
   "execution_count": null,
   "metadata": {
    "collapsed": true
   },
   "outputs": [],
   "source": []
  },
  {
   "cell_type": "code",
   "execution_count": 449,
   "metadata": {},
   "outputs": [
    {
     "name": "stdout",
     "output_type": "stream",
     "text": [
      "China    1\n",
      "Italy    1\n",
      "Japan    1\n",
      "cat      2\n",
      "dog      2\n",
      "tiger    1\n",
      "dtype: int64\n"
     ]
    }
   ],
   "source": [
    "from collections import Counter\n",
    "\n",
    "data = [{'Col_A': 'animal', 'Col_B': ['cat','dog','tiger']},\n",
    "        {'Col_A': 'place', 'Col_B':['Italy','China','Japan']},\n",
    "        {'Col_A': 'pets', 'Col_B':['cat','dog']}]\n",
    "\n",
    "df = pd.DataFrame(data)\n",
    "s = pd.Series(Counter([y for x in df['Col_B'] for y in x]))\n",
    "print (s)"
   ]
  },
  {
   "cell_type": "code",
   "execution_count": 111,
   "metadata": {},
   "outputs": [
    {
     "data": {
      "text/plain": [
       "['2,20190327.1.csv.gz',\n",
       " '3,20190327.23.csv.gz',\n",
       " '4,20190327.21302.csv.gz',\n",
       " '2,20190327.24562.csv.gz']"
      ]
     },
     "execution_count": 111,
     "metadata": {},
     "output_type": "execute_result"
    }
   ],
   "source": [
    "text = \"\"\"2,20190327.1.csv.gz\n",
    "3,20190327.23.csv.gz\n",
    "4,20190327.21302.csv.gz\n",
    "2,20190327.24562.csv.gz\"\"\"\n",
    "\n",
    "splittext = text.split(\"\\n\")\n",
    "splittext"
   ]
  },
  {
   "cell_type": "code",
   "execution_count": 125,
   "metadata": {
    "scrolled": true
   },
   "outputs": [
    {
     "name": "stdout",
     "output_type": "stream",
     "text": [
      "['N', 'N', 'N', 'N', 'N', 'N', 'N', 'N', 'N', 'N', 'N', 'N', 'N', 'N', 'N', 'N', 'N', 'B', 'E', 'N', 'E', 'N', 'N', 'N', 'N', 'B', 'E', 'N', 'B', 'B', 'B', 'B', 'B', 'B', 'B', 'N', 'E', 'N', 'B', 'N', 'N', 'N']\n"
     ]
    }
   ],
   "source": [
    "N, B, E = \"N\", \"B\", \"E\"\n",
    "Data6 = [N, N, N, N, N, N, N]\n",
    "Data5 = [N, N, N, N, N, N, N]\n",
    "Data4 = [N, N, N, B, E, N, E]\n",
    "Data3 = [N, N, N, N, B, E, N]\n",
    "Data2 = [B, B, B, B, B, B, B]\n",
    "Data1 = [N, E, N, B, N, N, N]\n",
    "\n",
    "data = [Data6,\n",
    "        Data5,\n",
    "        Data4,\n",
    "        Data3,\n",
    "        Data2,\n",
    "        Data1]\n",
    "\n",
    "new_data = []\n",
    "for dt in data:\n",
    "    new_data = new_data + dt\n",
    "print (new_data)"
   ]
  },
  {
   "cell_type": "code",
   "execution_count": 504,
   "metadata": {},
   "outputs": [
    {
     "data": {
      "text/plain": [
       "[['apples'], ['apples'], ['apples']]"
      ]
     },
     "execution_count": 504,
     "metadata": {},
     "output_type": "execute_result"
    }
   ],
   "source": [
    "txt = [[\"\"],[\"\"],[\"\"]]\n",
    "txt = [[x if not x==\"\" else 'apples' for x in sublist] for sublist in txt]\n",
    "txt"
   ]
  },
  {
   "cell_type": "code",
   "execution_count": 536,
   "metadata": {},
   "outputs": [
    {
     "name": "stdout",
     "output_type": "stream",
     "text": [
      "h p\n",
      "e a\n",
      "l u\n",
      "l l\n",
      "o  \n"
     ]
    }
   ],
   "source": [
    "from itertools import zip_longest\n",
    "\n",
    "s1='hello'\n",
    "s2='paul'\n",
    "\n",
    "for a, b in zip_longest(s1, s2, fillvalue=' '):\n",
    "    print(a, b)"
   ]
  },
  {
   "cell_type": "code",
   "execution_count": 130,
   "metadata": {},
   "outputs": [
    {
     "name": "stdout",
     "output_type": "stream",
     "text": [
      "True\n",
      "\n",
      "The line is True\n"
     ]
    }
   ],
   "source": [
    "import linecache\n",
    "\n",
    "test = open('test1.txt', 'w+')\n",
    "test.write('Test\\n')\n",
    "test.write('True\\n')\n",
    "test.close()\n",
    "read = linecache.getline('test1.txt', 2)\n",
    "print(read)\n",
    "if read == 'True\\n':\n",
    "    print(\"The line is True\")\n",
    "else:\n",
    "    print('The line is False')"
   ]
  },
  {
   "cell_type": "code",
   "execution_count": 241,
   "metadata": {},
   "outputs": [
    {
     "name": "stdout",
     "output_type": "stream",
     "text": [
      "The UK prime minister\n",
      "The UK prime minister\n",
      "UK prime minister in 02/01/2019\n",
      "The UK prime minister\n",
      "The UK prime\n"
     ]
    }
   ],
   "source": [
    "import re\n",
    "\n",
    "arr = ['02/01/2019 The UK prime minister','02-01-2019 The UK prime minister','The UK prime minister in 02/01/2019','02-01-2019 18:52:02 The UK prime minister','2019-01-02 The UK prime minister','2019/01/02 The UK prime minister','2019 01 02 The UK prime minister','2019-01-02 18:52:02 The UK prime minister','2019/01/02 18:52:02 The UK prime minister','2019 01 02 The UK prime minister']\n",
    "\n",
    "mylist = [\"02/01/2019 The UK prime minister\",\n",
    "          \"02-01-2019 The UK prime minister\",\n",
    "          \"The UK prime minister in 02/01/2019\",\n",
    "          \"02-01-2019 18:52:02 The UK prime minister\",\n",
    "          \"5/02/2019 The UK prime\"]\n",
    "\n",
    "for d in mylist:\n",
    "    regex = re.search(\"[0-9\\/\\-\\:\\s]+(\\w.*)\",d)\n",
    "    regex = regex.groups()[0]\n",
    "    print (regex)"
   ]
  },
  {
   "cell_type": "code",
   "execution_count": 473,
   "metadata": {},
   "outputs": [
    {
     "name": "stdout",
     "output_type": "stream",
     "text": [
      "['.com', '.in']\n"
     ]
    }
   ],
   "source": [
    "import re\n",
    "def emailfinder(spam):\n",
    "    emailregx=re.compile(r'[a-zA-Z0-9%_+-.]+\\@[a-zA-Z0-9.-]+(\\.[a-zA-Z]{2,4})')\n",
    "    return emailregx.findall(spam)\n",
    "print(emailfinder('tara9090@gmail.com blah monkey tanbajg@chscv.in'))"
   ]
  },
  {
   "cell_type": "code",
   "execution_count": 569,
   "metadata": {},
   "outputs": [
    {
     "data": {
      "text/plain": [
       "[('ANY.N.AME1', 'ANY.NAME2', '2342342523', '-2432343535654')]"
      ]
     },
     "execution_count": 569,
     "metadata": {},
     "output_type": "execute_result"
    }
   ],
   "source": [
    "inputstr = '''/begin MEASUREMENT ANY.N.AME1 \"Unterstützungskraft Softwaremodul \"  \n",
    "SWORD ANY.NAME2 1 100 2342342523 -2432343535654\n",
    "'''\n",
    "\n",
    "# _regex_struct = re.compile(r'/begin MEASUREMENT (\\w+).*\\n+SWORD (\\w+) \\d+ \\d+ -(-?\\d+(?:\\.\\d+)?) (-?\\d+(?:\\.\\d+)?)')\n",
    "_regex_struct = re.compile(r'/begin\\s+MEASUREMENT\\s+(?P<name1>[A-Za-z.0-9]+)\\W.*\\nSWORD\\s+(?P<name2>[A-Za-z.0-9]+)\\W.+\\s+(?P<digit1>-\\d.+|\\d.+)\\s+(?P<digit2>-\\d.+|\\d.+)')\n",
    "_regex_struct.findall(inputstr)"
   ]
  },
  {
   "cell_type": "code",
   "execution_count": 585,
   "metadata": {},
   "outputs": [
    {
     "name": "stdout",
     "output_type": "stream",
     "text": [
      "\\A\n"
     ]
    }
   ],
   "source": [
    "text = '\\ATHE'\n",
    "print(re.search(r'\\\\A', text).group())"
   ]
  },
  {
   "cell_type": "code",
   "execution_count": 401,
   "metadata": {},
   "outputs": [
    {
     "name": "stdout",
     "output_type": "stream",
     "text": [
      "Words Are Sticked Together Here I Need One Space Between Them\n"
     ]
    }
   ],
   "source": [
    "line = \"WordsAreStickedTogetherHereINeedOneSpaceBetweenThem\"\n",
    "matches = re.finditer(\"[A-Z][a-z]*\", line)\n",
    "new_line = \" \".join(match.group() for match in matches)\n",
    "print (new_line)"
   ]
  },
  {
   "cell_type": "code",
   "execution_count": 237,
   "metadata": {
    "scrolled": true
   },
   "outputs": [
    {
     "data": {
      "text/plain": [
       "{'presenter': [\"HARPER'S\", 'ADELAIDE', 'BRAND', 'KK'],\n",
       " 'text': ['When the computer was young, the word hacking was\\nused to describe the work of brilliant students who explored and expanded the\\nuses to which this new technology might be employed.  There was even talk of a\\n\"hacker ethic.\"  Somehow, in the succeeding years, the word has taken on dark\\nconnotations, suggestion the actions of a criminal.  What is the hacker ethic,\\nand does it survive? ',\n",
       "  \"the hacker ethic survives, and it is a fraud.  It\\nsurvives in anyone excited by technology's power to turn many small,\\ninsignificant things into one vast, beautiful thing.  It is a fraud because\\nthere is nothing magical about computers that causes a user to undergo\\nreligious conversion and devote himself to the public good.  Early automobile\\ninventors were hackers too.  At first the elite drove in luxury.  Later\\npractically everyone had a car.  Now we have traffic jams, drunk drivers, air\\npollution, and suburban sprawl.  The old magic of an automobile occasionally\\nsurfaces, but we possess no delusions that it automatically invades the\\nconsciousness of anyone who sits behind the wheel.  Computers are power, and\\ndirect contact with power can bring out the best or worst in a person.  It's\\ntempting to think that everyone exposed to the technology will be grandly\\ninspired, but, alas, it just ain't so.\",\n",
       "  \"The hacker ethic involves several things.  One is\\navoiding waste; insisting on using idle computer power -- often hacking into a\\nsystem to do so, while taking the greatest precautions not to damage the\\nsystem.  A second goal of many hackers is the free exchange of  technical\\ninformation.  These hackers feel that patent and copyright restrictions slow\\ndown technological advances.  A third goal is the advancement of human\\nknowledge for its own sake.  Often this approach is unconventional.  People we\\ncall crackers often explore systems and do mischief.  The are called hackers by\\nthe press, which doesn't understand the issues.\",\n",
       "  'The hacker ethic went unnoticed early on because the\\nexplorations of basement tinkerers were very local.  Once we all became\\nconnected, the work of these investigations rippled through the world.  today\\nthe hacking spirit is alive and kicking in video, satellite TV, and radio.  In\\nsome fields they are called chippers, because the modify and peddle altered\\nchips.  Everything that was once said about \"phone phreaks\" can be said about\\nthem too.'],\n",
       " 'time': ['Day 1, 9:00 A.M.',\n",
       "  'Day 1, 9:25 A.M.',\n",
       "  'Day 1, 9:54 A.M.',\n",
       "  'Day 1, 11:19 A.M.']}"
      ]
     },
     "execution_count": 237,
     "metadata": {},
     "output_type": "execute_result"
    }
   ],
   "source": [
    "import csv\n",
    "text_data = \"\"\"HARPER'S [Day 1, 9:00 A.M.]:  When the computer was young, the word hacking was\n",
    "used to describe the work of brilliant students who explored and expanded the\n",
    "uses to which this new technology might be employed.  There was even talk of a\n",
    "\\\"hacker ethic.\\\"  Somehow, in the succeeding years, the word has taken on dark\n",
    "connotations, suggestion the actions of a criminal.  What is the hacker ethic,\n",
    "and does it survive? \n",
    "\n",
    "ADELAIDE [Day 1, 9:25 A.M.]:  the hacker ethic survives, and it is a fraud.  It\n",
    "survives in anyone excited by technology's power to turn many small,\n",
    "insignificant things into one vast, beautiful thing.  It is a fraud because\n",
    "there is nothing magical about computers that causes a user to undergo\n",
    "religious conversion and devote himself to the public good.  Early automobile\n",
    "inventors were hackers too.  At first the elite drove in luxury.  Later\n",
    "practically everyone had a car.  Now we have traffic jams, drunk drivers, air\n",
    "pollution, and suburban sprawl.  The old magic of an automobile occasionally\n",
    "surfaces, but we possess no delusions that it automatically invades the\n",
    "consciousness of anyone who sits behind the wheel.  Computers are power, and\n",
    "direct contact with power can bring out the best or worst in a person.  It's\n",
    "tempting to think that everyone exposed to the technology will be grandly\n",
    "inspired, but, alas, it just ain't so.\n",
    "\n",
    "BRAND [Day 1, 9:54 A.M.]:  The hacker ethic involves several things.  One is\n",
    "avoiding waste; insisting on using idle computer power -- often hacking into a\n",
    "system to do so, while taking the greatest precautions not to damage the\n",
    "system.  A second goal of many hackers is the free exchange of  technical\n",
    "information.  These hackers feel that patent and copyright restrictions slow\n",
    "down technological advances.  A third goal is the advancement of human\n",
    "knowledge for its own sake.  Often this approach is unconventional.  People we\n",
    "call crackers often explore systems and do mischief.  The are called hackers by\n",
    "the press, which doesn't understand the issues.\n",
    "\n",
    "KK [Day 1, 11:19 A.M.]:  The hacker ethic went unnoticed early on because the\n",
    "explorations of basement tinkerers were very local.  Once we all became\n",
    "connected, the work of these investigations rippled through the world.  today\n",
    "the hacking spirit is alive and kicking in video, satellite TV, and radio.  In\n",
    "some fields they are called chippers, because the modify and peddle altered\n",
    "chips.  Everything that was once said about \\\"phone phreaks\\\" can be said about\n",
    "them too.\"\"\"\n",
    "\n",
    "argument = re.findall(\"(?P<presenter>[A-Z|']+).\\[(?P<time>\\w.+)\\].\\s+(?P<text>[\\w\\W]*?)(?=\\n\\n|\\Z)\",text_data)\n",
    "\n",
    "# save in csv file\n",
    "with open(\"presenter.csv\",\"w\") as mycsv:\n",
    "    writers = csv.writer(mycsv)\n",
    "    header = ['presenter','time','text']\n",
    "    writers.writerow(header)\n",
    "    for item in argument:\n",
    "        writers.writerow(item)\n",
    "\n",
    "#save in dictionary\n",
    "mydict = {'presenter':[],'time':[],'text':[]}\n",
    "for i in argument:\n",
    "    mydict['presenter'].append(i[0])\n",
    "    mydict['time'].append(i[1])\n",
    "    mydict['text'].append(i[2])\n",
    "mydict"
   ]
  },
  {
   "cell_type": "code",
   "execution_count": 238,
   "metadata": {},
   "outputs": [
    {
     "data": {
      "text/plain": [
       "'When the computer was young, the word hacking was used to describe the work of brilliant students who explored and expanded the uses to which this new technology might be employed.  There was even talk of a \"hacker ethic.\"  Somehow, in the succeeding years, the word has taken on dark connotations, suggestion the actions of a criminal.  What is the hacker ethic, and does it survive? '"
      ]
     },
     "execution_count": 238,
     "metadata": {},
     "output_type": "execute_result"
    }
   ],
   "source": [
    "argument[0][2].replace(\"\\n\",\" \")"
   ]
  },
  {
   "cell_type": "code",
   "execution_count": 239,
   "metadata": {},
   "outputs": [
    {
     "data": {
      "text/html": [
       "<div>\n",
       "<style>\n",
       "    .dataframe thead tr:only-child th {\n",
       "        text-align: right;\n",
       "    }\n",
       "\n",
       "    .dataframe thead th {\n",
       "        text-align: left;\n",
       "    }\n",
       "\n",
       "    .dataframe tbody tr th {\n",
       "        vertical-align: top;\n",
       "    }\n",
       "</style>\n",
       "<table border=\"1\" class=\"dataframe\">\n",
       "  <thead>\n",
       "    <tr style=\"text-align: right;\">\n",
       "      <th></th>\n",
       "      <th>presenter</th>\n",
       "      <th>time</th>\n",
       "      <th>text</th>\n",
       "    </tr>\n",
       "  </thead>\n",
       "  <tbody>\n",
       "    <tr>\n",
       "      <th>0</th>\n",
       "      <td>HARPER'S</td>\n",
       "      <td>Day 1, 9:00 A.M.</td>\n",
       "      <td>When the computer was young, the word hacking ...</td>\n",
       "    </tr>\n",
       "    <tr>\n",
       "      <th>1</th>\n",
       "      <td>ADELAIDE</td>\n",
       "      <td>Day 1, 9:25 A.M.</td>\n",
       "      <td>the hacker ethic survives, and it is a fraud. ...</td>\n",
       "    </tr>\n",
       "    <tr>\n",
       "      <th>2</th>\n",
       "      <td>BRAND</td>\n",
       "      <td>Day 1, 9:54 A.M.</td>\n",
       "      <td>The hacker ethic involves several things.  One...</td>\n",
       "    </tr>\n",
       "    <tr>\n",
       "      <th>3</th>\n",
       "      <td>KK</td>\n",
       "      <td>Day 1, 11:19 A.M.</td>\n",
       "      <td>The hacker ethic went unnoticed early on becau...</td>\n",
       "    </tr>\n",
       "  </tbody>\n",
       "</table>\n",
       "</div>"
      ],
      "text/plain": [
       "  presenter               time  \\\n",
       "0  HARPER'S   Day 1, 9:00 A.M.   \n",
       "1  ADELAIDE   Day 1, 9:25 A.M.   \n",
       "2     BRAND   Day 1, 9:54 A.M.   \n",
       "3        KK  Day 1, 11:19 A.M.   \n",
       "\n",
       "                                                text  \n",
       "0  When the computer was young, the word hacking ...  \n",
       "1  the hacker ethic survives, and it is a fraud. ...  \n",
       "2  The hacker ethic involves several things.  One...  \n",
       "3  The hacker ethic went unnoticed early on becau...  "
      ]
     },
     "execution_count": 239,
     "metadata": {},
     "output_type": "execute_result"
    }
   ],
   "source": [
    "import pandas as pd\n",
    "df = pd.read_csv(\"presenter.csv\")\n",
    "df"
   ]
  },
  {
   "cell_type": "code",
   "execution_count": 404,
   "metadata": {},
   "outputs": [
    {
     "name": "stdout",
     "output_type": "stream",
     "text": [
      "   Name  Age\n",
      "0   tom   10\n",
      "1  nick   15\n",
      "2  juli   14\n",
      "0   tom   10\n",
      "1  nick   15\n",
      "2  juli   14\n",
      "0   tom   10\n",
      "1  nick   15\n",
      "2  juli   14\n",
      "0   tom   10\n",
      "1  nick   15\n",
      "2  juli   14\n"
     ]
    }
   ],
   "source": [
    "df1 = pd.DataFrame( [['tom', 10], ['nick', 15], ['juli', 14]] ,  columns = ['Name', 'Age'])\n",
    "df2 = pd.DataFrame([['tom', 10], ['nick', 15], ['juli', 14]] ,  columns = ['Name', 'Age'])\n",
    "df3 = pd.DataFrame([['tom', 10], ['nick', 15], ['juli', 14]] ,  columns = ['Name', 'Age'])\n",
    "df4 = pd.DataFrame([['tom', 10], ['nick', 15], ['juli', 14]] ,  columns = ['Name', 'Age'])\n",
    "\n",
    "print(pd.concat([df1, df2, df3, df4]))"
   ]
  },
  {
   "cell_type": "code",
   "execution_count": 784,
   "metadata": {},
   "outputs": [
    {
     "data": {
      "image/jpeg": "[encoded data removed]",
      "text/plain": [
       "<IPython.core.display.Image object>"
      ]
     },
     "execution_count": 784,
     "metadata": {},
     "output_type": "execute_result"
    }
   ],
   "source": [
    "from IPython.display import Image\n",
    "Image(\"19.jpg\")"
   ]
  },
  {
   "cell_type": "code",
   "execution_count": 797,
   "metadata": {},
   "outputs": [
    {
     "name": "stdout",
     "output_type": "stream",
     "text": [
      "Type in your wavelength: 45*23 mm\n",
      "Unit = Millimeter\n"
     ]
    },
    {
     "data": {
      "text/plain": [
       "['45', '23']"
      ]
     },
     "execution_count": 797,
     "metadata": {},
     "output_type": "execute_result"
    }
   ],
   "source": [
    "a = (input(\"Type in your wavelength: \"))\n",
    "if \"mm\" in a:\n",
    "    print(\"Unit = Millimeter\")\n",
    "\n",
    "c = re.compile(\"\\d+\")\n",
    "b = (c.findall(a))\n",
    "b"
   ]
  },
  {
   "cell_type": "code",
   "execution_count": 799,
   "metadata": {},
   "outputs": [
    {
     "data": {
      "text/plain": [
       "['Position corrected and IL (0) was changed based on RPS: 3482 -230',\n",
       " 'DIMENSIONS: 2 x 1350 RCP | ORIGIN: PCD13180 | Position corrected and IL (0) was changed based on RPS: 1390 -20800/1350RCP',\n",
       " 'DIMENSIONS: 3 x 375 RCP | Pipe: 35mm',\n",
       " '',\n",
       " 'Review attribution',\n",
       " 'ORIGIN: 2010 PureData Survey']"
      ]
     },
     "execution_count": 799,
     "metadata": {},
     "output_type": "execute_result"
    }
   ],
   "source": [
    "s = '''DIMENSIONS:  | ORIGIN: | Position corrected and IL (0) was changed based on RPS: 3482 -230 | Pipe: \n",
    "DIMENSIONS: 2 x 1350 RCP | ORIGIN: PCD13180 | Position corrected and IL (0) was changed based on RPS: 1390 -20800/1350RCP\n",
    "DIMENSIONS: 3 x 375 RCP | Pipe: 35mm | ORIGIN:\n",
    "DIMENSIONS:  | ORIGIN:\n",
    "Review attribution | DIMENSIONS:  | ORIGIN:\n",
    "Pipe: | DIMENSIONS:  | ORIGIN: 2010 PureData Survey'''.splitlines()\n",
    "\n",
    "result = []\n",
    "for line in s:\n",
    "    line = line.split('|')\n",
    "    lst = []\n",
    "    for field in line:\n",
    "        if not field.strip().endswith(':'):\n",
    "            lst.append(field)\n",
    "    result.append('|'.join(lst).strip())\n",
    "result"
   ]
  },
  {
   "cell_type": "markdown",
   "metadata": {},
   "source": [
    "# NLP"
   ]
  },
  {
   "cell_type": "code",
   "execution_count": 140,
   "metadata": {
    "collapsed": true,
    "scrolled": true
   },
   "outputs": [],
   "source": [
    "import requests\n",
    "from bs4 import BeautifulSoup as bs\n",
    "\n",
    "url = \"http://www.ums.ac.id/en/launching-pmb-2019-rector-ums-ods-system-garnered-trust-people\"\n",
    "html = requests.get(url).text\n",
    "soup = bs(html, 'html.parser')\n",
    "\n",
    "news = []\n",
    "for data in soup.find_all('div', {\"class\":\"clearfix text-formatted field field--name-body field--type-text-with-summary field--label-hidden field__item\"}):\n",
    "    for par in data.find_all('p', {\"class\":\"text-align-justify\"}):\n",
    "        news.append(par.text)"
   ]
  },
  {
   "cell_type": "code",
   "execution_count": 142,
   "metadata": {
    "collapsed": true
   },
   "outputs": [],
   "source": [
    "import spacy\n",
    "from spacy import displacy\n",
    "nlp = spacy.load('en_core_web_lg') # install 'en' model (python3 -m spacy download en)"
   ]
  },
  {
   "cell_type": "code",
   "execution_count": 158,
   "metadata": {
    "scrolled": true
   },
   "outputs": [
    {
     "data": {
      "text/html": [
       "<div class=\"entities\" style=\"line-height: 2.5\">Starting from \n",
       "<mark class=\"entity\" style=\"background: #bfe1d9; padding: 0.45em 0.6em; margin: 0 0.25em; line-height: 1; border-radius: 0.35em; box-decoration-break: clone; -webkit-box-decoration-break: clone\">\n",
       "    02 January to 04\n",
       "    <span style=\"font-size: 0.8em; font-weight: bold; line-height: 1; border-radius: 0.35em; text-transform: uppercase; vertical-align: middle; margin-left: 0.5rem\">DATE</span>\n",
       "</mark>\n",
       " \n",
       "<mark class=\"entity\" style=\"background: #bfe1d9; padding: 0.45em 0.6em; margin: 0 0.25em; line-height: 1; border-radius: 0.35em; box-decoration-break: clone; -webkit-box-decoration-break: clone\">\n",
       "    August 2019\n",
       "    <span style=\"font-size: 0.8em; font-weight: bold; line-height: 1; border-radius: 0.35em; text-transform: uppercase; vertical-align: middle; margin-left: 0.5rem\">DATE</span>\n",
       "</mark>\n",
       ", \n",
       "<mark class=\"entity\" style=\"background: #7aecec; padding: 0.45em 0.6em; margin: 0 0.25em; line-height: 1; border-radius: 0.35em; box-decoration-break: clone; -webkit-box-decoration-break: clone\">\n",
       "    Muhammadiyah University of Surakarta\n",
       "    <span style=\"font-size: 0.8em; font-weight: bold; line-height: 1; border-radius: 0.35em; text-transform: uppercase; vertical-align: middle; margin-left: 0.5rem\">ORG</span>\n",
       "</mark>\n",
       " officially launched its \n",
       "<mark class=\"entity\" style=\"background: #7aecec; padding: 0.45em 0.6em; margin: 0 0.25em; line-height: 1; border-radius: 0.35em; box-decoration-break: clone; -webkit-box-decoration-break: clone\">\n",
       "    New Student Admission\n",
       "    <span style=\"font-size: 0.8em; font-weight: bold; line-height: 1; border-radius: 0.35em; text-transform: uppercase; vertical-align: middle; margin-left: 0.5rem\">ORG</span>\n",
       "</mark>\n",
       " (\n",
       "<mark class=\"entity\" style=\"background: #aa9cfc; padding: 0.45em 0.6em; margin: 0 0.25em; line-height: 1; border-radius: 0.35em; box-decoration-break: clone; -webkit-box-decoration-break: clone\">\n",
       "    Penerimaan Mahasiswa Baru/PMB\n",
       "    <span style=\"font-size: 0.8em; font-weight: bold; line-height: 1; border-radius: 0.35em; text-transform: uppercase; vertical-align: middle; margin-left: 0.5rem\">PERSON</span>\n",
       "</mark>\n",
       ") for \n",
       "<mark class=\"entity\" style=\"background: #bfe1d9; padding: 0.45em 0.6em; margin: 0 0.25em; line-height: 1; border-radius: 0.35em; box-decoration-break: clone; -webkit-box-decoration-break: clone\">\n",
       "    2019/2020 academic year\n",
       "    <span style=\"font-size: 0.8em; font-weight: bold; line-height: 1; border-radius: 0.35em; text-transform: uppercase; vertical-align: middle; margin-left: 0.5rem\">DATE</span>\n",
       "</mark>\n",
       ". The launching of \n",
       "<mark class=\"entity\" style=\"background: #7aecec; padding: 0.45em 0.6em; margin: 0 0.25em; line-height: 1; border-radius: 0.35em; box-decoration-break: clone; -webkit-box-decoration-break: clone\">\n",
       "    PMB\n",
       "    <span style=\"font-size: 0.8em; font-weight: bold; line-height: 1; border-radius: 0.35em; text-transform: uppercase; vertical-align: middle; margin-left: 0.5rem\">ORG</span>\n",
       "</mark>\n",
       " will be commenced directly by the Rector of \n",
       "<mark class=\"entity\" style=\"background: #7aecec; padding: 0.45em 0.6em; margin: 0 0.25em; line-height: 1; border-radius: 0.35em; box-decoration-break: clone; -webkit-box-decoration-break: clone\">\n",
       "    UMS\n",
       "    <span style=\"font-size: 0.8em; font-weight: bold; line-height: 1; border-radius: 0.35em; text-transform: uppercase; vertical-align: middle; margin-left: 0.5rem\">ORG</span>\n",
       "</mark>\n",
       ", Dr. \n",
       "<mark class=\"entity\" style=\"background: #aa9cfc; padding: 0.45em 0.6em; margin: 0 0.25em; line-height: 1; border-radius: 0.35em; box-decoration-break: clone; -webkit-box-decoration-break: clone\">\n",
       "    Sofyan Anif\n",
       "    <span style=\"font-size: 0.8em; font-weight: bold; line-height: 1; border-radius: 0.35em; text-transform: uppercase; vertical-align: middle; margin-left: 0.5rem\">PERSON</span>\n",
       "</mark>\n",
       ", \n",
       "<mark class=\"entity\" style=\"background: #feca74; padding: 0.45em 0.6em; margin: 0 0.25em; line-height: 1; border-radius: 0.35em; box-decoration-break: clone; -webkit-box-decoration-break: clone\">\n",
       "    M.Si\n",
       "    <span style=\"font-size: 0.8em; font-weight: bold; line-height: 1; border-radius: 0.35em; text-transform: uppercase; vertical-align: middle; margin-left: 0.5rem\">GPE</span>\n",
       "</mark>\n",
       ". at the registration room for \n",
       "<mark class=\"entity\" style=\"background: #bfe1d9; padding: 0.45em 0.6em; margin: 0 0.25em; line-height: 1; border-radius: 0.35em; box-decoration-break: clone; -webkit-box-decoration-break: clone\">\n",
       "    One Day Service\n",
       "    <span style=\"font-size: 0.8em; font-weight: bold; line-height: 1; border-radius: 0.35em; text-transform: uppercase; vertical-align: middle; margin-left: 0.5rem\">DATE</span>\n",
       "</mark>\n",
       " (ODS) UMS (\n",
       "<mark class=\"entity\" style=\"background: #e4e7d2; padding: 0.45em 0.6em; margin: 0 0.25em; line-height: 1; border-radius: 0.35em; box-decoration-break: clone; -webkit-box-decoration-break: clone\">\n",
       "    2/1/2019\n",
       "    <span style=\"font-size: 0.8em; font-weight: bold; line-height: 1; border-radius: 0.35em; text-transform: uppercase; vertical-align: middle; margin-left: 0.5rem\">CARDINAL</span>\n",
       "</mark>\n",
       ").</div>"
      ],
      "text/plain": [
       "<IPython.core.display.HTML object>"
      ]
     },
     "metadata": {},
     "output_type": "display_data"
    },
    {
     "name": "stdout",
     "output_type": "stream",
     "text": [
      "None\n"
     ]
    },
    {
     "data": {
      "text/html": [
       "<div class=\"entities\" style=\"line-height: 2.5\">Each Faculty \n",
       "<mark class=\"entity\" style=\"background: #aa9cfc; padding: 0.45em 0.6em; margin: 0 0.25em; line-height: 1; border-radius: 0.35em; box-decoration-break: clone; -webkit-box-decoration-break: clone\">\n",
       "    Dean\n",
       "    <span style=\"font-size: 0.8em; font-weight: bold; line-height: 1; border-radius: 0.35em; text-transform: uppercase; vertical-align: middle; margin-left: 0.5rem\">PERSON</span>\n",
       "</mark>\n",
       " also attended the launching. Dr. \n",
       "<mark class=\"entity\" style=\"background: #aa9cfc; padding: 0.45em 0.6em; margin: 0 0.25em; line-height: 1; border-radius: 0.35em; box-decoration-break: clone; -webkit-box-decoration-break: clone\">\n",
       "    Sofyan Anif\n",
       "    <span style=\"font-size: 0.8em; font-weight: bold; line-height: 1; border-radius: 0.35em; text-transform: uppercase; vertical-align: middle; margin-left: 0.5rem\">PERSON</span>\n",
       "</mark>\n",
       ", \n",
       "<mark class=\"entity\" style=\"background: #feca74; padding: 0.45em 0.6em; margin: 0 0.25em; line-height: 1; border-radius: 0.35em; box-decoration-break: clone; -webkit-box-decoration-break: clone\">\n",
       "    M.Si\n",
       "    <span style=\"font-size: 0.8em; font-weight: bold; line-height: 1; border-radius: 0.35em; text-transform: uppercase; vertical-align: middle; margin-left: 0.5rem\">GPE</span>\n",
       "</mark>\n",
       " mentioned that \n",
       "<mark class=\"entity\" style=\"background: #bfe1d9; padding: 0.45em 0.6em; margin: 0 0.25em; line-height: 1; border-radius: 0.35em; box-decoration-break: clone; -webkit-box-decoration-break: clone\">\n",
       "    One Day Service\n",
       "    <span style=\"font-size: 0.8em; font-weight: bold; line-height: 1; border-radius: 0.35em; text-transform: uppercase; vertical-align: middle; margin-left: 0.5rem\">DATE</span>\n",
       "</mark>\n",
       " (\n",
       "<mark class=\"entity\" style=\"background: #7aecec; padding: 0.45em 0.6em; margin: 0 0.25em; line-height: 1; border-radius: 0.35em; box-decoration-break: clone; -webkit-box-decoration-break: clone\">\n",
       "    ODS\n",
       "    <span style=\"font-size: 0.8em; font-weight: bold; line-height: 1; border-radius: 0.35em; text-transform: uppercase; vertical-align: middle; margin-left: 0.5rem\">ORG</span>\n",
       "</mark>\n",
       ") system owned by \n",
       "<mark class=\"entity\" style=\"background: #7aecec; padding: 0.45em 0.6em; margin: 0 0.25em; line-height: 1; border-radius: 0.35em; box-decoration-break: clone; -webkit-box-decoration-break: clone\">\n",
       "    UMS\n",
       "    <span style=\"font-size: 0.8em; font-weight: bold; line-height: 1; border-radius: 0.35em; text-transform: uppercase; vertical-align: middle; margin-left: 0.5rem\">ORG</span>\n",
       "</mark>\n",
       " garnered more trust from people who chose \n",
       "<mark class=\"entity\" style=\"background: #7aecec; padding: 0.45em 0.6em; margin: 0 0.25em; line-height: 1; border-radius: 0.35em; box-decoration-break: clone; -webkit-box-decoration-break: clone\">\n",
       "    UMS\n",
       "    <span style=\"font-size: 0.8em; font-weight: bold; line-height: 1; border-radius: 0.35em; text-transform: uppercase; vertical-align: middle; margin-left: 0.5rem\">ORG</span>\n",
       "</mark>\n",
       " as their trusted \n",
       "<mark class=\"entity\" style=\"background: #7aecec; padding: 0.45em 0.6em; margin: 0 0.25em; line-height: 1; border-radius: 0.35em; box-decoration-break: clone; -webkit-box-decoration-break: clone\">\n",
       "    Higher Education Institution\n",
       "    <span style=\"font-size: 0.8em; font-weight: bold; line-height: 1; border-radius: 0.35em; text-transform: uppercase; vertical-align: middle; margin-left: 0.5rem\">ORG</span>\n",
       "</mark>\n",
       ". </div>"
      ],
      "text/plain": [
       "<IPython.core.display.HTML object>"
      ]
     },
     "metadata": {},
     "output_type": "display_data"
    },
    {
     "name": "stdout",
     "output_type": "stream",
     "text": [
      "None\n"
     ]
    },
    {
     "data": {
      "text/html": [
       "<div class=\"entities\" style=\"line-height: 2.5\">\"ODS is one of the systems that we are proud of and the trust from people keeps increasing because to be a student at \n",
       "<mark class=\"entity\" style=\"background: #7aecec; padding: 0.45em 0.6em; margin: 0 0.25em; line-height: 1; border-radius: 0.35em; box-decoration-break: clone; -webkit-box-decoration-break: clone\">\n",
       "    UMS\n",
       "    <span style=\"font-size: 0.8em; font-weight: bold; line-height: 1; border-radius: 0.35em; text-transform: uppercase; vertical-align: middle; margin-left: 0.5rem\">ORG</span>\n",
       "</mark>\n",
       ", they should pass the selection that no one could interfere with,\" he said during the launching of PMB UMS of \n",
       "<mark class=\"entity\" style=\"background: #bfe1d9; padding: 0.45em 0.6em; margin: 0 0.25em; line-height: 1; border-radius: 0.35em; box-decoration-break: clone; -webkit-box-decoration-break: clone\">\n",
       "    2019\n",
       "    <span style=\"font-size: 0.8em; font-weight: bold; line-height: 1; border-radius: 0.35em; text-transform: uppercase; vertical-align: middle; margin-left: 0.5rem\">DATE</span>\n",
       "</mark>\n",
       ".</div>"
      ],
      "text/plain": [
       "<IPython.core.display.HTML object>"
      ]
     },
     "metadata": {},
     "output_type": "display_data"
    },
    {
     "name": "stdout",
     "output_type": "stream",
     "text": [
      "None\n"
     ]
    },
    {
     "data": {
      "text/html": [
       "<div class=\"entities\" style=\"line-height: 2.5\">Furthermore, the Rector of \n",
       "<mark class=\"entity\" style=\"background: #7aecec; padding: 0.45em 0.6em; margin: 0 0.25em; line-height: 1; border-radius: 0.35em; box-decoration-break: clone; -webkit-box-decoration-break: clone\">\n",
       "    UMS\n",
       "    <span style=\"font-size: 0.8em; font-weight: bold; line-height: 1; border-radius: 0.35em; text-transform: uppercase; vertical-align: middle; margin-left: 0.5rem\">ORG</span>\n",
       "</mark>\n",
       " explained that each prospective student at \n",
       "<mark class=\"entity\" style=\"background: #7aecec; padding: 0.45em 0.6em; margin: 0 0.25em; line-height: 1; border-radius: 0.35em; box-decoration-break: clone; -webkit-box-decoration-break: clone\">\n",
       "    UMS\n",
       "    <span style=\"font-size: 0.8em; font-weight: bold; line-height: 1; border-radius: 0.35em; text-transform: uppercase; vertical-align: middle; margin-left: 0.5rem\">ORG</span>\n",
       "</mark>\n",
       " is given the chance to register \n",
       "<mark class=\"entity\" style=\"background: #e4e7d2; padding: 0.45em 0.6em; margin: 0 0.25em; line-height: 1; border-radius: 0.35em; box-decoration-break: clone; -webkit-box-decoration-break: clone\">\n",
       "    three\n",
       "    <span style=\"font-size: 0.8em; font-weight: bold; line-height: 1; border-radius: 0.35em; text-transform: uppercase; vertical-align: middle; margin-left: 0.5rem\">CARDINAL</span>\n",
       "</mark>\n",
       " times and on each registration, they have \n",
       "<mark class=\"entity\" style=\"background: #e4e7d2; padding: 0.45em 0.6em; margin: 0 0.25em; line-height: 1; border-radius: 0.35em; box-decoration-break: clone; -webkit-box-decoration-break: clone\">\n",
       "    three\n",
       "    <span style=\"font-size: 0.8em; font-weight: bold; line-height: 1; border-radius: 0.35em; text-transform: uppercase; vertical-align: middle; margin-left: 0.5rem\">CARDINAL</span>\n",
       "</mark>\n",
       " opportunities of computer-based test. </div>"
      ],
      "text/plain": [
       "<IPython.core.display.HTML object>"
      ]
     },
     "metadata": {},
     "output_type": "display_data"
    },
    {
     "name": "stdout",
     "output_type": "stream",
     "text": [
      "None\n"
     ]
    },
    {
     "data": {
      "text/html": [
       "<div class=\"entities\" style=\"line-height: 2.5\">\"The mechanism for this is that each registrant is given opportunity \n",
       "<mark class=\"entity\" style=\"background: #e4e7d2; padding: 0.45em 0.6em; margin: 0 0.25em; line-height: 1; border-radius: 0.35em; box-decoration-break: clone; -webkit-box-decoration-break: clone\">\n",
       "    three\n",
       "    <span style=\"font-size: 0.8em; font-weight: bold; line-height: 1; border-radius: 0.35em; text-transform: uppercase; vertical-align: middle; margin-left: 0.5rem\">CARDINAL</span>\n",
       "</mark>\n",
       " times, and on each registration, they can have \n",
       "<mark class=\"entity\" style=\"background: #e4e7d2; padding: 0.45em 0.6em; margin: 0 0.25em; line-height: 1; border-radius: 0.35em; box-decoration-break: clone; -webkit-box-decoration-break: clone\">\n",
       "    three\n",
       "    <span style=\"font-size: 0.8em; font-weight: bold; line-height: 1; border-radius: 0.35em; text-transform: uppercase; vertical-align: middle; margin-left: 0.5rem\">CARDINAL</span>\n",
       "</mark>\n",
       " times of test. The test is done through computer system,” he explained. </div>"
      ],
      "text/plain": [
       "<IPython.core.display.HTML object>"
      ]
     },
     "metadata": {},
     "output_type": "display_data"
    },
    {
     "name": "stdout",
     "output_type": "stream",
     "text": [
      "None\n"
     ]
    },
    {
     "data": {
      "text/html": [
       "<div class=\"entities\" style=\"line-height: 2.5\">Still related to ODS system, \n",
       "<mark class=\"entity\" style=\"background: #7aecec; padding: 0.45em 0.6em; margin: 0 0.25em; line-height: 1; border-radius: 0.35em; box-decoration-break: clone; -webkit-box-decoration-break: clone\">\n",
       "    UMS\n",
       "    <span style=\"font-size: 0.8em; font-weight: bold; line-height: 1; border-radius: 0.35em; text-transform: uppercase; vertical-align: middle; margin-left: 0.5rem\">ORG</span>\n",
       "</mark>\n",
       " becomes the \n",
       "<mark class=\"entity\" style=\"background: #e4e7d2; padding: 0.45em 0.6em; margin: 0 0.25em; line-height: 1; border-radius: 0.35em; box-decoration-break: clone; -webkit-box-decoration-break: clone\">\n",
       "    first\n",
       "    <span style=\"font-size: 0.8em; font-weight: bold; line-height: 1; border-radius: 0.35em; text-transform: uppercase; vertical-align: middle; margin-left: 0.5rem\">ORDINAL</span>\n",
       "</mark>\n",
       " university to employ this system. Since \n",
       "<mark class=\"entity\" style=\"background: #bfe1d9; padding: 0.45em 0.6em; margin: 0 0.25em; line-height: 1; border-radius: 0.35em; box-decoration-break: clone; -webkit-box-decoration-break: clone\">\n",
       "    2004\n",
       "    <span style=\"font-size: 0.8em; font-weight: bold; line-height: 1; border-radius: 0.35em; text-transform: uppercase; vertical-align: middle; margin-left: 0.5rem\">DATE</span>\n",
       "</mark>\n",
       ", One Day Service was already carried out at \n",
       "<mark class=\"entity\" style=\"background: #7aecec; padding: 0.45em 0.6em; margin: 0 0.25em; line-height: 1; border-radius: 0.35em; box-decoration-break: clone; -webkit-box-decoration-break: clone\">\n",
       "    UMS\n",
       "    <span style=\"font-size: 0.8em; font-weight: bold; line-height: 1; border-radius: 0.35em; text-transform: uppercase; vertical-align: middle; margin-left: 0.5rem\">ORG</span>\n",
       "</mark>\n",
       " and now other universities had begun to follow its feat. </div>"
      ],
      "text/plain": [
       "<IPython.core.display.HTML object>"
      ]
     },
     "metadata": {},
     "output_type": "display_data"
    },
    {
     "name": "stdout",
     "output_type": "stream",
     "text": [
      "None\n"
     ]
    },
    {
     "data": {
      "text/html": [
       "<div class=\"entities\" style=\"line-height: 2.5\">“Since \n",
       "<mark class=\"entity\" style=\"background: #bfe1d9; padding: 0.45em 0.6em; margin: 0 0.25em; line-height: 1; border-radius: 0.35em; box-decoration-break: clone; -webkit-box-decoration-break: clone\">\n",
       "    2004\n",
       "    <span style=\"font-size: 0.8em; font-weight: bold; line-height: 1; border-radius: 0.35em; text-transform: uppercase; vertical-align: middle; margin-left: 0.5rem\">DATE</span>\n",
       "</mark>\n",
       ", \n",
       "<mark class=\"entity\" style=\"background: #7aecec; padding: 0.45em 0.6em; margin: 0 0.25em; line-height: 1; border-radius: 0.35em; box-decoration-break: clone; -webkit-box-decoration-break: clone\">\n",
       "    UMS\n",
       "    <span style=\"font-size: 0.8em; font-weight: bold; line-height: 1; border-radius: 0.35em; text-transform: uppercase; vertical-align: middle; margin-left: 0.5rem\">ORG</span>\n",
       "</mark>\n",
       " has used this ODS system, \n",
       "<mark class=\"entity\" style=\"background: #7aecec; padding: 0.45em 0.6em; margin: 0 0.25em; line-height: 1; border-radius: 0.35em; box-decoration-break: clone; -webkit-box-decoration-break: clone\">\n",
       "    UMS\n",
       "    <span style=\"font-size: 0.8em; font-weight: bold; line-height: 1; border-radius: 0.35em; text-transform: uppercase; vertical-align: middle; margin-left: 0.5rem\">ORG</span>\n",
       "</mark>\n",
       " was the \n",
       "<mark class=\"entity\" style=\"background: #e4e7d2; padding: 0.45em 0.6em; margin: 0 0.25em; line-height: 1; border-radius: 0.35em; box-decoration-break: clone; -webkit-box-decoration-break: clone\">\n",
       "    first\n",
       "    <span style=\"font-size: 0.8em; font-weight: bold; line-height: 1; border-radius: 0.35em; text-transform: uppercase; vertical-align: middle; margin-left: 0.5rem\">ORDINAL</span>\n",
       "</mark>\n",
       " university to use it and now other universities have done so as well, especially \n",
       "<mark class=\"entity\" style=\"background: #7aecec; padding: 0.45em 0.6em; margin: 0 0.25em; line-height: 1; border-radius: 0.35em; box-decoration-break: clone; -webkit-box-decoration-break: clone\">\n",
       "    Muhammadiyah\n",
       "    <span style=\"font-size: 0.8em; font-weight: bold; line-height: 1; border-radius: 0.35em; text-transform: uppercase; vertical-align: middle; margin-left: 0.5rem\">ORG</span>\n",
       "</mark>\n",
       " universities,\" he continued. </div>"
      ],
      "text/plain": [
       "<IPython.core.display.HTML object>"
      ]
     },
     "metadata": {},
     "output_type": "display_data"
    },
    {
     "name": "stdout",
     "output_type": "stream",
     "text": [
      "None\n"
     ]
    },
    {
     "data": {
      "text/html": [
       "<div class=\"entities\" style=\"line-height: 2.5\">As a symbol of the opening of PMB, the Rector of \n",
       "<mark class=\"entity\" style=\"background: #7aecec; padding: 0.45em 0.6em; margin: 0 0.25em; line-height: 1; border-radius: 0.35em; box-decoration-break: clone; -webkit-box-decoration-break: clone\">\n",
       "    UMS\n",
       "    <span style=\"font-size: 0.8em; font-weight: bold; line-height: 1; border-radius: 0.35em; text-transform: uppercase; vertical-align: middle; margin-left: 0.5rem\">ORG</span>\n",
       "</mark>\n",
       " handed over the \n",
       "<mark class=\"entity\" style=\"background: #e4e7d2; padding: 0.45em 0.6em; margin: 0 0.25em; line-height: 1; border-radius: 0.35em; box-decoration-break: clone; -webkit-box-decoration-break: clone\">\n",
       "    first\n",
       "    <span style=\"font-size: 0.8em; font-weight: bold; line-height: 1; border-radius: 0.35em; text-transform: uppercase; vertical-align: middle; margin-left: 0.5rem\">ORDINAL</span>\n",
       "</mark>\n",
       " test number \n",
       "<mark class=\"entity\" style=\"background: #e4e7d2; padding: 0.45em 0.6em; margin: 0 0.25em; line-height: 1; border-radius: 0.35em; box-decoration-break: clone; -webkit-box-decoration-break: clone\">\n",
       "    001\n",
       "    <span style=\"font-size: 0.8em; font-weight: bold; line-height: 1; border-radius: 0.35em; text-transform: uppercase; vertical-align: middle; margin-left: 0.5rem\">CARDINAL</span>\n",
       "</mark>\n",
       " to the \n",
       "<mark class=\"entity\" style=\"background: #e4e7d2; padding: 0.45em 0.6em; margin: 0 0.25em; line-height: 1; border-radius: 0.35em; box-decoration-break: clone; -webkit-box-decoration-break: clone\">\n",
       "    first\n",
       "    <span style=\"font-size: 0.8em; font-weight: bold; line-height: 1; border-radius: 0.35em; text-transform: uppercase; vertical-align: middle; margin-left: 0.5rem\">ORDINAL</span>\n",
       "</mark>\n",
       " registrar on behalf of \n",
       "<mark class=\"entity\" style=\"background: #feca74; padding: 0.45em 0.6em; margin: 0 0.25em; line-height: 1; border-radius: 0.35em; box-decoration-break: clone; -webkit-box-decoration-break: clone\">\n",
       "    Naning\n",
       "    <span style=\"font-size: 0.8em; font-weight: bold; line-height: 1; border-radius: 0.35em; text-transform: uppercase; vertical-align: middle; margin-left: 0.5rem\">GPE</span>\n",
       "</mark>\n",
       " Oktabhita \n",
       "<mark class=\"entity\" style=\"background: #aa9cfc; padding: 0.45em 0.6em; margin: 0 0.25em; line-height: 1; border-radius: 0.35em; box-decoration-break: clone; -webkit-box-decoration-break: clone\">\n",
       "    Ananda Harsono Putri\n",
       "    <span style=\"font-size: 0.8em; font-weight: bold; line-height: 1; border-radius: 0.35em; text-transform: uppercase; vertical-align: middle; margin-left: 0.5rem\">PERSON</span>\n",
       "</mark>\n",
       ". She is a student from MAN Purwosari Kediri. The applicant from \n",
       "<mark class=\"entity\" style=\"background: #feca74; padding: 0.45em 0.6em; margin: 0 0.25em; line-height: 1; border-radius: 0.35em; box-decoration-break: clone; -webkit-box-decoration-break: clone\">\n",
       "    Kediri\n",
       "    <span style=\"font-size: 0.8em; font-weight: bold; line-height: 1; border-radius: 0.35em; text-transform: uppercase; vertical-align: middle; margin-left: 0.5rem\">GPE</span>\n",
       "</mark>\n",
       " chose \n",
       "<mark class=\"entity\" style=\"background: #7aecec; padding: 0.45em 0.6em; margin: 0 0.25em; line-height: 1; border-radius: 0.35em; box-decoration-break: clone; -webkit-box-decoration-break: clone\">\n",
       "    General Medicine\n",
       "    <span style=\"font-size: 0.8em; font-weight: bold; line-height: 1; border-radius: 0.35em; text-transform: uppercase; vertical-align: middle; margin-left: 0.5rem\">ORG</span>\n",
       "</mark>\n",
       " as its \n",
       "<mark class=\"entity\" style=\"background: #e4e7d2; padding: 0.45em 0.6em; margin: 0 0.25em; line-height: 1; border-radius: 0.35em; box-decoration-break: clone; -webkit-box-decoration-break: clone\">\n",
       "    first\n",
       "    <span style=\"font-size: 0.8em; font-weight: bold; line-height: 1; border-radius: 0.35em; text-transform: uppercase; vertical-align: middle; margin-left: 0.5rem\">ORDINAL</span>\n",
       "</mark>\n",
       " choice and Dentistry as its \n",
       "<mark class=\"entity\" style=\"background: #e4e7d2; padding: 0.45em 0.6em; margin: 0 0.25em; line-height: 1; border-radius: 0.35em; box-decoration-break: clone; -webkit-box-decoration-break: clone\">\n",
       "    second\n",
       "    <span style=\"font-size: 0.8em; font-weight: bold; line-height: 1; border-radius: 0.35em; text-transform: uppercase; vertical-align: middle; margin-left: 0.5rem\">ORDINAL</span>\n",
       "</mark>\n",
       " one. </div>"
      ],
      "text/plain": [
       "<IPython.core.display.HTML object>"
      ]
     },
     "metadata": {},
     "output_type": "display_data"
    },
    {
     "name": "stdout",
     "output_type": "stream",
     "text": [
      "None\n"
     ]
    },
    {
     "data": {
      "text/html": [
       "<div class=\"entities\" style=\"line-height: 2.5\">In addition, Dr. \n",
       "<mark class=\"entity\" style=\"background: #aa9cfc; padding: 0.45em 0.6em; margin: 0 0.25em; line-height: 1; border-radius: 0.35em; box-decoration-break: clone; -webkit-box-decoration-break: clone\">\n",
       "    Triyono\n",
       "    <span style=\"font-size: 0.8em; font-weight: bold; line-height: 1; border-radius: 0.35em; text-transform: uppercase; vertical-align: middle; margin-left: 0.5rem\">PERSON</span>\n",
       "</mark>\n",
       " as the \n",
       "<mark class=\"entity\" style=\"background: #7aecec; padding: 0.45em 0.6em; margin: 0 0.25em; line-height: 1; border-radius: 0.35em; box-decoration-break: clone; -webkit-box-decoration-break: clone\">\n",
       "    Chair\n",
       "    <span style=\"font-size: 0.8em; font-weight: bold; line-height: 1; border-radius: 0.35em; text-transform: uppercase; vertical-align: middle; margin-left: 0.5rem\">ORG</span>\n",
       "</mark>\n",
       " committee of PMB UMS \n",
       "<mark class=\"entity\" style=\"background: #bfe1d9; padding: 0.45em 0.6em; margin: 0 0.25em; line-height: 1; border-radius: 0.35em; box-decoration-break: clone; -webkit-box-decoration-break: clone\">\n",
       "    2019/2020 academic year\n",
       "    <span style=\"font-size: 0.8em; font-weight: bold; line-height: 1; border-radius: 0.35em; text-transform: uppercase; vertical-align: middle; margin-left: 0.5rem\">DATE</span>\n",
       "</mark>\n",
       " mentioned that \n",
       "<mark class=\"entity\" style=\"background: #7aecec; padding: 0.45em 0.6em; margin: 0 0.25em; line-height: 1; border-radius: 0.35em; box-decoration-break: clone; -webkit-box-decoration-break: clone\">\n",
       "    UMS\n",
       "    <span style=\"font-size: 0.8em; font-weight: bold; line-height: 1; border-radius: 0.35em; text-transform: uppercase; vertical-align: middle; margin-left: 0.5rem\">ORG</span>\n",
       "</mark>\n",
       " opened quota of \n",
       "<mark class=\"entity\" style=\"background: #e4e7d2; padding: 0.45em 0.6em; margin: 0 0.25em; line-height: 1; border-radius: 0.35em; box-decoration-break: clone; -webkit-box-decoration-break: clone\">\n",
       "    8,000\n",
       "    <span style=\"font-size: 0.8em; font-weight: bold; line-height: 1; border-radius: 0.35em; text-transform: uppercase; vertical-align: middle; margin-left: 0.5rem\">CARDINAL</span>\n",
       "</mark>\n",
       " new students. Furthermore, \n",
       "<mark class=\"entity\" style=\"background: #7aecec; padding: 0.45em 0.6em; margin: 0 0.25em; line-height: 1; border-radius: 0.35em; box-decoration-break: clone; -webkit-box-decoration-break: clone\">\n",
       "    UMS\n",
       "    <span style=\"font-size: 0.8em; font-weight: bold; line-height: 1; border-radius: 0.35em; text-transform: uppercase; vertical-align: middle; margin-left: 0.5rem\">ORG</span>\n",
       "</mark>\n",
       " provided scholarships \n",
       "<mark class=\"entity\" style=\"background: #e4e7d2; padding: 0.45em 0.6em; margin: 0 0.25em; line-height: 1; border-radius: 0.35em; box-decoration-break: clone; -webkit-box-decoration-break: clone\">\n",
       "    as much as 2.5%\n",
       "    <span style=\"font-size: 0.8em; font-weight: bold; line-height: 1; border-radius: 0.35em; text-transform: uppercase; vertical-align: middle; margin-left: 0.5rem\">PERCENT</span>\n",
       "</mark>\n",
       " of the total student population. The scholarship can be achieved through several media, such as \n",
       "<mark class=\"entity\" style=\"background: #aa9cfc; padding: 0.45em 0.6em; margin: 0 0.25em; line-height: 1; border-radius: 0.35em; box-decoration-break: clone; -webkit-box-decoration-break: clone\">\n",
       "    Beasiswa Ahmad Dahlan\n",
       "    <span style=\"font-size: 0.8em; font-weight: bold; line-height: 1; border-radius: 0.35em; text-transform: uppercase; vertical-align: middle; margin-left: 0.5rem\">PERSON</span>\n",
       "</mark>\n",
       ", \n",
       "<mark class=\"entity\" style=\"background: #7aecec; padding: 0.45em 0.6em; margin: 0 0.25em; line-height: 1; border-radius: 0.35em; box-decoration-break: clone; -webkit-box-decoration-break: clone\">\n",
       "    Beasiswa Unggulan Muhammadiyah\n",
       "    <span style=\"font-size: 0.8em; font-weight: bold; line-height: 1; border-radius: 0.35em; text-transform: uppercase; vertical-align: middle; margin-left: 0.5rem\">ORG</span>\n",
       "</mark>\n",
       ", and many others. </div>"
      ],
      "text/plain": [
       "<IPython.core.display.HTML object>"
      ]
     },
     "metadata": {},
     "output_type": "display_data"
    },
    {
     "name": "stdout",
     "output_type": "stream",
     "text": [
      "None\n"
     ]
    }
   ],
   "source": [
    "for n in news:\n",
    "    doc = nlp(n)\n",
    "    label = []\n",
    "    for i in doc.ents:\n",
    "        label.append(i.label_)\n",
    "    if label != []:\n",
    "        print(displacy.render(doc, style='ent', jupyter=True))\n",
    "    else:\n",
    "        pass"
   ]
  },
  {
   "cell_type": "markdown",
   "metadata": {
    "collapsed": true
   },
   "source": [
    "# Translate"
   ]
  },
  {
   "cell_type": "code",
   "execution_count": 10,
   "metadata": {},
   "outputs": [
    {
     "name": "stdout",
     "output_type": "stream",
     "text": [
      "goat\n"
     ]
    }
   ],
   "source": [
    "from py_translator import Translator\n",
    "from translate import Translator\n",
    "\n",
    "translator= Translator(from_lang=\"id\",to_lang=\"en\")\n",
    "translation = translator.translate(\"kambing\")\n",
    "print(translation)"
   ]
  },
  {
   "cell_type": "code",
   "execution_count": 13,
   "metadata": {},
   "outputs": [
    {
     "name": "stdout",
     "output_type": "stream",
     "text": [
      "Aku cinta kamu\n"
     ]
    }
   ],
   "source": [
    "from googletrans import Translator\n",
    "\n",
    "translator = Translator()\n",
    "string = 'I love you'\n",
    "text = translator.translate(string, src='en', dest='id')\n",
    "print(text.text)"
   ]
  },
  {
   "cell_type": "markdown",
   "metadata": {},
   "source": [
    "# Other"
   ]
  },
  {
   "cell_type": "code",
   "execution_count": 76,
   "metadata": {},
   "outputs": [
    {
     "name": "stdout",
     "output_type": "stream",
     "text": [
      "a\n",
      "b\n",
      "c\n",
      "d\n"
     ]
    }
   ],
   "source": [
    "mylist = [\"a\",\"b\",\"c\",\"d\"]\n",
    "print('\\n'.join((str(i) for i in mylist)))"
   ]
  },
  {
   "cell_type": "code",
   "execution_count": 121,
   "metadata": {},
   "outputs": [
    {
     "name": "stdout",
     "output_type": "stream",
     "text": [
      "2019-3-25\n"
     ]
    }
   ],
   "source": [
    "from datetime import datetime, timedelta\n",
    "\n",
    "d = datetime.today() - timedelta(days=30)\n",
    "print('%s-%s-%s' % (d.year, d.month, d.day))"
   ]
  },
  {
   "cell_type": "code",
   "execution_count": 109,
   "metadata": {},
   "outputs": [
    {
     "name": "stdout",
     "output_type": "stream",
     "text": [
      "2012-11-21\n"
     ]
    }
   ],
   "source": [
    "import datetime\n",
    "\n",
    "time_stamp = datetime.datetime(day=21, month=12, year=2012)\n",
    "difference = time_stamp - datetime.timedelta(days=30)\n",
    "print ('%s-%s-%s' % (difference.year, difference.month, difference.day))"
   ]
  },
  {
   "cell_type": "code",
   "execution_count": 118,
   "metadata": {},
   "outputs": [
    {
     "name": "stdout",
     "output_type": "stream",
     "text": [
      "2019-04-24 08:45:35.498921\n",
      "2019-3-24\n"
     ]
    }
   ],
   "source": [
    "import datetime\n",
    "time = datetime.datetime.today()\n",
    "print(time)\n",
    "timestr = time.strftime(\"%Y-%m-%d\")\n",
    "year, month, day = timestr.split(\"-\")\n",
    "print(\"{}-{}-{}\".format(year, int(month)-1, day))"
   ]
  },
  {
   "cell_type": "code",
   "execution_count": 120,
   "metadata": {},
   "outputs": [
    {
     "name": "stdout",
     "output_type": "stream",
     "text": [
      "Current Date : 2019-04-24\n",
      "2019-03-25\n"
     ]
    }
   ],
   "source": [
    "from datetime import date, timedelta\n",
    "\n",
    "dt = date.today() - timedelta(30) # timedelta(days No.)\n",
    "print('Current Date :',date.today())\n",
    "print(dt)"
   ]
  },
  {
   "cell_type": "code",
   "execution_count": 126,
   "metadata": {},
   "outputs": [
    {
     "name": "stdout",
     "output_type": "stream",
     "text": [
      "[2, 3, 4]\n"
     ]
    }
   ],
   "source": [
    "list1 = [3,4,2]\n",
    "list2 = []\n",
    "minimum = list1[0]  # arbitrary number in list \n",
    "\n",
    "while list1:\n",
    "    minimum = list1[0]  # arbitrary number in list \n",
    "    for x in list1: \n",
    "        if x < minimum:\n",
    "            minimum = x\n",
    "    list2.append(minimum)\n",
    "    list1.remove(minimum)    \n",
    "\n",
    "print (list2)"
   ]
  },
  {
   "cell_type": "code",
   "execution_count": 128,
   "metadata": {},
   "outputs": [
    {
     "data": {
      "text/plain": [
       "[2, 3, 3, 5, 5, 7, 9, 12]"
      ]
     },
     "execution_count": 128,
     "metadata": {},
     "output_type": "execute_result"
    }
   ],
   "source": [
    "def selection_sort(list):\n",
    "    for i in range(0, len(list) - 1):\n",
    "        min_num = list[i]\n",
    "        for j in range(i + 1, len(list)):\n",
    "            min_num = min(min_num, list[j])\n",
    "        list[list[i:].index(min_num) + i], list[i] = list[i], min_num\n",
    "    return list\n",
    "\n",
    "list1 = [5,2,7,9,12,3,5,3]\n",
    "selection_sort(list1)"
   ]
  },
  {
   "cell_type": "code",
   "execution_count": 134,
   "metadata": {},
   "outputs": [
    {
     "name": "stdout",
     "output_type": "stream",
     "text": [
      "[1, 2, 3, 11, 12, 22, 23, 25, 34, 44, 64, 122]\n"
     ]
    }
   ],
   "source": [
    "list1 = [64, 25, 12, 22, 11, 1,2,44,3,122, 23, 34]\n",
    "list2 = []\n",
    "for i in range(len(list1)):\n",
    "    for j in range(i + 1, len(list1)):\n",
    "        if list1[i] > list1[j]:\n",
    "            list1[i], list1[j] = list1[j], list1[i]\n",
    "print (list1)"
   ]
  },
  {
   "cell_type": "code",
   "execution_count": 170,
   "metadata": {},
   "outputs": [
    {
     "name": "stdout",
     "output_type": "stream",
     "text": [
      "'i' is the reverse of 'i'\n",
      "'see' is the reverse of 'ees'\n",
      "'ees' is the reverse of 'see'\n",
      "'a' is the reverse of 'a'\n"
     ]
    }
   ],
   "source": [
    "mystr = \"illusion never changed into something real wide awake and i can see the perfect sky ees torn you are a little late I'm already torn\"\n",
    "\n",
    "def reverse(word):\n",
    "    letter = list(word)\n",
    "    length = len(letter)\n",
    "    y = []\n",
    "    for x,w in enumerate(letter):\n",
    "        y.append(\"\".join(letter[(length-1)-x]))\n",
    "    return(\"\".join(yy for yy in y))\n",
    "        \n",
    "\n",
    "words = mystr.split()\n",
    "for word in words:\n",
    "    if (reverse(word)) in words:\n",
    "        print (\"'\" + word + \"' is the reverse of '\" + reverse(word) + \"'\")"
   ]
  },
  {
   "cell_type": "code",
   "execution_count": 173,
   "metadata": {},
   "outputs": [
    {
     "name": "stdout",
     "output_type": "stream",
     "text": [
      "'see' is the reverse of 'ees'\n",
      "'ees' is the reverse of 'see'\n"
     ]
    }
   ],
   "source": [
    "for word in words:\n",
    "    if word[::-1] in words and len(word) > 1:\n",
    "        print (\"'\" + word + \"' is the reverse of '\" + reverse(word) + \"'\")"
   ]
  },
  {
   "cell_type": "code",
   "execution_count": 177,
   "metadata": {
    "scrolled": true
   },
   "outputs": [
    {
     "name": "stdout",
     "output_type": "stream",
     "text": [
      "Here's the user name :windows-super-user, and post id :328e9497740b456154c636349\n",
      "Here's the user name :linux user, and post id :15545154c636349\n",
      "Here's the user name :unix_super_user, and post id :9098897740b456154c636349\n"
     ]
    }
   ],
   "source": [
    "import sys\n",
    "import re\n",
    "import json\n",
    "\n",
    "my_list = ['windows-super-user','linux user','unix_super_user']\n",
    "\n",
    "with open('strings.json') as f:\n",
    "    d = json.load(f)\n",
    "    for elem in d:\n",
    "        if elem[\"user_name\"] in my_list:\n",
    "            print(\"Here's the user name :\" +elem[\"user_name\"]+ \", and post id :\" +elem[\"postId\"])"
   ]
  },
  {
   "cell_type": "code",
   "execution_count": 219,
   "metadata": {},
   "outputs": [
    {
     "name": "stdout",
     "output_type": "stream",
     "text": [
      "328e9497740b456154c636349\n",
      "15545154c636349\n",
      "9098897740b456154c636349\n"
     ]
    }
   ],
   "source": [
    "with open('strings.json') as json_file:  \n",
    "    data = json.load(json_file)\n",
    "    for item in data:\n",
    "        print(item['postId'])"
   ]
  },
  {
   "cell_type": "code",
   "execution_count": 178,
   "metadata": {},
   "outputs": [
    {
     "name": "stdout",
     "output_type": "stream",
     "text": [
      "b'li\\xe1\\xbb\\x87u'\n",
      "b'li\\xe1\\xbb\\x87u'\n",
      "True\n"
     ]
    }
   ],
   "source": [
    "l = ['liệu',]\n",
    "a = bytes(l[0],encoding='utf-8')\n",
    "print(a)\n",
    "\n",
    "i = 'liệu'\n",
    "print(bytes(i,encoding='utf-8'))\n",
    "\n",
    "print(i==l[0])"
   ]
  },
  {
   "cell_type": "code",
   "execution_count": 182,
   "metadata": {
    "scrolled": true
   },
   "outputs": [
    {
     "data": {
      "text/plain": [
       "[78571]"
      ]
     },
     "execution_count": 182,
     "metadata": {},
     "output_type": "execute_result"
    }
   ],
   "source": [
    "def get_process_id(name):\n",
    "    child = subprocess.Popen(['pgrep', '-f', name], stdout=subprocess.PIPE, shell=False)\n",
    "    response = child.communicate()[0]\n",
    "    return [int(pid) for pid in response.split()]\n",
    "\n",
    "get_process_id(\"knotter\")"
   ]
  },
  {
   "cell_type": "code",
   "execution_count": 192,
   "metadata": {},
   "outputs": [
    {
     "name": "stdout",
     "output_type": "stream",
     "text": [
      "abcdefghijklmnopqrstuvwxyz\n",
      "bcdefghijklmnopqrstuvwxyz\n",
      "cdefghijklmnopqrstuvwxyz\n",
      "defghijklmnopqrstuvwxyz\n",
      "efghijklmnopqrstuvwxyz\n",
      "fghijklmnopqrstuvwxyz\n",
      "ghijklmnopqrstuvwxyz\n",
      "hijklmnopqrstuvwxyz\n",
      "ijklmnopqrstuvwxyz\n",
      "jklmnopqrstuvwxyz\n",
      "klmnopqrstuvwxyz\n",
      "lmnopqrstuvwxyz\n",
      "mnopqrstuvwxyz\n",
      "nopqrstuvwxyz\n",
      "opqrstuvwxyz\n",
      "pqrstuvwxyz\n",
      "qrstuvwxyz\n",
      "rstuvwxyz\n",
      "stuvwxyz\n",
      "tuvwxyz\n",
      "uvwxyz\n",
      "vwxyz\n",
      "wxyz\n",
      "xyz\n",
      "yz\n",
      "z\n"
     ]
    }
   ],
   "source": [
    "import string\n",
    "\n",
    "for i in range(len(string.ascii_lowercase)):\n",
    "    print(string.ascii_lowercase[i:])"
   ]
  },
  {
   "cell_type": "code",
   "execution_count": 193,
   "metadata": {},
   "outputs": [
    {
     "name": "stdout",
     "output_type": "stream",
     "text": [
      "\n",
      "abcdefghijklmnopqrstuvwxy\n",
      "abcdefghijklmnopqrstuvwx\n",
      "abcdefghijklmnopqrstuvw\n",
      "abcdefghijklmnopqrstuv\n",
      "abcdefghijklmnopqrstu\n",
      "abcdefghijklmnopqrst\n",
      "abcdefghijklmnopqrs\n",
      "abcdefghijklmnopqr\n",
      "abcdefghijklmnopq\n",
      "abcdefghijklmnop\n",
      "abcdefghijklmno\n",
      "abcdefghijklmn\n",
      "abcdefghijklm\n",
      "abcdefghijkl\n",
      "abcdefghijk\n",
      "abcdefghij\n",
      "abcdefghi\n",
      "abcdefgh\n",
      "abcdefg\n",
      "abcdef\n",
      "abcde\n",
      "abcd\n",
      "abc\n",
      "ab\n",
      "a\n"
     ]
    }
   ],
   "source": [
    "import string\n",
    "\n",
    "for i in range(len(string.ascii_lowercase)):\n",
    "    print(string.ascii_lowercase[:-i])"
   ]
  },
  {
   "cell_type": "code",
   "execution_count": 211,
   "metadata": {},
   "outputs": [
    {
     "name": "stdout",
     "output_type": "stream",
     "text": [
      "Black RAven or Black RAven\n"
     ]
    }
   ],
   "source": [
    "from unidecode import unidecode\n",
    "\n",
    "mystring = \"𝓑𝓵𝓪𝓬𝓴 𝓡𝓐𝓿𝓮𝓷 or Ⓑⓛⓐⓒⓚ ⓇⒶⓥⓔⓝ\"\n",
    "print (unidecode(mystring))"
   ]
  },
  {
   "cell_type": "code",
   "execution_count": 213,
   "metadata": {},
   "outputs": [
    {
     "data": {
      "text/plain": [
       "'Black RAven or Black RAven'"
      ]
     },
     "execution_count": 213,
     "metadata": {},
     "output_type": "execute_result"
    }
   ],
   "source": [
    "import unicodedata\n",
    "unicodedata.normalize('NFKD', '𝓑𝓵𝓪𝓬𝓴 𝓡𝓐𝓿𝓮𝓷 or Ⓑⓛⓐⓒⓚ ⓇⒶⓥⓔⓝ')"
   ]
  },
  {
   "cell_type": "code",
   "execution_count": 222,
   "metadata": {},
   "outputs": [
    {
     "name": "stdout",
     "output_type": "stream",
     "text": [
      "9472.628606761953\n",
      "Answer : 9472.628606761953\n"
     ]
    }
   ],
   "source": [
    "def pagos(B,P,r,c):\n",
    "    UB = (B-P)*(1+(r/12))\n",
    "    if (c==12):\n",
    "        print(UB) #This is to establish if UB is actually reaching return statement#\n",
    "        return UB\n",
    "    c +=1\n",
    "    return pagos(UB,P,r,c)\n",
    "\n",
    "P=200\n",
    "B=10000\n",
    "r=0.2\n",
    "c=0\n",
    "\n",
    "R = pagos(B,P,r,c)\n",
    "print(\"Answer : \"+ str(R))"
   ]
  },
  {
   "cell_type": "code",
   "execution_count": 241,
   "metadata": {},
   "outputs": [
    {
     "data": {
      "text/plain": [
       "{'English ': 'hello bye ', 'italian ': 'ciao hola', 'spanish': 'hola chao'}"
      ]
     },
     "execution_count": 241,
     "metadata": {},
     "output_type": "execute_result"
    }
   ],
   "source": [
    "d = {}\n",
    "with open(\"dicts.txt\", 'r') as f:\n",
    "    l = f.readlines()\n",
    "    i = 0\n",
    "    while i < len(l):\n",
    "        d[l[i].replace(\"\\n\",\"\")] = l[i+1].replace(\"\\n\",\"\")\n",
    "        i += 2\n",
    "d"
   ]
  },
  {
   "cell_type": "code",
   "execution_count": 237,
   "metadata": {},
   "outputs": [
    {
     "data": {
      "text/plain": [
       "{'English \\n': 'hello bye \\n',\n",
       " 'italian \\n': 'ciao hola\\n',\n",
       " 'spanish\\n': 'hola chao'}"
      ]
     },
     "execution_count": 237,
     "metadata": {},
     "output_type": "execute_result"
    }
   ],
   "source": [
    "with open(\"dicts.txt\", 'r') as f:\n",
    "    l = f.readlines()\n",
    "    d = {x: y for x, y in zip(l[::2], l[1::2])}\n",
    "d"
   ]
  },
  {
   "cell_type": "code",
   "execution_count": null,
   "metadata": {
    "collapsed": true
   },
   "outputs": [],
   "source": []
  }
 ],
 "metadata": {
  "kernelspec": {
   "display_name": "Python 3",
   "language": "python",
   "name": "python3"
  },
  "language_info": {
   "codemirror_mode": {
    "name": "ipython",
    "version": 3
   },
   "file_extension": ".py",
   "mimetype": "text/x-python",
   "name": "python",
   "nbconvert_exporter": "python",
   "pygments_lexer": "ipython3",
   "version": "3.6.3"
  }
 },
 "nbformat": 4,
 "nbformat_minor": 2
}
