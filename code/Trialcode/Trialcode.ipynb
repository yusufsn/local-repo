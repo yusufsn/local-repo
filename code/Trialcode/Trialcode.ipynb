{
 "cells": [
  {
   "cell_type": "code",
   "execution_count": 33,
   "metadata": {},
   "outputs": [
    {
     "name": "stdout",
     "output_type": "stream",
     "text": [
      "Enter the number of matrix: 2\n",
      "Enter the number of rows in each matrix: 2\n",
      "Enter the number of columns in each matrix: 2\n",
      "The number of matrix is 2, with dimension 2x2\n",
      "--------------------------------------------\n",
      "For matrix 1, enter integer in row 1,  column 1 : 1\n",
      "For matrix 1, enter integer in row 1,  column 2 : 24\n",
      "For matrix 1, enter integer in row 2,  column 1 : 5\n",
      "For matrix 1, enter integer in row 2,  column 2 : 23\n",
      "--------------------------------------------\n",
      "For matrix 2, enter integer in row 1,  column 1 : 5\n",
      "For matrix 2, enter integer in row 1,  column 2 : 3\n",
      "For matrix 2, enter integer in row 2,  column 1 : 2\n",
      "For matrix 2, enter integer in row 2,  column 2 : 1\n",
      "--------------------------------------------\n"
     ]
    },
    {
     "data": {
      "text/plain": [
       "[[[1, 24], [5, 23]], [[5, 3], [2, 1]]]"
      ]
     },
     "execution_count": 33,
     "metadata": {},
     "output_type": "execute_result"
    }
   ],
   "source": [
    "mn = int(input(\"Enter the number of matrix: \"))\n",
    "row = int(input(\"Enter the number of rows in each matrix: \"))\n",
    "col = int(input(\"Enter the number of columns in each matrix: \"))\n",
    "print (\"The number of matrix is %i\" %(mn) + \", with dimension %i\" %(row) + \"x%i\" %(col))\n",
    "print (\"--------------------------------------------\")\n",
    "\n",
    "matrix = []\n",
    "for m in range(mn):\n",
    "    rd = []\n",
    "    for r in range(row):\n",
    "        cd = []\n",
    "        for c in range(col):\n",
    "            num = int(input(\"For matrix %i\" %(m+1) + \", enter integer in row %i, \" %(r+1) + \" column %i : \" %(c+1)))\n",
    "            cd.append(num)\n",
    "        rd.append(cd)\n",
    "    print (\"--------------------------------------------\")\n",
    "    matrix.append(rd)\n",
    "\n",
    "matrix\n",
    "        "
   ]
  },
  {
   "cell_type": "code",
   "execution_count": 34,
   "metadata": {},
   "outputs": [
    {
     "data": {
      "text/plain": [
       "['10', '1000', '51000', '500', '63000']"
      ]
     },
     "execution_count": 34,
     "metadata": {},
     "output_type": "execute_result"
    }
   ],
   "source": [
    "mylist = ['10', '1,000', '51,000', '500', '63,000']\n",
    "\n",
    "newlist = []\n",
    "for n in mylist:\n",
    "    temp = n.replace(\",\",'')\n",
    "    newlist.append(temp)\n",
    "newlist"
   ]
  },
  {
   "cell_type": "code",
   "execution_count": 39,
   "metadata": {},
   "outputs": [
    {
     "data": {
      "text/plain": [
       "['werwe', 'wqewqe', 'wedfgd']"
      ]
     },
     "execution_count": 39,
     "metadata": {},
     "output_type": "execute_result"
    }
   ],
   "source": [
    "check = ['\"werwe\"', 'wqe\"wqe','wedfgd']\n",
    "\n",
    "new = []\n",
    "for c in check:\n",
    "    new.append(c.replace('\"',''))\n",
    "new"
   ]
  },
  {
   "cell_type": "code",
   "execution_count": 127,
   "metadata": {},
   "outputs": [
    {
     "data": {
      "text/html": [
       "<div>\n",
       "<style scoped>\n",
       "    .dataframe tbody tr th:only-of-type {\n",
       "        vertical-align: middle;\n",
       "    }\n",
       "\n",
       "    .dataframe tbody tr th {\n",
       "        vertical-align: top;\n",
       "    }\n",
       "\n",
       "    .dataframe thead th {\n",
       "        text-align: right;\n",
       "    }\n",
       "</style>\n",
       "<table border=\"1\" class=\"dataframe\">\n",
       "  <thead>\n",
       "    <tr style=\"text-align: right;\">\n",
       "      <th></th>\n",
       "      <th>ids</th>\n",
       "      <th>vals</th>\n",
       "    </tr>\n",
       "  </thead>\n",
       "  <tbody>\n",
       "    <tr>\n",
       "      <th>0</th>\n",
       "      <td>101</td>\n",
       "      <td>apple</td>\n",
       "    </tr>\n",
       "    <tr>\n",
       "      <th>1</th>\n",
       "      <td>102</td>\n",
       "      <td>java</td>\n",
       "    </tr>\n",
       "    <tr>\n",
       "      <th>2</th>\n",
       "      <td>103</td>\n",
       "      <td>python</td>\n",
       "    </tr>\n",
       "  </tbody>\n",
       "</table>\n",
       "</div>"
      ],
      "text/plain": [
       "   ids    vals\n",
       "0  101   apple\n",
       "1  102    java\n",
       "2  103  python"
      ]
     },
     "execution_count": 127,
     "metadata": {},
     "output_type": "execute_result"
    }
   ],
   "source": [
    "df1 = pd.DataFrame({'ids': [101,102,103],'vals': ['apple','java','python']})\n",
    "df1"
   ]
  },
  {
   "cell_type": "code",
   "execution_count": 128,
   "metadata": {},
   "outputs": [
    {
     "data": {
      "text/html": [
       "<div>\n",
       "<style scoped>\n",
       "    .dataframe tbody tr th:only-of-type {\n",
       "        vertical-align: middle;\n",
       "    }\n",
       "\n",
       "    .dataframe tbody tr th {\n",
       "        vertical-align: top;\n",
       "    }\n",
       "\n",
       "    .dataframe thead th {\n",
       "        text-align: right;\n",
       "    }\n",
       "</style>\n",
       "<table border=\"1\" class=\"dataframe\">\n",
       "  <thead>\n",
       "    <tr style=\"text-align: right;\">\n",
       "      <th></th>\n",
       "      <th>TEXT_DATA</th>\n",
       "    </tr>\n",
       "  </thead>\n",
       "  <tbody>\n",
       "    <tr>\n",
       "      <th>0</th>\n",
       "      <td>apple a day keeps doctor away</td>\n",
       "    </tr>\n",
       "    <tr>\n",
       "      <th>1</th>\n",
       "      <td>apple tree in my farm</td>\n",
       "    </tr>\n",
       "    <tr>\n",
       "      <th>2</th>\n",
       "      <td>python is not new language</td>\n",
       "    </tr>\n",
       "    <tr>\n",
       "      <th>3</th>\n",
       "      <td>Learn python programming</td>\n",
       "    </tr>\n",
       "    <tr>\n",
       "      <th>4</th>\n",
       "      <td>java is second language</td>\n",
       "    </tr>\n",
       "  </tbody>\n",
       "</table>\n",
       "</div>"
      ],
      "text/plain": [
       "                       TEXT_DATA\n",
       "0  apple a day keeps doctor away\n",
       "1          apple tree in my farm\n",
       "2     python is not new language\n",
       "3       Learn python programming\n",
       "4        java is second language"
      ]
     },
     "execution_count": 128,
     "metadata": {},
     "output_type": "execute_result"
    }
   ],
   "source": [
    "df = pd.DataFrame({'TEXT_DATA': [u'apple a day keeps doctor away', u'apple tree in my farm', u'python is not new language', \n",
    "                                 u'Learn python programming', u'java is second language']})\n",
    "df"
   ]
  },
  {
   "cell_type": "code",
   "execution_count": 140,
   "metadata": {},
   "outputs": [
    {
     "data": {
      "text/html": [
       "<div>\n",
       "<style scoped>\n",
       "    .dataframe tbody tr th:only-of-type {\n",
       "        vertical-align: middle;\n",
       "    }\n",
       "\n",
       "    .dataframe tbody tr th {\n",
       "        vertical-align: top;\n",
       "    }\n",
       "\n",
       "    .dataframe thead th {\n",
       "        text-align: right;\n",
       "    }\n",
       "</style>\n",
       "<table border=\"1\" class=\"dataframe\">\n",
       "  <thead>\n",
       "    <tr style=\"text-align: right;\">\n",
       "      <th></th>\n",
       "      <th>TEXT_DATA</th>\n",
       "      <th>ids</th>\n",
       "    </tr>\n",
       "  </thead>\n",
       "  <tbody>\n",
       "    <tr>\n",
       "      <th>0</th>\n",
       "      <td>apple a day keeps doctor away</td>\n",
       "      <td>101</td>\n",
       "    </tr>\n",
       "    <tr>\n",
       "      <th>1</th>\n",
       "      <td>apple tree in my farm</td>\n",
       "      <td>101</td>\n",
       "    </tr>\n",
       "    <tr>\n",
       "      <th>2</th>\n",
       "      <td>python is not new language</td>\n",
       "      <td>103</td>\n",
       "    </tr>\n",
       "    <tr>\n",
       "      <th>3</th>\n",
       "      <td>Learn python programming</td>\n",
       "      <td>103</td>\n",
       "    </tr>\n",
       "    <tr>\n",
       "      <th>4</th>\n",
       "      <td>java is second language</td>\n",
       "      <td>102</td>\n",
       "    </tr>\n",
       "  </tbody>\n",
       "</table>\n",
       "</div>"
      ],
      "text/plain": [
       "                       TEXT_DATA  ids\n",
       "0  apple a day keeps doctor away  101\n",
       "1          apple tree in my farm  101\n",
       "2     python is not new language  103\n",
       "3       Learn python programming  103\n",
       "4        java is second language  102"
      ]
     },
     "execution_count": 140,
     "metadata": {},
     "output_type": "execute_result"
    }
   ],
   "source": [
    "extr = '|'.join(x for x in df1['vals'])\n",
    "df['vals'] = df['TEXT_DATA'].str.extract('('+ extr + ')', expand=False)\n",
    "newdf = pd.merge(df, df1, on='vals', how='left')\n",
    "newdf[['TEXT_DATA','ids']]"
   ]
  },
  {
   "cell_type": "code",
   "execution_count": 150,
   "metadata": {},
   "outputs": [
    {
     "data": {
      "text/html": [
       "<div>\n",
       "<style scoped>\n",
       "    .dataframe tbody tr th:only-of-type {\n",
       "        vertical-align: middle;\n",
       "    }\n",
       "\n",
       "    .dataframe tbody tr th {\n",
       "        vertical-align: top;\n",
       "    }\n",
       "\n",
       "    .dataframe thead th {\n",
       "        text-align: right;\n",
       "    }\n",
       "</style>\n",
       "<table border=\"1\" class=\"dataframe\">\n",
       "  <thead>\n",
       "    <tr style=\"text-align: right;\">\n",
       "      <th></th>\n",
       "      <th>TEXT_DATA</th>\n",
       "      <th>vals</th>\n",
       "      <th>new</th>\n",
       "    </tr>\n",
       "  </thead>\n",
       "  <tbody>\n",
       "    <tr>\n",
       "      <th>0</th>\n",
       "      <td>apple a day keeps doctor away</td>\n",
       "      <td>apple</td>\n",
       "      <td>True</td>\n",
       "    </tr>\n",
       "    <tr>\n",
       "      <th>1</th>\n",
       "      <td>apple tree in my farm</td>\n",
       "      <td>apple</td>\n",
       "      <td>True</td>\n",
       "    </tr>\n",
       "    <tr>\n",
       "      <th>2</th>\n",
       "      <td>python is not new language</td>\n",
       "      <td>python</td>\n",
       "      <td>False</td>\n",
       "    </tr>\n",
       "    <tr>\n",
       "      <th>3</th>\n",
       "      <td>Learn python programming</td>\n",
       "      <td>python</td>\n",
       "      <td>False</td>\n",
       "    </tr>\n",
       "    <tr>\n",
       "      <th>4</th>\n",
       "      <td>java is second language</td>\n",
       "      <td>java</td>\n",
       "      <td>False</td>\n",
       "    </tr>\n",
       "  </tbody>\n",
       "</table>\n",
       "</div>"
      ],
      "text/plain": [
       "                       TEXT_DATA    vals    new\n",
       "0  apple a day keeps doctor away   apple   True\n",
       "1          apple tree in my farm   apple   True\n",
       "2     python is not new language  python  False\n",
       "3       Learn python programming  python  False\n",
       "4        java is second language    java  False"
      ]
     },
     "execution_count": 150,
     "metadata": {},
     "output_type": "execute_result"
    }
   ],
   "source": [
    "df['new'] = df.TEXT_DATA.apply(lambda x: 'apple' in str(x))\n",
    "df"
   ]
  },
  {
   "cell_type": "code",
   "execution_count": 97,
   "metadata": {},
   "outputs": [
    {
     "name": "stdout",
     "output_type": "stream",
     "text": [
      "apple\n",
      "java\n",
      "python\n"
     ]
    }
   ],
   "source": [
    "for i in df1['vals']:\n",
    "    print (i)"
   ]
  },
  {
   "cell_type": "code",
   "execution_count": 151,
   "metadata": {},
   "outputs": [
    {
     "data": {
      "text/html": [
       "<div>\n",
       "<style scoped>\n",
       "    .dataframe tbody tr th:only-of-type {\n",
       "        vertical-align: middle;\n",
       "    }\n",
       "\n",
       "    .dataframe tbody tr th {\n",
       "        vertical-align: top;\n",
       "    }\n",
       "\n",
       "    .dataframe thead th {\n",
       "        text-align: right;\n",
       "    }\n",
       "</style>\n",
       "<table border=\"1\" class=\"dataframe\">\n",
       "  <thead>\n",
       "    <tr style=\"text-align: right;\">\n",
       "      <th></th>\n",
       "      <th>TEXT_DATA</th>\n",
       "      <th>vals</th>\n",
       "      <th>ids</th>\n",
       "    </tr>\n",
       "  </thead>\n",
       "  <tbody>\n",
       "    <tr>\n",
       "      <th>0</th>\n",
       "      <td>apple a day keeps doctor away</td>\n",
       "      <td>apple</td>\n",
       "      <td>101</td>\n",
       "    </tr>\n",
       "    <tr>\n",
       "      <th>1</th>\n",
       "      <td>apple tree in my farm</td>\n",
       "      <td>apple</td>\n",
       "      <td>101</td>\n",
       "    </tr>\n",
       "    <tr>\n",
       "      <th>2</th>\n",
       "      <td>python is not new language</td>\n",
       "      <td>python</td>\n",
       "      <td>103</td>\n",
       "    </tr>\n",
       "    <tr>\n",
       "      <th>3</th>\n",
       "      <td>Learn python programming</td>\n",
       "      <td>python</td>\n",
       "      <td>103</td>\n",
       "    </tr>\n",
       "    <tr>\n",
       "      <th>4</th>\n",
       "      <td>java is second language</td>\n",
       "      <td>java</td>\n",
       "      <td>102</td>\n",
       "    </tr>\n",
       "  </tbody>\n",
       "</table>\n",
       "</div>"
      ],
      "text/plain": [
       "                       TEXT_DATA    vals  ids\n",
       "0  apple a day keeps doctor away   apple  101\n",
       "1          apple tree in my farm   apple  101\n",
       "2     python is not new language  python  103\n",
       "3       Learn python programming  python  103\n",
       "4        java is second language    java  102"
      ]
     },
     "execution_count": 151,
     "metadata": {},
     "output_type": "execute_result"
    }
   ],
   "source": [
    "newdf"
   ]
  },
  {
   "cell_type": "code",
   "execution_count": 154,
   "metadata": {},
   "outputs": [
    {
     "name": "stdout",
     "output_type": "stream",
     "text": [
      "j:  5\n",
      "intList:  [1, 5, 4, 9, 7, 2, 15, 6.08]\n",
      "intList:  [1, 5, 9, 7, 2, 15, 6.08]\n",
      "intList:  [1, 5, 67, 9, 7, 2, 15, 6.08]\n",
      "g:  9\n"
     ]
    }
   ],
   "source": [
    "intList = [1, 5, 4, 9, 7, 2, 15]\n",
    "def manipfunc(a):\n",
    "    j = a.index(2)\n",
    "    print (\"j: \",j)\n",
    "    a.append(6.08)\n",
    "    print (\"intList: \",a)\n",
    "    a.remove(4)\n",
    "    print (\"intList: \",a)\n",
    "    a.insert(2,67)\n",
    "    print (\"intList: \",a)\n",
    "    g = a.pop(3)\n",
    "    print (\"g: \",g)\n",
    "#     print(a)\n",
    "#     print(j, g)\n",
    "manipfunc(intList)"
   ]
  },
  {
   "cell_type": "code",
   "execution_count": 173,
   "metadata": {},
   "outputs": [
    {
     "data": {
      "text/html": [
       "<div>\n",
       "<style scoped>\n",
       "    .dataframe tbody tr th:only-of-type {\n",
       "        vertical-align: middle;\n",
       "    }\n",
       "\n",
       "    .dataframe tbody tr th {\n",
       "        vertical-align: top;\n",
       "    }\n",
       "\n",
       "    .dataframe thead th {\n",
       "        text-align: right;\n",
       "    }\n",
       "</style>\n",
       "<table border=\"1\" class=\"dataframe\">\n",
       "  <thead>\n",
       "    <tr style=\"text-align: right;\">\n",
       "      <th></th>\n",
       "      <th>PartNumber</th>\n",
       "      <th>Prefix</th>\n",
       "    </tr>\n",
       "  </thead>\n",
       "  <tbody>\n",
       "    <tr>\n",
       "      <th>0</th>\n",
       "      <td>ABC</td>\n",
       "      <td></td>\n",
       "    </tr>\n",
       "    <tr>\n",
       "      <th>1</th>\n",
       "      <td>DEF</td>\n",
       "      <td></td>\n",
       "    </tr>\n",
       "    <tr>\n",
       "      <th>2</th>\n",
       "      <td>BLABLA</td>\n",
       "      <td>1 FO-</td>\n",
       "    </tr>\n",
       "    <tr>\n",
       "      <th>3</th>\n",
       "      <td>EXAMPLE</td>\n",
       "      <td>2 IA-</td>\n",
       "    </tr>\n",
       "  </tbody>\n",
       "</table>\n",
       "</div>"
      ],
      "text/plain": [
       "  PartNumber Prefix\n",
       "0        ABC       \n",
       "1        DEF       \n",
       "2     BLABLA  1 FO-\n",
       "3    EXAMPLE  2 IA-"
      ]
     },
     "execution_count": 173,
     "metadata": {},
     "output_type": "execute_result"
    }
   ],
   "source": [
    "pr_list = ['1 FO-','2 IA-']\n",
    "df = pd.DataFrame({'PartNumber':['ABC','DEF','1 FO-BLABLA','2 IA-EXAMPLE']})\n",
    "\n",
    "extr = '|'.join(x for x in pr_list)\n",
    "df['Prefix'] = df['PartNumber'].str.extract('('+ extr + ')', expand=False).fillna('')\n",
    "df['PartNumber'] = df['PartNumber'].str.replace('|'.join(pr_list),'')\n",
    "df\n",
    "# df['Prefix']=df.PartNumber.str.extract(r'({})'.format('|'.join(pr_list))).fillna('')\n",
    "# df.PartNumber=df.PartNumber.str.replace('|'.join(pr_list),'')\n",
    "# print(df)"
   ]
  },
  {
   "cell_type": "code",
   "execution_count": null,
   "metadata": {},
   "outputs": [],
   "source": []
  }
 ],
 "metadata": {
  "kernelspec": {
   "display_name": "Python 3",
   "language": "python",
   "name": "python3"
  },
  "language_info": {
   "codemirror_mode": {
    "name": "ipython",
    "version": 3
   },
   "file_extension": ".py",
   "mimetype": "text/x-python",
   "name": "python",
   "nbconvert_exporter": "python",
   "pygments_lexer": "ipython3",
   "version": "3.7.1"
  }
 },
 "nbformat": 4,
 "nbformat_minor": 2
}
