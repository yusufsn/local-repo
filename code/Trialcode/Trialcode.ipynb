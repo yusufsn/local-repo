{
 "cells": [
  {
   "cell_type": "code",
   "execution_count": 33,
   "metadata": {},
   "outputs": [
    {
     "name": "stdout",
     "output_type": "stream",
     "text": [
      "Enter the number of matrix: 2\n",
      "Enter the number of rows in each matrix: 2\n",
      "Enter the number of columns in each matrix: 2\n",
      "The number of matrix is 2, with dimension 2x2\n",
      "--------------------------------------------\n",
      "For matrix 1, enter integer in row 1,  column 1 : 1\n",
      "For matrix 1, enter integer in row 1,  column 2 : 24\n",
      "For matrix 1, enter integer in row 2,  column 1 : 5\n",
      "For matrix 1, enter integer in row 2,  column 2 : 23\n",
      "--------------------------------------------\n",
      "For matrix 2, enter integer in row 1,  column 1 : 5\n",
      "For matrix 2, enter integer in row 1,  column 2 : 3\n",
      "For matrix 2, enter integer in row 2,  column 1 : 2\n",
      "For matrix 2, enter integer in row 2,  column 2 : 1\n",
      "--------------------------------------------\n"
     ]
    },
    {
     "data": {
      "text/plain": [
       "[[[1, 24], [5, 23]], [[5, 3], [2, 1]]]"
      ]
     },
     "execution_count": 33,
     "metadata": {},
     "output_type": "execute_result"
    }
   ],
   "source": [
    "mn = int(input(\"Enter the number of matrix: \"))\n",
    "row = int(input(\"Enter the number of rows in each matrix: \"))\n",
    "col = int(input(\"Enter the number of columns in each matrix: \"))\n",
    "print (\"The number of matrix is %i\" %(mn) + \", with dimension %i\" %(row) + \"x%i\" %(col))\n",
    "print (\"--------------------------------------------\")\n",
    "\n",
    "matrix = []\n",
    "for m in range(mn):\n",
    "    rd = []\n",
    "    for r in range(row):\n",
    "        cd = []\n",
    "        for c in range(col):\n",
    "            num = int(input(\"For matrix %i\" %(m+1) + \", enter integer in row %i, \" %(r+1) + \" column %i : \" %(c+1)))\n",
    "            cd.append(num)\n",
    "        rd.append(cd)\n",
    "    print (\"--------------------------------------------\")\n",
    "    matrix.append(rd)\n",
    "\n",
    "matrix\n",
    "        "
   ]
  },
  {
   "cell_type": "code",
   "execution_count": null,
   "metadata": {},
   "outputs": [],
   "source": []
  },
  {
   "cell_type": "code",
   "execution_count": null,
   "metadata": {},
   "outputs": [],
   "source": []
  }
 ],
 "metadata": {
  "kernelspec": {
   "display_name": "Python 3",
   "language": "python",
   "name": "python3"
  },
  "language_info": {
   "codemirror_mode": {
    "name": "ipython",
    "version": 3
   },
   "file_extension": ".py",
   "mimetype": "text/x-python",
   "name": "python",
   "nbconvert_exporter": "python",
   "pygments_lexer": "ipython3",
   "version": "3.7.1"
  }
 },
 "nbformat": 4,
 "nbformat_minor": 2
}
