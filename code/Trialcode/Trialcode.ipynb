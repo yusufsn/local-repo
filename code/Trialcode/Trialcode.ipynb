{
 "cells": [
  {
   "cell_type": "code",
   "execution_count": 33,
   "metadata": {},
   "outputs": [
    {
     "name": "stdout",
     "output_type": "stream",
     "text": [
      "Enter the number of matrix: 2\n",
      "Enter the number of rows in each matrix: 2\n",
      "Enter the number of columns in each matrix: 2\n",
      "The number of matrix is 2, with dimension 2x2\n",
      "--------------------------------------------\n",
      "For matrix 1, enter integer in row 1,  column 1 : 1\n",
      "For matrix 1, enter integer in row 1,  column 2 : 24\n",
      "For matrix 1, enter integer in row 2,  column 1 : 5\n",
      "For matrix 1, enter integer in row 2,  column 2 : 23\n",
      "--------------------------------------------\n",
      "For matrix 2, enter integer in row 1,  column 1 : 5\n",
      "For matrix 2, enter integer in row 1,  column 2 : 3\n",
      "For matrix 2, enter integer in row 2,  column 1 : 2\n",
      "For matrix 2, enter integer in row 2,  column 2 : 1\n",
      "--------------------------------------------\n"
     ]
    },
    {
     "data": {
      "text/plain": [
       "[[[1, 24], [5, 23]], [[5, 3], [2, 1]]]"
      ]
     },
     "execution_count": 33,
     "metadata": {},
     "output_type": "execute_result"
    }
   ],
   "source": [
    "mn = int(input(\"Enter the number of matrix: \"))\n",
    "row = int(input(\"Enter the number of rows in each matrix: \"))\n",
    "col = int(input(\"Enter the number of columns in each matrix: \"))\n",
    "print (\"The number of matrix is %i\" %(mn) + \", with dimension %i\" %(row) + \"x%i\" %(col))\n",
    "print (\"--------------------------------------------\")\n",
    "\n",
    "matrix = []\n",
    "for m in range(mn):\n",
    "    rd = []\n",
    "    for r in range(row):\n",
    "        cd = []\n",
    "        for c in range(col):\n",
    "            num = int(input(\"For matrix %i\" %(m+1) + \", enter integer in row %i, \" %(r+1) + \" column %i : \" %(c+1)))\n",
    "            cd.append(num)\n",
    "        rd.append(cd)\n",
    "    print (\"--------------------------------------------\")\n",
    "    matrix.append(rd)\n",
    "\n",
    "matrix\n",
    "        "
   ]
  },
  {
   "cell_type": "code",
   "execution_count": 34,
   "metadata": {},
   "outputs": [
    {
     "data": {
      "text/plain": [
       "['10', '1000', '51000', '500', '63000']"
      ]
     },
     "execution_count": 34,
     "metadata": {},
     "output_type": "execute_result"
    }
   ],
   "source": [
    "mylist = ['10', '1,000', '51,000', '500', '63,000']\n",
    "\n",
    "newlist = []\n",
    "for n in mylist:\n",
    "    temp = n.replace(\",\",'')\n",
    "    newlist.append(temp)\n",
    "newlist"
   ]
  },
  {
   "cell_type": "code",
   "execution_count": 39,
   "metadata": {},
   "outputs": [
    {
     "data": {
      "text/plain": [
       "['werwe', 'wqewqe', 'wedfgd']"
      ]
     },
     "execution_count": 39,
     "metadata": {},
     "output_type": "execute_result"
    }
   ],
   "source": [
    "check = ['\"werwe\"', 'wqe\"wqe','wedfgd']\n",
    "\n",
    "new = []\n",
    "for c in check:\n",
    "    new.append(c.replace('\"',''))\n",
    "new"
   ]
  },
  {
   "cell_type": "code",
   "execution_count": 127,
   "metadata": {},
   "outputs": [
    {
     "data": {
      "text/html": [
       "<div>\n",
       "<style scoped>\n",
       "    .dataframe tbody tr th:only-of-type {\n",
       "        vertical-align: middle;\n",
       "    }\n",
       "\n",
       "    .dataframe tbody tr th {\n",
       "        vertical-align: top;\n",
       "    }\n",
       "\n",
       "    .dataframe thead th {\n",
       "        text-align: right;\n",
       "    }\n",
       "</style>\n",
       "<table border=\"1\" class=\"dataframe\">\n",
       "  <thead>\n",
       "    <tr style=\"text-align: right;\">\n",
       "      <th></th>\n",
       "      <th>ids</th>\n",
       "      <th>vals</th>\n",
       "    </tr>\n",
       "  </thead>\n",
       "  <tbody>\n",
       "    <tr>\n",
       "      <th>0</th>\n",
       "      <td>101</td>\n",
       "      <td>apple</td>\n",
       "    </tr>\n",
       "    <tr>\n",
       "      <th>1</th>\n",
       "      <td>102</td>\n",
       "      <td>java</td>\n",
       "    </tr>\n",
       "    <tr>\n",
       "      <th>2</th>\n",
       "      <td>103</td>\n",
       "      <td>python</td>\n",
       "    </tr>\n",
       "  </tbody>\n",
       "</table>\n",
       "</div>"
      ],
      "text/plain": [
       "   ids    vals\n",
       "0  101   apple\n",
       "1  102    java\n",
       "2  103  python"
      ]
     },
     "execution_count": 127,
     "metadata": {},
     "output_type": "execute_result"
    }
   ],
   "source": [
    "df1 = pd.DataFrame({'ids': [101,102,103],'vals': ['apple','java','python']})\n",
    "df1"
   ]
  },
  {
   "cell_type": "code",
   "execution_count": 128,
   "metadata": {},
   "outputs": [
    {
     "data": {
      "text/html": [
       "<div>\n",
       "<style scoped>\n",
       "    .dataframe tbody tr th:only-of-type {\n",
       "        vertical-align: middle;\n",
       "    }\n",
       "\n",
       "    .dataframe tbody tr th {\n",
       "        vertical-align: top;\n",
       "    }\n",
       "\n",
       "    .dataframe thead th {\n",
       "        text-align: right;\n",
       "    }\n",
       "</style>\n",
       "<table border=\"1\" class=\"dataframe\">\n",
       "  <thead>\n",
       "    <tr style=\"text-align: right;\">\n",
       "      <th></th>\n",
       "      <th>TEXT_DATA</th>\n",
       "    </tr>\n",
       "  </thead>\n",
       "  <tbody>\n",
       "    <tr>\n",
       "      <th>0</th>\n",
       "      <td>apple a day keeps doctor away</td>\n",
       "    </tr>\n",
       "    <tr>\n",
       "      <th>1</th>\n",
       "      <td>apple tree in my farm</td>\n",
       "    </tr>\n",
       "    <tr>\n",
       "      <th>2</th>\n",
       "      <td>python is not new language</td>\n",
       "    </tr>\n",
       "    <tr>\n",
       "      <th>3</th>\n",
       "      <td>Learn python programming</td>\n",
       "    </tr>\n",
       "    <tr>\n",
       "      <th>4</th>\n",
       "      <td>java is second language</td>\n",
       "    </tr>\n",
       "  </tbody>\n",
       "</table>\n",
       "</div>"
      ],
      "text/plain": [
       "                       TEXT_DATA\n",
       "0  apple a day keeps doctor away\n",
       "1          apple tree in my farm\n",
       "2     python is not new language\n",
       "3       Learn python programming\n",
       "4        java is second language"
      ]
     },
     "execution_count": 128,
     "metadata": {},
     "output_type": "execute_result"
    }
   ],
   "source": [
    "df = pd.DataFrame({'TEXT_DATA': [u'apple a day keeps doctor away', u'apple tree in my farm', u'python is not new language', \n",
    "                                 u'Learn python programming', u'java is second language']})\n",
    "df"
   ]
  },
  {
   "cell_type": "code",
   "execution_count": 140,
   "metadata": {},
   "outputs": [
    {
     "data": {
      "text/html": [
       "<div>\n",
       "<style scoped>\n",
       "    .dataframe tbody tr th:only-of-type {\n",
       "        vertical-align: middle;\n",
       "    }\n",
       "\n",
       "    .dataframe tbody tr th {\n",
       "        vertical-align: top;\n",
       "    }\n",
       "\n",
       "    .dataframe thead th {\n",
       "        text-align: right;\n",
       "    }\n",
       "</style>\n",
       "<table border=\"1\" class=\"dataframe\">\n",
       "  <thead>\n",
       "    <tr style=\"text-align: right;\">\n",
       "      <th></th>\n",
       "      <th>TEXT_DATA</th>\n",
       "      <th>ids</th>\n",
       "    </tr>\n",
       "  </thead>\n",
       "  <tbody>\n",
       "    <tr>\n",
       "      <th>0</th>\n",
       "      <td>apple a day keeps doctor away</td>\n",
       "      <td>101</td>\n",
       "    </tr>\n",
       "    <tr>\n",
       "      <th>1</th>\n",
       "      <td>apple tree in my farm</td>\n",
       "      <td>101</td>\n",
       "    </tr>\n",
       "    <tr>\n",
       "      <th>2</th>\n",
       "      <td>python is not new language</td>\n",
       "      <td>103</td>\n",
       "    </tr>\n",
       "    <tr>\n",
       "      <th>3</th>\n",
       "      <td>Learn python programming</td>\n",
       "      <td>103</td>\n",
       "    </tr>\n",
       "    <tr>\n",
       "      <th>4</th>\n",
       "      <td>java is second language</td>\n",
       "      <td>102</td>\n",
       "    </tr>\n",
       "  </tbody>\n",
       "</table>\n",
       "</div>"
      ],
      "text/plain": [
       "                       TEXT_DATA  ids\n",
       "0  apple a day keeps doctor away  101\n",
       "1          apple tree in my farm  101\n",
       "2     python is not new language  103\n",
       "3       Learn python programming  103\n",
       "4        java is second language  102"
      ]
     },
     "execution_count": 140,
     "metadata": {},
     "output_type": "execute_result"
    }
   ],
   "source": [
    "extr = '|'.join(x for x in df1['vals'])\n",
    "df['vals'] = df['TEXT_DATA'].str.extract('('+ extr + ')', expand=False)\n",
    "newdf = pd.merge(df, df1, on='vals', how='left')\n",
    "newdf[['TEXT_DATA','ids']]"
   ]
  },
  {
   "cell_type": "code",
   "execution_count": 150,
   "metadata": {},
   "outputs": [
    {
     "data": {
      "text/html": [
       "<div>\n",
       "<style scoped>\n",
       "    .dataframe tbody tr th:only-of-type {\n",
       "        vertical-align: middle;\n",
       "    }\n",
       "\n",
       "    .dataframe tbody tr th {\n",
       "        vertical-align: top;\n",
       "    }\n",
       "\n",
       "    .dataframe thead th {\n",
       "        text-align: right;\n",
       "    }\n",
       "</style>\n",
       "<table border=\"1\" class=\"dataframe\">\n",
       "  <thead>\n",
       "    <tr style=\"text-align: right;\">\n",
       "      <th></th>\n",
       "      <th>TEXT_DATA</th>\n",
       "      <th>vals</th>\n",
       "      <th>new</th>\n",
       "    </tr>\n",
       "  </thead>\n",
       "  <tbody>\n",
       "    <tr>\n",
       "      <th>0</th>\n",
       "      <td>apple a day keeps doctor away</td>\n",
       "      <td>apple</td>\n",
       "      <td>True</td>\n",
       "    </tr>\n",
       "    <tr>\n",
       "      <th>1</th>\n",
       "      <td>apple tree in my farm</td>\n",
       "      <td>apple</td>\n",
       "      <td>True</td>\n",
       "    </tr>\n",
       "    <tr>\n",
       "      <th>2</th>\n",
       "      <td>python is not new language</td>\n",
       "      <td>python</td>\n",
       "      <td>False</td>\n",
       "    </tr>\n",
       "    <tr>\n",
       "      <th>3</th>\n",
       "      <td>Learn python programming</td>\n",
       "      <td>python</td>\n",
       "      <td>False</td>\n",
       "    </tr>\n",
       "    <tr>\n",
       "      <th>4</th>\n",
       "      <td>java is second language</td>\n",
       "      <td>java</td>\n",
       "      <td>False</td>\n",
       "    </tr>\n",
       "  </tbody>\n",
       "</table>\n",
       "</div>"
      ],
      "text/plain": [
       "                       TEXT_DATA    vals    new\n",
       "0  apple a day keeps doctor away   apple   True\n",
       "1          apple tree in my farm   apple   True\n",
       "2     python is not new language  python  False\n",
       "3       Learn python programming  python  False\n",
       "4        java is second language    java  False"
      ]
     },
     "execution_count": 150,
     "metadata": {},
     "output_type": "execute_result"
    }
   ],
   "source": [
    "df['new'] = df.TEXT_DATA.apply(lambda x: 'apple' in str(x))\n",
    "df"
   ]
  },
  {
   "cell_type": "code",
   "execution_count": 97,
   "metadata": {},
   "outputs": [
    {
     "name": "stdout",
     "output_type": "stream",
     "text": [
      "apple\n",
      "java\n",
      "python\n"
     ]
    }
   ],
   "source": [
    "for i in df1['vals']:\n",
    "    print (i)"
   ]
  },
  {
   "cell_type": "code",
   "execution_count": 151,
   "metadata": {},
   "outputs": [
    {
     "data": {
      "text/html": [
       "<div>\n",
       "<style scoped>\n",
       "    .dataframe tbody tr th:only-of-type {\n",
       "        vertical-align: middle;\n",
       "    }\n",
       "\n",
       "    .dataframe tbody tr th {\n",
       "        vertical-align: top;\n",
       "    }\n",
       "\n",
       "    .dataframe thead th {\n",
       "        text-align: right;\n",
       "    }\n",
       "</style>\n",
       "<table border=\"1\" class=\"dataframe\">\n",
       "  <thead>\n",
       "    <tr style=\"text-align: right;\">\n",
       "      <th></th>\n",
       "      <th>TEXT_DATA</th>\n",
       "      <th>vals</th>\n",
       "      <th>ids</th>\n",
       "    </tr>\n",
       "  </thead>\n",
       "  <tbody>\n",
       "    <tr>\n",
       "      <th>0</th>\n",
       "      <td>apple a day keeps doctor away</td>\n",
       "      <td>apple</td>\n",
       "      <td>101</td>\n",
       "    </tr>\n",
       "    <tr>\n",
       "      <th>1</th>\n",
       "      <td>apple tree in my farm</td>\n",
       "      <td>apple</td>\n",
       "      <td>101</td>\n",
       "    </tr>\n",
       "    <tr>\n",
       "      <th>2</th>\n",
       "      <td>python is not new language</td>\n",
       "      <td>python</td>\n",
       "      <td>103</td>\n",
       "    </tr>\n",
       "    <tr>\n",
       "      <th>3</th>\n",
       "      <td>Learn python programming</td>\n",
       "      <td>python</td>\n",
       "      <td>103</td>\n",
       "    </tr>\n",
       "    <tr>\n",
       "      <th>4</th>\n",
       "      <td>java is second language</td>\n",
       "      <td>java</td>\n",
       "      <td>102</td>\n",
       "    </tr>\n",
       "  </tbody>\n",
       "</table>\n",
       "</div>"
      ],
      "text/plain": [
       "                       TEXT_DATA    vals  ids\n",
       "0  apple a day keeps doctor away   apple  101\n",
       "1          apple tree in my farm   apple  101\n",
       "2     python is not new language  python  103\n",
       "3       Learn python programming  python  103\n",
       "4        java is second language    java  102"
      ]
     },
     "execution_count": 151,
     "metadata": {},
     "output_type": "execute_result"
    }
   ],
   "source": [
    "newdf"
   ]
  },
  {
   "cell_type": "code",
   "execution_count": 154,
   "metadata": {},
   "outputs": [
    {
     "name": "stdout",
     "output_type": "stream",
     "text": [
      "j:  5\n",
      "intList:  [1, 5, 4, 9, 7, 2, 15, 6.08]\n",
      "intList:  [1, 5, 9, 7, 2, 15, 6.08]\n",
      "intList:  [1, 5, 67, 9, 7, 2, 15, 6.08]\n",
      "g:  9\n"
     ]
    }
   ],
   "source": [
    "intList = [1, 5, 4, 9, 7, 2, 15]\n",
    "def manipfunc(a):\n",
    "    j = a.index(2)\n",
    "    print (\"j: \",j)\n",
    "    a.append(6.08)\n",
    "    print (\"intList: \",a)\n",
    "    a.remove(4)\n",
    "    print (\"intList: \",a)\n",
    "    a.insert(2,67)\n",
    "    print (\"intList: \",a)\n",
    "    g = a.pop(3)\n",
    "    print (\"g: \",g)\n",
    "#     print(a)\n",
    "#     print(j, g)\n",
    "manipfunc(intList)"
   ]
  },
  {
   "cell_type": "code",
   "execution_count": 173,
   "metadata": {},
   "outputs": [
    {
     "data": {
      "text/html": [
       "<div>\n",
       "<style scoped>\n",
       "    .dataframe tbody tr th:only-of-type {\n",
       "        vertical-align: middle;\n",
       "    }\n",
       "\n",
       "    .dataframe tbody tr th {\n",
       "        vertical-align: top;\n",
       "    }\n",
       "\n",
       "    .dataframe thead th {\n",
       "        text-align: right;\n",
       "    }\n",
       "</style>\n",
       "<table border=\"1\" class=\"dataframe\">\n",
       "  <thead>\n",
       "    <tr style=\"text-align: right;\">\n",
       "      <th></th>\n",
       "      <th>PartNumber</th>\n",
       "      <th>Prefix</th>\n",
       "    </tr>\n",
       "  </thead>\n",
       "  <tbody>\n",
       "    <tr>\n",
       "      <th>0</th>\n",
       "      <td>ABC</td>\n",
       "      <td></td>\n",
       "    </tr>\n",
       "    <tr>\n",
       "      <th>1</th>\n",
       "      <td>DEF</td>\n",
       "      <td></td>\n",
       "    </tr>\n",
       "    <tr>\n",
       "      <th>2</th>\n",
       "      <td>BLABLA</td>\n",
       "      <td>1 FO-</td>\n",
       "    </tr>\n",
       "    <tr>\n",
       "      <th>3</th>\n",
       "      <td>EXAMPLE</td>\n",
       "      <td>2 IA-</td>\n",
       "    </tr>\n",
       "  </tbody>\n",
       "</table>\n",
       "</div>"
      ],
      "text/plain": [
       "  PartNumber Prefix\n",
       "0        ABC       \n",
       "1        DEF       \n",
       "2     BLABLA  1 FO-\n",
       "3    EXAMPLE  2 IA-"
      ]
     },
     "execution_count": 173,
     "metadata": {},
     "output_type": "execute_result"
    }
   ],
   "source": [
    "pr_list = ['1 FO-','2 IA-']\n",
    "df = pd.DataFrame({'PartNumber':['ABC','DEF','1 FO-BLABLA','2 IA-EXAMPLE']})\n",
    "\n",
    "extr = '|'.join(x for x in pr_list)\n",
    "df['Prefix'] = df['PartNumber'].str.extract('('+ extr + ')', expand=False).fillna('')\n",
    "df['PartNumber'] = df['PartNumber'].str.replace('|'.join(pr_list),'')\n",
    "df\n",
    "# df['Prefix']=df.PartNumber.str.extract(r'({})'.format('|'.join(pr_list))).fillna('')\n",
    "# df.PartNumber=df.PartNumber.str.replace('|'.join(pr_list),'')\n",
    "# print(df)"
   ]
  },
  {
   "cell_type": "code",
   "execution_count": 2,
   "metadata": {},
   "outputs": [
    {
     "name": "stdout",
     "output_type": "stream",
     "text": [
      "enter stringI love python\n",
      "I love .python\n"
     ]
    }
   ],
   "source": [
    "string = input(\"enter string\")\n",
    "if \"python\" in string:\n",
    "    print(string.replace(\"python\",\".python\"))\n",
    "else:\n",
    "    print(string)"
   ]
  },
  {
   "cell_type": "code",
   "execution_count": 12,
   "metadata": {},
   "outputs": [
    {
     "name": "stdout",
     "output_type": "stream",
     "text": [
      "4\n",
      "6\n"
     ]
    }
   ],
   "source": [
    "a = 'DA115792C339A5E674416AB0559BF5CB8D38E88B1E71F4DFAE896EBD2D13ABB13FFB1DC687DCF0C270A8BF4861D2E6D26E74DC81C18EB53FD5C52AA691A8F16BDA4E1EB8009B00DCD61457E34C438F23EF3D1FD905CF689793CC1E02E1ECB6778A1E2720D416AC432959A8A3B20B43525A856C97E4D404065D1D30ADC74D012B27D00B0029AD3940CB2C9F2AB6C01D430F3A58584C5DB6C98839579AF2A8F90A5D80B5097D547105DF2D9F9485E9F2CCFD6F9ECDDBD562FE09EA81C19B18482BD483AEBAB8481EE208887909DDAE826629538F36E6A50CEECBF3462E9FFBDAC6363F3A9A56F31081EBF28AD0FCF288B0DB8CB44735B9D7E6D193D55C90767E83'\n",
    "b = a.replace('D6','9F')\n",
    "print (a.count('9F'))\n",
    "print (b.count('9F'))"
   ]
  },
  {
   "cell_type": "code",
   "execution_count": 32,
   "metadata": {
    "scrolled": true
   },
   "outputs": [
    {
     "name": "stdout",
     "output_type": "stream",
     "text": [
      "    Group  Number\n",
      "0       a       0\n",
      "1       b       1\n",
      "2       c       2\n",
      "3       d       3\n",
      "4       e       4\n",
      "5       f       5\n",
      "6       g       6\n",
      "7       h       7\n",
      "8       i       8\n",
      "9       j       9\n",
      "10      k      10\n",
      "11      l      11\n",
      "12      m      12\n",
      "13      n      13\n",
      "14      o      14\n",
      "15      p      15\n",
      "16      q      16\n",
      "17      r      17\n",
      "18      s      18\n",
      "19      t      19\n",
      "20      a      20\n",
      "21      b      21\n",
      "22      c      22\n",
      "23      d      23\n",
      "24      e      24\n",
      "25      f       0\n",
      "26      g       1\n",
      "27      h       2\n",
      "28      i       3\n",
      "29      j       4\n",
      "..    ...     ...\n",
      "470     k      20\n",
      "471     l      21\n",
      "472     m      22\n",
      "473     n      23\n",
      "474     o      24\n",
      "475     p       0\n",
      "476     q       1\n",
      "477     r       2\n",
      "478     s       3\n",
      "479     t       4\n",
      "480     a       5\n",
      "481     b       6\n",
      "482     c       7\n",
      "483     d       8\n",
      "484     e       9\n",
      "485     f      10\n",
      "486     g      11\n",
      "487     h      12\n",
      "488     i      13\n",
      "489     j      14\n",
      "490     k      15\n",
      "491     l      16\n",
      "492     m      17\n",
      "493     n      18\n",
      "494     o      19\n",
      "495     p      20\n",
      "496     q      21\n",
      "497     r      22\n",
      "498     s      23\n",
      "499     t      24\n",
      "\n",
      "[500 rows x 2 columns]\n"
     ]
    }
   ],
   "source": [
    "import string\n",
    "import pandas as pd\n",
    "\n",
    "d = dict.fromkeys(string.ascii_lowercase, 0).keys()\n",
    "# groups = sorted(d)[:3]\n",
    "# numList = range(0,4)\n",
    "groups = sorted(d)[:20]\n",
    "numList = range(0,25)\n",
    "\n",
    "df = pd.DataFrame({'Number':sorted(numList)*len(groups), 'Group':sorted(groups)*len(numList)})\n",
    "print(df)\n",
    "# df.sort_values(['Group', 'Number'])"
   ]
  },
  {
   "cell_type": "code",
   "execution_count": 34,
   "metadata": {},
   "outputs": [
    {
     "name": "stdout",
     "output_type": "stream",
     "text": [
      "  id                               text\n",
      "0  1        Hello world how are you all\n",
      "1  2  Hello everyone I am fine everyone\n",
      "2  3              Good Afternoon people\n",
      "3  4                         Good Night\n"
     ]
    }
   ],
   "source": [
    "df1 = pd.DataFrame({\"id\":[\"1\",\"2\",\"3\",\"4\"],\"text\":[\"Hello world how are you people\",\"Hello people I am fine people\",\n",
    "                                                 \"Good Morning people\",\"Good Evening\"]})\n",
    "df2 = pd.DataFrame({\"id\":[\"1\",\"2\",\"3\",\"4\"],\"text\":[\"Hello world how are you all\",\"Hello everyone I am fine everyone\",\n",
    "                                                 \"Good Afternoon people\",\"Good Night\"]})\n",
    "print(df2)"
   ]
  },
  {
   "cell_type": "code",
   "execution_count": 79,
   "metadata": {},
   "outputs": [
    {
     "name": "stdout",
     "output_type": "stream",
     "text": [
      "Hello world how are you\n",
      "Hello I am fine\n",
      "Good people\n",
      "Good\n"
     ]
    }
   ],
   "source": [
    "for n,d1 in enumerate(df1['text']):\n",
    "    a = (d1.split())\n",
    "    b = (df2['text'][n].split())\n",
    "    c = sorted(set(a).intersection(b), key=a.index)\n",
    "    print(' '.join(c))"
   ]
  },
  {
   "cell_type": "code",
   "execution_count": 76,
   "metadata": {},
   "outputs": [
    {
     "data": {
      "text/html": [
       "<div>\n",
       "<style>\n",
       "    .dataframe thead tr:only-child th {\n",
       "        text-align: right;\n",
       "    }\n",
       "\n",
       "    .dataframe thead th {\n",
       "        text-align: left;\n",
       "    }\n",
       "\n",
       "    .dataframe tbody tr th {\n",
       "        vertical-align: top;\n",
       "    }\n",
       "</style>\n",
       "<table border=\"1\" class=\"dataframe\">\n",
       "  <thead>\n",
       "    <tr style=\"text-align: right;\">\n",
       "      <th></th>\n",
       "      <th>Text</th>\n",
       "    </tr>\n",
       "  </thead>\n",
       "  <tbody>\n",
       "    <tr>\n",
       "      <th>0</th>\n",
       "      <td>Hello world how are you</td>\n",
       "    </tr>\n",
       "    <tr>\n",
       "      <th>1</th>\n",
       "      <td>Hello I am fine</td>\n",
       "    </tr>\n",
       "    <tr>\n",
       "      <th>2</th>\n",
       "      <td>Good people</td>\n",
       "    </tr>\n",
       "    <tr>\n",
       "      <th>3</th>\n",
       "      <td>Good</td>\n",
       "    </tr>\n",
       "  </tbody>\n",
       "</table>\n",
       "</div>"
      ],
      "text/plain": [
       "                      Text\n",
       "0  Hello world how are you\n",
       "1          Hello I am fine\n",
       "2              Good people\n",
       "3                     Good"
      ]
     },
     "execution_count": 76,
     "metadata": {},
     "output_type": "execute_result"
    }
   ],
   "source": [
    "res = []\n",
    "for s1, s2 in zip(df1.text, df2.text):\n",
    "    set_s1 = s1.split()\n",
    "    set_int = set(set_s1).intersection(s2.split())\n",
    "    s_int = sorted(set_int, key=set_s1.index)\n",
    "    res.append(' '.join(s_int))\n",
    "\n",
    "out = pd.DataFrame(res, columns=['Text'])\n",
    "out"
   ]
  },
  {
   "cell_type": "code",
   "execution_count": 60,
   "metadata": {},
   "outputs": [
    {
     "name": "stdout",
     "output_type": "stream",
     "text": [
      "['people'] ['all']\n",
      "['people'] ['everyone']\n",
      "['Morning'] ['Afternoon']\n",
      "['Evening'] ['Night']\n"
     ]
    }
   ],
   "source": [
    "for n in range(len(df1['text'])):\n",
    "    print(list(set(df1['text'][n].split()) - set(df2['text'][n].split())),\n",
    "          list(set(df2['text'][n].split()) - set(df1['text'][n].split())))"
   ]
  },
  {
   "cell_type": "code",
   "execution_count": 82,
   "metadata": {},
   "outputs": [
    {
     "data": {
      "text/html": [
       "<div>\n",
       "<style>\n",
       "    .dataframe thead tr:only-child th {\n",
       "        text-align: right;\n",
       "    }\n",
       "\n",
       "    .dataframe thead th {\n",
       "        text-align: left;\n",
       "    }\n",
       "\n",
       "    .dataframe tbody tr th {\n",
       "        vertical-align: top;\n",
       "    }\n",
       "</style>\n",
       "<table border=\"1\" class=\"dataframe\">\n",
       "  <thead>\n",
       "    <tr style=\"text-align: right;\">\n",
       "      <th></th>\n",
       "      <th>Email</th>\n",
       "      <th>FirstName</th>\n",
       "      <th>LastName</th>\n",
       "    </tr>\n",
       "  </thead>\n",
       "  <tbody>\n",
       "    <tr>\n",
       "      <th>0</th>\n",
       "      <td>stevesmith1@gmail.com</td>\n",
       "      <td>Steven</td>\n",
       "      <td>Smith</td>\n",
       "    </tr>\n",
       "    <tr>\n",
       "      <th>1</th>\n",
       "      <td>jb155@yahoo.com</td>\n",
       "      <td>Jane</td>\n",
       "      <td>Brown</td>\n",
       "    </tr>\n",
       "    <tr>\n",
       "      <th>2</th>\n",
       "      <td>paulgibbs@outlook.com</td>\n",
       "      <td>Paul</td>\n",
       "      <td>Gibson</td>\n",
       "    </tr>\n",
       "  </tbody>\n",
       "</table>\n",
       "</div>"
      ],
      "text/plain": [
       "                   Email FirstName LastName\n",
       "0  stevesmith1@gmail.com    Steven    Smith\n",
       "1        jb155@yahoo.com      Jane    Brown\n",
       "2  paulgibbs@outlook.com      Paul   Gibson"
      ]
     },
     "execution_count": 82,
     "metadata": {},
     "output_type": "execute_result"
    }
   ],
   "source": [
    "data1 = pd.DataFrame({\"FirstName\":[\"Steven\",\"Jane\",\"Paul\"],\"LastName\":[\"Smith\",\"Brown\",\"Gibson\"],\n",
    "                      \"Email\":[\"stevesmith1@gmail.com\",\"jb155@yahoo.com\",\"paulgibbs@outlook.com\"]})\n",
    "data2 = pd.DataFrame({\"ID\":[\"1028332982\",\"1028820233\",\"934943823\"],\"FirstName\":[\"Steven\",\"Jane\",\"Paul\"],\n",
    "                      \"LastName\":[\"Smith\",\"Brown\",\"Gibson\"],\"IncompleteEmail\":[\"s*****1@g*l.com\",\"j******n@yahoo.com\",\"p*****s@h****l.com\"]})\n",
    "data1"
   ]
  },
  {
   "cell_type": "code",
   "execution_count": 81,
   "metadata": {},
   "outputs": [
    {
     "data": {
      "text/html": [
       "<div>\n",
       "<style>\n",
       "    .dataframe thead tr:only-child th {\n",
       "        text-align: right;\n",
       "    }\n",
       "\n",
       "    .dataframe thead th {\n",
       "        text-align: left;\n",
       "    }\n",
       "\n",
       "    .dataframe tbody tr th {\n",
       "        vertical-align: top;\n",
       "    }\n",
       "</style>\n",
       "<table border=\"1\" class=\"dataframe\">\n",
       "  <thead>\n",
       "    <tr style=\"text-align: right;\">\n",
       "      <th></th>\n",
       "      <th>FirstName</th>\n",
       "      <th>ID</th>\n",
       "      <th>IncompleteEmail</th>\n",
       "      <th>LastName</th>\n",
       "    </tr>\n",
       "  </thead>\n",
       "  <tbody>\n",
       "    <tr>\n",
       "      <th>0</th>\n",
       "      <td>Steven</td>\n",
       "      <td>1028332982</td>\n",
       "      <td>s*****1@g*l.com</td>\n",
       "      <td>Smith</td>\n",
       "    </tr>\n",
       "    <tr>\n",
       "      <th>1</th>\n",
       "      <td>Jane</td>\n",
       "      <td>1028820233</td>\n",
       "      <td>j******n@yahoo.com</td>\n",
       "      <td>Brown</td>\n",
       "    </tr>\n",
       "    <tr>\n",
       "      <th>2</th>\n",
       "      <td>Paul</td>\n",
       "      <td>934943823</td>\n",
       "      <td>p*****s@h****l.com</td>\n",
       "      <td>Gibson</td>\n",
       "    </tr>\n",
       "  </tbody>\n",
       "</table>\n",
       "</div>"
      ],
      "text/plain": [
       "  FirstName          ID     IncompleteEmail LastName\n",
       "0    Steven  1028332982     s*****1@g*l.com    Smith\n",
       "1      Jane  1028820233  j******n@yahoo.com    Brown\n",
       "2      Paul   934943823  p*****s@h****l.com   Gibson"
      ]
     },
     "execution_count": 81,
     "metadata": {},
     "output_type": "execute_result"
    }
   ],
   "source": [
    "data2"
   ]
  },
  {
   "cell_type": "code",
   "execution_count": 110,
   "metadata": {},
   "outputs": [
    {
     "data": {
      "text/html": [
       "<div>\n",
       "<style>\n",
       "    .dataframe thead tr:only-child th {\n",
       "        text-align: right;\n",
       "    }\n",
       "\n",
       "    .dataframe thead th {\n",
       "        text-align: left;\n",
       "    }\n",
       "\n",
       "    .dataframe tbody tr th {\n",
       "        vertical-align: top;\n",
       "    }\n",
       "</style>\n",
       "<table border=\"1\" class=\"dataframe\">\n",
       "  <thead>\n",
       "    <tr style=\"text-align: right;\">\n",
       "      <th></th>\n",
       "      <th>ID</th>\n",
       "      <th>Email</th>\n",
       "    </tr>\n",
       "  </thead>\n",
       "  <tbody>\n",
       "    <tr>\n",
       "      <th>0</th>\n",
       "      <td>1028332982</td>\n",
       "      <td>stevesmith1@gmail.com</td>\n",
       "    </tr>\n",
       "  </tbody>\n",
       "</table>\n",
       "</div>"
      ],
      "text/plain": [
       "           ID                  Email\n",
       "0  1028332982  stevesmith1@gmail.com"
      ]
     },
     "execution_count": 110,
     "metadata": {},
     "output_type": "execute_result"
    }
   ],
   "source": [
    "df_new = pd.merge(data1,data2, on=['FirstName','LastName'], how='inner')\n",
    "mails = []\n",
    "regex = \"(\\w{1})\\D.*(\\w{1}\\@\\w{1})\\D.*(\\w{1}[\\.]\\D.+)\"\n",
    "for d in range(len(df_new)):\n",
    "    inmail = re.findall(regex,df_new.iloc[d][\"IncompleteEmail\"])\n",
    "    commail = re.findall(regex,df_new.iloc[d][\"Email\"])\n",
    "    if inmail == commail:\n",
    "        mails.append([df_new.iloc[d]['ID'],df_new.iloc[d][\"Email\"]])\n",
    "pd.DataFrame(mails, columns=[\"ID\",\"Email\"])"
   ]
  },
  {
   "cell_type": "code",
   "execution_count": 160,
   "metadata": {
    "scrolled": true
   },
   "outputs": [
    {
     "data": {
      "text/html": [
       "<div>\n",
       "<style>\n",
       "    .dataframe thead tr:only-child th {\n",
       "        text-align: right;\n",
       "    }\n",
       "\n",
       "    .dataframe thead th {\n",
       "        text-align: left;\n",
       "    }\n",
       "\n",
       "    .dataframe tbody tr th {\n",
       "        vertical-align: top;\n",
       "    }\n",
       "</style>\n",
       "<table border=\"1\" class=\"dataframe\">\n",
       "  <thead>\n",
       "    <tr style=\"text-align: right;\">\n",
       "      <th></th>\n",
       "      <th>date</th>\n",
       "      <th>col1</th>\n",
       "      <th>col2</th>\n",
       "    </tr>\n",
       "  </thead>\n",
       "  <tbody>\n",
       "    <tr>\n",
       "      <th>0</th>\n",
       "      <td>2018-05-25</td>\n",
       "      <td>18</td>\n",
       "      <td>14</td>\n",
       "    </tr>\n",
       "    <tr>\n",
       "      <th>1</th>\n",
       "      <td>2018-06-04</td>\n",
       "      <td>19</td>\n",
       "      <td>16</td>\n",
       "    </tr>\n",
       "    <tr>\n",
       "      <th>2</th>\n",
       "      <td>2018-06-15</td>\n",
       "      <td>19</td>\n",
       "      <td>18</td>\n",
       "    </tr>\n",
       "    <tr>\n",
       "      <th>3</th>\n",
       "      <td>2018-06-24</td>\n",
       "      <td>21</td>\n",
       "      <td>20</td>\n",
       "    </tr>\n",
       "    <tr>\n",
       "      <th>4</th>\n",
       "      <td>2018-07-10</td>\n",
       "      <td>23</td>\n",
       "      <td>23</td>\n",
       "    </tr>\n",
       "    <tr>\n",
       "      <th>5</th>\n",
       "      <td>2018-07-20</td>\n",
       "      <td>25</td>\n",
       "      <td>25</td>\n",
       "    </tr>\n",
       "    <tr>\n",
       "      <th>6</th>\n",
       "      <td>2018-08-01</td>\n",
       "      <td>27</td>\n",
       "      <td>29</td>\n",
       "    </tr>\n",
       "    <tr>\n",
       "      <th>7</th>\n",
       "      <td>2018-08-10</td>\n",
       "      <td>28</td>\n",
       "      <td>32</td>\n",
       "    </tr>\n",
       "    <tr>\n",
       "      <th>8</th>\n",
       "      <td>2018-08-22</td>\n",
       "      <td>29</td>\n",
       "      <td>35</td>\n",
       "    </tr>\n",
       "    <tr>\n",
       "      <th>9</th>\n",
       "      <td>2018-09-03</td>\n",
       "      <td>29</td>\n",
       "      <td>37</td>\n",
       "    </tr>\n",
       "    <tr>\n",
       "      <th>10</th>\n",
       "      <td>2018-09-25</td>\n",
       "      <td>31</td>\n",
       "      <td>48</td>\n",
       "    </tr>\n",
       "    <tr>\n",
       "      <th>11</th>\n",
       "      <td>2018-10-17</td>\n",
       "      <td>34</td>\n",
       "      <td>55</td>\n",
       "    </tr>\n",
       "    <tr>\n",
       "      <th>12</th>\n",
       "      <td>2018-11-10</td>\n",
       "      <td>38</td>\n",
       "      <td>63</td>\n",
       "    </tr>\n",
       "    <tr>\n",
       "      <th>13</th>\n",
       "      <td>2018-11-11</td>\n",
       "      <td>39</td>\n",
       "      <td>64</td>\n",
       "    </tr>\n",
       "    <tr>\n",
       "      <th>14</th>\n",
       "      <td>2018-12-10</td>\n",
       "      <td>48</td>\n",
       "      <td>77</td>\n",
       "    </tr>\n",
       "    <tr>\n",
       "      <th>15</th>\n",
       "      <td>2018-12-11</td>\n",
       "      <td>49</td>\n",
       "      <td>78</td>\n",
       "    </tr>\n",
       "    <tr>\n",
       "      <th>16</th>\n",
       "      <td>2019-01-11</td>\n",
       "      <td>57</td>\n",
       "      <td>88</td>\n",
       "    </tr>\n",
       "    <tr>\n",
       "      <th>17</th>\n",
       "      <td>2019-02-10</td>\n",
       "      <td>63</td>\n",
       "      <td>103</td>\n",
       "    </tr>\n",
       "    <tr>\n",
       "      <th>18</th>\n",
       "      <td>2019-02-24</td>\n",
       "      <td>67</td>\n",
       "      <td>111</td>\n",
       "    </tr>\n",
       "    <tr>\n",
       "      <th>19</th>\n",
       "      <td>2018-03-10</td>\n",
       "      <td>69</td>\n",
       "      <td>113</td>\n",
       "    </tr>\n",
       "    <tr>\n",
       "      <th>20</th>\n",
       "      <td>2019-03-11</td>\n",
       "      <td>70</td>\n",
       "      <td>115</td>\n",
       "    </tr>\n",
       "    <tr>\n",
       "      <th>21</th>\n",
       "      <td>2019-04-10</td>\n",
       "      <td>80</td>\n",
       "      <td>149</td>\n",
       "    </tr>\n",
       "    <tr>\n",
       "      <th>22</th>\n",
       "      <td>2019-05-11</td>\n",
       "      <td>88</td>\n",
       "      <td>209</td>\n",
       "    </tr>\n",
       "  </tbody>\n",
       "</table>\n",
       "</div>"
      ],
      "text/plain": [
       "          date  col1  col2\n",
       "0   2018-05-25    18    14\n",
       "1   2018-06-04    19    16\n",
       "2   2018-06-15    19    18\n",
       "3   2018-06-24    21    20\n",
       "4   2018-07-10    23    23\n",
       "5   2018-07-20    25    25\n",
       "6   2018-08-01    27    29\n",
       "7   2018-08-10    28    32\n",
       "8   2018-08-22    29    35\n",
       "9   2018-09-03    29    37\n",
       "10  2018-09-25    31    48\n",
       "11  2018-10-17    34    55\n",
       "12  2018-11-10    38    63\n",
       "13  2018-11-11    39    64\n",
       "14  2018-12-10    48    77\n",
       "15  2018-12-11    49    78\n",
       "16  2019-01-11    57    88\n",
       "17  2019-02-10    63   103\n",
       "18  2019-02-24    67   111\n",
       "19  2018-03-10    69   113\n",
       "20  2019-03-11    70   115\n",
       "21  2019-04-10    80   149\n",
       "22  2019-05-11    88   209"
      ]
     },
     "execution_count": 160,
     "metadata": {},
     "output_type": "execute_result"
    }
   ],
   "source": [
    "import pandas as pd\n",
    "df_initial = pd.DataFrame([\n",
    "(\"2018-05-25\", 18, 14),\n",
    "(\"2018-06-04\", 19, 16),\n",
    "(\"2018-06-15\", 19, 18),\n",
    "(\"2018-06-24\", 21, 20),\n",
    "(\"2018-07-10\", 23, 23),\n",
    "(\"2018-07-20\", 25, 25),\n",
    "(\"2018-08-01\", 27, 29),\n",
    "(\"2018-08-10\", 28, 32),\n",
    "(\"2018-08-22\", 29, 35),\n",
    "(\"2018-09-03\", 29, 37),\n",
    "(\"2018-09-25\", 31, 48),\n",
    "(\"2018-10-17\", 34, 55),\n",
    "(\"2018-11-10\", 38, 63),\n",
    "(\"2018-11-11\", 39, 64),\n",
    "(\"2018-12-10\", 48, 77),\n",
    "(\"2018-12-11\", 49, 78),\n",
    "(\"2019-01-11\", 57, 88),\n",
    "(\"2019-02-10\", 63, 103),\n",
    "(\"2019-02-24\", 67, 111),\n",
    "(\"2018-03-10\", 69, 113),\n",
    "(\"2019-03-11\", 70, 115),\n",
    "(\"2019-04-10\", 80, 149),\n",
    "(\"2019-05-11\", 88, 209)],\n",
    "columns=[\"date\", \"col1\", \"col2\"])\n",
    "df_initial"
   ]
  },
  {
   "cell_type": "code",
   "execution_count": 161,
   "metadata": {
    "scrolled": true
   },
   "outputs": [
    {
     "data": {
      "text/html": [
       "<div>\n",
       "<style>\n",
       "    .dataframe thead tr:only-child th {\n",
       "        text-align: right;\n",
       "    }\n",
       "\n",
       "    .dataframe thead th {\n",
       "        text-align: left;\n",
       "    }\n",
       "\n",
       "    .dataframe tbody tr th {\n",
       "        vertical-align: top;\n",
       "    }\n",
       "</style>\n",
       "<table border=\"1\" class=\"dataframe\">\n",
       "  <thead>\n",
       "    <tr style=\"text-align: right;\">\n",
       "      <th></th>\n",
       "      <th>date</th>\n",
       "      <th>col1</th>\n",
       "      <th>col2</th>\n",
       "    </tr>\n",
       "  </thead>\n",
       "  <tbody>\n",
       "    <tr>\n",
       "      <th>0</th>\n",
       "      <td>2018-05-25</td>\n",
       "      <td>18</td>\n",
       "      <td>14</td>\n",
       "    </tr>\n",
       "    <tr>\n",
       "      <th>1</th>\n",
       "      <td>2018-06-04</td>\n",
       "      <td>19</td>\n",
       "      <td>16</td>\n",
       "    </tr>\n",
       "    <tr>\n",
       "      <th>2</th>\n",
       "      <td>2018-06-15</td>\n",
       "      <td>19</td>\n",
       "      <td>18</td>\n",
       "    </tr>\n",
       "    <tr>\n",
       "      <th>3</th>\n",
       "      <td>2018-06-24</td>\n",
       "      <td>21</td>\n",
       "      <td>20</td>\n",
       "    </tr>\n",
       "    <tr>\n",
       "      <th>4</th>\n",
       "      <td>2018-07-10</td>\n",
       "      <td>NaN</td>\n",
       "      <td>NaN</td>\n",
       "    </tr>\n",
       "    <tr>\n",
       "      <th>5</th>\n",
       "      <td>2018-07-20</td>\n",
       "      <td>25</td>\n",
       "      <td>25</td>\n",
       "    </tr>\n",
       "    <tr>\n",
       "      <th>6</th>\n",
       "      <td>2018-08-01</td>\n",
       "      <td>27</td>\n",
       "      <td>29</td>\n",
       "    </tr>\n",
       "    <tr>\n",
       "      <th>7</th>\n",
       "      <td>2018-08-10</td>\n",
       "      <td>NaN</td>\n",
       "      <td>NaN</td>\n",
       "    </tr>\n",
       "    <tr>\n",
       "      <th>8</th>\n",
       "      <td>2018-08-22</td>\n",
       "      <td>29</td>\n",
       "      <td>35</td>\n",
       "    </tr>\n",
       "    <tr>\n",
       "      <th>9</th>\n",
       "      <td>2018-09-03</td>\n",
       "      <td>29</td>\n",
       "      <td>37</td>\n",
       "    </tr>\n",
       "    <tr>\n",
       "      <th>10</th>\n",
       "      <td>2018-09-25</td>\n",
       "      <td>31</td>\n",
       "      <td>48</td>\n",
       "    </tr>\n",
       "    <tr>\n",
       "      <th>11</th>\n",
       "      <td>2018-10-17</td>\n",
       "      <td>34</td>\n",
       "      <td>55</td>\n",
       "    </tr>\n",
       "    <tr>\n",
       "      <th>12</th>\n",
       "      <td>2018-11-10</td>\n",
       "      <td>NaN</td>\n",
       "      <td>NaN</td>\n",
       "    </tr>\n",
       "    <tr>\n",
       "      <th>13</th>\n",
       "      <td>2018-11-11</td>\n",
       "      <td>39</td>\n",
       "      <td>64</td>\n",
       "    </tr>\n",
       "    <tr>\n",
       "      <th>14</th>\n",
       "      <td>2018-12-10</td>\n",
       "      <td>NaN</td>\n",
       "      <td>NaN</td>\n",
       "    </tr>\n",
       "    <tr>\n",
       "      <th>15</th>\n",
       "      <td>2018-12-11</td>\n",
       "      <td>49</td>\n",
       "      <td>78</td>\n",
       "    </tr>\n",
       "    <tr>\n",
       "      <th>16</th>\n",
       "      <td>2019-01-11</td>\n",
       "      <td>57</td>\n",
       "      <td>88</td>\n",
       "    </tr>\n",
       "    <tr>\n",
       "      <th>17</th>\n",
       "      <td>2019-02-10</td>\n",
       "      <td>NaN</td>\n",
       "      <td>NaN</td>\n",
       "    </tr>\n",
       "    <tr>\n",
       "      <th>18</th>\n",
       "      <td>2019-02-24</td>\n",
       "      <td>67</td>\n",
       "      <td>111</td>\n",
       "    </tr>\n",
       "    <tr>\n",
       "      <th>19</th>\n",
       "      <td>2018-03-10</td>\n",
       "      <td>NaN</td>\n",
       "      <td>NaN</td>\n",
       "    </tr>\n",
       "    <tr>\n",
       "      <th>20</th>\n",
       "      <td>2019-03-11</td>\n",
       "      <td>70</td>\n",
       "      <td>115</td>\n",
       "    </tr>\n",
       "    <tr>\n",
       "      <th>21</th>\n",
       "      <td>2019-04-10</td>\n",
       "      <td>NaN</td>\n",
       "      <td>NaN</td>\n",
       "    </tr>\n",
       "    <tr>\n",
       "      <th>22</th>\n",
       "      <td>2019-05-11</td>\n",
       "      <td>88</td>\n",
       "      <td>209</td>\n",
       "    </tr>\n",
       "  </tbody>\n",
       "</table>\n",
       "</div>"
      ],
      "text/plain": [
       "          date col1 col2\n",
       "0   2018-05-25   18   14\n",
       "1   2018-06-04   19   16\n",
       "2   2018-06-15   19   18\n",
       "3   2018-06-24   21   20\n",
       "4   2018-07-10  NaN  NaN\n",
       "5   2018-07-20   25   25\n",
       "6   2018-08-01   27   29\n",
       "7   2018-08-10  NaN  NaN\n",
       "8   2018-08-22   29   35\n",
       "9   2018-09-03   29   37\n",
       "10  2018-09-25   31   48\n",
       "11  2018-10-17   34   55\n",
       "12  2018-11-10  NaN  NaN\n",
       "13  2018-11-11   39   64\n",
       "14  2018-12-10  NaN  NaN\n",
       "15  2018-12-11   49   78\n",
       "16  2019-01-11   57   88\n",
       "17  2019-02-10  NaN  NaN\n",
       "18  2019-02-24   67  111\n",
       "19  2018-03-10  NaN  NaN\n",
       "20  2019-03-11   70  115\n",
       "21  2019-04-10  NaN  NaN\n",
       "22  2019-05-11   88  209"
      ]
     },
     "execution_count": 161,
     "metadata": {},
     "output_type": "execute_result"
    }
   ],
   "source": [
    "import time\n",
    "conv = [time.strptime(s,\"%Y-%m-%d\") for s in df_initial['date']]\n",
    "df_initial['day'] = [time.strftime(\"%d\", c) for c in conv]\n",
    "df_initial.loc[df_initial['day'] == '10', ['col1','col2']] = 'NaN'\n",
    "df_initial[['date','col1','col2']]"
   ]
  },
  {
   "cell_type": "code",
   "execution_count": 13,
   "metadata": {},
   "outputs": [
    {
     "name": "stdout",
     "output_type": "stream",
     "text": [
      "0987654321\n",
      "0987654321\n",
      "1234567890\n"
     ]
    }
   ],
   "source": [
    "x = \"1234567890\"\n",
    "print(x[10::-1])\n",
    "print(x[::-1])\n",
    "print(x[0:10:1])"
   ]
  },
  {
   "cell_type": "code",
   "execution_count": 6,
   "metadata": {},
   "outputs": [
    {
     "name": "stdout",
     "output_type": "stream",
     "text": [
      "86\n"
     ]
    }
   ],
   "source": [
    "z = 8620.73926\n",
    "y = (z/100)\n",
    "print(round(y))"
   ]
  },
  {
   "cell_type": "code",
   "execution_count": 14,
   "metadata": {
    "scrolled": true
   },
   "outputs": [
    {
     "name": "stdout",
     "output_type": "stream",
     "text": [
      "1\n",
      "10\n",
      "100\n",
      "1000\n",
      "10000\n",
      "100000\n",
      "1000000\n"
     ]
    }
   ],
   "source": [
    "import math\n",
    "for i in range(0,7):\n",
    "    z = math.pow(10,i)\n",
    "    print(int(z))"
   ]
  },
  {
   "cell_type": "code",
   "execution_count": 15,
   "metadata": {},
   "outputs": [
    {
     "name": "stdout",
     "output_type": "stream",
     "text": [
      "1\n",
      "10\n",
      "100\n",
      "1000\n",
      "10000\n",
      "100000\n",
      "1000000\n"
     ]
    }
   ],
   "source": [
    "for i in (10 ** e for e in range(7)):\n",
    "    print(i)"
   ]
  },
  {
   "cell_type": "code",
   "execution_count": 18,
   "metadata": {},
   "outputs": [
    {
     "name": "stdout",
     "output_type": "stream",
     "text": [
      "Welcome to the Quadratic Solver for f(x)=ax^2+bx+c\n",
      "Enter Value for a:2\n",
      "Enter Value for b:5\n",
      "Enter Value for c:-8\n",
      "Enter Value for x:3\n",
      "F(3.0)= 25.0\n",
      "\n",
      "Press Enter to continue...\n",
      "f(x) has a minimum at -1.25 with a value f(x0)=-14.875\n",
      "\n",
      "Press Enter to continue...\n",
      "Solving for f(x) = 0\n",
      "Discriminant is 89.0\n",
      "Two Real Solutions 1.1084952830141508 and -3.608495283014151\n",
      "None\n"
     ]
    }
   ],
   "source": [
    "a = 0\n",
    "b = 0\n",
    "c = 0\n",
    "import math\n",
    "\n",
    "\n",
    "def evaluate_quad_function(a, b, c, x):\n",
    "    f_of_x = a * (x ** 2) + (b * x) + c\n",
    "    return f_of_x  # return the calculated result\n",
    "\n",
    "\n",
    "print(\"Welcome to the Quadratic Solver for f(x)=ax^2+bx+c\")\n",
    "a = input(\"Enter Value for a:\")\n",
    "b = input(\"Enter Value for b:\")\n",
    "c = input(\"Enter Value for c:\")\n",
    "# cannot do math on string, convert to float\n",
    "a = float(a)\n",
    "b = float(b)\n",
    "c = float(c)\n",
    "f_x0 = a * ((-b) / (2 * a) ** 2) + (b * (-b) / (2 * a)) + c\n",
    "\n",
    "\n",
    "def print_sign(x):\n",
    "    # check the sign if positive or negative\n",
    "    return '+' if x > 0 else '-'\n",
    "\n",
    "\n",
    "if a == 1:\n",
    "    print(\"\\nFunction is: f(x)= \", \"x**2 \", print_sign(b), abs(b), \"x \", print_sign(c), abs(c), sep=\"\")\n",
    "if b == 1:\n",
    "    print(\"\\nFunction is: f(x)= \", a, \"x**2 \", print_sign(b), \"x \", print_sign(c), abs(c), sep=\"\")\n",
    "if c == 1:\n",
    "    print(\"\\nFunction is: f(x)= \", a, \"x**2 \", print_sign(b), abs(b), \"x \", print_sign(c), abs(c), sep=\"\")\n",
    "\n",
    "x = input(\"Enter Value for x:\")\n",
    "x = float(x)\n",
    "\n",
    "fx = evaluate_quad_function(a, b, c, x)\n",
    "print(\"F\" + \"(\" + str(x) + \")\"\"=\", str(fx))\n",
    "temp = input(\"\\nPress Enter to continue...\")  # wait\n",
    "\n",
    "x0 = -b / (2 * a)\n",
    "x0 = float(x0)\n",
    "if a > 0:\n",
    "    print(\"f(x) has a minimum at \" + str(x0) + \" with a value f(x0)=\" + str(f_x0))\n",
    "else:\n",
    "    print(\"f(x) has a maximum at \" + str(x0) + \" with a value f(x0)=\" + str(f_x0))\n",
    "temp = input(\"\\nPress Enter to continue...\")  # wait\n",
    "\n",
    "\n",
    "def compute_discriminate():\n",
    "    print(\"Solving for f(x) = 0\")\n",
    "    d = (b ** 2) - (4 * a * c)\n",
    "    if d < 0:\n",
    "        print(\"No real solution.\")\n",
    "    x1 = (-b + math.sqrt(d)) / (2 * a)\n",
    "    x2 = (-b - math.sqrt(d)) / (2 * a)\n",
    "    print(\"Discriminant is\", str(d))\n",
    "    if d > 0:\n",
    "        (print(\"Two Real Solutions\", str(x1), \"and\", str(x2)))\n",
    "\n",
    "    if d == 0:\n",
    "        print(\"One real solution:\", str(x0))\n",
    "\n",
    "\n",
    "\n",
    "print(compute_discriminate())"
   ]
  },
  {
   "cell_type": "code",
   "execution_count": 4,
   "metadata": {},
   "outputs": [
    {
     "name": "stdout",
     "output_type": "stream",
     "text": [
      "enter the rows for pattern: 5\n",
      "*\n",
      "**\n",
      "***\n",
      "****\n",
      "*****\n"
     ]
    }
   ],
   "source": [
    "n = eval(input (\"enter the rows for pattern: \"))\n",
    "temp = 1\n",
    "for i in range(1,n+1):\n",
    "    temp =1\n",
    "    while temp <= i:\n",
    "        print(\"*\", end = '')\n",
    "        temp += 1\n",
    "    print('')"
   ]
  },
  {
   "cell_type": "code",
   "execution_count": null,
   "metadata": {
    "collapsed": true
   },
   "outputs": [],
   "source": []
  }
 ],
 "metadata": {
  "kernelspec": {
   "display_name": "Python 3",
   "language": "python",
   "name": "python3"
  },
  "language_info": {
   "codemirror_mode": {
    "name": "ipython",
    "version": 3
   },
   "file_extension": ".py",
   "mimetype": "text/x-python",
   "name": "python",
   "nbconvert_exporter": "python",
   "pygments_lexer": "ipython3",
   "version": "3.6.3"
  }
 },
 "nbformat": 4,
 "nbformat_minor": 2
}
