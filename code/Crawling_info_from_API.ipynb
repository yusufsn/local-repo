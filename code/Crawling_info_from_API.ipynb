{
 "cells": [
  {
   "cell_type": "code",
   "execution_count": 21,
   "metadata": {
    "collapsed": true
   },
   "outputs": [],
   "source": [
    "import urllib\n",
    "from urllib.request import urljoin\n",
    "from urllib.request import urlopen\n",
    "from bs4 import BeautifulSoup as Soup\n",
    "import requests\n",
    "import pandas as pd"
   ]
  },
  {
   "cell_type": "code",
   "execution_count": 22,
   "metadata": {},
   "outputs": [
    {
     "data": {
      "text/html": [
       "<div>\n",
       "<style scoped>\n",
       "    .dataframe tbody tr th:only-of-type {\n",
       "        vertical-align: middle;\n",
       "    }\n",
       "\n",
       "    .dataframe tbody tr th {\n",
       "        vertical-align: top;\n",
       "    }\n",
       "\n",
       "    .dataframe thead th {\n",
       "        text-align: right;\n",
       "    }\n",
       "</style>\n",
       "<table border=\"1\" class=\"dataframe\">\n",
       "  <thead>\n",
       "    <tr style=\"text-align: right;\">\n",
       "      <th></th>\n",
       "      <th>con_id</th>\n",
       "      <th>profile_api</th>\n",
       "    </tr>\n",
       "  </thead>\n",
       "  <tbody>\n",
       "    <tr>\n",
       "      <th>0</th>\n",
       "      <td>JonGeorge</td>\n",
       "      <td>https://api.github.com/users/JonGeorge/repos</td>\n",
       "    </tr>\n",
       "    <tr>\n",
       "      <th>1</th>\n",
       "      <td>teddyphotos</td>\n",
       "      <td>https://api.github.com/users/teddyphotos/repos</td>\n",
       "    </tr>\n",
       "    <tr>\n",
       "      <th>2</th>\n",
       "      <td>Arnabbiswas1999</td>\n",
       "      <td>https://api.github.com/users/Arnabbiswas1999/r...</td>\n",
       "    </tr>\n",
       "    <tr>\n",
       "      <th>3</th>\n",
       "      <td>Ahrman</td>\n",
       "      <td>https://api.github.com/users/Ahrman/repos</td>\n",
       "    </tr>\n",
       "    <tr>\n",
       "      <th>4</th>\n",
       "      <td>NomadicDaggy</td>\n",
       "      <td>https://api.github.com/users/NomadicDaggy/repos</td>\n",
       "    </tr>\n",
       "    <tr>\n",
       "      <th>...</th>\n",
       "      <td>...</td>\n",
       "      <td>...</td>\n",
       "    </tr>\n",
       "    <tr>\n",
       "      <th>195</th>\n",
       "      <td>ioannis-toumboglou</td>\n",
       "      <td>https://api.github.com/users/ioannis-toumboglo...</td>\n",
       "    </tr>\n",
       "    <tr>\n",
       "      <th>196</th>\n",
       "      <td>lyndonpanton</td>\n",
       "      <td>https://api.github.com/users/lyndonpanton/repos</td>\n",
       "    </tr>\n",
       "    <tr>\n",
       "      <th>197</th>\n",
       "      <td>kvenkman</td>\n",
       "      <td>https://api.github.com/users/kvenkman/repos</td>\n",
       "    </tr>\n",
       "    <tr>\n",
       "      <th>198</th>\n",
       "      <td>shreyaspj20</td>\n",
       "      <td>https://api.github.com/users/shreyaspj20/repos</td>\n",
       "    </tr>\n",
       "    <tr>\n",
       "      <th>199</th>\n",
       "      <td>AyushNSUT</td>\n",
       "      <td>https://api.github.com/users/AyushNSUT/repos</td>\n",
       "    </tr>\n",
       "  </tbody>\n",
       "</table>\n",
       "<p>200 rows × 2 columns</p>\n",
       "</div>"
      ],
      "text/plain": [
       "                 con_id                                        profile_api\n",
       "0             JonGeorge       https://api.github.com/users/JonGeorge/repos\n",
       "1           teddyphotos     https://api.github.com/users/teddyphotos/repos\n",
       "2       Arnabbiswas1999  https://api.github.com/users/Arnabbiswas1999/r...\n",
       "3                Ahrman          https://api.github.com/users/Ahrman/repos\n",
       "4          NomadicDaggy    https://api.github.com/users/NomadicDaggy/repos\n",
       "..                  ...                                                ...\n",
       "195  ioannis-toumboglou  https://api.github.com/users/ioannis-toumboglo...\n",
       "196        lyndonpanton    https://api.github.com/users/lyndonpanton/repos\n",
       "197            kvenkman        https://api.github.com/users/kvenkman/repos\n",
       "198         shreyaspj20     https://api.github.com/users/shreyaspj20/repos\n",
       "199           AyushNSUT       https://api.github.com/users/AyushNSUT/repos\n",
       "\n",
       "[200 rows x 2 columns]"
      ]
     },
     "execution_count": 22,
     "metadata": {},
     "output_type": "execute_result"
    }
   ],
   "source": [
    "df_users = pd.read_csv(\"username_and_proj_urls.csv\")\n",
    "df_users"
   ]
  },
  {
   "cell_type": "code",
   "execution_count": 23,
   "metadata": {
    "collapsed": true
   },
   "outputs": [],
   "source": [
    "profile = list(set(df_users['profile_api']))"
   ]
  },
  {
   "cell_type": "code",
   "execution_count": 30,
   "metadata": {
    "scrolled": true
   },
   "outputs": [
    {
     "data": {
      "application/vnd.jupyter.widget-view+json": {
       "model_id": "02c78ac2cc65485c9fbf3e69bb902b69",
       "version_major": 2,
       "version_minor": 0
      },
      "text/plain": [
       "A Jupyter Widget"
      ]
     },
     "metadata": {},
     "output_type": "display_data"
    },
    {
     "name": "stdout",
     "output_type": "stream",
     "text": [
      "1 https://api.github.com/users/jkimuli/repos\n",
      "2 https://api.github.com/users/fponsar/repos\n",
      "3 https://api.github.com/users/smpss92118/repos\n",
      "4 https://api.github.com/users/BrayanCaro/repos\n",
      "5 https://api.github.com/users/Centicus1000/repos\n",
      "6 https://api.github.com/users/afshimono/repos\n",
      "7 https://api.github.com/users/nikhosagala/repos\n",
      "8 https://api.github.com/users/mcaubrey/repos\n",
      "9 https://api.github.com/users/Arghasarkar/repos\n",
      "10 https://api.github.com/users/petremihaivalentin/repos\n",
      "11 https://api.github.com/users/NobleTyler/repos\n",
      "12 https://api.github.com/users/JeremiahKamama/repos\n",
      "13 https://api.github.com/users/Harfeur/repos\n",
      "14 https://api.github.com/users/rymasc/repos\n",
      "15 https://api.github.com/users/Bcaruthers/repos\n",
      "16 https://api.github.com/users/CristianCantilloDg/repos\n",
      "17 https://api.github.com/users/SriNandan33/repos\n",
      "18 https://api.github.com/users/boraxpr/repos\n",
      "19 https://api.github.com/users/studiozandra/repos\n",
      "20 https://api.github.com/users/mirfanrafif/repos\n",
      "21 https://api.github.com/users/dga/repos\n",
      "22 https://api.github.com/users/mformihir/repos\n",
      "23 https://api.github.com/users/Oner-T/repos\n",
      "24 https://api.github.com/users/blondie12/repos\n",
      "25 https://api.github.com/users/daganomri/repos\n",
      "26 https://api.github.com/users/vibu267/repos\n",
      "27 https://api.github.com/users/AmbiTyga/repos\n",
      "28 https://api.github.com/users/Journeyman92/repos\n",
      "29 https://api.github.com/users/abitoguna/repos\n",
      "30 https://api.github.com/users/Brandon-Escobar/repos\n"
     ]
    }
   ],
   "source": [
    "from tqdm.auto import tqdm\n",
    "import time\n",
    "\n",
    "a=1\n",
    "api_data = []\n",
    "for url in tqdm(profile):\n",
    "    print (a,url)\n",
    "    request = requests.get(url)\n",
    "    json = request.json()\n",
    "    for i in range(0,len(json)):\n",
    "        ids = json[i]['id']\n",
    "        name = json[i]['name']\n",
    "        urls = json[i]['svn_url']\n",
    "        \n",
    "        api_data.append([ids,name,urls])\n",
    "        \n",
    "    if a % 30 == 0:\n",
    "        time.sleep(600)\n",
    "\n",
    "    a+=1"
   ]
  },
  {
   "cell_type": "code",
   "execution_count": null,
   "metadata": {
    "collapsed": true
   },
   "outputs": [],
   "source": []
  }
 ],
 "metadata": {
  "kernelspec": {
   "display_name": "Python 3",
   "language": "python",
   "name": "python3"
  },
  "language_info": {
   "codemirror_mode": {
    "name": "ipython",
    "version": 3
   },
   "file_extension": ".py",
   "mimetype": "text/x-python",
   "name": "python",
   "nbconvert_exporter": "python",
   "pygments_lexer": "ipython3",
   "version": "3.6.3"
  }
 },
 "nbformat": 4,
 "nbformat_minor": 2
}
