{
 "cells": [
  {
   "cell_type": "markdown",
   "metadata": {},
   "source": [
    "# Import libraries"
   ]
  },
  {
   "cell_type": "code",
   "execution_count": 8,
   "metadata": {
    "collapsed": true
   },
   "outputs": [],
   "source": [
    "import urllib, sys, os"
   ]
  },
  {
   "cell_type": "code",
   "execution_count": 9,
   "metadata": {
    "collapsed": true
   },
   "outputs": [],
   "source": [
    "userhome = os.path.expanduser(\"~\")\n",
    "code = userhome + r'/local-repo/code/'"
   ]
  },
  {
   "cell_type": "code",
   "execution_count": 10,
   "metadata": {
    "collapsed": true
   },
   "outputs": [],
   "source": [
    "url = 'https://github.com/apache?page='"
   ]
  },
  {
   "cell_type": "code",
   "execution_count": 16,
   "metadata": {
    "scrolled": true
   },
   "outputs": [
    {
     "name": "stdout",
     "output_type": "stream",
     "text": [
      "Extracting web page: 57\n",
      "Extraction completed\n"
     ]
    }
   ],
   "source": [
    "errorpage = []\n",
    "for i in range(41,58):\n",
    "    sys.stdout.write(\"\\rExtracting web page: %i\" %i)\n",
    "    sys.stdout.flush()\n",
    "    try:\n",
    "        response = urllib.request.urlopen(url + str(i))\n",
    "        mystr = response.read()\n",
    "        webContent = mystr.decode(\"utf8\")\n",
    "        response.close()\n",
    "    \n",
    "        html_file = open(code + \"web_data/webfile_page\" + str(i) + \".html\",\"w\")\n",
    "        html_file.write(webContent)\n",
    "        html_file.close()\n",
    "    except:\n",
    "        errorpage.append(i)\n",
    "    \n",
    "print (\"\\nExtraction completed\")"
   ]
  },
  {
   "cell_type": "code",
   "execution_count": 17,
   "metadata": {},
   "outputs": [
    {
     "data": {
      "text/plain": [
       "[]"
      ]
     },
     "execution_count": 17,
     "metadata": {},
     "output_type": "execute_result"
    }
   ],
   "source": [
    "errorpage"
   ]
  },
  {
   "cell_type": "code",
   "execution_count": null,
   "metadata": {
    "collapsed": true
   },
   "outputs": [],
   "source": []
  }
 ],
 "metadata": {
  "kernelspec": {
   "display_name": "Python 3",
   "language": "python",
   "name": "python3"
  },
  "language_info": {
   "codemirror_mode": {
    "name": "ipython",
    "version": 3
   },
   "file_extension": ".py",
   "mimetype": "text/x-python",
   "name": "python",
   "nbconvert_exporter": "python",
   "pygments_lexer": "ipython3",
   "version": "3.6.3"
  }
 },
 "nbformat": 4,
 "nbformat_minor": 2
}
