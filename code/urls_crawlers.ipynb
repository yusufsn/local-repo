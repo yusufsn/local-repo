{
 "cells": [
  {
   "cell_type": "markdown",
   "metadata": {},
   "source": [
    "# Import libraries"
   ]
  },
  {
   "cell_type": "code",
   "execution_count": 19,
   "metadata": {},
   "outputs": [],
   "source": [
    "import urllib\n",
    "from urllib.request import urljoin\n",
    "from urllib.request import urlopen\n",
    "from bs4 import BeautifulSoup"
   ]
  },
  {
   "cell_type": "code",
   "execution_count": 53,
   "metadata": {},
   "outputs": [],
   "source": [
    "def crawl(pages, depth=None):\n",
    "    indexed_url = [] # a list for the main and sub-HTML websites in the main website\n",
    "    for i in range(depth):\n",
    "        for page in pages:\n",
    "            if page not in indexed_url:\n",
    "                indexed_url.append(page)\n",
    "                try:\n",
    "                    c = urllib.request.urlopen(page)\n",
    "                except:\n",
    "                    print (\"Could not open %s\" % page)\n",
    "                    continue\n",
    "                soup = BeautifulSoup(c.read(), \"lxml\")\n",
    "                links = soup('a') #finding all the sub_links\n",
    "                for link in links:\n",
    "                    if 'href' in dict(link.attrs):\n",
    "                        url = urljoin(page, link['href'])\n",
    "                        if url.find(\"'\") != -1:\n",
    "                                continue\n",
    "                        url = url.split('#')[0] \n",
    "                        if url[0:4] == 'http':\n",
    "                                indexed_url.append(url)\n",
    "        pages = indexed_url\n",
    "    return indexed_url"
   ]
  },
  {
   "cell_type": "code",
   "execution_count": 63,
   "metadata": {},
   "outputs": [],
   "source": [
    "pagelist=[\"http://yusufsn.staff.ums.ac.id/\"]\n",
    "urls = crawl(pagelist, depth=2)"
   ]
  },
  {
   "cell_type": "code",
   "execution_count": 64,
   "metadata": {
    "scrolled": true
   },
   "outputs": [
    {
     "data": {
      "text/plain": [
       "['http://yusufsn.staff.ums.ac.id/',\n",
       " 'http://yusufsn.staff.ums.ac.id/',\n",
       " 'http://yusufsn.staff.ums.ac.id/assignments',\n",
       " 'http://yusufsn.staff.ums.ac.id/extra-credit',\n",
       " 'http://yusufsn.staff.ums.ac.id/contact-me',\n",
       " 'http://yusufsn.staff.ums.ac.id/home/IMG_20140414_110048.jpg?attredirects=0',\n",
       " 'http://yusufsn.staff.ums.ac.id/contact-me',\n",
       " 'http://yusufsn.staff.ums.ac.id/classroom-news',\n",
       " 'http://yusufsn.staff.ums.ac.id/my-calendar',\n",
       " 'http://yusufsn.staff.ums.ac.id/my-reading-list',\n",
       " 'http://yusufsn.staff.ums.ac.id/useful-links',\n",
       " 'http://yusufsn.staff.ums.ac.id/classroom-pictures',\n",
       " 'http://yusufsn.staff.ums.ac.id/my-files',\n",
       " 'http://yusufsn.staff.ums.ac.id/poll',\n",
       " 'http://www.ums.ac.id',\n",
       " 'http://fki.ums.ac.id',\n",
       " 'https://yusufums.wordpress.com/',\n",
       " 'http://informatika.ums.ac.id',\n",
       " 'http://yusufsn.staff.ums.ac.id/student-of-the-month/studentoftheoddsemester20162017',\n",
       " 'http://yusufsn.staff.ums.ac.id/student-of-the-month',\n",
       " 'http://yusufsn.staff.ums.ac.id/word-of-the-week/analisis',\n",
       " 'http://yusufsn.staff.ums.ac.id/word-of-the-week',\n",
       " 'http://yusufsn.staff.ums.ac.id/classroom-news/kuliahpenggantiharisenin12des2016',\n",
       " 'http://yusufsn.staff.ums.ac.id/classroom-news/penggantijadwalkuliahlogikadanrpl',\n",
       " 'http://yusufsn.staff.ums.ac.id/classroom-news/jadwalbimbinganakademik',\n",
       " 'http://yusufsn.staff.ums.ac.id/classroom-news/uasgenap20132014praktikum',\n",
       " 'http://yusufsn.staff.ums.ac.id/classroom-news/hasiluasgasal20132014',\n",
       " 'http://yusufsn.staff.ums.ac.id/classroom-news',\n",
       " 'http://yusufsn.staff.ums.ac.id/assignments/tugasiidatawarehousingkelompok',\n",
       " 'http://yusufsn.staff.ums.ac.id/assignments/tugasidatawarehousingkelasreguler',\n",
       " 'http://yusufsn.staff.ums.ac.id/assignments/tugasidatawarehousing',\n",
       " 'http://yusufsn.staff.ums.ac.id/assignments/tugasipemrogramanwebdasar',\n",
       " 'http://yusufsn.staff.ums.ac.id/assignments/tugas1dataminingkelompok',\n",
       " 'http://yusufsn.staff.ums.ac.id/assignments',\n",
       " 'https://accounts.google.com/ServiceLogin?continue=http://sites.google.com/a/ums.ac.id/yusuf/home&service=jotspot',\n",
       " 'http://yusufsn.staff.ums.ac.id/system/app/pages/recentChanges',\n",
       " 'http://sites.google.com/a/ums.ac.id/yusuf/system/app/pages/reportAbuse',\n",
       " 'http://sites.google.com/site']"
      ]
     },
     "execution_count": 64,
     "metadata": {},
     "output_type": "execute_result"
    }
   ],
   "source": [
    "urls"
   ]
  },
  {
   "cell_type": "code",
   "execution_count": 65,
   "metadata": {},
   "outputs": [
    {
     "data": {
      "text/plain": [
       "38"
      ]
     },
     "execution_count": 65,
     "metadata": {},
     "output_type": "execute_result"
    }
   ],
   "source": [
    "len(urls)"
   ]
  },
  {
   "cell_type": "code",
   "execution_count": null,
   "metadata": {
    "collapsed": true
   },
   "outputs": [],
   "source": []
  }
 ],
 "metadata": {
  "kernelspec": {
   "display_name": "Python 3",
   "language": "python",
   "name": "python3"
  },
  "language_info": {
   "codemirror_mode": {
    "name": "ipython",
    "version": 3
   },
   "file_extension": ".py",
   "mimetype": "text/x-python",
   "name": "python",
   "nbconvert_exporter": "python",
   "pygments_lexer": "ipython3",
   "version": "3.6.3"
  }
 },
 "nbformat": 4,
 "nbformat_minor": 2
}
