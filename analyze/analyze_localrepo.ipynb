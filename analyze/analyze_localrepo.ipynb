{
 "cells": [
  {
   "cell_type": "code",
   "execution_count": 1,
   "metadata": {
    "collapsed": true
   },
   "outputs": [],
   "source": [
    "import os, glob, json, csv, subprocess, sys, re\n",
    "from git import *\n",
    "from subprocess import Popen, PIPE\n",
    "from os import path\n",
    "import pandas as pd\n",
    "import matplotlib.pyplot as plt\n",
    "import numpy as np\n",
    "import plotly.graph_objs as go\n",
    "import plotly.plotly as ply\n",
    "import plotly\n",
    "from plotly.offline import plot, init_notebook_mode, iplot\n",
    "\n",
    "%matplotlib inline"
   ]
  },
  {
   "cell_type": "code",
   "execution_count": 2,
   "metadata": {
    "collapsed": true
   },
   "outputs": [],
   "source": [
    "userhome = os.path.expanduser('~')"
   ]
  },
  {
   "cell_type": "markdown",
   "metadata": {},
   "source": [
    "# Create directory list"
   ]
  },
  {
   "cell_type": "code",
   "execution_count": 3,
   "metadata": {},
   "outputs": [
    {
     "name": "stdout",
     "output_type": "stream",
     "text": [
      "Found 6 dirs\n"
     ]
    }
   ],
   "source": [
    "dir_list = glob.glob(userhome + r'/local-repo/*')\n",
    "print (\"Found \" + str(len(dir_list)) + \" dirs\")"
   ]
  },
  {
   "cell_type": "code",
   "execution_count": 4,
   "metadata": {},
   "outputs": [
    {
     "name": "stdout",
     "output_type": "stream",
     "text": [
      "File dir_list.txt has been created\n"
     ]
    }
   ],
   "source": [
    "with open (\"dir_list.txt\", mode=\"wt\", encoding=\"utf-8\") as myfile:\n",
    "    myfile.write('\\n'.join(dir_list))\n",
    "print (\"File dir_list.txt has been created\")"
   ]
  },
  {
   "cell_type": "markdown",
   "metadata": {},
   "source": [
    "# Load directory list from file "
   ]
  },
  {
   "cell_type": "code",
   "execution_count": 5,
   "metadata": {},
   "outputs": [
    {
     "name": "stdout",
     "output_type": "stream",
     "text": [
      "Found 6 dirs\n"
     ]
    }
   ],
   "source": [
    "txt_file = open(\"dir_list.txt\", \"r\")\n",
    "dir_list = txt_file.read().split('\\n')\n",
    "print (\"Found \" + str(len(dir_list)) + \" dirs\")"
   ]
  },
  {
   "cell_type": "markdown",
   "metadata": {},
   "source": [
    "# Defining function to extract commit log"
   ]
  },
  {
   "cell_type": "code",
   "execution_count": 6,
   "metadata": {
    "collapsed": true
   },
   "outputs": [],
   "source": [
    "def execute_shell_command(cmd, work_dir):\n",
    "    \"\"\"Executes a shell command in a subprocess, waiting until it has completed.\n",
    " \n",
    "    :param cmd: Command to execute.\n",
    "    :param work_dir: Working directory path.\n",
    "    \"\"\"\n",
    "    pipe = subprocess.Popen(cmd, shell=True, cwd=work_dir, stdout=subprocess.PIPE, stderr=subprocess.PIPE)\n",
    "    (out, error) = pipe.communicate()\n",
    "    return out, error\n",
    "    pipe.wait()"
   ]
  },
  {
   "cell_type": "markdown",
   "metadata": {},
   "source": [
    "Defining Repository"
   ]
  },
  {
   "cell_type": "code",
   "execution_count": 7,
   "metadata": {
    "collapsed": true
   },
   "outputs": [],
   "source": [
    "repository  = os.path.dirname(userhome + r'/local-repo/') "
   ]
  },
  {
   "cell_type": "markdown",
   "metadata": {},
   "source": [
    "List of git command"
   ]
  },
  {
   "cell_type": "code",
   "execution_count": 8,
   "metadata": {
    "collapsed": true
   },
   "outputs": [],
   "source": [
    "cmd = ['git log -w --unified=5 | wc -l', 'git log --unified=5 | wc -l', \n",
    "       'git log -U0 -w | wc -l', 'git log -U0 | wc -l', \n",
    "       'git log -w --patch | wc -l', 'git log --patch | wc -l']"
   ]
  },
  {
   "cell_type": "code",
   "execution_count": 9,
   "metadata": {},
   "outputs": [
    {
     "name": "stdout",
     "output_type": "stream",
     "text": [
      "Applying git command = 6\n",
      "\n",
      "git log -w --unified=5 | wc -l \t\t =  4967\n",
      "git log --unified=5 | wc -l \t\t =  5037\n",
      "git log -U0 -w | wc -l \t\t =  4670\n",
      "git log -U0 | wc -l \t\t =  4733\n",
      "git log -w --patch | wc -l \t\t =  4876\n",
      "git log --patch | wc -l \t\t =  4946\n"
     ]
    }
   ],
   "source": [
    "result = []\n",
    "for i in range(0,len(cmd)):\n",
    "    sys.stdout.write(\"\\rApplying git command = %i\" % (i+1))\n",
    "    sys.stdout.flush()\n",
    "    result.append(int(str(execute_shell_command(cmd[i], repository)).replace(\"b\",'').replace(\"'\",'').\n",
    "                      replace(' ','').replace(\"\\\\n,\",'').replace(\"(\",'').replace(\")\",'')))\n",
    "\n",
    "print (\"\\n\")\n",
    "x = len(result)\n",
    "y = x\n",
    "for item in result:\n",
    "    print (cmd[x-y] , \"\\t\\t = \" , item)\n",
    "    y = y-1"
   ]
  },
  {
   "cell_type": "markdown",
   "metadata": {},
   "source": [
    "# Extracting Commit ID"
   ]
  },
  {
   "cell_type": "code",
   "execution_count": 10,
   "metadata": {
    "collapsed": true
   },
   "outputs": [],
   "source": [
    "command = \"git log --pretty='%H'\""
   ]
  },
  {
   "cell_type": "code",
   "execution_count": 11,
   "metadata": {
    "collapsed": true
   },
   "outputs": [],
   "source": [
    "com_ID = str(execute_shell_command(command, repository)).replace(\"b'\",'').replace(\"'\",'').replace('\\\\n',' ').replace(\"(\",'').replace(\")\",'').replace(\",\",'').split(' ')"
   ]
  },
  {
   "cell_type": "markdown",
   "metadata": {},
   "source": [
    "# Applying git diff commitID_1 commitID2 --shortstat"
   ]
  },
  {
   "cell_type": "code",
   "execution_count": 12,
   "metadata": {},
   "outputs": [
    {
     "name": "stdout",
     "output_type": "stream",
     "text": [
      "Extracting diff = 58 out of 58"
     ]
    }
   ],
   "source": [
    "diff = []\n",
    "for i in range(0, len(com_ID)-3):\n",
    "    sys.stdout.write('\\rExtracting diff = %i' % (i+1) + ' out of %i' % (len(com_ID)-3))\n",
    "    sys.stdout.flush()\n",
    "    diff_cmd = \"git diff \" + com_ID[i+1] + \" \" + com_ID[i] + \" --shortstat\"\n",
    "    diff.append(str(execute_shell_command(diff_cmd, repository)).replace(\"b'\",'').replace(\"'\",'').replace(\"\\\\n\",' ').replace(\"( \",'').replace(\" )\",''))"
   ]
  },
  {
   "cell_type": "code",
   "execution_count": 13,
   "metadata": {
    "collapsed": true
   },
   "outputs": [],
   "source": [
    "for x in range(0,len(diff)):\n",
    "    line = diff[x]\n",
    "    if \"deletion\" not in diff[x]:\n",
    "        index = line.find('(+)')\n",
    "        diff[x] = line[:index] + ', 0 deletions(-) ,'\n",
    "    if \"insertion\" not in diff[x]:\n",
    "        index = diff[x].find(',')\n",
    "        diff[x] = line[:index] + ', 0 insertions(+)' + line[index:]\n",
    "    else:\n",
    "        diff[x] = diff[x]"
   ]
  },
  {
   "cell_type": "code",
   "execution_count": 14,
   "metadata": {
    "collapsed": true
   },
   "outputs": [],
   "source": [
    "diff_metrics = []\n",
    "for j in range(0,len(diff)):\n",
    "    diff_metrics.append(re.findall(r'\\d+', diff[j]))\n",
    "\n",
    "for k in range(0, len(diff_metrics)):\n",
    "    diff_metrics[k] = list(map(int, diff_metrics[k]))"
   ]
  },
  {
   "cell_type": "code",
   "execution_count": 15,
   "metadata": {
    "collapsed": true
   },
   "outputs": [],
   "source": [
    "with open('metrics1.csv', 'w') as csvfile:\n",
    "    header = ['files changed', 'insertions(+)', 'deletions(-)']\n",
    "    writer = csv.writer(csvfile, delimiter=',')\n",
    "    writer.writerow(header)\n",
    "    for row in diff_metrics:\n",
    "        writer.writerow(row)"
   ]
  },
  {
   "cell_type": "code",
   "execution_count": 16,
   "metadata": {},
   "outputs": [
    {
     "name": "stdout",
     "output_type": "stream",
     "text": [
      "Sum of files changed = 80\n",
      "Sum of insertions(+) = 3730\n",
      "Sum of deletions(-)  = 62\n"
     ]
    },
    {
     "data": {
      "text/html": [
       "<div>\n",
       "<style>\n",
       "    .dataframe thead tr:only-child th {\n",
       "        text-align: right;\n",
       "    }\n",
       "\n",
       "    .dataframe thead th {\n",
       "        text-align: left;\n",
       "    }\n",
       "\n",
       "    .dataframe tbody tr th {\n",
       "        vertical-align: top;\n",
       "    }\n",
       "</style>\n",
       "<table border=\"1\" class=\"dataframe\">\n",
       "  <thead>\n",
       "    <tr style=\"text-align: right;\">\n",
       "      <th></th>\n",
       "      <th>files changed</th>\n",
       "      <th>insertions(+)</th>\n",
       "      <th>deletions(-)</th>\n",
       "    </tr>\n",
       "  </thead>\n",
       "  <tbody>\n",
       "    <tr>\n",
       "      <th>0</th>\n",
       "      <td>8</td>\n",
       "      <td>3105</td>\n",
       "      <td>0</td>\n",
       "    </tr>\n",
       "    <tr>\n",
       "      <th>1</th>\n",
       "      <td>1</td>\n",
       "      <td>5</td>\n",
       "      <td>0</td>\n",
       "    </tr>\n",
       "    <tr>\n",
       "      <th>2</th>\n",
       "      <td>1</td>\n",
       "      <td>6</td>\n",
       "      <td>0</td>\n",
       "    </tr>\n",
       "    <tr>\n",
       "      <th>3</th>\n",
       "      <td>1</td>\n",
       "      <td>1</td>\n",
       "      <td>1</td>\n",
       "    </tr>\n",
       "    <tr>\n",
       "      <th>4</th>\n",
       "      <td>1</td>\n",
       "      <td>2</td>\n",
       "      <td>1</td>\n",
       "    </tr>\n",
       "  </tbody>\n",
       "</table>\n",
       "</div>"
      ],
      "text/plain": [
       "   files changed  insertions(+)  deletions(-)\n",
       "0              8           3105             0\n",
       "1              1              5             0\n",
       "2              1              6             0\n",
       "3              1              1             1\n",
       "4              1              2             1"
      ]
     },
     "execution_count": 16,
     "metadata": {},
     "output_type": "execute_result"
    }
   ],
   "source": [
    "data1 = pd.read_csv('metrics1.csv')\n",
    "file_sum1 = data1['files changed'].sum()\n",
    "ins_sum1 = data1['insertions(+)'].sum()\n",
    "del_sum1 = data1['deletions(-)'].sum()\n",
    "print (\"Sum of files changed = %i\" % file_sum1)\n",
    "print (\"Sum of insertions(+) = %i\" % ins_sum1)\n",
    "print (\"Sum of deletions(-)  = %i\" % del_sum1)\n",
    "saved_column1 = data1[header]\n",
    "saved_column1.head()"
   ]
  },
  {
   "cell_type": "code",
   "execution_count": 17,
   "metadata": {},
   "outputs": [
    {
     "data": {
      "text/plain": [
       "Text(0,0.5,'Quantity')"
      ]
     },
     "execution_count": 17,
     "metadata": {},
     "output_type": "execute_result"
    },
    {
     "data": {
      "image/png": "[encoded data removed]",
      "text/plain": [
       "<matplotlib.figure.Figure at 0x108c2e518>"
      ]
     },
     "metadata": {},
     "output_type": "display_data"
    }
   ],
   "source": [
    "mygraph = data1.sum().plot(figsize=(15,5), kind='bar', title = 'Number of changed line of code')\n",
    "mygraph.set_xlabel(\"Type of change\")\n",
    "mygraph.set_ylabel(\"Quantity\")"
   ]
  },
  {
   "cell_type": "markdown",
   "metadata": {},
   "source": [
    "# Applying git diff -w commitID_1 commitID2 --shortstat"
   ]
  },
  {
   "cell_type": "code",
   "execution_count": 18,
   "metadata": {},
   "outputs": [
    {
     "name": "stdout",
     "output_type": "stream",
     "text": [
      "Extracting diff = 58 out of 58"
     ]
    }
   ],
   "source": [
    "diff = []\n",
    "for i in range(0, len(com_ID)-3):\n",
    "    sys.stdout.write('\\rExtracting diff = %i' % (i+1) + ' out of %i' % (len(com_ID)-3))\n",
    "    sys.stdout.flush()\n",
    "    diff_cmd = \"git diff -w \" + com_ID[i+1] + \" \" + com_ID[i] + \" --shortstat\"\n",
    "    diff.append(str(execute_shell_command(diff_cmd, repository)).replace(\"b'\",'').replace(\"'\",'').replace(\"\\\\n\",' ').replace(\"( \",'').replace(\" )\",''))"
   ]
  },
  {
   "cell_type": "code",
   "execution_count": 19,
   "metadata": {
    "collapsed": true
   },
   "outputs": [],
   "source": [
    "for x in range(0,len(diff)):\n",
    "    line = diff[x]\n",
    "    if \"deletion\" not in diff[x]:\n",
    "        index = line.find('(+)')\n",
    "        diff[x] = line[:index] + ', 0 deletions(-) ,'\n",
    "    if \"insertion\" not in diff[x]:\n",
    "        index = diff[x].find(',')\n",
    "        diff[x] = line[:index] + ', 0 insertions(+)' + line[index:]\n",
    "    else:\n",
    "        diff[x] = diff[x]"
   ]
  },
  {
   "cell_type": "code",
   "execution_count": 20,
   "metadata": {
    "collapsed": true
   },
   "outputs": [],
   "source": [
    "diff_metrics = []\n",
    "for j in range(0,len(diff)):\n",
    "    diff_metrics.append(re.findall(r'\\d+', diff[j]))\n",
    "\n",
    "for k in range(0, len(diff_metrics)):\n",
    "    diff_metrics[k] = list(map(int, diff_metrics[k]))"
   ]
  },
  {
   "cell_type": "code",
   "execution_count": 21,
   "metadata": {
    "collapsed": true
   },
   "outputs": [],
   "source": [
    "with open('metrics2.csv', 'w') as csvfile:\n",
    "    header = ['files changed', 'insertions(+)', 'deletions(-)']\n",
    "    writer = csv.writer(csvfile, delimiter=',')\n",
    "    writer.writerow(header)\n",
    "    for row in diff_metrics:\n",
    "        writer.writerow(row)"
   ]
  },
  {
   "cell_type": "code",
   "execution_count": 22,
   "metadata": {},
   "outputs": [
    {
     "name": "stdout",
     "output_type": "stream",
     "text": [
      "Sum of files changed = 80\n",
      "Sum of insertions(+) = 3710\n",
      "Sum of deletions(-)  = 42\n"
     ]
    },
    {
     "data": {
      "text/html": [
       "<div>\n",
       "<style>\n",
       "    .dataframe thead tr:only-child th {\n",
       "        text-align: right;\n",
       "    }\n",
       "\n",
       "    .dataframe thead th {\n",
       "        text-align: left;\n",
       "    }\n",
       "\n",
       "    .dataframe tbody tr th {\n",
       "        vertical-align: top;\n",
       "    }\n",
       "</style>\n",
       "<table border=\"1\" class=\"dataframe\">\n",
       "  <thead>\n",
       "    <tr style=\"text-align: right;\">\n",
       "      <th></th>\n",
       "      <th>files changed</th>\n",
       "      <th>insertions(+)</th>\n",
       "      <th>deletions(-)</th>\n",
       "    </tr>\n",
       "  </thead>\n",
       "  <tbody>\n",
       "    <tr>\n",
       "      <th>0</th>\n",
       "      <td>8</td>\n",
       "      <td>3105</td>\n",
       "      <td>0</td>\n",
       "    </tr>\n",
       "    <tr>\n",
       "      <th>1</th>\n",
       "      <td>1</td>\n",
       "      <td>5</td>\n",
       "      <td>0</td>\n",
       "    </tr>\n",
       "    <tr>\n",
       "      <th>2</th>\n",
       "      <td>1</td>\n",
       "      <td>6</td>\n",
       "      <td>0</td>\n",
       "    </tr>\n",
       "    <tr>\n",
       "      <th>3</th>\n",
       "      <td>1</td>\n",
       "      <td>1</td>\n",
       "      <td>1</td>\n",
       "    </tr>\n",
       "    <tr>\n",
       "      <th>4</th>\n",
       "      <td>1</td>\n",
       "      <td>1</td>\n",
       "      <td>0</td>\n",
       "    </tr>\n",
       "  </tbody>\n",
       "</table>\n",
       "</div>"
      ],
      "text/plain": [
       "   files changed  insertions(+)  deletions(-)\n",
       "0              8           3105             0\n",
       "1              1              5             0\n",
       "2              1              6             0\n",
       "3              1              1             1\n",
       "4              1              1             0"
      ]
     },
     "execution_count": 22,
     "metadata": {},
     "output_type": "execute_result"
    }
   ],
   "source": [
    "data2 = pd.read_csv('metrics2.csv')\n",
    "file_sum2 = data2['files changed'].sum()\n",
    "ins_sum2 = data2['insertions(+)'].sum()\n",
    "del_sum2 = data2['deletions(-)'].sum()\n",
    "print (\"Sum of files changed = %i\" % file_sum2)\n",
    "print (\"Sum of insertions(+) = %i\" % ins_sum2)\n",
    "print (\"Sum of deletions(-)  = %i\" % del_sum2)\n",
    "saved_column2 = data2[header]\n",
    "saved_column2.head()"
   ]
  },
  {
   "cell_type": "code",
   "execution_count": 23,
   "metadata": {},
   "outputs": [
    {
     "data": {
      "text/plain": [
       "Text(0,0.5,'Quantity')"
      ]
     },
     "execution_count": 23,
     "metadata": {},
     "output_type": "execute_result"
    },
    {
     "data": {
      "image/png": "[encoded data removed]",
      "text/plain": [
       "<matplotlib.figure.Figure at 0x11276ef60>"
      ]
     },
     "metadata": {},
     "output_type": "display_data"
    }
   ],
   "source": [
    "mygraph = data2.sum().plot(figsize=(15,5), kind='bar', title = 'Number of changed line of code')\n",
    "mygraph.set_xlabel(\"Type of change\")\n",
    "mygraph.set_ylabel(\"Quantity\")"
   ]
  },
  {
   "cell_type": "code",
   "execution_count": 24,
   "metadata": {},
   "outputs": [
    {
     "name": "stdout",
     "output_type": "stream",
     "text": [
      "('command 1', 80, 3730, 62)\n",
      "('command 2', 80, 3710, 42)\n"
     ]
    }
   ],
   "source": [
    "data = [data1, data2]\n",
    "table_sum = []\n",
    "for i in range(0, len(data)):\n",
    "    summ = 'command %i' % (i+1), data[i]['files changed'].sum(), data[i]['insertions(+)'].sum(), data[i]['deletions(-)'].sum()\n",
    "    table_sum.append(summ)\n",
    "\n",
    "for item in table_sum:\n",
    "    print (item)"
   ]
  },
  {
   "cell_type": "code",
   "execution_count": 25,
   "metadata": {
    "collapsed": true
   },
   "outputs": [],
   "source": [
    "df = pd.DataFrame(table_sum, columns = ['command', 'files changed', 'insertions', 'deletions'])\n",
    "df.to_csv('metrics_sum.csv')"
   ]
  },
  {
   "cell_type": "code",
   "execution_count": 26,
   "metadata": {},
   "outputs": [
    {
     "data": {
      "text/html": [
       "<script>requirejs.config({paths: { 'plotly': ['https://cdn.plot.ly/plotly-latest.min']},});if(!window.Plotly) {{require(['plotly'],function(plotly) {window.Plotly=plotly;});}}</script>"
      ],
      "text/vnd.plotly.v1+html": [
       "<script>requirejs.config({paths: { 'plotly': ['https://cdn.plot.ly/plotly-latest.min']},});if(!window.Plotly) {{require(['plotly'],function(plotly) {window.Plotly=plotly;});}}</script>"
      ]
     },
     "metadata": {},
     "output_type": "display_data"
    },
    {
     "data": {
      "application/vnd.plotly.v1+json": {
       "data": [
        {
         "name": "git diff commit1 commit2 --shortstat",
         "type": "bar",
         "x": [
          "files changed",
          "insertions",
          "deletions"
         ],
         "y": [
          80,
          3730,
          62
         ]
        },
        {
         "name": "git diff -w commit1 commit2 --shortstat",
         "type": "bar",
         "x": [
          "files changed",
          "insertions",
          "deletions"
         ],
         "y": [
          80,
          3710,
          42
         ]
        }
       ],
       "layout": {
        "barmode": "group"
       }
      },
      "text/html": [
       "<div id=\"b665cd42-07d4-4a17-ba74-d352959f51ae\" style=\"height: 525px; width: 100%;\" class=\"plotly-graph-div\"></div><script type=\"text/javascript\">require([\"plotly\"], function(Plotly) { window.PLOTLYENV=window.PLOTLYENV || {};window.PLOTLYENV.BASE_URL=\"https://plot.ly\";Plotly.newPlot(\"b665cd42-07d4-4a17-ba74-d352959f51ae\", [{\"type\": \"bar\", \"x\": [\"files changed\", \"insertions\", \"deletions\"], \"y\": [80, 3730, 62], \"name\": \"git diff commit1 commit2 --shortstat\"}, {\"type\": \"bar\", \"x\": [\"files changed\", \"insertions\", \"deletions\"], \"y\": [80, 3710, 42], \"name\": \"git diff -w commit1 commit2 --shortstat\"}], {\"barmode\": \"group\"}, {\"showLink\": false, \"linkText\": \"Export to plot.ly\"})});</script>"
      ],
      "text/vnd.plotly.v1+html": [
       "<div id=\"b665cd42-07d4-4a17-ba74-d352959f51ae\" style=\"height: 525px; width: 100%;\" class=\"plotly-graph-div\"></div><script type=\"text/javascript\">require([\"plotly\"], function(Plotly) { window.PLOTLYENV=window.PLOTLYENV || {};window.PLOTLYENV.BASE_URL=\"https://plot.ly\";Plotly.newPlot(\"b665cd42-07d4-4a17-ba74-d352959f51ae\", [{\"type\": \"bar\", \"x\": [\"files changed\", \"insertions\", \"deletions\"], \"y\": [80, 3730, 62], \"name\": \"git diff commit1 commit2 --shortstat\"}, {\"type\": \"bar\", \"x\": [\"files changed\", \"insertions\", \"deletions\"], \"y\": [80, 3710, 42], \"name\": \"git diff -w commit1 commit2 --shortstat\"}], {\"barmode\": \"group\"}, {\"showLink\": false, \"linkText\": \"Export to plot.ly\"})});</script>"
      ]
     },
     "metadata": {},
     "output_type": "display_data"
    }
   ],
   "source": [
    "trace1 = go.Bar(\n",
    "    x=['files changed', 'insertions', 'deletions'],\n",
    "    y=[file_sum1, ins_sum1, del_sum1],\n",
    "    name='git diff commit1 commit2 --shortstat'\n",
    ")\n",
    "trace2 = go.Bar(\n",
    "    x=['files changed', 'insertions', 'deletions'],\n",
    "    y=[file_sum2, ins_sum2, del_sum2],\n",
    "    name='git diff -w commit1 commit2 --shortstat'\n",
    ")\n",
    "\n",
    "data = [trace1, trace2]\n",
    "layout = go.Layout(\n",
    "    barmode='group'\n",
    ")\n",
    "\n",
    "init_notebook_mode(connected=True)\n",
    "fig = go.Figure(data=data, layout=layout)\n",
    "iplot(fig, show_link=False)"
   ]
  },
  {
   "cell_type": "markdown",
   "metadata": {},
   "source": [
    "# git diff -w --diff-algorithm=myers commit1 commit2 --shortstat"
   ]
  },
  {
   "cell_type": "code",
   "execution_count": 27,
   "metadata": {},
   "outputs": [
    {
     "name": "stdout",
     "output_type": "stream",
     "text": [
      "Extracting diff = 58 out of 58"
     ]
    }
   ],
   "source": [
    "diff = []\n",
    "for i in range(0, len(com_ID)-3):\n",
    "    sys.stdout.write('\\rExtracting diff = %i' % (i+1) + ' out of %i' % (len(com_ID)-3))\n",
    "    sys.stdout.flush()\n",
    "    diff_cmd = \"git diff -w --diff-algorithm=myers \" + com_ID[i+1] + \" \" + com_ID[i] + \" --shortstat\"\n",
    "    diff.append(str(execute_shell_command(diff_cmd, repository)).replace(\"b'\",'').replace(\"'\",'').replace(\"\\\\n\",' ').replace(\"( \",'').replace(\" )\",''))"
   ]
  },
  {
   "cell_type": "code",
   "execution_count": 28,
   "metadata": {
    "collapsed": true
   },
   "outputs": [],
   "source": [
    "for x in range(0,len(diff)):\n",
    "    line = diff[x]\n",
    "    if \"deletion\" not in diff[x]:\n",
    "        index = line.find('(+)')\n",
    "        diff[x] = line[:index] + ', 0 deletions(-) ,'\n",
    "    if \"insertion\" not in diff[x]:\n",
    "        index = diff[x].find(',')\n",
    "        diff[x] = line[:index] + ', 0 insertions(+)' + line[index:]\n",
    "    else:\n",
    "        diff[x] = diff[x]"
   ]
  },
  {
   "cell_type": "code",
   "execution_count": null,
   "metadata": {
    "collapsed": true
   },
   "outputs": [],
   "source": [
    "diff_metrics = []\n",
    "for j in range(0,len(diff)):\n",
    "    diff_metrics.append(re.findall(r'\\d+', diff[j]))\n",
    "\n",
    "for k in range(0, len(diff_metrics)):\n",
    "    diff_metrics[k] = list(map(int, diff_metrics[k]))"
   ]
  },
  {
   "cell_type": "code",
   "execution_count": null,
   "metadata": {
    "collapsed": true
   },
   "outputs": [],
   "source": [
    "with open('metrics3.csv', 'w') as csvfile:\n",
    "    header = ['files changed', 'insertions(+)', 'deletions(-)']\n",
    "    writer = csv.writer(csvfile, delimiter=',')\n",
    "    writer.writerow(header)\n",
    "    for row in diff_metrics:\n",
    "        writer.writerow(row)"
   ]
  },
  {
   "cell_type": "code",
   "execution_count": null,
   "metadata": {},
   "outputs": [],
   "source": [
    "data3 = pd.read_csv('metrics3.csv')\n",
    "file_sum3 = data3['files changed'].sum()\n",
    "ins_sum3 = data3['insertions(+)'].sum()\n",
    "del_sum3 = data3['deletions(-)'].sum()\n",
    "print (\"Sum of files changed = %i\" % file_sum3)\n",
    "print (\"Sum of insertions(+) = %i\" % ins_sum3)\n",
    "print (\"Sum of deletions(-)  = %i\" % del_sum3)\n",
    "saved_column3 = data3[header]\n",
    "saved_column3.head()"
   ]
  },
  {
   "cell_type": "markdown",
   "metadata": {},
   "source": [
    "# git diff -w --diff-algorithm=histogram commit1 commit2 --shortstat¶"
   ]
  },
  {
   "cell_type": "code",
   "execution_count": null,
   "metadata": {},
   "outputs": [],
   "source": [
    "diff = []\n",
    "for i in range(0, len(com_ID)-3):\n",
    "    sys.stdout.write('\\rExtracting diff = %i' % (i+1) + ' out of %i' % (len(com_ID)-3))\n",
    "    sys.stdout.flush()\n",
    "    diff_cmd = \"git diff -w --diff-algorithm=histogram \" + com_ID[i+1] + \" \" + com_ID[i] + \" --shortstat\"\n",
    "    diff.append(str(execute_shell_command(diff_cmd, repository)).replace(\"b'\",'').replace(\"'\",'').replace(\"\\\\n\",' ').replace(\"( \",'').replace(\" )\",''))"
   ]
  },
  {
   "cell_type": "code",
   "execution_count": null,
   "metadata": {
    "collapsed": true
   },
   "outputs": [],
   "source": [
    "for x in range(0,len(diff)):\n",
    "    line = diff[x]\n",
    "    if \"deletion\" not in diff[x]:\n",
    "        index = line.find('(+)')\n",
    "        diff[x] = line[:index] + ', 0 deletions(-) ,'\n",
    "    if \"insertion\" not in diff[x]:\n",
    "        index = diff[x].find(',')\n",
    "        diff[x] = line[:index] + ', 0 insertions(+)' + line[index:]\n",
    "    else:\n",
    "        diff[x] = diff[x]"
   ]
  },
  {
   "cell_type": "code",
   "execution_count": null,
   "metadata": {
    "collapsed": true
   },
   "outputs": [],
   "source": [
    "diff_metrics = []\n",
    "for j in range(0,len(diff)):\n",
    "    diff_metrics.append(re.findall(r'\\d+', diff[j]))\n",
    "\n",
    "for k in range(0, len(diff_metrics)):\n",
    "    diff_metrics[k] = list(map(int, diff_metrics[k]))"
   ]
  },
  {
   "cell_type": "code",
   "execution_count": null,
   "metadata": {
    "collapsed": true
   },
   "outputs": [],
   "source": [
    "with open('metrics4.csv', 'w') as csvfile:\n",
    "    header = ['files changed', 'insertions(+)', 'deletions(-)']\n",
    "    writer = csv.writer(csvfile, delimiter=',')\n",
    "    writer.writerow(header)\n",
    "    for row in diff_metrics:\n",
    "        writer.writerow(row)"
   ]
  },
  {
   "cell_type": "code",
   "execution_count": null,
   "metadata": {},
   "outputs": [],
   "source": [
    "data4 = pd.read_csv('metrics4.csv')\n",
    "file_sum4 = data4['files changed'].sum()\n",
    "ins_sum4 = data4['insertions(+)'].sum()\n",
    "del_sum4 = data4['deletions(-)'].sum()\n",
    "print (\"Sum of files changed = %i\" % file_sum4)\n",
    "print (\"Sum of insertions(+) = %i\" % ins_sum4)\n",
    "print (\"Sum of deletions(-)  = %i\" % del_sum4)\n",
    "saved_column4 = data4[header]\n",
    "saved_column4.head()"
   ]
  },
  {
   "cell_type": "code",
   "execution_count": null,
   "metadata": {},
   "outputs": [],
   "source": [
    "trace1 = go.Bar(\n",
    "    x=['files changed', 'insertions', 'deletions'],\n",
    "    y=[file_sum1, ins_sum1, del_sum1],\n",
    "    name='git diff'\n",
    ")\n",
    "trace2 = go.Bar(\n",
    "    x=['files changed', 'insertions', 'deletions'],\n",
    "    y=[file_sum2, ins_sum2, del_sum2],\n",
    "    name='git diff -w'\n",
    ")\n",
    "trace3 = go.Bar(\n",
    "    x=['files changed', 'insertions', 'deletions'],\n",
    "    y=[file_sum3, ins_sum3, del_sum3],\n",
    "    name='git diff -w --diff-algorithm=myers'\n",
    ")\n",
    "trace4 = go.Bar(\n",
    "    x=['files changed', 'insertions', 'deletions'],\n",
    "    y=[file_sum4, ins_sum4, del_sum4],\n",
    "    name='git diff -w --diff-algorithm=histogram'\n",
    ")\n",
    "\n",
    "data = [trace1, trace2, trace3, trace4]\n",
    "layout = go.Layout(\n",
    "    barmode='group'\n",
    ")\n",
    "\n",
    "init_notebook_mode(connected=True)\n",
    "fig = go.Figure(data=data, layout=layout)\n",
    "iplot(fig, show_link=False)"
   ]
  },
  {
   "cell_type": "code",
   "execution_count": null,
   "metadata": {
    "collapsed": true
   },
   "outputs": [],
   "source": []
  }
 ],
 "metadata": {
  "kernelspec": {
   "display_name": "Python 3",
   "language": "python",
   "name": "python3"
  },
  "language_info": {
   "codemirror_mode": {
    "name": "ipython",
    "version": 3
   },
   "file_extension": ".py",
   "mimetype": "text/x-python",
   "name": "python",
   "nbconvert_exporter": "python",
   "pygments_lexer": "ipython3",
   "version": "3.6.3"
  }
 },
 "nbformat": 4,
 "nbformat_minor": 2
}
