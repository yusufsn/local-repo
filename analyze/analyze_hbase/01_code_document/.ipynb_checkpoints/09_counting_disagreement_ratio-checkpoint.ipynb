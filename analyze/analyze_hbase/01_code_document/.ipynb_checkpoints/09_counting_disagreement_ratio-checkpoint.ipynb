{
 "cells": [
  {
   "cell_type": "markdown",
   "metadata": {},
   "source": [
    "# Importing libraries"
   ]
  },
  {
   "cell_type": "code",
   "execution_count": 1,
   "metadata": {
    "collapsed": true
   },
   "outputs": [],
   "source": [
    "import os, glob, json, csv, subprocess, sys, re, operator\n",
    "from git import *\n",
    "from subprocess import Popen, PIPE\n",
    "from os import path\n",
    "import pandas as pd\n",
    "import plotly.graph_objs as go\n",
    "from plotly.offline import plot, init_notebook_mode, iplot\n",
    "\n",
    "%matplotlib inline"
   ]
  },
  {
   "cell_type": "markdown",
   "metadata": {},
   "source": [
    "# Defining repository and directories"
   ]
  },
  {
   "cell_type": "code",
   "execution_count": 2,
   "metadata": {
    "collapsed": true
   },
   "outputs": [],
   "source": [
    "userhome = os.path.expanduser('~')\n",
    "repository = userhome + r'/different-diff/dataset/hbase/'\n",
    "analyze_dir = userhome + r'/different-diff/analyze/analyze_hbase/'"
   ]
  },
  {
   "cell_type": "markdown",
   "metadata": {},
   "source": [
    "# Counting the number of buglines in HBASE project"
   ]
  },
  {
   "cell_type": "markdown",
   "metadata": {},
   "source": [
    "Specifying algorithms"
   ]
  },
  {
   "cell_type": "code",
   "execution_count": 3,
   "metadata": {
    "collapsed": true
   },
   "outputs": [],
   "source": [
    "algorithm = ['histogram','minimal','myers','patience']"
   ]
  },
  {
   "cell_type": "code",
   "execution_count": 5,
   "metadata": {},
   "outputs": [
    {
     "name": "stdout",
     "output_type": "stream",
     "text": [
      "4 Counting number of buglines in file: 2599\n",
      "Counting total number of buglines is complete\n"
     ]
    }
   ],
   "source": [
    "with open(analyze_dir + '04_annotate/03_disagreement_ratio/total_buglines.csv', 'w') as myfile:\n",
    "    header = ['filename','bugintro_commitID','parent_id','bug_id','filenumber','algorithm','number_of_buglines']\n",
    "    writers = csv.writer(myfile)\n",
    "    writers.writerow(header)\n",
    "    for x, algo in enumerate(algorithm):    \n",
    "        f = 1\n",
    "        temp = []\n",
    "        for filename in glob.iglob(analyze_dir + '03_file-diff/02_buggylines/' + algo + '/*', recursive=True):\n",
    "            sys.stdout.write(\"\\r{} Counting number of buglines in file: {}\".format(x+1,f))\n",
    "            sys.stdout.flush()\n",
    "            f += 1\n",
    "            \n",
    "            pattern = re.search('(?P<filename>\\w+[-]?\\w+[.]\\w+|\\w+)_(?P<bugintro_commitID>\\w+)-(?P<parent_id>\\w+)_(?P<bug_id>\\w+[-]\\d+)_(?P<filenumber>\\d+)_(?P<algorithm>' + algo + ')', filename)\n",
    "            filecontain = re.search('(\\w+[-]?\\w+[.]?\\w+-\\w+HBASE-[0-9]*)', filename)\n",
    "            filecontain = filecontain.groups()[0]\n",
    "            \n",
    "            #if filecontain not in errorfile:\n",
    "            fnames = re.search((algo), filename)\n",
    "            if fnames:\n",
    "                bugfile = open(filename)\n",
    "                bugline = bugfile.read().split('\\n')\n",
    "                tmp = pattern.groups()\n",
    "                if \"--- /dev\" in bugline[0]:\n",
    "                    num = str(len(bugline)-2)\n",
    "                else:\n",
    "                    num = str(len(bugline)-1)\n",
    "                \n",
    "                #added an element of number of buglines in tuple\n",
    "                tmp = tmp + (num,)\n",
    "                temp.append(tmp)\n",
    "            else:\n",
    "                pass\n",
    "            \n",
    "        #sorting list based on (1) algorithm, (2) bug_id, and (3) filename\n",
    "        temp = sorted(temp, key=operator.itemgetter(5, 0, 3))\n",
    "        \n",
    "        #writing list elements in csv file\n",
    "        for line in temp:\n",
    "            writers.writerow(line)\n",
    "        \n",
    "print(\"\\nCounting total number of buglines is complete\")"
   ]
  },
  {
   "cell_type": "code",
   "execution_count": 6,
   "metadata": {},
   "outputs": [
    {
     "name": "stdout",
     "output_type": "stream",
     "text": [
      "Total number of buglines: Histogram = 116634, Minimal = 116454, Myers = 116798, Patience = 116558\n"
     ]
    }
   ],
   "source": [
    "dftotal = pd.read_csv(analyze_dir + '04_annotate/03_disagreement_ratio/total_buglines.csv')\n",
    "dfbugtotalhist = dftotal['number_of_buglines'][dftotal['algorithm'] == 'histogram'].sum()\n",
    "dfbugtotalmin = dftotal['number_of_buglines'][dftotal['algorithm'] == 'minimal'].sum()\n",
    "dfbugtotalmyers = dftotal['number_of_buglines'][dftotal['algorithm'] == 'myers'].sum()\n",
    "dfbugtotalpat = dftotal['number_of_buglines'][dftotal['algorithm'] == 'patience'].sum()\n",
    "\n",
    "print (\"Total number of buglines: Histogram = {}, Minimal = {}, Myers = {}, Patience = {}\".format(dfbugtotalhist,\n",
    "                                                                                                 dfbugtotalmin,\n",
    "                                                                                                 dfbugtotalmyers,\n",
    "                                                                                                 dfbugtotalpat))"
   ]
  },
  {
   "cell_type": "markdown",
   "metadata": {},
   "source": [
    "# Visualizing the total number of buglines for each algorithm"
   ]
  },
  {
   "cell_type": "code",
   "execution_count": 7,
   "metadata": {},
   "outputs": [
    {
     "data": {
      "text/html": [
       "<script>requirejs.config({paths: { 'plotly': ['https://cdn.plot.ly/plotly-latest.min']},});if(!window.Plotly) {{require(['plotly'],function(plotly) {window.Plotly=plotly;});}}</script>"
      ],
      "text/vnd.plotly.v1+html": [
       "<script>requirejs.config({paths: { 'plotly': ['https://cdn.plot.ly/plotly-latest.min']},});if(!window.Plotly) {{require(['plotly'],function(plotly) {window.Plotly=plotly;});}}</script>"
      ]
     },
     "metadata": {},
     "output_type": "display_data"
    },
    {
     "data": {
      "application/vnd.plotly.v1+json": {
       "data": [
        {
         "marker": {
          "color": "rgb(150,255,200)",
          "line": {
           "color": "rgb(8,48,107)",
           "width": 1.5
          }
         },
         "opacity": 0.6,
         "text": [
          116634,
          116454,
          116798,
          116558
         ],
         "textposition": "auto",
         "type": "bar",
         "x": [
          "histogram",
          "minimal",
          "myers",
          "patience"
         ],
         "y": [
          116634,
          116454,
          116798,
          116558
         ]
        }
       ],
       "layout": {
        "title": "Total number of buglines found for each algorithm in HBASE project"
       }
      },
      "text/html": [
       "<div id=\"9182a84a-e31a-4315-b566-796e195221d9\" style=\"height: 525px; width: 100%;\" class=\"plotly-graph-div\"></div><script type=\"text/javascript\">require([\"plotly\"], function(Plotly) { window.PLOTLYENV=window.PLOTLYENV || {};window.PLOTLYENV.BASE_URL=\"https://plot.ly\";Plotly.newPlot(\"9182a84a-e31a-4315-b566-796e195221d9\", [{\"type\": \"bar\", \"x\": [\"histogram\", \"minimal\", \"myers\", \"patience\"], \"y\": [116634, 116454, 116798, 116558], \"text\": [116634, 116454, 116798, 116558], \"textposition\": \"auto\", \"marker\": {\"color\": \"rgb(150,255,200)\", \"line\": {\"color\": \"rgb(8,48,107)\", \"width\": 1.5}}, \"opacity\": 0.6}], {\"title\": \"Total number of buglines found for each algorithm in HBASE project\"}, {\"showLink\": false, \"linkText\": \"Export to plot.ly\"})});</script>"
      ],
      "text/vnd.plotly.v1+html": [
       "<div id=\"9182a84a-e31a-4315-b566-796e195221d9\" style=\"height: 525px; width: 100%;\" class=\"plotly-graph-div\"></div><script type=\"text/javascript\">require([\"plotly\"], function(Plotly) { window.PLOTLYENV=window.PLOTLYENV || {};window.PLOTLYENV.BASE_URL=\"https://plot.ly\";Plotly.newPlot(\"9182a84a-e31a-4315-b566-796e195221d9\", [{\"type\": \"bar\", \"x\": [\"histogram\", \"minimal\", \"myers\", \"patience\"], \"y\": [116634, 116454, 116798, 116558], \"text\": [116634, 116454, 116798, 116558], \"textposition\": \"auto\", \"marker\": {\"color\": \"rgb(150,255,200)\", \"line\": {\"color\": \"rgb(8,48,107)\", \"width\": 1.5}}, \"opacity\": 0.6}], {\"title\": \"Total number of buglines found for each algorithm in HBASE project\"}, {\"showLink\": false, \"linkText\": \"Export to plot.ly\"})});</script>"
      ]
     },
     "metadata": {},
     "output_type": "display_data"
    }
   ],
   "source": [
    "x = ['histogram', 'minimal', 'myers', 'patience']\n",
    "y = [dfbugtotalhist, dfbugtotalmin, dfbugtotalmyers, dfbugtotalpat]\n",
    "\n",
    "trace = [go.Bar(\n",
    "    x = x,\n",
    "    y = y,\n",
    "    text = y,\n",
    "    textposition = 'auto',\n",
    "    marker = dict(\n",
    "        color = 'rgb(150,255,200)',\n",
    "        line = dict(\n",
    "            color='rgb(8,48,107)',\n",
    "            width=1.5),\n",
    "    ),\n",
    "    opacity=0.6\n",
    ")]\n",
    "\n",
    "layout = go.Layout(\n",
    "    title='Total number of buglines found for each algorithm in HBASE project',\n",
    ")\n",
    "\n",
    "init_notebook_mode(connected=True)\n",
    "fig = go.Figure(data=trace, layout=layout)\n",
    "iplot(fig, show_link=False)"
   ]
  },
  {
   "cell_type": "code",
   "execution_count": 10,
   "metadata": {
    "scrolled": true
   },
   "outputs": [
    {
     "data": {
      "text/html": [
       "<div>\n",
       "<style>\n",
       "    .dataframe thead tr:only-child th {\n",
       "        text-align: right;\n",
       "    }\n",
       "\n",
       "    .dataframe thead th {\n",
       "        text-align: left;\n",
       "    }\n",
       "\n",
       "    .dataframe tbody tr th {\n",
       "        vertical-align: top;\n",
       "    }\n",
       "</style>\n",
       "<table border=\"1\" class=\"dataframe\">\n",
       "  <thead>\n",
       "    <tr style=\"text-align: right;\">\n",
       "      <th></th>\n",
       "      <th>algorithm</th>\n",
       "      <th>number_of_buglines</th>\n",
       "    </tr>\n",
       "  </thead>\n",
       "  <tbody>\n",
       "    <tr>\n",
       "      <th>0</th>\n",
       "      <td>histogram</td>\n",
       "      <td>116634</td>\n",
       "    </tr>\n",
       "    <tr>\n",
       "      <th>1</th>\n",
       "      <td>minimal</td>\n",
       "      <td>116454</td>\n",
       "    </tr>\n",
       "    <tr>\n",
       "      <th>2</th>\n",
       "      <td>myers</td>\n",
       "      <td>116798</td>\n",
       "    </tr>\n",
       "    <tr>\n",
       "      <th>3</th>\n",
       "      <td>patience</td>\n",
       "      <td>116558</td>\n",
       "    </tr>\n",
       "  </tbody>\n",
       "</table>\n",
       "</div>"
      ],
      "text/plain": [
       "   algorithm  number_of_buglines\n",
       "0  histogram              116634\n",
       "1    minimal              116454\n",
       "2      myers              116798\n",
       "3   patience              116558"
      ]
     },
     "execution_count": 10,
     "metadata": {},
     "output_type": "execute_result"
    }
   ],
   "source": [
    "dftotal = dftotal.groupby('algorithm', as_index=False).agg({\"number_of_buglines\": \"sum\"})\n",
    "dftotal"
   ]
  },
  {
   "cell_type": "code",
   "execution_count": 11,
   "metadata": {
    "collapsed": true
   },
   "outputs": [],
   "source": [
    "#Save in CSV file\n",
    "temporary = []\n",
    "\n",
    "for b in range(0, len(dftotal)):\n",
    "    temps = [dftotal.iloc[b][0], dftotal.iloc[b][1]]\n",
    "    temporary.append(temps)\n",
    "\n",
    "#save into csv file\n",
    "with open(analyze_dir + '04_annotate/03_disagreement_ratio/totalbuglines_of_each_algorithm.csv', 'w') as bugfile:\n",
    "    cols = ['algorithm', 'total_number_of_buglines']\n",
    "    writers = csv.writer(bugfile)\n",
    "    writers.writerow(cols)\n",
    "    for gg in temporary:\n",
    "        writers.writerow(gg)"
   ]
  },
  {
   "cell_type": "markdown",
   "metadata": {},
   "source": [
    "# Comparing the number of bug class of each algorithm"
   ]
  },
  {
   "cell_type": "code",
   "execution_count": 25,
   "metadata": {
    "collapsed": true
   },
   "outputs": [],
   "source": [
    "#set the filepath of the filenames\n",
    "filepath = analyze_dir + '04_annotate/02_diff-file_blame-file_comparison/'"
   ]
  },
  {
   "cell_type": "code",
   "execution_count": 26,
   "metadata": {},
   "outputs": [
    {
     "name": "stdout",
     "output_type": "stream",
     "text": [
      "4 Counting the number of bug-class in file 2562\n",
      "Counting the number of bug-introducing change is complete\n"
     ]
    }
   ],
   "source": [
    "result = []\n",
    "\n",
    "for ii, alg in enumerate(algorithm):\n",
    "    bug_intro_qty = incorrect_qty = unknown_qty = sumln = 0\n",
    "    i = 1\n",
    "    for fname in glob.iglob(filepath + alg + '_comparison/*', recursive=True):\n",
    "        sys.stdout.write('\\r%i ' %(ii+1) + 'Counting the number of bug-class in file %i' % i)\n",
    "        sys.stdout.flush()\n",
    "        i += 1\n",
    "        #algo = re.search((\"__(?P<algorithm>\\w+)(buglines)\"), fname)\n",
    "        #algo = algo.groups()[0]\n",
    "\n",
    "        #if algo == alg:\n",
    "        dframe = pd.read_csv(fname)\n",
    "        op = open(fname,'r')\n",
    "        lines = op.read().split('\\n')\n",
    "        if \"-- /dev\" not in lines[1]:\n",
    "            sumln = (len(lines)-2) + sumln\n",
    "            bug_intro_qty = dframe['bug_class'][dframe['bug_class'] == 'bug-introducing change'].count() + bug_intro_qty\n",
    "            incorrect_qty = dframe['bug_class'][dframe['bug_class'] == 'incorrect'].count() + incorrect_qty\n",
    "            unknown_qty = dframe['bug_class'][dframe['bug_class'] == 'unknown'].count() + unknown_qty\n",
    "        else:\n",
    "            sumln = (len(lines)-3) + sumln\n",
    "            pass\n",
    "    \n",
    "    result.append([bug_intro_qty, incorrect_qty, unknown_qty, sumln])\n",
    "print ('\\nCounting the number of bug-introducing change is complete')"
   ]
  },
  {
   "cell_type": "code",
   "execution_count": 27,
   "metadata": {},
   "outputs": [
    {
     "data": {
      "text/plain": [
       "[[10685, 513, 105436, 116634],\n",
       " [10585, 512, 105357, 116454],\n",
       " [10816, 512, 105470, 116798],\n",
       " [10624, 514, 105420, 116558]]"
      ]
     },
     "execution_count": 27,
     "metadata": {},
     "output_type": "execute_result"
    }
   ],
   "source": [
    "result"
   ]
  },
  {
   "cell_type": "code",
   "execution_count": 28,
   "metadata": {},
   "outputs": [
    {
     "data": {
      "text/plain": [
       "[['#bug-introducing_change', 10685, 10585, 10816, 10624],\n",
       " ['#incorrect', 513, 512, 512, 514],\n",
       " ['#unknown', 105436, 105357, 105470, 105420],\n",
       " ['total', 116634, 116454, 116798, 116558]]"
      ]
     },
     "execution_count": 28,
     "metadata": {},
     "output_type": "execute_result"
    }
   ],
   "source": [
    "result_matrix = [list(i) for i in zip(*result)]\n",
    "label = ['#bug-introducing_change', '#incorrect', '#unknown', 'total']\n",
    "for s, lbl in enumerate(label):\n",
    "    result_matrix[s].insert(0, lbl)\n",
    "result_matrix"
   ]
  },
  {
   "cell_type": "code",
   "execution_count": 29,
   "metadata": {
    "collapsed": true
   },
   "outputs": [],
   "source": [
    "with open(analyze_dir + '04_annotate/03_disagreement_ratio/quantity_of_bug_class.csv','w') as myfile:\n",
    "    header = ['class', 'histogram', 'minimal', 'myers', 'patience']\n",
    "    writers = csv.writer(myfile)\n",
    "    writers.writerow(header)\n",
    "    for item in result_matrix:\n",
    "        writers.writerow(item)"
   ]
  },
  {
   "cell_type": "code",
   "execution_count": 30,
   "metadata": {},
   "outputs": [
    {
     "data": {
      "text/html": [
       "<div>\n",
       "<style>\n",
       "    .dataframe thead tr:only-child th {\n",
       "        text-align: right;\n",
       "    }\n",
       "\n",
       "    .dataframe thead th {\n",
       "        text-align: left;\n",
       "    }\n",
       "\n",
       "    .dataframe tbody tr th {\n",
       "        vertical-align: top;\n",
       "    }\n",
       "</style>\n",
       "<table border=\"1\" class=\"dataframe\">\n",
       "  <thead>\n",
       "    <tr style=\"text-align: right;\">\n",
       "      <th></th>\n",
       "      <th>class</th>\n",
       "      <th>histogram</th>\n",
       "      <th>minimal</th>\n",
       "      <th>myers</th>\n",
       "      <th>patience</th>\n",
       "    </tr>\n",
       "  </thead>\n",
       "  <tbody>\n",
       "    <tr>\n",
       "      <th>0</th>\n",
       "      <td>#bug-introducing_change</td>\n",
       "      <td>10685</td>\n",
       "      <td>10585</td>\n",
       "      <td>10816</td>\n",
       "      <td>10624</td>\n",
       "    </tr>\n",
       "    <tr>\n",
       "      <th>1</th>\n",
       "      <td>#incorrect</td>\n",
       "      <td>513</td>\n",
       "      <td>512</td>\n",
       "      <td>512</td>\n",
       "      <td>514</td>\n",
       "    </tr>\n",
       "    <tr>\n",
       "      <th>2</th>\n",
       "      <td>#unknown</td>\n",
       "      <td>105436</td>\n",
       "      <td>105357</td>\n",
       "      <td>105470</td>\n",
       "      <td>105420</td>\n",
       "    </tr>\n",
       "    <tr>\n",
       "      <th>3</th>\n",
       "      <td>total</td>\n",
       "      <td>116634</td>\n",
       "      <td>116454</td>\n",
       "      <td>116798</td>\n",
       "      <td>116558</td>\n",
       "    </tr>\n",
       "  </tbody>\n",
       "</table>\n",
       "</div>"
      ],
      "text/plain": [
       "                     class  histogram  minimal   myers  patience\n",
       "0  #bug-introducing_change      10685    10585   10816     10624\n",
       "1               #incorrect        513      512     512       514\n",
       "2                 #unknown     105436   105357  105470    105420\n",
       "3                    total     116634   116454  116798    116558"
      ]
     },
     "execution_count": 30,
     "metadata": {},
     "output_type": "execute_result"
    }
   ],
   "source": [
    "df_bugclass = pd.read_csv(analyze_dir + '04_annotate/03_disagreement_ratio/quantity_of_bug_class.csv')\n",
    "df_bugclass = df_bugclass[header]\n",
    "df_bugclass"
   ]
  },
  {
   "cell_type": "code",
   "execution_count": 31,
   "metadata": {},
   "outputs": [
    {
     "data": {
      "text/html": [
       "<script>requirejs.config({paths: { 'plotly': ['https://cdn.plot.ly/plotly-latest.min']},});if(!window.Plotly) {{require(['plotly'],function(plotly) {window.Plotly=plotly;});}}</script>"
      ],
      "text/vnd.plotly.v1+html": [
       "<script>requirejs.config({paths: { 'plotly': ['https://cdn.plot.ly/plotly-latest.min']},});if(!window.Plotly) {{require(['plotly'],function(plotly) {window.Plotly=plotly;});}}</script>"
      ]
     },
     "metadata": {},
     "output_type": "display_data"
    },
    {
     "data": {
      "application/vnd.plotly.v1+json": {
       "data": [
        {
         "name": "diff-algorithm = histogram",
         "text": [
          10685,
          513,
          105436,
          116634
         ],
         "textposition": "auto",
         "type": "bar",
         "x": [
          "#bug-introducing_change",
          "#incorrect"
         ],
         "y": [
          10685,
          513
         ]
        },
        {
         "name": "diff-algorithm = minimal",
         "text": [
          10585,
          512,
          105357,
          116454
         ],
         "textposition": "auto",
         "type": "bar",
         "x": [
          "#bug-introducing_change",
          "#incorrect"
         ],
         "y": [
          10585,
          512
         ]
        },
        {
         "name": "diff-algorithm = myers",
         "text": [
          10816,
          512,
          105470,
          116798
         ],
         "textposition": "auto",
         "type": "bar",
         "x": [
          "#bug-introducing_change",
          "#incorrect"
         ],
         "y": [
          10816,
          512
         ]
        },
        {
         "name": "diff-algorithm = patience",
         "text": [
          10624,
          514,
          105420,
          116558
         ],
         "textposition": "auto",
         "type": "bar",
         "x": [
          "#bug-introducing_change",
          "#incorrect"
         ],
         "y": [
          10624,
          514
         ]
        }
       ],
       "layout": {
        "barmode": "group",
        "title": "Number of bug-class for each diff algorithm in HBase Project"
       }
      },
      "text/html": [
       "<div id=\"23c796b2-3570-41f4-a379-d60657db0b98\" style=\"height: 525px; width: 100%;\" class=\"plotly-graph-div\"></div><script type=\"text/javascript\">require([\"plotly\"], function(Plotly) { window.PLOTLYENV=window.PLOTLYENV || {};window.PLOTLYENV.BASE_URL=\"https://plot.ly\";Plotly.newPlot(\"23c796b2-3570-41f4-a379-d60657db0b98\", [{\"type\": \"bar\", \"x\": [\"#bug-introducing_change\", \"#incorrect\"], \"y\": [10685, 513], \"name\": \"diff-algorithm = histogram\", \"text\": [10685, 513, 105436, 116634], \"textposition\": \"auto\"}, {\"type\": \"bar\", \"x\": [\"#bug-introducing_change\", \"#incorrect\"], \"y\": [10585, 512], \"name\": \"diff-algorithm = minimal\", \"text\": [10585, 512, 105357, 116454], \"textposition\": \"auto\"}, {\"type\": \"bar\", \"x\": [\"#bug-introducing_change\", \"#incorrect\"], \"y\": [10816, 512], \"name\": \"diff-algorithm = myers\", \"text\": [10816, 512, 105470, 116798], \"textposition\": \"auto\"}, {\"type\": \"bar\", \"x\": [\"#bug-introducing_change\", \"#incorrect\"], \"y\": [10624, 514], \"name\": \"diff-algorithm = patience\", \"text\": [10624, 514, 105420, 116558], \"textposition\": \"auto\"}], {\"barmode\": \"group\", \"title\": \"Number of bug-class for each diff algorithm in HBase Project\"}, {\"showLink\": false, \"linkText\": \"Export to plot.ly\"})});</script>"
      ],
      "text/vnd.plotly.v1+html": [
       "<div id=\"23c796b2-3570-41f4-a379-d60657db0b98\" style=\"height: 525px; width: 100%;\" class=\"plotly-graph-div\"></div><script type=\"text/javascript\">require([\"plotly\"], function(Plotly) { window.PLOTLYENV=window.PLOTLYENV || {};window.PLOTLYENV.BASE_URL=\"https://plot.ly\";Plotly.newPlot(\"23c796b2-3570-41f4-a379-d60657db0b98\", [{\"type\": \"bar\", \"x\": [\"#bug-introducing_change\", \"#incorrect\"], \"y\": [10685, 513], \"name\": \"diff-algorithm = histogram\", \"text\": [10685, 513, 105436, 116634], \"textposition\": \"auto\"}, {\"type\": \"bar\", \"x\": [\"#bug-introducing_change\", \"#incorrect\"], \"y\": [10585, 512], \"name\": \"diff-algorithm = minimal\", \"text\": [10585, 512, 105357, 116454], \"textposition\": \"auto\"}, {\"type\": \"bar\", \"x\": [\"#bug-introducing_change\", \"#incorrect\"], \"y\": [10816, 512], \"name\": \"diff-algorithm = myers\", \"text\": [10816, 512, 105470, 116798], \"textposition\": \"auto\"}, {\"type\": \"bar\", \"x\": [\"#bug-introducing_change\", \"#incorrect\"], \"y\": [10624, 514], \"name\": \"diff-algorithm = patience\", \"text\": [10624, 514, 105420, 116558], \"textposition\": \"auto\"}], {\"barmode\": \"group\", \"title\": \"Number of bug-class for each diff algorithm in HBase Project\"}, {\"showLink\": false, \"linkText\": \"Export to plot.ly\"})});</script>"
      ]
     },
     "metadata": {},
     "output_type": "display_data"
    }
   ],
   "source": [
    "trace_hist = go.Bar(\n",
    "    x = df_bugclass['class'][:2],\n",
    "    y = df_bugclass['histogram'][:2],\n",
    "    name = 'diff-algorithm = histogram',\n",
    "    text = df_bugclass['histogram'],\n",
    "    textposition = 'auto'\n",
    ")\n",
    "\n",
    "trace_min = go.Bar(\n",
    "    x = df_bugclass['class'][:2],\n",
    "    y = df_bugclass['minimal'][:2],\n",
    "    name = 'diff-algorithm = minimal',\n",
    "    text = df_bugclass['minimal'],\n",
    "    textposition = 'auto'\n",
    ")\n",
    "\n",
    "trace_myers = go.Bar(\n",
    "    x = df_bugclass['class'][:2],\n",
    "    y = df_bugclass['myers'][:2],\n",
    "    name = 'diff-algorithm = myers',\n",
    "    text = df_bugclass['myers'],\n",
    "    textposition = 'auto'\n",
    ")\n",
    "                    \n",
    "trace_pat = go.Bar(\n",
    "    x = df_bugclass['class'][:2],\n",
    "    y = df_bugclass['patience'][:2],\n",
    "    name = 'diff-algorithm = patience',\n",
    "    text = df_bugclass['patience'],\n",
    "    textposition = 'auto'\n",
    ")\n",
    "\n",
    "data = [trace_hist, trace_min, trace_myers, trace_pat]\n",
    "\n",
    "layout = go.Layout(\n",
    "    barmode = 'group',\n",
    "    title = 'Number of bug-class for each diff algorithm in HBase Project'\n",
    ")\n",
    "\n",
    "init_notebook_mode(connected=True)\n",
    "fig = go.Figure(data=data, layout=layout)\n",
    "iplot(fig, show_link=False)"
   ]
  },
  {
   "cell_type": "markdown",
   "metadata": {},
   "source": [
    "# Counting the disagreement ratio (R) in HBASE project"
   ]
  },
  {
   "cell_type": "code",
   "execution_count": 32,
   "metadata": {},
   "outputs": [
    {
     "data": {
      "text/html": [
       "<div>\n",
       "<style>\n",
       "    .dataframe thead tr:only-child th {\n",
       "        text-align: right;\n",
       "    }\n",
       "\n",
       "    .dataframe thead th {\n",
       "        text-align: left;\n",
       "    }\n",
       "\n",
       "    .dataframe tbody tr th {\n",
       "        vertical-align: top;\n",
       "    }\n",
       "</style>\n",
       "<table border=\"1\" class=\"dataframe\">\n",
       "  <thead>\n",
       "    <tr style=\"text-align: right;\">\n",
       "      <th></th>\n",
       "      <th>class</th>\n",
       "      <th>histogram</th>\n",
       "      <th>minimal</th>\n",
       "      <th>myers</th>\n",
       "      <th>patience</th>\n",
       "    </tr>\n",
       "  </thead>\n",
       "  <tbody>\n",
       "    <tr>\n",
       "      <th>0</th>\n",
       "      <td>#bug-introducing_change</td>\n",
       "      <td>10685</td>\n",
       "      <td>10585</td>\n",
       "      <td>10816</td>\n",
       "      <td>10624</td>\n",
       "    </tr>\n",
       "    <tr>\n",
       "      <th>1</th>\n",
       "      <td>#incorrect</td>\n",
       "      <td>513</td>\n",
       "      <td>512</td>\n",
       "      <td>512</td>\n",
       "      <td>514</td>\n",
       "    </tr>\n",
       "    <tr>\n",
       "      <th>2</th>\n",
       "      <td>#unknown</td>\n",
       "      <td>105436</td>\n",
       "      <td>105357</td>\n",
       "      <td>105470</td>\n",
       "      <td>105420</td>\n",
       "    </tr>\n",
       "    <tr>\n",
       "      <th>3</th>\n",
       "      <td>total</td>\n",
       "      <td>116634</td>\n",
       "      <td>116454</td>\n",
       "      <td>116798</td>\n",
       "      <td>116558</td>\n",
       "    </tr>\n",
       "  </tbody>\n",
       "</table>\n",
       "</div>"
      ],
      "text/plain": [
       "                     class  histogram  minimal   myers  patience\n",
       "0  #bug-introducing_change      10685    10585   10816     10624\n",
       "1               #incorrect        513      512     512       514\n",
       "2                 #unknown     105436   105357  105470    105420\n",
       "3                    total     116634   116454  116798    116558"
      ]
     },
     "execution_count": 32,
     "metadata": {},
     "output_type": "execute_result"
    }
   ],
   "source": [
    "df_bugclass"
   ]
  },
  {
   "cell_type": "code",
   "execution_count": 33,
   "metadata": {},
   "outputs": [
    {
     "data": {
      "text/html": [
       "<div>\n",
       "<style>\n",
       "    .dataframe thead tr:only-child th {\n",
       "        text-align: right;\n",
       "    }\n",
       "\n",
       "    .dataframe thead th {\n",
       "        text-align: left;\n",
       "    }\n",
       "\n",
       "    .dataframe tbody tr th {\n",
       "        vertical-align: top;\n",
       "    }\n",
       "</style>\n",
       "<table border=\"1\" class=\"dataframe\">\n",
       "  <thead>\n",
       "    <tr style=\"text-align: right;\">\n",
       "      <th></th>\n",
       "      <th>algorithm</th>\n",
       "      <th>number_of_buglines</th>\n",
       "    </tr>\n",
       "  </thead>\n",
       "  <tbody>\n",
       "    <tr>\n",
       "      <th>0</th>\n",
       "      <td>histogram</td>\n",
       "      <td>116634</td>\n",
       "    </tr>\n",
       "    <tr>\n",
       "      <th>1</th>\n",
       "      <td>minimal</td>\n",
       "      <td>116454</td>\n",
       "    </tr>\n",
       "    <tr>\n",
       "      <th>2</th>\n",
       "      <td>myers</td>\n",
       "      <td>116798</td>\n",
       "    </tr>\n",
       "    <tr>\n",
       "      <th>3</th>\n",
       "      <td>patience</td>\n",
       "      <td>116558</td>\n",
       "    </tr>\n",
       "  </tbody>\n",
       "</table>\n",
       "</div>"
      ],
      "text/plain": [
       "   algorithm  number_of_buglines\n",
       "0  histogram              116634\n",
       "1    minimal              116454\n",
       "2      myers              116798\n",
       "3   patience              116558"
      ]
     },
     "execution_count": 33,
     "metadata": {},
     "output_type": "execute_result"
    }
   ],
   "source": [
    "dftotal"
   ]
  },
  {
   "cell_type": "code",
   "execution_count": 34,
   "metadata": {
    "collapsed": true
   },
   "outputs": [],
   "source": [
    "#disagreement ratio (R) = the number of disagreement (D) / total number of bugs (B)\n",
    "ratio_details = []\n",
    "\n",
    "for n, algor in enumerate(algorithm):\n",
    "    D = df_bugclass[algor][df_bugclass['class'] == '#incorrect'].iloc[0]\n",
    "    B = dftotal['number_of_buglines'][dftotal['algorithm'] == algor].iloc[0]\n",
    "    R = D/B\n",
    "    summary = [algor, D, B, R]\n",
    "    ratio_details.append(summary)"
   ]
  },
  {
   "cell_type": "code",
   "execution_count": 35,
   "metadata": {
    "collapsed": true
   },
   "outputs": [],
   "source": [
    "with open(analyze_dir + '04_annotate/03_disagreement_ratio/disagreement_ratio.csv', 'w') as ratiofile:\n",
    "    columns = ['algorithm', 'number_of_incorrect', 'total_buglines', 'disagreement_ratio']\n",
    "    writers = csv.writer(ratiofile)\n",
    "    writers.writerow(columns)\n",
    "    for item in ratio_details:\n",
    "        writers.writerow(item)"
   ]
  },
  {
   "cell_type": "code",
   "execution_count": 36,
   "metadata": {},
   "outputs": [
    {
     "data": {
      "text/html": [
       "<div>\n",
       "<style>\n",
       "    .dataframe thead tr:only-child th {\n",
       "        text-align: right;\n",
       "    }\n",
       "\n",
       "    .dataframe thead th {\n",
       "        text-align: left;\n",
       "    }\n",
       "\n",
       "    .dataframe tbody tr th {\n",
       "        vertical-align: top;\n",
       "    }\n",
       "</style>\n",
       "<table border=\"1\" class=\"dataframe\">\n",
       "  <thead>\n",
       "    <tr style=\"text-align: right;\">\n",
       "      <th></th>\n",
       "      <th>algorithm</th>\n",
       "      <th>number_of_incorrect</th>\n",
       "      <th>total_buglines</th>\n",
       "      <th>disagreement_ratio</th>\n",
       "    </tr>\n",
       "  </thead>\n",
       "  <tbody>\n",
       "    <tr>\n",
       "      <th>0</th>\n",
       "      <td>histogram</td>\n",
       "      <td>513</td>\n",
       "      <td>116634</td>\n",
       "      <td>0.004398</td>\n",
       "    </tr>\n",
       "    <tr>\n",
       "      <th>1</th>\n",
       "      <td>minimal</td>\n",
       "      <td>512</td>\n",
       "      <td>116454</td>\n",
       "      <td>0.004397</td>\n",
       "    </tr>\n",
       "    <tr>\n",
       "      <th>2</th>\n",
       "      <td>myers</td>\n",
       "      <td>512</td>\n",
       "      <td>116798</td>\n",
       "      <td>0.004384</td>\n",
       "    </tr>\n",
       "    <tr>\n",
       "      <th>3</th>\n",
       "      <td>patience</td>\n",
       "      <td>514</td>\n",
       "      <td>116558</td>\n",
       "      <td>0.004410</td>\n",
       "    </tr>\n",
       "  </tbody>\n",
       "</table>\n",
       "</div>"
      ],
      "text/plain": [
       "   algorithm  number_of_incorrect  total_buglines  disagreement_ratio\n",
       "0  histogram                  513          116634            0.004398\n",
       "1    minimal                  512          116454            0.004397\n",
       "2      myers                  512          116798            0.004384\n",
       "3   patience                  514          116558            0.004410"
      ]
     },
     "execution_count": 36,
     "metadata": {},
     "output_type": "execute_result"
    }
   ],
   "source": [
    "df_ratio = pd.read_csv(analyze_dir + '04_annotate/03_disagreement_ratio/disagreement_ratio.csv')\n",
    "df_ratio = df_ratio[['algorithm', 'number_of_incorrect', 'total_buglines', 'disagreement_ratio']]\n",
    "df_ratio"
   ]
  },
  {
   "cell_type": "code",
   "execution_count": 37,
   "metadata": {},
   "outputs": [
    {
     "data": {
      "text/html": [
       "<script>requirejs.config({paths: { 'plotly': ['https://cdn.plot.ly/plotly-latest.min']},});if(!window.Plotly) {{require(['plotly'],function(plotly) {window.Plotly=plotly;});}}</script>"
      ],
      "text/vnd.plotly.v1+html": [
       "<script>requirejs.config({paths: { 'plotly': ['https://cdn.plot.ly/plotly-latest.min']},});if(!window.Plotly) {{require(['plotly'],function(plotly) {window.Plotly=plotly;});}}</script>"
      ]
     },
     "metadata": {},
     "output_type": "display_data"
    },
    {
     "data": {
      "application/vnd.plotly.v1+json": {
       "data": [
        {
         "marker": {
          "color": "rgb(150,255,200)",
          "line": {
           "color": "rgb(8,48,107)",
           "width": 1.5
          }
         },
         "opacity": 0.6,
         "text": [
          0.00439837440198,
          0.0043965857763599995,
          0.00438363670611,
          0.0044098217196599995
         ],
         "textposition": "auto",
         "type": "bar",
         "x": [
          "histogram",
          "minimal",
          "myers",
          "patience"
         ],
         "y": [
          0.00439837440198,
          0.0043965857763599995,
          0.00438363670611,
          0.0044098217196599995
         ]
        }
       ],
       "layout": {
        "title": "Disagreement ratio of each diff algorithm in HBase Project"
       }
      },
      "text/html": [
       "<div id=\"c4d0a3f1-2153-46c2-8188-890f49a24b08\" style=\"height: 525px; width: 100%;\" class=\"plotly-graph-div\"></div><script type=\"text/javascript\">require([\"plotly\"], function(Plotly) { window.PLOTLYENV=window.PLOTLYENV || {};window.PLOTLYENV.BASE_URL=\"https://plot.ly\";Plotly.newPlot(\"c4d0a3f1-2153-46c2-8188-890f49a24b08\", [{\"type\": \"bar\", \"x\": [\"histogram\", \"minimal\", \"myers\", \"patience\"], \"y\": [0.00439837440198, 0.0043965857763599995, 0.00438363670611, 0.0044098217196599995], \"text\": [0.00439837440198, 0.0043965857763599995, 0.00438363670611, 0.0044098217196599995], \"textposition\": \"auto\", \"marker\": {\"color\": \"rgb(150,255,200)\", \"line\": {\"color\": \"rgb(8,48,107)\", \"width\": 1.5}}, \"opacity\": 0.6}], {\"title\": \"Disagreement ratio of each diff algorithm in HBase Project\"}, {\"showLink\": false, \"linkText\": \"Export to plot.ly\"})});</script>"
      ],
      "text/vnd.plotly.v1+html": [
       "<div id=\"c4d0a3f1-2153-46c2-8188-890f49a24b08\" style=\"height: 525px; width: 100%;\" class=\"plotly-graph-div\"></div><script type=\"text/javascript\">require([\"plotly\"], function(Plotly) { window.PLOTLYENV=window.PLOTLYENV || {};window.PLOTLYENV.BASE_URL=\"https://plot.ly\";Plotly.newPlot(\"c4d0a3f1-2153-46c2-8188-890f49a24b08\", [{\"type\": \"bar\", \"x\": [\"histogram\", \"minimal\", \"myers\", \"patience\"], \"y\": [0.00439837440198, 0.0043965857763599995, 0.00438363670611, 0.0044098217196599995], \"text\": [0.00439837440198, 0.0043965857763599995, 0.00438363670611, 0.0044098217196599995], \"textposition\": \"auto\", \"marker\": {\"color\": \"rgb(150,255,200)\", \"line\": {\"color\": \"rgb(8,48,107)\", \"width\": 1.5}}, \"opacity\": 0.6}], {\"title\": \"Disagreement ratio of each diff algorithm in HBase Project\"}, {\"showLink\": false, \"linkText\": \"Export to plot.ly\"})});</script>"
      ]
     },
     "metadata": {},
     "output_type": "display_data"
    }
   ],
   "source": [
    "trace = go.Bar(\n",
    "    x = df_ratio['algorithm'],\n",
    "    y = df_ratio['disagreement_ratio'],\n",
    "    text = df_ratio['disagreement_ratio'],\n",
    "    textposition = 'auto',\n",
    "    marker = dict(\n",
    "        color = 'rgb(150,255,200)',\n",
    "        line = dict(\n",
    "            color='rgb(8,48,107)',\n",
    "            width=1.5),\n",
    "    ),\n",
    "    opacity=0.6\n",
    ")\n",
    "\n",
    "layout = go.Layout(\n",
    "    title = 'Disagreement ratio of each diff algorithm in HBase Project'\n",
    ")\n",
    "\n",
    "init_notebook_mode(connected=True)\n",
    "fig = go.Figure(data=[trace], layout=layout)\n",
    "iplot(fig, show_link=False)"
   ]
  },
  {
   "cell_type": "code",
   "execution_count": null,
   "metadata": {
    "collapsed": true
   },
   "outputs": [],
   "source": []
  }
 ],
 "metadata": {
  "kernelspec": {
   "display_name": "Python 3",
   "language": "python",
   "name": "python3"
  },
  "language_info": {
   "codemirror_mode": {
    "name": "ipython",
    "version": 3
   },
   "file_extension": ".py",
   "mimetype": "text/x-python",
   "name": "python",
   "nbconvert_exporter": "python",
   "pygments_lexer": "ipython3",
   "version": "3.6.3"
  }
 },
 "nbformat": 4,
 "nbformat_minor": 2
}
