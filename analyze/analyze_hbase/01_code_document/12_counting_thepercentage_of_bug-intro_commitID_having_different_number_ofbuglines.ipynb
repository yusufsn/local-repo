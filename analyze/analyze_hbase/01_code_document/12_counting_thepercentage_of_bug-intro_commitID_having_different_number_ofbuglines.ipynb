{
 "cells": [
  {
   "cell_type": "markdown",
   "metadata": {},
   "source": [
    "# Importing libraries"
   ]
  },
  {
   "cell_type": "code",
   "execution_count": null,
   "metadata": {
    "collapsed": true
   },
   "outputs": [],
   "source": [
    "import os, glob, csv, sys, re\n",
    "from os import path\n",
    "import pandas as pd\n",
    "import plotly.graph_objs as go\n",
    "from plotly.offline import plot, init_notebook_mode, iplot\n",
    "\n",
    "%matplotlib inline"
   ]
  },
  {
   "cell_type": "markdown",
   "metadata": {},
   "source": [
    "# Defining repository and directories"
   ]
  },
  {
   "cell_type": "code",
   "execution_count": null,
   "metadata": {
    "collapsed": true
   },
   "outputs": [],
   "source": [
    "userhome = os.path.expanduser('~')\n",
    "analyze_dir = userhome + r'/different-diff/analyze/analyze_openjpa/'"
   ]
  },
  {
   "cell_type": "markdown",
   "metadata": {},
   "source": [
    "# Load dataset of validated bug-intro commit id"
   ]
  },
  {
   "cell_type": "code",
   "execution_count": null,
   "metadata": {
    "collapsed": true
   },
   "outputs": [],
   "source": [
    "valid_bugintro_dir = analyze_dir + '05_finding_versions/03_filtering/01_valid_bugintro_commitid/'"
   ]
  },
  {
   "cell_type": "code",
   "execution_count": null,
   "metadata": {
    "collapsed": true
   },
   "outputs": [],
   "source": [
    "header = ['bugintro_commitID','totalnumber_of_buggyline']"
   ]
  },
  {
   "cell_type": "code",
   "execution_count": null,
   "metadata": {
    "collapsed": true
   },
   "outputs": [],
   "source": [
    "df_bugintrocid_hist = pd.read_csv(valid_bugintro_dir + 'histogram_valid_bugintro_commitid.csv')\n",
    "df_bugintrocid_min = pd.read_csv(valid_bugintro_dir + 'minimal_valid_bugintro_commitid.csv')\n",
    "df_bugintrocid_myers = pd.read_csv(valid_bugintro_dir + 'myers_valid_bugintro_commitid.csv')\n",
    "df_bugintrocid_pat = pd.read_csv(valid_bugintro_dir + 'patience_valid_bugintro_commitid.csv')\n",
    "\n",
    "df_bugintrocid_hist = df_bugintrocid_hist[header]\n",
    "df_bugintrocid_min = df_bugintrocid_min[header]\n",
    "df_bugintrocid_myers = df_bugintrocid_myers[header]\n",
    "df_bugintrocid_pat = df_bugintrocid_pat[header]"
   ]
  },
  {
   "cell_type": "markdown",
   "metadata": {},
   "source": [
    "sorting dataset based on bugintro_commitID"
   ]
  },
  {
   "cell_type": "code",
   "execution_count": null,
   "metadata": {
    "collapsed": true
   },
   "outputs": [],
   "source": [
    "df_bugintrocid_hist = df_bugintrocid_hist.sort_values('bugintro_commitID')\n",
    "df_bugintrocid_min = df_bugintrocid_min.sort_values('bugintro_commitID')\n",
    "df_bugintrocid_myers = df_bugintrocid_myers.sort_values('bugintro_commitID')\n",
    "df_bugintrocid_pat = df_bugintrocid_pat.sort_values('bugintro_commitID')"
   ]
  },
  {
   "cell_type": "code",
   "execution_count": null,
   "metadata": {
    "collapsed": true
   },
   "outputs": [],
   "source": [
    "#Merge dataset histogram and minimal\n",
    "datamerge1 = df_bugintrocid_hist.merge(df_bugintrocid_min, on=['bugintro_commitID'], \n",
    "                                       how=\"outer\", suffixes=('_histogram','_minimal'))\n",
    "#Merge dataset myers and patience\n",
    "datamerge2 = df_bugintrocid_myers.merge(df_bugintrocid_pat, on=['bugintro_commitID'],\n",
    "                                       how=\"outer\", suffixes=('_myers','_patience'))\n",
    "#Merge datamerge1 and datamerge2\n",
    "datamerge3 = datamerge1.merge(datamerge2, on=['bugintro_commitID'], how=\"outer\")\n",
    "\n",
    "#Fill NAs with 0 and sort by bugintro_commitID\n",
    "datamerge3.fillna(0, inplace=True)\n",
    "datamerge3 = datamerge3.sort_values(by = 'totalnumber_of_buggyline_histogram').reset_index(drop=True)\n",
    "cols = ['bugintro_commitID','totalnumber_of_buggyline_histogram','totalnumber_of_buggyline_minimal',\n",
    "        'totalnumber_of_buggyline_myers','totalnumber_of_buggyline_patience']\n",
    "datamerge3 = datamerge3[cols]\n",
    "\n",
    "#save to CSV file\n",
    "datamerge3.to_csv(valid_bugintro_dir + 'joining_validated_bugintro_commitID.csv')"
   ]
  },
  {
   "cell_type": "code",
   "execution_count": null,
   "metadata": {
    "scrolled": true
   },
   "outputs": [],
   "source": [
    "join_validbugintro = pd.read_csv(valid_bugintro_dir + 'joining_validated_bugintro_commitID.csv')\n",
    "join_validbugintro[cols]"
   ]
  },
  {
   "cell_type": "markdown",
   "metadata": {},
   "source": [
    "# Capturing only data which have different number of buglines"
   ]
  },
  {
   "cell_type": "code",
   "execution_count": null,
   "metadata": {
    "collapsed": true
   },
   "outputs": [],
   "source": [
    "#Remove data having same number of buglines\n",
    "df_diffnumofbugline = datamerge3[datamerge3.iloc[:,-4:].nunique(1).gt(1)]\n",
    "df_diffnumofbugline = df_diffnumofbugline.sort_values('totalnumber_of_buggyline_histogram', ascending=True)\n",
    "\n",
    "#Save to CSV file\n",
    "df_diffnumofbugline.to_csv(valid_bugintro_dir + 'bugintrocid_with_different_numberofbugline.csv')"
   ]
  },
  {
   "cell_type": "code",
   "execution_count": null,
   "metadata": {
    "scrolled": false
   },
   "outputs": [],
   "source": [
    "data_diff = pd.read_csv(valid_bugintro_dir + 'bugintrocid_with_different_numberofbugline.csv')\n",
    "data_diff[cols]"
   ]
  },
  {
   "cell_type": "code",
   "execution_count": null,
   "metadata": {},
   "outputs": [],
   "source": [
    "len(data_diff)"
   ]
  },
  {
   "cell_type": "code",
   "execution_count": null,
   "metadata": {},
   "outputs": [],
   "source": [
    "len(join_validbugintro)"
   ]
  },
  {
   "cell_type": "markdown",
   "metadata": {},
   "source": [
    "# Counting percentage of bug-intro commit id having different number of buglines"
   ]
  },
  {
   "cell_type": "code",
   "execution_count": null,
   "metadata": {},
   "outputs": [],
   "source": [
    "percentage = (len(data_diff) / len(join_validbugintro)) * 100\n",
    "the_rest = 100 - percentage\n",
    "print (\"{0:.2f}%\".format(percentage))"
   ]
  },
  {
   "cell_type": "code",
   "execution_count": null,
   "metadata": {},
   "outputs": [],
   "source": [
    "labels = ['having different number of buglines','having same number of buglines']\n",
    "values = [percentage, the_rest]\n",
    "colors = ['#E1396C','#96D38C']\n",
    "\n",
    "trace = go.Pie(\n",
    "    labels=labels, \n",
    "    values=values,\n",
    "    hoverinfo='label+percent', textinfo='value', \n",
    "               textfont=dict(size=15),\n",
    "               marker=dict(colors=colors, \n",
    "                           line=dict(color='#000000', width=2))\n",
    ")\n",
    "\n",
    "data = [trace]\n",
    "layout = go.Layout(\n",
    "    title = \"The percentage of validated bug-intro commit id for all algorithms in OPENJPA Project\"\n",
    ")\n",
    "\n",
    "init_notebook_mode(connected=True)\n",
    "fig = go.Figure(data=data, layout=layout)\n",
    "iplot(fig, show_link=False)"
   ]
  },
  {
   "cell_type": "markdown",
   "metadata": {
    "collapsed": true
   },
   "source": [
    "# MYERS VS HISTOGRAM"
   ]
  },
  {
   "cell_type": "markdown",
   "metadata": {},
   "source": [
    "Load dataset"
   ]
  },
  {
   "cell_type": "code",
   "execution_count": null,
   "metadata": {
    "scrolled": true
   },
   "outputs": [],
   "source": [
    "headcols = ['bugintro_commitID','totalnumber_of_buggyline_histogram','totalnumber_of_buggyline_myers']\n",
    "validbugintro_myershist = pd.read_csv(valid_bugintro_dir + 'joining_validated_bugintro_commitID.csv')\n",
    "validbugintro_myershist = validbugintro_myershist[headcols]\n",
    "validbugintro_myershist"
   ]
  },
  {
   "cell_type": "markdown",
   "metadata": {},
   "source": [
    "Capturing only data which have different number of buglines"
   ]
  },
  {
   "cell_type": "code",
   "execution_count": null,
   "metadata": {
    "collapsed": true
   },
   "outputs": [],
   "source": [
    "#Remove data having same number of buglines\n",
    "df_diffbugline_myershist = validbugintro_myershist[validbugintro_myershist.iloc[:,-2:].nunique(1).gt(1)]\n",
    "df_diffbugline_myershist = df_diffbugline_myershist.sort_values('totalnumber_of_buggyline_histogram', ascending=True)\n",
    "\n",
    "#Save to CSV file\n",
    "df_diffbugline_myershist.to_csv(valid_bugintro_dir + '01_myers_vs_histogram/bugintrocid_with_different_numberofbugline_myershist.csv')"
   ]
  },
  {
   "cell_type": "code",
   "execution_count": null,
   "metadata": {
    "scrolled": true
   },
   "outputs": [],
   "source": [
    "diff_myershist = pd.read_csv(valid_bugintro_dir + '01_myers_vs_histogram/bugintrocid_with_different_numberofbugline_myershist.csv')\n",
    "diff_myershist[headcols]"
   ]
  },
  {
   "cell_type": "markdown",
   "metadata": {},
   "source": [
    "Counting percentage of bug-intro commit id having different number of buglines"
   ]
  },
  {
   "cell_type": "code",
   "execution_count": null,
   "metadata": {},
   "outputs": [],
   "source": [
    "percentage_myershist = (len(diff_myershist) / len(validbugintro_myershist)) * 100\n",
    "rest_myershist = 100 - percentage_myershist\n",
    "print (\"{0:.2f}%\".format(percentage_myershist))"
   ]
  },
  {
   "cell_type": "code",
   "execution_count": null,
   "metadata": {},
   "outputs": [],
   "source": [
    "labels = ['having different number of buglines','having same number of buglines']\n",
    "values = [percentage_myershist, rest_myershist]\n",
    "colors = ['#E1396C','#96D38C']\n",
    "\n",
    "trace = go.Pie(\n",
    "    labels=labels, \n",
    "    values=values,\n",
    "    hoverinfo='label+percent', textinfo='value', \n",
    "               textfont=dict(size=15),\n",
    "               marker=dict(colors=colors, \n",
    "                           line=dict(color='#000000', width=2))\n",
    ")\n",
    "\n",
    "data = [trace]\n",
    "layout = go.Layout(\n",
    "    title = \"The percentage of validated bug-intro commit id for Myers vs Histogram in OPENJPA Project\"\n",
    ")\n",
    "\n",
    "init_notebook_mode(connected=True)\n",
    "fig = go.Figure(data=data, layout=layout)\n",
    "iplot(fig, show_link=False)"
   ]
  },
  {
   "cell_type": "code",
   "execution_count": null,
   "metadata": {
    "collapsed": true
   },
   "outputs": [],
   "source": []
  }
 ],
 "metadata": {
  "kernelspec": {
   "display_name": "Python 3",
   "language": "python",
   "name": "python3"
  },
  "language_info": {
   "codemirror_mode": {
    "name": "ipython",
    "version": 3
   },
   "file_extension": ".py",
   "mimetype": "text/x-python",
   "name": "python",
   "nbconvert_exporter": "python",
   "pygments_lexer": "ipython3",
   "version": "3.6.3"
  }
 },
 "nbformat": 4,
 "nbformat_minor": 2
}
