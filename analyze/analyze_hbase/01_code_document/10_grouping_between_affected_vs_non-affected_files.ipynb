{
 "cells": [
  {
   "cell_type": "markdown",
   "metadata": {},
   "source": [
    "# Importing libraries"
   ]
  },
  {
   "cell_type": "code",
   "execution_count": 1,
   "metadata": {
    "collapsed": true
   },
   "outputs": [],
   "source": [
    "import os, glob, json, csv, subprocess, sys, re, operator, itertools\n",
    "import datetime\n",
    "from git import *\n",
    "from subprocess import Popen, PIPE\n",
    "from os import path\n",
    "from collections import Iterable\n",
    "import pandas as pd"
   ]
  },
  {
   "cell_type": "markdown",
   "metadata": {},
   "source": [
    "# Defining repository and directories"
   ]
  },
  {
   "cell_type": "code",
   "execution_count": 2,
   "metadata": {
    "collapsed": true
   },
   "outputs": [],
   "source": [
    "userhome = os.path.expanduser('~')\n",
    "repository = userhome + r'/different-diff/dataset/pig/'\n",
    "analyze_dir = userhome + r'/different-diff/analyze/analyze_pig/'"
   ]
  },
  {
   "cell_type": "markdown",
   "metadata": {},
   "source": [
    "# Loading comparison data between bugline and blame"
   ]
  },
  {
   "cell_type": "code",
   "execution_count": 3,
   "metadata": {
    "collapsed": true
   },
   "outputs": [],
   "source": [
    "compare_dirs = analyze_dir + '04_annotate/02_diff-file_blame-file_comparison/'"
   ]
  },
  {
   "cell_type": "code",
   "execution_count": 4,
   "metadata": {},
   "outputs": [
    {
     "data": {
      "text/plain": [
       "['/Users/YusufNugroho/different-diff/analyze/analyze_pig/04_annotate/02_diff-file_blame-file_comparison/histogram_comparison',\n",
       " '/Users/YusufNugroho/different-diff/analyze/analyze_pig/04_annotate/02_diff-file_blame-file_comparison/minimal_comparison',\n",
       " '/Users/YusufNugroho/different-diff/analyze/analyze_pig/04_annotate/02_diff-file_blame-file_comparison/myers_comparison',\n",
       " '/Users/YusufNugroho/different-diff/analyze/analyze_pig/04_annotate/02_diff-file_blame-file_comparison/patience_comparison']"
      ]
     },
     "execution_count": 4,
     "metadata": {},
     "output_type": "execute_result"
    }
   ],
   "source": [
    "dirs = []\n",
    "for d in glob.iglob(compare_dirs + '*', recursive=True):\n",
    "    dirs.append(d)\n",
    "dirs.sort()\n",
    "dirs"
   ]
  },
  {
   "cell_type": "code",
   "execution_count": 5,
   "metadata": {
    "collapsed": true
   },
   "outputs": [],
   "source": [
    "column_name = ['bug_id','line_number','buggy_code','does_bugline_from_originfile?','date_added_in_originfile','earliest_affected_version','version_release_date','bug_class']"
   ]
  },
  {
   "cell_type": "code",
   "execution_count": 12,
   "metadata": {},
   "outputs": [
    {
     "data": {
      "text/plain": [
       "'/Users/YusufNugroho/different-diff/analyze/analyze_pig/04_annotate/02_diff-file_blame-file_comparison/minimal_comparison/diff_TezOperPlan.java_minimal-blame_TezOperPlan.java_1a2b4f3a0-0786828e27_PIG-5132_621.csv'"
      ]
     },
     "execution_count": 12,
     "metadata": {},
     "output_type": "execute_result"
    }
   ],
   "source": [
    "paths = []\n",
    "for d in glob.iglob(dirs[1] + \"/*\", recursive=True):\n",
    "    paths.append(d)\n",
    "paths[21]"
   ]
  },
  {
   "cell_type": "markdown",
   "metadata": {},
   "source": [
    "# Reading files from comparison dataset"
   ]
  },
  {
   "cell_type": "code",
   "execution_count": 14,
   "metadata": {},
   "outputs": [
    {
     "name": "stdout",
     "output_type": "stream",
     "text": [
      "4 Reading file no: 708 --> /Users/YusufNugroho/different-diff/analyze/analyze_pig/04_annotate/02_diff-file_blame-file_comparison/patience_comparison/diff_TEZC-Union-2.gld_patience-blame_TEZC-Union-2.gld_5c0a7d08a-901649025c_PIG-4737_476.csv17.csv_490.csvsvG-5132_542.csv18.csvsv4.csvsvder_1a2b4f3a0-0786828e27_PIG-5132_689.csvsv\n",
      "The process is complete\n"
     ]
    }
   ],
   "source": [
    "#Reading files from comparison\n",
    "for n, folder in enumerate(dirs):\n",
    "    result = []\n",
    "    z = 1\n",
    "    for file in glob.iglob(folder + '/*', recursive=True):\n",
    "        sys.stdout.write(\"\\r{} Reading file no: {}\".format((n+1),z))\n",
    "        sys.stdout.flush()\n",
    "        z += 1\n",
    "        res = []\n",
    "        with open(file,'r') as myfile:\n",
    "            csv_reader = csv.reader(myfile, delimiter=',')\n",
    "            for row in csv_reader:\n",
    "                res.append(row[7])\n",
    "        del res[0]\n",
    "\n",
    "        regex = re.search(\"(?<=\\/diff\\_)(?P<filename>.\\w+[a-zA-Z0-9-.]+(?=_))\\_(?P<algorithm>\\w+)\\-.*\\_(?P<commitid>[0-9a-z]{9})\\-(?P<parentid>[0-9a-z]{10})\\w.*\\_(?P<filenumber>\\d+)\", file)\n",
    "        regex = regex.groups()\n",
    "\n",
    "        if ('bug-introducing change') not in res:\n",
    "            tmp = [file,row[0],regex[0],regex[2],regex[3],int(regex[4]),\"Does not affect the version\"]\n",
    "        else:\n",
    "            tmp = [file,row[0],regex[0],regex[2],regex[3],int(regex[4]),\"Affect the version\"]\n",
    "        result.append(tmp)\n",
    "    result = sorted(result, key=operator.itemgetter(2,0))\n",
    "    \n",
    "    with open(analyze_dir + \"04_annotate/04_grouping_affected_non-affected_files/\" + regex[1] + \"_affected_files.csv\",'w') as csvfile:\n",
    "        fields = ['file','bug_id','filename','bugintro_commitID','parent_id','filenumber','affect_version?']\n",
    "        writers = csv.writer(csvfile, delimiter=\",\")\n",
    "        writers.writerow(fields)\n",
    "        for item in result:\n",
    "            writers.writerow(item)\n",
    "            \n",
    "print (\"\\nThe process is complete\")"
   ]
  },
  {
   "cell_type": "code",
   "execution_count": null,
   "metadata": {
    "scrolled": true
   },
   "outputs": [],
   "source": [
    "df_affhist = pd.read_csv(analyze_dir + \"04_annotate/04_grouping_affected_non-affected_files/histogram_affected_files.csv\")\n",
    "df_affhist = df_affhist[fields]\n",
    "df_affhist"
   ]
  },
  {
   "cell_type": "code",
   "execution_count": null,
   "metadata": {
    "scrolled": true
   },
   "outputs": [],
   "source": [
    "df_affmin = pd.read_csv(analyze_dir + \"04_annotate/04_grouping_affected_non-affected_files/minimal_affected_files.csv\")\n",
    "df_affmin = df_affmin[fields]\n",
    "df_affmin"
   ]
  },
  {
   "cell_type": "code",
   "execution_count": null,
   "metadata": {
    "scrolled": true
   },
   "outputs": [],
   "source": [
    "df_affmyers = pd.read_csv(analyze_dir + \"04_annotate/04_grouping_affected_non-affected_files/myers_affected_files.csv\")\n",
    "df_affmyers = df_affmyers[fields]\n",
    "df_affmyers"
   ]
  },
  {
   "cell_type": "code",
   "execution_count": null,
   "metadata": {
    "scrolled": true
   },
   "outputs": [],
   "source": [
    "df_affpat = pd.read_csv(analyze_dir + \"04_annotate/04_grouping_affected_non-affected_files/patience_affected_files.csv\")\n",
    "df_affpat = df_affpat[fields]\n",
    "df_affpat"
   ]
  },
  {
   "cell_type": "markdown",
   "metadata": {},
   "source": [
    "# Counting affected and non-affected files"
   ]
  },
  {
   "cell_type": "code",
   "execution_count": null,
   "metadata": {
    "collapsed": true
   },
   "outputs": [],
   "source": [
    "df = [df_affhist,df_affmin,df_affmyers,df_affmyers]"
   ]
  },
  {
   "cell_type": "code",
   "execution_count": null,
   "metadata": {
    "collapsed": true
   },
   "outputs": [],
   "source": [
    "algorithms = ['histogram','minimal','myers','patience']"
   ]
  },
  {
   "cell_type": "code",
   "execution_count": null,
   "metadata": {
    "collapsed": true
   },
   "outputs": [],
   "source": [
    "no_of_files = []\n",
    "for z, dframe in enumerate(df):\n",
    "    affnum = dframe['affect_version?'][dframe['affect_version?'] == 'Does not affect the version'].count()\n",
    "    nonaffnum = dframe['affect_version?'][dframe['affect_version?'] == 'Affect the version'].count()\n",
    "    summ = [algorithms[z],affnum,nonaffnum]\n",
    "    no_of_files.append(summ)"
   ]
  },
  {
   "cell_type": "code",
   "execution_count": null,
   "metadata": {},
   "outputs": [],
   "source": [
    "with open(analyze_dir + \"04_annotate/04_grouping_affected_non-affected_files/totalnumber_of_affectedfiles.csv\",'w') as file:\n",
    "    header = ['algorithm','#non-affected_files','#affected_files']\n",
    "    writers = csv.writer(file,delimiter=\",\")\n",
    "    writers.writerow(header)\n",
    "    for ii in no_of_files:\n",
    "        writers.writerow(ii)\n",
    "print (\"File 'totalnumber_of_affectedfiles.csv' has been created\")"
   ]
  },
  {
   "cell_type": "code",
   "execution_count": null,
   "metadata": {},
   "outputs": [],
   "source": [
    "aff_file = pd.read_csv(analyze_dir + \"04_annotate/04_grouping_affected_non-affected_files/totalnumber_of_affectedfiles.csv\")\n",
    "aff_file"
   ]
  },
  {
   "cell_type": "code",
   "execution_count": null,
   "metadata": {
    "collapsed": true
   },
   "outputs": [],
   "source": []
  }
 ],
 "metadata": {
  "kernelspec": {
   "display_name": "Python 3",
   "language": "python",
   "name": "python3"
  },
  "language_info": {
   "codemirror_mode": {
    "name": "ipython",
    "version": 3
   },
   "file_extension": ".py",
   "mimetype": "text/x-python",
   "name": "python",
   "nbconvert_exporter": "python",
   "pygments_lexer": "ipython3",
   "version": "3.6.3"
  }
 },
 "nbformat": 4,
 "nbformat_minor": 2
}
