{
 "cells": [
  {
   "cell_type": "markdown",
   "metadata": {},
   "source": [
    "# Importing libraries"
   ]
  },
  {
   "cell_type": "code",
   "execution_count": null,
   "metadata": {
    "collapsed": true
   },
   "outputs": [],
   "source": [
    "import os, glob, json, csv, subprocess, sys, re, operator\n",
    "from git import *\n",
    "from subprocess import Popen, PIPE\n",
    "from os import path\n",
    "import pandas as pd\n",
    "import itertools"
   ]
  },
  {
   "cell_type": "markdown",
   "metadata": {},
   "source": [
    "# Defining repository and directories"
   ]
  },
  {
   "cell_type": "code",
   "execution_count": null,
   "metadata": {
    "collapsed": true
   },
   "outputs": [],
   "source": [
    "userhome = os.path.expanduser('~')\n",
    "repository = userhome + r'/different-diff/dataset/openjpa/'\n",
    "analyze_dir = userhome + r'/different-diff/analyze/analyze_openjpa/'"
   ]
  },
  {
   "cell_type": "markdown",
   "metadata": {},
   "source": [
    "# Defining function to execute git command"
   ]
  },
  {
   "cell_type": "code",
   "execution_count": null,
   "metadata": {
    "collapsed": true
   },
   "outputs": [],
   "source": [
    "def execute_command(cmd, work_dir):\n",
    "   #Executes a shell command in a subprocess, waiting until it has completed.\n",
    "    pipe = subprocess.Popen(cmd, shell=True, cwd=work_dir, stdout=subprocess.PIPE, stderr=subprocess.PIPE)\n",
    "    (out, error) = pipe.communicate()\n",
    "    return out, error\n",
    "    pipe.wait()"
   ]
  },
  {
   "cell_type": "markdown",
   "metadata": {},
   "source": [
    "# Loading the datasets"
   ]
  },
  {
   "cell_type": "markdown",
   "metadata": {},
   "source": [
    "Specifying column names"
   ]
  },
  {
   "cell_type": "code",
   "execution_count": null,
   "metadata": {
    "collapsed": true
   },
   "outputs": [],
   "source": [
    "colnames = ['bug_id','bugintro_commitID','parent_id','filepath','filename','number_of_buggyline']"
   ]
  },
  {
   "cell_type": "code",
   "execution_count": null,
   "metadata": {
    "collapsed": true
   },
   "outputs": [],
   "source": [
    "diffbugs_hist = pd.read_csv(analyze_dir + '03_file-diff/03_number_of_files/histogram_total_bugline.csv')\n",
    "diffbugs_hist = diffbugs_hist[colnames]\n",
    "diffbugs_min = pd.read_csv(analyze_dir + '03_file-diff/03_number_of_files/minimal_total_bugline.csv')\n",
    "diffbugs_min = diffbugs_min[colnames]\n",
    "diffbugs_myers = pd.read_csv(analyze_dir + '03_file-diff/03_number_of_files/myers_total_bugline.csv')\n",
    "diffbugs_myers = diffbugs_myers[colnames]\n",
    "diffbugs_pat = pd.read_csv(analyze_dir + '03_file-diff/03_number_of_files/patience_total_bugline.csv')\n",
    "diffbugs_pat = diffbugs_pat[colnames]"
   ]
  },
  {
   "cell_type": "code",
   "execution_count": null,
   "metadata": {},
   "outputs": [],
   "source": [
    "diffbugs_hist"
   ]
  },
  {
   "cell_type": "code",
   "execution_count": null,
   "metadata": {},
   "outputs": [],
   "source": [
    "diffbugs_hist.iloc[571][3]"
   ]
  },
  {
   "cell_type": "markdown",
   "metadata": {},
   "source": [
    "# Applying \"git blame\" for files"
   ]
  },
  {
   "cell_type": "markdown",
   "metadata": {},
   "source": [
    "Define pattern"
   ]
  },
  {
   "cell_type": "code",
   "execution_count": null,
   "metadata": {
    "collapsed": true
   },
   "outputs": [],
   "source": [
    "pattern1 = re.compile(r'(?P<commit_id>[\\^]\\w+|\\w+)\\s+(?P<filename>[^\\s]+)\\s+\\((?P<committer>.*?)\\s+(?P<date>\\d{4}-\\d\\d-\\d\\d)\\s+(?P<time>\\d\\d:\\d\\d:\\d\\d).*?(?P<line_number>\\b\\d+\\b)\\)\\s(?P<code>.*)')\n",
    "pattern2 = re.compile(r'(?P<commit_id>[\\^]\\w+|\\w+)\\s+\\((?P<committer>.*?)\\s+(?P<date>\\d{4}-\\d\\d-\\d\\d)\\s+(?P<time>\\d\\d:\\d\\d:\\d\\d).*?(?P<line_number>\\b\\d+\\b)\\)\\s(?P<code>.*)')"
   ]
  },
  {
   "cell_type": "markdown",
   "metadata": {},
   "source": [
    "Define header of table"
   ]
  },
  {
   "cell_type": "code",
   "execution_count": null,
   "metadata": {
    "collapsed": true
   },
   "outputs": [],
   "source": [
    "header1 = ['commit_id', 'filename', 'committer', 'date', 'time', 'line_number', 'code']\n",
    "header2 = ['commit_id', 'committer', 'date', 'time', 'line_number', 'code']"
   ]
  },
  {
   "cell_type": "code",
   "execution_count": null,
   "metadata": {
    "collapsed": true
   },
   "outputs": [],
   "source": [
    "#Define directory\n",
    "blame_dirs = analyze_dir + '04_annotate/01_blame_files/'"
   ]
  },
  {
   "cell_type": "markdown",
   "metadata": {},
   "source": [
    "# Annotating files for histogram"
   ]
  },
  {
   "cell_type": "code",
   "execution_count": null,
   "metadata": {},
   "outputs": [],
   "source": [
    "diffbugs_hist.iloc[0]"
   ]
  },
  {
   "cell_type": "code",
   "execution_count": null,
   "metadata": {},
   "outputs": [],
   "source": [
    "diffbugs_hist.iloc[0][2][:10]"
   ]
  },
  {
   "cell_type": "code",
   "execution_count": null,
   "metadata": {},
   "outputs": [],
   "source": [
    "diffbugs_hist.iloc[0][3]"
   ]
  },
  {
   "cell_type": "code",
   "execution_count": null,
   "metadata": {},
   "outputs": [],
   "source": [
    "cc = 0\n",
    "fname = diffbugs_hist.iloc[cc][4] + \"_\" + diffbugs_hist.iloc[cc][1] + \"-\" + diffbugs_hist.iloc[cc][2][:10] + \"_\" + diffbugs_hist.iloc[cc][0]\n",
    "fname"
   ]
  },
  {
   "cell_type": "code",
   "execution_count": null,
   "metadata": {
    "scrolled": true
   },
   "outputs": [],
   "source": [
    "errorfile_hist = []\n",
    "for cc in range(0, len(diffbugs_hist)):\n",
    "    sys.stdout.write(\"\\rApplying git blame: %i\" % (cc+1) + \" / %i\" % (len(diffbugs_hist)))\n",
    "    sys.stdout.flush()\n",
    "    \n",
    "    data = diffbugs_hist.iloc[cc]\n",
    "    \n",
    "    parent = data[2]\n",
    "    filepath = data[3]\n",
    "    \n",
    "    bugid = data[0]\n",
    "    introcid = data[1]\n",
    "    fn = data[4]\n",
    "    bugnum = data[5]\n",
    "    fname = data[4] + \"_\" + data[1] + \"-\" + data[2][:10] + \"_\" + data[0] \n",
    "    \n",
    "    blametxt = analyze_dir + '04_annotate/01_blame_files/blame_histogram/txt/blame_' + fname + '_' + str(cc+1) + '.txt'\n",
    "    \n",
    "    #checkout parentID and applying git blame\n",
    "    checkout = \"git checkout -f \" + parent\n",
    "    blame = \"git blame \" + filepath + \" > \" + blametxt\n",
    "    \n",
    "    execute_command(checkout, repository)\n",
    "    execute_command(blame, repository)\n",
    "    \n",
    "    b = open(blametxt, encoding=\"utf8\", errors='ignore')\n",
    "    c = b.read().split('\\n')\n",
    "\n",
    "    name = analyze_dir + '04_annotate/01_blame_files/blame_histogram/csv/blame_' + fname + '_' + str(cc+1) + '.csv'\n",
    "    with open(name, 'w', newline='') as f:\n",
    "        writer = csv.writer(f)\n",
    "        try:\n",
    "            try:\n",
    "                pattern1.match(c[0]).groups()\n",
    "                writer.writerow(header1)\n",
    "                for line in c:\n",
    "                    writer.writerow(pattern1.match(line).groups())\n",
    "            except:\n",
    "                pattern2.match(c[0]).groups()\n",
    "                writer.writerow(header2)\n",
    "                for line in c:\n",
    "                    writer.writerow(pattern2.match(line).groups())\n",
    "        except:\n",
    "            if os.stat(blametxt).st_size == 0:\n",
    "                writer.writerow(header1)\n",
    "                tmp = [bugid, introcid, parent, fn, filepath, fname + '_' + str(cc+1), bugnum]\n",
    "                errorfile_hist.append(tmp)\n",
    "                print (' : ' + fname + '_' + str(cc+1) + ' --> file not found')\n",
    "            pass\n",
    "\n",
    "#exit from checkout\n",
    "excheck = \"git checkout -f origin\"\n",
    "execute_command(excheck, repository)\n",
    "print (\"\\n'git blame' implementation is complete\")"
   ]
  },
  {
   "cell_type": "code",
   "execution_count": null,
   "metadata": {
    "collapsed": true
   },
   "outputs": [],
   "source": [
    "#Save error file into CSV file\n",
    "with open(analyze_dir + '04_annotate/01_blame_files/blame_histogram/error_files_histogram.csv','w') as errorfile:\n",
    "    header = ['bug_id','bugintro_commitID','parent_id','filename','filepath','f_name_alias','number_of_buggyline']\n",
    "    writers = csv.writer(errorfile)\n",
    "    writers.writerow(header)\n",
    "    for file in errorfile_hist:\n",
    "        writers.writerow(file)"
   ]
  },
  {
   "cell_type": "markdown",
   "metadata": {},
   "source": [
    "# Annotating files for minimal"
   ]
  },
  {
   "cell_type": "code",
   "execution_count": null,
   "metadata": {
    "scrolled": true
   },
   "outputs": [],
   "source": [
    "errorfile_min = []\n",
    "for cc in range(0, len(diffbugs_min)):\n",
    "    sys.stdout.write(\"\\rApplying git blame: %i\" % (cc+1) + \" / %i\" % (len(diffbugs_min)))\n",
    "    sys.stdout.flush()\n",
    "    \n",
    "    data = diffbugs_min.iloc[cc]\n",
    "    \n",
    "    parent = data[2]\n",
    "    filepath = data[3]\n",
    "    \n",
    "    bugid = data[0]\n",
    "    introcid = data[1]\n",
    "    fn = data[4]\n",
    "    bugnum = data[5]\n",
    "    fname = data[4] + \"_\" + data[1] + \"-\" + data[2][:10] + \"_\" + data[0] \n",
    "    \n",
    "    blametxt = analyze_dir + '04_annotate/01_blame_files/blame_minimal/txt/blame_' + fname + '_' + str(cc+1) + '.txt'\n",
    "    \n",
    "    #checkout parentID and applying git blame\n",
    "    checkout = \"git checkout -f \" + parent\n",
    "    blame = \"git blame \" + filepath + \" > \" + blametxt\n",
    "    \n",
    "    execute_command(checkout, repository)\n",
    "    execute_command(blame, repository)\n",
    "    \n",
    "    b = open(blametxt, encoding=\"utf8\", errors='ignore')\n",
    "    c = b.read().split('\\n')\n",
    "\n",
    "    name = analyze_dir + '04_annotate/01_blame_files/blame_minimal/csv/blame_' + fname + '_' + str(cc+1) + '.csv'\n",
    "    with open(name, 'w', newline='') as f:\n",
    "        writer = csv.writer(f)\n",
    "        try:\n",
    "            try:\n",
    "                pattern1.match(c[0]).groups()\n",
    "                writer.writerow(header1)\n",
    "                for line in c:\n",
    "                    writer.writerow(pattern1.match(line).groups())\n",
    "            except:\n",
    "                pattern2.match(c[0]).groups()\n",
    "                writer.writerow(header2)\n",
    "                for line in c:\n",
    "                    writer.writerow(pattern2.match(line).groups())\n",
    "        except:\n",
    "            if os.stat(blametxt).st_size == 0:\n",
    "                writer.writerow(header1)\n",
    "                tmp = [bugid, introcid, parent, fn, filepath, fname + '_' + str(cc+1), bugnum]\n",
    "                errorfile_min.append(tmp)\n",
    "                print (' : ' + fname + '_' + str(cc+1) + ' --> file not found')\n",
    "            pass\n",
    "\n",
    "#exit from checkout\n",
    "excheck = \"git checkout -f origin\"\n",
    "execute_command(excheck, repository)\n",
    "print (\"\\n'git blame' implementation is complete\")"
   ]
  },
  {
   "cell_type": "code",
   "execution_count": null,
   "metadata": {
    "collapsed": true
   },
   "outputs": [],
   "source": [
    "#Save error file into CSV file\n",
    "with open(analyze_dir + '04_annotate/01_blame_files/blame_minimal/error_files_minimal.csv','w') as errorfile:\n",
    "    header = ['bug_id','bugintro_commitID','parent_id','filename','filepath','f_name_alias','number_of_buggyline']\n",
    "    writers = csv.writer(errorfile)\n",
    "    writers.writerow(header)\n",
    "    for file in errorfile_min:\n",
    "        writers.writerow(file)"
   ]
  },
  {
   "cell_type": "markdown",
   "metadata": {},
   "source": [
    "# Annotating files for myers"
   ]
  },
  {
   "cell_type": "code",
   "execution_count": null,
   "metadata": {
    "scrolled": true
   },
   "outputs": [],
   "source": [
    "errorfile_myers = []\n",
    "for cc in range(0, len(diffbugs_myers)):\n",
    "    sys.stdout.write(\"\\rApplying git blame: %i\" % (cc+1) + \" / %i\" % (len(diffbugs_myers)))\n",
    "    sys.stdout.flush()\n",
    "    \n",
    "    data = diffbugs_myers.iloc[cc]\n",
    "    \n",
    "    parent = data[2]\n",
    "    filepath = data[3]\n",
    "    \n",
    "    bugid = data[0]\n",
    "    introcid = data[1]\n",
    "    fn = data[4]\n",
    "    bugnum = data[5]\n",
    "    fname = data[4] + \"_\" + data[1] + \"-\" + data[2][:10] + \"_\" + data[0] \n",
    "    \n",
    "    blametxt = analyze_dir + '04_annotate/01_blame_files/blame_myers/txt/blame_' + fname + '_' + str(cc+1) + '.txt'\n",
    "    \n",
    "    #checkout parentID and applying git blame\n",
    "    checkout = \"git checkout -f \" + parent\n",
    "    blame = \"git blame \" + filepath + \" > \" + blametxt\n",
    "    \n",
    "    execute_command(checkout, repository)\n",
    "    execute_command(blame, repository)\n",
    "    \n",
    "    b = open(blametxt, encoding=\"utf8\", errors='ignore')\n",
    "    c = b.read().split('\\n')\n",
    "\n",
    "    name = analyze_dir + '04_annotate/01_blame_files/blame_myers/csv/blame_' + fname + '_' + str(cc+1) + '.csv'\n",
    "    with open(name, 'w', newline='') as f:\n",
    "        writer = csv.writer(f)\n",
    "        try:\n",
    "            try:\n",
    "                pattern1.match(c[0]).groups()\n",
    "                writer.writerow(header1)\n",
    "                for line in c:\n",
    "                    writer.writerow(pattern1.match(line).groups())\n",
    "            except:\n",
    "                pattern2.match(c[0]).groups()\n",
    "                writer.writerow(header2)\n",
    "                for line in c:\n",
    "                    writer.writerow(pattern2.match(line).groups())\n",
    "        except:\n",
    "            if os.stat(blametxt).st_size == 0:\n",
    "                writer.writerow(header1)\n",
    "                tmp = [bugid, introcid, parent, fn, filepath, fname + '_' + str(cc+1), bugnum]\n",
    "                errorfile_myers.append(tmp)\n",
    "                print (' : ' + fname + '_' + str(cc+1) + ' --> file not found')\n",
    "            pass\n",
    "\n",
    "#exit from checkout\n",
    "excheck = \"git checkout -f origin\"\n",
    "execute_command(excheck, repository)\n",
    "print (\"\\n'git blame' implementation is complete\")"
   ]
  },
  {
   "cell_type": "code",
   "execution_count": null,
   "metadata": {
    "collapsed": true
   },
   "outputs": [],
   "source": [
    "#Save error file into CSV file\n",
    "with open(analyze_dir + '04_annotate/01_blame_files/blame_myers/error_files_myers.csv','w') as errorfile:\n",
    "    header = ['bug_id','bugintro_commitID','parent_id','filename','filepath','f_name_alias','number_of_buggyline']\n",
    "    writers = csv.writer(errorfile)\n",
    "    writers.writerow(header)\n",
    "    for file in errorfile_myers:\n",
    "        writers.writerow(file)"
   ]
  },
  {
   "cell_type": "markdown",
   "metadata": {},
   "source": [
    "# Annotating files for patience"
   ]
  },
  {
   "cell_type": "code",
   "execution_count": null,
   "metadata": {
    "scrolled": true
   },
   "outputs": [],
   "source": [
    "errorfile_pat = []\n",
    "for cc in range(0, len(diffbugs_pat)):\n",
    "    sys.stdout.write(\"\\rApplying git blame: %i\" % (cc+1) + \" / %i\" % (len(diffbugs_pat)))\n",
    "    sys.stdout.flush()\n",
    "    \n",
    "    data = diffbugs_pat.iloc[cc]\n",
    "    \n",
    "    parent = data[2]\n",
    "    filepath = data[3]\n",
    "    \n",
    "    bugid = data[0]\n",
    "    introcid = data[1]\n",
    "    fn = data[4]\n",
    "    bugnum = data[5]\n",
    "    fname = data[4] + \"_\" + data[1] + \"-\" + data[2][:10] + \"_\" + data[0] \n",
    "    \n",
    "    blametxt = analyze_dir + '04_annotate/01_blame_files/blame_patience/txt/blame_' + fname + '_' + str(cc+1) + '.txt'\n",
    "    \n",
    "    #checkout parentID and applying git blame\n",
    "    checkout = \"git checkout -f \" + parent\n",
    "    blame = \"git blame \" + filepath + \" > \" + blametxt\n",
    "    \n",
    "    execute_command(checkout, repository)\n",
    "    execute_command(blame, repository)\n",
    "    \n",
    "    b = open(blametxt, encoding=\"utf8\", errors='ignore')\n",
    "    c = b.read().split('\\n')\n",
    "\n",
    "    name = analyze_dir + '04_annotate/01_blame_files/blame_patience/csv/blame_' + fname + '_' + str(cc+1) + '.csv'\n",
    "    with open(name, 'w', newline='') as f:\n",
    "        writer = csv.writer(f)\n",
    "        try:\n",
    "            try:\n",
    "                pattern1.match(c[0]).groups()\n",
    "                writer.writerow(header1)\n",
    "                for line in c:\n",
    "                    writer.writerow(pattern1.match(line).groups())\n",
    "            except:\n",
    "                pattern2.match(c[0]).groups()\n",
    "                writer.writerow(header2)\n",
    "                for line in c:\n",
    "                    writer.writerow(pattern2.match(line).groups())\n",
    "        except:\n",
    "            if os.stat(blametxt).st_size == 0:\n",
    "                writer.writerow(header1)\n",
    "                tmp = [bugid, introcid, parent, fn, filepath, fname + '_' + str(cc+1), bugnum]\n",
    "                errorfile_pat.append(tmp)\n",
    "                print (' : ' + fname + '_' + str(cc+1) + ' --> file not found')\n",
    "            pass\n",
    "\n",
    "#exit from checkout\n",
    "excheck = \"git checkout -f origin\"\n",
    "execute_command(excheck, repository)\n",
    "print (\"\\n'git blame' implementation is complete\")"
   ]
  },
  {
   "cell_type": "code",
   "execution_count": null,
   "metadata": {
    "collapsed": true
   },
   "outputs": [],
   "source": [
    "#Save error file into CSV file\n",
    "with open(analyze_dir + '04_annotate/01_blame_files/blame_patience/error_files_patience.csv','w') as errorfile:\n",
    "    header = ['bug_id','bugintro_commitID','parent_id','filename','filepath','f_name_alias','number_of_buggyline']\n",
    "    writers = csv.writer(errorfile)\n",
    "    writers.writerow(header)\n",
    "    for file in errorfile_pat:\n",
    "        writers.writerow(file)"
   ]
  },
  {
   "cell_type": "markdown",
   "metadata": {},
   "source": [
    "# Delete the txt files from git blame process (unnecessary for next steps)"
   ]
  },
  {
   "cell_type": "code",
   "execution_count": null,
   "metadata": {},
   "outputs": [],
   "source": [
    "folder = ['blame_histogram','blame_minimal','blame_myers','blame_patience']\n",
    "for z, fold in enumerate(folder):\n",
    "    c = 1\n",
    "    for file in glob.iglob(analyze_dir + '04_annotate/01_blame_files/' + fold + '/txt/*', recursive=True):\n",
    "        sys.stdout.write('\\r%i ' %(z+1) + 'Deleting file: %i ' %c)\n",
    "        sys.stdout.flush()\n",
    "        c += 1\n",
    "        try:\n",
    "            os.remove(file)\n",
    "        except FileNotFoundError:\n",
    "            print (\"\\nError: %s\" % (file))\n",
    "print ('\\n')\n",
    "print ('Deleting files are complete')"
   ]
  },
  {
   "cell_type": "code",
   "execution_count": null,
   "metadata": {
    "collapsed": true
   },
   "outputs": [],
   "source": []
  }
 ],
 "metadata": {
  "kernelspec": {
   "display_name": "Python 3",
   "language": "python",
   "name": "python3"
  },
  "language_info": {
   "codemirror_mode": {
    "name": "ipython",
    "version": 3
   },
   "file_extension": ".py",
   "mimetype": "text/x-python",
   "name": "python",
   "nbconvert_exporter": "python",
   "pygments_lexer": "ipython3",
   "version": "3.6.3"
  }
 },
 "nbformat": 4,
 "nbformat_minor": 2
}
