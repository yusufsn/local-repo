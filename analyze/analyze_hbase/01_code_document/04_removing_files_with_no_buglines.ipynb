{
 "cells": [
  {
   "cell_type": "markdown",
   "metadata": {},
   "source": [
    "# Importing libraries"
   ]
  },
  {
   "cell_type": "code",
   "execution_count": null,
   "metadata": {
    "collapsed": true
   },
   "outputs": [],
   "source": [
    "import os, glob, json, csv, subprocess, sys, re\n",
    "from urllib.request import urlopen\n",
    "from itertools import chain\n",
    "import urllib.request\n",
    "from pprint import pprint\n",
    "from bs4 import BeautifulSoup\n",
    "from git import *\n",
    "from subprocess import Popen, PIPE\n",
    "from os import path\n",
    "from collections import Counter\n",
    "import pandas as pd\n",
    "import plotly.graph_objs as go\n",
    "import plotly\n",
    "from plotly.offline import plot, init_notebook_mode, iplot\n",
    "import itertools\n",
    "\n",
    "%matplotlib inline"
   ]
  },
  {
   "cell_type": "markdown",
   "metadata": {},
   "source": [
    "# Defining directories"
   ]
  },
  {
   "cell_type": "code",
   "execution_count": null,
   "metadata": {
    "collapsed": true
   },
   "outputs": [],
   "source": [
    "userhome = os.path.expanduser('~')\n",
    "repository = userhome + r'/different-diff/dataset/openjpa/'\n",
    "analyze_dir = userhome + r'/different-diff/analyze/analyze_openjpa/'"
   ]
  },
  {
   "cell_type": "markdown",
   "metadata": {},
   "source": [
    "# Defining git command function"
   ]
  },
  {
   "cell_type": "code",
   "execution_count": null,
   "metadata": {
    "collapsed": true
   },
   "outputs": [],
   "source": [
    "def execute_shell_command(buglink, id1, id2, cmd, work_dir):\n",
    "    #Executes a shell command in a subprocess, waiting until it has completed.\n",
    "    pipe = subprocess.Popen(cmd, shell=True, cwd=work_dir, stdout=subprocess.PIPE, stderr=subprocess.PIPE)\n",
    "    (out, error) = pipe.communicate()\n",
    "    return buglink, id1, id2, out, error\n",
    "    pipe.wait()"
   ]
  },
  {
   "cell_type": "markdown",
   "metadata": {},
   "source": [
    "# Load data from CSV file"
   ]
  },
  {
   "cell_type": "code",
   "execution_count": null,
   "metadata": {
    "collapsed": true
   },
   "outputs": [],
   "source": [
    "dfhist = pd.read_csv(analyze_dir + '03_file-diff/diffhist-bugs.csv')\n",
    "dfmin = pd.read_csv(analyze_dir + '03_file-diff/diffmin-bugs.csv')\n",
    "dfmyers = pd.read_csv(analyze_dir + '03_file-diff/diffmyers-bugs.csv')\n",
    "dfpat = pd.read_csv(analyze_dir + '03_file-diff/diffpat-bugs.csv')"
   ]
  },
  {
   "cell_type": "markdown",
   "metadata": {},
   "source": [
    "Defining columns"
   ]
  },
  {
   "cell_type": "code",
   "execution_count": null,
   "metadata": {
    "collapsed": true
   },
   "outputs": [],
   "source": [
    "cols = ['bug_id','bugintro_commitID','parent_id','#insertions','#deletions','filename','#line_changed']\n",
    "column = ['bug_id','bugintro_commitID','parent_id','filename','#deletions']"
   ]
  },
  {
   "cell_type": "markdown",
   "metadata": {},
   "source": [
    "# Removing files without buglines"
   ]
  },
  {
   "cell_type": "code",
   "execution_count": null,
   "metadata": {},
   "outputs": [],
   "source": [
    "dthist = dfhist[cols][dfhist[cols]['#deletions'] != 0]\n",
    "dtmin = dfmin[cols][dfmin[cols]['#deletions'] != 0]\n",
    "dtmyers = dfmyers[cols][dfmyers[cols]['#deletions'] != 0]\n",
    "dtpat = dfpat[cols][dfpat[cols]['#deletions'] != 0]\n",
    "dtpat"
   ]
  },
  {
   "cell_type": "code",
   "execution_count": null,
   "metadata": {},
   "outputs": [],
   "source": [
    "print (\"Number of data <histogram>: %i\" %(len(dthist)))\n",
    "print (\"Number of data <minimal>: %i\" %(len(dtmin)))\n",
    "print (\"Number of data <myers>: %i\" %(len(dtmyers)))\n",
    "print (\"Number of data <patience>: %i\" %(len(dtpat)))"
   ]
  },
  {
   "cell_type": "markdown",
   "metadata": {},
   "source": [
    "List of filename with deleted lines is saved into CSV file"
   ]
  },
  {
   "cell_type": "code",
   "execution_count": null,
   "metadata": {
    "collapsed": true
   },
   "outputs": [],
   "source": [
    "dt_algorithm = [dthist, dtmin, dtmyers, dtpat]\n",
    "algorithms = ['histogram','minimal','myers','patience']"
   ]
  },
  {
   "cell_type": "code",
   "execution_count": null,
   "metadata": {},
   "outputs": [],
   "source": [
    "for n, dt in enumerate(dt_algorithm):\n",
    "    d_alg = []\n",
    "    for c in range(0, len(dt)):\n",
    "        sys.stdout.write(\"\\rWriting data for algorithm {}, no: {} / {}\".format((n+1), (c+1), len(dt)))\n",
    "        sys.stdout.flush()\n",
    "        item = dt.iloc[c]\n",
    "        tem = [item[0],item[1],item[2],item[5],item[4]]\n",
    "        d_alg.append(tem)\n",
    "        \n",
    "    #save into CSV file:\n",
    "    with open(analyze_dir + '03_file-diff/01_filename/' + algorithms[n] + '_files.csv','w') as csvfile:\n",
    "        writers = csv.writer(csvfile, delimiter=\",\")\n",
    "        writers.writerow(column)\n",
    "        for zz in d_alg:\n",
    "            writers.writerow(zz)\n",
    "    print(\" ==> File '\" + algorithms[n] + \"_files.csv' has been created\")"
   ]
  },
  {
   "cell_type": "markdown",
   "metadata": {},
   "source": [
    "# Summarize total buglines for each algorithm"
   ]
  },
  {
   "cell_type": "code",
   "execution_count": null,
   "metadata": {},
   "outputs": [],
   "source": [
    "fname = pd.read_csv(analyze_dir + \"03_file-diff/01_filename/histogram_files.csv\")\n",
    "fname = fname[column]\n",
    "summ = fname['#deletions'].sum()\n",
    "summ"
   ]
  },
  {
   "cell_type": "code",
   "execution_count": null,
   "metadata": {},
   "outputs": [],
   "source": [
    "total_bugline = []\n",
    "n = 0\n",
    "for file in glob.iglob(analyze_dir + \"03_file-diff/01_filename/*\", recursive=True):\n",
    "    fname = pd.read_csv(file)\n",
    "    fname = fname[column]\n",
    "    sum_bugs = fname['#deletions'].sum()\n",
    "    file = re.search(\"\\/(\\w+)\\_files\", file)\n",
    "    file = file.groups()\n",
    "    temp = [file[0], sum_bugs]\n",
    "    total_bugline.append(temp)\n",
    "    n += 1\n",
    "total_bugline.sort()\n",
    "total_bugline"
   ]
  },
  {
   "cell_type": "code",
   "execution_count": null,
   "metadata": {},
   "outputs": [],
   "source": [
    "with open(analyze_dir + \"03_file-diff/01_filename/total_bugline.csv\",\"w\") as myfile:\n",
    "    cols = ['diff_algorithm','total_bugline']\n",
    "    writers = csv.writer(myfile, delimiter=\",\")\n",
    "    writers.writerow(cols)\n",
    "    for ss in total_bugline:\n",
    "        writers.writerow(ss)\n",
    "print (\"File 'total_bugline' has been created\")"
   ]
  },
  {
   "cell_type": "code",
   "execution_count": null,
   "metadata": {},
   "outputs": [],
   "source": [
    "dftotal = pd.read_csv(analyze_dir + \"03_file-diff/01_filename/total_bugline.csv\")\n",
    "dftotal = dftotal[cols]\n",
    "dftotal"
   ]
  },
  {
   "cell_type": "code",
   "execution_count": null,
   "metadata": {},
   "outputs": [],
   "source": [
    "graphtotal = go.Bar(\n",
    "    x = dftotal['diff_algorithm'],\n",
    "    y = dftotal['total_bugline'],\n",
    "    name = dftotal['diff_algorithm'],\n",
    "    text = dftotal['total_bugline'],\n",
    "    textposition = 'auto',\n",
    "    marker = dict(\n",
    "        color = 'rgb(150,255,200)',\n",
    "        line = dict(\n",
    "            color='rgb(8,48,107)',\n",
    "            width=1.5),\n",
    "    ),\n",
    "    opacity=0.6\n",
    ")\n",
    "\n",
    "dt = [graphtotal]\n",
    "layout = go.Layout(\n",
    "    title = \"Total number of bugline for each algorithm in OPENJPA Project\"\n",
    ")\n",
    "\n",
    "init_notebook_mode(connected=True)\n",
    "fig = go.Figure(data=dt, layout=layout)\n",
    "iplot(fig, show_link=False)"
   ]
  },
  {
   "cell_type": "code",
   "execution_count": null,
   "metadata": {
    "collapsed": true
   },
   "outputs": [],
   "source": []
  }
 ],
 "metadata": {
  "kernelspec": {
   "display_name": "Python 3",
   "language": "python",
   "name": "python3"
  },
  "language_info": {
   "codemirror_mode": {
    "name": "ipython",
    "version": 3
   },
   "file_extension": ".py",
   "mimetype": "text/x-python",
   "name": "python",
   "nbconvert_exporter": "python",
   "pygments_lexer": "ipython3",
   "version": "3.6.3"
  }
 },
 "nbformat": 4,
 "nbformat_minor": 2
}
