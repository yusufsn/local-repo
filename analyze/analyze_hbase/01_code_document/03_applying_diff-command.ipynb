{
 "cells": [
  {
   "cell_type": "markdown",
   "metadata": {},
   "source": [
    "# Importing libraries"
   ]
  },
  {
   "cell_type": "code",
   "execution_count": null,
   "metadata": {
    "collapsed": true
   },
   "outputs": [],
   "source": [
    "import os, glob, json, csv, subprocess, sys, re\n",
    "from urllib.request import urlopen\n",
    "from itertools import chain\n",
    "import urllib.request\n",
    "from pprint import pprint\n",
    "from bs4 import BeautifulSoup\n",
    "from git import *\n",
    "from subprocess import Popen, PIPE\n",
    "from os import path\n",
    "from collections import Counter\n",
    "import pandas as pd\n",
    "import itertools"
   ]
  },
  {
   "cell_type": "markdown",
   "metadata": {},
   "source": [
    "# Defining directories"
   ]
  },
  {
   "cell_type": "code",
   "execution_count": null,
   "metadata": {
    "collapsed": true
   },
   "outputs": [],
   "source": [
    "userhome = os.path.expanduser('~')\n",
    "repository = userhome + r'/different-diff/dataset/openjpa/'\n",
    "analyze_dir = userhome + r'/different-diff/analyze/analyze_openjpa/'"
   ]
  },
  {
   "cell_type": "markdown",
   "metadata": {},
   "source": [
    "# Defining git command function"
   ]
  },
  {
   "cell_type": "code",
   "execution_count": null,
   "metadata": {
    "collapsed": true
   },
   "outputs": [],
   "source": [
    "def execute_shell_command(buglink, id1, id2, cmd, work_dir):\n",
    "    #Executes a shell command in a subprocess, waiting until it has completed.\n",
    "    pipe = subprocess.Popen(cmd, shell=True, cwd=work_dir, stdout=subprocess.PIPE, stderr=subprocess.PIPE)\n",
    "    (out, error) = pipe.communicate()\n",
    "    return buglink, id1, id2, out, error\n",
    "    pipe.wait()"
   ]
  },
  {
   "cell_type": "markdown",
   "metadata": {},
   "source": [
    "# Loading file of commit id - parent id"
   ]
  },
  {
   "cell_type": "code",
   "execution_count": null,
   "metadata": {
    "scrolled": true
   },
   "outputs": [],
   "source": [
    "header = ['bug_id','bugintro_commitID','parent_id']\n",
    "parent_id = pd.read_csv(analyze_dir + '02_extracting_commitid/parentid_of_bugintro.csv')\n",
    "parent_id = parent_id[header]\n",
    "parent_id"
   ]
  },
  {
   "cell_type": "markdown",
   "metadata": {},
   "source": [
    "# Applying -w --ignore-blank-lines --diff-algorithm=histogram"
   ]
  },
  {
   "cell_type": "code",
   "execution_count": null,
   "metadata": {},
   "outputs": [],
   "source": [
    "diffhist = []\n",
    "for v in range(0, len(parent_id)):\n",
    "    sys.stdout.write('\\rExtracting parent id for commits: %i' %(v+1) + ' out of %i' %(len(parent_id)))\n",
    "    sys.stdout.flush()\n",
    "    w = parent_id.iloc[v]\n",
    "    diff_cmd = \"git diff -w --ignore-blank-lines --diff-algorithm=histogram \" + w[2] + \" \" + w[1] + \" --numstat\"\n",
    "    tmp = (str(execute_shell_command(w[0], w[1] , w[2], diff_cmd, repository)).replace(\"(\",'').\n",
    "               replace(\"+\",'').replace(\"\\\\n\",',').replace(\"(+)\",'').replace(\"(-)\",'').replace(\"\\\\t\",',').\n",
    "               replace(\")\",'').replace(\"|\",'').replace(\" \",\"\"))\n",
    "    tmp = re.sub(\"([a-z])\" and \"([ ])\", r\"\\1,\", tmp)\n",
    "    tmp2 = (str(tmp).replace(\",b'\",',').replace(\", \",'').replace(\"\\'\",'').replace(\",,\",''))\n",
    "    diffhist.append([str(tmp2)])\n",
    "    \n",
    "diffhistresult = []\n",
    "for item in diffhist:\n",
    "    if item == ', ':\n",
    "        del item\n",
    "    else:\n",
    "        diffhistresult.append(item)\n",
    "        \n",
    "print (\"\\nExtraction is complete\")"
   ]
  },
  {
   "cell_type": "code",
   "execution_count": null,
   "metadata": {
    "collapsed": true
   },
   "outputs": [],
   "source": [
    "klhist = []\n",
    "reshist = []\n",
    "for v in range(0,len(diffhistresult)):\n",
    "    for w in range(0,len(diffhistresult[v])):\n",
    "        klhist = diffhistresult[v][w].split(',')\n",
    "        reshist.append(klhist)"
   ]
  },
  {
   "cell_type": "code",
   "execution_count": null,
   "metadata": {},
   "outputs": [],
   "source": [
    "with open(analyze_dir + '03_file-diff/diffhist-bugs.csv', 'w') as csvfile:\n",
    "    header = ['bug_id','bugintro_commitID', 'parent_id', '#insertions','#deletions','filename','#line_changed']\n",
    "    writers = csv.writer(csvfile, delimiter=',')\n",
    "    writers.writerow(header)\n",
    "    for m in range(0,len(reshist)):\n",
    "        i = 3\n",
    "        j = 4\n",
    "        k = 5\n",
    "        for x in range(0,int((len(reshist[m])-3)/3)):\n",
    "            if (reshist[m][i]) == \"-\":\n",
    "                pass\n",
    "            else:\n",
    "                line_changed = int(reshist[m][i]) + int(reshist[m][j])\n",
    "                try:\n",
    "                    pattern = re.search(('({\\w.*=>|{=>)'), reshist[m][k])\n",
    "                    pattern = pattern.groups()[0]\n",
    "                    v = [reshist[m][0], reshist[m][1], reshist[m][2], reshist[m][i], reshist[m][j], reshist[m][k].replace(pattern,\"\").replace(\"}\",\"\"), str(line_changed)]\n",
    "                except:             \n",
    "                    v = [reshist[m][0], reshist[m][1], reshist[m][2], reshist[m][i], reshist[m][j], reshist[m][k], str(line_changed)]\n",
    "                writers.writerow(v)\n",
    "            i = i + 3\n",
    "            j = j + 3\n",
    "            k = k + 3\n",
    "            \n",
    "print (\"The file 'diffhist-bugs.csv' has been created\")"
   ]
  },
  {
   "cell_type": "markdown",
   "metadata": {},
   "source": [
    "# Applying -w --ignore-blank-lines --diff-algorithm=minimal"
   ]
  },
  {
   "cell_type": "code",
   "execution_count": null,
   "metadata": {},
   "outputs": [],
   "source": [
    "diffmin = []\n",
    "for v in range(0, len(parent_id)):\n",
    "    sys.stdout.write('\\rExtracting parent id for commits: %i' %(v+1) + ' out of %i' %(len(parent_id)))\n",
    "    sys.stdout.flush()\n",
    "    w = parent_id.iloc[v]\n",
    "    diff_cmd = \"git diff -w --ignore-blank-lines --diff-algorithm=minimal \" + w[2] + \" \" + w[1] + \" --numstat\"\n",
    "    tmp = (str(execute_shell_command(w[0], w[1] , w[2], diff_cmd, repository)).replace(\"(\",'').\n",
    "               replace(\"+\",'').replace(\"\\\\n\",',').replace(\"(+)\",'').replace(\"(-)\",'').replace(\"\\\\t\",',').\n",
    "               replace(\")\",'').replace(\"|\",'').replace(\" \",\"\"))\n",
    "    tmp = re.sub(\"([a-z])\" and \"([ ])\", r\"\\1,\", tmp)\n",
    "    tmp2 = (str(tmp).replace(\",b'\",',').replace(\", \",'').replace(\"\\'\",'').replace(\",,\",''))\n",
    "    diffmin.append([str(tmp2)])\n",
    "    \n",
    "diffminresult = []\n",
    "for item in diffmin:\n",
    "    if item == ', ':\n",
    "        del item\n",
    "    else:\n",
    "        diffminresult.append(item)\n",
    "        \n",
    "print (\"\\nExtraction is complete\")"
   ]
  },
  {
   "cell_type": "code",
   "execution_count": null,
   "metadata": {
    "collapsed": true
   },
   "outputs": [],
   "source": [
    "klmin = []\n",
    "resmin = []\n",
    "for v in range(0,len(diffminresult)):\n",
    "    for w in range(0,len(diffminresult[v])):\n",
    "        klmin = diffminresult[v][w].split(',')\n",
    "        resmin.append(klmin)"
   ]
  },
  {
   "cell_type": "code",
   "execution_count": null,
   "metadata": {},
   "outputs": [],
   "source": [
    "with open(analyze_dir + '03_file-diff/diffmin-bugs.csv', 'w') as csvfile:\n",
    "    header = ['bug_id','bugintro_commitID', 'parent_id', '#insertions','#deletions','filename','#line_changed']\n",
    "    writers = csv.writer(csvfile, delimiter=',')\n",
    "    writers.writerow(header)\n",
    "    for m in range(0,len(resmin)):\n",
    "        i = 3\n",
    "        j = 4\n",
    "        k = 5\n",
    "        for x in range(0,int((len(resmin[m])-3)/3)):\n",
    "            if (resmin[m][i]) == \"-\":\n",
    "                pass\n",
    "            else:\n",
    "                line_changed = int(resmin[m][i]) + int(resmin[m][j])\n",
    "                try:\n",
    "                    pattern = re.search(('({\\w.*=>|{=>)'), resmin[m][k])\n",
    "                    pattern = pattern.groups()[0]\n",
    "                    v = [resmin[m][0], resmin[m][1], resmin[m][2], resmin[m][i], resmin[m][j], resmin[m][k].replace(pattern,\"\").replace(\"}\",\"\"), str(line_changed)]\n",
    "                except:             \n",
    "                    v = [resmin[m][0], resmin[m][1], resmin[m][2], resmin[m][i], resmin[m][j], resmin[m][k], str(line_changed)]\n",
    "                writers.writerow(v)\n",
    "            i = i + 3\n",
    "            j = j + 3\n",
    "            k = k + 3\n",
    "            \n",
    "print (\"The file 'diffmin-bugs.csv' has been created\")"
   ]
  },
  {
   "cell_type": "markdown",
   "metadata": {},
   "source": [
    "# Applying -w --ignore-blank-lines --diff-algorithm=myers"
   ]
  },
  {
   "cell_type": "code",
   "execution_count": null,
   "metadata": {},
   "outputs": [],
   "source": [
    "diffmyers = []\n",
    "for v in range(0, len(parent_id)):\n",
    "    sys.stdout.write('\\rExtracting parent id for commits: %i' %(v+1) + ' out of %i' %(len(parent_id)))\n",
    "    sys.stdout.flush()\n",
    "    w = parent_id.iloc[v]\n",
    "    diff_cmd = \"git diff -w --ignore-blank-lines --diff-algorithm=myers \" + w[2] + \" \" + w[1] + \" --numstat\"\n",
    "    tmp = (str(execute_shell_command(w[0], w[1] , w[2], diff_cmd, repository)).replace(\"(\",'').\n",
    "               replace(\"+\",'').replace(\"\\\\n\",',').replace(\"(+)\",'').replace(\"(-)\",'').replace(\"\\\\t\",',').\n",
    "               replace(\")\",'').replace(\"|\",'').replace(\" \",\"\"))\n",
    "    tmp = re.sub(\"([a-z])\" and \"([ ])\", r\"\\1,\", tmp)\n",
    "    tmp2 = (str(tmp).replace(\",b'\",',').replace(\", \",'').replace(\"\\'\",'').replace(\",,\",''))\n",
    "    diffmyers.append([str(tmp2)])\n",
    "    \n",
    "diffmyersresult = []\n",
    "for item in diffmyers:\n",
    "    if item == ', ':\n",
    "        del item\n",
    "    else:\n",
    "        diffmyersresult.append(item)\n",
    "        \n",
    "print (\"\\nExtraction is complete\")"
   ]
  },
  {
   "cell_type": "code",
   "execution_count": null,
   "metadata": {
    "collapsed": true
   },
   "outputs": [],
   "source": [
    "klmyers = []\n",
    "resmyers = []\n",
    "for v in range(0,len(diffmyersresult)):\n",
    "    for w in range(0,len(diffmyersresult[v])):\n",
    "        klmyers = diffmyersresult[v][w].split(',')\n",
    "        resmyers.append(klmyers)"
   ]
  },
  {
   "cell_type": "code",
   "execution_count": null,
   "metadata": {},
   "outputs": [],
   "source": [
    "with open(analyze_dir + '03_file-diff/diffmyers-bugs.csv', 'w') as csvfile:\n",
    "    header = ['bug_id','bugintro_commitID', 'parent_id', '#insertions','#deletions','filename','#line_changed']\n",
    "    writers = csv.writer(csvfile, delimiter=',')\n",
    "    writers.writerow(header)\n",
    "    for m in range(0,len(resmyers)):\n",
    "        i = 3\n",
    "        j = 4\n",
    "        k = 5\n",
    "        for x in range(0,int((len(resmyers[m])-3)/3)):\n",
    "            if (resmyers[m][i]) == \"-\":\n",
    "                pass\n",
    "            else:\n",
    "                line_changed = int(resmyers[m][i]) + int(resmyers[m][j])\n",
    "                try:\n",
    "                    pattern = re.search(('({\\w.*=>|{=>)'), resmyers[m][k])\n",
    "                    pattern = pattern.groups()[0]\n",
    "                    v = [resmyers[m][0], resmyers[m][1], resmyers[m][2], resmyers[m][i], resmyers[m][j], resmyers[m][k].replace(pattern,\"\").replace(\"}\",\"\"), str(line_changed)]\n",
    "                except:             \n",
    "                    v = [resmyers[m][0], resmyers[m][1], resmyers[m][2], resmyers[m][i], resmyers[m][j], resmyers[m][k], str(line_changed)]\n",
    "                writers.writerow(v)\n",
    "            i = i + 3\n",
    "            j = j + 3\n",
    "            k = k + 3\n",
    "            \n",
    "print (\"The file 'diffmyers-bugs.csv' has been created\")"
   ]
  },
  {
   "cell_type": "markdown",
   "metadata": {},
   "source": [
    "# Applying -w --ignore-blank-lines --diff-algorithm=patience"
   ]
  },
  {
   "cell_type": "code",
   "execution_count": null,
   "metadata": {},
   "outputs": [],
   "source": [
    "diffpat = []\n",
    "for v in range(0, len(parent_id)):\n",
    "    sys.stdout.write('\\rExtracting parent id for commits: %i' %(v+1) + ' out of %i' %(len(parent_id)))\n",
    "    sys.stdout.flush()\n",
    "    w = parent_id.iloc[v]\n",
    "    diff_cmd = \"git diff -w --ignore-blank-lines --diff-algorithm=patience \" + w[2] + \" \" + w[1] + \" --numstat\"\n",
    "    tmp = (str(execute_shell_command(w[0], w[1] , w[2], diff_cmd, repository)).replace(\"(\",'').\n",
    "               replace(\"+\",'').replace(\"\\\\n\",',').replace(\"(+)\",'').replace(\"(-)\",'').replace(\"\\\\t\",',').\n",
    "               replace(\")\",'').replace(\"|\",'').replace(\" \",\"\"))\n",
    "    tmp = re.sub(\"([a-z])\" and \"([ ])\", r\"\\1,\", tmp)\n",
    "    tmp2 = (str(tmp).replace(\",b'\",',').replace(\", \",'').replace(\"\\'\",'').replace(\",,\",''))\n",
    "    diffpat.append([str(tmp2)])\n",
    "    \n",
    "diffpatresult = []\n",
    "for item in diffpat:\n",
    "    if item == ', ':\n",
    "        del item\n",
    "    else:\n",
    "        diffpatresult.append(item)\n",
    "        \n",
    "print (\"\\nExtraction is complete\")"
   ]
  },
  {
   "cell_type": "code",
   "execution_count": null,
   "metadata": {
    "collapsed": true
   },
   "outputs": [],
   "source": [
    "klpat = []\n",
    "respat = []\n",
    "for v in range(0,len(diffpatresult)):\n",
    "    for w in range(0,len(diffpatresult[v])):\n",
    "        klpat = diffpatresult[v][w].split(',')\n",
    "        respat.append(klpat)"
   ]
  },
  {
   "cell_type": "code",
   "execution_count": null,
   "metadata": {},
   "outputs": [],
   "source": [
    "with open(analyze_dir + '03_file-diff/diffpat-bugs.csv', 'w') as csvfile:\n",
    "    header = ['bug_id','bugintro_commitID', 'parent_id', '#insertions','#deletions','filename','#line_changed']\n",
    "    writers = csv.writer(csvfile, delimiter=',')\n",
    "    writers.writerow(header)\n",
    "    for m in range(0,len(respat)):\n",
    "        i = 3\n",
    "        j = 4\n",
    "        k = 5\n",
    "        for x in range(0,int((len(respat[m])-3)/3)):\n",
    "            if (respat[m][i]) == \"-\":\n",
    "                pass\n",
    "            else:\n",
    "                line_changed = int(respat[m][i]) + int(respat[m][j])\n",
    "                try:\n",
    "                    pattern = re.search(('({\\w.*=>|{=>)'), respat[m][k])\n",
    "                    pattern = pattern.groups()[0]\n",
    "                    v = [respat[m][0], respat[m][1], respat[m][2], respat[m][i], respat[m][j], respat[m][k].replace(pattern,\"\").replace(\"}\",\"\"), str(line_changed)]\n",
    "                except:             \n",
    "                    v = [respat[m][0], respat[m][1], respat[m][2], respat[m][i], respat[m][j], respat[m][k], str(line_changed)]\n",
    "                writers.writerow(v)\n",
    "            i = i + 3\n",
    "            j = j + 3\n",
    "            k = k + 3\n",
    "            \n",
    "print (\"The file 'diffpat-bugs.csv' has been created\")"
   ]
  },
  {
   "cell_type": "code",
   "execution_count": null,
   "metadata": {
    "collapsed": true
   },
   "outputs": [],
   "source": []
  }
 ],
 "metadata": {
  "kernelspec": {
   "display_name": "Python 3",
   "language": "python",
   "name": "python3"
  },
  "language_info": {
   "codemirror_mode": {
    "name": "ipython",
    "version": 3
   },
   "file_extension": ".py",
   "mimetype": "text/x-python",
   "name": "python",
   "nbconvert_exporter": "python",
   "pygments_lexer": "ipython3",
   "version": "3.6.3"
  }
 },
 "nbformat": 4,
 "nbformat_minor": 2
}
