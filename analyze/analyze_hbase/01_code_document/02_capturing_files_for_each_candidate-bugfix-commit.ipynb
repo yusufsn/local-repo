{
 "cells": [
  {
   "cell_type": "markdown",
   "metadata": {},
   "source": [
    "# Importing libraries"
   ]
  },
  {
   "cell_type": "code",
   "execution_count": null,
   "metadata": {
    "collapsed": true
   },
   "outputs": [],
   "source": [
    "import os, glob, json, csv, subprocess, sys, re\n",
    "from urllib.request import urlopen\n",
    "from itertools import chain\n",
    "import urllib.request\n",
    "from pprint import pprint\n",
    "from bs4 import BeautifulSoup\n",
    "from git import *\n",
    "from subprocess import Popen, PIPE\n",
    "from os import path\n",
    "from collections import Counter\n",
    "import pandas as pd\n",
    "import itertools"
   ]
  },
  {
   "cell_type": "markdown",
   "metadata": {},
   "source": [
    "# Defining directories"
   ]
  },
  {
   "cell_type": "code",
   "execution_count": null,
   "metadata": {
    "collapsed": true
   },
   "outputs": [],
   "source": [
    "userhome = os.path.expanduser('~')\n",
    "repository = userhome + r'/different-diff/dataset/openjpa/'\n",
    "analyze_dir = userhome + r'/different-diff/analyze/analyze_openjpa/'"
   ]
  },
  {
   "cell_type": "markdown",
   "metadata": {},
   "source": [
    "# Defining git command function"
   ]
  },
  {
   "cell_type": "code",
   "execution_count": null,
   "metadata": {
    "collapsed": true
   },
   "outputs": [],
   "source": [
    "def execute_command(cmd, work_dir):\n",
    "    #Executes a shell command in a subprocess, waiting until it has completed.\n",
    "    pipe = subprocess.Popen(cmd, shell=True, cwd=work_dir, stdout=subprocess.PIPE, stderr=subprocess.PIPE)\n",
    "    (out, error) = pipe.communicate()\n",
    "    return out, error\n",
    "    pipe.wait()"
   ]
  },
  {
   "cell_type": "markdown",
   "metadata": {},
   "source": [
    "# Loading candidate bug-fix commit id"
   ]
  },
  {
   "cell_type": "code",
   "execution_count": null,
   "metadata": {
    "scrolled": true
   },
   "outputs": [],
   "source": [
    "col = ['bug_id','candidate_bugfix_commitID']\n",
    "bf_cid = pd.read_csv(analyze_dir + '02_extracting_commitid/commitid_of_candidatebugfix.csv')\n",
    "bf_cid = bf_cid[col]\n",
    "bf_cid"
   ]
  },
  {
   "cell_type": "markdown",
   "metadata": {},
   "source": [
    "# Extracting files in each candidate bugfix_commitID"
   ]
  },
  {
   "cell_type": "code",
   "execution_count": null,
   "metadata": {},
   "outputs": [],
   "source": [
    "len(bf_cid)"
   ]
  },
  {
   "cell_type": "markdown",
   "metadata": {},
   "source": [
    "Extracting the filename in each candidate bug-fix commit id"
   ]
  },
  {
   "cell_type": "code",
   "execution_count": null,
   "metadata": {},
   "outputs": [],
   "source": [
    "file_list = []\n",
    "for el in range(0,len(bf_cid)):\n",
    "    sys.stdout.write(\"\\rExtracting bugfix_commitID: {} / {}\".format((el+1),len(bf_cid)))\n",
    "    sys.stdout.flush()\n",
    "    cmd = \"git show --pretty='' --name-only \" + bf_cid.iloc[el][1]\n",
    "    temp = str(execute_command(cmd, repository)).replace(\"(b'\",\"\").split(\"\\\\n\")[:-1]\n",
    "    for l, li in enumerate(temp):\n",
    "        tmp = [bf_cid.iloc[el][0], bf_cid.iloc[el][1], li]\n",
    "        file_list.append(tmp)\n",
    "file_list"
   ]
  },
  {
   "cell_type": "markdown",
   "metadata": {},
   "source": [
    "Saving into CSV file"
   ]
  },
  {
   "cell_type": "code",
   "execution_count": null,
   "metadata": {},
   "outputs": [],
   "source": [
    "with open(analyze_dir + \"02_extracting_commitid/file_in_candidatebugfix_commitid.csv\", \"w\") as csvfile:\n",
    "    fields = ['bug_id', 'candidate_commitID', 'filename']\n",
    "    writers = csv.writer(csvfile, delimiter = \",\")\n",
    "    writers.writerow(fields)\n",
    "    for item in file_list:\n",
    "        writers.writerow(item)\n",
    "print(\"File file_in_candidatebugfix_commitid.csv has been created\")"
   ]
  },
  {
   "cell_type": "markdown",
   "metadata": {},
   "source": [
    "Extracting the number of files in each candidate bug-fix commit id"
   ]
  },
  {
   "cell_type": "code",
   "execution_count": null,
   "metadata": {},
   "outputs": [],
   "source": [
    "file_num = []\n",
    "for el in range(0,len(bf_cid)):\n",
    "    sys.stdout.write(\"\\rExtracting bugfix_commitID: {} / {}\".format((el+1),len(bf_cid)))\n",
    "    sys.stdout.flush()\n",
    "    cmd = \"git show --pretty='' --name-only \" + bf_cid.iloc[el][1] + \" | wc -l\"\n",
    "    temp = str(execute_command(cmd, repository)).replace(\"(b'\",\"\").replace(\" \",\"\").split(\"\\\\n\")[:-1]\n",
    "    for l, li in enumerate(temp):\n",
    "        num = [bf_cid.iloc[el][0], bf_cid.iloc[el][1], li]\n",
    "        file_num.append(num)\n",
    "file_num"
   ]
  },
  {
   "cell_type": "code",
   "execution_count": null,
   "metadata": {},
   "outputs": [],
   "source": [
    "with open(analyze_dir + \"02_extracting_commitid/numberof_file_in_candidatebugfix_commitid.csv\", \"w\") as csvfile:\n",
    "    fields = ['bug_id', 'candidate_bugfix_commitID', 'number_of_files']\n",
    "    writers = csv.writer(csvfile, delimiter = \",\")\n",
    "    writers.writerow(fields)\n",
    "    for n in file_num:\n",
    "        writers.writerow(n)\n",
    "print(\"File numberof_file_in_candidatebugfix_commitid.csv has been created\")"
   ]
  },
  {
   "cell_type": "code",
   "execution_count": null,
   "metadata": {
    "scrolled": true
   },
   "outputs": [],
   "source": [
    "df_filenum = pd.read_csv(analyze_dir + \"02_extracting_commitid/numberof_file_in_candidatebugfix_commitid.csv\")\n",
    "df_filenum = df_filenum[fields]\n",
    "df_filenum"
   ]
  },
  {
   "cell_type": "code",
   "execution_count": null,
   "metadata": {},
   "outputs": [],
   "source": [
    "summ = 0\n",
    "for z in range(0, len(df_filenum)):\n",
    "    summ = summ + df_filenum.iloc[z][2]\n",
    "print (\"Total number of files for all candidate bug-fix commit id: %i\" %summ)"
   ]
  },
  {
   "cell_type": "code",
   "execution_count": null,
   "metadata": {
    "collapsed": true
   },
   "outputs": [],
   "source": []
  }
 ],
 "metadata": {
  "kernelspec": {
   "display_name": "Python 3",
   "language": "python",
   "name": "python3"
  },
  "language_info": {
   "codemirror_mode": {
    "name": "ipython",
    "version": 3
   },
   "file_extension": ".py",
   "mimetype": "text/x-python",
   "name": "python",
   "nbconvert_exporter": "python",
   "pygments_lexer": "ipython3",
   "version": "3.6.3"
  }
 },
 "nbformat": 4,
 "nbformat_minor": 2
}
