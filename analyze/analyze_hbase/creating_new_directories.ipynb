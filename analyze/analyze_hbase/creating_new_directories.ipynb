{
 "cells": [
  {
   "cell_type": "code",
   "execution_count": null,
   "metadata": {
    "collapsed": true
   },
   "outputs": [],
   "source": [
    "import os"
   ]
  },
  {
   "cell_type": "code",
   "execution_count": null,
   "metadata": {
    "collapsed": true
   },
   "outputs": [],
   "source": [
    "userhome = os.path.expanduser('~')\n",
    "analyze_dir = userhome + r\"/different-diff/analyze/analyze_openjpa/\""
   ]
  },
  {
   "cell_type": "code",
   "execution_count": null,
   "metadata": {
    "collapsed": true
   },
   "outputs": [],
   "source": [
    "dirs = ['01_code_document/',\n",
    "        '01_code_document/txt_files/',\n",
    "        '02_extracting_commitid/',\n",
    "        '03_file-diff/',\n",
    "        '03_file-diff/01_filename/',\n",
    "        '03_file-diff/02_buggylines/',\n",
    "        '03_file-diff/02_buggylines/histogram/',\n",
    "        '03_file-diff/02_buggylines/minimal/',\n",
    "        '03_file-diff/02_buggylines/myers/',\n",
    "        '03_file-diff/02_buggylines/patience/',\n",
    "        '03_file-diff/03_number_of_files/',\n",
    "        '03_file-diff/03_number_of_files/01_files_with_buglines/',\n",
    "        '04_annotate/',\n",
    "        '04_annotate/01_blame_files/',\n",
    "        '04_annotate/01_blame_files/blame_histogram/',\n",
    "        '04_annotate/01_blame_files/blame_histogram/csv/',\n",
    "        '04_annotate/01_blame_files/blame_histogram/txt/',\n",
    "        '04_annotate/01_blame_files/blame_minimal/',\n",
    "        '04_annotate/01_blame_files/blame_minimal/csv/',\n",
    "        '04_annotate/01_blame_files/blame_minimal/txt/',\n",
    "        '04_annotate/01_blame_files/blame_myers/',\n",
    "        '04_annotate/01_blame_files/blame_myers/csv/',\n",
    "        '04_annotate/01_blame_files/blame_myers/txt/',\n",
    "        '04_annotate/01_blame_files/blame_patience/',\n",
    "        '04_annotate/01_blame_files/blame_patience/csv/',\n",
    "        '04_annotate/01_blame_files/blame_patience/txt/',\n",
    "        '04_annotate/02_diff-file_blame-file_comparison/',\n",
    "        '04_annotate/02_diff-file_blame-file_comparison/histogram_comparison/',\n",
    "        '04_annotate/02_diff-file_blame-file_comparison/minimal_comparison/',\n",
    "        '04_annotate/02_diff-file_blame-file_comparison/myers_comparison/',\n",
    "        '04_annotate/02_diff-file_blame-file_comparison/patience_comparison/',\n",
    "        '04_annotate/03_disagreement_ratio/',\n",
    "        '04_annotate/04_grouping_affected_non-affected_files/',\n",
    "        '04_annotate/05_matching_affectedfiles/',\n",
    "        '05_finding_versions/',\n",
    "        '05_finding_versions/01_affected_version/',\n",
    "        '05_finding_versions/02_files_affect/',\n",
    "        '05_finding_versions/02_files_affect/01_affected_files/',\n",
    "        '05_finding_versions/02_files_affect/02_non-affected_files/',\n",
    "        '05_finding_versions/03_filtering/',\n",
    "        '05_finding_versions/03_filtering/01_valid_bugintro_commitid/',\n",
    "        '05_finding_versions/03_filtering/01_valid_bugintro_commitid/01_myers_vs_histogram',\n",
    "        '05_finding_versions/03_filtering/02_valid_files/',\n",
    "        '05_finding_versions/03_filtering/02_valid_files/txt/',\n",
    "        '05_finding_versions/03_filtering/03_valid_bugfix_commitid/',\n",
    "        '05_finding_versions/03_filtering/03_valid_bugfix_commitid/distinct_bugfix_commitid/',\n",
    "        '05_finding_versions/03_filtering/03_valid_bugfix_commitid/valid_bug_id/',\n",
    "        '05_finding_versions/03_filtering/03_valid_bugfix_commitid/valid_bug_id/txt/',\n",
    "        '06_statistics/']"
   ]
  },
  {
   "cell_type": "code",
   "execution_count": null,
   "metadata": {
    "collapsed": true
   },
   "outputs": [],
   "source": [
    "for z, newpath in enumerate(dirs):\n",
    "    if not os.path.exists(newpath):\n",
    "        os.makedirs(newpath)"
   ]
  },
  {
   "cell_type": "code",
   "execution_count": null,
   "metadata": {
    "collapsed": true
   },
   "outputs": [],
   "source": []
  }
 ],
 "metadata": {
  "kernelspec": {
   "display_name": "Python 3",
   "language": "python",
   "name": "python3"
  },
  "language_info": {
   "codemirror_mode": {
    "name": "ipython",
    "version": 3
   },
   "file_extension": ".py",
   "mimetype": "text/x-python",
   "name": "python",
   "nbconvert_exporter": "python",
   "pygments_lexer": "ipython3",
   "version": "3.6.3"
  }
 },
 "nbformat": 4,
 "nbformat_minor": 2
}
