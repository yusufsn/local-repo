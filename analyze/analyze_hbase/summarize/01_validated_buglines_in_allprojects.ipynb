{
 "cells": [
  {
   "cell_type": "markdown",
   "metadata": {},
   "source": [
    "# Import libraries"
   ]
  },
  {
   "cell_type": "code",
   "execution_count": null,
   "metadata": {
    "collapsed": true
   },
   "outputs": [],
   "source": [
    "import os, glob, json, csv, subprocess, sys, re, operator\n",
    "from os import path\n",
    "import pandas as pd\n",
    "import plotly.graph_objs as go\n",
    "from plotly.offline import plot, init_notebook_mode, iplot\n",
    "\n",
    "%matplotlib inline"
   ]
  },
  {
   "cell_type": "markdown",
   "metadata": {},
   "source": [
    "# Defining directories"
   ]
  },
  {
   "cell_type": "code",
   "execution_count": null,
   "metadata": {},
   "outputs": [],
   "source": [
    "userhome = os.path.expanduser(\"~\")\n",
    "analyze_dir = userhome + '/different-diff/analyze/'\n",
    "analyze_dirs = []\n",
    "for dirs in glob.iglob(analyze_dir + \"analyze_*/\", recursive=True):\n",
    "    analyze_dirs.append(dirs)\n",
    "analyze_dirs"
   ]
  },
  {
   "cell_type": "markdown",
   "metadata": {},
   "source": [
    "# Number of validated buglines in all projects"
   ]
  },
  {
   "cell_type": "code",
   "execution_count": null,
   "metadata": {},
   "outputs": [],
   "source": [
    "project_name = re.search(\"\\/analyze\\_(\\w.*)\\/\",analyze_dirs[3])\n",
    "project_name = project_name.groups()[0]\n",
    "project_name"
   ]
  },
  {
   "cell_type": "code",
   "execution_count": null,
   "metadata": {},
   "outputs": [],
   "source": [
    "validated_buglines = []\n",
    "for x, folder in enumerate(analyze_dirs):\n",
    "    project_name = re.search(\"\\/analyze\\_(\\w.*)\\/\",folder)\n",
    "    project_name = project_name.groups()[0]\n",
    "    file = pd.read_csv(folder + \"06_statistics/final_stats.csv\")\n",
    "    valid_bugline = file.iloc[0]\n",
    "    temp = [project_name, valid_bugline[1], valid_bugline[2], valid_bugline[3], valid_bugline[4]]\n",
    "    validated_buglines.append(temp)\n",
    "validated_buglines.sort()\n",
    "validated_buglines"
   ]
  },
  {
   "cell_type": "code",
   "execution_count": null,
   "metadata": {
    "collapsed": true
   },
   "outputs": [],
   "source": [
    "with open(analyze_dir + \"summarize/statistics/validated_buglines_of_allprojects.csv\",\"w\") as csvfile:\n",
    "    cols = ['project_name','#validbuglines_histogram','#validbuglines_minimal','#validbuglines_myers',\n",
    "            '#validbuglines_patience']\n",
    "    writers = csv.writer(csvfile, delimiter=\",\")\n",
    "    writers.writerow(cols)\n",
    "    for item in validated_buglines:\n",
    "        writers.writerow(item)"
   ]
  },
  {
   "cell_type": "code",
   "execution_count": null,
   "metadata": {
    "scrolled": true
   },
   "outputs": [],
   "source": [
    "validbugline_data = pd.read_csv(analyze_dir + \"summarize/statistics/validated_buglines_of_allprojects.csv\")\n",
    "validbugline_data"
   ]
  },
  {
   "cell_type": "markdown",
   "metadata": {},
   "source": [
    "# Visualizing number of validated buglines in all projects"
   ]
  },
  {
   "cell_type": "code",
   "execution_count": null,
   "metadata": {},
   "outputs": [],
   "source": [
    "valbug_hist = go.Bar(\n",
    "    x = validbugline_data['project_name'],\n",
    "    y = validbugline_data['#validbuglines_histogram'],\n",
    "    name = 'Histogram',\n",
    "    text = validbugline_data['#validbuglines_histogram'],\n",
    "    textposition = 'auto'\n",
    ")\n",
    "\n",
    "valbug_min = go.Bar(\n",
    "    x = validbugline_data['project_name'],\n",
    "    y = validbugline_data['#validbuglines_minimal'],\n",
    "    name = 'Minimal',\n",
    "    text = validbugline_data['#validbuglines_minimal'],\n",
    "    textposition = 'auto'\n",
    ")\n",
    "\n",
    "valbug_myers = go.Bar(\n",
    "    x = validbugline_data['project_name'],\n",
    "    y = validbugline_data['#validbuglines_myers'],\n",
    "    name = 'Myers',\n",
    "    text = validbugline_data['#validbuglines_myers'],\n",
    "    textposition = 'auto'\n",
    ")\n",
    "\n",
    "valbug_pat = go.Bar(\n",
    "    x = validbugline_data['project_name'],\n",
    "    y = validbugline_data['#validbuglines_patience'],\n",
    "    name = 'Patience',\n",
    "    text = validbugline_data['#validbuglines_patience'],\n",
    "    textposition = 'auto'\n",
    ")\n",
    "\n",
    "dt = [valbug_hist, valbug_min, valbug_myers, valbug_pat]\n",
    "layout = go.Layout(\n",
    "    title = \"Number of validated buglines in all projects\"\n",
    ")\n",
    "\n",
    "init_notebook_mode(connected=True)\n",
    "fig = go.Figure(data = dt, layout = layout)\n",
    "iplot(fig, show_link=False)"
   ]
  },
  {
   "cell_type": "code",
   "execution_count": null,
   "metadata": {
    "collapsed": true
   },
   "outputs": [],
   "source": []
  }
 ],
 "metadata": {
  "kernelspec": {
   "display_name": "Python 3",
   "language": "python",
   "name": "python3"
  },
  "language_info": {
   "codemirror_mode": {
    "name": "ipython",
    "version": 3
   },
   "file_extension": ".py",
   "mimetype": "text/x-python",
   "name": "python",
   "nbconvert_exporter": "python",
   "pygments_lexer": "ipython3",
   "version": "3.6.3"
  }
 },
 "nbformat": 4,
 "nbformat_minor": 2
}
