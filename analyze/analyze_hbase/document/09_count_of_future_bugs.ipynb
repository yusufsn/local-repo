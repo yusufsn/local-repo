{
 "cells": [
  {
   "cell_type": "code",
   "execution_count": null,
   "metadata": {
    "collapsed": true
   },
   "outputs": [],
   "source": [
    "import os, glob, json, csv, subprocess, sys, re, operator, itertools\n",
    "import datetime\n",
    "from git import *\n",
    "from subprocess import Popen, PIPE\n",
    "from os import path\n",
    "from collections import Iterable\n",
    "import pandas as pd\n",
    "import plotly.graph_objs as go\n",
    "from plotly.offline import plot, init_notebook_mode, iplot\n",
    "\n",
    "%matplotlib inline"
   ]
  },
  {
   "cell_type": "markdown",
   "metadata": {},
   "source": [
    "# Defining repository and analyze directory"
   ]
  },
  {
   "cell_type": "code",
   "execution_count": null,
   "metadata": {
    "collapsed": true
   },
   "outputs": [],
   "source": [
    "userhome = os.path.expanduser('~')\n",
    "repository = userhome + r'/different-diff/dataset/hbase/'\n",
    "analyze_dir = userhome + r'/different-diff/analyze/analyze_hbase/'"
   ]
  },
  {
   "cell_type": "code",
   "execution_count": null,
   "metadata": {},
   "outputs": [],
   "source": [
    "bug_links = open(analyze_dir + \"document/bug_links.txt\", \"r\")\n",
    "bugid_list = bug_links.read().split('\\n')\n",
    "print (\"Found \" + str(len(bugid_list)) + \" bug ids'\")"
   ]
  },
  {
   "cell_type": "markdown",
   "metadata": {},
   "source": [
    "# Define function to apply git command"
   ]
  },
  {
   "cell_type": "code",
   "execution_count": null,
   "metadata": {
    "collapsed": true
   },
   "outputs": [],
   "source": [
    "def execute_command(cmd, work_dir):\n",
    "    pipe = subprocess.Popen(cmd, shell=True, cwd=work_dir, stdout=subprocess.PIPE, stderr=subprocess.PIPE)\n",
    "    (out, error) = pipe.communicate()\n",
    "    return out, error\n",
    "    pipe.wait()"
   ]
  },
  {
   "cell_type": "markdown",
   "metadata": {},
   "source": [
    "# Applying git command"
   ]
  },
  {
   "cell_type": "code",
   "execution_count": null,
   "metadata": {
    "scrolled": true
   },
   "outputs": [],
   "source": [
    "print (bugid_list)"
   ]
  },
  {
   "cell_type": "code",
   "execution_count": null,
   "metadata": {},
   "outputs": [],
   "source": [
    "result = []\n",
    "for b, bugid in enumerate(bugid_list):\n",
    "    sys.stdout.write(\"\\r%i\" %(b+1) + \" extracting bug id \" + bugid)\n",
    "    sys.stdout.flush()\n",
    "    git_cmd = \"git log --oneline | grep -w '\" + bugid + \"' > \" + analyze_dir + \"step_3/future_bugs/logs/\" + bugid + \"_log.txt\" \n",
    "    execute_command(git_cmd, repository)\n",
    "\n",
    "    log = open(analyze_dir + \"step_3/future_bugs/logs/\" + bugid + \"_log.txt\")\n",
    "    bug_log = (log.read().split('\\n'))[:-1]\n",
    "    result.append(bug_log)\n",
    "result"
   ]
  },
  {
   "cell_type": "code",
   "execution_count": null,
   "metadata": {
    "collapsed": true
   },
   "outputs": [],
   "source": [
    "multiple_bugs = []\n",
    "less_bugs = []\n",
    "\n",
    "for f, bug_item in enumerate(result):\n",
    "    length = len(bug_item)\n",
    "    if length <= 2:\n",
    "        less_bugs.append(bug_item)\n",
    "    else:\n",
    "        multiple_bugs.append(bug_item)"
   ]
  },
  {
   "cell_type": "code",
   "execution_count": null,
   "metadata": {
    "scrolled": true
   },
   "outputs": [],
   "source": [
    "print (len(less_bugs))\n",
    "print (len(multiple_bugs))"
   ]
  },
  {
   "cell_type": "code",
   "execution_count": null,
   "metadata": {},
   "outputs": [],
   "source": [
    "less_bugs"
   ]
  },
  {
   "cell_type": "code",
   "execution_count": null,
   "metadata": {},
   "outputs": [],
   "source": [
    "multiple_bugs    "
   ]
  },
  {
   "cell_type": "raw",
   "metadata": {},
   "source": [
    "#command : \"git show -s --format=%ci <commit>\" to show the date of a commit"
   ]
  },
  {
   "cell_type": "code",
   "execution_count": null,
   "metadata": {
    "collapsed": true
   },
   "outputs": [],
   "source": [
    "multi_bugs = []\n",
    "for n, multi in enumerate(multiple_bugs):\n",
    "    mbg = []\n",
    "    for o, m_bugs in enumerate(multi):\n",
    "        com = m_bugs.split(\" \")\n",
    "        log = ' '.join(com[1:])\n",
    "        logs = [com[0], log]\n",
    "        mbg.extend(logs)\n",
    "    multi_bugs.append(mbg)"
   ]
  },
  {
   "cell_type": "code",
   "execution_count": null,
   "metadata": {},
   "outputs": [],
   "source": [
    "multi_bugs[0][0]"
   ]
  },
  {
   "cell_type": "code",
   "execution_count": null,
   "metadata": {},
   "outputs": [],
   "source": [
    "last_com = multi_bugs[0][0]\n",
    "first_com = multi_bugs[0][len(multi_bugs[0])-4]\n",
    "print(last_com, first_com)"
   ]
  },
  {
   "cell_type": "code",
   "execution_count": null,
   "metadata": {},
   "outputs": [],
   "source": [
    "bg = re.search(\"(HBASE-)[0-9]*\", multi_bugs[49][len(multi_bugs[49])-1])\n",
    "bg = bg.group()\n",
    "bg"
   ]
  },
  {
   "cell_type": "code",
   "execution_count": null,
   "metadata": {
    "scrolled": true
   },
   "outputs": [],
   "source": [
    "futurebugs_qty = []\n",
    "for x, xx in enumerate(multi_bugs):\n",
    "    bug_pattern = re.search(\"(HBASE-)[0-9]*\", xx[len(xx)-1])\n",
    "    bug_pattern = bug_pattern.group()\n",
    "    qty = int((len(xx)/2)-1)\n",
    "    \n",
    "    for y, yy in enumerate(xx):\n",
    "        last_com = str(xx[0])\n",
    "        first_com = str(xx[len(xx)-4])\n",
    "    \n",
    "    temp = [bug_pattern, qty, first_com, last_com]\n",
    "    futurebugs_qty.append(temp)\n",
    "\n",
    "futurebugs_qty"
   ]
  },
  {
   "cell_type": "code",
   "execution_count": null,
   "metadata": {
    "collapsed": true
   },
   "outputs": [],
   "source": [
    "for d, dt in enumerate(futurebugs_qty):\n",
    "    #date_t = []\n",
    "    for q in range(2,4):\n",
    "        git_cmd = \"git show -s --format=%ci \" + dt[q]\n",
    "        tmp = str(execute_command(git_cmd, repository)).replace(\"b'\",'').replace(\"(\",'').replace(\")\",'').split(\"\\\\n\")\n",
    "        del tmp[len(tmp)-1]\n",
    "        tmp = tmp[0].split(\" \")\n",
    "        futurebugs_qty[d].insert(len(dt), tmp[0])\n",
    "        futurebugs_qty[d].insert(len(dt), tmp[1])\n",
    "        futurebugs_qty[d].insert(len(dt), tmp[2])"
   ]
  },
  {
   "cell_type": "code",
   "execution_count": null,
   "metadata": {
    "scrolled": true
   },
   "outputs": [],
   "source": [
    "print (futurebugs_qty)"
   ]
  },
  {
   "cell_type": "code",
   "execution_count": null,
   "metadata": {
    "collapsed": true
   },
   "outputs": [],
   "source": [
    "with open(analyze_dir + \"step_3/future_bugs/quantity/futurebugs.csv\",'w') as csvfile:\n",
    "    header = ['bug_id', '#future_bugs', 'first_futurecommitID', 'last_futurecommitID', 'firstdate_CID', 'firsttime_CID',\n",
    "              'firsttz_CID', 'lastdate_CID', 'lasttime_CID', 'lasttz_CID']\n",
    "    writers = csv.writer(csvfile)\n",
    "    writers.writerow(header)\n",
    "    for l in futurebugs_qty:\n",
    "        writers.writerow(l)"
   ]
  },
  {
   "cell_type": "code",
   "execution_count": null,
   "metadata": {
    "scrolled": true
   },
   "outputs": [],
   "source": [
    "df_future = pd.read_csv(analyze_dir + \"step_3/future_bugs/quantity/futurebugs.csv\")\n",
    "df_future = df_future[header]\n",
    "df_future"
   ]
  },
  {
   "cell_type": "code",
   "execution_count": null,
   "metadata": {},
   "outputs": [],
   "source": [
    "last = datetime.datetime.strptime(df_future.iloc[0][7] + \" \" + df_future.iloc[0][8], \"%Y-%m-%d %H:%M:%S\")\n",
    "first = datetime.datetime.strptime(df_future.iloc[0][4] + \" \" + df_future.iloc[0][5], \"%Y-%m-%d %H:%M:%S\")\n",
    "print (last - first)"
   ]
  },
  {
   "cell_type": "code",
   "execution_count": null,
   "metadata": {
    "collapsed": true
   },
   "outputs": [],
   "source": [
    "with open(analyze_dir + \"step_3/future_bugs/quantity/futurebugs.csv\",'r') as csvinput:\n",
    "    with open(analyze_dir + \"step_3/future_bugs/quantity/timespan_futurebugs.csv\", 'w') as csvoutput:\n",
    "        writers = csv.writer(csvoutput, lineterminator='\\n')\n",
    "        reader = csv.reader(csvinput)\n",
    "\n",
    "        all_data = []\n",
    "        row = next(reader)\n",
    "        row.append('timespan_betweenbugs')\n",
    "        all_data.append(row)\n",
    "\n",
    "        for row in reader:\n",
    "            last = datetime.datetime.strptime(row[7] + \" \" + row[8], \"%Y-%m-%d %H:%M:%S\")\n",
    "            first = datetime.datetime.strptime(row[4] + \" \" + row[5], \"%Y-%m-%d %H:%M:%S\")\n",
    "            row.append(last - first)\n",
    "            all_data.append(row)\n",
    "\n",
    "        writers.writerows(all_data)"
   ]
  },
  {
   "cell_type": "code",
   "execution_count": null,
   "metadata": {
    "scrolled": true
   },
   "outputs": [],
   "source": [
    "df_timespan = pd.read_csv(analyze_dir + \"step_3/future_bugs/quantity/timespan_futurebugs.csv\")\n",
    "columns = ['bug_id', '#future_bugs', 'first_futurecommitID', 'last_futurecommitID', 'firstdate_CID', 'firsttime_CID',\n",
    "          'firsttz_CID', 'lastdate_CID', 'lasttime_CID', 'lasttz_CID', 'timespan_betweenbugs']\n",
    "df_timespan = df_timespan[columns]\n",
    "df_timespan"
   ]
  },
  {
   "cell_type": "code",
   "execution_count": null,
   "metadata": {},
   "outputs": [],
   "source": [
    "str(datetime.timedelta(seconds=666))"
   ]
  },
  {
   "cell_type": "code",
   "execution_count": null,
   "metadata": {
    "collapsed": true
   },
   "outputs": [],
   "source": []
  }
 ],
 "metadata": {
  "kernelspec": {
   "display_name": "Python 3",
   "language": "python",
   "name": "python3"
  },
  "language_info": {
   "codemirror_mode": {
    "name": "ipython",
    "version": 3
   },
   "file_extension": ".py",
   "mimetype": "text/x-python",
   "name": "python",
   "nbconvert_exporter": "python",
   "pygments_lexer": "ipython3",
   "version": "3.6.3"
  }
 },
 "nbformat": 4,
 "nbformat_minor": 2
}
