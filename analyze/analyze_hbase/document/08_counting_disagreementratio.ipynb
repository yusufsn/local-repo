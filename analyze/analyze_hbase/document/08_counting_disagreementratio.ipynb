{
 "cells": [
  {
   "cell_type": "code",
   "execution_count": null,
   "metadata": {
    "collapsed": true
   },
   "outputs": [],
   "source": [
    "import os, glob, json, csv, subprocess, sys, re, operator\n",
    "from git import *\n",
    "from subprocess import Popen, PIPE\n",
    "from os import path\n",
    "import pandas as pd\n",
    "import plotly.graph_objs as go\n",
    "from plotly.offline import plot, init_notebook_mode, iplot\n",
    "\n",
    "%matplotlib inline"
   ]
  },
  {
   "cell_type": "markdown",
   "metadata": {},
   "source": [
    "# Defining repository"
   ]
  },
  {
   "cell_type": "code",
   "execution_count": null,
   "metadata": {
    "collapsed": true
   },
   "outputs": [],
   "source": [
    "userhome = os.path.expanduser('~')\n",
    "repository = userhome + r'/different-diff/dataset/hbase/'\n",
    "analyze_dir = userhome + r'/different-diff/analyze/analyze_hbase/'"
   ]
  },
  {
   "cell_type": "markdown",
   "metadata": {},
   "source": [
    "# Counting the number of buglines across project"
   ]
  },
  {
   "cell_type": "code",
   "execution_count": null,
   "metadata": {
    "collapsed": true
   },
   "outputs": [],
   "source": [
    "algorithm = ['histogram','minimal','myers','patience']"
   ]
  },
  {
   "cell_type": "code",
   "execution_count": null,
   "metadata": {},
   "outputs": [],
   "source": [
    "with open(analyze_dir + 'step_3/disagreement_ratio/total_buglines.csv', 'w') as myfile:\n",
    "    header = ['filename','parent_id','commit_id','bug_id','algorithm','number_of_buglines']\n",
    "    writers = csv.writer(myfile)\n",
    "    writers.writerow(header)\n",
    "    for x, algo in enumerate(algorithm):    \n",
    "        f = 1\n",
    "        temp = []\n",
    "        for filename in glob.iglob(analyze_dir + 'file-diff/buggylines/' + algo + '/*', recursive=True):\n",
    "            sys.stdout.write(\"\\r{} Counting number of buglines in file: {}\".format(x+1,f))\n",
    "            sys.stdout.flush()\n",
    "            f += 1\n",
    "            \n",
    "            pattern = re.search('(?P<filename>\\w+[-]?\\w+[.]\\w+|\\w+)_(?P<parent_id>\\w+)-(?P<commit_id>\\w+)_(?P<bug_id>\\w+[-]\\d+)_(?P<algorithm>'+algo+')', filename)\n",
    "            filecontain = re.search('(\\w+[-]?\\w+[.]?\\w+-\\w+HBASE-[0-9]*)', filename)\n",
    "            filecontain = filecontain.groups()[0]\n",
    "            \n",
    "            #if filecontain not in errorfile:\n",
    "            fnames = re.search((algo), filename)\n",
    "            if fnames:\n",
    "                bugfile = open(filename)\n",
    "                bugline = bugfile.read().split('\\n')\n",
    "                tmp = pattern.groups()\n",
    "                if \"--- /dev\" in bugline[0]:\n",
    "                    num = str(len(bugline)-2)\n",
    "                else:\n",
    "                    num = str(len(bugline)-1)\n",
    "                \n",
    "                #added an element of number of buglines in tuple\n",
    "                tmp = tmp + (num,)\n",
    "                temp.append(tmp)\n",
    "            else:\n",
    "                pass\n",
    "            \n",
    "        #sorting list based on (1) algorithm, (2) bug_id, and (3) filename\n",
    "        temp = sorted(temp, key=operator.itemgetter(4, 0, 3))\n",
    "        \n",
    "        #writing list elements in csv file\n",
    "        for line in temp:\n",
    "            writers.writerow(line)\n",
    "        \n",
    "print(\"\\nCounting total number of buglines is complete\")"
   ]
  },
  {
   "cell_type": "code",
   "execution_count": null,
   "metadata": {
    "collapsed": true
   },
   "outputs": [],
   "source": [
    "dftotal = pd.read_csv(analyze_dir + 'step_3/disagreement_ratio/total_buglines.csv')\n",
    "dfbugtotalhist = dftotal['number_of_buglines'][dftotal['algorithm'] == 'histogram'].sum()\n",
    "dfbugtotalmin = dftotal['number_of_buglines'][dftotal['algorithm'] == 'minimal'].sum()\n",
    "dfbugtotalmyers = dftotal['number_of_buglines'][dftotal['algorithm'] == 'myers'].sum()\n",
    "dfbugtotalpat = dftotal['number_of_buglines'][dftotal['algorithm'] == 'patience'].sum()"
   ]
  },
  {
   "cell_type": "markdown",
   "metadata": {},
   "source": [
    "# Visualizing the total number of buglines for each algorithm"
   ]
  },
  {
   "cell_type": "code",
   "execution_count": null,
   "metadata": {},
   "outputs": [],
   "source": [
    "x = ['histogram', 'minimal', 'myers', 'patience']\n",
    "y = [dfbugtotalhist, dfbugtotalmin, dfbugtotalmyers, dfbugtotalpat]\n",
    "\n",
    "trace = [go.Bar(\n",
    "    x = x,\n",
    "    y = y,\n",
    "    text = y,\n",
    "    textposition = 'auto',\n",
    "    marker = dict(\n",
    "        color = 'rgb(150,255,200)',\n",
    "        line = dict(\n",
    "            color='rgb(8,48,107)',\n",
    "            width=1.5),\n",
    "    ),\n",
    "    opacity=0.6\n",
    ")]\n",
    "\n",
    "layout = go.Layout(\n",
    "    title='Total number of buglines found for each algorithm in HBASE project',\n",
    ")\n",
    "\n",
    "init_notebook_mode(connected=True)\n",
    "fig = go.Figure(data=trace, layout=layout)\n",
    "iplot(fig, show_link=False)"
   ]
  },
  {
   "cell_type": "code",
   "execution_count": null,
   "metadata": {},
   "outputs": [],
   "source": [
    "dftotal = dftotal.groupby('algorithm', as_index=False).agg({\"number_of_buglines\": \"sum\"})\n",
    "dftotal"
   ]
  },
  {
   "cell_type": "code",
   "execution_count": null,
   "metadata": {
    "collapsed": true
   },
   "outputs": [],
   "source": [
    "temporary = []\n",
    "\n",
    "for b in range(0, len(dftotal)):\n",
    "    temps = [dftotal.iloc[b][0], dftotal.iloc[b][1]]\n",
    "    temporary.append(temps)\n",
    "\n",
    "#save into csv file\n",
    "with open(analyze_dir + 'step_3/disagreement_ratio/totalbuglines_of_each_algorithm.csv', 'w') as bugfile:\n",
    "    cols = ['algorithm', 'number_of_buglines']\n",
    "    writers = csv.writer(bugfile)\n",
    "    writers.writerow(cols)\n",
    "    for gg in temporary:\n",
    "        writers.writerow(gg)"
   ]
  },
  {
   "cell_type": "markdown",
   "metadata": {},
   "source": [
    "# Comparing the number of bug class of each algorithm"
   ]
  },
  {
   "cell_type": "code",
   "execution_count": null,
   "metadata": {
    "collapsed": true
   },
   "outputs": [],
   "source": [
    "#set the filepath of the filenames\n",
    "filepath = analyze_dir + 'step_3/diff-file_blame-file_comparison/'"
   ]
  },
  {
   "cell_type": "markdown",
   "metadata": {},
   "source": [
    "# Histogram"
   ]
  },
  {
   "cell_type": "code",
   "execution_count": null,
   "metadata": {},
   "outputs": [],
   "source": [
    "file_list = glob.glob(filepath + 'histogram_comparison/*')\n",
    "print (\"Found \" + str(len(file_list)) + \" files\")"
   ]
  },
  {
   "cell_type": "code",
   "execution_count": null,
   "metadata": {},
   "outputs": [],
   "source": [
    "result = []\n",
    "\n",
    "for ii, alg in enumerate(algorithm):\n",
    "    bug_intro_qty = incorrect_qty = unknown_qty = sumln = 0\n",
    "    i = 1\n",
    "    for fname in glob.iglob(filepath + alg + '_comparison/*', recursive=True):\n",
    "        sys.stdout.write('\\r%i ' %(ii+1) + 'Counting the number of bug-class in file %i' % i)\n",
    "        sys.stdout.flush()\n",
    "        i += 1\n",
    "        #algo = re.search((\"__(?P<algorithm>\\w+)(buglines)\"), fname)\n",
    "        #algo = algo.groups()[0]\n",
    "\n",
    "        #if algo == alg:\n",
    "        dframe = pd.read_csv(fname)\n",
    "        op = open(fname,'r')\n",
    "        lines = op.read().split('\\n')\n",
    "        if \"-- /dev\" not in lines[1]:\n",
    "            sumln = (len(lines)-2) + sumln\n",
    "            bug_intro_qty = dframe['bug_class'][dframe['bug_class'] == 'bug-introducing change'].count() + bug_intro_qty\n",
    "            incorrect_qty = dframe['bug_class'][dframe['bug_class'] == 'incorrect'].count() + incorrect_qty\n",
    "            unknown_qty = dframe['bug_class'][dframe['bug_class'] == 'unknown'].count() + unknown_qty\n",
    "        else:\n",
    "            sumln = (len(lines)-3) + sumln\n",
    "            pass\n",
    "    \n",
    "    result.append([bug_intro_qty, incorrect_qty, unknown_qty, sumln])\n",
    "print ('\\nCounting the number of bug-introducing change is complete')"
   ]
  },
  {
   "cell_type": "code",
   "execution_count": null,
   "metadata": {},
   "outputs": [],
   "source": [
    "result"
   ]
  },
  {
   "cell_type": "code",
   "execution_count": null,
   "metadata": {},
   "outputs": [],
   "source": [
    "result_matrix = [list(i) for i in zip(*result)]\n",
    "label = ['#bug-introducing_change', '#incorrect', '#unknown', 'total']\n",
    "for s, lbl in enumerate(label):\n",
    "    result_matrix[s].insert(0, lbl)\n",
    "result_matrix"
   ]
  },
  {
   "cell_type": "code",
   "execution_count": null,
   "metadata": {
    "collapsed": true
   },
   "outputs": [],
   "source": [
    "with open(analyze_dir + 'step_3/disagreement_ratio/quantity_of_bug_class.csv','w') as myfile:\n",
    "    header = ['class', 'histogram', 'minimal', 'myers', 'patience']\n",
    "    writers = csv.writer(myfile)\n",
    "    writers.writerow(header)\n",
    "    for item in result_matrix:\n",
    "        writers.writerow(item)"
   ]
  },
  {
   "cell_type": "code",
   "execution_count": null,
   "metadata": {},
   "outputs": [],
   "source": [
    "df_bugclass = pd.read_csv(analyze_dir + 'step_3/disagreement_ratio/quantity_of_bug_class.csv')\n",
    "df_bugclass = df_bugclass[header]\n",
    "df_bugclass"
   ]
  },
  {
   "cell_type": "code",
   "execution_count": null,
   "metadata": {},
   "outputs": [],
   "source": [
    "trace_hist = go.Bar(\n",
    "    x = df_bugclass['class'][:2],\n",
    "    y = df_bugclass['histogram'][:2],\n",
    "    name = 'diff-algorithm = histogram',\n",
    "    text = df_bugclass['histogram'],\n",
    "    textposition = 'auto'\n",
    ")\n",
    "\n",
    "trace_min = go.Bar(\n",
    "    x = df_bugclass['class'][:2],\n",
    "    y = df_bugclass['minimal'][:2],\n",
    "    name = 'diff-algorithm = minimal',\n",
    "    text = df_bugclass['minimal'],\n",
    "    textposition = 'auto'\n",
    ")\n",
    "\n",
    "trace_myers = go.Bar(\n",
    "    x = df_bugclass['class'][:2],\n",
    "    y = df_bugclass['myers'][:2],\n",
    "    name = 'diff-algorithm = myers',\n",
    "    text = df_bugclass['myers'],\n",
    "    textposition = 'auto'\n",
    ")\n",
    "                    \n",
    "trace_pat = go.Bar(\n",
    "    x = df_bugclass['class'][:2],\n",
    "    y = df_bugclass['patience'][:2],\n",
    "    name = 'diff-algorithm = patience',\n",
    "    text = df_bugclass['patience'],\n",
    "    textposition = 'auto'\n",
    ")\n",
    "\n",
    "data = [trace_hist, trace_min, trace_myers, trace_pat]\n",
    "\n",
    "layout = go.Layout(\n",
    "    barmode = 'group',\n",
    "    title = 'Number of bug-class for each diff algorithm in HBase Project'\n",
    ")\n",
    "\n",
    "init_notebook_mode(connected=True)\n",
    "fig = go.Figure(data=data, layout=layout)\n",
    "iplot(fig, show_link=False)"
   ]
  },
  {
   "cell_type": "markdown",
   "metadata": {},
   "source": [
    "# Counting the disagreement ratio (R) in project"
   ]
  },
  {
   "cell_type": "code",
   "execution_count": null,
   "metadata": {},
   "outputs": [],
   "source": [
    "df_bugclass"
   ]
  },
  {
   "cell_type": "code",
   "execution_count": null,
   "metadata": {},
   "outputs": [],
   "source": [
    "dftotal"
   ]
  },
  {
   "cell_type": "code",
   "execution_count": null,
   "metadata": {
    "collapsed": true
   },
   "outputs": [],
   "source": [
    "#disagreement ratio (R) = the number of disagreement (D) / total number of bugs (B)\n",
    "ratio_details = []\n",
    "\n",
    "for n, algor in enumerate(algorithm):\n",
    "    D = df_bugclass[algor][df_bugclass['class'] == '#incorrect'].iloc[0]\n",
    "    B = dftotal['number_of_buglines'][dftotal['algorithm'] == algor].iloc[0]\n",
    "    R = D/B\n",
    "    summary = [algor, D, B, R]\n",
    "    ratio_details.append(summary)"
   ]
  },
  {
   "cell_type": "code",
   "execution_count": null,
   "metadata": {
    "collapsed": true
   },
   "outputs": [],
   "source": [
    "with open(analyze_dir + 'step_3/disagreement_ratio/disagreement_ratio.csv', 'w') as ratiofile:\n",
    "    columns = ['algorithm', 'number_of_incorrect', 'total_buglines', 'disagreement_ratio']\n",
    "    writers = csv.writer(ratiofile)\n",
    "    writers.writerow(columns)\n",
    "    for item in ratio_details:\n",
    "        writers.writerow(item)"
   ]
  },
  {
   "cell_type": "code",
   "execution_count": null,
   "metadata": {},
   "outputs": [],
   "source": [
    "df_ratio = pd.read_csv(analyze_dir + 'step_3/disagreement_ratio/disagreement_ratio.csv')\n",
    "df_ratio = df_ratio[['algorithm', 'number_of_incorrect', 'total_buglines', 'disagreement_ratio']]\n",
    "df_ratio"
   ]
  },
  {
   "cell_type": "code",
   "execution_count": null,
   "metadata": {},
   "outputs": [],
   "source": [
    "trace = go.Bar(\n",
    "    x = df_ratio['algorithm'],\n",
    "    y = df_ratio['disagreement_ratio'],\n",
    "    text = df_ratio['disagreement_ratio'],\n",
    "    textposition = 'auto',\n",
    "    marker = dict(\n",
    "        color = 'rgb(150,255,200)',\n",
    "        line = dict(\n",
    "            color='rgb(8,48,107)',\n",
    "            width=1.5),\n",
    "    ),\n",
    "    opacity=0.6\n",
    ")\n",
    "\n",
    "layout = go.Layout(\n",
    "    title = 'Disagreement ratio of each diff algorithm in HBase Project'\n",
    ")\n",
    "\n",
    "init_notebook_mode(connected=True)\n",
    "fig = go.Figure(data=[trace], layout=layout)\n",
    "iplot(fig, show_link=False)"
   ]
  },
  {
   "cell_type": "code",
   "execution_count": null,
   "metadata": {
    "collapsed": true
   },
   "outputs": [],
   "source": []
  }
 ],
 "metadata": {
  "kernelspec": {
   "display_name": "Python 3",
   "language": "python",
   "name": "python3"
  },
  "language_info": {
   "codemirror_mode": {
    "name": "ipython",
    "version": 3
   },
   "file_extension": ".py",
   "mimetype": "text/x-python",
   "name": "python",
   "nbconvert_exporter": "python",
   "pygments_lexer": "ipython3",
   "version": "3.6.3"
  }
 },
 "nbformat": 4,
 "nbformat_minor": 2
}
