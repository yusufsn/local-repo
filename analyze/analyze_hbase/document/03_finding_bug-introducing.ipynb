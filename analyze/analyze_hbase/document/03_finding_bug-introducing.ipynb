{
 "cells": [
  {
   "cell_type": "code",
   "execution_count": null,
   "metadata": {
    "collapsed": true
   },
   "outputs": [],
   "source": [
    "import os, glob, json, csv, subprocess, sys, re\n",
    "from urllib.request import urlopen\n",
    "from itertools import chain\n",
    "import urllib.request\n",
    "from pprint import pprint\n",
    "from bs4 import BeautifulSoup\n",
    "from git import *\n",
    "from subprocess import Popen, PIPE\n",
    "from os import path\n",
    "from collections import Counter\n",
    "import pandas as pd\n",
    "import plotly.graph_objs as go\n",
    "import plotly\n",
    "from plotly.offline import plot, init_notebook_mode, iplot\n",
    "import itertools\n",
    "\n",
    "%matplotlib inline"
   ]
  },
  {
   "cell_type": "markdown",
   "metadata": {},
   "source": [
    "# Defining repository"
   ]
  },
  {
   "cell_type": "code",
   "execution_count": null,
   "metadata": {
    "collapsed": true
   },
   "outputs": [],
   "source": [
    "userhome = os.path.expanduser('~')"
   ]
  },
  {
   "cell_type": "code",
   "execution_count": null,
   "metadata": {
    "collapsed": true
   },
   "outputs": [],
   "source": [
    "repository = userhome + r'/different-diff/dataset/hbase/'"
   ]
  },
  {
   "cell_type": "code",
   "execution_count": null,
   "metadata": {
    "collapsed": true
   },
   "outputs": [],
   "source": [
    "analyze_dir = userhome + r'/different-diff/analyze/analyze_hbase/'"
   ]
  },
  {
   "cell_type": "markdown",
   "metadata": {},
   "source": [
    "# Defining git command function"
   ]
  },
  {
   "cell_type": "code",
   "execution_count": null,
   "metadata": {
    "collapsed": true
   },
   "outputs": [],
   "source": [
    "def execute_command(cmd, work_dir):\n",
    "    \"\"\"Executes a shell command in a subprocess, waiting until it has completed.\n",
    "    :param cmd: Command to execute.\n",
    "    :param work_dir: Working directory path.\n",
    "    \"\"\"\n",
    "    pipe = subprocess.Popen(cmd, shell=True, cwd=work_dir, stdout=subprocess.PIPE, stderr=subprocess.PIPE)\n",
    "    (out, error) = pipe.communicate()\n",
    "    return out, error\n",
    "    pipe.wait()"
   ]
  },
  {
   "cell_type": "code",
   "execution_count": null,
   "metadata": {
    "collapsed": true
   },
   "outputs": [],
   "source": [
    "def execute_shell_command(buglink, id1, id2, cmd, work_dir):\n",
    "    #Executes a shell command in a subprocess, waiting until it has completed.\n",
    "    pipe = subprocess.Popen(cmd, shell=True, cwd=work_dir, stdout=subprocess.PIPE, stderr=subprocess.PIPE)\n",
    "    (out, error) = pipe.communicate()\n",
    "    return buglink, id1, id2, out, error\n",
    "    pipe.wait()"
   ]
  },
  {
   "cell_type": "markdown",
   "metadata": {},
   "source": [
    "# Finding log messages containing bug link"
   ]
  },
  {
   "cell_type": "code",
   "execution_count": null,
   "metadata": {},
   "outputs": [],
   "source": [
    "words = ['bug', 'fix', 'defect', 'patch']\n",
    "logs = []\n",
    "for n, word in enumerate(words):\n",
    "    git_cmd = \"git log --all --grep='\" + word + \"' --oneline\"\n",
    "    log = (str(execute_command(git_cmd, repository)).replace(\"b'\",'').replace('b\"','').replace('(','',1).replace(\"\\\\'\",\"'\").split(\"\\\\n\"))[:-1]\n",
    "\n",
    "    logs.append(log)\n",
    "\n",
    "com_logs = [item for sublist in logs for item in sublist]\n",
    "com_logs"
   ]
  },
  {
   "cell_type": "code",
   "execution_count": null,
   "metadata": {},
   "outputs": [],
   "source": [
    "len(com_logs)"
   ]
  },
  {
   "cell_type": "code",
   "execution_count": null,
   "metadata": {},
   "outputs": [],
   "source": [
    "commit = []\n",
    "for xx in range(0,len(com_logs)):\n",
    "    tmp = []\n",
    "    comm = com_logs[xx].split()\n",
    "    word = ' '.join(comm[1:])\n",
    "    tmp.extend([comm[0],word])\n",
    "    commit.append(tmp)\n",
    "\n",
    "for item in commit:\n",
    "    print (item)"
   ]
  },
  {
   "cell_type": "code",
   "execution_count": null,
   "metadata": {
    "scrolled": true
   },
   "outputs": [],
   "source": [
    "commitbugs = []\n",
    "buglinks = []\n",
    "\n",
    "for xx in range(0,len(com_logs)):\n",
    "    tmp = []\n",
    "    comm = com_logs[xx].split()\n",
    "    splitres = (str(comm[1:]))\n",
    "    letter = re.findall(r\"HBASE+[-][0-9]+\", splitres)\n",
    "    if letter != []:\n",
    "        commitbugs.extend(letter)\n",
    "    else:\n",
    "        pass\n",
    "\n",
    "commitbugs = set(commitbugs)\n",
    "for p,q in enumerate(commitbugs):\n",
    "    buglinks.append(q)\n",
    "buglinks = sorted(buglinks, reverse=True)\n",
    "print (buglinks)\n",
    "print (\"\\nNumber of bug id: \" + str(len(buglinks)))"
   ]
  },
  {
   "cell_type": "code",
   "execution_count": null,
   "metadata": {},
   "outputs": [],
   "source": [
    "errorlinks = []\n",
    "id_type = []\n",
    "for a,b in enumerate(buglinks):\n",
    "    link = \"https://issues.apache.org/jira/browse/\" + b\n",
    "    sys.stdout.write(\"\\r%i \" %(a+1) + \"Extracting: \" + b)\n",
    "    sys.stdout.flush()\n",
    "    try:\n",
    "        page = urllib.request.urlopen(link)\n",
    "        soup = BeautifulSoup(page, 'html.parser')\n",
    "        types = soup.find('span', attrs={'id':'type-val'}).text.replace(\"\\n\",'').replace(\" \",'').split(\",\")\n",
    "        types = sorted(types)\n",
    "        types.insert(0, b)\n",
    "        id_type.append(types)\n",
    "    except:\n",
    "        errorlinks.append(b)\n",
    "\n",
    "print(\"\\nExtraction has been completed.\")"
   ]
  },
  {
   "cell_type": "code",
   "execution_count": null,
   "metadata": {},
   "outputs": [],
   "source": [
    "type_of_id = id_type\n",
    "errorlinks"
   ]
  },
  {
   "cell_type": "code",
   "execution_count": null,
   "metadata": {
    "collapsed": true
   },
   "outputs": [],
   "source": [
    "error_links = []\n",
    "for a,b in enumerate(errorlinks):\n",
    "    link = \"https://issues.apache.org/jira/browse/\" + b\n",
    "    sys.stdout.write(\"\\r%i \" %(a+1) + \"Extracting: \" + b)\n",
    "    sys.stdout.flush()\n",
    "    try:\n",
    "        page = urllib.request.urlopen(link)\n",
    "        soup = BeautifulSoup(page, 'html.parser')\n",
    "        types = soup.find('span', attrs={'id':'type-val'}).text.replace(\"\\n\",'').replace(\" \",'').split(\",\")\n",
    "        types = sorted(types)\n",
    "        types.insert(0, b)\n",
    "        type_of_id.append(types)\n",
    "    except:\n",
    "        error_links.append(b)"
   ]
  },
  {
   "cell_type": "code",
   "execution_count": null,
   "metadata": {},
   "outputs": [],
   "source": [
    "error_links"
   ]
  },
  {
   "cell_type": "code",
   "execution_count": null,
   "metadata": {
    "scrolled": true
   },
   "outputs": [],
   "source": [
    "bug_links = []\n",
    "for d, types in enumerate (id_type):\n",
    "    if types[1] == 'Bug':\n",
    "        bug_links.append(types[0])\n",
    "\n",
    "print (\"Number of bug id: \" + str(len(bug_links)))\n",
    "print (bug_links)"
   ]
  },
  {
   "cell_type": "code",
   "execution_count": null,
   "metadata": {},
   "outputs": [],
   "source": [
    "with open (\"bug_links.txt\", mode=\"wt\", encoding=\"utf-8\") as myfile:\n",
    "    myfile.write('\\n'.join(bug_links))\n",
    "print (\"File bug_links.txt has been created\")"
   ]
  },
  {
   "cell_type": "code",
   "execution_count": null,
   "metadata": {},
   "outputs": [],
   "source": [
    "com_log = []\n",
    "for no, bug_link in enumerate(bug_links):\n",
    "    sys.stdout.write(\"\\r%i \" %(no+1) + \"Extracting bug id: \" + bug_link)\n",
    "    sys.stdout.flush()\n",
    "    git_cmd = \"git log --oneline | grep -w '\" + bug_link + \"'\"\n",
    "    temp = (str(execute_command(git_cmd, repository)).replace(\"b'\",'').replace('b\"','').replace('(','',1).split(\"\\\\n\"))[:-1]\n",
    "\n",
    "    com_log.append(temp)\n",
    "\n",
    "print (\"\\n\")\n",
    "for item in com_log:\n",
    "    print(item)"
   ]
  },
  {
   "cell_type": "code",
   "execution_count": null,
   "metadata": {},
   "outputs": [],
   "source": [
    "commits = []\n",
    "for x in range(0,len(com_log)):\n",
    "    com = []\n",
    "    com.append(bug_links[x])\n",
    "    for z in range(0,len(com_log[x])):\n",
    "        temp = str(com_log[x][z].split()[0:1]).replace(\"['\",'').replace(\"']\",'')\n",
    "        com.append(temp)\n",
    "    commits.append(com)\n",
    "print (commits)"
   ]
  },
  {
   "cell_type": "markdown",
   "metadata": {},
   "source": [
    "# Bug-introducing change Commits"
   ]
  },
  {
   "cell_type": "code",
   "execution_count": null,
   "metadata": {
    "scrolled": true
   },
   "outputs": [],
   "source": [
    "bugintro_cid = []\n",
    "for jj, kk in enumerate(commits):\n",
    "    if (len(kk) > 1):\n",
    "        bi_cid = kk[len(kk)-1:]\n",
    "        bi_cid.insert(0,kk[0])\n",
    "        bugintro_cid.append(bi_cid)\n",
    "print (bugintro_cid)"
   ]
  },
  {
   "cell_type": "code",
   "execution_count": null,
   "metadata": {},
   "outputs": [],
   "source": [
    "len(bugintro_cid)"
   ]
  },
  {
   "cell_type": "markdown",
   "metadata": {},
   "source": [
    "# Candidate bug fix Commits"
   ]
  },
  {
   "cell_type": "code",
   "execution_count": null,
   "metadata": {
    "scrolled": true
   },
   "outputs": [],
   "source": [
    "bugfix_cid = []\n",
    "for jj, kk in enumerate(commits):\n",
    "    if (len(kk) > 2):\n",
    "        bugfix_cid.append(kk[0:len(kk)-1])\n",
    "print (bugfix_cid)"
   ]
  },
  {
   "cell_type": "code",
   "execution_count": null,
   "metadata": {},
   "outputs": [],
   "source": [
    "len(bugfix_cid)"
   ]
  },
  {
   "cell_type": "code",
   "execution_count": null,
   "metadata": {},
   "outputs": [],
   "source": [
    "bugintro = go.Bar(\n",
    "    x = ['Bug-introducing change commits'],\n",
    "    y = [len(bugintro_cid)],\n",
    "    name = 'Bug-introducing change commits'\n",
    ")\n",
    "\n",
    "bugfix = go.Bar(\n",
    "    x = ['Bug-fix commits'],\n",
    "    y = [len(bugfix_cid)],\n",
    "    name = 'Bug-fix commits'\n",
    ")\n",
    "\n",
    "data = [bugintro, bugfix]\n",
    "layout = go.Layout(\n",
    "    title = 'The number of Commits'\n",
    ")\n",
    "\n",
    "init_notebook_mode(connected=True)\n",
    "fig = go.Figure(data=data, layout=layout)\n",
    "iplot(fig, show_link=False)"
   ]
  },
  {
   "cell_type": "markdown",
   "metadata": {},
   "source": [
    "# Finding parent_id of commits"
   ]
  },
  {
   "cell_type": "code",
   "execution_count": null,
   "metadata": {},
   "outputs": [],
   "source": [
    "bugintro_cid[0]"
   ]
  },
  {
   "cell_type": "code",
   "execution_count": null,
   "metadata": {},
   "outputs": [],
   "source": [
    "parent_id = []\n",
    "for v, w in enumerate(bugintro_cid):\n",
    "    if w != []:\n",
    "        git_cmd = \"git log --pretty=%P -n1 \" + w[1]\n",
    "        temp = (str(execute_command(git_cmd, repository)).replace(\"b'\",'').replace('(','',1).split(\"\\\\n\"))[:-1]\n",
    "        temps = [w,temp]\n",
    "        newlist = list(chain.from_iterable(temps))\n",
    "\n",
    "    parent_id.append(newlist)\n",
    "    \n",
    "parent_id"
   ]
  },
  {
   "cell_type": "code",
   "execution_count": null,
   "metadata": {
    "collapsed": true
   },
   "outputs": [],
   "source": [
    "with open(analyze_dir + \"file-diff/parentid.csv\", 'w') as parent:\n",
    "    header = ['bug_id','bugintro_commitID','parent_id']\n",
    "    writers = csv.writer(parent, delimiter=',')\n",
    "    writers.writerow(header)\n",
    "    for item in parent_id:\n",
    "        writers.writerow(item)"
   ]
  },
  {
   "cell_type": "code",
   "execution_count": null,
   "metadata": {
    "scrolled": true
   },
   "outputs": [],
   "source": [
    "dfparent = pd.read_csv(analyze_dir + \"file-diff/parentid.csv\")\n",
    "dfparent = dfparent[header]\n",
    "dfparent"
   ]
  },
  {
   "cell_type": "markdown",
   "metadata": {},
   "source": [
    "# Applying git diff without any algorithms"
   ]
  },
  {
   "cell_type": "code",
   "execution_count": null,
   "metadata": {},
   "outputs": [],
   "source": [
    "parent_id[0][1]"
   ]
  },
  {
   "cell_type": "code",
   "execution_count": null,
   "metadata": {},
   "outputs": [],
   "source": [
    "diffs = []\n",
    "for v,w in enumerate(parent_id):\n",
    "    sys.stdout.write('\\rExtracting parent id for commits: %i' %(v+1) + ' out of %i' %(len(parent_id)))\n",
    "    sys.stdout.flush()\n",
    "    diff_cmd = \"git diff \" + w[2] + \" \" + w[1] + \" --numstat\"\n",
    "    tmp = (str(execute_shell_command(w[0], w[1] , w[2], diff_cmd, repository)).replace(\"(\",'').\n",
    "               replace(\"+\",'').replace(\"\\\\n\",',').replace(\"(+)\",'').replace(\"(-)\",'').replace(\"\\\\t\",',').\n",
    "               replace(\")\",'').replace(\"|\",'').replace(\" \",\"\"))\n",
    "    tmp = re.sub(\"([a-z])\" and \"([ ])\", r\"\\1,\", tmp)\n",
    "    tmp2 = (str(tmp).replace(\",b'\",',').replace(\", \",'').replace(\"\\'\",'').replace(\",,\",''))\n",
    "    diffs.append([str(tmp2)])\n",
    "    \n",
    "diffresult = []\n",
    "for item in diffs:\n",
    "    if item == ', ':\n",
    "        del item\n",
    "    else:\n",
    "        diffresult.append(item)\n",
    "print ('\\n')\n",
    "for xx in diffresult:\n",
    "    print (xx)"
   ]
  },
  {
   "cell_type": "code",
   "execution_count": null,
   "metadata": {},
   "outputs": [],
   "source": [
    "kl = []\n",
    "res = []\n",
    "for v in range(0,len(diffresult)):\n",
    "    for w in range(0,len(diffresult[v])):\n",
    "        kl = diffresult[v][w].split(',')\n",
    "        res.append(kl)\n",
    "res"
   ]
  },
  {
   "cell_type": "code",
   "execution_count": null,
   "metadata": {
    "collapsed": true
   },
   "outputs": [],
   "source": [
    "with open(analyze_dir + 'file-diff/diff-bugs.csv', 'w') as csvfile:\n",
    "    header = ['bug_id','bugintro_commitID', 'parent_id', '#insertions','#deletions','filename','#line_changed']\n",
    "    writers = csv.writer(csvfile, delimiter=',')\n",
    "    writers.writerow(header)\n",
    "    for m in range(0,len(res)):\n",
    "        i = 3\n",
    "        j = 4\n",
    "        k = 5\n",
    "        for x in range(0,int((len(res[m])-3)/3)):\n",
    "            if (res[m][i]) == \"-\":\n",
    "                pass\n",
    "            else:\n",
    "                line_changed = int(res[m][i]) + int(res[m][j])\n",
    "                try:\n",
    "                    pattern = re.search(('({\\w.*=>|{=>)'), res[m][k])\n",
    "                    pattern = pattern.groups()[0]\n",
    "                    v = [res[m][0], res[m][1], res[m][2], res[m][i], res[m][j], res[m][k].replace(pattern,\"\").replace(\"}\",\"\"), str(line_changed)]\n",
    "                except:             \n",
    "                    v = [res[m][0], res[m][1], res[m][2], res[m][i], res[m][j], res[m][k], str(line_changed)]\n",
    "                writers.writerow(v)\n",
    "            i = i + 3\n",
    "            j = j + 3\n",
    "            k = k + 3"
   ]
  },
  {
   "cell_type": "markdown",
   "metadata": {},
   "source": [
    "# Applying git diff -w --ignore-blank-lines"
   ]
  },
  {
   "cell_type": "code",
   "execution_count": null,
   "metadata": {},
   "outputs": [],
   "source": [
    "diffsw = []\n",
    "for v,w in enumerate(parent_id):\n",
    "    sys.stdout.write('\\rExtracting parent id for commits: %i' %(v+1) + ' out of %i' %(len(parent_id)))\n",
    "    sys.stdout.flush()\n",
    "    diff_cmd = \"git diff -w --ignore-blank-lines \" + w[2] + \" \" + w[1] + \" --numstat\"\n",
    "    tmp = (str(execute_shell_command(w[0], w[1] , w[2], diff_cmd, repository)).replace(\"(\",'').\n",
    "               replace(\"+\",'').replace(\"\\\\n\",',').replace(\"(+)\",'').replace(\"(-)\",'').replace(\"\\\\t\",',').\n",
    "               replace(\")\",'').replace(\"|\",'').replace(\" \",\"\"))\n",
    "    tmp = re.sub(\"([a-z])\" and \"([ ])\", r\"\\1,\", tmp)\n",
    "    tmp2 = (str(tmp).replace(\",b'\",',').replace(\", \",'').replace(\"\\'\",'').replace(\",,\",''))\n",
    "    diffsw.append([str(tmp2)])\n",
    "    \n",
    "diffwresult = []\n",
    "for item in diffsw:\n",
    "    if item == ', ':\n",
    "        del item\n",
    "    else:\n",
    "        diffwresult.append(item)\n",
    "diffwresult[1]"
   ]
  },
  {
   "cell_type": "code",
   "execution_count": null,
   "metadata": {
    "collapsed": true
   },
   "outputs": [],
   "source": [
    "klw = []\n",
    "resw = []\n",
    "for v in range(0,len(diffwresult)):\n",
    "    for w in range(0,len(diffwresult[v])):\n",
    "        klw = diffwresult[v][w].split(',')\n",
    "        resw.append(klw)\n",
    "#resw"
   ]
  },
  {
   "cell_type": "code",
   "execution_count": null,
   "metadata": {
    "collapsed": true
   },
   "outputs": [],
   "source": [
    "with open(analyze_dir + 'file-diff/diffw-bugs.csv', 'w') as csvfile:\n",
    "    header = ['bug_id','bugintro_commitID', 'parent_id', '#insertions','#deletions','filename','#line_changed']\n",
    "    writers = csv.writer(csvfile, delimiter=',')\n",
    "    writers.writerow(header)\n",
    "    for m in range(0,len(resw)):\n",
    "        i = 3\n",
    "        j = 4\n",
    "        k = 5\n",
    "        for x in range(0,int((len(resw[m])-3)/3)):\n",
    "            if (resw[m][i]) == \"-\":\n",
    "                pass\n",
    "            else:\n",
    "                line_changed = int(resw[m][i]) + int(resw[m][j])\n",
    "                try:\n",
    "                    pattern = re.search(('({\\w.*=>|{=>)'), resw[m][k])\n",
    "                    pattern = pattern.groups()[0]\n",
    "                    v = [resw[m][0], resw[m][1], resw[m][2], resw[m][i], resw[m][j], resw[m][k].replace(pattern,\"\").replace(\"}\",\"\"), str(line_changed)]\n",
    "                except:             \n",
    "                    v = [resw[m][0], resw[m][1], resw[m][2], resw[m][i], resw[m][j], resw[m][k], str(line_changed)]\n",
    "                writers.writerow(v)\n",
    "            i = i + 3\n",
    "            j = j + 3\n",
    "            k = k + 3"
   ]
  },
  {
   "cell_type": "markdown",
   "metadata": {},
   "source": [
    "# Applying git diff -w --ignore-blank-lines --diff-algorithm=myers"
   ]
  },
  {
   "cell_type": "code",
   "execution_count": null,
   "metadata": {},
   "outputs": [],
   "source": [
    "diffmyers = []\n",
    "for v,w in enumerate(parent_id):\n",
    "    sys.stdout.write('\\rExtracting parent id for commits: %i' %(v+1) + ' out of %i' %(len(parent_id)))\n",
    "    sys.stdout.flush()\n",
    "    diff_cmd = \"git diff -w --ignore-blank-lines --diff-algorithm=myers \" + w[2] + \" \" + w[1] + \" --numstat\"\n",
    "    tmp = (str(execute_shell_command(w[0], w[1] , w[2], diff_cmd, repository)).replace(\"(\",'').\n",
    "               replace(\"+\",'').replace(\"\\\\n\",',').replace(\"(+)\",'').replace(\"(-)\",'').replace(\"\\\\t\",',').\n",
    "               replace(\")\",'').replace(\"|\",'').replace(\" \",\"\"))\n",
    "    tmp = re.sub(\"([a-z])\" and \"([ ])\", r\"\\1,\", tmp)\n",
    "    tmp2 = (str(tmp).replace(\",b'\",',').replace(\", \",'').replace(\"\\'\",'').replace(\",,\",''))\n",
    "    diffmyers.append([str(tmp2)])\n",
    "    \n",
    "diffmyersresult = []\n",
    "for item in diffmyers:\n",
    "    if item == ', ':\n",
    "        del item\n",
    "    else:\n",
    "        diffmyersresult.append(item)"
   ]
  },
  {
   "cell_type": "code",
   "execution_count": null,
   "metadata": {},
   "outputs": [],
   "source": [
    "klmyers = []\n",
    "resmyers = []\n",
    "for v in range(0,len(diffmyersresult)):\n",
    "    for w in range(0,len(diffmyersresult[v])):\n",
    "        klmyers = diffmyersresult[v][w].split(',')\n",
    "        resmyers.append(klmyers)\n",
    "resmyers"
   ]
  },
  {
   "cell_type": "code",
   "execution_count": null,
   "metadata": {
    "collapsed": true
   },
   "outputs": [],
   "source": [
    "with open(analyze_dir + 'file-diff/diffmyers-bugs.csv', 'w') as csvfile:\n",
    "    header = ['bug_id','bugintro_commitID', 'parent_id', '#insertions','#deletions','filename','#line_changed']\n",
    "    writers = csv.writer(csvfile, delimiter=',')\n",
    "    writers.writerow(header)\n",
    "    for m in range(0,len(resmyers)):\n",
    "        i = 3\n",
    "        j = 4\n",
    "        k = 5\n",
    "        for x in range(0,int((len(resmyers[m])-3)/3)):\n",
    "            if (resmyers[m][i]) == \"-\":\n",
    "                pass\n",
    "            else:\n",
    "                line_changed = int(resmyers[m][i]) + int(resmyers[m][j])\n",
    "                try:\n",
    "                    pattern = re.search(('({\\w.*=>|{=>)'), resmyers[m][k])\n",
    "                    pattern = pattern.groups()[0]\n",
    "                    v = [resmyers[m][0], resmyers[m][1], resmyers[m][2], resmyers[m][i], resmyers[m][j], resmyers[m][k].replace(pattern,\"\").replace(\"}\",\"\"), str(line_changed)]\n",
    "                except:             \n",
    "                    v = [resmyers[m][0], resmyers[m][1], resmyers[m][2], resmyers[m][i], resmyers[m][j], resmyers[m][k], str(line_changed)]\n",
    "                writers.writerow(v)\n",
    "            i = i + 3\n",
    "            j = j + 3\n",
    "            k = k + 3"
   ]
  },
  {
   "cell_type": "markdown",
   "metadata": {},
   "source": [
    "# Applying -w --ignore-blank-lines --diff-algorithm=minimal"
   ]
  },
  {
   "cell_type": "code",
   "execution_count": null,
   "metadata": {},
   "outputs": [],
   "source": [
    "diffmin = []\n",
    "for v,w in enumerate(parent_id):\n",
    "    sys.stdout.write('\\rExtracting parent id for commits: %i' %(v+1) + ' out of %i' %(len(parent_id)))\n",
    "    sys.stdout.flush()\n",
    "    diff_cmd = \"git diff -w --ignore-blank-lines --diff-algorithm=minimal \" + w[2] + \" \" + w[1] + \" --numstat\"\n",
    "    tmp = (str(execute_shell_command(w[0], w[1] , w[2], diff_cmd, repository)).replace(\"(\",'').\n",
    "               replace(\"+\",'').replace(\"\\\\n\",',').replace(\"(+)\",'').replace(\"(-)\",'').replace(\"\\\\t\",',').\n",
    "               replace(\")\",'').replace(\"|\",'').replace(\" \",\"\"))\n",
    "    tmp = re.sub(\"([a-z])\" and \"([ ])\", r\"\\1,\", tmp)\n",
    "    tmp2 = (str(tmp).replace(\",b'\",',').replace(\", \",'').replace(\"\\'\",'').replace(\",,\",''))\n",
    "    diffmin.append([str(tmp2)])\n",
    "    \n",
    "diffminresult = []\n",
    "for item in diffmin:\n",
    "    if item == ', ':\n",
    "        del item\n",
    "    else:\n",
    "        diffminresult.append(item)"
   ]
  },
  {
   "cell_type": "code",
   "execution_count": null,
   "metadata": {
    "collapsed": true
   },
   "outputs": [],
   "source": [
    "klmin = []\n",
    "resmin = []\n",
    "for v in range(0,len(diffminresult)):\n",
    "    for w in range(0,len(diffminresult[v])):\n",
    "        klmin = diffminresult[v][w].split(',')\n",
    "        resmin.append(klmin)\n",
    "#resmin"
   ]
  },
  {
   "cell_type": "code",
   "execution_count": null,
   "metadata": {
    "collapsed": true
   },
   "outputs": [],
   "source": [
    "with open(analyze_dir + 'file-diff/diffmin-bugs.csv', 'w') as csvfile:\n",
    "    header = ['bug_id','bugintro_commitID', 'parent_id', '#insertions','#deletions','filename','#line_changed']\n",
    "    writers = csv.writer(csvfile, delimiter=',')\n",
    "    writers.writerow(header)\n",
    "    for m in range(0,len(resmin)):\n",
    "        i = 3\n",
    "        j = 4\n",
    "        k = 5\n",
    "        for x in range(0,int((len(resmin[m])-3)/3)):\n",
    "            if (resmin[m][i]) == \"-\":\n",
    "                pass\n",
    "            else:\n",
    "                line_changed = int(resmin[m][i]) + int(resmin[m][j])\n",
    "                try:\n",
    "                    pattern = re.search(('({\\w.*=>|{=>)'), resmin[m][k])\n",
    "                    pattern = pattern.groups()[0]\n",
    "                    v = [resmin[m][0], resmin[m][1], resmin[m][2], resmin[m][i], resmin[m][j], resmin[m][k].replace(pattern,\"\").replace(\"}\",\"\"), str(line_changed)]\n",
    "                except:             \n",
    "                    v = [resmin[m][0], resmin[m][1], resmin[m][2], resmin[m][i], resmin[m][j], resmin[m][k], str(line_changed)]\n",
    "                writers.writerow(v)\n",
    "            i = i + 3\n",
    "            j = j + 3\n",
    "            k = k + 3"
   ]
  },
  {
   "cell_type": "markdown",
   "metadata": {},
   "source": [
    "# Applying -w --ignore-blank-lines --diff-algorithm=patience"
   ]
  },
  {
   "cell_type": "code",
   "execution_count": null,
   "metadata": {},
   "outputs": [],
   "source": [
    "diffpat = []\n",
    "for v,w in enumerate(parent_id):\n",
    "    sys.stdout.write('\\rExtracting parent id for commits: %i' %(v+1) + ' out of %i' %(len(parent_id)))\n",
    "    sys.stdout.flush()\n",
    "    diff_cmd = \"git diff -w --ignore-blank-lines --diff-algorithm=patience \" + w[2] + \" \" + w[1] + \" --numstat\"\n",
    "    tmp = (str(execute_shell_command(w[0], w[1] , w[2], diff_cmd, repository)).replace(\"(\",'').\n",
    "               replace(\"+\",'').replace(\"\\\\n\",',').replace(\"(+)\",'').replace(\"(-)\",'').replace(\"\\\\t\",',').\n",
    "               replace(\")\",'').replace(\"|\",'').replace(\" \",\"\"))\n",
    "    tmp = re.sub(\"([a-z])\" and \"([ ])\", r\"\\1,\", tmp)\n",
    "    tmp2 = (str(tmp).replace(\",b'\",',').replace(\", \",'').replace(\"\\'\",'').replace(\",,\",''))\n",
    "    diffpat.append([str(tmp2)])\n",
    "    \n",
    "diffpatresult = []\n",
    "for item in diffpat:\n",
    "    if item == ', ':\n",
    "        del item\n",
    "    else:\n",
    "        diffpatresult.append(item)"
   ]
  },
  {
   "cell_type": "code",
   "execution_count": null,
   "metadata": {
    "collapsed": true
   },
   "outputs": [],
   "source": [
    "klpat = []\n",
    "respat = []\n",
    "for v in range(0,len(diffpatresult)):\n",
    "    for w in range(0,len(diffpatresult[v])):\n",
    "        klpat = diffpatresult[v][w].split(',')\n",
    "        respat.append(klpat)\n",
    "#respat"
   ]
  },
  {
   "cell_type": "code",
   "execution_count": null,
   "metadata": {
    "collapsed": true
   },
   "outputs": [],
   "source": [
    "with open(analyze_dir + 'file-diff/diffpat-bugs.csv', 'w') as csvfile:\n",
    "    header = ['bug_id','bugintro_commitID', 'parent_id', '#insertions','#deletions','filename','#line_changed']\n",
    "    writers = csv.writer(csvfile, delimiter=',')\n",
    "    writers.writerow(header)\n",
    "    for m in range(0,len(respat)):\n",
    "        i = 3\n",
    "        j = 4\n",
    "        k = 5\n",
    "        for x in range(0,int((len(respat[m])-3)/3)):\n",
    "            if (resmin[m][i]) == \"-\":\n",
    "                pass\n",
    "            else:\n",
    "                line_changed = int(respat[m][i]) + int(respat[m][j])\n",
    "                try:\n",
    "                    pattern = re.search(('({\\w.*=>|{=>)'), respat[m][k])\n",
    "                    pattern = pattern.groups()[0]\n",
    "                    v = [respat[m][0], respat[m][1], respat[m][2], respat[m][i], respat[m][j], respat[m][k].replace(pattern,\"\").replace(\"}\",\"\"), str(line_changed)]\n",
    "                except:             \n",
    "                    v = [respat[m][0], respat[m][1], respat[m][2], respat[m][i], respat[m][j], respat[m][k], str(line_changed)]\n",
    "                writers.writerow(v)\n",
    "            i = i + 3\n",
    "            j = j + 3\n",
    "            k = k + 3"
   ]
  },
  {
   "cell_type": "markdown",
   "metadata": {},
   "source": [
    "# Applying -w --ignore-blank-lines --diff-algorithm=histogram"
   ]
  },
  {
   "cell_type": "code",
   "execution_count": null,
   "metadata": {},
   "outputs": [],
   "source": [
    "diffhist = []\n",
    "for v,w in enumerate(parent_id):\n",
    "    sys.stdout.write('\\rExtracting parent id for commits: %i' %(v+1) + ' out of %i' %(len(parent_id)))\n",
    "    sys.stdout.flush()\n",
    "    diff_cmd = \"git diff -w --ignore-blank-lines --diff-algorithm=histogram \" + w[2] + \" \" + w[1] + \" --numstat\"\n",
    "    tmp = (str(execute_shell_command(w[0], w[1] , w[2], diff_cmd, repository)).replace(\"(\",'').\n",
    "               replace(\"+\",'').replace(\"\\\\n\",',').replace(\"(+)\",'').replace(\"(-)\",'').replace(\"\\\\t\",',').\n",
    "               replace(\")\",'').replace(\"|\",'').replace(\" \",\"\"))\n",
    "    tmp = re.sub(\"([a-z])\" and \"([ ])\", r\"\\1,\", tmp)\n",
    "    tmp2 = (str(tmp).replace(\",b'\",',').replace(\", \",'').replace(\"\\'\",'').replace(\",,\",''))\n",
    "    diffhist.append([str(tmp2)])\n",
    "    \n",
    "diffhistresult = []\n",
    "for item in diffhist:\n",
    "    if item == ', ':\n",
    "        del item\n",
    "    else:\n",
    "        diffhistresult.append(item)\n",
    "#diffhistresult"
   ]
  },
  {
   "cell_type": "code",
   "execution_count": null,
   "metadata": {
    "collapsed": true
   },
   "outputs": [],
   "source": [
    "klhist = []\n",
    "reshist = []\n",
    "for v in range(0,len(diffhistresult)):\n",
    "    for w in range(0,len(diffhistresult[v])):\n",
    "        klhist = diffhistresult[v][w].split(',')\n",
    "        reshist.append(klhist)\n",
    "#reshist"
   ]
  },
  {
   "cell_type": "code",
   "execution_count": null,
   "metadata": {
    "collapsed": true
   },
   "outputs": [],
   "source": [
    "with open(analyze_dir + 'file-diff/diffhist-bugs.csv', 'w') as csvfile:\n",
    "    header = ['bug_id','bugintro_commitID', 'parent_id', '#insertions','#deletions','filename','#line_changed']\n",
    "    writers = csv.writer(csvfile, delimiter=',')\n",
    "    writers.writerow(header)\n",
    "    for m in range(0,len(reshist)):\n",
    "        i = 3\n",
    "        j = 4\n",
    "        k = 5\n",
    "        for x in range(0,int((len(reshist[m])-3)/3)):\n",
    "            if (reshist[m][i]) == \"-\":\n",
    "                pass\n",
    "            else:\n",
    "                line_changed = int(reshist[m][i]) + int(reshist[m][j])\n",
    "                try:\n",
    "                    pattern = re.search(('({\\w.*=>|{=>)'), reshist[m][k])\n",
    "                    pattern = pattern.groups()[0]\n",
    "                    v = [reshist[m][0], reshist[m][1], reshist[m][2], reshist[m][i], reshist[m][j], reshist[m][k].replace(pattern,\"\").replace(\"}\",\"\"), str(line_changed)]\n",
    "                except:             \n",
    "                    v = [reshist[m][0], reshist[m][1], reshist[m][2], reshist[m][i], reshist[m][j], reshist[m][k], str(line_changed)]\n",
    "                writers.writerow(v)\n",
    "            i = i + 3\n",
    "            j = j + 3\n",
    "            k = k + 3"
   ]
  },
  {
   "cell_type": "markdown",
   "metadata": {},
   "source": [
    "# Removing files with no deletions (buglines)"
   ]
  },
  {
   "cell_type": "code",
   "execution_count": null,
   "metadata": {
    "collapsed": true
   },
   "outputs": [],
   "source": [
    "cols = ['bug_id','bugintro_commitID','parent_id','#insertions','#deletions','filename','#line_changed']"
   ]
  },
  {
   "cell_type": "code",
   "execution_count": null,
   "metadata": {
    "collapsed": true
   },
   "outputs": [],
   "source": [
    "dfhist = pd.read_csv(analyze_dir + 'file-diff/diffhist-bugs.csv')\n",
    "dfmin = pd.read_csv(analyze_dir + 'file-diff/diffmin-bugs.csv')\n",
    "dfmyers = pd.read_csv(analyze_dir + 'file-diff/diffmyers-bugs.csv')\n",
    "dfpat = pd.read_csv(analyze_dir + 'file-diff/diffpat-bugs.csv')"
   ]
  },
  {
   "cell_type": "code",
   "execution_count": null,
   "metadata": {},
   "outputs": [],
   "source": [
    "dfhist = dfhist[cols][dfhist['#deletions'] != 0]\n",
    "dfhist.to_csv(analyze_dir + 'file-diff/diffhist-bugs.csv')\n",
    "dfhist"
   ]
  },
  {
   "cell_type": "code",
   "execution_count": null,
   "metadata": {},
   "outputs": [],
   "source": [
    "dfmin = dfmin[cols][dfmin['#deletions'] != 0]\n",
    "dfmin.to_csv(analyze_dir + 'file-diff/diffmin-bugs.csv')\n",
    "dfmin"
   ]
  },
  {
   "cell_type": "code",
   "execution_count": null,
   "metadata": {},
   "outputs": [],
   "source": [
    "dfmyers = dfmyers[cols][dfmyers['#deletions'] != 0]\n",
    "dfmyers.to_csv(analyze_dir + 'file-diff/diffmyers-bugs.csv')\n",
    "dfmyers"
   ]
  },
  {
   "cell_type": "code",
   "execution_count": null,
   "metadata": {},
   "outputs": [],
   "source": [
    "dfpat = dfpat[cols][dfpat['#deletions'] != 0]\n",
    "dfpat.to_csv(analyze_dir + 'file-diff/diffpat-bugs.csv')\n",
    "dfpat"
   ]
  },
  {
   "cell_type": "markdown",
   "metadata": {},
   "source": [
    "# Visualizing the number of changes in different diff using graph"
   ]
  },
  {
   "cell_type": "code",
   "execution_count": null,
   "metadata": {
    "collapsed": true
   },
   "outputs": [],
   "source": [
    "dfhist = pd.read_csv(analyze_dir + 'file-diff/diffhist-bugs.csv')\n",
    "dfhist = dfhist[header]\n",
    "dfmin = pd.read_csv(analyze_dir + 'file-diff/diffmin-bugs.csv')\n",
    "dfmin = dfmin[header]\n",
    "dfmyers = pd.read_csv(analyze_dir + 'file-diff/diffmyers-bugs.csv')\n",
    "dfmyers = dfmyers[header]\n",
    "dfpat = pd.read_csv(analyze_dir + 'file-diff/diffpat-bugs.csv')\n",
    "dfpat = dfpat[header]"
   ]
  },
  {
   "cell_type": "code",
   "execution_count": null,
   "metadata": {
    "collapsed": true
   },
   "outputs": [],
   "source": [
    "#sorting data based on filename\n",
    "dfhist = dfhist.sort_values('filename')\n",
    "dfmyers = dfmyers.sort_values('filename')\n",
    "dfmin = dfmin.sort_values('filename')\n",
    "dfpat = dfpat.sort_values('filename')"
   ]
  },
  {
   "cell_type": "code",
   "execution_count": null,
   "metadata": {
    "collapsed": true
   },
   "outputs": [],
   "source": [
    "#Merge dataframes bug-hist and bug-myers\n",
    "datamerge1 = dfhist.merge(dfmyers, on=['bug_id','bugintro_commitID', 'parent_id', 'filename'], how=\"outer\", suffixes=('-hist', '-myers'))\n",
    "#Merge dataframes bug-min and bug-pat\n",
    "datamerge2 = dfmin.merge(dfpat, on=['bug_id','bugintro_commitID', 'parent_id', 'filename'], how=\"outer\", suffixes=('-min', '-pat'))\n",
    "#Merge all dataframes\n",
    "datamerge3 = datamerge1.merge(datamerge2, on=['bug_id','bugintro_commitID', 'parent_id', 'filename'], how=\"outer\")\n",
    "\n",
    "#Fill NAs with 0 and sort by filename\n",
    "datamerge3.fillna(0, inplace=True)\n",
    "datamerge3 = datamerge3.sort_values(by ='#deletions-hist').reset_index(drop=True)\n",
    "colnames = ['bug_id','bugintro_commitID', 'parent_id','filename','#deletions-hist','#deletions-myers','#deletions-min','#deletions-pat']\n",
    "datamerge3 = datamerge3[colnames]\n",
    "\n",
    "#save to csv file\n",
    "datamerge3.to_csv(analyze_dir + 'file-diff/diffbugs_file.csv')"
   ]
  },
  {
   "cell_type": "code",
   "execution_count": null,
   "metadata": {
    "collapsed": true
   },
   "outputs": [],
   "source": [
    "#Remove duplicates data\n",
    "datamerge4 = datamerge3[datamerge3.iloc[:,-4:].diff(axis=1).fillna(0).any(1)]\n",
    "datamerge4 = datamerge4.sort_values('#deletions-myers', ascending=False)\n",
    "\n",
    "#save to csv file\n",
    "datamerge4.to_csv(analyze_dir + 'file-diff/diffbugs_file_differentvalue.csv')"
   ]
  },
  {
   "cell_type": "code",
   "execution_count": null,
   "metadata": {
    "scrolled": true
   },
   "outputs": [],
   "source": [
    "#Show the csv file with different value of number of line changed\n",
    "data = pd.read_csv(analyze_dir + 'file-diff/diffbugs_file_differentvalue.csv')\n",
    "data = datamerge4[colnames]\n",
    "data"
   ]
  },
  {
   "cell_type": "code",
   "execution_count": null,
   "metadata": {
    "collapsed": true
   },
   "outputs": [],
   "source": []
  }
 ],
 "metadata": {
  "kernelspec": {
   "display_name": "Python 3",
   "language": "python",
   "name": "python3"
  },
  "language_info": {
   "codemirror_mode": {
    "name": "ipython",
    "version": 3
   },
   "file_extension": ".py",
   "mimetype": "text/x-python",
   "name": "python",
   "nbconvert_exporter": "python",
   "pygments_lexer": "ipython3",
   "version": "3.6.3"
  }
 },
 "nbformat": 4,
 "nbformat_minor": 2
}
