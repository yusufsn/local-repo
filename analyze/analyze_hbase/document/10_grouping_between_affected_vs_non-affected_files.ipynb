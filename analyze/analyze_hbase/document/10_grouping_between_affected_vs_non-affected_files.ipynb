{
 "cells": [
  {
   "cell_type": "code",
   "execution_count": null,
   "metadata": {
    "collapsed": true
   },
   "outputs": [],
   "source": [
    "import os, glob, json, csv, subprocess, sys, re, operator, itertools\n",
    "import datetime\n",
    "from git import *\n",
    "from subprocess import Popen, PIPE\n",
    "from os import path\n",
    "from collections import Iterable\n",
    "import pandas as pd\n",
    "import plotly.graph_objs as go\n",
    "from plotly.offline import plot, init_notebook_mode, iplot\n",
    "\n",
    "%matplotlib inline"
   ]
  },
  {
   "cell_type": "markdown",
   "metadata": {},
   "source": [
    "# Defining repository and directories"
   ]
  },
  {
   "cell_type": "code",
   "execution_count": null,
   "metadata": {
    "collapsed": true
   },
   "outputs": [],
   "source": [
    "userhome = os.path.expanduser(\"~\")\n",
    "repository = userhome + r'/different-diff/dataset/hbase/'"
   ]
  },
  {
   "cell_type": "code",
   "execution_count": null,
   "metadata": {
    "collapsed": true
   },
   "outputs": [],
   "source": [
    "analyze_dir = userhome + r'/different-diff/analyze/analyze_hbase/'"
   ]
  },
  {
   "cell_type": "markdown",
   "metadata": {},
   "source": [
    "# Loading comparison data between bugline and blame"
   ]
  },
  {
   "cell_type": "code",
   "execution_count": null,
   "metadata": {
    "collapsed": true
   },
   "outputs": [],
   "source": [
    "compare_dirs = analyze_dir + 'step_3/diff-file_blame-file_comparison/'"
   ]
  },
  {
   "cell_type": "code",
   "execution_count": null,
   "metadata": {},
   "outputs": [],
   "source": [
    "dirs = []\n",
    "for d in glob.iglob(compare_dirs + '*', recursive=True):\n",
    "    dirs.append(d)\n",
    "dirs.sort()\n",
    "dirs"
   ]
  },
  {
   "cell_type": "code",
   "execution_count": null,
   "metadata": {
    "collapsed": true
   },
   "outputs": [],
   "source": [
    "column_name = ['bug_id','line_number','buggy_code','does_bugline_from_originfile?','date_added_in_originfile','earliest_affected_version','version_release_date','bug_class']"
   ]
  },
  {
   "cell_type": "markdown",
   "metadata": {},
   "source": [
    "# Histogram"
   ]
  },
  {
   "cell_type": "code",
   "execution_count": null,
   "metadata": {
    "collapsed": true
   },
   "outputs": [],
   "source": [
    "#Reading files from comparison\n",
    "result = []\n",
    "for file in glob.iglob(dirs[0] + '/*', recursive=True):\n",
    "    res = []\n",
    "    with open(file,'r') as myfile:\n",
    "        csv_reader = csv.reader(myfile, delimiter=',')\n",
    "        for row in csv_reader:\n",
    "            res.append(row[7])\n",
    "    del res[0]\n",
    "    \n",
    "    regex = re.search(\"\\_(?P<commitid>[a-z0-9]{10})\\-(?P<parentid>[a-z0-9]{10})\\_\", file)\n",
    "    regex = regex.groups()\n",
    "    \n",
    "    if ('bug-introducing change') not in res:\n",
    "        tmp = [file,row[0],regex[0],regex[1],\"Does not affect the version\"]\n",
    "    else:\n",
    "        tmp = [file,row[0],regex[0],regex[1],\"Affect the version\"]\n",
    "    result.append(tmp)\n",
    "result.sort()"
   ]
  },
  {
   "cell_type": "code",
   "execution_count": null,
   "metadata": {},
   "outputs": [],
   "source": [
    "result"
   ]
  },
  {
   "cell_type": "code",
   "execution_count": null,
   "metadata": {
    "collapsed": true
   },
   "outputs": [],
   "source": [
    "with open(analyze_dir + \"step_3/affect_vs_nonaffect/affectfiles_classification.csv\", 'w') as myfile:\n",
    "    writers = csv.writer(myfile, delimiter=\",\")\n",
    "    cols = ['filename','bug_id','commit_id','parent_id','affect_or_nonaffect']\n",
    "    writers.writerow(cols)\n",
    "    for el in result:\n",
    "        writers.writerow(el)"
   ]
  },
  {
   "cell_type": "code",
   "execution_count": null,
   "metadata": {},
   "outputs": [],
   "source": [
    "#Grouping files based on the result\n",
    "affect = []\n",
    "not_affect = []\n",
    "for ll, mm in enumerate(result):\n",
    "    if mm[2] == 'Affect the version':\n",
    "        affect.append(mm)\n",
    "    else:\n",
    "        not_affect.append(mm)\n",
    "not_affect"
   ]
  },
  {
   "cell_type": "code",
   "execution_count": null,
   "metadata": {},
   "outputs": [],
   "source": [
    "affect[0][1]"
   ]
  },
  {
   "cell_type": "code",
   "execution_count": null,
   "metadata": {
    "scrolled": true
   },
   "outputs": [],
   "source": [
    "#Capturing bug ids which affected the earliest version \n",
    "bug_id_affect = []\n",
    "for b, b_id in enumerate(affect):\n",
    "    bug_id_affect.append(b_id[1])\n",
    "bug_id_affect.sort()\n",
    "print (len(bug_id_affect))\n",
    "bug_id_affect"
   ]
  },
  {
   "cell_type": "code",
   "execution_count": null,
   "metadata": {},
   "outputs": [],
   "source": [
    "#Removing duplicate bug id in bug_id_affect\n",
    "affected_bug_id = list(set(bug_id_affect))\n",
    "affected_bug_id.sort()\n",
    "num_bid = len(affected_bug_id)\n",
    "print (\"Number of bug id affected the earliest version: \", num_bid)\n",
    "affected_bug_id"
   ]
  },
  {
   "cell_type": "code",
   "execution_count": null,
   "metadata": {},
   "outputs": [],
   "source": [
    "#Capturing bug ids which did not affect the earliest version \n",
    "bug_id_notaffect = []\n",
    "for b, b_id in enumerate(not_affect):\n",
    "    bug_id_notaffect.append(b_id[1])\n",
    "bug_id_notaffect.sort()\n",
    "print (len(bug_id_notaffect))\n",
    "bug_id_notaffect"
   ]
  },
  {
   "cell_type": "code",
   "execution_count": null,
   "metadata": {},
   "outputs": [],
   "source": [
    "#Removing duplicate bug id in bug_id_notaffect\n",
    "notaffected_bug_id = list(set(bug_id_notaffect))\n",
    "notaffected_bug_id.sort()\n",
    "num_nbid = len(notaffected_bug_id)\n",
    "print (\"Number of bug id did not affect the earliest version: \", num_nbid)\n",
    "notaffected_bug_id"
   ]
  },
  {
   "cell_type": "code",
   "execution_count": null,
   "metadata": {},
   "outputs": [],
   "source": [
    "num_affect = len(affect)\n",
    "num_notaffect = len(not_affect)\n",
    "\n",
    "print (\"Number of files affect the earliest version: %i\" %(num_affect))\n",
    "print (\"Number of files did not affect the earliest version: %i\" %(num_notaffect))"
   ]
  },
  {
   "cell_type": "code",
   "execution_count": null,
   "metadata": {
    "collapsed": true
   },
   "outputs": [],
   "source": []
  },
  {
   "cell_type": "markdown",
   "metadata": {},
   "source": [
    "# Minimal"
   ]
  },
  {
   "cell_type": "code",
   "execution_count": null,
   "metadata": {
    "collapsed": true
   },
   "outputs": [],
   "source": []
  },
  {
   "cell_type": "markdown",
   "metadata": {},
   "source": [
    "# Visualizing the number of affected and not affected files between algorithms"
   ]
  },
  {
   "cell_type": "code",
   "execution_count": null,
   "metadata": {},
   "outputs": [],
   "source": [
    "graph_bid = go.Bar(\n",
    "    x = ['#Bug ids affect'],\n",
    "    y = [num_bid],\n",
    "    text = [num_bid],\n",
    "    textposition = 'auto',\n",
    "    name = 'Bug ids affect'\n",
    ")\n",
    "\n",
    "graph_aff = go.Bar(\n",
    "    x = ['#Files affect'],\n",
    "    y = [num_affect],\n",
    "    text = [num_affect],\n",
    "    textposition = 'auto',\n",
    "    name = 'Files affect'\n",
    ")\n",
    "\n",
    "graph_noaff = go.Bar(\n",
    "    x = ['#Files do not affect'],\n",
    "    y = [num_notaffect],\n",
    "    text = [num_notaffect],\n",
    "    textposition = 'auto',\n",
    "    name = 'Files do not affect'\n",
    ")\n",
    "\n",
    "\n",
    "dt = [graph_bid, graph_aff, graph_noaff]\n",
    "\n",
    "layout = go.Layout(\n",
    "    title = 'Number of files which have effect to the earliest version'\n",
    ")\n",
    "\n",
    "init_notebook_mode(connected=True)\n",
    "fig = go.Figure(data=dt, layout=layout)\n",
    "iplot(fig, show_link=False)"
   ]
  },
  {
   "cell_type": "code",
   "execution_count": null,
   "metadata": {
    "collapsed": true
   },
   "outputs": [],
   "source": []
  },
  {
   "cell_type": "code",
   "execution_count": null,
   "metadata": {
    "collapsed": true
   },
   "outputs": [],
   "source": []
  },
  {
   "cell_type": "code",
   "execution_count": null,
   "metadata": {
    "collapsed": true
   },
   "outputs": [],
   "source": []
  }
 ],
 "metadata": {
  "kernelspec": {
   "display_name": "Python 3",
   "language": "python",
   "name": "python3"
  },
  "language_info": {
   "codemirror_mode": {
    "name": "ipython",
    "version": 3
   },
   "file_extension": ".py",
   "mimetype": "text/x-python",
   "name": "python",
   "nbconvert_exporter": "python",
   "pygments_lexer": "ipython3",
   "version": "3.6.3"
  }
 },
 "nbformat": 4,
 "nbformat_minor": 2
}
