{
 "cells": [
  {
   "cell_type": "markdown",
   "metadata": {},
   "source": [
    "# Importing libraries"
   ]
  },
  {
   "cell_type": "code",
   "execution_count": null,
   "metadata": {
    "collapsed": true
   },
   "outputs": [],
   "source": [
    "import os, sys, csv\n",
    "from os import path\n",
    "import pandas as pd\n",
    "import plotly.graph_objs as go\n",
    "from plotly.offline import plot, init_notebook_mode, iplot\n",
    "\n",
    "%matplotlib inline"
   ]
  },
  {
   "cell_type": "markdown",
   "metadata": {},
   "source": [
    "# Defining directories"
   ]
  },
  {
   "cell_type": "code",
   "execution_count": null,
   "metadata": {
    "collapsed": true
   },
   "outputs": [],
   "source": [
    "userhome = os.path.expanduser('~')\n",
    "analyze_dir = userhome + r'/different-diff/analyze/collect_metrics/analyze_crate.io/'"
   ]
  },
  {
   "cell_type": "markdown",
   "metadata": {},
   "source": [
    "# Load merged dataset"
   ]
  },
  {
   "cell_type": "code",
   "execution_count": null,
   "metadata": {
    "collapsed": true,
    "scrolled": true
   },
   "outputs": [],
   "source": [
    "datamerge = pd.read_csv(analyze_dir + '04_merge_dataframe/datamerge_all_algorithms.csv')\n",
    "datamerge"
   ]
  },
  {
   "cell_type": "markdown",
   "metadata": {},
   "source": [
    "# Separating columns of dataset"
   ]
  },
  {
   "cell_type": "code",
   "execution_count": null,
   "metadata": {
    "collapsed": true
   },
   "outputs": [],
   "source": [
    "#defining colums\n",
    "ins_field = ['filename','#insertions_histogram','#insertions_minimal','#insertions_myers','#insertions_patience']\n",
    "del_field = ['filename','#deletions_histogram','#deletions_minimal','#deletions_myers','#deletions_patience']"
   ]
  },
  {
   "cell_type": "code",
   "execution_count": null,
   "metadata": {
    "collapsed": true,
    "scrolled": true
   },
   "outputs": [],
   "source": [
    "#dataframe for insertions\n",
    "df_ins = datamerge[ins_field]\n",
    "df_ins.to_csv(analyze_dir + '05_separating_files/number_of_insertions_file.csv')\n",
    "df_insert = pd.read_csv(analyze_dir + '05_separating_files/number_of_insertions_file.csv')\n",
    "df_insert = df_insert[ins_field]\n",
    "df_insert"
   ]
  },
  {
   "cell_type": "code",
   "execution_count": null,
   "metadata": {
    "collapsed": true,
    "scrolled": true
   },
   "outputs": [],
   "source": [
    "#dataframe for deletions\n",
    "df_del = datamerge[del_field]\n",
    "df_del.to_csv(analyze_dir + '05_separating_files/number_of_deletions_file.csv')\n",
    "df_delete = pd.read_csv(analyze_dir + '05_separating_files/number_of_deletions_file.csv')\n",
    "df_delete = df_delete[del_field]\n",
    "df_delete"
   ]
  },
  {
   "cell_type": "markdown",
   "metadata": {},
   "source": [
    "# Capturing data with different number of insertions"
   ]
  },
  {
   "cell_type": "code",
   "execution_count": null,
   "metadata": {
    "collapsed": true,
    "scrolled": true
   },
   "outputs": [],
   "source": [
    "df_diffins = df_insert[df_insert.iloc[:,-4:].nunique(1).gt(1)]\n",
    "df_diffins.to_csv(analyze_dir + '05_separating_files/different_insertions.csv', index=False)\n",
    "df_diffins"
   ]
  },
  {
   "cell_type": "markdown",
   "metadata": {},
   "source": [
    "# Capturing data with different number of deletions"
   ]
  },
  {
   "cell_type": "code",
   "execution_count": null,
   "metadata": {
    "collapsed": true,
    "scrolled": true
   },
   "outputs": [],
   "source": [
    "df_diffdel = df_delete[df_delete.iloc[:,-4:].nunique(1).gt(1)]\n",
    "df_diffdel.to_csv(analyze_dir + '05_separating_files/different_deletions.csv', index=False)\n",
    "df_diffdel"
   ]
  },
  {
   "cell_type": "markdown",
   "metadata": {},
   "source": [
    "# Percentage of files having different number"
   ]
  },
  {
   "cell_type": "markdown",
   "metadata": {},
   "source": [
    "Percentage of different insertions"
   ]
  },
  {
   "cell_type": "code",
   "execution_count": null,
   "metadata": {
    "collapsed": true
   },
   "outputs": [],
   "source": [
    "ins_percent = (len(df_diffins) / len(df_insert)) * 100\n",
    "rest_ins = 100 - ins_percent\n",
    "print (\"{0:.2f}%\".format(ins_percent))"
   ]
  },
  {
   "cell_type": "code",
   "execution_count": null,
   "metadata": {
    "collapsed": true
   },
   "outputs": [],
   "source": [
    "labels = ['different number of insertions', 'same number of insertions']\n",
    "values = [ins_percent, rest_ins]\n",
    "colors = ['#FF396C','#96D38C']\n",
    "\n",
    "trace = go.Pie(\n",
    "    labels=labels,\n",
    "    values=values,\n",
    "    hoverinfo='label+percent', textinfo='value', \n",
    "            textfont=dict(size=15),\n",
    "            marker=dict(colors=colors, line=dict(color='#000000', width=2))\n",
    ")\n",
    "\n",
    "data = [trace]\n",
    "layout = go.Layout(\n",
    "    title = \"Percentage of files having different number of insertions in Crate.io Project\"\n",
    ")\n",
    "\n",
    "init_notebook_mode(connected=True)\n",
    "fig = go.Figure(data=data, layout=layout)\n",
    "iplot(fig, show_link=False)"
   ]
  },
  {
   "cell_type": "markdown",
   "metadata": {},
   "source": [
    "Percentage of different deletions"
   ]
  },
  {
   "cell_type": "code",
   "execution_count": null,
   "metadata": {
    "collapsed": true
   },
   "outputs": [],
   "source": [
    "del_percent = (len(df_diffdel) / len(df_delete)) * 100\n",
    "rest_del = 100 - del_percent\n",
    "print (\"{0:.2f}%\".format(del_percent))"
   ]
  },
  {
   "cell_type": "code",
   "execution_count": null,
   "metadata": {
    "collapsed": true
   },
   "outputs": [],
   "source": [
    "labels = ['different number of deletions', 'same number of deletions']\n",
    "values = [del_percent, rest_del]\n",
    "colors = ['#FF396C','#96D38C']\n",
    "\n",
    "trace = go.Pie(\n",
    "    labels=labels,\n",
    "    values=values,\n",
    "    hoverinfo='label+percent', textinfo='value', \n",
    "            textfont=dict(size=15),\n",
    "            marker=dict(colors=colors, line=dict(color='#000000', width=2))\n",
    ")\n",
    "\n",
    "data = [trace]\n",
    "layout = go.Layout(\n",
    "    title = \"Percentage of files having different number of deletions in Crate.io Project\"\n",
    ")\n",
    "\n",
    "init_notebook_mode(connected=True)\n",
    "fig = go.Figure(data=data, layout=layout)\n",
    "iplot(fig, show_link=False)"
   ]
  },
  {
   "cell_type": "code",
   "execution_count": null,
   "metadata": {
    "collapsed": true
   },
   "outputs": [],
   "source": [
    "trace = go.Bar(\n",
    "    x = ['insertions','deletions'],\n",
    "    y = [ins_percent, del_percent],\n",
    "    text = [ins_percent, del_percent],\n",
    "    textposition = 'auto',\n",
    "    marker = dict(\n",
    "        color = 'rgb(100,255,150)',\n",
    "        line = dict(\n",
    "            color = '#000000',\n",
    "            width = 1.5\n",
    "        ),\n",
    "    ),\n",
    "    opacity = 0.6\n",
    ")\n",
    "\n",
    "data = [trace]\n",
    "\n",
    "layout = go.Layout(\n",
    "    title = 'Percentage of files having different number in Crate.io Project'\n",
    ")\n",
    "\n",
    "init_notebook_mode(connected=True)\n",
    "fig = go.Figure(data=data,layout=layout)\n",
    "iplot(fig, show_link=False)"
   ]
  },
  {
   "cell_type": "code",
   "execution_count": null,
   "metadata": {
    "collapsed": true
   },
   "outputs": [],
   "source": []
  }
 ],
 "metadata": {
  "kernelspec": {
   "display_name": "Python 3",
   "language": "python",
   "name": "python3"
  },
  "language_info": {
   "codemirror_mode": {
    "name": "ipython",
    "version": 3
   },
   "file_extension": ".py",
   "mimetype": "text/x-python",
   "name": "python",
   "nbconvert_exporter": "python",
   "pygments_lexer": "ipython3",
   "version": "3.6.3"
  }
 },
 "nbformat": 4,
 "nbformat_minor": 2
}
