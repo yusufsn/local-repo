{
 "cells": [
  {
   "cell_type": "markdown",
   "metadata": {},
   "source": [
    "# Importing libraries"
   ]
  },
  {
   "cell_type": "code",
   "execution_count": null,
   "metadata": {
    "collapsed": true
   },
   "outputs": [],
   "source": [
    "import os, csv\n",
    "from os import path\n",
    "import pandas as pd"
   ]
  },
  {
   "cell_type": "markdown",
   "metadata": {},
   "source": [
    "# Defining directories"
   ]
  },
  {
   "cell_type": "code",
   "execution_count": null,
   "metadata": {
    "collapsed": true
   },
   "outputs": [],
   "source": [
    "userhome = os.path.expanduser('~')\n",
    "analyze_dir = userhome + r\"/different-diff/analyze/collect_metrics/analyze_crate.io/\""
   ]
  },
  {
   "cell_type": "markdown",
   "metadata": {},
   "source": [
    "# Load diff dataset"
   ]
  },
  {
   "cell_type": "code",
   "execution_count": null,
   "metadata": {
    "collapsed": true
   },
   "outputs": [],
   "source": [
    "algorithms = ['histogram','minimal','myers','patience']"
   ]
  },
  {
   "cell_type": "code",
   "execution_count": null,
   "metadata": {
    "collapsed": true
   },
   "outputs": [],
   "source": [
    "df_diffhist = pd.read_csv(analyze_dir + '02_diff-file/diffhist-metrics.csv')\n",
    "df_diffmin = pd.read_csv(analyze_dir + '02_diff-file/diffmin-metrics.csv')\n",
    "df_diffmyers = pd.read_csv(analyze_dir + '02_diff-file/diffmyers-metrics.csv')\n",
    "df_diffpat = pd.read_csv(analyze_dir + '02_diff-file/diffpat-metrics.csv')"
   ]
  },
  {
   "cell_type": "markdown",
   "metadata": {},
   "source": [
    "# Grouping same files and summarize the number of added and deleted lines"
   ]
  },
  {
   "cell_type": "code",
   "execution_count": null,
   "metadata": {
    "collapsed": true,
    "scrolled": true
   },
   "outputs": [],
   "source": [
    "data_frame = [df_diffhist, df_diffmin, df_diffmyers, df_diffpat]\n",
    "summarize = []\n",
    "for i, df in enumerate(data_frame):\n",
    "    temp = df.groupby('filename')[['#insertions','#deletions','#line_changed']].sum()\n",
    "    summarize.append(temp)"
   ]
  },
  {
   "cell_type": "code",
   "execution_count": null,
   "metadata": {
    "collapsed": true,
    "scrolled": true
   },
   "outputs": [],
   "source": [
    "summarize[0]"
   ]
  },
  {
   "cell_type": "code",
   "execution_count": null,
   "metadata": {
    "collapsed": true
   },
   "outputs": [],
   "source": [
    "for z in range(0,len(summarize)):\n",
    "    summarize[z].to_csv(analyze_dir + r'03_summarize/' + algorithms[z] + '_file_sum.csv')"
   ]
  },
  {
   "cell_type": "markdown",
   "metadata": {},
   "source": [
    "# Merging dataset"
   ]
  },
  {
   "cell_type": "markdown",
   "metadata": {},
   "source": [
    "Load the summarize dataset"
   ]
  },
  {
   "cell_type": "code",
   "execution_count": null,
   "metadata": {
    "collapsed": true
   },
   "outputs": [],
   "source": [
    "df_sum = []\n",
    "for a, alg in enumerate(algorithms):\n",
    "    df_sum.append(pd.read_csv(analyze_dir + r'03_summarize/' + alg + '_file_sum.csv'))"
   ]
  },
  {
   "cell_type": "code",
   "execution_count": null,
   "metadata": {
    "collapsed": true,
    "scrolled": true
   },
   "outputs": [],
   "source": [
    "df_sum[0]"
   ]
  },
  {
   "cell_type": "code",
   "execution_count": null,
   "metadata": {
    "collapsed": true,
    "scrolled": true
   },
   "outputs": [],
   "source": [
    "#merge df histogram and minimal\n",
    "dm_histmin = df_sum[0].merge(df_sum[1], on=['filename'], how='outer', suffixes=('_histogram','_minimal'))\n",
    "#merge df myers and patience\n",
    "dm_myerspat = df_sum[2].merge(df_sum[3], on=['filename'], how='outer', suffixes=('_myers','_patience'))\n",
    "\n",
    "#merge all\n",
    "dm_all = dm_histmin.merge(dm_myerspat, on=['filename'], how='outer')\n",
    "\n",
    "#fill NAs with 0 and sort the dataset descending\n",
    "dm_all.fillna(0, inplace=True)\n",
    "dm_all = dm_all.sort_values(by = '#line_changed_histogram', ascending=False).reset_index(drop=True)\n",
    "\n",
    "cols = ['filename','#insertions_histogram','#deletions_histogram','#insertions_minimal','#deletions_minimal',\n",
    "        '#insertions_myers','#deletions_myers','#insertions_patience','#deletions_patience']\n",
    "dm_all = dm_all[cols]\n",
    "dm_all"
   ]
  },
  {
   "cell_type": "code",
   "execution_count": null,
   "metadata": {
    "collapsed": true
   },
   "outputs": [],
   "source": [
    "#saving to CSV file\n",
    "dm_all.to_csv(analyze_dir + '04_merge_dataframe/datamerge_all_algorithms.csv', index=False)"
   ]
  },
  {
   "cell_type": "code",
   "execution_count": null,
   "metadata": {
    "collapsed": true
   },
   "outputs": [],
   "source": []
  }
 ],
 "metadata": {
  "kernelspec": {
   "display_name": "Python 3",
   "language": "python",
   "name": "python3"
  },
  "language_info": {
   "codemirror_mode": {
    "name": "ipython",
    "version": 3
   },
   "file_extension": ".py",
   "mimetype": "text/x-python",
   "name": "python",
   "nbconvert_exporter": "python",
   "pygments_lexer": "ipython3",
   "version": "3.6.3"
  }
 },
 "nbformat": 4,
 "nbformat_minor": 2
}
