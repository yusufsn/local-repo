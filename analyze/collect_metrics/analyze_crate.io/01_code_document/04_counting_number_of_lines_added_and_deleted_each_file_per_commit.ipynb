{
 "cells": [
  {
   "cell_type": "markdown",
   "metadata": {},
   "source": [
    "# MYERS VS HISTOGRAM"
   ]
  },
  {
   "cell_type": "code",
   "execution_count": null,
   "metadata": {
    "collapsed": true
   },
   "outputs": [],
   "source": [
    "import os, sys, csv\n",
    "from os import path\n",
    "import pandas as pd\n",
    "import plotly.graph_objs as go\n",
    "from plotly.offline import plot, init_notebook_mode, iplot\n",
    "\n",
    "%matplotlib inline"
   ]
  },
  {
   "cell_type": "markdown",
   "metadata": {},
   "source": [
    "# Defining directories"
   ]
  },
  {
   "cell_type": "code",
   "execution_count": null,
   "metadata": {
    "collapsed": true
   },
   "outputs": [],
   "source": [
    "userhome = os.path.expanduser('~')\n",
    "analyze_dir = userhome + r'/different-diff/analyze/collect_metrics/analyze_crate.io/'\n",
    "project = 'Crate.IO'"
   ]
  },
  {
   "cell_type": "markdown",
   "metadata": {},
   "source": [
    "# Open diff dataset for Myers and Histogram"
   ]
  },
  {
   "cell_type": "code",
   "execution_count": null,
   "metadata": {
    "collapsed": true
   },
   "outputs": [],
   "source": [
    "df_diffmyers = pd.read_csv(analyze_dir + '02_diff-file/diffmyers-metrics.csv')\n",
    "df_diffhist = pd.read_csv(analyze_dir + '02_diff-file/diffhist-metrics.csv')"
   ]
  },
  {
   "cell_type": "code",
   "execution_count": null,
   "metadata": {
    "scrolled": true
   },
   "outputs": [],
   "source": [
    "df_diffmyers"
   ]
  },
  {
   "cell_type": "code",
   "execution_count": null,
   "metadata": {
    "scrolled": true
   },
   "outputs": [],
   "source": [
    "df_diffhist"
   ]
  },
  {
   "cell_type": "markdown",
   "metadata": {},
   "source": [
    "# Merge two datasets"
   ]
  },
  {
   "cell_type": "code",
   "execution_count": null,
   "metadata": {
    "collapsed": true
   },
   "outputs": [],
   "source": [
    "df_merge = df_diffmyers.merge(df_diffhist, on=['commit_id','parent_id','filename'], \n",
    "                                            how='outer', suffixes=('_myers', '_histogram'))\n",
    "df_merge.fillna(0, inplace=True)"
   ]
  },
  {
   "cell_type": "code",
   "execution_count": null,
   "metadata": {
    "scrolled": true
   },
   "outputs": [],
   "source": [
    "fields = ['commit_id','parent_id','filename','#insertions_myers','#insertions_histogram','#deletions_myers','#deletions_histogram']\n",
    "df_merge = df_merge[fields]\n",
    "df_merge"
   ]
  },
  {
   "cell_type": "markdown",
   "metadata": {},
   "source": [
    "# Capturing only filename with different number of added and deleted lines"
   ]
  },
  {
   "cell_type": "code",
   "execution_count": null,
   "metadata": {},
   "outputs": [],
   "source": [
    "df_different = []\n",
    "df_same = []\n",
    "for row in range(0, len(df_merge)):\n",
    "    ins_myers = df_merge.iloc[row][3]\n",
    "    ins_hist = df_merge.iloc[row][4]\n",
    "    del_myers = df_merge.iloc[row][5]\n",
    "    del_hist = df_merge.iloc[row][6]\n",
    "    if (ins_myers != ins_hist) or (del_myers != del_hist):\n",
    "        df_different.append(df_merge.iloc[row])\n",
    "    else:\n",
    "        df_same.append(df_merge.iloc[row])\n",
    "\n",
    "print (\"Process is complete\")\n",
    "print (\"------------------------------------------------------\")\n",
    "print (\"Project name : {}\".format(project))\n",
    "print (\"The number of commits that have different result: %i\" %(len(df_different)))\n",
    "print (\"The number of commits that have same result: %i\" %(len(df_same)))"
   ]
  },
  {
   "cell_type": "code",
   "execution_count": null,
   "metadata": {},
   "outputs": [],
   "source": [
    "with open(analyze_dir + '06_myers_vs_histogram/number_of_commits_with_different_result.csv','w') as diffcsv:\n",
    "    writers = csv.writer(diffcsv, delimiter=',')\n",
    "    writers.writerow(fields)\n",
    "    for item in df_different:\n",
    "        writers.writerow(item)\n",
    "print (\"The CSV file that has different result has been created\")"
   ]
  },
  {
   "cell_type": "code",
   "execution_count": null,
   "metadata": {},
   "outputs": [],
   "source": [
    "with open(analyze_dir + '06_myers_vs_histogram/number_of_commits_with_same_result.csv','w') as diffcsv:\n",
    "    writers = csv.writer(diffcsv, delimiter=',')\n",
    "    writers.writerow(fields)\n",
    "    for item in df_same:\n",
    "        writers.writerow(item)\n",
    "print (\"The CSV file that has same result has been created\")"
   ]
  },
  {
   "cell_type": "code",
   "execution_count": null,
   "metadata": {
    "scrolled": true
   },
   "outputs": [],
   "source": [
    "dframe = pd.read_csv(analyze_dir + '06_myers_vs_histogram/number_of_commits_with_different_result.csv')\n",
    "dframe"
   ]
  },
  {
   "cell_type": "code",
   "execution_count": null,
   "metadata": {},
   "outputs": [],
   "source": [
    "percent_of_diffresult = (len(df_different)/len(df_merge))*100\n",
    "print (\"The percentage of commits that have different results in \" + project + \" Project = {0:.2f}%\".\n",
    "       format(percent_of_diffresult))"
   ]
  },
  {
   "cell_type": "code",
   "execution_count": null,
   "metadata": {
    "collapsed": true
   },
   "outputs": [],
   "source": []
  }
 ],
 "metadata": {
  "kernelspec": {
   "display_name": "Python 3",
   "language": "python",
   "name": "python3"
  },
  "language_info": {
   "codemirror_mode": {
    "name": "ipython",
    "version": 3
   },
   "file_extension": ".py",
   "mimetype": "text/x-python",
   "name": "python",
   "nbconvert_exporter": "python",
   "pygments_lexer": "ipython3",
   "version": "3.6.3"
  }
 },
 "nbformat": 4,
 "nbformat_minor": 2
}
