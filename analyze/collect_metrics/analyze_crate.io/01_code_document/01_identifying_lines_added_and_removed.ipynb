{
 "cells": [
  {
   "cell_type": "markdown",
   "metadata": {},
   "source": [
    "# Importing libraries"
   ]
  },
  {
   "cell_type": "code",
   "execution_count": null,
   "metadata": {
    "collapsed": true
   },
   "outputs": [],
   "source": [
    "import os, csv, subprocess, sys, re\n",
    "from git import *\n",
    "from subprocess import Popen, PIPE\n",
    "from os import path\n",
    "import pandas as pd"
   ]
  },
  {
   "cell_type": "markdown",
   "metadata": {},
   "source": [
    "# Defining directories"
   ]
  },
  {
   "cell_type": "code",
   "execution_count": null,
   "metadata": {
    "collapsed": true
   },
   "outputs": [],
   "source": [
    "userhome = os.path.expanduser('~')\n",
    "repository = userhome + r\"/different-diff/dataset/crate.io/\"\n",
    "analyze_dir = userhome + r\"/different-diff/analyze/collect_metrics/analyze_crate.io/\""
   ]
  },
  {
   "cell_type": "markdown",
   "metadata": {},
   "source": [
    "# Defining git command function"
   ]
  },
  {
   "cell_type": "code",
   "execution_count": null,
   "metadata": {
    "collapsed": true
   },
   "outputs": [],
   "source": [
    "def execute_command(cmd, work_dir):\n",
    "    pipe = subprocess.Popen(cmd, shell=True, cwd=work_dir, stdout=subprocess.PIPE, stderr=subprocess.PIPE)\n",
    "    (out, error) = pipe.communicate()\n",
    "    return out, error\n",
    "    pipe.wait()"
   ]
  },
  {
   "cell_type": "code",
   "execution_count": null,
   "metadata": {
    "collapsed": true
   },
   "outputs": [],
   "source": [
    "def execute_shell_command(id1, id2, cmd, work_dir):\n",
    "    #Executes a shell command in a subprocess, waiting until it has completed.\n",
    "    pipe = subprocess.Popen(cmd, shell=True, cwd=work_dir, stdout=subprocess.PIPE, stderr=subprocess.PIPE)\n",
    "    (out, error) = pipe.communicate()\n",
    "    return id1, id2, out, error\n",
    "    pipe.wait()"
   ]
  },
  {
   "cell_type": "markdown",
   "metadata": {},
   "source": [
    "# Extracting commit id"
   ]
  },
  {
   "cell_type": "code",
   "execution_count": null,
   "metadata": {},
   "outputs": [],
   "source": [
    "commit_id = []\n",
    "git_cmd = \"git log --format=%H\"\n",
    "commit_id = str(execute_command(git_cmd, repository)).replace(\"b'\",'').replace('b\"','').replace('(','',1).split(\"\\\\n\")[:-1]\n",
    "commit_id"
   ]
  },
  {
   "cell_type": "markdown",
   "metadata": {},
   "source": [
    "# Applying -w --ignore-blank-lines --diff-algorithm=histogram"
   ]
  },
  {
   "cell_type": "code",
   "execution_count": null,
   "metadata": {},
   "outputs": [],
   "source": [
    "diffhist = []\n",
    "for v in range(0, len(commit_id)-1):\n",
    "    sys.stdout.write('\\rExtracting differences between commits: %i' %(v+1) + ' out of %i' %(len(commit_id)-1))\n",
    "    sys.stdout.flush()\n",
    "\n",
    "    diff_cmd = \"git diff -w --ignore-blank-lines --diff-algorithm=histogram \" + commit_id[v+1] + \" \" + commit_id[v] + \" --numstat\"\n",
    "    tmp = (str(execute_shell_command(commit_id[v] , commit_id[v+1], diff_cmd, repository)).replace(\"(\",'').\n",
    "               replace(\"+\",'').replace(\"\\\\n\",',').replace(\"(+)\",'').replace(\"(-)\",'').replace(\"\\\\t\",',').\n",
    "               replace(\")\",'').replace(\"|\",'').replace(\" \",\"\"))\n",
    "    tmp = re.sub(\"([a-z])\" and \"([ ])\", r\"\\1,\", tmp)\n",
    "    tmp2 = (str(tmp).replace(\",b'\",',').replace(\", \",'').replace(\"\\'\",'').replace(\",,\",''))\n",
    "    diffhist.append([str(tmp2)])\n",
    "    \n",
    "diffhistresult = []\n",
    "for item in diffhist:\n",
    "    if item == ', ':\n",
    "        del item\n",
    "    else:\n",
    "        diffhistresult.append(item)\n",
    "        \n",
    "print (\"\\nExtraction is complete\")"
   ]
  },
  {
   "cell_type": "code",
   "execution_count": null,
   "metadata": {},
   "outputs": [],
   "source": [
    "klhist = []\n",
    "reshist = []\n",
    "for v in range(0,len(diffhistresult)):\n",
    "    for w in range(0,len(diffhistresult[v])):\n",
    "        sys.stdout.write(\"\\rProcessing {}/{}\".format(v+1,len(diffhistresult)))\n",
    "        sys.stdout.flush()\n",
    "        klhist = diffhistresult[v][w].split(',')\n",
    "        reshist.append(klhist)\n",
    "print(\"\\nProcess is complete\")"
   ]
  },
  {
   "cell_type": "code",
   "execution_count": null,
   "metadata": {},
   "outputs": [],
   "source": [
    "with open(analyze_dir + '02_diff-file/diffhist-metrics.csv', 'w') as csvfile:\n",
    "    header = ['commit_id', 'parent_id', '#insertions','#deletions','filename','#line_changed']\n",
    "    writers = csv.writer(csvfile, delimiter=',')\n",
    "    writers.writerow(header)\n",
    "    for m in range(0,len(reshist)):\n",
    "        sys.stdout.write(\"\\rProcessing {}/{}\".format(m+1,len(reshist)))\n",
    "        sys.stdout.flush()\n",
    "        i = 2\n",
    "        j = 3\n",
    "        k = 4\n",
    "        for x in range(0,int((len(reshist[m])-2)/3)):\n",
    "            if (reshist[m][i]) == \"-\":\n",
    "                pass\n",
    "            else:\n",
    "                line_changed = int(reshist[m][i]) + int(reshist[m][j])\n",
    "                try:\n",
    "                    if \"{\" in reshist[m][k]:\n",
    "                        pattern = re.search(('({\\w.*=>|{=>)'), reshist[m][k])\n",
    "                    else:\n",
    "                        pattern = re.search(('(\\w.*=>)'), reshist[m][k])\n",
    "                    pattern = pattern.groups()[0]\n",
    "                    v = [reshist[m][0], reshist[m][1], reshist[m][i], reshist[m][j], reshist[m][k].replace(pattern,\"\").replace(\"}\",\"\"), str(line_changed)]\n",
    "                except:             \n",
    "                    v = [reshist[m][0], reshist[m][1], reshist[m][i], reshist[m][j], reshist[m][k], str(line_changed)]\n",
    "                writers.writerow(v)\n",
    "            i = i + 3\n",
    "            j = j + 3\n",
    "            k = k + 3\n",
    "            \n",
    "print (\"\\nThe file 'diffhist-metrics.csv' has been created\")"
   ]
  },
  {
   "cell_type": "code",
   "execution_count": null,
   "metadata": {
    "scrolled": true
   },
   "outputs": [],
   "source": [
    "df_hist = pd.read_csv(analyze_dir + '02_diff-file/diffhist-metrics.csv', encoding='ISO-8859-1')\n",
    "df_hist"
   ]
  },
  {
   "cell_type": "markdown",
   "metadata": {},
   "source": [
    "# Applying -w --ignore-blank-lines --diff-algorithm=minimal"
   ]
  },
  {
   "cell_type": "code",
   "execution_count": null,
   "metadata": {},
   "outputs": [],
   "source": [
    "diffmin = []\n",
    "for v in range(0, len(commit_id)-1):\n",
    "    sys.stdout.write('\\rExtracting differences between commits: %i' %(v+1) + ' out of %i' %(len(commit_id)-1))\n",
    "    sys.stdout.flush()\n",
    "\n",
    "    diff_cmd = \"git diff -w --ignore-blank-lines --diff-algorithm=minimal \" + commit_id[v+1] + \" \" + commit_id[v] + \" --numstat\"\n",
    "    tmp = (str(execute_shell_command(commit_id[v] , commit_id[v+1], diff_cmd, repository)).replace(\"(\",'').\n",
    "               replace(\"+\",'').replace(\"\\\\n\",',').replace(\"(+)\",'').replace(\"(-)\",'').replace(\"\\\\t\",',').\n",
    "               replace(\")\",'').replace(\"|\",'').replace(\" \",\"\"))\n",
    "    tmp = re.sub(\"([a-z])\" and \"([ ])\", r\"\\1,\", tmp)\n",
    "    tmp2 = (str(tmp).replace(\",b'\",',').replace(\", \",'').replace(\"\\'\",'').replace(\",,\",''))\n",
    "    diffmin.append([str(tmp2)])\n",
    "    \n",
    "diffminresult = []\n",
    "for item in diffmin:\n",
    "    if item == ', ':\n",
    "        del item\n",
    "    else:\n",
    "        diffminresult.append(item)\n",
    "        \n",
    "print (\"\\nExtraction is complete\")"
   ]
  },
  {
   "cell_type": "code",
   "execution_count": null,
   "metadata": {},
   "outputs": [],
   "source": [
    "klmin = []\n",
    "resmin = []\n",
    "for v in range(0,len(diffminresult)):\n",
    "    for w in range(0,len(diffminresult[v])):\n",
    "        sys.stdout.write(\"\\rProcessing {}/{}\".format(v+1,len(diffminresult)))\n",
    "        sys.stdout.flush()\n",
    "        klmin = diffminresult[v][w].split(',')\n",
    "        resmin.append(klmin)\n",
    "print(\"\\nProcess is complete\")"
   ]
  },
  {
   "cell_type": "code",
   "execution_count": null,
   "metadata": {},
   "outputs": [],
   "source": [
    "with open(analyze_dir + '02_diff-file/diffmin-metrics.csv', 'w') as csvfile:\n",
    "    header = ['commit_id', 'parent_id', '#insertions','#deletions','filename','#line_changed']\n",
    "    writers = csv.writer(csvfile, delimiter=',')\n",
    "    writers.writerow(header)\n",
    "    for m in range(0,len(resmin)):\n",
    "        sys.stdout.write(\"\\rProcessing {}/{}\".format(m+1,len(resmin)))\n",
    "        sys.stdout.flush()\n",
    "        i = 2\n",
    "        j = 3\n",
    "        k = 4\n",
    "        for x in range(0,int((len(resmin[m])-2)/3)):\n",
    "            if (resmin[m][i]) == \"-\":\n",
    "                pass\n",
    "            else:\n",
    "                line_changed = int(resmin[m][i]) + int(resmin[m][j])\n",
    "                try:\n",
    "                    if \"{\" in resmin[m][k]:\n",
    "                        pattern = re.search(('({\\w.*=>|{=>)'), resmin[m][k])\n",
    "                    else:\n",
    "                        pattern = re.search(('(\\w.*=>)'), resmin[m][k])\n",
    "                    pattern = pattern.groups()[0]\n",
    "                    v = [resmin[m][0], resmin[m][1], resmin[m][i], resmin[m][j], resmin[m][k].replace(pattern,\"\").replace(\"}\",\"\"), str(line_changed)]\n",
    "                except:             \n",
    "                    v = [resmin[m][0], resmin[m][1], resmin[m][i], resmin[m][j], resmin[m][k], str(line_changed)]\n",
    "                writers.writerow(v)\n",
    "            i = i + 3\n",
    "            j = j + 3\n",
    "            k = k + 3\n",
    "            \n",
    "print (\"\\nThe file 'diffmin-metrics.csv' has been created\")"
   ]
  },
  {
   "cell_type": "code",
   "execution_count": null,
   "metadata": {
    "scrolled": true
   },
   "outputs": [],
   "source": [
    "df_min = pd.read_csv(analyze_dir + '02_diff-file/diffmin-metrics.csv', encoding='ISO-8859-1')\n",
    "df_min"
   ]
  },
  {
   "cell_type": "markdown",
   "metadata": {},
   "source": [
    "# Applying -w --ignore-blank-lines --diff-algorithm=myers"
   ]
  },
  {
   "cell_type": "code",
   "execution_count": null,
   "metadata": {},
   "outputs": [],
   "source": [
    "diffmyers = []\n",
    "for v in range(0, len(commit_id)-1):\n",
    "    sys.stdout.write('\\rExtracting differences between commits: %i' %(v+1) + ' out of %i' %(len(commit_id)-1))\n",
    "    sys.stdout.flush()\n",
    "\n",
    "    diff_cmd = \"git diff -w --ignore-blank-lines --diff-algorithm=myers \" + commit_id[v+1] + \" \" + commit_id[v] + \" --numstat\"\n",
    "    tmp = (str(execute_shell_command(commit_id[v] , commit_id[v+1], diff_cmd, repository)).replace(\"(\",'').\n",
    "               replace(\"+\",'').replace(\"\\\\n\",',').replace(\"(+)\",'').replace(\"(-)\",'').replace(\"\\\\t\",',').\n",
    "               replace(\")\",'').replace(\"|\",'').replace(\" \",\"\"))\n",
    "    tmp = re.sub(\"([a-z])\" and \"([ ])\", r\"\\1,\", tmp)\n",
    "    tmp2 = (str(tmp).replace(\",b'\",',').replace(\", \",'').replace(\"\\'\",'').replace(\",,\",''))\n",
    "    diffmyers.append([str(tmp2)])\n",
    "    \n",
    "diffmyersresult = []\n",
    "for item in diffmyers:\n",
    "    if item == ', ':\n",
    "        del item\n",
    "    else:\n",
    "        diffmyersresult.append(item)\n",
    "        \n",
    "print (\"\\nExtraction is complete\")"
   ]
  },
  {
   "cell_type": "code",
   "execution_count": null,
   "metadata": {},
   "outputs": [],
   "source": [
    "klmyers = []\n",
    "resmyers = []\n",
    "for v in range(0,len(diffmyersresult)):\n",
    "    for w in range(0,len(diffmyersresult[v])):\n",
    "        sys.stdout.write(\"\\rProcessing {}/{}\".format(v+1,len(diffmyersresult)))\n",
    "        sys.stdout.flush()\n",
    "        klmyers = diffmyersresult[v][w].split(',')\n",
    "        resmyers.append(klmyers)\n",
    "print(\"\\nProcess is complete\")"
   ]
  },
  {
   "cell_type": "code",
   "execution_count": null,
   "metadata": {},
   "outputs": [],
   "source": [
    "with open(analyze_dir + '02_diff-file/diffmyers-metrics.csv', 'w') as csvfile:\n",
    "    header = ['commit_id', 'parent_id', '#insertions','#deletions','filename','#line_changed']\n",
    "    writers = csv.writer(csvfile, delimiter=',')\n",
    "    writers.writerow(header)\n",
    "    for m in range(0,len(resmyers)):\n",
    "        sys.stdout.write(\"\\rProcessing {}/{}\".format(m+1,len(resmyers)))\n",
    "        sys.stdout.flush()\n",
    "        i = 2\n",
    "        j = 3\n",
    "        k = 4\n",
    "        for x in range(0,int((len(resmyers[m])-2)/3)):\n",
    "            if (resmyers[m][i]) == \"-\":\n",
    "                pass\n",
    "            else:\n",
    "                line_changed = int(resmyers[m][i]) + int(resmyers[m][j])\n",
    "                try:\n",
    "                    if \"{\" in resmyers[m][k]:\n",
    "                        pattern = re.search(('({\\w.*=>|{=>)'), resmyers[m][k])\n",
    "                    else:\n",
    "                        pattern = re.search(('(\\w.*=>)'), resmyers[m][k])\n",
    "                    pattern = pattern.groups()[0]\n",
    "                    v = [resmyers[m][0], resmyers[m][1], resmyers[m][i], resmyers[m][j], resmyers[m][k].replace(pattern,\"\").replace(\"}\",\"\"), str(line_changed)]\n",
    "                except:             \n",
    "                    v = [resmyers[m][0], resmyers[m][1], resmyers[m][i], resmyers[m][j], resmyers[m][k], str(line_changed)]\n",
    "                writers.writerow(v)\n",
    "            i = i + 3\n",
    "            j = j + 3\n",
    "            k = k + 3\n",
    "            \n",
    "print (\"\\nThe file 'diffmyers-metrics.csv' has been created\")"
   ]
  },
  {
   "cell_type": "code",
   "execution_count": null,
   "metadata": {
    "scrolled": true
   },
   "outputs": [],
   "source": [
    "df_myers = pd.read_csv(analyze_dir + '02_diff-file/diffmyers-metrics.csv', encoding='ISO-8859-1')\n",
    "df_myers"
   ]
  },
  {
   "cell_type": "markdown",
   "metadata": {},
   "source": [
    "# Applying -w --ignore-blank-lines --diff-algorithm=patience"
   ]
  },
  {
   "cell_type": "code",
   "execution_count": null,
   "metadata": {},
   "outputs": [],
   "source": [
    "diffpat = []\n",
    "for v in range(0, len(commit_id)-1):\n",
    "    sys.stdout.write('\\rExtracting differences between commits: %i' %(v+1) + ' out of %i' %(len(commit_id)-1))\n",
    "    sys.stdout.flush()\n",
    "\n",
    "    diff_cmd = \"git diff -w --ignore-blank-lines --diff-algorithm=patience \" + commit_id[v+1] + \" \" + commit_id[v] + \" --numstat\"\n",
    "    tmp = (str(execute_shell_command(commit_id[v] , commit_id[v+1], diff_cmd, repository)).replace(\"(\",'').\n",
    "               replace(\"+\",'').replace(\"\\\\n\",',').replace(\"(+)\",'').replace(\"(-)\",'').replace(\"\\\\t\",',').\n",
    "               replace(\")\",'').replace(\"|\",'').replace(\" \",\"\"))\n",
    "    tmp = re.sub(\"([a-z])\" and \"([ ])\", r\"\\1,\", tmp)\n",
    "    tmp2 = (str(tmp).replace(\",b'\",',').replace(\", \",'').replace(\"\\'\",'').replace(\",,\",''))\n",
    "    diffpat.append([str(tmp2)])\n",
    "    \n",
    "diffpatresult = []\n",
    "for item in diffpat:\n",
    "    if item == ', ':\n",
    "        del item\n",
    "    else:\n",
    "        diffpatresult.append(item)\n",
    "        \n",
    "print (\"\\nExtraction is complete\")"
   ]
  },
  {
   "cell_type": "code",
   "execution_count": null,
   "metadata": {},
   "outputs": [],
   "source": [
    "klpat = []\n",
    "respat = []\n",
    "for v in range(0,len(diffpatresult)):\n",
    "    for w in range(0,len(diffpatresult[v])):\n",
    "        sys.stdout.write(\"\\rProcessing {}/{}\".format(v+1,len(diffpatresult)))\n",
    "        sys.stdout.flush()\n",
    "        klpat = diffpatresult[v][w].split(',')\n",
    "        respat.append(klpat)\n",
    "print(\"\\nProcess is complete\")"
   ]
  },
  {
   "cell_type": "code",
   "execution_count": null,
   "metadata": {},
   "outputs": [],
   "source": [
    "with open(analyze_dir + '02_diff-file/diffpat-metrics.csv', 'w') as csvfile:\n",
    "    header = ['commit_id', 'parent_id', '#insertions','#deletions','filename','#line_changed']\n",
    "    writers = csv.writer(csvfile, delimiter=',')\n",
    "    writers.writerow(header)\n",
    "    for m in range(0,len(respat)):\n",
    "        sys.stdout.write(\"\\rProcessing {}/{}\".format(m+1,len(respat)))\n",
    "        sys.stdout.flush()\n",
    "        i = 2\n",
    "        j = 3\n",
    "        k = 4\n",
    "        for x in range(0,int((len(respat[m])-2)/3)):\n",
    "            if (respat[m][i]) == \"-\":\n",
    "                pass\n",
    "            else:\n",
    "                line_changed = int(respat[m][i]) + int(respat[m][j])\n",
    "                try:\n",
    "                    if \"{\" in respat[m][k]:\n",
    "                        pattern = re.search(('({\\w.*=>|{=>)'), respat[m][k])\n",
    "                    else:\n",
    "                        pattern = re.search(('(\\w.*=>)'), respat[m][k])\n",
    "                    pattern = pattern.groups()[0]\n",
    "                    v = [respat[m][0], respat[m][1], respat[m][i], respat[m][j], respat[m][k].replace(pattern,\"\").replace(\"}\",\"\"), str(line_changed)]\n",
    "                except:             \n",
    "                    v = [respat[m][0], respat[m][1], respat[m][i], respat[m][j], respat[m][k], str(line_changed)]\n",
    "                writers.writerow(v)\n",
    "            i = i + 3\n",
    "            j = j + 3\n",
    "            k = k + 3\n",
    "            \n",
    "print (\"\\nThe file 'diffpat-metrics.csv' has been created\")"
   ]
  },
  {
   "cell_type": "code",
   "execution_count": null,
   "metadata": {
    "scrolled": true
   },
   "outputs": [],
   "source": [
    "df_pat = pd.read_csv(analyze_dir + '02_diff-file/diffpat-metrics.csv', encoding='ISO-8859-1')\n",
    "df_pat"
   ]
  },
  {
   "cell_type": "code",
   "execution_count": null,
   "metadata": {
    "collapsed": true
   },
   "outputs": [],
   "source": []
  }
 ],
 "metadata": {
  "kernelspec": {
   "display_name": "Python 3",
   "language": "python",
   "name": "python3"
  },
  "language_info": {
   "codemirror_mode": {
    "name": "ipython",
    "version": 3
   },
   "file_extension": ".py",
   "mimetype": "text/x-python",
   "name": "python",
   "nbconvert_exporter": "python",
   "pygments_lexer": "ipython3",
   "version": "3.6.3"
  }
 },
 "nbformat": 4,
 "nbformat_minor": 2
}
