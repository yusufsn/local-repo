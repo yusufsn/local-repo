{
 "cells": [
  {
   "cell_type": "code",
   "execution_count": 5,
   "metadata": {
    "collapsed": true
   },
   "outputs": [],
   "source": [
    "from urllib.request import urlopen\n",
    "import urllib.request\n",
    "from pprint import pprint\n",
    "from bs4 import BeautifulSoup"
   ]
  },
  {
   "cell_type": "code",
   "execution_count": 29,
   "metadata": {},
   "outputs": [
    {
     "name": "stdout",
     "output_type": "stream",
     "text": [
      "['Name:', 'John Ruud', 'Messages:', '17', 'Registered:', 'July 2009']\n"
     ]
    }
   ],
   "source": [
    "info = []\n",
    "link = \"https://www.eclipse.org/forums/index.php/m/1770936/\"\n",
    "f = urllib.request.urlopen(link)\n",
    "soup = BeautifulSoup(f, 'html.parser')\n",
    "author = soup.find('td', attrs={'class':'msgud'})\n",
    "# print (author)\n",
    "\n",
    "info.append('Name:')\n",
    "for line in author.stripped_strings:\n",
    "    info.append(line)\n",
    "    \n",
    "print (info)"
   ]
  },
  {
   "cell_type": "code",
   "execution_count": null,
   "metadata": {
    "collapsed": true
   },
   "outputs": [],
   "source": []
  }
 ],
 "metadata": {
  "kernelspec": {
   "display_name": "Python 3",
   "language": "python",
   "name": "python3"
  },
  "language_info": {
   "codemirror_mode": {
    "name": "ipython",
    "version": 3
   },
   "file_extension": ".py",
   "mimetype": "text/x-python",
   "name": "python",
   "nbconvert_exporter": "python",
   "pygments_lexer": "ipython3",
   "version": "3.6.3"
  }
 },
 "nbformat": 4,
 "nbformat_minor": 2
}
